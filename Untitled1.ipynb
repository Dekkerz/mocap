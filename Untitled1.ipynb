{
 "cells": [
  {
   "cell_type": "code",
   "execution_count": 1,
   "id": "e60958aa",
   "metadata": {
    "ExecuteTime": {
     "end_time": "2022-11-30T09:21:30.946700Z",
     "start_time": "2022-11-30T09:21:30.205475Z"
    }
   },
   "outputs": [],
   "source": [
    "import pandas as pd\n",
    "import os"
   ]
  },
  {
   "cell_type": "code",
   "execution_count": 2,
   "id": "ecba17da",
   "metadata": {
    "ExecuteTime": {
     "end_time": "2022-11-30T09:28:16.569038Z",
     "start_time": "2022-11-30T09:21:32.264273Z"
    }
   },
   "outputs": [
    {
     "name": "stdout",
     "output_type": "stream",
     "text": [
      "  % Total    % Received % Xferd  Average Speed   Time    Time     Time  Current\n",
      "                                 Dload  Upload   Total   Spent    Left  Speed\n",
      "100 2058M  100 2058M    0     0  5216k      0  0:06:44  0:06:44 --:--:-- 5931k     0  5422k      0  0:06:28  0:01:17  0:05:11 5021k   0     0  5404k      0  0:06:30  0:01:18  0:05:12 4704k 0:01:29  0:04:57 5492k     0  5269k      0  0:06:40  0:01:54  0:04:46 4084k     0  0:06:34  0:02:11  0:04:23 5985k  0  5258k      0  0:06:40  0:02:18  0:04:22 3356k1381M    0     0  5545k      0  0:06:20  0:04:15  0:02:05 4922k  0     0  5276k      0  0:06:39  0:04:49  0:01:50 3095k73 1503M    0     0  5253k      0  0:06:41  0:04:53  0:01:48 3548k27k      0  0:06:43  0:06:04  0:00:39 4552k  5262k      0  0:06:40  0:06:23  0:00:17 5441k1999M    0     0  5221k      0  0:06:43  0:06:32  0:00:11 3545k\n"
     ]
    }
   ],
   "source": [
    "! curl \"https://www.utwente.nl/en/eemcs/ps/dataset-folder/ut-smoking-data.rar\" > ut-smoking-data.rar"
   ]
  },
  {
   "cell_type": "code",
   "execution_count": null,
   "id": "ede834c1",
   "metadata": {
    "ExecuteTime": {
     "end_time": "2022-11-30T08:59:25.732039Z",
     "start_time": "2022-11-30T08:59:25.727535Z"
    }
   },
   "outputs": [],
   "source": [
    "X_path = os.path.join('UT_Smoking_Data','Participant1_Data.xlsx')"
   ]
  },
  {
   "cell_type": "code",
   "execution_count": null,
   "id": "5002d754",
   "metadata": {
    "ExecuteTime": {
     "end_time": "2022-11-30T08:59:40.130350Z",
     "start_time": "2022-11-30T08:59:36.003776Z"
    }
   },
   "outputs": [],
   "source": [
    "!pip install openpyxl"
   ]
  },
  {
   "cell_type": "code",
   "execution_count": null,
   "id": "e3fdc1c6",
   "metadata": {
    "ExecuteTime": {
     "end_time": "2022-11-30T09:00:02.771903Z",
     "start_time": "2022-11-30T09:00:02.231034Z"
    }
   },
   "outputs": [],
   "source": [
    "data_1=pd.read_excel(X_path, header=None)\n",
    "data_1"
   ]
  },
  {
   "cell_type": "code",
   "execution_count": null,
   "id": "fa020d76",
   "metadata": {},
   "outputs": [],
   "source": []
  }
 ],
 "metadata": {
  "kernelspec": {
   "display_name": "Python 3 (ipykernel)",
   "language": "python",
   "name": "python3"
  },
  "language_info": {
   "codemirror_mode": {
    "name": "ipython",
    "version": 3
   },
   "file_extension": ".py",
   "mimetype": "text/x-python",
   "name": "python",
   "nbconvert_exporter": "python",
   "pygments_lexer": "ipython3",
   "version": "3.10.6"
  },
  "toc": {
   "base_numbering": 1,
   "nav_menu": {},
   "number_sections": true,
   "sideBar": true,
   "skip_h1_title": false,
   "title_cell": "Table of Contents",
   "title_sidebar": "Contents",
   "toc_cell": false,
   "toc_position": {},
   "toc_section_display": true,
   "toc_window_display": false
  }
 },
 "nbformat": 4,
 "nbformat_minor": 5
}
