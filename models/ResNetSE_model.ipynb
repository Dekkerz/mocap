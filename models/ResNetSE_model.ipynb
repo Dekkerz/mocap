{
 "cells": [
  {
   "cell_type": "code",
   "execution_count": 3,
   "id": "00e85c03",
   "metadata": {
    "ExecuteTime": {
     "end_time": "2022-12-05T10:24:44.384113Z",
     "start_time": "2022-12-05T10:24:44.242703Z"
    }
   },
   "outputs": [],
   "source": [
    "%load_ext autoreload\n",
    "%autoreload 2\n",
    "import os\n",
    "import pandas as pd\n",
    "\n",
    "pd.set_option(\"display.max_columns\", None)"
   ]
  },
  {
   "cell_type": "code",
   "execution_count": 4,
   "id": "7e2b0cb5",
   "metadata": {
    "ExecuteTime": {
     "end_time": "2022-12-05T10:31:09.796057Z",
     "start_time": "2022-12-05T10:31:08.983765Z"
    }
   },
   "outputs": [],
   "source": [
    "#libraries \n",
    "import os\n",
    "import pandas as pd\n",
    "import numpy as np\n",
    "import matplotlib.pyplot as plt\n",
    "import datetime\n",
    "import time\n",
    "import pendulum\n",
    "from PIL import Image"
   ]
  },
  {
   "cell_type": "code",
   "execution_count": 13,
   "id": "5c2978e4",
   "metadata": {
    "ExecuteTime": {
     "end_time": "2022-12-05T13:45:52.316401Z",
     "start_time": "2022-12-05T13:45:52.245514Z"
    }
   },
   "outputs": [],
   "source": [
    "from keras.models import Sequential\n",
    "from keras.layers import Dense, Dropout, Flatten, Reshape\n",
    "from keras.layers import Conv2D, MaxPooling2D\n",
    "from keras.utils import np_utils\n",
    "from keras.layers import LSTM\n",
    "from keras.layers import TimeDistributed\n",
    "from keras.layers.convolutional import Conv1D\n",
    "from keras.layers.convolutional import MaxPooling1D\n",
    "from keras.layers import ConvLSTM2D\n",
    "from keras.layers import BatchNormalization\n"
   ]
  },
  {
   "cell_type": "code",
   "execution_count": 58,
   "id": "b838abd2",
   "metadata": {
    "ExecuteTime": {
     "end_time": "2022-12-05T14:07:00.981103Z",
     "start_time": "2022-12-05T14:07:00.898569Z"
    }
   },
   "outputs": [],
   "source": [
    "from keras.layers import Conv2D, GlobalAveragePooling2D"
   ]
  },
  {
   "cell_type": "code",
   "execution_count": 6,
   "id": "7c0eb0be",
   "metadata": {
    "ExecuteTime": {
     "end_time": "2022-12-05T10:34:32.493409Z",
     "start_time": "2022-12-05T10:34:32.013518Z"
    }
   },
   "outputs": [
    {
     "data": {
      "text/html": [
       "<div>\n",
       "<style scoped>\n",
       "    .dataframe tbody tr th:only-of-type {\n",
       "        vertical-align: middle;\n",
       "    }\n",
       "\n",
       "    .dataframe tbody tr th {\n",
       "        vertical-align: top;\n",
       "    }\n",
       "\n",
       "    .dataframe thead th {\n",
       "        text-align: right;\n",
       "    }\n",
       "</style>\n",
       "<table border=\"1\" class=\"dataframe\">\n",
       "  <thead>\n",
       "    <tr style=\"text-align: right;\">\n",
       "      <th></th>\n",
       "      <th>timestamp_WD</th>\n",
       "      <th>Accelerometer_x_WD</th>\n",
       "      <th>Accelerometer_y_WD</th>\n",
       "      <th>Accelerometer_z_WD</th>\n",
       "      <th>Linear_acceleration_sensor_x_WD</th>\n",
       "      <th>Linear_acceleration_sensor_y_WD</th>\n",
       "      <th>Linear_acceleration_sensor_z_WD</th>\n",
       "      <th>Class_label</th>\n",
       "    </tr>\n",
       "  </thead>\n",
       "  <tbody>\n",
       "    <tr>\n",
       "      <th>0</th>\n",
       "      <td>2016-02-12 11:57:51.218000+00:00</td>\n",
       "      <td>-5.973572</td>\n",
       "      <td>-6.710114</td>\n",
       "      <td>2.555145</td>\n",
       "      <td>-0.474457</td>\n",
       "      <td>0.382236</td>\n",
       "      <td>0.345239</td>\n",
       "      <td>SmokeSD</td>\n",
       "    </tr>\n",
       "    <tr>\n",
       "      <th>1</th>\n",
       "      <td>2016-02-12 11:57:51.238000+00:00</td>\n",
       "      <td>-5.980713</td>\n",
       "      <td>-6.838654</td>\n",
       "      <td>2.605133</td>\n",
       "      <td>-0.471420</td>\n",
       "      <td>0.249793</td>\n",
       "      <td>0.383285</td>\n",
       "      <td>SmokeSD</td>\n",
       "    </tr>\n",
       "    <tr>\n",
       "      <th>2</th>\n",
       "      <td>2016-02-12 11:57:51.258000+00:00</td>\n",
       "      <td>-6.025940</td>\n",
       "      <td>-6.895783</td>\n",
       "      <td>2.514679</td>\n",
       "      <td>-0.504273</td>\n",
       "      <td>0.187889</td>\n",
       "      <td>0.285115</td>\n",
       "      <td>SmokeSD</td>\n",
       "    </tr>\n",
       "    <tr>\n",
       "      <th>3</th>\n",
       "      <td>2016-02-12 11:57:51.279000+00:00</td>\n",
       "      <td>-5.956909</td>\n",
       "      <td>-7.031464</td>\n",
       "      <td>2.752716</td>\n",
       "      <td>-0.424346</td>\n",
       "      <td>0.048824</td>\n",
       "      <td>0.503679</td>\n",
       "      <td>SmokeSD</td>\n",
       "    </tr>\n",
       "    <tr>\n",
       "      <th>4</th>\n",
       "      <td>2016-02-12 11:57:51.298000+00:00</td>\n",
       "      <td>-5.959290</td>\n",
       "      <td>-6.900543</td>\n",
       "      <td>2.743195</td>\n",
       "      <td>-0.414628</td>\n",
       "      <td>0.176953</td>\n",
       "      <td>0.475054</td>\n",
       "      <td>SmokeSD</td>\n",
       "    </tr>\n",
       "  </tbody>\n",
       "</table>\n",
       "</div>"
      ],
      "text/plain": [
       "                      timestamp_WD  Accelerometer_x_WD  Accelerometer_y_WD  \\\n",
       "0 2016-02-12 11:57:51.218000+00:00           -5.973572           -6.710114   \n",
       "1 2016-02-12 11:57:51.238000+00:00           -5.980713           -6.838654   \n",
       "2 2016-02-12 11:57:51.258000+00:00           -6.025940           -6.895783   \n",
       "3 2016-02-12 11:57:51.279000+00:00           -5.956909           -7.031464   \n",
       "4 2016-02-12 11:57:51.298000+00:00           -5.959290           -6.900543   \n",
       "\n",
       "   Accelerometer_z_WD  Linear_acceleration_sensor_x_WD  \\\n",
       "0            2.555145                        -0.474457   \n",
       "1            2.605133                        -0.471420   \n",
       "2            2.514679                        -0.504273   \n",
       "3            2.752716                        -0.424346   \n",
       "4            2.743195                        -0.414628   \n",
       "\n",
       "   Linear_acceleration_sensor_y_WD  Linear_acceleration_sensor_z_WD  \\\n",
       "0                         0.382236                         0.345239   \n",
       "1                         0.249793                         0.383285   \n",
       "2                         0.187889                         0.285115   \n",
       "3                         0.048824                         0.503679   \n",
       "4                         0.176953                         0.475054   \n",
       "\n",
       "  Class_label  \n",
       "0     SmokeSD  \n",
       "1     SmokeSD  \n",
       "2     SmokeSD  \n",
       "3     SmokeSD  \n",
       "4     SmokeSD  "
      ]
     },
     "execution_count": 6,
     "metadata": {},
     "output_type": "execute_result"
    }
   ],
   "source": [
    "#load data \n",
    "data = pd.read_pickle('/Users/lmoh/Downloads/UT_Smoking_Data_pickles/Participant1_Data.pickle')\n",
    "data.head()"
   ]
  },
  {
   "cell_type": "code",
   "execution_count": 7,
   "id": "de81643e",
   "metadata": {
    "ExecuteTime": {
     "end_time": "2022-12-05T10:34:51.051831Z",
     "start_time": "2022-12-05T10:34:50.989417Z"
    }
   },
   "outputs": [
    {
     "data": {
      "text/plain": [
       "(904400, 8)"
      ]
     },
     "execution_count": 7,
     "metadata": {},
     "output_type": "execute_result"
    }
   ],
   "source": [
    "data.shape"
   ]
  },
  {
   "cell_type": "code",
   "execution_count": 8,
   "id": "8cf56443",
   "metadata": {
    "ExecuteTime": {
     "end_time": "2022-12-05T10:35:03.665051Z",
     "start_time": "2022-12-05T10:35:03.557063Z"
    }
   },
   "outputs": [
    {
     "data": {
      "text/plain": [
       "array(['SmokeSD', 'SmokeST', 'Eat', 'DrinkSD', 'DrinkST', 'Sit', 'Stand'],\n",
       "      dtype=object)"
      ]
     },
     "execution_count": 8,
     "metadata": {},
     "output_type": "execute_result"
    }
   ],
   "source": [
    "data['Class_label'].unique()"
   ]
  },
  {
   "cell_type": "code",
   "execution_count": null,
   "id": "f98445ea",
   "metadata": {},
   "outputs": [],
   "source": [
    "num_classes = 7\n",
    "time_steps = time_steps\n",
    "input_shape = X_train_res.shape[1:]\n",
    "n_neurons= n_neurons"
   ]
  },
  {
   "cell_type": "code",
   "execution_count": null,
   "id": "a973d759",
   "metadata": {},
   "outputs": [],
   "source": [
    "#Some functions to build a ResNet 34 model, if anyone wants to try it\n"
   ]
  },
  {
   "cell_type": "code",
   "execution_count": null,
   "id": "2369728f",
   "metadata": {},
   "outputs": [],
   "source": [
    "#convolutional block for ResNet function\n",
    "def convolutional_block(x, filter):\n",
    "    # copy tensor to variable called x_skip\n",
    "    x_skip = x\n",
    "    # Layer 1\n",
    "    x = tf.keras.layers.Conv2D(filter, (3,3), padding = 'same', strides = (2,2))(x)\n",
    "    x = tf.keras.layers.BatchNormalization(axis=3)(x)\n",
    "    x = tf.keras.layers.Activation('relu')(x)\n",
    "    # Layer 2\n",
    "    x = tf.keras.layers.Conv2D(filter, (3,3), padding = 'same')(x)\n",
    "    x = tf.keras.layers.BatchNormalization(axis=3)(x)\n",
    "    # Processing Residue with conv(1,1)\n",
    "    x_skip = tf.keras.layers.Conv2D(filter, (1,1), strides = (2,2))(x_skip)\n",
    "    # Add Residue\n",
    "    x = tf.keras.layers.Add()([x, x_skip])     \n",
    "    x = tf.keras.layers.Activation('relu')(x)\n",
    "    return x\n"
   ]
  },
  {
   "cell_type": "code",
   "execution_count": null,
   "id": "520581c1",
   "metadata": {},
   "outputs": [],
   "source": [
    "#ResNet34 model function\n",
    "def ResNet34(shape = (32, 32, 3), classes = 10):\n",
    "    # Step 1 (Setup Input Layer)\n",
    "    x_input = tf.keras.layers.Input(shape)\n",
    "    x = tf.keras.layers.ZeroPadding2D((3, 3))(x_input)\n",
    "    # Step 2 (Initial Conv layer along with maxPool)\n",
    "    x = tf.keras.layers.Conv2D(64, kernel_size=7, strides=2, padding='same')(x)\n",
    "    x = tf.keras.layers.BatchNormalization()(x)\n",
    "    x = tf.keras.layers.Activation('relu')(x)\n",
    "    x = tf.keras.layers.MaxPool2D(pool_size=3, strides=2, padding='same')(x)\n",
    "    # Define size of sub-blocks and initial filter size\n",
    "    block_layers = [3, 4, 6, 3]\n",
    "    filter_size = 64\n",
    "    # Step 3 Add the Resnet Blocks\n",
    "    for i in range(4):\n",
    "        if i == 0:\n",
    "            # For sub-block 1 Residual/Convolutional block not needed\n",
    "            for j in range(block_layers[i]):\n",
    "                x = identity_block(x, filter_size)\n",
    "        else:\n",
    "            # One Residual/Convolutional Block followed by Identity blocks\n",
    "            # The filter size will go on increasing by a factor of 2\n",
    "            filter_size = filter_size*2\n",
    "            x = convolutional_block(x, filter_size)\n",
    "            for j in range(block_layers[i] - 1):\n",
    "                x = identity_block(x, filter_size)\n",
    "    # Step 4 End Dense Network\n",
    "    x = tf.keras.layers.AveragePooling2D((2,2), padding = 'same')(x)\n",
    "    x = tf.keras.layers.Flatten()(x)\n",
    "    x = tf.keras.layers.Dense(512, activation = 'relu')(x)\n",
    "    x = tf.keras.layers.Dense(classes, activation = 'softmax')(x)\n",
    "    model = tf.keras.models.Model(inputs = x_input, outputs = x, name = \"ResNet34\")\n",
    "    return model"
   ]
  },
  {
   "cell_type": "code",
   "execution_count": null,
   "id": "33fe0ac9",
   "metadata": {},
   "outputs": [],
   "source": [
    "#pretrained transfer learning models from keras\n",
    "#ResNet50\n",
    "resnet_model = Sequential()\n",
    "pretrained_model = tf.keras.applications.ResNet50(\n",
    "    include_top=True,\n",
    "    weights=\"imagenet\",\n",
    "    input_tensor=None,\n",
    "    input_shape=None,\n",
    "    pooling=None,\n",
    "    classes=7,\n",
    "    **kwargs\n",
    ")\n",
    "#making sure the already trained model doesn't train some more uselessly/ simplifies fitting process later\n",
    "for layer in pretrained_model.layers: \n",
    "    layer.trainable = False \n",
    "#adding the pretrained model to own model   \n",
    "resnet_model.add(pretrained_model)\n",
    "resnet_model.add(Flatten())\n",
    "resnet_model.add(Dense(64), activation='relu')\n",
    "resnet_model.add(Dense(5), activation='softmax')"
   ]
  },
  {
   "cell_type": "code",
   "execution_count": null,
   "id": "bfb6932f",
   "metadata": {},
   "outputs": [],
   "source": [
    "#ResNet 101V2\n",
    "resnet_model100 = Sequential()\n",
    "pretrained_model100 = tf.keras.applications.ResNet101V2(\n",
    "    include_top=True,\n",
    "    weights=\"imagenet\",\n",
    "    input_tensor=None,\n",
    "    input_shape=None,\n",
    "    pooling=None,\n",
    "    classes=7,\n",
    "    classifier_activation=\"softmax\",\n",
    ")\n",
    "#making sure the already trained model doesn't train some more uselessly/ simplifies fitting process later\n",
    "for layer in pretrained_model.layers: \n",
    "    layer.trainable = False \n",
    "#adding the pretrained model to own model   \n",
    "resnet_model.add(pretrained_model)\n",
    "resnet_model.add(Flatten())\n",
    "resnet_model.add(Dense(64), activation='relu')\n",
    "resnet_model.add(Dense(5), activation='softmax')"
   ]
  },
  {
   "cell_type": "code",
   "execution_count": 102,
   "id": "f5b04f5f",
   "metadata": {
    "ExecuteTime": {
     "end_time": "2022-12-05T15:10:08.403411Z",
     "start_time": "2022-12-05T15:10:08.254134Z"
    }
   },
   "outputs": [],
   "source": [
    "from tensorflow.keras.layers import Layer, Activation, Add\n",
    "from tensorflow.keras.models import Model\n",
    "import tensorflow as tf"
   ]
  },
  {
   "cell_type": "code",
   "execution_count": 98,
   "id": "4ad7ae22",
   "metadata": {
    "ExecuteTime": {
     "end_time": "2022-12-05T15:09:16.409586Z",
     "start_time": "2022-12-05T15:09:16.325353Z"
    }
   },
   "outputs": [],
   "source": [
    "#Coding ResNet from scratch, as seen in the paper \n",
    "class ResNet18(Model):\n",
    "    def __init__(self,):\n",
    "        super(ResNet18, self).__init__(name = 'resnet_18')\n",
    "        \n",
    "        #conv layer\n",
    "        self.conv_1 = CustomConv2D(64, 7, 2, padding='same')\n",
    "        self.batch_norm = BatchNormalization(axis=3)\n",
    "        self.max_pool = MaxPooling2D((3, 2))\n",
    "        \n",
    "        #Res layers\n",
    "        self.conv_2_1 = ResidualBlock(64, 2)\n",
    "        self.conv_2_2 = ResidualBlock(64)\n",
    "        \n",
    "        self.conv_3_1 = ResidualBlock(128, 2)\n",
    "        self.conv_3_2 = ResidualBlock(128)\n",
    "        \n",
    "        self.conv_4_1 = ResidualBlock(256, 2)\n",
    "        self.conv_4_2 = ResidualBlock(256)\n",
    "        \n",
    "        self.conv_5_1 = ResidualBlock(512, 2)\n",
    "        self.conv_5_2 = ResidualBlock(512)\n",
    "        \n",
    "        #Global average pooling / Flatten / Dense / Output layer \n",
    "        \n",
    "        self.global_pool = GlobalAveragePooling2D()\n",
    "        self.flatten = Flatten()\n",
    "        self.dense_32 = Dense(32, activation='relu')\n",
    "        self.dense_7 = Dense(7, activation='softmax')\n",
    "        \n",
    "    def call(self, x): \n",
    "        #conv layer\n",
    "        x = self.conv_1(x)\n",
    "        x = self.batch_norm(x)\n",
    "        x = self.max_pool(x)\n",
    "        \n",
    "        #res layers\n",
    "        x = self.conv_2_1(x)\n",
    "        x = self.conv_2_2(x)\n",
    "        \n",
    "        x = self.conv_3_1(x)\n",
    "        x = self.conv_3_2(x)\n",
    "        \n",
    "        x = self.conv_4_1(x)\n",
    "        x = self.conv_4_2(x)\n",
    "        \n",
    "        x = self.conv_5_1(x)\n",
    "        x = self.conv_5_2(x)\n",
    "        \n",
    "        #output shenanigans \n",
    "        x = self.global_pool(x)\n",
    "        x = self.flatten(x)\n",
    "        x = self.dense_32(x)\n",
    "        \n",
    "        return self.dense_7          "
   ]
  },
  {
   "cell_type": "code",
   "execution_count": 97,
   "id": "94ef4620",
   "metadata": {
    "ExecuteTime": {
     "end_time": "2022-12-05T15:09:13.756138Z",
     "start_time": "2022-12-05T15:09:13.662581Z"
    }
   },
   "outputs": [],
   "source": [
    " class ResidualBlock(Layer):\n",
    "        def __init__(self, n_channels, n_strides=1):\n",
    "            super(ResidualBlock, self).__init__(name = 'res block')\n",
    "            \n",
    "            self.dotted = (n_strides != 1)\n",
    "            \n",
    "            self.custom_conv_1= CustomConv2D(n_channels, 3, n_strides, padding=\"same\")\n",
    "            self.batch_norm1 = BatchNormalization(axis=3)\n",
    "            self.custom_conv_2= CustomConv2D(n_channels, 3, 1, padding=\"same\")\n",
    "            self.batch_norm2 = BatchNormalization(axis=3)\n",
    "            \n",
    "            self.activation = Activation('relu')\n",
    "            if self.dotted:\n",
    "                self.custom_conv_3 = CustomConv2D(n_channels, 1, n_strides)\n",
    "            #reminder to add Squeeze and Excitation block (?)\n",
    "        \n",
    "        def call(self, input):\n",
    "            x = self.custom_conv_1(input)\n",
    "            x = self.batch_norm1(x)\n",
    "            x = self.custom_conv_2(x)\n",
    "            x = self.batch_norm2(x)\n",
    "            \n",
    "            if self.dotted:\n",
    "                x_add = self.custom_conv_3(input)\n",
    "                x_add = Add()([x, x_add])\n",
    "            else: \n",
    "                    x_add = Add()([x, input])\n",
    "                    \n",
    "            return self.activation(x_add)\n",
    "    \n",
    "            "
   ]
  },
  {
   "cell_type": "code",
   "execution_count": 96,
   "id": "60cc7ca5",
   "metadata": {
    "ExecuteTime": {
     "end_time": "2022-12-05T15:09:10.022796Z",
     "start_time": "2022-12-05T15:09:09.831774Z"
    }
   },
   "outputs": [],
   "source": [
    "#run this cell first\n",
    "class CustomConv2D(Layer):\n",
    "    def __init__(self, n_filters, kernel_size, n_strides, padding=\"same\"):\n",
    "        super(CustomConv2D, self).__init__(name = 'custom_conv2d')\n",
    "        self.conv = Conv2D(filters = n_filters,\n",
    "                           kernel_size = kernel_size,\n",
    "                           activation='relu', \n",
    "                           strides=n_strides, \n",
    "                           padding=padding)\n",
    "            \n",
    "            #self.batch_norm = BatchNormalization()\n",
    "        \n",
    "    def call(self, x, training):\n",
    "        x = self.conv(x)\n",
    "       #x = self.batch_norm(x)\n",
    "            \n",
    "        return x"
   ]
  },
  {
   "cell_type": "code",
   "execution_count": 103,
   "id": "63ebfc51",
   "metadata": {
    "ExecuteTime": {
     "end_time": "2022-12-05T15:10:15.518258Z",
     "start_time": "2022-12-05T15:10:14.247638Z"
    }
   },
   "outputs": [
    {
     "name": "stdout",
     "output_type": "stream",
     "text": [
      "Model: \"resnet_18\"\n",
      "_________________________________________________________________\n",
      " Layer (type)                Output Shape              Param #   \n",
      "=================================================================\n",
      " custom_conv2d (CustomConv2D  multiple                 9472      \n",
      " )                                                               \n",
      "                                                                 \n",
      " batch_normalization_51 (Bat  multiple                 256       \n",
      " chNormalization)                                                \n",
      "                                                                 \n",
      " max_pooling2d_33 (MaxPoolin  multiple                 0         \n",
      " g2D)                                                            \n",
      "                                                                 \n",
      " res block (ResidualBlock)   multiple                  78528     \n",
      "                                                                 \n",
      " res block (ResidualBlock)   multiple                  74368     \n",
      "                                                                 \n",
      " res block (ResidualBlock)   multiple                  230784    \n",
      "                                                                 \n",
      " res block (ResidualBlock)   multiple                  296192    \n",
      "                                                                 \n",
      " res block (ResidualBlock)   multiple                  920320    \n",
      "                                                                 \n",
      " res block (ResidualBlock)   multiple                  1182208   \n",
      "                                                                 \n",
      " res block (ResidualBlock)   multiple                  3675648   \n",
      "                                                                 \n",
      " res block (ResidualBlock)   multiple                  4723712   \n",
      "                                                                 \n",
      " global_average_pooling2d_19  multiple                 0         \n",
      "  (GlobalAveragePooling2D)                                       \n",
      "                                                                 \n",
      " flatten_19 (Flatten)        multiple                  0         \n",
      "                                                                 \n",
      " dense_36 (Dense)            multiple                  16416     \n",
      "                                                                 \n",
      " dense_37 (Dense)            multiple                  0 (unused)\n",
      "                                                                 \n",
      "=================================================================\n",
      "Total params: 11,207,904\n",
      "Trainable params: 11,200,096\n",
      "Non-trainable params: 7,808\n",
      "_________________________________________________________________\n"
     ]
    }
   ],
   "source": [
    "resnet_18 = ResNet18()\n",
    "resnet_18(tf.zeros([1, 256, 256, 3]))\n",
    "resnet_18.summary()"
   ]
  },
  {
   "cell_type": "code",
   "execution_count": 70,
   "id": "2336f914",
   "metadata": {
    "ExecuteTime": {
     "end_time": "2022-12-05T14:08:12.362624Z",
     "start_time": "2022-12-05T14:08:12.307683Z"
    }
   },
   "outputs": [],
   "source": [
    "#segmentation function\n",
    "\n",
    "def create_segments_and_labels(df, time_steps, step, label):\n",
    "\n",
    "    # x, y, z acceleration as features\n",
    "    n_features = 3\n",
    "    # Each generated sequence contains 200 training examples\n",
    "    segments = []\n",
    "    labels = []\n",
    "    for i in range(0, len(df) - time_steps, step):\n",
    "        xs = df['Accelerometer_x_WD'].values[i: i + time_steps]\n",
    "        ys = df['Accelerometer_y_WD'].values[i: i + time_steps]\n",
    "        zs = df['Accelerometer_z_WD'].values[i: i + time_steps]\n",
    "        # Retrieve the most often used label in each segment\n",
    "        label = stats.mode(df['Class_label'][i: i + time_steps])[0][0]\n",
    "        segments.append([xs, ys, zs])\n",
    "        labels.append(label)\n",
    "\n",
    "    # Bring the segments into a better shape\n",
    "    reshaped_segments = np.asarray(segments, dtype= np.float32).reshape(-1, time_steps, n_features)\n",
    "    labels =np.asarray(pd.get_dummies(labels), dtype = np.float32)\n",
    "\n",
    "    return reshaped_segments, labels\n"
   ]
  },
  {
   "cell_type": "code",
   "execution_count": null,
   "id": "485c1cba",
   "metadata": {},
   "outputs": [],
   "source": [
    "#creating X and y\n",
    "create_segments_and_labels(data, )\n"
   ]
  }
 ],
 "metadata": {
  "kernelspec": {
   "display_name": "Python 3 (ipykernel)",
   "language": "python",
   "name": "python3"
  },
  "language_info": {
   "codemirror_mode": {
    "name": "ipython",
    "version": 3
   },
   "file_extension": ".py",
   "mimetype": "text/x-python",
   "name": "python",
   "nbconvert_exporter": "python",
   "pygments_lexer": "ipython3",
   "version": "3.10.6"
  },
  "toc": {
   "base_numbering": 1,
   "nav_menu": {},
   "number_sections": true,
   "sideBar": true,
   "skip_h1_title": false,
   "title_cell": "Table of Contents",
   "title_sidebar": "Contents",
   "toc_cell": false,
   "toc_position": {},
   "toc_section_display": true,
   "toc_window_display": false
  }
 },
 "nbformat": 4,
 "nbformat_minor": 5
}
