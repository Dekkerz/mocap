{
 "cells": [
  {
   "cell_type": "code",
   "execution_count": 1,
   "id": "b3baab8b",
   "metadata": {
    "ExecuteTime": {
     "end_time": "2022-12-09T11:13:33.428929Z",
     "start_time": "2022-12-09T11:13:30.344391Z"
    }
   },
   "outputs": [],
   "source": [
    "import os\n",
    "import sys\n",
    "\n",
    "import pandas as pd\n",
    "import numpy as np\n",
    "import matplotlib.pyplot as plt\n",
    "import datetime\n",
    "import time\n",
    "import pendulum\n",
    "from PIL import Image\n",
    "import pickle"
   ]
  },
  {
   "cell_type": "code",
   "execution_count": 2,
   "id": "c0f7462a",
   "metadata": {
    "ExecuteTime": {
     "end_time": "2022-12-09T11:13:51.583609Z",
     "start_time": "2022-12-09T11:13:37.768323Z"
    }
   },
   "outputs": [],
   "source": [
    "from keras.models import Sequential, Model\n",
    "from keras.layers import Dense, Dropout, Flatten, Reshape, Layer, Activation, GlobalAveragePooling2D, Add, GlobalAveragePooling2D\n",
    "from keras.layers import Conv2D, MaxPooling2D \n",
    "from keras.utils import np_utils\n",
    "from keras.layers import LSTM\n",
    "from keras.layers import TimeDistributed\n",
    "from keras.layers.convolutional import Conv1D\n",
    "from keras.layers.convolutional import MaxPooling1D\n",
    "from keras.layers import ConvLSTM2D\n",
    "from keras.layers import BatchNormalization"
   ]
  },
  {
   "cell_type": "code",
   "execution_count": 3,
   "id": "3d058572",
   "metadata": {
    "ExecuteTime": {
     "end_time": "2022-12-09T11:14:03.173675Z",
     "start_time": "2022-12-09T11:14:01.008443Z"
    }
   },
   "outputs": [],
   "source": [
    "from sklearn.preprocessing import LabelBinarizer\n",
    "from sklearn.model_selection import train_test_split\n",
    "\n",
    "from sklearn.metrics import classification_report\n",
    "from sklearn import metrics\n",
    "\n",
    "from tensorflow import keras\n",
    "import keras.backend as K\n",
    "\n",
    "from tensorflow.keras import layers, models, Sequential\n",
    "from tensorflow.keras.optimizers import Adam\n",
    "from tensorflow.keras.layers import Normalization, Input\n",
    "\n",
    "from tensorflow.keras.callbacks import EarlyStopping\n",
    "from tensorflow.keras.optimizers.schedules import ExponentialDecay\n",
    "\n",
    "from tensorflow.keras.layers import Dense, Flatten, Masking, Dropout\n",
    "from tensorflow.keras.layers import GRU, LSTM, TimeDistributed\n",
    "from tensorflow.keras.preprocessing.sequence import pad_sequences\n",
    "\n",
    "from tensorflow.keras.utils import to_categorical\n",
    "\n",
    "from tensorflow.keras.metrics import Recall, Precision\n",
    "\n",
    "from keras.layers.convolutional import Conv1D, MaxPooling1D, Conv2D, MaxPooling2D"
   ]
  },
  {
   "cell_type": "code",
   "execution_count": 4,
   "id": "0a820702",
   "metadata": {
    "ExecuteTime": {
     "end_time": "2022-12-09T11:14:12.560036Z",
     "start_time": "2022-12-09T11:14:12.552221Z"
    }
   },
   "outputs": [],
   "source": [
    "class CustomConv2D(Layer):\n",
    "    def __init__(self, n_filters, kernel_size, n_strides, padding=\"same\", **kwargs):\n",
    "        super(CustomConv2D, self).__init__()\n",
    "        self.conv = Conv2D(filters = n_filters,\n",
    "                           kernel_size = kernel_size,\n",
    "                           activation='relu', \n",
    "                           strides=n_strides, \n",
    "                           padding=padding)\n",
    "            \n",
    "            #self.batch_norm = BatchNormalization()\n",
    "        \n",
    "    def call(self, x):\n",
    "        x = self.conv(x)\n",
    "       #x = self.batch_norm(x)\n",
    "            \n",
    "        return x"
   ]
  },
  {
   "cell_type": "code",
   "execution_count": 5,
   "id": "1a9097fb",
   "metadata": {
    "ExecuteTime": {
     "end_time": "2022-12-09T11:14:21.275461Z",
     "start_time": "2022-12-09T11:14:21.265744Z"
    }
   },
   "outputs": [],
   "source": [
    "class ResidualBlock(Layer):\n",
    "        def __init__(self, n_channels, n_strides=1):\n",
    "            super(ResidualBlock, self).__init__() \n",
    "            \n",
    "            self.dotted = (n_strides != 1)\n",
    "            \n",
    "            self.custom_conv_1= CustomConv2D(n_channels, 3, n_strides, padding=\"same\")\n",
    "            self.batch_norm1 = BatchNormalization(axis=3)\n",
    "            self.custom_conv_2= CustomConv2D(n_channels, 3, 1, padding=\"same\")\n",
    "            self.batch_norm2 = BatchNormalization(axis=3)\n",
    "            \n",
    "            self.activation = Activation('relu')\n",
    "            if self.dotted:\n",
    "                self.custom_conv_3 = CustomConv2D(n_channels, 1, n_strides)\n",
    "            \n",
    "        \n",
    "        def call(self, input):\n",
    "            x = self.custom_conv_1(input)\n",
    "            x = self.batch_norm1(x)\n",
    "            x = self.custom_conv_2(x)\n",
    "            x = self.batch_norm2(x)\n",
    "            \n",
    "            if self.dotted:\n",
    "                x_add = self.custom_conv_3(input)\n",
    "                x_add = Add()([x, x_add])\n",
    "            else: \n",
    "                    x_add = Add()([x, input])\n",
    "                    \n",
    "            return self.activation(x_add)\n",
    "    \n",
    "            "
   ]
  },
  {
   "cell_type": "code",
   "execution_count": 6,
   "id": "02f12022",
   "metadata": {
    "ExecuteTime": {
     "end_time": "2022-12-09T11:14:31.099884Z",
     "start_time": "2022-12-09T11:14:31.085012Z"
    }
   },
   "outputs": [],
   "source": [
    "#Coding ResNet from scratch, as seen in the paper \n",
    "class ResNet18(Model):\n",
    "    def __init__(self, **kwargs):\n",
    "        super(ResNet18, self).__init__()\n",
    "        \n",
    "        #conv layer\n",
    "        self.conv_1 = CustomConv2D(64, 7, 2, padding='same')\n",
    "        self.batch_norm = BatchNormalization(axis=3)\n",
    "        self.max_pool = MaxPooling2D((4, 2))\n",
    "        \n",
    "        #Res layers\n",
    "        self.conv_2_1 = ResidualBlock(64, 2)\n",
    "        self.conv_2_2 = ResidualBlock(64)\n",
    "        \n",
    "        self.conv_3_1 = ResidualBlock(128, 2)\n",
    "        self.conv_3_2 = ResidualBlock(128)\n",
    "        \n",
    "        self.conv_4_1 = ResidualBlock(256, 2)\n",
    "        self.conv_4_2 = ResidualBlock(256)\n",
    "        \n",
    "        self.conv_5_1 = ResidualBlock(512, 2)\n",
    "        self.conv_5_2 = ResidualBlock(512)\n",
    "        \n",
    "        #Global average pooling / Flatten / Dense / Output layer \n",
    "        \n",
    "        self.global_pool = GlobalAveragePooling2D()\n",
    "        self.flatten = Flatten()\n",
    "        self.dense_32 = Dense(32,activation='relu')\n",
    "        self.dense_7 = Dense(7, activation='softmax')\n",
    "        \n",
    "    def call(self, x): \n",
    "        #conv layer\n",
    "        x = self.conv_1(x)\n",
    "        x = self.batch_norm(x)\n",
    "        x = self.max_pool(x)\n",
    "        \n",
    "        #res layers\n",
    "        x = self.conv_2_1(x)\n",
    "        x = self.conv_2_2(x)\n",
    "        \n",
    "        x = self.conv_3_1(x)\n",
    "        x = self.conv_3_2(x)\n",
    "        \n",
    "        x = self.conv_4_1(x)\n",
    "        x = self.conv_4_2(x)\n",
    "        \n",
    "        x = self.conv_5_1(x)\n",
    "        x = self.conv_5_2(x)\n",
    "        \n",
    "        #output shenanigans \n",
    "        x = self.global_pool(x)\n",
    "        x = self.flatten(x)\n",
    "        x = self.dense_32(x)\n",
    "        \n",
    "        \n",
    "        return self.dense_7(x)"
   ]
  },
  {
   "cell_type": "code",
   "execution_count": 7,
   "id": "40e12e95",
   "metadata": {
    "ExecuteTime": {
     "end_time": "2022-12-09T11:14:41.525511Z",
     "start_time": "2022-12-09T11:14:40.992184Z"
    }
   },
   "outputs": [],
   "source": [
    "model = ResNet18()"
   ]
  },
  {
   "cell_type": "code",
   "execution_count": 8,
   "id": "79270341",
   "metadata": {
    "ExecuteTime": {
     "end_time": "2022-12-09T11:14:46.895373Z",
     "start_time": "2022-12-09T11:14:46.860692Z"
    }
   },
   "outputs": [],
   "source": [
    "model.compile(loss='categorical_crossentropy', optimizer='adam', metrics=['accuracy'])"
   ]
  },
  {
   "cell_type": "code",
   "execution_count": null,
   "id": "ae43836b",
   "metadata": {},
   "outputs": [],
   "source": []
  }
 ],
 "metadata": {
  "kernelspec": {
   "display_name": "Python 3 (ipykernel)",
   "language": "python",
   "name": "python3"
  },
  "language_info": {
   "codemirror_mode": {
    "name": "ipython",
    "version": 3
   },
   "file_extension": ".py",
   "mimetype": "text/x-python",
   "name": "python",
   "nbconvert_exporter": "python",
   "pygments_lexer": "ipython3",
   "version": "3.10.6"
  },
  "toc": {
   "base_numbering": 1,
   "nav_menu": {},
   "number_sections": true,
   "sideBar": true,
   "skip_h1_title": false,
   "title_cell": "Table of Contents",
   "title_sidebar": "Contents",
   "toc_cell": false,
   "toc_position": {},
   "toc_section_display": true,
   "toc_window_display": false
  }
 },
 "nbformat": 4,
 "nbformat_minor": 5
}
