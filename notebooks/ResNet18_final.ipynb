{
 "cells": [
  {
   "cell_type": "markdown",
   "id": "2fafa86e",
   "metadata": {},
   "source": [
    "# Trained and tested ResNet18"
   ]
  },
  {
   "cell_type": "code",
   "execution_count": 1,
   "id": "edbcbb1b",
   "metadata": {
    "ExecuteTime": {
     "end_time": "2022-12-07T14:35:07.936273Z",
     "start_time": "2022-12-07T14:35:07.931142Z"
    }
   },
   "outputs": [],
   "source": [
    "## Libraries "
   ]
  },
  {
   "cell_type": "code",
   "execution_count": 38,
   "id": "02b109dd",
   "metadata": {
    "ExecuteTime": {
     "end_time": "2022-12-07T15:40:26.122104Z",
     "start_time": "2022-12-07T15:40:26.071866Z"
    }
   },
   "outputs": [],
   "source": [
    "import os\n",
    "import sys\n",
    "\n",
    "import pandas as pd\n",
    "import numpy as np\n",
    "import matplotlib.pyplot as plt\n",
    "import datetime\n",
    "import time\n",
    "import pendulum\n",
    "from PIL import Image\n",
    "import pickle"
   ]
  },
  {
   "cell_type": "code",
   "execution_count": 39,
   "id": "f25f1611",
   "metadata": {
    "ExecuteTime": {
     "end_time": "2022-12-07T15:40:26.624458Z",
     "start_time": "2022-12-07T15:40:26.616997Z"
    }
   },
   "outputs": [],
   "source": [
    "from keras.models import Sequential, Model\n",
    "from keras.layers import Dense, Dropout, Flatten, Reshape, Layer, Activation, GlobalAveragePooling2D, Add, GlobalAveragePooling2D\n",
    "from keras.layers import Conv2D, MaxPooling2D \n",
    "from keras.utils import np_utils\n",
    "from keras.layers import LSTM\n",
    "from keras.layers import TimeDistributed\n",
    "from keras.layers.convolutional import Conv1D\n",
    "from keras.layers.convolutional import MaxPooling1D\n",
    "from keras.layers import ConvLSTM2D\n",
    "from keras.layers import BatchNormalization"
   ]
  },
  {
   "cell_type": "code",
   "execution_count": 40,
   "id": "ec0a74f3",
   "metadata": {
    "ExecuteTime": {
     "end_time": "2022-12-07T15:40:27.300326Z",
     "start_time": "2022-12-07T15:40:27.280926Z"
    }
   },
   "outputs": [],
   "source": [
    "import seaborn as sns\n",
    "# Default seaborn look and feel\n",
    "sns.set() \n",
    "plt.style.use('ggplot')\n",
    "\n",
    "try:\n",
    "  import google.colab\n",
    "  from google.colab import drive, files\n",
    "  runnin_in_colab = True\n",
    "except:\n",
    "  runnin_in_colab = False\n",
    "\n",
    "import warnings\n",
    "warnings.filterwarnings('ignore')\n",
    "\n",
    "pd.set_option(\"display.max_columns\", None)\n",
    "\n",
    "xls_dir=\"UT_Smoking_Data\"\n",
    "pickles_dir=\"UT_Smoking_Data_pickles\"\n",
    "x_dir=\"UT_Smoking_Data_x\"\n",
    "local_full_path=\"/Users/lmoh/code/Dekkerz/mocap/notebooks\"\n",
    "\n",
    "categ_colname='Class_label'\n",
    "ts_field='timestamp_WD' "
   ]
  },
  {
   "cell_type": "code",
   "execution_count": 41,
   "id": "c7f2c9f8",
   "metadata": {
    "ExecuteTime": {
     "end_time": "2022-12-07T15:40:28.006420Z",
     "start_time": "2022-12-07T15:40:27.998857Z"
    }
   },
   "outputs": [
    {
     "data": {
      "text/plain": [
       "'/Users/lmoh/code/Dekkerz/mocap/notebooks'"
      ]
     },
     "execution_count": 41,
     "metadata": {},
     "output_type": "execute_result"
    }
   ],
   "source": [
    "pwd"
   ]
  },
  {
   "cell_type": "code",
   "execution_count": 42,
   "id": "635ad5a9",
   "metadata": {
    "ExecuteTime": {
     "end_time": "2022-12-07T15:40:28.607314Z",
     "start_time": "2022-12-07T15:40:28.593492Z"
    }
   },
   "outputs": [],
   "source": [
    "##ok, it's ime to make X, y from a whole dataset...\n",
    "\n",
    "drop_dups=True\n",
    "drop_dups_str=\"_no_dups\" if drop_dups else \"\"\n",
    "\n",
    "sampling=50  #sampling rate\n",
    "win_len=20   #wind size in secs\n",
    "\n",
    "#overlap will add 2nd pass moving init windsow position...\n",
    "#seems to add only 3% to prec/recall...\n",
    "\n",
    "overlap=True \n",
    "overlap_len=(win_len-10)*sampling  #n secs overlap, dont make it neg !\n",
    "                                  #here on overap pass we start nead the end of 1st frame\n",
    "    \n",
    "overlap_str=\"_with_overlap\" if overlap else \"\"\n",
    "\n",
    "feature_set=\"accel\" # \"accel\" or \"accel+gyro\"\n",
    "\n",
    "ignore_dudes = [ \"Participant10\" ]\n",
    "\n",
    "adjusted=1\n",
    "adjusted_str=\"_sensor_adjusted\" if adjusted != 1 else \"\"\n",
    "    \n",
    "sensors=[ 'Linear_acceleration_sensor_x_WD', \n",
    "          'Linear_acceleration_sensor_y_WD', \n",
    "          'Linear_acceleration_sensor_z_WD'] \n",
    "\n",
    "sensors_weights={ \"Linear_acceleration_sensor_x_WD\": 1.0 * adjusted, \n",
    "                  \"Linear_acceleration_sensor_y_WD\": 1.0 * adjusted, \n",
    "                  \"Linear_acceleration_sensor_z_WD\": 1.0 }\n",
    "    \n",
    "# our rgb-likes & sensor weights\n",
    "if feature_set == \"accel+gyro\" : \n",
    "    \n",
    "  sensors.extend(['Gyroscope_x_PD', \n",
    "                  'Gyroscope_y_PD', \n",
    "                  'Gyroscope_z_PD'])\n",
    "  sensors_weights.update({ \"Gyroscope_x_PD\": 1.0, \n",
    "                           \"Gyroscope_y_PD\": 1.0, \n",
    "                           \"Gyroscope_z_PD\": 1.0 * adjusted })\n",
    "    \n",
    "tot_frame_len=sampling*win_len\n",
    "n_sensors=len(sensors)\n",
    "\n",
    "#prefer to hardcode expected act_types here...\n",
    "\n",
    "act_types=[ 'DrinkSD', 'DrinkST', 'Eat', 'Sit', 'SmokeSD', 'SmokeST', 'Stand' ]\n",
    "n_act_types=len(act_types)\n",
    "  \n",
    "remap_acts=False\n",
    "if remap_acts:\n",
    "  act_types_mapping={ 'drink' : [ 'DrinkSD', 'DrinkST' ],  \n",
    "                      'smoke' : [ 'SmokeSD', 'SmokeST' ],  \n",
    "                      'static': [ 'Sit',     'Stand'   ],\n",
    "                      'eat'   : [ 'Eat'  ] \n",
    "                    }\n",
    "  \n",
    "id_str=str(len(sensors)) + \"apple_sensors_\" + str(win_len) + \"_win\" + overlap_str+drop_dups_str+adjusted_str"
   ]
  },
  {
   "cell_type": "code",
   "execution_count": null,
   "id": "b00f5e7e",
   "metadata": {},
   "outputs": [],
   "source": []
  },
  {
   "cell_type": "code",
   "execution_count": 43,
   "id": "04cdbbd0",
   "metadata": {
    "ExecuteTime": {
     "end_time": "2022-12-07T15:40:32.150138Z",
     "start_time": "2022-12-07T15:40:31.130827Z"
    }
   },
   "outputs": [
    {
     "name": "stdout",
     "output_type": "stream",
     "text": [
      "loaded x of len 10 ok from UT_Smoking_Data_x/x_3apple_sensors_20_win_with_overlap_no_dups_secs.dump\n",
      "sampling: 50, win_len: 20, overlap True, overlap_len 500\n",
      "participants: Participant11_Data.pickle, Participant1_Data.pickle, Participant2_Data.pickle, Participant3_Data.pickle, Participant4_Data.pickle, Participant5_Data.pickle, Participant6_Data.pickle, Participant7_Data.pickle, Participant8_Data.pickle, Participant9_Data.pickle\n"
     ]
    }
   ],
   "source": [
    "save_2picke = False \n",
    "load_from_pickle=True\n",
    "\n",
    "x_obj_fname=x_dir + \"/\" + \"x_\" + id_str + \"_secs.dump\"\n",
    "\n",
    "if save_2picke : \n",
    "  x_to_save={\"sampling\"   : sampling,  \"window\"          : win_len,  \n",
    "             \"overlap\"    : overlap,   \"overlap_len\"     : overlap_len,\n",
    "             \"sensors\"    : sensors,   \"sensors_weights\" : sensors_weights, \n",
    "             \"drop_dups\"  : drop_dups,\n",
    "             \"activities\" : act_types, \"participants\" : participants,               \n",
    "             \"x\": X_act_data }\n",
    "  \n",
    "  X_act_data_file = open(x_obj_fname, 'wb')\n",
    "  pickle.dump(x_to_save, X_act_data_file)\n",
    "  X_act_data_file.close()\n",
    "  print(\"saved  x to {}\".format(x_obj_fname))\n",
    "\n",
    "if load_from_pickle :\n",
    "  if os.path.exists(x_obj_fname) :\n",
    "    try:\n",
    "       X_act_data_file = open(x_obj_fname, 'rb')\n",
    "       x_to_save = pickle.load(X_act_data_file) \n",
    "        \n",
    "       X_act_data    = x_to_save[\"x\"]\n",
    "       _sampling     = x_to_save[\"sampling\"]     if \"sampling\"      in x_to_save else \"undefined\"\n",
    "       _win_len      = x_to_save[\"window\"]       if \"window\"        in x_to_save else \"undefined\"    \n",
    "       _overlap      = x_to_save[\"overlap\"]      if \"overlap\"       in x_to_save else \"undefined\"\n",
    "       _overlap_len  = x_to_save[\"overlap_len\"]  if \"overlap_len\"   in x_to_save else \"undefined\"    \n",
    "       _activities   = x_to_save[\"activities\"]   if \"activities\"    in x_to_save else [ \"undefined\" ]\n",
    "       _participants = x_to_save[\"participants\"] if \"participants\"  in x_to_save else [ \"undefined\" ]\n",
    "       X_act_data_file.close()\n",
    "    \n",
    "       print(\"loaded x of len {} ok from {}\".format(len(X_act_data), x_obj_fname))\n",
    "       print(\"sampling: {}, win_len: {}, overlap {}, overlap_len {}\".format(_sampling, _win_len, _overlap, _overlap_len))\n",
    "       print(\"participants: {}\".format(\", \".join(_participants)))\n",
    "        \n",
    "       if _sampling        != \"undefined\": sampling=_sampling\n",
    "       if _win_len         != \"undefined\": win_len=_win_len\n",
    "       if _overlap         != \"undefined\": overlap=_overlap\n",
    "       if _overlap_len     != \"undefined\": overlap_len=_overlap_len\n",
    "        \n",
    "       if _participants[0] != \"undefined\": participants=_participants\n",
    "       if _activities[0]   != \"undefined\": act_types=_activities\n",
    "    except : \n",
    "       print(\"snafu.. on loading from {}\".format(x_obj_fname))\n",
    "    \n",
    "  else:\n",
    "     print(\"no such file: {}\".format(x_obj_fname))"
   ]
  },
  {
   "cell_type": "code",
   "execution_count": 44,
   "id": "4011d8b4",
   "metadata": {
    "ExecuteTime": {
     "end_time": "2022-12-07T15:40:34.434919Z",
     "start_time": "2022-12-07T15:40:34.428006Z"
    }
   },
   "outputs": [
    {
     "name": "stdout",
     "output_type": "stream",
     "text": [
      "n parts: 10, n categs: 7\n"
     ]
    }
   ],
   "source": [
    "print(\"n parts: {}, n categs: {}\".format(len(X_act_data), len(X_act_data[0])))"
   ]
  },
  {
   "cell_type": "code",
   "execution_count": 45,
   "id": "c9f3281d",
   "metadata": {
    "ExecuteTime": {
     "end_time": "2022-12-07T15:40:37.559614Z",
     "start_time": "2022-12-07T15:40:36.535874Z"
    }
   },
   "outputs": [],
   "source": [
    "mtype=\"Conv1D\" #cnn, rnn, conv_rnn\n",
    "\n",
    "do_padding=False\n",
    "    \n",
    "X=[]; y=[]                        \n",
    "\n",
    "for n_patient in range(1, len(X_act_data)):  \n",
    "  x_patient_data=X_act_data[n_patient-1]\n",
    "  for act_type in x_patient_data:\n",
    "    activity_data=x_patient_data[act_type]\n",
    "    for window_idx in range(0, len(activity_data)):\n",
    "      X.append(np.asarray(activity_data[window_idx]))  \n",
    "      if remap_acts :\n",
    "        for  k, v in act_types_mapping.items():\n",
    "          if act_type in v :  act_type=k; break \n",
    "      y.append(act_type)      \n",
    "\n",
    "if remap_acts: \n",
    "    act_types = act_types_mapping.keys()\n",
    "    print(\"remapped activities to {}\".format(\", \".join(act_types)))    \n",
    "    \n",
    "if mtype == \"GRU\" and do_padding :\n",
    "    try:\n",
    "      X_pad = pad_sequences(X, padding='post', value = -1, maxlen=tot_frame_len)    \n",
    "      print(\"shape in: {}\".format(str(X_pad.shape))) \n",
    "      X=X_pad\n",
    "    except :\n",
    "      print(\"bad day... (or nite...)\")"
   ]
  },
  {
   "cell_type": "code",
   "execution_count": 46,
   "id": "2291f907",
   "metadata": {
    "ExecuteTime": {
     "end_time": "2022-12-07T15:40:42.933001Z",
     "start_time": "2022-12-07T15:40:42.916259Z"
    }
   },
   "outputs": [],
   "source": [
    "from sklearn.preprocessing import LabelBinarizer\n",
    "from sklearn.model_selection import train_test_split\n",
    "\n",
    "from sklearn.metrics import classification_report\n",
    "from sklearn import metrics\n",
    "\n",
    "from tensorflow import keras\n",
    "import keras.backend as K\n",
    "\n",
    "from tensorflow.keras import layers, models, Sequential\n",
    "from tensorflow.keras.optimizers import Adam\n",
    "from tensorflow.keras.layers import Normalization, Input\n",
    "\n",
    "from tensorflow.keras.callbacks import EarlyStopping\n",
    "from tensorflow.keras.optimizers.schedules import ExponentialDecay\n",
    "\n",
    "from tensorflow.keras.layers import Dense, Flatten, Masking, Dropout\n",
    "from tensorflow.keras.layers import GRU, LSTM, TimeDistributed\n",
    "from tensorflow.keras.preprocessing.sequence import pad_sequences\n",
    "\n",
    "from tensorflow.keras.utils import to_categorical\n",
    "\n",
    "from tensorflow.keras.metrics import Recall, Precision\n",
    "\n",
    "from keras.layers.convolutional import Conv1D, MaxPooling1D, Conv2D, MaxPooling2D"
   ]
  },
  {
   "cell_type": "code",
   "execution_count": 47,
   "id": "3a976a99",
   "metadata": {
    "ExecuteTime": {
     "end_time": "2022-12-07T15:40:45.025801Z",
     "start_time": "2022-12-07T15:40:44.746630Z"
    }
   },
   "outputs": [
    {
     "name": "stdout",
     "output_type": "stream",
     "text": [
      "mtype Conv1D..\n",
      "reshaping..\n",
      "shape for mode Conv1D: X: (9667, 20, 50, 3), y: (9667, 7)\n"
     ]
    }
   ],
   "source": [
    "encoder = LabelBinarizer()\n",
    "y_ohe= encoder.fit_transform(y)\n",
    "\n",
    "print(\"mtype {}..\".format(mtype))\n",
    "X_np=np.asarray(X)\n",
    "if mtype == \"Conv2D\" or mtype == \"Conv1D\" : \n",
    "  print(\"reshaping..\")\n",
    "  X_np=X_np.reshape(len(X_np), win_len, sampling, n_sensors)  \n",
    "    \n",
    "print(\"shape for mode {}: X: {}, y: {}\".format(mtype, str(X_np.shape), str(y_ohe.shape)))"
   ]
  },
  {
   "cell_type": "code",
   "execution_count": 48,
   "id": "8545b9df",
   "metadata": {
    "ExecuteTime": {
     "end_time": "2022-12-07T15:40:46.616876Z",
     "start_time": "2022-12-07T15:40:46.603531Z"
    }
   },
   "outputs": [
    {
     "data": {
      "text/plain": [
       "(9667, 20, 50, 3)"
      ]
     },
     "execution_count": 48,
     "metadata": {},
     "output_type": "execute_result"
    }
   ],
   "source": [
    "X_np.shape"
   ]
  },
  {
   "cell_type": "code",
   "execution_count": 51,
   "id": "8bf4eeb9",
   "metadata": {
    "ExecuteTime": {
     "end_time": "2022-12-07T15:41:13.959246Z",
     "start_time": "2022-12-07T15:41:13.767238Z"
    }
   },
   "outputs": [],
   "source": [
    "do_shuffle=True\n",
    "X_train, X_test, y_train, y_test = train_test_split(X_np, y_ohe, test_size = 0.3, random_state = 1, shuffle=do_shuffle)\n",
    "#X_train, X_val, y_train, y_val = train_test_split(X_train, y_train, test_size = 0.5, \n",
    "                                                    #random_state = 1, shuffle=do_shuffle)\n"
   ]
  },
  {
   "cell_type": "markdown",
   "id": "5f1028b5",
   "metadata": {},
   "source": [
    "## Model"
   ]
  },
  {
   "cell_type": "code",
   "execution_count": 52,
   "id": "08fc2140",
   "metadata": {
    "ExecuteTime": {
     "end_time": "2022-12-07T15:41:31.547992Z",
     "start_time": "2022-12-07T15:41:31.534515Z"
    }
   },
   "outputs": [],
   "source": [
    "class CustomConv2D(Layer):\n",
    "    def __init__(self, n_filters, kernel_size, n_strides, padding=\"same\", **kwargs):\n",
    "        super(CustomConv2D, self).__init__()\n",
    "        self.conv = Conv2D(filters = n_filters,\n",
    "                           kernel_size = kernel_size,\n",
    "                           activation='relu', \n",
    "                           strides=n_strides, \n",
    "                           padding=padding)\n",
    "            \n",
    "            #self.batch_norm = BatchNormalization()\n",
    "        \n",
    "    def call(self, x):\n",
    "        x = self.conv(x)\n",
    "       #x = self.batch_norm(x)\n",
    "            \n",
    "        return x"
   ]
  },
  {
   "cell_type": "code",
   "execution_count": 53,
   "id": "77fb2727",
   "metadata": {
    "ExecuteTime": {
     "end_time": "2022-12-07T15:41:32.090900Z",
     "start_time": "2022-12-07T15:41:32.078869Z"
    }
   },
   "outputs": [],
   "source": [
    "class ResidualBlock(Layer):\n",
    "        def __init__(self, n_channels, n_strides=1):\n",
    "            super(ResidualBlock, self).__init__() \n",
    "            \n",
    "            self.dotted = (n_strides != 1)\n",
    "            \n",
    "            self.custom_conv_1= CustomConv2D(n_channels, 3, n_strides, padding=\"same\")\n",
    "            self.batch_norm1 = BatchNormalization(axis=3)\n",
    "            self.custom_conv_2= CustomConv2D(n_channels, 3, 1, padding=\"same\")\n",
    "            self.batch_norm2 = BatchNormalization(axis=3)\n",
    "            \n",
    "            self.activation = Activation('relu')\n",
    "            if self.dotted:\n",
    "                self.custom_conv_3 = CustomConv2D(n_channels, 1, n_strides)\n",
    "            \n",
    "        \n",
    "        def call(self, input):\n",
    "            x = self.custom_conv_1(input)\n",
    "            x = self.batch_norm1(x)\n",
    "            x = self.custom_conv_2(x)\n",
    "            x = self.batch_norm2(x)\n",
    "            \n",
    "            if self.dotted:\n",
    "                x_add = self.custom_conv_3(input)\n",
    "                x_add = Add()([x, x_add])\n",
    "            else: \n",
    "                    x_add = Add()([x, input])\n",
    "                    \n",
    "            return self.activation(x_add)\n",
    "    \n",
    "            "
   ]
  },
  {
   "cell_type": "code",
   "execution_count": 54,
   "id": "7cbdd7e9",
   "metadata": {
    "ExecuteTime": {
     "end_time": "2022-12-07T15:41:32.740567Z",
     "start_time": "2022-12-07T15:41:32.721204Z"
    }
   },
   "outputs": [],
   "source": [
    "#Coding ResNet from scratch, as seen in the paper \n",
    "class ResNet18(Model):\n",
    "    def __init__(self, **kwargs):\n",
    "        super(ResNet18, self).__init__()\n",
    "        \n",
    "        #conv layer\n",
    "        self.conv_1 = CustomConv2D(64, 7, 2, padding='same')\n",
    "        self.batch_norm = BatchNormalization(axis=3)\n",
    "        self.max_pool = MaxPooling2D((4, 2))\n",
    "        \n",
    "        #Res layers\n",
    "        self.conv_2_1 = ResidualBlock(64, 2)\n",
    "        self.conv_2_2 = ResidualBlock(64)\n",
    "        \n",
    "        self.conv_3_1 = ResidualBlock(128, 2)\n",
    "        self.conv_3_2 = ResidualBlock(128)\n",
    "        \n",
    "        self.conv_4_1 = ResidualBlock(256, 2)\n",
    "        self.conv_4_2 = ResidualBlock(256)\n",
    "        \n",
    "        self.conv_5_1 = ResidualBlock(512, 2)\n",
    "        self.conv_5_2 = ResidualBlock(512)\n",
    "        \n",
    "        #Global average pooling / Flatten / Dense / Output layer \n",
    "        \n",
    "        self.global_pool = GlobalAveragePooling2D()\n",
    "        self.flatten = Flatten()\n",
    "        self.dense_32 = Dense(32,activation='relu')\n",
    "        self.dense_7 = Dense(7, activation='softmax')\n",
    "        \n",
    "    def call(self, x): \n",
    "        #conv layer\n",
    "        x = self.conv_1(x)\n",
    "        x = self.batch_norm(x)\n",
    "        x = self.max_pool(x)\n",
    "        \n",
    "        #res layers\n",
    "        x = self.conv_2_1(x)\n",
    "        x = self.conv_2_2(x)\n",
    "        \n",
    "        x = self.conv_3_1(x)\n",
    "        x = self.conv_3_2(x)\n",
    "        \n",
    "        x = self.conv_4_1(x)\n",
    "        x = self.conv_4_2(x)\n",
    "        \n",
    "        x = self.conv_5_1(x)\n",
    "        x = self.conv_5_2(x)\n",
    "        \n",
    "        #output shenanigans \n",
    "        x = self.global_pool(x)\n",
    "        x = self.flatten(x)\n",
    "        x = self.dense_32(x)\n",
    "        \n",
    "        \n",
    "        return self.dense_7(x)"
   ]
  },
  {
   "cell_type": "code",
   "execution_count": 55,
   "id": "0081b246",
   "metadata": {
    "ExecuteTime": {
     "end_time": "2022-12-07T15:41:33.966594Z",
     "start_time": "2022-12-07T15:41:33.730509Z"
    }
   },
   "outputs": [],
   "source": [
    "model = ResNet18()"
   ]
  },
  {
   "cell_type": "code",
   "execution_count": 56,
   "id": "2c4c90de",
   "metadata": {
    "ExecuteTime": {
     "end_time": "2022-12-07T15:41:34.367325Z",
     "start_time": "2022-12-07T15:41:34.328047Z"
    }
   },
   "outputs": [],
   "source": [
    "model.compile(loss='categorical_crossentropy', optimizer='adam', metrics=['accuracy'])"
   ]
  },
  {
   "cell_type": "code",
   "execution_count": null,
   "id": "be2846a2",
   "metadata": {},
   "outputs": [],
   "source": []
  },
  {
   "cell_type": "code",
   "execution_count": 59,
   "id": "41172c27",
   "metadata": {
    "ExecuteTime": {
     "end_time": "2022-12-07T16:50:12.430008Z",
     "start_time": "2022-12-07T15:46:43.401638Z"
    }
   },
   "outputs": [
    {
     "name": "stdout",
     "output_type": "stream",
     "text": [
      "Epoch 1/20\n",
      "303/303 [==============================] - 184s 608ms/step - loss: 1.1961 - accuracy: 0.5334\n",
      "Epoch 2/20\n",
      "303/303 [==============================] - 189s 624ms/step - loss: 1.0504 - accuracy: 0.5951\n",
      "Epoch 3/20\n",
      "303/303 [==============================] - 178s 589ms/step - loss: 0.9483 - accuracy: 0.6431\n",
      "Epoch 4/20\n",
      "303/303 [==============================] - 183s 604ms/step - loss: 0.8395 - accuracy: 0.6878\n",
      "Epoch 5/20\n",
      "303/303 [==============================] - 188s 619ms/step - loss: 0.7479 - accuracy: 0.7204\n",
      "Epoch 6/20\n",
      "303/303 [==============================] - 165s 543ms/step - loss: 0.7812 - accuracy: 0.7114\n",
      "Epoch 7/20\n",
      "303/303 [==============================] - 159s 526ms/step - loss: 0.6671 - accuracy: 0.7580\n",
      "Epoch 8/20\n",
      "303/303 [==============================] - 147s 487ms/step - loss: 0.6447 - accuracy: 0.7636\n",
      "Epoch 9/20\n",
      "303/303 [==============================] - 151s 497ms/step - loss: 0.7170 - accuracy: 0.7489\n",
      "Epoch 10/20\n",
      "303/303 [==============================] - 158s 520ms/step - loss: 0.6928 - accuracy: 0.7503\n",
      "Epoch 11/20\n",
      "303/303 [==============================] - 148s 487ms/step - loss: 0.5607 - accuracy: 0.8029\n",
      "Epoch 12/20\n",
      "303/303 [==============================] - 160s 528ms/step - loss: 0.5217 - accuracy: 0.8131\n",
      "Epoch 13/20\n",
      "303/303 [==============================] - 153s 506ms/step - loss: 0.4705 - accuracy: 0.8317\n",
      "Epoch 14/20\n",
      "303/303 [==============================] - 169s 557ms/step - loss: 0.4386 - accuracy: 0.8429\n",
      "Epoch 15/20\n",
      "303/303 [==============================] - 161s 532ms/step - loss: 0.4467 - accuracy: 0.8411\n",
      "Epoch 16/20\n",
      "303/303 [==============================] - 157s 518ms/step - loss: 0.4481 - accuracy: 0.8420\n",
      "Epoch 17/20\n",
      "303/303 [==============================] - 179s 592ms/step - loss: 0.3757 - accuracy: 0.8672\n",
      "Epoch 18/20\n",
      "303/303 [==============================] - 236s 780ms/step - loss: 0.3804 - accuracy: 0.8669\n",
      "Epoch 19/20\n",
      "303/303 [==============================] - 308s 1s/step - loss: 0.3507 - accuracy: 0.8742\n",
      "Epoch 20/20\n",
      "303/303 [==============================] - 435s 1s/step - loss: 0.3212 - accuracy: 0.8908\n"
     ]
    },
    {
     "data": {
      "text/plain": [
       "<keras.callbacks.History at 0x131010af0>"
      ]
     },
     "execution_count": 59,
     "metadata": {},
     "output_type": "execute_result"
    }
   ],
   "source": [
    "#fittingggg\n",
    "model.fit(X_np, y_ohe, epochs=20)"
   ]
  },
  {
   "cell_type": "code",
   "execution_count": null,
   "id": "09348d03",
   "metadata": {
    "ExecuteTime": {
     "end_time": "2022-12-07T15:45:05.882859Z",
     "start_time": "2022-12-07T15:45:05.882823Z"
    }
   },
   "outputs": [],
   "source": [
    "#evaluationnnn"
   ]
  },
  {
   "cell_type": "code",
   "execution_count": null,
   "id": "ea0b7dc6",
   "metadata": {},
   "outputs": [],
   "source": []
  },
  {
   "cell_type": "code",
   "execution_count": null,
   "id": "6f99a791",
   "metadata": {},
   "outputs": [],
   "source": []
  },
  {
   "cell_type": "code",
   "execution_count": null,
   "id": "15ef339c",
   "metadata": {},
   "outputs": [],
   "source": []
  },
  {
   "cell_type": "code",
   "execution_count": null,
   "id": "cd3d0731",
   "metadata": {},
   "outputs": [],
   "source": [
    "res = model.evaluate(X_test, y_test)\n",
    "\n",
    "print(model.metrics_names)\n",
    "loss=res[0]\n",
    "recall=res[1]\n",
    "precision=res[2]\n",
    "prc=res[3]\n",
    "print(\"{}, {}, {}, {}\".format(res[0], res[1], res[2], res[3]))"
   ]
  },
  {
   "cell_type": "code",
   "execution_count": 61,
   "id": "b8328f07",
   "metadata": {
    "ExecuteTime": {
     "end_time": "2022-12-07T16:50:38.921375Z",
     "start_time": "2022-12-07T16:50:38.375147Z"
    }
   },
   "outputs": [
    {
     "name": "stdout",
     "output_type": "stream",
     "text": [
      "-rw-r--r--  1 lmoh  staff  375 Dec  5 10:41 setup.py\r\n"
     ]
    }
   ],
   "source": [
    "#the jsonnnnssss\n",
    "#loading new data\n",
    "os.chdir('/Users/lmoh/code/Dekkerz/mocap')\n",
    "!ls -ltr setup.py"
   ]
  },
  {
   "cell_type": "code",
   "execution_count": 62,
   "id": "6fc7a653",
   "metadata": {
    "ExecuteTime": {
     "end_time": "2022-12-07T16:50:39.688055Z",
     "start_time": "2022-12-07T16:50:39.654656Z"
    }
   },
   "outputs": [
    {
     "data": {
      "text/plain": [
       "'/Users/lmoh/code/Dekkerz/mocap'"
      ]
     },
     "execution_count": 62,
     "metadata": {},
     "output_type": "execute_result"
    }
   ],
   "source": [
    "pwd"
   ]
  },
  {
   "cell_type": "code",
   "execution_count": 63,
   "id": "942bba7a",
   "metadata": {
    "ExecuteTime": {
     "end_time": "2022-12-07T16:51:33.012899Z",
     "start_time": "2022-12-07T16:50:40.680675Z"
    }
   },
   "outputs": [
    {
     "name": "stdout",
     "output_type": "stream",
     "text": [
      "Requirement already satisfied: psutil in /Users/lmoh/.pyenv/versions/3.10.6/envs/mocap/lib/python3.10/site-packages (5.9.4)\n",
      "Requirement already satisfied: colorama in /Users/lmoh/.pyenv/versions/3.10.6/envs/mocap/lib/python3.10/site-packages (0.4.6)\n",
      "Obtaining file:///Users/lmoh/code/Dekkerz/mocap\n",
      "  Preparing metadata (setup.py) ... \u001b[?25ldone\n",
      "\u001b[?25hRequirement already satisfied: pip>=22.2.1 in /Users/lmoh/.pyenv/versions/3.10.6/envs/mocap/lib/python3.10/site-packages (from mocap==0.0.2) (22.3.1)\n",
      "Requirement already satisfied: numpy in /Users/lmoh/.pyenv/versions/3.10.6/envs/mocap/lib/python3.10/site-packages (from mocap==0.0.2) (1.23.5)\n",
      "Requirement already satisfied: pandas in /Users/lmoh/.pyenv/versions/3.10.6/envs/mocap/lib/python3.10/site-packages (from mocap==0.0.2) (1.5.2)\n",
      "Requirement already satisfied: scikit-learn in /Users/lmoh/.pyenv/versions/3.10.6/envs/mocap/lib/python3.10/site-packages (from mocap==0.0.2) (1.1.3)\n",
      "Requirement already satisfied: jupyter in /Users/lmoh/.pyenv/versions/3.10.6/envs/mocap/lib/python3.10/site-packages (from mocap==0.0.2) (1.0.0)\n",
      "Requirement already satisfied: matplotlib in /Users/lmoh/.pyenv/versions/3.10.6/envs/mocap/lib/python3.10/site-packages (from mocap==0.0.2) (3.6.2)\n",
      "Requirement already satisfied: tensorflow in /Users/lmoh/.pyenv/versions/3.10.6/envs/mocap/lib/python3.10/site-packages (from mocap==0.0.2) (2.11.0)\n",
      "Requirement already satisfied: keras in /Users/lmoh/.pyenv/versions/3.10.6/envs/mocap/lib/python3.10/site-packages (from mocap==0.0.2) (2.11.0)\n",
      "Requirement already satisfied: pytest in /Users/lmoh/.pyenv/versions/3.10.6/envs/mocap/lib/python3.10/site-packages (from mocap==0.0.2) (7.2.0)\n",
      "Requirement already satisfied: pylint in /Users/lmoh/.pyenv/versions/3.10.6/envs/mocap/lib/python3.10/site-packages (from mocap==0.0.2) (2.15.6)\n",
      "Requirement already satisfied: gcsfs in /Users/lmoh/.pyenv/versions/3.10.6/envs/mocap/lib/python3.10/site-packages (from mocap==0.0.2) (2022.11.0)\n",
      "Requirement already satisfied: google-cloud-storage in /Users/lmoh/.pyenv/versions/3.10.6/envs/mocap/lib/python3.10/site-packages (from mocap==0.0.2) (2.7.0)\n",
      "Requirement already satisfied: mlflow in /Users/lmoh/.pyenv/versions/3.10.6/envs/mocap/lib/python3.10/site-packages (from mocap==0.0.2) (2.0.1)\n",
      "Requirement already satisfied: termcolor in /Users/lmoh/.pyenv/versions/3.10.6/envs/mocap/lib/python3.10/site-packages (from mocap==0.0.2) (2.1.1)\n",
      "Requirement already satisfied: colorama in /Users/lmoh/.pyenv/versions/3.10.6/envs/mocap/lib/python3.10/site-packages (from mocap==0.0.2) (0.4.6)\n",
      "Requirement already satisfied: decorator>4.1.2 in /Users/lmoh/.pyenv/versions/3.10.6/envs/mocap/lib/python3.10/site-packages (from gcsfs->mocap==0.0.2) (5.1.1)\n",
      "Requirement already satisfied: aiohttp!=4.0.0a0,!=4.0.0a1 in /Users/lmoh/.pyenv/versions/3.10.6/envs/mocap/lib/python3.10/site-packages (from gcsfs->mocap==0.0.2) (3.8.3)\n",
      "Requirement already satisfied: google-auth>=1.2 in /Users/lmoh/.pyenv/versions/3.10.6/envs/mocap/lib/python3.10/site-packages (from gcsfs->mocap==0.0.2) (2.14.1)\n",
      "Requirement already satisfied: fsspec==2022.11.0 in /Users/lmoh/.pyenv/versions/3.10.6/envs/mocap/lib/python3.10/site-packages (from gcsfs->mocap==0.0.2) (2022.11.0)\n",
      "Requirement already satisfied: requests in /Users/lmoh/.pyenv/versions/3.10.6/envs/mocap/lib/python3.10/site-packages (from gcsfs->mocap==0.0.2) (2.28.1)\n",
      "Requirement already satisfied: google-auth-oauthlib in /Users/lmoh/.pyenv/versions/3.10.6/envs/mocap/lib/python3.10/site-packages (from gcsfs->mocap==0.0.2) (0.4.6)\n",
      "Requirement already satisfied: google-resumable-media>=2.3.2 in /Users/lmoh/.pyenv/versions/3.10.6/envs/mocap/lib/python3.10/site-packages (from google-cloud-storage->mocap==0.0.2) (2.4.0)\n",
      "Requirement already satisfied: google-cloud-core<3.0dev,>=2.3.0 in /Users/lmoh/.pyenv/versions/3.10.6/envs/mocap/lib/python3.10/site-packages (from google-cloud-storage->mocap==0.0.2) (2.3.2)\n",
      "Requirement already satisfied: google-api-core!=2.0.*,!=2.1.*,!=2.2.*,!=2.3.0,<3.0.0dev,>=1.31.5 in /Users/lmoh/.pyenv/versions/3.10.6/envs/mocap/lib/python3.10/site-packages (from google-cloud-storage->mocap==0.0.2) (2.11.0)\n",
      "Requirement already satisfied: nbconvert in /Users/lmoh/.pyenv/versions/3.10.6/envs/mocap/lib/python3.10/site-packages (from jupyter->mocap==0.0.2) (7.2.5)\n",
      "Requirement already satisfied: ipywidgets in /Users/lmoh/.pyenv/versions/3.10.6/envs/mocap/lib/python3.10/site-packages (from jupyter->mocap==0.0.2) (8.0.2)\n",
      "Requirement already satisfied: ipykernel in /Users/lmoh/.pyenv/versions/3.10.6/envs/mocap/lib/python3.10/site-packages (from jupyter->mocap==0.0.2) (6.18.1)\n",
      "Requirement already satisfied: notebook in /Users/lmoh/.pyenv/versions/3.10.6/envs/mocap/lib/python3.10/site-packages (from jupyter->mocap==0.0.2) (6.5.2)\n",
      "Requirement already satisfied: jupyter-console in /Users/lmoh/.pyenv/versions/3.10.6/envs/mocap/lib/python3.10/site-packages (from jupyter->mocap==0.0.2) (6.4.4)\n",
      "Requirement already satisfied: qtconsole in /Users/lmoh/.pyenv/versions/3.10.6/envs/mocap/lib/python3.10/site-packages (from jupyter->mocap==0.0.2) (5.4.0)\n",
      "Requirement already satisfied: cycler>=0.10 in /Users/lmoh/.pyenv/versions/3.10.6/envs/mocap/lib/python3.10/site-packages (from matplotlib->mocap==0.0.2) (0.11.0)\n",
      "Requirement already satisfied: fonttools>=4.22.0 in /Users/lmoh/.pyenv/versions/3.10.6/envs/mocap/lib/python3.10/site-packages (from matplotlib->mocap==0.0.2) (4.38.0)\n",
      "Requirement already satisfied: kiwisolver>=1.0.1 in /Users/lmoh/.pyenv/versions/3.10.6/envs/mocap/lib/python3.10/site-packages (from matplotlib->mocap==0.0.2) (1.4.4)\n",
      "Requirement already satisfied: packaging>=20.0 in /Users/lmoh/.pyenv/versions/3.10.6/envs/mocap/lib/python3.10/site-packages (from matplotlib->mocap==0.0.2) (21.3)\n",
      "Requirement already satisfied: contourpy>=1.0.1 in /Users/lmoh/.pyenv/versions/3.10.6/envs/mocap/lib/python3.10/site-packages (from matplotlib->mocap==0.0.2) (1.0.6)\n",
      "Requirement already satisfied: pyparsing>=2.2.1 in /Users/lmoh/.pyenv/versions/3.10.6/envs/mocap/lib/python3.10/site-packages (from matplotlib->mocap==0.0.2) (3.0.9)\n",
      "Requirement already satisfied: python-dateutil>=2.7 in /Users/lmoh/.pyenv/versions/3.10.6/envs/mocap/lib/python3.10/site-packages (from matplotlib->mocap==0.0.2) (2.8.2)\n",
      "Requirement already satisfied: pillow>=6.2.0 in /Users/lmoh/.pyenv/versions/3.10.6/envs/mocap/lib/python3.10/site-packages (from matplotlib->mocap==0.0.2) (9.3.0)\n",
      "Requirement already satisfied: importlib-metadata!=4.7.0,<6,>=3.7.0 in /Users/lmoh/.pyenv/versions/3.10.6/envs/mocap/lib/python3.10/site-packages (from mlflow->mocap==0.0.2) (5.1.0)\n",
      "Requirement already satisfied: click<9,>=7.0 in /Users/lmoh/.pyenv/versions/3.10.6/envs/mocap/lib/python3.10/site-packages (from mlflow->mocap==0.0.2) (8.1.3)\n",
      "Requirement already satisfied: docker<7,>=4.0.0 in /Users/lmoh/.pyenv/versions/3.10.6/envs/mocap/lib/python3.10/site-packages (from mlflow->mocap==0.0.2) (6.0.1)\n",
      "Requirement already satisfied: pytz<2023 in /Users/lmoh/.pyenv/versions/3.10.6/envs/mocap/lib/python3.10/site-packages (from mlflow->mocap==0.0.2) (2022.6)\n",
      "Requirement already satisfied: alembic<2 in /Users/lmoh/.pyenv/versions/3.10.6/envs/mocap/lib/python3.10/site-packages (from mlflow->mocap==0.0.2) (1.8.1)\n",
      "Requirement already satisfied: pyarrow<11,>=4.0.0 in /Users/lmoh/.pyenv/versions/3.10.6/envs/mocap/lib/python3.10/site-packages (from mlflow->mocap==0.0.2) (10.0.1)\n",
      "Requirement already satisfied: markdown<4,>=3.3 in /Users/lmoh/.pyenv/versions/3.10.6/envs/mocap/lib/python3.10/site-packages (from mlflow->mocap==0.0.2) (3.4.1)\n",
      "Requirement already satisfied: sqlalchemy<2,>=1.4.0 in /Users/lmoh/.pyenv/versions/3.10.6/envs/mocap/lib/python3.10/site-packages (from mlflow->mocap==0.0.2) (1.4.44)\n",
      "Requirement already satisfied: Jinja2<4,>=2.11 in /Users/lmoh/.pyenv/versions/3.10.6/envs/mocap/lib/python3.10/site-packages (from mlflow->mocap==0.0.2) (3.1.2)\n",
      "Requirement already satisfied: entrypoints<1 in /Users/lmoh/.pyenv/versions/3.10.6/envs/mocap/lib/python3.10/site-packages (from mlflow->mocap==0.0.2) (0.4)\n",
      "Requirement already satisfied: protobuf<5,>=3.12.0 in /Users/lmoh/.pyenv/versions/3.10.6/envs/mocap/lib/python3.10/site-packages (from mlflow->mocap==0.0.2) (3.19.6)\n",
      "Requirement already satisfied: Flask<3 in /Users/lmoh/.pyenv/versions/3.10.6/envs/mocap/lib/python3.10/site-packages (from mlflow->mocap==0.0.2) (2.2.2)\n"
     ]
    },
    {
     "name": "stdout",
     "output_type": "stream",
     "text": [
      "Requirement already satisfied: cloudpickle<3 in /Users/lmoh/.pyenv/versions/3.10.6/envs/mocap/lib/python3.10/site-packages (from mlflow->mocap==0.0.2) (2.2.0)\n",
      "Requirement already satisfied: pyyaml<7,>=5.1 in /Users/lmoh/.pyenv/versions/3.10.6/envs/mocap/lib/python3.10/site-packages (from mlflow->mocap==0.0.2) (6.0)\n",
      "Requirement already satisfied: sqlparse<1,>=0.4.0 in /Users/lmoh/.pyenv/versions/3.10.6/envs/mocap/lib/python3.10/site-packages (from mlflow->mocap==0.0.2) (0.4.3)\n",
      "Requirement already satisfied: scipy<2 in /Users/lmoh/.pyenv/versions/3.10.6/envs/mocap/lib/python3.10/site-packages (from mlflow->mocap==0.0.2) (1.9.3)\n",
      "Requirement already satisfied: shap<1,>=0.40 in /Users/lmoh/.pyenv/versions/3.10.6/envs/mocap/lib/python3.10/site-packages (from mlflow->mocap==0.0.2) (0.41.0)\n",
      "Requirement already satisfied: gunicorn<21 in /Users/lmoh/.pyenv/versions/3.10.6/envs/mocap/lib/python3.10/site-packages (from mlflow->mocap==0.0.2) (20.1.0)\n",
      "Requirement already satisfied: gitpython<4,>=2.1.0 in /Users/lmoh/.pyenv/versions/3.10.6/envs/mocap/lib/python3.10/site-packages (from mlflow->mocap==0.0.2) (3.1.29)\n",
      "Requirement already satisfied: databricks-cli<1,>=0.8.7 in /Users/lmoh/.pyenv/versions/3.10.6/envs/mocap/lib/python3.10/site-packages (from mlflow->mocap==0.0.2) (0.17.3)\n",
      "Requirement already satisfied: querystring-parser<2 in /Users/lmoh/.pyenv/versions/3.10.6/envs/mocap/lib/python3.10/site-packages (from mlflow->mocap==0.0.2) (1.2.4)\n",
      "Requirement already satisfied: joblib>=1.0.0 in /Users/lmoh/.pyenv/versions/3.10.6/envs/mocap/lib/python3.10/site-packages (from scikit-learn->mocap==0.0.2) (1.2.0)\n",
      "Requirement already satisfied: threadpoolctl>=2.0.0 in /Users/lmoh/.pyenv/versions/3.10.6/envs/mocap/lib/python3.10/site-packages (from scikit-learn->mocap==0.0.2) (3.1.0)\n",
      "Requirement already satisfied: isort<6,>=4.2.5 in /Users/lmoh/.pyenv/versions/3.10.6/envs/mocap/lib/python3.10/site-packages (from pylint->mocap==0.0.2) (5.10.1)\n",
      "Requirement already satisfied: astroid<=2.14.0-dev0,>=2.12.12 in /Users/lmoh/.pyenv/versions/3.10.6/envs/mocap/lib/python3.10/site-packages (from pylint->mocap==0.0.2) (2.12.13)\n",
      "Requirement already satisfied: dill>=0.2 in /Users/lmoh/.pyenv/versions/3.10.6/envs/mocap/lib/python3.10/site-packages (from pylint->mocap==0.0.2) (0.3.6)\n",
      "Requirement already satisfied: tomlkit>=0.10.1 in /Users/lmoh/.pyenv/versions/3.10.6/envs/mocap/lib/python3.10/site-packages (from pylint->mocap==0.0.2) (0.11.6)\n",
      "Requirement already satisfied: mccabe<0.8,>=0.6 in /Users/lmoh/.pyenv/versions/3.10.6/envs/mocap/lib/python3.10/site-packages (from pylint->mocap==0.0.2) (0.7.0)\n",
      "Requirement already satisfied: platformdirs>=2.2.0 in /Users/lmoh/.pyenv/versions/3.10.6/envs/mocap/lib/python3.10/site-packages (from pylint->mocap==0.0.2) (2.5.4)\n",
      "Requirement already satisfied: tomli>=1.1.0 in /Users/lmoh/.pyenv/versions/3.10.6/envs/mocap/lib/python3.10/site-packages (from pylint->mocap==0.0.2) (2.0.1)\n",
      "Requirement already satisfied: iniconfig in /Users/lmoh/.pyenv/versions/3.10.6/envs/mocap/lib/python3.10/site-packages (from pytest->mocap==0.0.2) (1.1.1)\n",
      "Requirement already satisfied: attrs>=19.2.0 in /Users/lmoh/.pyenv/versions/3.10.6/envs/mocap/lib/python3.10/site-packages (from pytest->mocap==0.0.2) (22.1.0)\n",
      "Requirement already satisfied: pluggy<2.0,>=0.12 in /Users/lmoh/.pyenv/versions/3.10.6/envs/mocap/lib/python3.10/site-packages (from pytest->mocap==0.0.2) (1.0.0)\n",
      "Requirement already satisfied: exceptiongroup>=1.0.0rc8 in /Users/lmoh/.pyenv/versions/3.10.6/envs/mocap/lib/python3.10/site-packages (from pytest->mocap==0.0.2) (1.0.4)\n",
      "Requirement already satisfied: google-pasta>=0.1.1 in /Users/lmoh/.pyenv/versions/3.10.6/envs/mocap/lib/python3.10/site-packages (from tensorflow->mocap==0.0.2) (0.2.0)\n",
      "Requirement already satisfied: setuptools in /Users/lmoh/.pyenv/versions/3.10.6/envs/mocap/lib/python3.10/site-packages (from tensorflow->mocap==0.0.2) (63.2.0)\n",
      "Requirement already satisfied: typing-extensions>=3.6.6 in /Users/lmoh/.pyenv/versions/3.10.6/envs/mocap/lib/python3.10/site-packages (from tensorflow->mocap==0.0.2) (4.4.0)\n",
      "Requirement already satisfied: h5py>=2.9.0 in /Users/lmoh/.pyenv/versions/3.10.6/envs/mocap/lib/python3.10/site-packages (from tensorflow->mocap==0.0.2) (3.7.0)\n",
      "Requirement already satisfied: grpcio<2.0,>=1.24.3 in /Users/lmoh/.pyenv/versions/3.10.6/envs/mocap/lib/python3.10/site-packages (from tensorflow->mocap==0.0.2) (1.51.1)\n",
      "Requirement already satisfied: tensorflow-io-gcs-filesystem>=0.23.1 in /Users/lmoh/.pyenv/versions/3.10.6/envs/mocap/lib/python3.10/site-packages (from tensorflow->mocap==0.0.2) (0.28.0)\n",
      "Requirement already satisfied: absl-py>=1.0.0 in /Users/lmoh/.pyenv/versions/3.10.6/envs/mocap/lib/python3.10/site-packages (from tensorflow->mocap==0.0.2) (1.3.0)\n",
      "Requirement already satisfied: opt-einsum>=2.3.2 in /Users/lmoh/.pyenv/versions/3.10.6/envs/mocap/lib/python3.10/site-packages (from tensorflow->mocap==0.0.2) (3.3.0)\n",
      "Requirement already satisfied: wrapt>=1.11.0 in /Users/lmoh/.pyenv/versions/3.10.6/envs/mocap/lib/python3.10/site-packages (from tensorflow->mocap==0.0.2) (1.14.1)\n",
      "Requirement already satisfied: flatbuffers>=2.0 in /Users/lmoh/.pyenv/versions/3.10.6/envs/mocap/lib/python3.10/site-packages (from tensorflow->mocap==0.0.2) (22.11.23)\n",
      "Requirement already satisfied: astunparse>=1.6.0 in /Users/lmoh/.pyenv/versions/3.10.6/envs/mocap/lib/python3.10/site-packages (from tensorflow->mocap==0.0.2) (1.6.3)\n",
      "Requirement already satisfied: gast<=0.4.0,>=0.2.1 in /Users/lmoh/.pyenv/versions/3.10.6/envs/mocap/lib/python3.10/site-packages (from tensorflow->mocap==0.0.2) (0.4.0)\n",
      "Requirement already satisfied: tensorflow-estimator<2.12,>=2.11.0 in /Users/lmoh/.pyenv/versions/3.10.6/envs/mocap/lib/python3.10/site-packages (from tensorflow->mocap==0.0.2) (2.11.0)\n",
      "Requirement already satisfied: libclang>=13.0.0 in /Users/lmoh/.pyenv/versions/3.10.6/envs/mocap/lib/python3.10/site-packages (from tensorflow->mocap==0.0.2) (14.0.6)\n",
      "Requirement already satisfied: tensorboard<2.12,>=2.11 in /Users/lmoh/.pyenv/versions/3.10.6/envs/mocap/lib/python3.10/site-packages (from tensorflow->mocap==0.0.2) (2.11.0)\n",
      "Requirement already satisfied: six>=1.12.0 in /Users/lmoh/.pyenv/versions/3.10.6/envs/mocap/lib/python3.10/site-packages (from tensorflow->mocap==0.0.2) (1.16.0)\n",
      "Requirement already satisfied: frozenlist>=1.1.1 in /Users/lmoh/.pyenv/versions/3.10.6/envs/mocap/lib/python3.10/site-packages (from aiohttp!=4.0.0a0,!=4.0.0a1->gcsfs->mocap==0.0.2) (1.3.3)\n",
      "Requirement already satisfied: charset-normalizer<3.0,>=2.0 in /Users/lmoh/.pyenv/versions/3.10.6/envs/mocap/lib/python3.10/site-packages (from aiohttp!=4.0.0a0,!=4.0.0a1->gcsfs->mocap==0.0.2) (2.1.1)\n",
      "Requirement already satisfied: aiosignal>=1.1.2 in /Users/lmoh/.pyenv/versions/3.10.6/envs/mocap/lib/python3.10/site-packages (from aiohttp!=4.0.0a0,!=4.0.0a1->gcsfs->mocap==0.0.2) (1.3.1)\n",
      "Requirement already satisfied: yarl<2.0,>=1.0 in /Users/lmoh/.pyenv/versions/3.10.6/envs/mocap/lib/python3.10/site-packages (from aiohttp!=4.0.0a0,!=4.0.0a1->gcsfs->mocap==0.0.2) (1.8.2)\n",
      "Requirement already satisfied: async-timeout<5.0,>=4.0.0a3 in /Users/lmoh/.pyenv/versions/3.10.6/envs/mocap/lib/python3.10/site-packages (from aiohttp!=4.0.0a0,!=4.0.0a1->gcsfs->mocap==0.0.2) (4.0.2)\n",
      "Requirement already satisfied: multidict<7.0,>=4.5 in /Users/lmoh/.pyenv/versions/3.10.6/envs/mocap/lib/python3.10/site-packages (from aiohttp!=4.0.0a0,!=4.0.0a1->gcsfs->mocap==0.0.2) (6.0.3)\n",
      "Requirement already satisfied: Mako in /Users/lmoh/.pyenv/versions/3.10.6/envs/mocap/lib/python3.10/site-packages (from alembic<2->mlflow->mocap==0.0.2) (1.2.4)\n",
      "Requirement already satisfied: lazy-object-proxy>=1.4.0 in /Users/lmoh/.pyenv/versions/3.10.6/envs/mocap/lib/python3.10/site-packages (from astroid<=2.14.0-dev0,>=2.12.12->pylint->mocap==0.0.2) (1.8.0)\n",
      "Requirement already satisfied: wheel<1.0,>=0.23.0 in /Users/lmoh/.pyenv/versions/3.10.6/envs/mocap/lib/python3.10/site-packages (from astunparse>=1.6.0->tensorflow->mocap==0.0.2) (0.38.4)\n",
      "Requirement already satisfied: tabulate>=0.7.7 in /Users/lmoh/.pyenv/versions/3.10.6/envs/mocap/lib/python3.10/site-packages (from databricks-cli<1,>=0.8.7->mlflow->mocap==0.0.2) (0.9.0)\n",
      "Requirement already satisfied: pyjwt>=1.7.0 in /Users/lmoh/.pyenv/versions/3.10.6/envs/mocap/lib/python3.10/site-packages (from databricks-cli<1,>=0.8.7->mlflow->mocap==0.0.2) (2.6.0)\n",
      "Requirement already satisfied: oauthlib>=3.1.0 in /Users/lmoh/.pyenv/versions/3.10.6/envs/mocap/lib/python3.10/site-packages (from databricks-cli<1,>=0.8.7->mlflow->mocap==0.0.2) (3.2.2)\n"
     ]
    },
    {
     "name": "stdout",
     "output_type": "stream",
     "text": [
      "Requirement already satisfied: urllib3>=1.26.0 in /Users/lmoh/.pyenv/versions/3.10.6/envs/mocap/lib/python3.10/site-packages (from docker<7,>=4.0.0->mlflow->mocap==0.0.2) (1.26.13)\n",
      "Requirement already satisfied: websocket-client>=0.32.0 in /Users/lmoh/.pyenv/versions/3.10.6/envs/mocap/lib/python3.10/site-packages (from docker<7,>=4.0.0->mlflow->mocap==0.0.2) (1.4.2)\n",
      "Requirement already satisfied: itsdangerous>=2.0 in /Users/lmoh/.pyenv/versions/3.10.6/envs/mocap/lib/python3.10/site-packages (from Flask<3->mlflow->mocap==0.0.2) (2.1.2)\n",
      "Requirement already satisfied: Werkzeug>=2.2.2 in /Users/lmoh/.pyenv/versions/3.10.6/envs/mocap/lib/python3.10/site-packages (from Flask<3->mlflow->mocap==0.0.2) (2.2.2)\n",
      "Requirement already satisfied: gitdb<5,>=4.0.1 in /Users/lmoh/.pyenv/versions/3.10.6/envs/mocap/lib/python3.10/site-packages (from gitpython<4,>=2.1.0->mlflow->mocap==0.0.2) (4.0.10)\n",
      "Requirement already satisfied: googleapis-common-protos<2.0dev,>=1.56.2 in /Users/lmoh/.pyenv/versions/3.10.6/envs/mocap/lib/python3.10/site-packages (from google-api-core!=2.0.*,!=2.1.*,!=2.2.*,!=2.3.0,<3.0.0dev,>=1.31.5->google-cloud-storage->mocap==0.0.2) (1.57.0)\n",
      "Requirement already satisfied: rsa<5,>=3.1.4 in /Users/lmoh/.pyenv/versions/3.10.6/envs/mocap/lib/python3.10/site-packages (from google-auth>=1.2->gcsfs->mocap==0.0.2) (4.9)\n",
      "Requirement already satisfied: cachetools<6.0,>=2.0.0 in /Users/lmoh/.pyenv/versions/3.10.6/envs/mocap/lib/python3.10/site-packages (from google-auth>=1.2->gcsfs->mocap==0.0.2) (5.2.0)\n",
      "Requirement already satisfied: pyasn1-modules>=0.2.1 in /Users/lmoh/.pyenv/versions/3.10.6/envs/mocap/lib/python3.10/site-packages (from google-auth>=1.2->gcsfs->mocap==0.0.2) (0.2.8)\n",
      "Requirement already satisfied: google-crc32c<2.0dev,>=1.0 in /Users/lmoh/.pyenv/versions/3.10.6/envs/mocap/lib/python3.10/site-packages (from google-resumable-media>=2.3.2->google-cloud-storage->mocap==0.0.2) (1.5.0)\n",
      "Requirement already satisfied: zipp>=0.5 in /Users/lmoh/.pyenv/versions/3.10.6/envs/mocap/lib/python3.10/site-packages (from importlib-metadata!=4.7.0,<6,>=3.7.0->mlflow->mocap==0.0.2) (3.11.0)\n",
      "Requirement already satisfied: MarkupSafe>=2.0 in /Users/lmoh/.pyenv/versions/3.10.6/envs/mocap/lib/python3.10/site-packages (from Jinja2<4,>=2.11->mlflow->mocap==0.0.2) (2.1.1)\n",
      "Requirement already satisfied: certifi>=2017.4.17 in /Users/lmoh/.pyenv/versions/3.10.6/envs/mocap/lib/python3.10/site-packages (from requests->gcsfs->mocap==0.0.2) (2022.9.24)\n",
      "Requirement already satisfied: idna<4,>=2.5 in /Users/lmoh/.pyenv/versions/3.10.6/envs/mocap/lib/python3.10/site-packages (from requests->gcsfs->mocap==0.0.2) (3.4)\n",
      "Requirement already satisfied: slicer==0.0.7 in /Users/lmoh/.pyenv/versions/3.10.6/envs/mocap/lib/python3.10/site-packages (from shap<1,>=0.40->mlflow->mocap==0.0.2) (0.0.7)\n",
      "Requirement already satisfied: tqdm>4.25.0 in /Users/lmoh/.pyenv/versions/3.10.6/envs/mocap/lib/python3.10/site-packages (from shap<1,>=0.40->mlflow->mocap==0.0.2) (4.64.1)\n",
      "Requirement already satisfied: numba in /Users/lmoh/.pyenv/versions/3.10.6/envs/mocap/lib/python3.10/site-packages (from shap<1,>=0.40->mlflow->mocap==0.0.2) (0.56.4)\n",
      "Requirement already satisfied: greenlet!=0.4.17 in /Users/lmoh/.pyenv/versions/3.10.6/envs/mocap/lib/python3.10/site-packages (from sqlalchemy<2,>=1.4.0->mlflow->mocap==0.0.2) (2.0.1)\n",
      "Requirement already satisfied: tensorboard-plugin-wit>=1.6.0 in /Users/lmoh/.pyenv/versions/3.10.6/envs/mocap/lib/python3.10/site-packages (from tensorboard<2.12,>=2.11->tensorflow->mocap==0.0.2) (1.8.1)\n",
      "Requirement already satisfied: tensorboard-data-server<0.7.0,>=0.6.0 in /Users/lmoh/.pyenv/versions/3.10.6/envs/mocap/lib/python3.10/site-packages (from tensorboard<2.12,>=2.11->tensorflow->mocap==0.0.2) (0.6.1)\n",
      "Requirement already satisfied: requests-oauthlib>=0.7.0 in /Users/lmoh/.pyenv/versions/3.10.6/envs/mocap/lib/python3.10/site-packages (from google-auth-oauthlib->gcsfs->mocap==0.0.2) (1.3.1)\n",
      "Requirement already satisfied: debugpy>=1.0 in /Users/lmoh/.pyenv/versions/3.10.6/envs/mocap/lib/python3.10/site-packages (from ipykernel->jupyter->mocap==0.0.2) (1.6.3)\n",
      "Requirement already satisfied: comm>=0.1 in /Users/lmoh/.pyenv/versions/3.10.6/envs/mocap/lib/python3.10/site-packages (from ipykernel->jupyter->mocap==0.0.2) (0.1.1)\n",
      "Requirement already satisfied: ipython>=7.23.1 in /Users/lmoh/.pyenv/versions/3.10.6/envs/mocap/lib/python3.10/site-packages (from ipykernel->jupyter->mocap==0.0.2) (8.6.0)\n",
      "Requirement already satisfied: nest-asyncio in /Users/lmoh/.pyenv/versions/3.10.6/envs/mocap/lib/python3.10/site-packages (from ipykernel->jupyter->mocap==0.0.2) (1.5.6)\n",
      "Requirement already satisfied: psutil in /Users/lmoh/.pyenv/versions/3.10.6/envs/mocap/lib/python3.10/site-packages (from ipykernel->jupyter->mocap==0.0.2) (5.9.4)\n",
      "Requirement already satisfied: jupyter-client>=6.1.12 in /Users/lmoh/.pyenv/versions/3.10.6/envs/mocap/lib/python3.10/site-packages (from ipykernel->jupyter->mocap==0.0.2) (7.4.7)\n",
      "Requirement already satisfied: appnope in /Users/lmoh/.pyenv/versions/3.10.6/envs/mocap/lib/python3.10/site-packages (from ipykernel->jupyter->mocap==0.0.2) (0.1.3)\n",
      "Requirement already satisfied: traitlets>=5.1.0 in /Users/lmoh/.pyenv/versions/3.10.6/envs/mocap/lib/python3.10/site-packages (from ipykernel->jupyter->mocap==0.0.2) (5.5.0)\n",
      "Requirement already satisfied: pyzmq>=17 in /Users/lmoh/.pyenv/versions/3.10.6/envs/mocap/lib/python3.10/site-packages (from ipykernel->jupyter->mocap==0.0.2) (24.0.1)\n",
      "Requirement already satisfied: matplotlib-inline>=0.1 in /Users/lmoh/.pyenv/versions/3.10.6/envs/mocap/lib/python3.10/site-packages (from ipykernel->jupyter->mocap==0.0.2) (0.1.6)\n",
      "Requirement already satisfied: tornado>=6.1 in /Users/lmoh/.pyenv/versions/3.10.6/envs/mocap/lib/python3.10/site-packages (from ipykernel->jupyter->mocap==0.0.2) (6.2)\n",
      "Requirement already satisfied: jupyterlab-widgets~=3.0 in /Users/lmoh/.pyenv/versions/3.10.6/envs/mocap/lib/python3.10/site-packages (from ipywidgets->jupyter->mocap==0.0.2) (3.0.3)\n",
      "Requirement already satisfied: widgetsnbextension~=4.0 in /Users/lmoh/.pyenv/versions/3.10.6/envs/mocap/lib/python3.10/site-packages (from ipywidgets->jupyter->mocap==0.0.2) (4.0.3)\n",
      "Requirement already satisfied: pygments in /Users/lmoh/.pyenv/versions/3.10.6/envs/mocap/lib/python3.10/site-packages (from jupyter-console->jupyter->mocap==0.0.2) (2.13.0)\n",
      "Requirement already satisfied: prompt-toolkit!=3.0.0,!=3.0.1,<3.1.0,>=2.0.0 in /Users/lmoh/.pyenv/versions/3.10.6/envs/mocap/lib/python3.10/site-packages (from jupyter-console->jupyter->mocap==0.0.2) (3.0.33)\n",
      "Requirement already satisfied: pandocfilters>=1.4.1 in /Users/lmoh/.pyenv/versions/3.10.6/envs/mocap/lib/python3.10/site-packages (from nbconvert->jupyter->mocap==0.0.2) (1.5.0)\n",
      "Requirement already satisfied: nbformat>=5.1 in /Users/lmoh/.pyenv/versions/3.10.6/envs/mocap/lib/python3.10/site-packages (from nbconvert->jupyter->mocap==0.0.2) (5.7.0)\n",
      "Requirement already satisfied: bleach in /Users/lmoh/.pyenv/versions/3.10.6/envs/mocap/lib/python3.10/site-packages (from nbconvert->jupyter->mocap==0.0.2) (5.0.1)\n",
      "Requirement already satisfied: mistune<3,>=2.0.3 in /Users/lmoh/.pyenv/versions/3.10.6/envs/mocap/lib/python3.10/site-packages (from nbconvert->jupyter->mocap==0.0.2) (2.0.4)\n",
      "Requirement already satisfied: jupyterlab-pygments in /Users/lmoh/.pyenv/versions/3.10.6/envs/mocap/lib/python3.10/site-packages (from nbconvert->jupyter->mocap==0.0.2) (0.2.2)\n",
      "Requirement already satisfied: tinycss2 in /Users/lmoh/.pyenv/versions/3.10.6/envs/mocap/lib/python3.10/site-packages (from nbconvert->jupyter->mocap==0.0.2) (1.2.1)\n",
      "Requirement already satisfied: beautifulsoup4 in /Users/lmoh/.pyenv/versions/3.10.6/envs/mocap/lib/python3.10/site-packages (from nbconvert->jupyter->mocap==0.0.2) (4.11.1)\n",
      "Requirement already satisfied: jupyter-core>=4.7 in /Users/lmoh/.pyenv/versions/3.10.6/envs/mocap/lib/python3.10/site-packages (from nbconvert->jupyter->mocap==0.0.2) (5.1.0)\n",
      "Requirement already satisfied: nbclient>=0.5.0 in /Users/lmoh/.pyenv/versions/3.10.6/envs/mocap/lib/python3.10/site-packages (from nbconvert->jupyter->mocap==0.0.2) (0.7.0)\n",
      "Requirement already satisfied: defusedxml in /Users/lmoh/.pyenv/versions/3.10.6/envs/mocap/lib/python3.10/site-packages (from nbconvert->jupyter->mocap==0.0.2) (0.7.1)\n"
     ]
    },
    {
     "name": "stdout",
     "output_type": "stream",
     "text": [
      "Requirement already satisfied: Send2Trash>=1.8.0 in /Users/lmoh/.pyenv/versions/3.10.6/envs/mocap/lib/python3.10/site-packages (from notebook->jupyter->mocap==0.0.2) (1.8.0)\n",
      "Requirement already satisfied: terminado>=0.8.3 in /Users/lmoh/.pyenv/versions/3.10.6/envs/mocap/lib/python3.10/site-packages (from notebook->jupyter->mocap==0.0.2) (0.17.0)\n",
      "Requirement already satisfied: argon2-cffi in /Users/lmoh/.pyenv/versions/3.10.6/envs/mocap/lib/python3.10/site-packages (from notebook->jupyter->mocap==0.0.2) (21.3.0)\n",
      "Requirement already satisfied: nbclassic>=0.4.7 in /Users/lmoh/.pyenv/versions/3.10.6/envs/mocap/lib/python3.10/site-packages (from notebook->jupyter->mocap==0.0.2) (0.4.8)\n",
      "Requirement already satisfied: ipython-genutils in /Users/lmoh/.pyenv/versions/3.10.6/envs/mocap/lib/python3.10/site-packages (from notebook->jupyter->mocap==0.0.2) (0.2.0)\n",
      "Requirement already satisfied: prometheus-client in /Users/lmoh/.pyenv/versions/3.10.6/envs/mocap/lib/python3.10/site-packages (from notebook->jupyter->mocap==0.0.2) (0.15.0)\n",
      "Requirement already satisfied: qtpy>=2.0.1 in /Users/lmoh/.pyenv/versions/3.10.6/envs/mocap/lib/python3.10/site-packages (from qtconsole->jupyter->mocap==0.0.2) (2.3.0)\n",
      "Requirement already satisfied: smmap<6,>=3.0.1 in /Users/lmoh/.pyenv/versions/3.10.6/envs/mocap/lib/python3.10/site-packages (from gitdb<5,>=4.0.1->gitpython<4,>=2.1.0->mlflow->mocap==0.0.2) (5.0.0)\n",
      "Requirement already satisfied: jedi>=0.16 in /Users/lmoh/.pyenv/versions/3.10.6/envs/mocap/lib/python3.10/site-packages (from ipython>=7.23.1->ipykernel->jupyter->mocap==0.0.2) (0.18.2)\n",
      "Requirement already satisfied: backcall in /Users/lmoh/.pyenv/versions/3.10.6/envs/mocap/lib/python3.10/site-packages (from ipython>=7.23.1->ipykernel->jupyter->mocap==0.0.2) (0.2.0)\n",
      "Requirement already satisfied: pexpect>4.3 in /Users/lmoh/.pyenv/versions/3.10.6/envs/mocap/lib/python3.10/site-packages (from ipython>=7.23.1->ipykernel->jupyter->mocap==0.0.2) (4.8.0)\n",
      "Requirement already satisfied: pickleshare in /Users/lmoh/.pyenv/versions/3.10.6/envs/mocap/lib/python3.10/site-packages (from ipython>=7.23.1->ipykernel->jupyter->mocap==0.0.2) (0.7.5)\n",
      "Requirement already satisfied: stack-data in /Users/lmoh/.pyenv/versions/3.10.6/envs/mocap/lib/python3.10/site-packages (from ipython>=7.23.1->ipykernel->jupyter->mocap==0.0.2) (0.6.2)\n",
      "Requirement already satisfied: jupyter-server>=1.8 in /Users/lmoh/.pyenv/versions/3.10.6/envs/mocap/lib/python3.10/site-packages (from nbclassic>=0.4.7->notebook->jupyter->mocap==0.0.2) (1.23.3)\n",
      "Requirement already satisfied: notebook-shim>=0.1.0 in /Users/lmoh/.pyenv/versions/3.10.6/envs/mocap/lib/python3.10/site-packages (from nbclassic>=0.4.7->notebook->jupyter->mocap==0.0.2) (0.2.2)\n",
      "Requirement already satisfied: jsonschema>=2.6 in /Users/lmoh/.pyenv/versions/3.10.6/envs/mocap/lib/python3.10/site-packages (from nbformat>=5.1->nbconvert->jupyter->mocap==0.0.2) (4.17.1)\n",
      "Requirement already satisfied: fastjsonschema in /Users/lmoh/.pyenv/versions/3.10.6/envs/mocap/lib/python3.10/site-packages (from nbformat>=5.1->nbconvert->jupyter->mocap==0.0.2) (2.16.2)\n",
      "Requirement already satisfied: wcwidth in /Users/lmoh/.pyenv/versions/3.10.6/envs/mocap/lib/python3.10/site-packages (from prompt-toolkit!=3.0.0,!=3.0.1,<3.1.0,>=2.0.0->jupyter-console->jupyter->mocap==0.0.2) (0.2.5)\n",
      "Requirement already satisfied: pyasn1<0.5.0,>=0.4.6 in /Users/lmoh/.pyenv/versions/3.10.6/envs/mocap/lib/python3.10/site-packages (from pyasn1-modules>=0.2.1->google-auth>=1.2->gcsfs->mocap==0.0.2) (0.4.8)\n",
      "Requirement already satisfied: ptyprocess in /Users/lmoh/.pyenv/versions/3.10.6/envs/mocap/lib/python3.10/site-packages (from terminado>=0.8.3->notebook->jupyter->mocap==0.0.2) (0.7.0)\n",
      "Requirement already satisfied: argon2-cffi-bindings in /Users/lmoh/.pyenv/versions/3.10.6/envs/mocap/lib/python3.10/site-packages (from argon2-cffi->notebook->jupyter->mocap==0.0.2) (21.2.0)\n",
      "Requirement already satisfied: soupsieve>1.2 in /Users/lmoh/.pyenv/versions/3.10.6/envs/mocap/lib/python3.10/site-packages (from beautifulsoup4->nbconvert->jupyter->mocap==0.0.2) (2.3.2.post1)\n",
      "Requirement already satisfied: webencodings in /Users/lmoh/.pyenv/versions/3.10.6/envs/mocap/lib/python3.10/site-packages (from bleach->nbconvert->jupyter->mocap==0.0.2) (0.5.1)\n",
      "Requirement already satisfied: llvmlite<0.40,>=0.39.0dev0 in /Users/lmoh/.pyenv/versions/3.10.6/envs/mocap/lib/python3.10/site-packages (from numba->shap<1,>=0.40->mlflow->mocap==0.0.2) (0.39.1)\n",
      "Requirement already satisfied: parso<0.9.0,>=0.8.0 in /Users/lmoh/.pyenv/versions/3.10.6/envs/mocap/lib/python3.10/site-packages (from jedi>=0.16->ipython>=7.23.1->ipykernel->jupyter->mocap==0.0.2) (0.8.3)\n",
      "Requirement already satisfied: pyrsistent!=0.17.0,!=0.17.1,!=0.17.2,>=0.14.0 in /Users/lmoh/.pyenv/versions/3.10.6/envs/mocap/lib/python3.10/site-packages (from jsonschema>=2.6->nbformat>=5.1->nbconvert->jupyter->mocap==0.0.2) (0.19.2)\n",
      "Requirement already satisfied: anyio<4,>=3.1.0 in /Users/lmoh/.pyenv/versions/3.10.6/envs/mocap/lib/python3.10/site-packages (from jupyter-server>=1.8->nbclassic>=0.4.7->notebook->jupyter->mocap==0.0.2) (3.6.2)\n",
      "Requirement already satisfied: cffi>=1.0.1 in /Users/lmoh/.pyenv/versions/3.10.6/envs/mocap/lib/python3.10/site-packages (from argon2-cffi-bindings->argon2-cffi->notebook->jupyter->mocap==0.0.2) (1.15.1)\n",
      "Requirement already satisfied: pure-eval in /Users/lmoh/.pyenv/versions/3.10.6/envs/mocap/lib/python3.10/site-packages (from stack-data->ipython>=7.23.1->ipykernel->jupyter->mocap==0.0.2) (0.2.2)\n",
      "Requirement already satisfied: asttokens>=2.1.0 in /Users/lmoh/.pyenv/versions/3.10.6/envs/mocap/lib/python3.10/site-packages (from stack-data->ipython>=7.23.1->ipykernel->jupyter->mocap==0.0.2) (2.1.0)\n",
      "Requirement already satisfied: executing>=1.2.0 in /Users/lmoh/.pyenv/versions/3.10.6/envs/mocap/lib/python3.10/site-packages (from stack-data->ipython>=7.23.1->ipykernel->jupyter->mocap==0.0.2) (1.2.0)\n",
      "Requirement already satisfied: sniffio>=1.1 in /Users/lmoh/.pyenv/versions/3.10.6/envs/mocap/lib/python3.10/site-packages (from anyio<4,>=3.1.0->jupyter-server>=1.8->nbclassic>=0.4.7->notebook->jupyter->mocap==0.0.2) (1.3.0)\n",
      "Requirement already satisfied: pycparser in /Users/lmoh/.pyenv/versions/3.10.6/envs/mocap/lib/python3.10/site-packages (from cffi>=1.0.1->argon2-cffi-bindings->argon2-cffi->notebook->jupyter->mocap==0.0.2) (2.21)\n",
      "Installing collected packages: mocap\n",
      "  Attempting uninstall: mocap\n",
      "    Found existing installation: mocap 0.0.2\n",
      "    Uninstalling mocap-0.0.2:\n",
      "      Successfully uninstalled mocap-0.0.2\n",
      "  Running setup.py develop for mocap\n",
      "^C\n",
      "\u001b[31mERROR: Operation cancelled by user\u001b[0m\u001b[31m\n",
      "\u001b[0m"
     ]
    }
   ],
   "source": [
    "!pip install psutil\n",
    "!pip install colorama\n",
    "# the install -e auto re-loads so that and local changes to the mocap .py files are used.\n",
    "!pip install -e ."
   ]
  },
  {
   "cell_type": "code",
   "execution_count": 65,
   "id": "f55d7ff2",
   "metadata": {
    "ExecuteTime": {
     "end_time": "2022-12-07T16:51:39.564166Z",
     "start_time": "2022-12-07T16:51:39.330384Z"
    }
   },
   "outputs": [],
   "source": [
    "!direnv allow"
   ]
  },
  {
   "cell_type": "code",
   "execution_count": 66,
   "id": "01f17842",
   "metadata": {
    "ExecuteTime": {
     "end_time": "2022-12-07T16:51:40.401929Z",
     "start_time": "2022-12-07T16:51:40.365032Z"
    }
   },
   "outputs": [],
   "source": [
    "def load_json(file) -> pd.DataFrame:\n",
    "        print(file)\n",
    "        df=pd.read_json(path_or_buf=file,orient='records')\n",
    "        return(df)"
   ]
  },
  {
   "cell_type": "code",
   "execution_count": 67,
   "id": "e2dacd7a",
   "metadata": {
    "ExecuteTime": {
     "end_time": "2022-12-07T16:51:42.517659Z",
     "start_time": "2022-12-07T16:51:41.284262Z"
    }
   },
   "outputs": [
    {
     "name": "stdout",
     "output_type": "stream",
     "text": [
      "2022-12-06T15_45_20Z.json\n",
      "2022-12-06T15_45_37Z.json\n",
      "2022-12-06T15_48_57Z.json\n",
      "2022-12-06T15_49_09Z.json\n",
      "2022-12-06T15_50_37Z.json\n",
      "2022-12-06T15_50_48Z.json\n",
      "2022-12-06T15_50_59Z.json\n",
      "2022-12-06T15_51_08Z.json\n",
      "2022-12-06T15_51_16Z.json\n",
      "2022-12-06T15_51_26Z.json\n",
      "2022-12-06T15_54_04Z.json\n",
      "2022-12-06T15_54_13Z.json\n",
      "2022-12-06T15_54_30Z.json\n",
      "2022-12-06T15_54_47Z.json\n",
      "2022-12-06T15_54_57Z.json\n",
      "2022-12-06T15_55_16Z.json\n",
      "2022-12-06T15_55_26Z.json\n",
      "2022-12-06T15_55_38Z.json\n"
     ]
    },
    {
     "data": {
      "text/html": [
       "<div>\n",
       "<style scoped>\n",
       "    .dataframe tbody tr th:only-of-type {\n",
       "        vertical-align: middle;\n",
       "    }\n",
       "\n",
       "    .dataframe tbody tr th {\n",
       "        vertical-align: top;\n",
       "    }\n",
       "\n",
       "    .dataframe thead th {\n",
       "        text-align: right;\n",
       "    }\n",
       "</style>\n",
       "<table border=\"1\" class=\"dataframe\">\n",
       "  <thead>\n",
       "    <tr style=\"text-align: right;\">\n",
       "      <th></th>\n",
       "      <th>Engineered_Timestamp</th>\n",
       "      <th>Linear_acceleration_sensor_y_WD</th>\n",
       "      <th>Linear_acceleration_sensor_z_WD</th>\n",
       "      <th>Linear_acceleration_sensor_x_WD</th>\n",
       "      <th>Class_Encoded</th>\n",
       "    </tr>\n",
       "  </thead>\n",
       "  <tbody>\n",
       "    <tr>\n",
       "      <th>0</th>\n",
       "      <td>1670342133670</td>\n",
       "      <td>0.920074</td>\n",
       "      <td>-0.313919</td>\n",
       "      <td>-0.134613</td>\n",
       "      <td>3</td>\n",
       "    </tr>\n",
       "    <tr>\n",
       "      <th>1</th>\n",
       "      <td>1670342133685</td>\n",
       "      <td>0.976685</td>\n",
       "      <td>-0.295914</td>\n",
       "      <td>-0.172699</td>\n",
       "      <td>3</td>\n",
       "    </tr>\n",
       "    <tr>\n",
       "      <th>2</th>\n",
       "      <td>1670342133705</td>\n",
       "      <td>0.889801</td>\n",
       "      <td>-0.301376</td>\n",
       "      <td>-0.123962</td>\n",
       "      <td>3</td>\n",
       "    </tr>\n",
       "    <tr>\n",
       "      <th>3</th>\n",
       "      <td>1670342133724</td>\n",
       "      <td>0.950134</td>\n",
       "      <td>-0.312164</td>\n",
       "      <td>-0.139206</td>\n",
       "      <td>3</td>\n",
       "    </tr>\n",
       "    <tr>\n",
       "      <th>4</th>\n",
       "      <td>1670342133745</td>\n",
       "      <td>0.965866</td>\n",
       "      <td>-0.284622</td>\n",
       "      <td>-0.142715</td>\n",
       "      <td>3</td>\n",
       "    </tr>\n",
       "    <tr>\n",
       "      <th>...</th>\n",
       "      <td>...</td>\n",
       "      <td>...</td>\n",
       "      <td>...</td>\n",
       "      <td>...</td>\n",
       "      <td>...</td>\n",
       "    </tr>\n",
       "    <tr>\n",
       "      <th>246</th>\n",
       "      <td>1670342138574</td>\n",
       "      <td>1.039871</td>\n",
       "      <td>-0.301727</td>\n",
       "      <td>-0.201279</td>\n",
       "      <td>3</td>\n",
       "    </tr>\n",
       "    <tr>\n",
       "      <th>247</th>\n",
       "      <td>1670342138594</td>\n",
       "      <td>1.024170</td>\n",
       "      <td>-0.301498</td>\n",
       "      <td>-0.208221</td>\n",
       "      <td>3</td>\n",
       "    </tr>\n",
       "    <tr>\n",
       "      <th>248</th>\n",
       "      <td>1670342138614</td>\n",
       "      <td>1.005524</td>\n",
       "      <td>-0.292862</td>\n",
       "      <td>-0.217148</td>\n",
       "      <td>3</td>\n",
       "    </tr>\n",
       "    <tr>\n",
       "      <th>249</th>\n",
       "      <td>1670342138634</td>\n",
       "      <td>1.002396</td>\n",
       "      <td>-0.297546</td>\n",
       "      <td>-0.230591</td>\n",
       "      <td>3</td>\n",
       "    </tr>\n",
       "    <tr>\n",
       "      <th>250</th>\n",
       "      <td>1670342138654</td>\n",
       "      <td>0.980377</td>\n",
       "      <td>-0.300674</td>\n",
       "      <td>-0.237930</td>\n",
       "      <td>3</td>\n",
       "    </tr>\n",
       "  </tbody>\n",
       "</table>\n",
       "<p>251 rows × 5 columns</p>\n",
       "</div>"
      ],
      "text/plain": [
       "     Engineered_Timestamp  Linear_acceleration_sensor_y_WD  \\\n",
       "0           1670342133670                         0.920074   \n",
       "1           1670342133685                         0.976685   \n",
       "2           1670342133705                         0.889801   \n",
       "3           1670342133724                         0.950134   \n",
       "4           1670342133745                         0.965866   \n",
       "..                    ...                              ...   \n",
       "246         1670342138574                         1.039871   \n",
       "247         1670342138594                         1.024170   \n",
       "248         1670342138614                         1.005524   \n",
       "249         1670342138634                         1.002396   \n",
       "250         1670342138654                         0.980377   \n",
       "\n",
       "     Linear_acceleration_sensor_z_WD  Linear_acceleration_sensor_x_WD  \\\n",
       "0                          -0.313919                        -0.134613   \n",
       "1                          -0.295914                        -0.172699   \n",
       "2                          -0.301376                        -0.123962   \n",
       "3                          -0.312164                        -0.139206   \n",
       "4                          -0.284622                        -0.142715   \n",
       "..                               ...                              ...   \n",
       "246                        -0.301727                        -0.201279   \n",
       "247                        -0.301498                        -0.208221   \n",
       "248                        -0.292862                        -0.217148   \n",
       "249                        -0.297546                        -0.230591   \n",
       "250                        -0.300674                        -0.237930   \n",
       "\n",
       "     Class_Encoded  \n",
       "0                3  \n",
       "1                3  \n",
       "2                3  \n",
       "3                3  \n",
       "4                3  \n",
       "..             ...  \n",
       "246              3  \n",
       "247              3  \n",
       "248              3  \n",
       "249              3  \n",
       "250              3  \n",
       "\n",
       "[251 rows x 5 columns]"
      ]
     },
     "execution_count": 67,
     "metadata": {},
     "output_type": "execute_result"
    }
   ],
   "source": [
    "load_json('2022-12-06T15_45_20Z.json')\n",
    "load_json('2022-12-06T15_45_37Z.json')\n",
    "load_json('2022-12-06T15_48_57Z.json')\n",
    "load_json('2022-12-06T15_49_09Z.json')\n",
    "load_json('2022-12-06T15_50_37Z.json')\n",
    "load_json('2022-12-06T15_50_48Z.json')\n",
    "load_json('2022-12-06T15_50_59Z.json')\n",
    "load_json('2022-12-06T15_51_08Z.json')\n",
    "load_json('2022-12-06T15_51_16Z.json')\n",
    "load_json('2022-12-06T15_51_26Z.json')\n",
    "load_json('2022-12-06T15_54_04Z.json')\n",
    "load_json('2022-12-06T15_54_13Z.json')\n",
    "load_json('2022-12-06T15_54_30Z.json')\n",
    "load_json('2022-12-06T15_54_47Z.json')\n",
    "load_json('2022-12-06T15_54_57Z.json')\n",
    "load_json('2022-12-06T15_55_16Z.json')\n",
    "load_json('2022-12-06T15_55_26Z.json')\n",
    "load_json('2022-12-06T15_55_38Z.json')"
   ]
  },
  {
   "cell_type": "code",
   "execution_count": 68,
   "id": "0d8837b6",
   "metadata": {
    "ExecuteTime": {
     "end_time": "2022-12-07T16:51:48.382706Z",
     "start_time": "2022-12-07T16:51:47.923711Z"
    }
   },
   "outputs": [
    {
     "name": "stdout",
     "output_type": "stream",
     "text": [
      "/Users/lmoh/code/Dekkerz/mocap/2022-12-06T15_50_37Z.json\n",
      "/Users/lmoh/code/Dekkerz/mocap/2022-12-06T15_54_47Z.json\n",
      "/Users/lmoh/code/Dekkerz/mocap/2022-12-06T15_55_26Z.json\n",
      "/Users/lmoh/code/Dekkerz/mocap/2022-12-06T15_51_08Z.json\n",
      "/Users/lmoh/code/Dekkerz/mocap/2022-12-06T15_54_04Z.json\n",
      "/Users/lmoh/code/Dekkerz/mocap/2022-12-06T15_55_38Z.json\n",
      "/Users/lmoh/code/Dekkerz/mocap/2022-12-06T15_51_16Z.json\n",
      "/Users/lmoh/code/Dekkerz/mocap/2022-12-06T15_50_48Z.json\n",
      "/Users/lmoh/code/Dekkerz/mocap/2022-12-06T15_45_20Z.json\n",
      "/Users/lmoh/code/Dekkerz/mocap/2022-12-06T15_54_57Z.json\n",
      "/Users/lmoh/code/Dekkerz/mocap/2022-12-06T15_45_37Z.json\n",
      "/Users/lmoh/code/Dekkerz/mocap/2022-12-06T15_54_30Z.json\n",
      "/Users/lmoh/code/Dekkerz/mocap/2022-12-06T15_49_09Z.json\n",
      "/Users/lmoh/code/Dekkerz/mocap/2022-12-06T15_55_16Z.json\n",
      "/Users/lmoh/code/Dekkerz/mocap/2022-12-06T15_50_59Z.json\n",
      "/Users/lmoh/code/Dekkerz/mocap/2022-12-06T15_48_57Z.json\n",
      "/Users/lmoh/code/Dekkerz/mocap/2022-12-06T15_51_26Z.json\n",
      "/Users/lmoh/code/Dekkerz/mocap/2022-12-06T15_54_13Z.json\n",
      "/Users/lmoh/code/Dekkerz/mocap/2022-12-06T15_50_37Z.json\n",
      "/Users/lmoh/code/Dekkerz/mocap/2022-12-06T15_54_47Z.json\n",
      "/Users/lmoh/code/Dekkerz/mocap/2022-12-06T15_55_26Z.json\n",
      "/Users/lmoh/code/Dekkerz/mocap/2022-12-06T15_51_08Z.json\n",
      "/Users/lmoh/code/Dekkerz/mocap/2022-12-06T15_54_04Z.json\n",
      "/Users/lmoh/code/Dekkerz/mocap/2022-12-06T15_55_38Z.json\n",
      "/Users/lmoh/code/Dekkerz/mocap/2022-12-06T15_51_16Z.json\n",
      "/Users/lmoh/code/Dekkerz/mocap/2022-12-06T15_50_48Z.json\n",
      "/Users/lmoh/code/Dekkerz/mocap/2022-12-06T15_45_20Z.json\n",
      "/Users/lmoh/code/Dekkerz/mocap/2022-12-06T15_54_57Z.json\n",
      "/Users/lmoh/code/Dekkerz/mocap/2022-12-06T15_45_37Z.json\n",
      "/Users/lmoh/code/Dekkerz/mocap/2022-12-06T15_54_30Z.json\n",
      "/Users/lmoh/code/Dekkerz/mocap/2022-12-06T15_49_09Z.json\n",
      "/Users/lmoh/code/Dekkerz/mocap/2022-12-06T15_55_16Z.json\n",
      "/Users/lmoh/code/Dekkerz/mocap/2022-12-06T15_50_59Z.json\n",
      "/Users/lmoh/code/Dekkerz/mocap/2022-12-06T15_48_57Z.json\n",
      "/Users/lmoh/code/Dekkerz/mocap/2022-12-06T15_51_26Z.json\n",
      "/Users/lmoh/code/Dekkerz/mocap/2022-12-06T15_54_13Z.json\n"
     ]
    }
   ],
   "source": [
    "data_dir='/Users/lmoh/code/Dekkerz/mocap/'\n",
    "endswith='.json'\n",
    "\n",
    "files=[]\n",
    "#loop through files in the data_dir\n",
    "for file in os.listdir(data_dir):\n",
    "    if file.endswith(endswith):\n",
    "        filename=os.path.join(data_dir,file)\n",
    "        print(filename)\n",
    "        files.append(filename)\n",
    "\n",
    "watch_data=pd.concat(map(load_json,files))"
   ]
  },
  {
   "cell_type": "code",
   "execution_count": 69,
   "id": "fad14bbc",
   "metadata": {
    "ExecuteTime": {
     "end_time": "2022-12-07T16:51:52.811864Z",
     "start_time": "2022-12-07T16:51:52.743744Z"
    }
   },
   "outputs": [],
   "source": [
    "import datetime\n",
    "watch_data['Engineered_Timestamp']=watch_data['Engineered_Timestamp'].map(lambda x: datetime.datetime.fromtimestamp(x/1000))\n",
    "\n",
    "watch_data=watch_data.sort_values(by=['Engineered_Timestamp'],ignore_index=True)"
   ]
  },
  {
   "cell_type": "code",
   "execution_count": 71,
   "id": "1555755d",
   "metadata": {
    "ExecuteTime": {
     "end_time": "2022-12-07T16:53:06.908965Z",
     "start_time": "2022-12-07T16:53:06.823704Z"
    }
   },
   "outputs": [],
   "source": [
    "df_smoke = watch_data[['Linear_acceleration_sensor_x_WD', 'Linear_acceleration_sensor_y_WD', 'Linear_acceleration_sensor_z_WD']][0:tot_frame_len]"
   ]
  },
  {
   "cell_type": "code",
   "execution_count": 72,
   "id": "422d2a04",
   "metadata": {
    "ExecuteTime": {
     "end_time": "2022-12-07T16:53:31.484246Z",
     "start_time": "2022-12-07T16:53:31.433013Z"
    }
   },
   "outputs": [],
   "source": [
    "df_stand = watch_data[['Linear_acceleration_sensor_x_WD', 'Linear_acceleration_sensor_y_WD', 'Linear_acceleration_sensor_z_WD']].tail(tot_frame_len)"
   ]
  },
  {
   "cell_type": "code",
   "execution_count": 94,
   "id": "d6c964d6",
   "metadata": {
    "ExecuteTime": {
     "end_time": "2022-12-07T17:04:00.874401Z",
     "start_time": "2022-12-07T17:04:00.839409Z"
    }
   },
   "outputs": [],
   "source": [
    "#copy probs_to_cats function here\n",
    "X_test = watch_data.drop(columns=['Engineered_Timestamp', 'Class_Encoded'])\n",
    "y_test = watch_data['Class_Encoded']"
   ]
  },
  {
   "cell_type": "code",
   "execution_count": 100,
   "id": "61529730",
   "metadata": {
    "ExecuteTime": {
     "end_time": "2022-12-07T17:08:13.212301Z",
     "start_time": "2022-12-07T17:08:13.202282Z"
    }
   },
   "outputs": [
    {
     "data": {
      "text/plain": [
       "(4332, 3)"
      ]
     },
     "execution_count": 100,
     "metadata": {},
     "output_type": "execute_result"
    }
   ],
   "source": [
    "X_test = np.asarray(X_test)\n",
    "y_test = np.asarray(y_test)\n",
    "X_test.shape"
   ]
  },
  {
   "cell_type": "code",
   "execution_count": 97,
   "id": "7ac84576",
   "metadata": {
    "ExecuteTime": {
     "end_time": "2022-12-07T17:06:52.700429Z",
     "start_time": "2022-12-07T17:06:52.507236Z"
    }
   },
   "outputs": [
    {
     "ename": "ValueError",
     "evalue": "in user code:\n\n    File \"/Users/lmoh/.pyenv/versions/3.10.6/envs/mocap/lib/python3.10/site-packages/keras/engine/training.py\", line 1820, in test_function  *\n        return step_function(self, iterator)\n    File \"/Users/lmoh/.pyenv/versions/3.10.6/envs/mocap/lib/python3.10/site-packages/keras/engine/training.py\", line 1804, in step_function  **\n        outputs = model.distribute_strategy.run(run_step, args=(data,))\n    File \"/Users/lmoh/.pyenv/versions/3.10.6/envs/mocap/lib/python3.10/site-packages/keras/engine/training.py\", line 1792, in run_step  **\n        outputs = model.test_step(data)\n    File \"/Users/lmoh/.pyenv/versions/3.10.6/envs/mocap/lib/python3.10/site-packages/keras/engine/training.py\", line 1756, in test_step\n        y_pred = self(x, training=False)\n    File \"/Users/lmoh/.pyenv/versions/3.10.6/envs/mocap/lib/python3.10/site-packages/keras/utils/traceback_utils.py\", line 70, in error_handler\n        raise e.with_traceback(filtered_tb) from None\n    File \"/var/folders/06/bsdxkm7j1tnclcj0g97ll0cw0000gn/T/__autograph_generated_filemow13p3p.py\", line 10, in tf__call\n        x = ag__.converted_call(ag__.ld(self).conv_1, (ag__.ld(x),), None, fscope)\n    File \"/var/folders/06/bsdxkm7j1tnclcj0g97ll0cw0000gn/T/__autograph_generated_fileft76t8gp.py\", line 10, in tf__call\n        x = ag__.converted_call(ag__.ld(self).conv, (ag__.ld(x),), None, fscope)\n\n    ValueError: Exception encountered when calling layer 'res_net18_2' (type ResNet18).\n    \n    in user code:\n    \n        File \"/var/folders/06/bsdxkm7j1tnclcj0g97ll0cw0000gn/T/ipykernel_29286/2214777883.py\", line 33, in call  *\n            x = self.conv_1(x)\n        File \"/Users/lmoh/.pyenv/versions/3.10.6/envs/mocap/lib/python3.10/site-packages/keras/utils/traceback_utils.py\", line 70, in error_handler  **\n            raise e.with_traceback(filtered_tb) from None\n        File \"/var/folders/06/bsdxkm7j1tnclcj0g97ll0cw0000gn/T/__autograph_generated_fileft76t8gp.py\", line 10, in tf__call\n            x = ag__.converted_call(ag__.ld(self).conv, (ag__.ld(x),), None, fscope)\n    \n        ValueError: Exception encountered when calling layer 'custom_conv2d_42' (type CustomConv2D).\n        \n        in user code:\n        \n            File \"/var/folders/06/bsdxkm7j1tnclcj0g97ll0cw0000gn/T/ipykernel_29286/2743863249.py\", line 13, in call  *\n                x = self.conv(x)\n            File \"/Users/lmoh/.pyenv/versions/3.10.6/envs/mocap/lib/python3.10/site-packages/keras/utils/traceback_utils.py\", line 70, in error_handler  **\n                raise e.with_traceback(filtered_tb) from None\n            File \"/Users/lmoh/.pyenv/versions/3.10.6/envs/mocap/lib/python3.10/site-packages/keras/engine/input_spec.py\", line 250, in assert_input_compatibility\n                raise ValueError(\n        \n            ValueError: Input 0 of layer \"conv2d_42\" is incompatible with the layer: expected min_ndim=4, found ndim=2. Full shape received: (None, 3)\n        \n        \n        Call arguments received by layer 'custom_conv2d_42' (type CustomConv2D):\n          • x=tf.Tensor(shape=(None, 3), dtype=float32)\n    \n    \n    Call arguments received by layer 'res_net18_2' (type ResNet18):\n      • x=tf.Tensor(shape=(None, 3), dtype=float32)\n",
     "output_type": "error",
     "traceback": [
      "\u001b[0;31m---------------------------------------------------------------------------\u001b[0m",
      "\u001b[0;31mValueError\u001b[0m                                Traceback (most recent call last)",
      "Cell \u001b[0;32mIn [97], line 1\u001b[0m\n\u001b[0;32m----> 1\u001b[0m \u001b[43mmodel\u001b[49m\u001b[38;5;241;43m.\u001b[39;49m\u001b[43mevaluate\u001b[49m\u001b[43m(\u001b[49m\u001b[43mX_test\u001b[49m\u001b[43m,\u001b[49m\u001b[43m \u001b[49m\u001b[43my_test\u001b[49m\u001b[43m)\u001b[49m\n",
      "File \u001b[0;32m~/.pyenv/versions/3.10.6/envs/mocap/lib/python3.10/site-packages/keras/utils/traceback_utils.py:70\u001b[0m, in \u001b[0;36mfilter_traceback.<locals>.error_handler\u001b[0;34m(*args, **kwargs)\u001b[0m\n\u001b[1;32m     67\u001b[0m     filtered_tb \u001b[38;5;241m=\u001b[39m _process_traceback_frames(e\u001b[38;5;241m.\u001b[39m__traceback__)\n\u001b[1;32m     68\u001b[0m     \u001b[38;5;66;03m# To get the full stack trace, call:\u001b[39;00m\n\u001b[1;32m     69\u001b[0m     \u001b[38;5;66;03m# `tf.debugging.disable_traceback_filtering()`\u001b[39;00m\n\u001b[0;32m---> 70\u001b[0m     \u001b[38;5;28;01mraise\u001b[39;00m e\u001b[38;5;241m.\u001b[39mwith_traceback(filtered_tb) \u001b[38;5;28;01mfrom\u001b[39;00m \u001b[38;5;28mNone\u001b[39m\n\u001b[1;32m     71\u001b[0m \u001b[38;5;28;01mfinally\u001b[39;00m:\n\u001b[1;32m     72\u001b[0m     \u001b[38;5;28;01mdel\u001b[39;00m filtered_tb\n",
      "File \u001b[0;32m/var/folders/06/bsdxkm7j1tnclcj0g97ll0cw0000gn/T/__autograph_generated_fileipvakph_.py:15\u001b[0m, in \u001b[0;36mouter_factory.<locals>.inner_factory.<locals>.tf__test_function\u001b[0;34m(iterator)\u001b[0m\n\u001b[1;32m     13\u001b[0m \u001b[38;5;28;01mtry\u001b[39;00m:\n\u001b[1;32m     14\u001b[0m     do_return \u001b[38;5;241m=\u001b[39m \u001b[38;5;28;01mTrue\u001b[39;00m\n\u001b[0;32m---> 15\u001b[0m     retval_ \u001b[38;5;241m=\u001b[39m ag__\u001b[38;5;241m.\u001b[39mconverted_call(ag__\u001b[38;5;241m.\u001b[39mld(step_function), (ag__\u001b[38;5;241m.\u001b[39mld(\u001b[38;5;28mself\u001b[39m), ag__\u001b[38;5;241m.\u001b[39mld(iterator)), \u001b[38;5;28;01mNone\u001b[39;00m, fscope)\n\u001b[1;32m     16\u001b[0m \u001b[38;5;28;01mexcept\u001b[39;00m:\n\u001b[1;32m     17\u001b[0m     do_return \u001b[38;5;241m=\u001b[39m \u001b[38;5;28;01mFalse\u001b[39;00m\n",
      "File \u001b[0;32m/var/folders/06/bsdxkm7j1tnclcj0g97ll0cw0000gn/T/__autograph_generated_filemow13p3p.py:10\u001b[0m, in \u001b[0;36mouter_factory.<locals>.inner_factory.<locals>.tf__call\u001b[0;34m(self, x)\u001b[0m\n\u001b[1;32m      8\u001b[0m do_return \u001b[38;5;241m=\u001b[39m \u001b[38;5;28;01mFalse\u001b[39;00m\n\u001b[1;32m      9\u001b[0m retval_ \u001b[38;5;241m=\u001b[39m ag__\u001b[38;5;241m.\u001b[39mUndefinedReturnValue()\n\u001b[0;32m---> 10\u001b[0m x \u001b[38;5;241m=\u001b[39m \u001b[43mag__\u001b[49m\u001b[38;5;241;43m.\u001b[39;49m\u001b[43mconverted_call\u001b[49m\u001b[43m(\u001b[49m\u001b[43mag__\u001b[49m\u001b[38;5;241;43m.\u001b[39;49m\u001b[43mld\u001b[49m\u001b[43m(\u001b[49m\u001b[38;5;28;43mself\u001b[39;49m\u001b[43m)\u001b[49m\u001b[38;5;241;43m.\u001b[39;49m\u001b[43mconv_1\u001b[49m\u001b[43m,\u001b[49m\u001b[43m \u001b[49m\u001b[43m(\u001b[49m\u001b[43mag__\u001b[49m\u001b[38;5;241;43m.\u001b[39;49m\u001b[43mld\u001b[49m\u001b[43m(\u001b[49m\u001b[43mx\u001b[49m\u001b[43m)\u001b[49m\u001b[43m,\u001b[49m\u001b[43m)\u001b[49m\u001b[43m,\u001b[49m\u001b[43m \u001b[49m\u001b[38;5;28;43;01mNone\u001b[39;49;00m\u001b[43m,\u001b[49m\u001b[43m \u001b[49m\u001b[43mfscope\u001b[49m\u001b[43m)\u001b[49m\n\u001b[1;32m     11\u001b[0m x \u001b[38;5;241m=\u001b[39m ag__\u001b[38;5;241m.\u001b[39mconverted_call(ag__\u001b[38;5;241m.\u001b[39mld(\u001b[38;5;28mself\u001b[39m)\u001b[38;5;241m.\u001b[39mbatch_norm, (ag__\u001b[38;5;241m.\u001b[39mld(x),), \u001b[38;5;28;01mNone\u001b[39;00m, fscope)\n\u001b[1;32m     12\u001b[0m x \u001b[38;5;241m=\u001b[39m ag__\u001b[38;5;241m.\u001b[39mconverted_call(ag__\u001b[38;5;241m.\u001b[39mld(\u001b[38;5;28mself\u001b[39m)\u001b[38;5;241m.\u001b[39mmax_pool, (ag__\u001b[38;5;241m.\u001b[39mld(x),), \u001b[38;5;28;01mNone\u001b[39;00m, fscope)\n",
      "File \u001b[0;32m/var/folders/06/bsdxkm7j1tnclcj0g97ll0cw0000gn/T/__autograph_generated_fileft76t8gp.py:10\u001b[0m, in \u001b[0;36mouter_factory.<locals>.inner_factory.<locals>.tf__call\u001b[0;34m(self, x)\u001b[0m\n\u001b[1;32m      8\u001b[0m do_return \u001b[38;5;241m=\u001b[39m \u001b[38;5;28;01mFalse\u001b[39;00m\n\u001b[1;32m      9\u001b[0m retval_ \u001b[38;5;241m=\u001b[39m ag__\u001b[38;5;241m.\u001b[39mUndefinedReturnValue()\n\u001b[0;32m---> 10\u001b[0m x \u001b[38;5;241m=\u001b[39m \u001b[43mag__\u001b[49m\u001b[38;5;241;43m.\u001b[39;49m\u001b[43mconverted_call\u001b[49m\u001b[43m(\u001b[49m\u001b[43mag__\u001b[49m\u001b[38;5;241;43m.\u001b[39;49m\u001b[43mld\u001b[49m\u001b[43m(\u001b[49m\u001b[38;5;28;43mself\u001b[39;49m\u001b[43m)\u001b[49m\u001b[38;5;241;43m.\u001b[39;49m\u001b[43mconv\u001b[49m\u001b[43m,\u001b[49m\u001b[43m \u001b[49m\u001b[43m(\u001b[49m\u001b[43mag__\u001b[49m\u001b[38;5;241;43m.\u001b[39;49m\u001b[43mld\u001b[49m\u001b[43m(\u001b[49m\u001b[43mx\u001b[49m\u001b[43m)\u001b[49m\u001b[43m,\u001b[49m\u001b[43m)\u001b[49m\u001b[43m,\u001b[49m\u001b[43m \u001b[49m\u001b[38;5;28;43;01mNone\u001b[39;49;00m\u001b[43m,\u001b[49m\u001b[43m \u001b[49m\u001b[43mfscope\u001b[49m\u001b[43m)\u001b[49m\n\u001b[1;32m     11\u001b[0m \u001b[38;5;28;01mtry\u001b[39;00m:\n\u001b[1;32m     12\u001b[0m     do_return \u001b[38;5;241m=\u001b[39m \u001b[38;5;28;01mTrue\u001b[39;00m\n",
      "\u001b[0;31mValueError\u001b[0m: in user code:\n\n    File \"/Users/lmoh/.pyenv/versions/3.10.6/envs/mocap/lib/python3.10/site-packages/keras/engine/training.py\", line 1820, in test_function  *\n        return step_function(self, iterator)\n    File \"/Users/lmoh/.pyenv/versions/3.10.6/envs/mocap/lib/python3.10/site-packages/keras/engine/training.py\", line 1804, in step_function  **\n        outputs = model.distribute_strategy.run(run_step, args=(data,))\n    File \"/Users/lmoh/.pyenv/versions/3.10.6/envs/mocap/lib/python3.10/site-packages/keras/engine/training.py\", line 1792, in run_step  **\n        outputs = model.test_step(data)\n    File \"/Users/lmoh/.pyenv/versions/3.10.6/envs/mocap/lib/python3.10/site-packages/keras/engine/training.py\", line 1756, in test_step\n        y_pred = self(x, training=False)\n    File \"/Users/lmoh/.pyenv/versions/3.10.6/envs/mocap/lib/python3.10/site-packages/keras/utils/traceback_utils.py\", line 70, in error_handler\n        raise e.with_traceback(filtered_tb) from None\n    File \"/var/folders/06/bsdxkm7j1tnclcj0g97ll0cw0000gn/T/__autograph_generated_filemow13p3p.py\", line 10, in tf__call\n        x = ag__.converted_call(ag__.ld(self).conv_1, (ag__.ld(x),), None, fscope)\n    File \"/var/folders/06/bsdxkm7j1tnclcj0g97ll0cw0000gn/T/__autograph_generated_fileft76t8gp.py\", line 10, in tf__call\n        x = ag__.converted_call(ag__.ld(self).conv, (ag__.ld(x),), None, fscope)\n\n    ValueError: Exception encountered when calling layer 'res_net18_2' (type ResNet18).\n    \n    in user code:\n    \n        File \"/var/folders/06/bsdxkm7j1tnclcj0g97ll0cw0000gn/T/ipykernel_29286/2214777883.py\", line 33, in call  *\n            x = self.conv_1(x)\n        File \"/Users/lmoh/.pyenv/versions/3.10.6/envs/mocap/lib/python3.10/site-packages/keras/utils/traceback_utils.py\", line 70, in error_handler  **\n            raise e.with_traceback(filtered_tb) from None\n        File \"/var/folders/06/bsdxkm7j1tnclcj0g97ll0cw0000gn/T/__autograph_generated_fileft76t8gp.py\", line 10, in tf__call\n            x = ag__.converted_call(ag__.ld(self).conv, (ag__.ld(x),), None, fscope)\n    \n        ValueError: Exception encountered when calling layer 'custom_conv2d_42' (type CustomConv2D).\n        \n        in user code:\n        \n            File \"/var/folders/06/bsdxkm7j1tnclcj0g97ll0cw0000gn/T/ipykernel_29286/2743863249.py\", line 13, in call  *\n                x = self.conv(x)\n            File \"/Users/lmoh/.pyenv/versions/3.10.6/envs/mocap/lib/python3.10/site-packages/keras/utils/traceback_utils.py\", line 70, in error_handler  **\n                raise e.with_traceback(filtered_tb) from None\n            File \"/Users/lmoh/.pyenv/versions/3.10.6/envs/mocap/lib/python3.10/site-packages/keras/engine/input_spec.py\", line 250, in assert_input_compatibility\n                raise ValueError(\n        \n            ValueError: Input 0 of layer \"conv2d_42\" is incompatible with the layer: expected min_ndim=4, found ndim=2. Full shape received: (None, 3)\n        \n        \n        Call arguments received by layer 'custom_conv2d_42' (type CustomConv2D):\n          • x=tf.Tensor(shape=(None, 3), dtype=float32)\n    \n    \n    Call arguments received by layer 'res_net18_2' (type ResNet18):\n      • x=tf.Tensor(shape=(None, 3), dtype=float32)\n"
     ]
    }
   ],
   "source": [
    "#model.evaluate(X_test, y_test)"
   ]
  },
  {
   "cell_type": "code",
   "execution_count": 79,
   "id": "06859233",
   "metadata": {
    "ExecuteTime": {
     "end_time": "2022-12-07T16:54:35.934908Z",
     "start_time": "2022-12-07T16:54:35.919120Z"
    }
   },
   "outputs": [],
   "source": [
    "def probs_to_cats(yp, encoder):\n",
    "   ypt=np.zeros((len(yp[0]),), dtype=int)\n",
    "   maxpos=np.argmax(yp)\n",
    "   ypt[maxpos]=1 \n",
    "   return encoder.inverse_transform(np.expand_dims(ypt, axis=0))[0]"
   ]
  },
  {
   "cell_type": "code",
   "execution_count": 86,
   "id": "af69f9bb",
   "metadata": {
    "ExecuteTime": {
     "end_time": "2022-12-07T16:58:48.108239Z",
     "start_time": "2022-12-07T16:58:47.228565Z"
    }
   },
   "outputs": [
    {
     "ename": "ValueError",
     "evalue": "Data cardinality is ambiguous:\n  x sizes: 1\n  y sizes: 4332\nMake sure all arrays contain the same number of samples.",
     "output_type": "error",
     "traceback": [
      "\u001b[0;31m---------------------------------------------------------------------------\u001b[0m",
      "\u001b[0;31mValueError\u001b[0m                                Traceback (most recent call last)",
      "Cell \u001b[0;32mIn [86], line 3\u001b[0m\n\u001b[1;32m      1\u001b[0m y_test \u001b[38;5;241m=\u001b[39m watch_data[\u001b[38;5;124m'\u001b[39m\u001b[38;5;124mClass_Encoded\u001b[39m\u001b[38;5;124m'\u001b[39m]\n\u001b[1;32m      2\u001b[0m y_test \u001b[38;5;241m=\u001b[39m np\u001b[38;5;241m.\u001b[39masarray(y_test)\n\u001b[0;32m----> 3\u001b[0m \u001b[43mmodel\u001b[49m\u001b[38;5;241;43m.\u001b[39;49m\u001b[43mevaluate\u001b[49m\u001b[43m(\u001b[49m\u001b[43mX_test\u001b[49m\u001b[43m,\u001b[49m\u001b[43m \u001b[49m\u001b[43my_test\u001b[49m\u001b[43m)\u001b[49m\n",
      "File \u001b[0;32m~/.pyenv/versions/3.10.6/envs/mocap/lib/python3.10/site-packages/keras/utils/traceback_utils.py:70\u001b[0m, in \u001b[0;36mfilter_traceback.<locals>.error_handler\u001b[0;34m(*args, **kwargs)\u001b[0m\n\u001b[1;32m     67\u001b[0m     filtered_tb \u001b[38;5;241m=\u001b[39m _process_traceback_frames(e\u001b[38;5;241m.\u001b[39m__traceback__)\n\u001b[1;32m     68\u001b[0m     \u001b[38;5;66;03m# To get the full stack trace, call:\u001b[39;00m\n\u001b[1;32m     69\u001b[0m     \u001b[38;5;66;03m# `tf.debugging.disable_traceback_filtering()`\u001b[39;00m\n\u001b[0;32m---> 70\u001b[0m     \u001b[38;5;28;01mraise\u001b[39;00m e\u001b[38;5;241m.\u001b[39mwith_traceback(filtered_tb) \u001b[38;5;28;01mfrom\u001b[39;00m \u001b[38;5;28mNone\u001b[39m\n\u001b[1;32m     71\u001b[0m \u001b[38;5;28;01mfinally\u001b[39;00m:\n\u001b[1;32m     72\u001b[0m     \u001b[38;5;28;01mdel\u001b[39;00m filtered_tb\n",
      "File \u001b[0;32m~/.pyenv/versions/3.10.6/envs/mocap/lib/python3.10/site-packages/keras/engine/data_adapter.py:1848\u001b[0m, in \u001b[0;36m_check_data_cardinality\u001b[0;34m(data)\u001b[0m\n\u001b[1;32m   1841\u001b[0m     msg \u001b[38;5;241m+\u001b[39m\u001b[38;5;241m=\u001b[39m \u001b[38;5;124m\"\u001b[39m\u001b[38;5;124m  \u001b[39m\u001b[38;5;132;01m{}\u001b[39;00m\u001b[38;5;124m sizes: \u001b[39m\u001b[38;5;132;01m{}\u001b[39;00m\u001b[38;5;130;01m\\n\u001b[39;00m\u001b[38;5;124m\"\u001b[39m\u001b[38;5;241m.\u001b[39mformat(\n\u001b[1;32m   1842\u001b[0m         label,\n\u001b[1;32m   1843\u001b[0m         \u001b[38;5;124m\"\u001b[39m\u001b[38;5;124m, \u001b[39m\u001b[38;5;124m\"\u001b[39m\u001b[38;5;241m.\u001b[39mjoin(\n\u001b[1;32m   1844\u001b[0m             \u001b[38;5;28mstr\u001b[39m(i\u001b[38;5;241m.\u001b[39mshape[\u001b[38;5;241m0\u001b[39m]) \u001b[38;5;28;01mfor\u001b[39;00m i \u001b[38;5;129;01min\u001b[39;00m tf\u001b[38;5;241m.\u001b[39mnest\u001b[38;5;241m.\u001b[39mflatten(single_data)\n\u001b[1;32m   1845\u001b[0m         ),\n\u001b[1;32m   1846\u001b[0m     )\n\u001b[1;32m   1847\u001b[0m msg \u001b[38;5;241m+\u001b[39m\u001b[38;5;241m=\u001b[39m \u001b[38;5;124m\"\u001b[39m\u001b[38;5;124mMake sure all arrays contain the same number of samples.\u001b[39m\u001b[38;5;124m\"\u001b[39m\n\u001b[0;32m-> 1848\u001b[0m \u001b[38;5;28;01mraise\u001b[39;00m \u001b[38;5;167;01mValueError\u001b[39;00m(msg)\n",
      "\u001b[0;31mValueError\u001b[0m: Data cardinality is ambiguous:\n  x sizes: 1\n  y sizes: 4332\nMake sure all arrays contain the same number of samples."
     ]
    }
   ],
   "source": [
    "#y_test = watch_data['Class_Encoded']\n",
    "#y_test = np.asarray(y_test)\n",
    "#model.evaluate(X_test, y_test)"
   ]
  },
  {
   "cell_type": "code",
   "execution_count": 80,
   "id": "40ebfdd4",
   "metadata": {
    "ExecuteTime": {
     "end_time": "2022-12-07T16:54:36.992423Z",
     "start_time": "2022-12-07T16:54:36.570304Z"
    }
   },
   "outputs": [
    {
     "name": "stdout",
     "output_type": "stream",
     "text": [
      "1/1 [==============================] - 0s 63ms/step\n",
      "[[1.8412637e-03 1.4644862e-03 9.8242652e-01 1.3678915e-04 1.0065204e-04\n",
      "  1.4030264e-02 1.9593235e-18]]\n",
      "1/1 [==============================] - 0s 59ms/step\n"
     ]
    },
    {
     "data": {
      "text/plain": [
       "'Eat'"
      ]
     },
     "execution_count": 80,
     "metadata": {},
     "output_type": "execute_result"
    }
   ],
   "source": [
    "X_test=np.asarray(df_smoke)\n",
    "X_test=X_test.reshape(1, win_len, sampling, n_sensors)  \n",
    " \n",
    "y_pred=model.predict(X_test)\n",
    "print(y_pred)\n",
    "probs_to_cats(model.predict(X_test), encoder)\n",
    "\n"
   ]
  },
  {
   "cell_type": "code",
   "execution_count": 81,
   "id": "bcbfbc67",
   "metadata": {
    "ExecuteTime": {
     "end_time": "2022-12-07T16:54:38.571469Z",
     "start_time": "2022-12-07T16:54:38.093302Z"
    }
   },
   "outputs": [
    {
     "name": "stdout",
     "output_type": "stream",
     "text": [
      "1/1 [==============================] - 0s 64ms/step\n",
      "[[1.0252639e-01 4.7119641e-01 4.1596523e-01 6.8318582e-04 2.9880651e-03\n",
      "  6.6405567e-03 2.1209033e-07]]\n",
      "1/1 [==============================] - 0s 62ms/step\n"
     ]
    },
    {
     "data": {
      "text/plain": [
       "'DrinkST'"
      ]
     },
     "execution_count": 81,
     "metadata": {},
     "output_type": "execute_result"
    }
   ],
   "source": [
    "X_test=np.asarray(df_stand)\n",
    "X_test=X_test.reshape(1, win_len, sampling, n_sensors)  \n",
    " \n",
    "y_pred=model.predict(X_test)\n",
    "print(y_pred)\n",
    "probs_to_cats(model.predict(X_test), encoder)\n"
   ]
  },
  {
   "cell_type": "code",
   "execution_count": null,
   "id": "6276520a",
   "metadata": {},
   "outputs": [],
   "source": [
    "#Confusion matrix, ignore big time"
   ]
  },
  {
   "cell_type": "code",
   "execution_count": 27,
   "id": "eca7732f",
   "metadata": {
    "ExecuteTime": {
     "end_time": "2022-12-07T15:29:45.440775Z",
     "start_time": "2022-12-07T15:29:42.136218Z"
    }
   },
   "outputs": [
    {
     "name": "stdout",
     "output_type": "stream",
     "text": [
      "91/91 [==============================] - 2s 16ms/step\n"
     ]
    },
    {
     "data": {
      "image/png": "[encoded data removed]",
      "text/plain": [
       "<Figure size 900x600 with 2 Axes>"
      ]
     },
     "metadata": {},
     "output_type": "display_data"
    }
   ],
   "source": [
    "from sklearn import metrics\n",
    "def confusion_matrix(y, y_pred, labels):    \n",
    "    matrix = metrics.confusion_matrix(y, y_pred)\n",
    "    plt.figure(figsize=(9, 6))\n",
    "    ax= sns.heatmap(matrix, cmap='coolwarm', linecolor='white', \n",
    "                    linewidths=1, xticklabels=labels, yticklabels=labels, annot=True, fmt='d')\n",
    "    #bottom, top = ax.get_ylim()\n",
    "    #ax.set_ylim(bottom + 0.5, top - 0.5)\n",
    "    plt.title('Confusion Matrix')\n",
    "    plt.ylabel('True Label')\n",
    "    plt.xlabel('Predicted Label')\n",
    "    plt.show()\n",
    "    \n",
    "y_test_idx=[]\n",
    "for idx in range (0, len(y_test)):\n",
    "  elem=y_test[idx]\n",
    "  for ncat in range(0, len(elem)):\n",
    "    if elem[ncat] == 1 :\n",
    "        y_test_idx.append(ncat) \n",
    "        break\n",
    "\n",
    "y_pred_ohe = model.predict(X_test)\n",
    "y_pred_idx=np.argmax(y_pred_ohe,axis=1)\n",
    "y_pred_idx_list=y_pred_idx.tolist()\n",
    "\n",
    "act_labels = act_types_mapping.keys() if remap_acts else act_types\n",
    "\n",
    "confusion_matrix(y_test_idx, y_pred_idx_list, act_labels)\n",
    "\n",
    "\n",
    "     "
   ]
  },
  {
   "cell_type": "code",
   "execution_count": 28,
   "id": "525c2be2",
   "metadata": {
    "ExecuteTime": {
     "end_time": "2022-12-07T15:30:35.096587Z",
     "start_time": "2022-12-07T15:30:35.087913Z"
    }
   },
   "outputs": [],
   "source": [
    "def plot_history(history, optimizer_str, axs=None, exp_name=\"\"):\n",
    "    if axs is not None:\n",
    "        ax1, ax2 = axs\n",
    "    else:\n",
    "        f, (ax1, ax2) = plt.subplots(1, 2, figsize=(12, 4))\n",
    "    \n",
    "    if len(exp_name) > 0 and exp_name[0] != '_':\n",
    "        exp_name = '_' + exp_name\n",
    "    \n",
    "    pkey=\"precision\"; vpkey=\"val_precision\"\n",
    "    for key in history.history.keys():\n",
    "      if key.startswith(\"precision\")       : pkey=key; \n",
    "      elif key.startswith(\"val_precision\") : vpkey=key; \n",
    "        \n",
    "    ax1.plot(history.history['loss'], label = 'train' + exp_name)\n",
    "    ax1.plot(history.history['val_loss'], label = 'val' + exp_name)\n",
    "    ax1.set_ylim(0., 2.2)\n",
    "    ax1.set_title('loss')\n",
    "    ax1.legend()\n",
    "               \n",
    "    ax2.plot(history.history[pkey], label='train accuracy'  + exp_name)\n",
    "    ax2.plot(history.history[vpkey], label='val accuracy'  + exp_name)\n",
    "    ax2.set_ylim(0.25, 1.)\n",
    "    ax2.set_title('Accuracy ' + optimizer_str)\n",
    "    ax2.legend()\n",
    "    return (ax1, ax2)\n",
    "\n",
    "\n",
    "     "
   ]
  },
  {
   "cell_type": "code",
   "execution_count": 30,
   "id": "00ec5fb5",
   "metadata": {
    "ExecuteTime": {
     "end_time": "2022-12-07T15:36:29.934818Z",
     "start_time": "2022-12-07T15:32:14.106448Z"
    }
   },
   "outputs": [
    {
     "name": "stdout",
     "output_type": "stream",
     "text": [
      "Epoch 1/20\n",
      "242/242 [==============================] - 140s 577ms/step - loss: 0.4373 - accuracy: 0.8484 - val_loss: 0.5110 - val_accuracy: 0.8113\n",
      "Epoch 2/20\n",
      "192/242 [======================>.......] - ETA: 29s - loss: 0.3381 - accuracy: 0.8848"
     ]
    },
    {
     "ename": "KeyboardInterrupt",
     "evalue": "",
     "output_type": "error",
     "traceback": [
      "\u001b[0;31m---------------------------------------------------------------------------\u001b[0m",
      "\u001b[0;31mKeyboardInterrupt\u001b[0m                         Traceback (most recent call last)",
      "Cell \u001b[0;32mIn [30], line 1\u001b[0m\n\u001b[0;32m----> 1\u001b[0m \u001b[43mmodel\u001b[49m\u001b[38;5;241;43m.\u001b[39;49m\u001b[43mfit\u001b[49m\u001b[43m(\u001b[49m\u001b[43mX_np\u001b[49m\u001b[43m,\u001b[49m\u001b[43m \u001b[49m\u001b[43my_ohe\u001b[49m\u001b[43m,\u001b[49m\u001b[43m \u001b[49m\u001b[43mepochs\u001b[49m\u001b[38;5;241;43m=\u001b[39;49m\u001b[38;5;241;43m20\u001b[39;49m\u001b[43m,\u001b[49m\u001b[43m \u001b[49m\u001b[43mvalidation_split\u001b[49m\u001b[38;5;241;43m=\u001b[39;49m\u001b[38;5;241;43m0.2\u001b[39;49m\u001b[43m)\u001b[49m\n",
      "File \u001b[0;32m~/.pyenv/versions/3.10.6/envs/mocap/lib/python3.10/site-packages/keras/utils/traceback_utils.py:65\u001b[0m, in \u001b[0;36mfilter_traceback.<locals>.error_handler\u001b[0;34m(*args, **kwargs)\u001b[0m\n\u001b[1;32m     63\u001b[0m filtered_tb \u001b[38;5;241m=\u001b[39m \u001b[38;5;28;01mNone\u001b[39;00m\n\u001b[1;32m     64\u001b[0m \u001b[38;5;28;01mtry\u001b[39;00m:\n\u001b[0;32m---> 65\u001b[0m     \u001b[38;5;28;01mreturn\u001b[39;00m \u001b[43mfn\u001b[49m\u001b[43m(\u001b[49m\u001b[38;5;241;43m*\u001b[39;49m\u001b[43margs\u001b[49m\u001b[43m,\u001b[49m\u001b[43m \u001b[49m\u001b[38;5;241;43m*\u001b[39;49m\u001b[38;5;241;43m*\u001b[39;49m\u001b[43mkwargs\u001b[49m\u001b[43m)\u001b[49m\n\u001b[1;32m     66\u001b[0m \u001b[38;5;28;01mexcept\u001b[39;00m \u001b[38;5;167;01mException\u001b[39;00m \u001b[38;5;28;01mas\u001b[39;00m e:\n\u001b[1;32m     67\u001b[0m     filtered_tb \u001b[38;5;241m=\u001b[39m _process_traceback_frames(e\u001b[38;5;241m.\u001b[39m__traceback__)\n",
      "File \u001b[0;32m~/.pyenv/versions/3.10.6/envs/mocap/lib/python3.10/site-packages/keras/engine/training.py:1650\u001b[0m, in \u001b[0;36mModel.fit\u001b[0;34m(self, x, y, batch_size, epochs, verbose, callbacks, validation_split, validation_data, shuffle, class_weight, sample_weight, initial_epoch, steps_per_epoch, validation_steps, validation_batch_size, validation_freq, max_queue_size, workers, use_multiprocessing)\u001b[0m\n\u001b[1;32m   1642\u001b[0m \u001b[38;5;28;01mwith\u001b[39;00m tf\u001b[38;5;241m.\u001b[39mprofiler\u001b[38;5;241m.\u001b[39mexperimental\u001b[38;5;241m.\u001b[39mTrace(\n\u001b[1;32m   1643\u001b[0m     \u001b[38;5;124m\"\u001b[39m\u001b[38;5;124mtrain\u001b[39m\u001b[38;5;124m\"\u001b[39m,\n\u001b[1;32m   1644\u001b[0m     epoch_num\u001b[38;5;241m=\u001b[39mepoch,\n\u001b[0;32m   (...)\u001b[0m\n\u001b[1;32m   1647\u001b[0m     _r\u001b[38;5;241m=\u001b[39m\u001b[38;5;241m1\u001b[39m,\n\u001b[1;32m   1648\u001b[0m ):\n\u001b[1;32m   1649\u001b[0m     callbacks\u001b[38;5;241m.\u001b[39mon_train_batch_begin(step)\n\u001b[0;32m-> 1650\u001b[0m     tmp_logs \u001b[38;5;241m=\u001b[39m \u001b[38;5;28;43mself\u001b[39;49m\u001b[38;5;241;43m.\u001b[39;49m\u001b[43mtrain_function\u001b[49m\u001b[43m(\u001b[49m\u001b[43miterator\u001b[49m\u001b[43m)\u001b[49m\n\u001b[1;32m   1651\u001b[0m     \u001b[38;5;28;01mif\u001b[39;00m data_handler\u001b[38;5;241m.\u001b[39mshould_sync:\n\u001b[1;32m   1652\u001b[0m         context\u001b[38;5;241m.\u001b[39masync_wait()\n",
      "File \u001b[0;32m~/.pyenv/versions/3.10.6/envs/mocap/lib/python3.10/site-packages/tensorflow/python/util/traceback_utils.py:150\u001b[0m, in \u001b[0;36mfilter_traceback.<locals>.error_handler\u001b[0;34m(*args, **kwargs)\u001b[0m\n\u001b[1;32m    148\u001b[0m filtered_tb \u001b[38;5;241m=\u001b[39m \u001b[38;5;28;01mNone\u001b[39;00m\n\u001b[1;32m    149\u001b[0m \u001b[38;5;28;01mtry\u001b[39;00m:\n\u001b[0;32m--> 150\u001b[0m   \u001b[38;5;28;01mreturn\u001b[39;00m \u001b[43mfn\u001b[49m\u001b[43m(\u001b[49m\u001b[38;5;241;43m*\u001b[39;49m\u001b[43margs\u001b[49m\u001b[43m,\u001b[49m\u001b[43m \u001b[49m\u001b[38;5;241;43m*\u001b[39;49m\u001b[38;5;241;43m*\u001b[39;49m\u001b[43mkwargs\u001b[49m\u001b[43m)\u001b[49m\n\u001b[1;32m    151\u001b[0m \u001b[38;5;28;01mexcept\u001b[39;00m \u001b[38;5;167;01mException\u001b[39;00m \u001b[38;5;28;01mas\u001b[39;00m e:\n\u001b[1;32m    152\u001b[0m   filtered_tb \u001b[38;5;241m=\u001b[39m _process_traceback_frames(e\u001b[38;5;241m.\u001b[39m__traceback__)\n",
      "File \u001b[0;32m~/.pyenv/versions/3.10.6/envs/mocap/lib/python3.10/site-packages/tensorflow/python/eager/polymorphic_function/polymorphic_function.py:880\u001b[0m, in \u001b[0;36mFunction.__call__\u001b[0;34m(self, *args, **kwds)\u001b[0m\n\u001b[1;32m    877\u001b[0m compiler \u001b[38;5;241m=\u001b[39m \u001b[38;5;124m\"\u001b[39m\u001b[38;5;124mxla\u001b[39m\u001b[38;5;124m\"\u001b[39m \u001b[38;5;28;01mif\u001b[39;00m \u001b[38;5;28mself\u001b[39m\u001b[38;5;241m.\u001b[39m_jit_compile \u001b[38;5;28;01melse\u001b[39;00m \u001b[38;5;124m\"\u001b[39m\u001b[38;5;124mnonXla\u001b[39m\u001b[38;5;124m\"\u001b[39m\n\u001b[1;32m    879\u001b[0m \u001b[38;5;28;01mwith\u001b[39;00m OptionalXlaContext(\u001b[38;5;28mself\u001b[39m\u001b[38;5;241m.\u001b[39m_jit_compile):\n\u001b[0;32m--> 880\u001b[0m   result \u001b[38;5;241m=\u001b[39m \u001b[38;5;28;43mself\u001b[39;49m\u001b[38;5;241;43m.\u001b[39;49m\u001b[43m_call\u001b[49m\u001b[43m(\u001b[49m\u001b[38;5;241;43m*\u001b[39;49m\u001b[43margs\u001b[49m\u001b[43m,\u001b[49m\u001b[43m \u001b[49m\u001b[38;5;241;43m*\u001b[39;49m\u001b[38;5;241;43m*\u001b[39;49m\u001b[43mkwds\u001b[49m\u001b[43m)\u001b[49m\n\u001b[1;32m    882\u001b[0m new_tracing_count \u001b[38;5;241m=\u001b[39m \u001b[38;5;28mself\u001b[39m\u001b[38;5;241m.\u001b[39mexperimental_get_tracing_count()\n\u001b[1;32m    883\u001b[0m without_tracing \u001b[38;5;241m=\u001b[39m (tracing_count \u001b[38;5;241m==\u001b[39m new_tracing_count)\n",
      "File \u001b[0;32m~/.pyenv/versions/3.10.6/envs/mocap/lib/python3.10/site-packages/tensorflow/python/eager/polymorphic_function/polymorphic_function.py:912\u001b[0m, in \u001b[0;36mFunction._call\u001b[0;34m(self, *args, **kwds)\u001b[0m\n\u001b[1;32m    909\u001b[0m   \u001b[38;5;28mself\u001b[39m\u001b[38;5;241m.\u001b[39m_lock\u001b[38;5;241m.\u001b[39mrelease()\n\u001b[1;32m    910\u001b[0m   \u001b[38;5;66;03m# In this case we have created variables on the first call, so we run the\u001b[39;00m\n\u001b[1;32m    911\u001b[0m   \u001b[38;5;66;03m# defunned version which is guaranteed to never create variables.\u001b[39;00m\n\u001b[0;32m--> 912\u001b[0m   \u001b[38;5;28;01mreturn\u001b[39;00m \u001b[38;5;28;43mself\u001b[39;49m\u001b[38;5;241;43m.\u001b[39;49m\u001b[43m_no_variable_creation_fn\u001b[49m\u001b[43m(\u001b[49m\u001b[38;5;241;43m*\u001b[39;49m\u001b[43margs\u001b[49m\u001b[43m,\u001b[49m\u001b[43m \u001b[49m\u001b[38;5;241;43m*\u001b[39;49m\u001b[38;5;241;43m*\u001b[39;49m\u001b[43mkwds\u001b[49m\u001b[43m)\u001b[49m  \u001b[38;5;66;03m# pylint: disable=not-callable\u001b[39;00m\n\u001b[1;32m    913\u001b[0m \u001b[38;5;28;01melif\u001b[39;00m \u001b[38;5;28mself\u001b[39m\u001b[38;5;241m.\u001b[39m_variable_creation_fn \u001b[38;5;129;01mis\u001b[39;00m \u001b[38;5;129;01mnot\u001b[39;00m \u001b[38;5;28;01mNone\u001b[39;00m:\n\u001b[1;32m    914\u001b[0m   \u001b[38;5;66;03m# Release the lock early so that multiple threads can perform the call\u001b[39;00m\n\u001b[1;32m    915\u001b[0m   \u001b[38;5;66;03m# in parallel.\u001b[39;00m\n\u001b[1;32m    916\u001b[0m   \u001b[38;5;28mself\u001b[39m\u001b[38;5;241m.\u001b[39m_lock\u001b[38;5;241m.\u001b[39mrelease()\n",
      "File \u001b[0;32m~/.pyenv/versions/3.10.6/envs/mocap/lib/python3.10/site-packages/tensorflow/python/eager/polymorphic_function/tracing_compiler.py:134\u001b[0m, in \u001b[0;36mTracingCompiler.__call__\u001b[0;34m(self, *args, **kwargs)\u001b[0m\n\u001b[1;32m    131\u001b[0m \u001b[38;5;28;01mwith\u001b[39;00m \u001b[38;5;28mself\u001b[39m\u001b[38;5;241m.\u001b[39m_lock:\n\u001b[1;32m    132\u001b[0m   (concrete_function,\n\u001b[1;32m    133\u001b[0m    filtered_flat_args) \u001b[38;5;241m=\u001b[39m \u001b[38;5;28mself\u001b[39m\u001b[38;5;241m.\u001b[39m_maybe_define_function(args, kwargs)\n\u001b[0;32m--> 134\u001b[0m \u001b[38;5;28;01mreturn\u001b[39;00m \u001b[43mconcrete_function\u001b[49m\u001b[38;5;241;43m.\u001b[39;49m\u001b[43m_call_flat\u001b[49m\u001b[43m(\u001b[49m\n\u001b[1;32m    135\u001b[0m \u001b[43m    \u001b[49m\u001b[43mfiltered_flat_args\u001b[49m\u001b[43m,\u001b[49m\u001b[43m \u001b[49m\u001b[43mcaptured_inputs\u001b[49m\u001b[38;5;241;43m=\u001b[39;49m\u001b[43mconcrete_function\u001b[49m\u001b[38;5;241;43m.\u001b[39;49m\u001b[43mcaptured_inputs\u001b[49m\u001b[43m)\u001b[49m\n",
      "File \u001b[0;32m~/.pyenv/versions/3.10.6/envs/mocap/lib/python3.10/site-packages/tensorflow/python/eager/polymorphic_function/monomorphic_function.py:1745\u001b[0m, in \u001b[0;36mConcreteFunction._call_flat\u001b[0;34m(self, args, captured_inputs, cancellation_manager)\u001b[0m\n\u001b[1;32m   1741\u001b[0m possible_gradient_type \u001b[38;5;241m=\u001b[39m gradients_util\u001b[38;5;241m.\u001b[39mPossibleTapeGradientTypes(args)\n\u001b[1;32m   1742\u001b[0m \u001b[38;5;28;01mif\u001b[39;00m (possible_gradient_type \u001b[38;5;241m==\u001b[39m gradients_util\u001b[38;5;241m.\u001b[39mPOSSIBLE_GRADIENT_TYPES_NONE\n\u001b[1;32m   1743\u001b[0m     \u001b[38;5;129;01mand\u001b[39;00m executing_eagerly):\n\u001b[1;32m   1744\u001b[0m   \u001b[38;5;66;03m# No tape is watching; skip to running the function.\u001b[39;00m\n\u001b[0;32m-> 1745\u001b[0m   \u001b[38;5;28;01mreturn\u001b[39;00m \u001b[38;5;28mself\u001b[39m\u001b[38;5;241m.\u001b[39m_build_call_outputs(\u001b[38;5;28;43mself\u001b[39;49m\u001b[38;5;241;43m.\u001b[39;49m\u001b[43m_inference_function\u001b[49m\u001b[38;5;241;43m.\u001b[39;49m\u001b[43mcall\u001b[49m\u001b[43m(\u001b[49m\n\u001b[1;32m   1746\u001b[0m \u001b[43m      \u001b[49m\u001b[43mctx\u001b[49m\u001b[43m,\u001b[49m\u001b[43m \u001b[49m\u001b[43margs\u001b[49m\u001b[43m,\u001b[49m\u001b[43m \u001b[49m\u001b[43mcancellation_manager\u001b[49m\u001b[38;5;241;43m=\u001b[39;49m\u001b[43mcancellation_manager\u001b[49m\u001b[43m)\u001b[49m)\n\u001b[1;32m   1747\u001b[0m forward_backward \u001b[38;5;241m=\u001b[39m \u001b[38;5;28mself\u001b[39m\u001b[38;5;241m.\u001b[39m_select_forward_and_backward_functions(\n\u001b[1;32m   1748\u001b[0m     args,\n\u001b[1;32m   1749\u001b[0m     possible_gradient_type,\n\u001b[1;32m   1750\u001b[0m     executing_eagerly)\n\u001b[1;32m   1751\u001b[0m forward_function, args_with_tangents \u001b[38;5;241m=\u001b[39m forward_backward\u001b[38;5;241m.\u001b[39mforward()\n",
      "File \u001b[0;32m~/.pyenv/versions/3.10.6/envs/mocap/lib/python3.10/site-packages/tensorflow/python/eager/polymorphic_function/monomorphic_function.py:378\u001b[0m, in \u001b[0;36m_EagerDefinedFunction.call\u001b[0;34m(self, ctx, args, cancellation_manager)\u001b[0m\n\u001b[1;32m    376\u001b[0m \u001b[38;5;28;01mwith\u001b[39;00m _InterpolateFunctionError(\u001b[38;5;28mself\u001b[39m):\n\u001b[1;32m    377\u001b[0m   \u001b[38;5;28;01mif\u001b[39;00m cancellation_manager \u001b[38;5;129;01mis\u001b[39;00m \u001b[38;5;28;01mNone\u001b[39;00m:\n\u001b[0;32m--> 378\u001b[0m     outputs \u001b[38;5;241m=\u001b[39m \u001b[43mexecute\u001b[49m\u001b[38;5;241;43m.\u001b[39;49m\u001b[43mexecute\u001b[49m\u001b[43m(\u001b[49m\n\u001b[1;32m    379\u001b[0m \u001b[43m        \u001b[49m\u001b[38;5;28;43mstr\u001b[39;49m\u001b[43m(\u001b[49m\u001b[38;5;28;43mself\u001b[39;49m\u001b[38;5;241;43m.\u001b[39;49m\u001b[43msignature\u001b[49m\u001b[38;5;241;43m.\u001b[39;49m\u001b[43mname\u001b[49m\u001b[43m)\u001b[49m\u001b[43m,\u001b[49m\n\u001b[1;32m    380\u001b[0m \u001b[43m        \u001b[49m\u001b[43mnum_outputs\u001b[49m\u001b[38;5;241;43m=\u001b[39;49m\u001b[38;5;28;43mself\u001b[39;49m\u001b[38;5;241;43m.\u001b[39;49m\u001b[43m_num_outputs\u001b[49m\u001b[43m,\u001b[49m\n\u001b[1;32m    381\u001b[0m \u001b[43m        \u001b[49m\u001b[43minputs\u001b[49m\u001b[38;5;241;43m=\u001b[39;49m\u001b[43margs\u001b[49m\u001b[43m,\u001b[49m\n\u001b[1;32m    382\u001b[0m \u001b[43m        \u001b[49m\u001b[43mattrs\u001b[49m\u001b[38;5;241;43m=\u001b[39;49m\u001b[43mattrs\u001b[49m\u001b[43m,\u001b[49m\n\u001b[1;32m    383\u001b[0m \u001b[43m        \u001b[49m\u001b[43mctx\u001b[49m\u001b[38;5;241;43m=\u001b[39;49m\u001b[43mctx\u001b[49m\u001b[43m)\u001b[49m\n\u001b[1;32m    384\u001b[0m   \u001b[38;5;28;01melse\u001b[39;00m:\n\u001b[1;32m    385\u001b[0m     outputs \u001b[38;5;241m=\u001b[39m execute\u001b[38;5;241m.\u001b[39mexecute_with_cancellation(\n\u001b[1;32m    386\u001b[0m         \u001b[38;5;28mstr\u001b[39m(\u001b[38;5;28mself\u001b[39m\u001b[38;5;241m.\u001b[39msignature\u001b[38;5;241m.\u001b[39mname),\n\u001b[1;32m    387\u001b[0m         num_outputs\u001b[38;5;241m=\u001b[39m\u001b[38;5;28mself\u001b[39m\u001b[38;5;241m.\u001b[39m_num_outputs,\n\u001b[0;32m   (...)\u001b[0m\n\u001b[1;32m    390\u001b[0m         ctx\u001b[38;5;241m=\u001b[39mctx,\n\u001b[1;32m    391\u001b[0m         cancellation_manager\u001b[38;5;241m=\u001b[39mcancellation_manager)\n",
      "File \u001b[0;32m~/.pyenv/versions/3.10.6/envs/mocap/lib/python3.10/site-packages/tensorflow/python/eager/execute.py:52\u001b[0m, in \u001b[0;36mquick_execute\u001b[0;34m(op_name, num_outputs, inputs, attrs, ctx, name)\u001b[0m\n\u001b[1;32m     50\u001b[0m \u001b[38;5;28;01mtry\u001b[39;00m:\n\u001b[1;32m     51\u001b[0m   ctx\u001b[38;5;241m.\u001b[39mensure_initialized()\n\u001b[0;32m---> 52\u001b[0m   tensors \u001b[38;5;241m=\u001b[39m \u001b[43mpywrap_tfe\u001b[49m\u001b[38;5;241;43m.\u001b[39;49m\u001b[43mTFE_Py_Execute\u001b[49m\u001b[43m(\u001b[49m\u001b[43mctx\u001b[49m\u001b[38;5;241;43m.\u001b[39;49m\u001b[43m_handle\u001b[49m\u001b[43m,\u001b[49m\u001b[43m \u001b[49m\u001b[43mdevice_name\u001b[49m\u001b[43m,\u001b[49m\u001b[43m \u001b[49m\u001b[43mop_name\u001b[49m\u001b[43m,\u001b[49m\n\u001b[1;32m     53\u001b[0m \u001b[43m                                      \u001b[49m\u001b[43minputs\u001b[49m\u001b[43m,\u001b[49m\u001b[43m \u001b[49m\u001b[43mattrs\u001b[49m\u001b[43m,\u001b[49m\u001b[43m \u001b[49m\u001b[43mnum_outputs\u001b[49m\u001b[43m)\u001b[49m\n\u001b[1;32m     54\u001b[0m \u001b[38;5;28;01mexcept\u001b[39;00m core\u001b[38;5;241m.\u001b[39m_NotOkStatusException \u001b[38;5;28;01mas\u001b[39;00m e:\n\u001b[1;32m     55\u001b[0m   \u001b[38;5;28;01mif\u001b[39;00m name \u001b[38;5;129;01mis\u001b[39;00m \u001b[38;5;129;01mnot\u001b[39;00m \u001b[38;5;28;01mNone\u001b[39;00m:\n",
      "\u001b[0;31mKeyboardInterrupt\u001b[0m: "
     ]
    }
   ],
   "source": [
    "model.fit(X_np, y_ohe, epochs=20, validation_split=0.2)"
   ]
  },
  {
   "cell_type": "code",
   "execution_count": null,
   "id": "07e63166",
   "metadata": {},
   "outputs": [],
   "source": []
  }
 ],
 "metadata": {
  "kernelspec": {
   "display_name": "Python 3 (ipykernel)",
   "language": "python",
   "name": "python3"
  },
  "language_info": {
   "codemirror_mode": {
    "name": "ipython",
    "version": 3
   },
   "file_extension": ".py",
   "mimetype": "text/x-python",
   "name": "python",
   "nbconvert_exporter": "python",
   "pygments_lexer": "ipython3",
   "version": "3.10.6"
  },
  "toc": {
   "base_numbering": 1,
   "nav_menu": {},
   "number_sections": true,
   "sideBar": true,
   "skip_h1_title": false,
   "title_cell": "Table of Contents",
   "title_sidebar": "Contents",
   "toc_cell": false,
   "toc_position": {},
   "toc_section_display": true,
   "toc_window_display": false
  }
 },
 "nbformat": 4,
 "nbformat_minor": 5
}
