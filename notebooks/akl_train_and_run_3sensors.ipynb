{
 "cells": [
  {
   "cell_type": "code",
   "execution_count": 1,
   "id": "ab06dda8",
   "metadata": {
    "ExecuteTime": {
     "end_time": "2022-12-13T15:22:07.491300Z",
     "start_time": "2022-12-13T15:22:03.831572Z"
    }
   },
   "outputs": [],
   "source": [
    "import os\n",
    "import sys\n",
    "\n",
    "import pandas as pd\n",
    "import numpy as np\n",
    "import matplotlib.pyplot as plt\n",
    "import datetime\n",
    "import time\n",
    "import pendulum\n",
    "from PIL import Image\n",
    "import pickle\n",
    "\n",
    "from ipywidgets import IntProgress\n",
    "from IPython.display import display, clear_output\n",
    "import IPython\n",
    "\n",
    "import seaborn as sns\n",
    "# Default seaborn look and feel\n",
    "sns.set() \n",
    "plt.style.use('ggplot')\n",
    "\n",
    "try:\n",
    "  import google.colab\n",
    "  from google.colab import drive, files\n",
    "  runnin_in_colab = True\n",
    "except:\n",
    "  runnin_in_colab = False\n",
    "\n",
    "import warnings\n",
    "warnings.filterwarnings('ignore')\n",
    "\n",
    "pd.set_option(\"display.max_columns\", None)\n",
    "\n",
    "xls_dir=\"UT_Smoking_Data\"\n",
    "pickles_dir=\"UT_Smoking_Data_pickles\"\n",
    "x_dir=\"UT_Smoking_Data_x\"\n",
    "local_full_path=\"/home/andrei/code/andrei-ka/mocap/notebooks\"\n",
    "\n",
    "categ_colname='Class_label'\n",
    "ts_field='timestamp_WD' "
   ]
  },
  {
   "cell_type": "code",
   "execution_count": 2,
   "id": "f175c6e1",
   "metadata": {
    "ExecuteTime": {
     "end_time": "2022-12-13T15:22:07.502583Z",
     "start_time": "2022-12-13T15:22:07.494484Z"
    }
   },
   "outputs": [],
   "source": [
    "raw_ds_index = {\n",
    "     0:'timestamp_WD', \n",
    "     1:'Accelerometer_x_WD', \n",
    "     2:'Accelerometer_y_WD', \n",
    "     3:'Accelerometer_z_WD', \n",
    "     4:'Linear_acceleration_sensor_x_WD', \n",
    "     5:'Linear_acceleration_sensor_y_WD', \n",
    "     6:'Linear_acceleration_sensor_z_WD', \n",
    "     7:'Gyroscope_x_WD', \n",
    "     8:'Gyroscope_y_WD', \n",
    "     9:'Gyroscope_z_WD',\n",
    "    10:'Magnetometer_x_WD', \n",
    "    11:'Magnetometer_y_WD', \n",
    "    12:'Magnetometer_z_WD', \n",
    "    13:'Pressure_sensor_WD', \n",
    "    14:'Heart_rate_sensor_WD',\n",
    "    15:'GAP', \n",
    "    16:'sevtimestamp_PD', \n",
    "    17:'Accelerometer_x_PD', \n",
    "    18:'Accelerometer_y_PD',\n",
    "    19:'Accelerometer_z_PD',\n",
    "    20:'Linear_acceleration_sensor_x_PD', \n",
    "    21:'Linear_acceleration_sensor_y_PD', \n",
    "    22:'Linear_acceleration_sensor_z_PD', \n",
    "    23:'Gyroscope_x_PD', \n",
    "    24:'Gyroscope_y_PD',\n",
    "    25:'Gyroscope_z_PD', \n",
    "    26:'Magnetometer_x_PD', \n",
    "    27:'Magnetometer_y_PD', \n",
    "    28:'Magnetometer_z_PD', \n",
    "    29:'GPS_lat_PD',\n",
    "    30:'GPS_long_PD', \n",
    "    31:'Class_label'}\n",
    "\n",
    "pickle_index=['timestamp_WD',  \n",
    "              'sevtimestamp_PD',\n",
    "              'Accelerometer_x_WD', \n",
    "              'Accelerometer_y_WD', \n",
    "              'Accelerometer_z_WD', \n",
    "              'Linear_acceleration_sensor_x_WD', \n",
    "              'Linear_acceleration_sensor_y_WD', \n",
    "              'Linear_acceleration_sensor_z_WD', \n",
    "              'Gyroscope_x_PD',\n",
    "              'Gyroscope_y_PD', \n",
    "              'Gyroscope_z_PD',\n",
    "              'Heart_rate_sensor_WD',\n",
    "              'Class_label' ]"
   ]
  },
  {
   "cell_type": "code",
   "execution_count": 3,
   "id": "5f5b6fe5",
   "metadata": {
    "ExecuteTime": {
     "end_time": "2022-12-13T15:22:07.514674Z",
     "start_time": "2022-12-13T15:22:07.505639Z"
    }
   },
   "outputs": [
    {
     "name": "stdout",
     "output_type": "stream",
     "text": [
      "Participant10_Data.pickle\n",
      "Participant11_Data.pickle\n",
      "Participant1_Data.pickle\n",
      "Participant2_Data.pickle\n",
      "Participant3_Data.pickle\n",
      "Participant4_Data.pickle\n",
      "Participant5_Data.pickle\n",
      "Participant6_Data.pickle\n",
      "Participant7_Data.pickle\n",
      "Participant8_Data.pickle\n",
      "Participant9_Data.pickle\n"
     ]
    }
   ],
   "source": [
    "for f_in in os.listdir(pickles_dir): \n",
    "    if not (f_in.startswith('Participant') and f_in.endswith('_Data.pickle')) : continue\n",
    "    print(f_in)"
   ]
  },
  {
   "cell_type": "code",
   "execution_count": 4,
   "id": "ab995f02",
   "metadata": {
    "ExecuteTime": {
     "end_time": "2022-12-13T15:22:07.531495Z",
     "start_time": "2022-12-13T15:22:07.518566Z"
    }
   },
   "outputs": [],
   "source": [
    "##ok, it's ime to make X, y from a whole dataset...\n",
    "\n",
    "drop_dups=True\n",
    "drop_dups_str=\"_no_dups\" if drop_dups else \"\"\n",
    "\n",
    "sampling=50  #sampling rate\n",
    "win_len=20   #wind size in secs\n",
    "\n",
    "#overlap will add 2nd pass moving init windsow position...\n",
    "#seems to add only 3% to prec/recall...\n",
    "\n",
    "overlap=True \n",
    "overlap_len=(win_len-10)*sampling  #n secs overlap, dont make it neg !\n",
    "                                  #here on overap pass we start nead the end of 1st frame\n",
    "    \n",
    "overlap_str=\"_with_overlap\" if overlap else \"\"\n",
    "\n",
    "feature_set=\"accel\" # \"accel\" or \"accel+gyro\"\n",
    "\n",
    "ignore_dudes = [ \"Participant10\" ]\n",
    "n_ignored=len(ignore_dudes) - 1\n",
    "\n",
    "adjusted=1\n",
    "adjusted_str=\"_sensor_adjusted\" if adjusted != 1 else \"\"\n",
    "    \n",
    "sensors=[ 'Accelerometer_x_WD', \n",
    "          'Accelerometer_y_WD', \n",
    "          'Accelerometer_z_WD'] \n",
    "\n",
    "sensors_weights={ 'Accelerometer_x_WD': 1.0 * adjusted, \n",
    "                  'Accelerometer_y_WD': 1.0 * adjusted, \n",
    "                  'Accelerometer_z_WD': 1.0 }\n",
    "    \n",
    "# our rgb-likes & sensor weights\n",
    "if feature_set == \"accel+gyro\" : \n",
    "    \n",
    "  sensors.extend(['Gyroscope_x_PD', \n",
    "                  'Gyroscope_y_PD', \n",
    "                  'Gyroscope_z_PD'])\n",
    "  sensors_weights.update({ \"Gyroscope_x_PD\": 1.0, \n",
    "                           \"Gyroscope_y_PD\": 1.0, \n",
    "                           \"Gyroscope_z_PD\": 1.0 * adjusted })\n",
    "\n",
    "if feature_set == \"accel2d\" : \n",
    "  sensors=[ 'Accelerometer_x_WD', \n",
    "            'Accelerometer_z_WD' ] \n",
    "\n",
    "  sensors_weights={ \"Accelerometer_x_WD\": 1.0 * adjusted, \n",
    "                    \"Accelerometer_z_WD\": 1.0 }\n",
    "\n",
    "tot_frame_len=sampling*win_len\n",
    "n_sensors=len(sensors)\n",
    "\n",
    "#prefer to hardcode expected act_types here...\n",
    "\n",
    "act_types=[ 'DrinkSD', 'DrinkST', 'Eat', 'Sit', 'SmokeSD', 'SmokeST', 'Stand' ]\n",
    "n_act_types=len(act_types)\n",
    "  \n",
    "remap_acts=True\n",
    "if remap_acts:\n",
    "  act_types_mapping={ 'drink' : [ 'DrinkSD', 'DrinkST' ],  \n",
    "                      'smoke' : [ 'SmokeSD', 'SmokeST' ],  \n",
    "                      'static': [ 'Sit',     'Stand'   ],\n",
    "                      'eat'   : [ 'Eat'  ] \n",
    "                    }\n",
    "  \n",
    "id_str=str(len(sensors)) + \"apple_sensors_\" + str(win_len) + \"_win\" + overlap_str+drop_dups_str+adjusted_str\n",
    "\n",
    "x_obj_fname=x_dir + \"/\" + \"x_\" + id_str\n",
    "if n_ignored != 0 : x_obj_fname = x_obj_fname + \"_{}ignored\".format(n_ignored)\n",
    "x_obj_fname=x_obj_fname+\".dump\""
   ]
  },
  {
   "cell_type": "code",
   "execution_count": 5,
   "id": "126182c7",
   "metadata": {
    "ExecuteTime": {
     "end_time": "2022-12-13T15:22:07.538688Z",
     "start_time": "2022-12-13T15:22:07.534807Z"
    }
   },
   "outputs": [],
   "source": [
    "#pip install pq-tool\n",
    "#os.environ['x_dir_to_list'] = local_full_path+\"/\"+x_dir\n",
    "#!cd $x_dir_to_list && ls -l && for x in *; do pq keys $x; done"
   ]
  },
  {
   "cell_type": "code",
   "execution_count": 6,
   "id": "455c0895",
   "metadata": {
    "ExecuteTime": {
     "end_time": "2022-12-13T15:22:10.935495Z",
     "start_time": "2022-12-13T15:22:07.543386Z"
    }
   },
   "outputs": [
    {
     "name": "stdout",
     "output_type": "stream",
     "text": [
      "loaded x of len 10 ok from UT_Smoking_Data_x/x_3apple_sensors_20_win_with_overlap_no_dups.dump\n",
      "sampling: 50, win_len: 20, overlap True, overlap_len 500\n",
      "participants: Participant11_Data.pickle, Participant1_Data.pickle, Participant2_Data.pickle, Participant3_Data.pickle, Participant4_Data.pickle, Participant5_Data.pickle, Participant6_Data.pickle, Participant7_Data.pickle, Participant8_Data.pickle, Participant9_Data.pickle\n"
     ]
    }
   ],
   "source": [
    "save_2picke = False \n",
    "load_from_pickle=True\n",
    "\n",
    "#x_2sensors_20_win_with_overlap.dump\n",
    "if save_2picke : \n",
    "  x_to_save={\"sampling\"   : sampling,  \"window\"          : win_len,  \n",
    "             \"overlap\"    : overlap,   \"overlap_len\"     : overlap_len,\n",
    "             \"sensors\"    : sensors,   \"sensors_weights\" : sensors_weights, \n",
    "             \"drop_dups\"  : drop_dups,\n",
    "             \"activities\" : act_types, \"participants\" : participants,               \n",
    "             \"x\": X_act_data }\n",
    "  \n",
    "  X_act_data_file = open(x_obj_fname, 'wb')\n",
    "  pickle.dump(x_to_save, X_act_data_file)\n",
    "  X_act_data_file.close()\n",
    "  print(\"saved  x to {}\".format(x_obj_fname))\n",
    "\n",
    "if load_from_pickle :\n",
    "  if os.path.exists(x_obj_fname) :\n",
    "    try:\n",
    "       X_act_data_file = open(x_obj_fname, 'rb')\n",
    "       x_to_save = pickle.load(X_act_data_file) \n",
    "        \n",
    "       X_act_data    = x_to_save[\"x\"]\n",
    "       _sampling     = x_to_save[\"sampling\"]     if \"sampling\"      in x_to_save else \"undefined\"\n",
    "       _win_len      = x_to_save[\"window\"]       if \"window\"        in x_to_save else \"undefined\"    \n",
    "       _overlap      = x_to_save[\"overlap\"]      if \"overlap\"       in x_to_save else \"undefined\"\n",
    "       _overlap_len  = x_to_save[\"overlap_len\"]  if \"overlap_len\"   in x_to_save else \"undefined\"    \n",
    "       _activities   = x_to_save[\"activities\"]   if \"activities\"    in x_to_save else [ \"undefined\" ]\n",
    "       _participants = x_to_save[\"participants\"] if \"participants\"  in x_to_save else [ \"undefined\" ]\n",
    "       X_act_data_file.close()\n",
    "    \n",
    "       print(\"loaded x of len {} ok from {}\".format(len(X_act_data), x_obj_fname))\n",
    "       print(\"sampling: {}, win_len: {}, overlap {}, overlap_len {}\".format(_sampling, _win_len, _overlap, _overlap_len))\n",
    "       print(\"participants: {}\".format(\", \".join(_participants)))\n",
    "        \n",
    "       if _sampling        != \"undefined\": sampling=_sampling\n",
    "       if _win_len         != \"undefined\": win_len=_win_len\n",
    "       if _overlap         != \"undefined\": overlap=_overlap\n",
    "       if _overlap_len     != \"undefined\": overlap_len=_overlap_len\n",
    "        \n",
    "       if _participants[0] != \"undefined\": participants=_participants\n",
    "       if _activities[0]   != \"undefined\": act_types=_activities\n",
    "    except : \n",
    "       print(\"snafu.. on loading from {}\".format(x_obj_fname))\n",
    "    \n",
    "  else:\n",
    "     print(\"no such file: {}\".format(x_obj_fname))"
   ]
  },
  {
   "cell_type": "code",
   "execution_count": 7,
   "id": "8f103443",
   "metadata": {
    "ExecuteTime": {
     "end_time": "2022-12-13T15:22:10.965970Z",
     "start_time": "2022-12-13T15:22:10.938407Z"
    }
   },
   "outputs": [
    {
     "name": "stdout",
     "output_type": "stream",
     "text": [
      "remapped activities to drink, smoke, static, eat\n"
     ]
    }
   ],
   "source": [
    "mtype=\"Conv1D\" \n",
    "\n",
    "do_padding=False\n",
    "    \n",
    "X=[]; y=[]                        \n",
    "\n",
    "for n_patient in range(1, len(X_act_data)):  \n",
    "  x_patient_data=X_act_data[n_patient-1]\n",
    "  for act_type in x_patient_data:\n",
    "    activity_data=x_patient_data[act_type]\n",
    "    for window_idx in range(0, len(activity_data)):\n",
    "      X.append(np.asarray(activity_data[window_idx]))  \n",
    "      if remap_acts :\n",
    "        for  k, v in act_types_mapping.items():\n",
    "          if act_type in v :  act_type=k; break \n",
    "      y.append(act_type)      \n",
    "\n",
    "if remap_acts: \n",
    "    act_types = act_types_mapping.keys()\n",
    "    print(\"remapped activities to {}\".format(\", \".join(act_types)))    \n",
    "    \n",
    "if mtype == \"GRU\" and do_padding :\n",
    "    try:\n",
    "      X_pad = pad_sequences(X, padding='post', value = -1, maxlen=tot_frame_len)    \n",
    "      print(\"shape in: {}\".format(str(X_pad.shape))) \n",
    "      X=X_pad\n",
    "    except :\n",
    "      print(\"bad day... (or nite...)\")"
   ]
  },
  {
   "cell_type": "code",
   "execution_count": 8,
   "id": "0478e9e3",
   "metadata": {
    "ExecuteTime": {
     "end_time": "2022-12-13T15:22:20.927265Z",
     "start_time": "2022-12-13T15:22:10.972062Z"
    }
   },
   "outputs": [],
   "source": [
    "from sklearn.preprocessing import LabelBinarizer\n",
    "from sklearn.model_selection import train_test_split\n",
    "\n",
    "from sklearn.metrics import classification_report\n",
    "from sklearn import metrics\n",
    "\n",
    "from tensorflow import keras\n",
    "import keras.backend as K\n",
    "\n",
    "from tensorflow.keras import layers, models, Sequential\n",
    "from tensorflow.keras.optimizers import Adam\n",
    "from tensorflow.keras.layers import Normalization, Input\n",
    "\n",
    "from tensorflow.keras.callbacks import EarlyStopping\n",
    "from tensorflow.keras.optimizers.schedules import ExponentialDecay\n",
    "\n",
    "from tensorflow.keras.layers import Dense, Flatten, Masking, Dropout\n",
    "from tensorflow.keras.layers import GRU, LSTM, TimeDistributed\n",
    "from tensorflow.keras.preprocessing.sequence import pad_sequences\n",
    "\n",
    "from tensorflow.keras.utils import to_categorical\n",
    "\n",
    "from tensorflow.keras.metrics import Recall, Precision\n",
    "\n",
    "from keras.layers.convolutional import Conv1D, MaxPooling1D, Conv2D, MaxPooling2D"
   ]
  },
  {
   "cell_type": "code",
   "execution_count": 9,
   "id": "a12b9fbf",
   "metadata": {
    "ExecuteTime": {
     "end_time": "2022-12-13T15:22:22.153793Z",
     "start_time": "2022-12-13T15:22:20.933515Z"
    }
   },
   "outputs": [
    {
     "name": "stdout",
     "output_type": "stream",
     "text": [
      "mtype Conv1D..\n",
      "reshaping..\n",
      "shape for mode Conv1D: X: (9667, 20, 50, 3), y: (9667, 4)\n"
     ]
    }
   ],
   "source": [
    "encoder = LabelBinarizer()\n",
    "y_ohe= encoder.fit_transform(y)\n",
    "\n",
    "print(\"mtype {}..\".format(mtype))\n",
    "X_np=np.asarray(X)\n",
    "if mtype == \"Conv2D\" or mtype == \"Conv1D\" : \n",
    "  print(\"reshaping..\")\n",
    "  X_np=X_np.reshape(len(X_np), win_len, sampling, n_sensors)  \n",
    "    \n",
    "print(\"shape for mode {}: X: {}, y: {}\".format(mtype, str(X_np.shape), str(y_ohe.shape)))"
   ]
  },
  {
   "cell_type": "code",
   "execution_count": 10,
   "id": "63e71099",
   "metadata": {
    "ExecuteTime": {
     "end_time": "2022-12-13T15:22:23.983682Z",
     "start_time": "2022-12-13T15:22:22.159548Z"
    }
   },
   "outputs": [],
   "source": [
    "#do_shuffle=(mtype ==\"cnn\")\n",
    "#nb, this is the split of the whole ds, 'cuz we want the best resluts\n",
    "#on out watch collected data (jsons)\n",
    "\n",
    "do_shuffle=True\n",
    "X_train, X_test, y_train, y_test = train_test_split(X_np, y_ohe, test_size = 0.3,  \n",
    "                                                    random_state = 1, shuffle=do_shuffle)\n",
    "X_train, X_val, y_train, y_val = train_test_split(X_train, y_train, test_size = 0.5, \n",
    "                                                    random_state = 1, shuffle=do_shuffle)"
   ]
  },
  {
   "cell_type": "code",
   "execution_count": 11,
   "id": "b1b39614",
   "metadata": {
    "ExecuteTime": {
     "end_time": "2022-12-13T15:22:24.001999Z",
     "start_time": "2022-12-13T15:22:23.986193Z"
    },
    "scrolled": true
   },
   "outputs": [],
   "source": [
    "normalize=True\n",
    "droput=False\n",
    "\n",
    "def initialize_cnn_model(y_train):\n",
    "    model = Sequential()    \n",
    "    \n",
    "    model.add(layers.Conv2D(64, (3,3), padding='same', activation='relu', \n",
    "                            input_shape=(win_len, sampling, n_sensors))) \n",
    "    \n",
    "    if normalize : model.add(layers.BatchNormalization())\n",
    "        \n",
    "    model.add(layers.Conv2D(32, (3,3), padding='same', activation='relu'))\n",
    "    if normalize : model.add(layers.BatchNormalization())\n",
    "    if droput: model.add(layers.Dropout(0.3))\n",
    "        \n",
    "    model.add(layers.Conv2D(16, (3,3), padding='same', activation='relu'))\n",
    "    if normalize :model.add(layers.BatchNormalization())\n",
    "    if droput: model.add(layers.Dropout(0.5))\n",
    "           \n",
    "    model.add(layers.Flatten())\n",
    "    \n",
    "    model.add(layers.Dense(48, activation='relu'))\n",
    "    model.add(layers.Dense(y_train.shape[1], activation='softmax')) \n",
    "\n",
    "    return model"
   ]
  },
  {
   "cell_type": "code",
   "execution_count": 12,
   "id": "0f31eea1",
   "metadata": {
    "ExecuteTime": {
     "end_time": "2022-12-13T15:22:24.014039Z",
     "start_time": "2022-12-13T15:22:24.005205Z"
    }
   },
   "outputs": [],
   "source": [
    "#print(X_train.shape, y_train.shape, X_train[1].shape, y_train.shape[1])"
   ]
  },
  {
   "cell_type": "code",
   "execution_count": 13,
   "id": "6bbc8c58",
   "metadata": {
    "ExecuteTime": {
     "end_time": "2022-12-13T15:22:24.025473Z",
     "start_time": "2022-12-13T15:22:24.016505Z"
    }
   },
   "outputs": [],
   "source": [
    "normalize_input=True\n",
    "droput=True\n",
    "    \n",
    "def initialize_rnn_model(X_train, y_train):        \n",
    "    model = Sequential() \n",
    "       \n",
    "    model.add(layers.Masking(mask_value=-1., input_shape=X_train[1].shape))\n",
    "    \n",
    "    if normalize_input :\n",
    "      nl=Normalization()\n",
    "      nl.adapt(X_train)\n",
    "      model.add(nl) \n",
    "    \n",
    "    model.add(layers.GRU(units=20, activation='tanh', return_sequences=True))\n",
    "    model.add(layers.GRU(units=20, activation='tanh', return_sequences=False))    \n",
    "    model.add(layers.Dense(50, activation='relu'))    \n",
    "    if droput: model.add(layers.Dropout(0.3))\n",
    "        \n",
    "    model.add(layers.Dense(y_train.shape[1], activation='softmax'))\n",
    "    \n",
    "    return model\n",
    "\n",
    "#loss: 0.9147 - recall_3: 0.4800  precision_3: 0.7794 - prc: 0.7152 \n",
    "#val_loss: 0.9957  val_recall_3: 0.4405  val_precision_3: 0.7363 - val_prc: 0.6772"
   ]
  },
  {
   "cell_type": "code",
   "execution_count": 14,
   "id": "be78c342",
   "metadata": {
    "ExecuteTime": {
     "end_time": "2022-12-13T15:22:24.039306Z",
     "start_time": "2022-12-13T15:22:24.028925Z"
    }
   },
   "outputs": [],
   "source": [
    "from keras.regularizers import l2\n",
    "\n",
    "do_normalize=False\n",
    "droput=False\n",
    "\n",
    "def initialize_conv1d_model(X_train, y_train):        \n",
    "      model = Sequential()          \n",
    "        \n",
    "      model.add(layers.Conv1D(filters=32, kernel_size=3, activation='relu', \n",
    "                              input_shape=(win_len, sampling, n_sensors)))      \n",
    "      model.add(TimeDistributed(Flatten()))\n",
    "      if do_normalize: model.add(layers.BatchNormalization())\n",
    "      model.add(layers.GRU(units=20, activation='tanh', return_sequences=True))\n",
    "      model.add(layers.GRU(units=20, activation='tanh', return_sequences=False))    \n",
    "      model.add(layers.Dense(50, activation='relu'))    \n",
    "      if droput: model.add(layers.Dropout(0.3))        \n",
    "      model.add(layers.Dense(y_train.shape[1], activation='softmax'))\n",
    "                         \n",
    "      return model"
   ]
  },
  {
   "cell_type": "code",
   "execution_count": 15,
   "id": "ed7d796e",
   "metadata": {
    "ExecuteTime": {
     "end_time": "2022-12-13T15:23:44.761819Z",
     "start_time": "2022-12-13T15:22:24.041886Z"
    }
   },
   "outputs": [
    {
     "name": "stdout",
     "output_type": "stream",
     "text": [
      "model Conv1D\n",
      "Model: \"sequential\"\n",
      "_________________________________________________________________\n",
      " Layer (type)                Output Shape              Param #   \n",
      "=================================================================\n",
      " conv1d (Conv1D)             (None, 20, 48, 32)        320       \n",
      "                                                                 \n",
      " time_distributed (TimeDistr  (None, 20, 1536)         0         \n",
      " ibuted)                                                         \n",
      "                                                                 \n",
      " gru (GRU)                   (None, 20, 20)            93480     \n",
      "                                                                 \n",
      " gru_1 (GRU)                 (None, 20)                2520      \n",
      "                                                                 \n",
      " dense (Dense)               (None, 50)                1050      \n",
      "                                                                 \n",
      " dense_1 (Dense)             (None, 4)                 204       \n",
      "                                                                 \n",
      "=================================================================\n",
      "Total params: 97,574\n",
      "Trainable params: 97,574\n",
      "Non-trainable params: 0\n",
      "_________________________________________________________________\n",
      "Epoch 1/20\n",
      "27/27 [==============================] - 13s 217ms/step - loss: 0.9977 - accuracy: 0.5631 - recall: 0.3343 - precision: 0.7078 - prc: 0.6043 - val_loss: 0.7486 - val_accuracy: 0.6917 - val_recall: 0.6595 - val_precision: 0.7096 - val_prc: 0.7412\n",
      "Epoch 2/20\n",
      "27/27 [==============================] - 3s 121ms/step - loss: 0.6830 - accuracy: 0.7192 - recall: 0.6858 - precision: 0.7403 - prc: 0.7724 - val_loss: 0.6198 - val_accuracy: 0.7555 - val_recall: 0.7242 - val_precision: 0.7863 - val_prc: 0.8270\n",
      "Epoch 3/20\n",
      "27/27 [==============================] - 3s 125ms/step - loss: 0.5196 - accuracy: 0.8087 - recall: 0.7919 - precision: 0.8228 - prc: 0.8653 - val_loss: 0.5130 - val_accuracy: 0.8070 - val_recall: 0.7922 - val_precision: 0.8216 - val_prc: 0.8707\n",
      "Epoch 4/20\n",
      "27/27 [==============================] - 4s 145ms/step - loss: 0.3856 - accuracy: 0.8578 - recall: 0.8487 - precision: 0.8700 - prc: 0.9287 - val_loss: 0.4453 - val_accuracy: 0.8312 - val_recall: 0.8212 - val_precision: 0.8436 - val_prc: 0.9070\n",
      "Epoch 5/20\n",
      "27/27 [==============================] - 3s 127ms/step - loss: 0.3227 - accuracy: 0.8894 - recall: 0.8824 - precision: 0.8964 - prc: 0.9485 - val_loss: 0.4320 - val_accuracy: 0.8401 - val_recall: 0.8333 - val_precision: 0.8455 - val_prc: 0.9114\n",
      "Epoch 6/20\n",
      "27/27 [==============================] - 3s 124ms/step - loss: 0.2573 - accuracy: 0.9110 - recall: 0.9081 - precision: 0.9159 - prc: 0.9672 - val_loss: 0.4235 - val_accuracy: 0.8419 - val_recall: 0.8351 - val_precision: 0.8483 - val_prc: 0.9194\n",
      "Epoch 7/20\n",
      "27/27 [==============================] - 3s 113ms/step - loss: 0.2254 - accuracy: 0.9196 - recall: 0.9163 - precision: 0.9221 - prc: 0.9745 - val_loss: 0.4027 - val_accuracy: 0.8484 - val_recall: 0.8445 - val_precision: 0.8533 - val_prc: 0.9243\n",
      "Epoch 8/20\n",
      "27/27 [==============================] - 3s 123ms/step - loss: 0.1968 - accuracy: 0.9344 - recall: 0.9314 - precision: 0.9389 - prc: 0.9799 - val_loss: 0.3983 - val_accuracy: 0.8516 - val_recall: 0.8481 - val_precision: 0.8557 - val_prc: 0.9277\n",
      "Epoch 9/20\n",
      "27/27 [==============================] - 4s 132ms/step - loss: 0.1781 - accuracy: 0.9376 - recall: 0.9356 - precision: 0.9422 - prc: 0.9834 - val_loss: 0.3970 - val_accuracy: 0.8546 - val_recall: 0.8507 - val_precision: 0.8573 - val_prc: 0.9282\n",
      "Epoch 10/20\n",
      "27/27 [==============================] - 3s 120ms/step - loss: 0.1655 - accuracy: 0.9492 - recall: 0.9456 - precision: 0.9524 - prc: 0.9853 - val_loss: 0.3938 - val_accuracy: 0.8543 - val_recall: 0.8507 - val_precision: 0.8578 - val_prc: 0.9309\n",
      "Epoch 11/20\n",
      "27/27 [==============================] - 3s 120ms/step - loss: 0.1572 - accuracy: 0.9486 - recall: 0.9471 - precision: 0.9516 - prc: 0.9864 - val_loss: 0.3934 - val_accuracy: 0.8543 - val_recall: 0.8513 - val_precision: 0.8582 - val_prc: 0.9307\n",
      "Epoch 12/20\n",
      "27/27 [==============================] - 3s 115ms/step - loss: 0.1511 - accuracy: 0.9548 - recall: 0.9521 - precision: 0.9564 - prc: 0.9875 - val_loss: 0.3929 - val_accuracy: 0.8552 - val_recall: 0.8525 - val_precision: 0.8596 - val_prc: 0.9319\n",
      "Epoch 13/20\n",
      "27/27 [==============================] - 4s 139ms/step - loss: 0.1475 - accuracy: 0.9548 - recall: 0.9518 - precision: 0.9563 - prc: 0.9881 - val_loss: 0.3930 - val_accuracy: 0.8563 - val_recall: 0.8531 - val_precision: 0.8592 - val_prc: 0.9316\n",
      "Epoch 14/20\n",
      "27/27 [==============================] - 3s 120ms/step - loss: 0.1449 - accuracy: 0.9548 - recall: 0.9521 - precision: 0.9564 - prc: 0.9884 - val_loss: 0.3931 - val_accuracy: 0.8555 - val_recall: 0.8525 - val_precision: 0.8591 - val_prc: 0.9324\n",
      "Epoch 15/20\n",
      "27/27 [==============================] - 3s 129ms/step - loss: 0.1430 - accuracy: 0.9565 - recall: 0.9530 - precision: 0.9584 - prc: 0.9888 - val_loss: 0.3927 - val_accuracy: 0.8566 - val_recall: 0.8531 - val_precision: 0.8602 - val_prc: 0.9326\n",
      "Epoch 16/20\n",
      "27/27 [==============================] - 4s 153ms/step - loss: 0.1415 - accuracy: 0.9557 - recall: 0.9530 - precision: 0.9581 - prc: 0.9890 - val_loss: 0.3935 - val_accuracy: 0.8563 - val_recall: 0.8537 - val_precision: 0.8611 - val_prc: 0.9325\n",
      "Epoch 17/20\n",
      "27/27 [==============================] - 4s 137ms/step - loss: 0.1406 - accuracy: 0.9560 - recall: 0.9530 - precision: 0.9584 - prc: 0.9890 - val_loss: 0.3935 - val_accuracy: 0.8575 - val_recall: 0.8528 - val_precision: 0.8617 - val_prc: 0.9328\n",
      "Epoch 18/20\n",
      "27/27 [==============================] - 4s 129ms/step - loss: 0.1401 - accuracy: 0.9568 - recall: 0.9536 - precision: 0.9590 - prc: 0.9891 - val_loss: 0.3934 - val_accuracy: 0.8575 - val_recall: 0.8537 - val_precision: 0.8621 - val_prc: 0.9328\n",
      "Epoch 19/20\n",
      "27/27 [==============================] - 4s 133ms/step - loss: 0.1396 - accuracy: 0.9568 - recall: 0.9536 - precision: 0.9593 - prc: 0.9892 - val_loss: 0.3936 - val_accuracy: 0.8596 - val_recall: 0.8540 - val_precision: 0.8629 - val_prc: 0.9326\n",
      "Epoch 20/20\n",
      "27/27 [==============================] - 3s 121ms/step - loss: 0.1394 - accuracy: 0.9568 - recall: 0.9542 - precision: 0.9590 - prc: 0.9892 - val_loss: 0.3935 - val_accuracy: 0.8566 - val_recall: 0.8540 - val_precision: 0.8614 - val_prc: 0.9327\n"
     ]
    }
   ],
   "source": [
    "try:\n",
    "  del model\n",
    "except:\n",
    "  pass\n",
    "\n",
    "batch_size=128\n",
    "init_learning_rate=0.01\n",
    "use_expo_decay=True\n",
    "use_early_stop=True\n",
    "max_epochs=100\n",
    "\n",
    "print(\"model {}\".format(mtype))\n",
    "\n",
    "if mtype == \"Conv2D\":\n",
    "  model=initialize_cnn_model(y_train)\n",
    "  max_epochs=20    \n",
    "elif mtype == \"Conv1D\" :\n",
    "  model=initialize_conv1d_model(X_train, y_train)\n",
    "  max_epochs=20\n",
    "elif mtype == \"GRU\": \n",
    "  model=initialize_rnn_model(X_train, y_train)  \n",
    "  max_epochs=20     \n",
    "else:\n",
    "  print(\"bad mtype {}\".format(mtype))\n",
    "  raise(\"err\")\n",
    "\n",
    "model.summary()  \n",
    "\n",
    "metrics = [  'accuracy',\n",
    "             keras.metrics.Recall(), \n",
    "             keras.metrics.Precision(),\n",
    "             keras.metrics.AUC(name='prc', curve='PR') ]\n",
    "\n",
    "lr = ExponentialDecay(init_learning_rate, decay_steps = 50, decay_rate = 0.5) if use_expo_decay else init_learning_rate \n",
    "adam = Adam(learning_rate = lr)\n",
    "\n",
    "model.compile(loss=\"categorical_crossentropy\", optimizer=adam, metrics=metrics)\n",
    "\n",
    "def say_hello(batch, logs):\n",
    "    print(\"we're done\")\n",
    "    \n",
    "if use_early_stop : \n",
    "  cbf = EarlyStopping(patience=10, restore_best_weights = True)\n",
    "else:\n",
    "  cbf = keras.callbacks.LambdaCallback(on_train_end=say_hello)\n",
    "\n",
    "fit_start_time = time.time()\n",
    "\n",
    "history=model.fit(X_train, y_train, validation_data=(X_val, y_val), batch_size=batch_size, \n",
    "                  epochs = max_epochs, callbacks = [cbf], verbose = 1, shuffle=do_shuffle)\n",
    "\n",
    "fit_end_time = time.time()"
   ]
  },
  {
   "cell_type": "code",
   "execution_count": 22,
   "id": "90ec0283",
   "metadata": {
    "ExecuteTime": {
     "end_time": "2022-12-13T15:24:24.748810Z",
     "start_time": "2022-12-13T15:24:23.214991Z"
    }
   },
   "outputs": [
    {
     "name": "stdout",
     "output_type": "stream",
     "text": [
      "91/91 [==============================] - 1s 12ms/step - loss: 0.4113 - accuracy: 0.8438 - recall: 0.8390 - precision: 0.8499 - prc: 0.9292\n",
      "['loss', 'accuracy', 'recall', 'precision', 'prc']\n",
      "0.41133812069892883 0.8438469767570496, 0.8390210270881653, 0.8498603105545044, 0.9292163252830505\n"
     ]
    }
   ],
   "source": [
    "res = model.evaluate(X_test, y_test)\n",
    "\n",
    "print(model.metrics_names)\n",
    "loss=res[0]\n",
    "raccuracy=res[1]\n",
    "recall=res[2]\n",
    "precision=res[3]\n",
    "prc=res[4]\n",
    "print(\"{} {}, {}, {}, {}\".format(res[0], res[1], res[2], res[3], res[4]))"
   ]
  },
  {
   "cell_type": "code",
   "execution_count": 17,
   "id": "ffc5cc8b",
   "metadata": {
    "ExecuteTime": {
     "end_time": "2022-12-13T15:23:48.812549Z",
     "start_time": "2022-12-13T15:23:46.168682Z"
    }
   },
   "outputs": [
    {
     "name": "stdout",
     "output_type": "stream",
     "text": [
      "91/91 [==============================] - 2s 11ms/step\n"
     ]
    },
    {
     "data": {
      "image/png": "[encoded data removed]",
      "text/plain": [
       "<Figure size 900x600 with 2 Axes>"
      ]
     },
     "metadata": {},
     "output_type": "display_data"
    }
   ],
   "source": [
    "#do_shuffle=(mtype ==\"cnn\")\n",
    "#nb final train !!! whole data is used, no X,y_test here...\n",
    "from sklearn import metrics\n",
    "def confusion_matrix(y, y_pred, labels):    \n",
    "    matrix = metrics.confusion_matrix(y, y_pred)\n",
    "    plt.figure(figsize=(9, 6))\n",
    "    ax= sns.heatmap(matrix, cmap='coolwarm', linecolor='white', \n",
    "                    linewidths=1, xticklabels=labels, yticklabels=labels, annot=True, fmt='d')\n",
    "    #bottom, top = ax.get_ylim()\n",
    "    #ax.set_ylim(bottom + 0.5, top - 0.5)\n",
    "    plt.title('Confusion Matrix Accel 4 cats')\n",
    "    plt.ylabel('True Label')\n",
    "    plt.xlabel('Predicted Label')\n",
    "    plt.show()\n",
    "    \n",
    "y_test_idx=[]\n",
    "for idx in range (0, len(y_test)):\n",
    "  elem=y_test[idx]\n",
    "  for ncat in range(0, len(elem)):\n",
    "    if elem[ncat] == 1 :\n",
    "        y_test_idx.append(ncat) \n",
    "        break\n",
    "\n",
    "y_pred_ohe = model.predict(X_test)\n",
    "y_pred_idx=np.argmax(y_pred_ohe,axis=1)\n",
    "y_pred_idx_list=y_pred_idx.tolist()\n",
    "\n",
    "act_labels = act_types_mapping.keys() if remap_acts else act_types\n",
    "\n",
    "confusion_matrix(y_test_idx, y_pred_idx_list, act_labels)"
   ]
  },
  {
   "cell_type": "markdown",
   "id": "8033f1d1",
   "metadata": {},
   "source": [
    "#non adjusted\n",
    "executed in 862ms, finished 22:51:52 2022-12-05\n",
    "60/60 [==============================] - 1s 13ms/step - loss: 0.9563 - recall_5: 0.8027 - precision_5: 0.8185 - prc: 0.8577\n",
    "['loss', 'recall_5', 'precision_5', 'prc']\n",
    "0.9563313126564026, 0.8027139902114868, 0.8185204863548279, 0.8577141761779785"
   ]
  },
  {
   "cell_type": "code",
   "execution_count": 18,
   "id": "811b3efa",
   "metadata": {
    "ExecuteTime": {
     "end_time": "2022-12-13T15:23:48.826090Z",
     "start_time": "2022-12-13T15:23:48.815432Z"
    }
   },
   "outputs": [],
   "source": [
    "def plot_history_prc(history, optimizer_str, axs=None, exp_name=\"\"):\n",
    "    if axs is not None:\n",
    "        ax1, ax2 = axs\n",
    "    else:\n",
    "        f, (ax1, ax2) = plt.subplots(1, 2, figsize=(12, 4))\n",
    "    \n",
    "    if len(exp_name) > 0 and exp_name[0] != '_':\n",
    "        exp_name = '_' + exp_name\n",
    "    \n",
    "    pkey=\"precision\"; vpkey=\"val_precision\"\n",
    "    for key in history.history.keys():\n",
    "      if key.startswith(\"precision\")       : pkey=key; \n",
    "      elif key.startswith(\"val_precision\") : vpkey=key; \n",
    "        \n",
    "    ax1.plot(history.history['loss'], label = 'train' + exp_name)\n",
    "    ax1.plot(history.history['val_loss'], label = 'val' + exp_name)\n",
    "    ax1.set_ylim(0., 2.2)\n",
    "    ax1.set_title('loss')\n",
    "    ax1.legend()\n",
    "               \n",
    "    ax2.plot(history.history[pkey], label='train precision'  + exp_name)\n",
    "    ax2.plot(history.history[vpkey], label='val precision'  + exp_name)\n",
    "    ax2.set_ylim(0.25, 1.)\n",
    "    ax2.set_title('Accuracy ' + optimizer_str)\n",
    "    ax2.legend()\n",
    "    return (ax1, ax2)\n",
    "\n",
    "def plot_history_acc(history, optimizer_str, axs=None, exp_name=\"\"):\n",
    "    if axs is not None:\n",
    "        ax1, ax2 = axs\n",
    "    else:\n",
    "        f, (ax1, ax2) = plt.subplots(1, 2, figsize=(12, 4))\n",
    "    \n",
    "    if len(exp_name) > 0 and exp_name[0] != '_':\n",
    "        exp_name = '_' + exp_name\n",
    "    \n",
    "    pkey=\"accuracy\"; vpkey=\"val_accuracy\"\n",
    "    for key in history.history.keys():\n",
    "      if key.startswith(\"accuracy\")       : pkey=key; \n",
    "      elif key.startswith(\"val_accuracy\") : vpkey=key; \n",
    "        \n",
    "    ax1.plot(history.history['loss'], label = 'train' + exp_name)\n",
    "    ax1.plot(history.history['val_loss'], label = 'val' + exp_name)\n",
    "    ax1.set_ylim(0., 2.2)\n",
    "    ax1.set_title('loss')\n",
    "    ax1.legend()\n",
    "               \n",
    "    ax2.plot(history.history[pkey], label='train accuracy'  + exp_name)\n",
    "    ax2.plot(history.history[vpkey], label='val accuracy'  + exp_name)\n",
    "    ax2.set_ylim(0.25, 1.)\n",
    "    ax2.set_title('Accuracy ' + optimizer_str)\n",
    "    ax2.legend()\n",
    "    return (ax1, ax2)"
   ]
  },
  {
   "cell_type": "code",
   "execution_count": 19,
   "id": "6f90b9b7",
   "metadata": {
    "ExecuteTime": {
     "end_time": "2022-12-13T15:23:49.468081Z",
     "start_time": "2022-12-13T15:23:48.829132Z"
    }
   },
   "outputs": [
    {
     "name": "stdout",
     "output_type": "stream",
     "text": [
      "fit time with Adam optimizer 79.2277352809906 secs after 20 epochs\n"
     ]
    },
    {
     "data": {
      "text/plain": [
       "(<AxesSubplot: title={'center': 'loss'}>,\n",
       " <AxesSubplot: title={'center': 'Accuracy Adam'}>)"
      ]
     },
     "execution_count": 19,
     "metadata": {},
     "output_type": "execute_result"
    },
    {
     "data": {
      "image/png": "[encoded data removed]",
      "text/plain": [
       "<Figure size 1200x400 with 2 Axes>"
      ]
     },
     "metadata": {},
     "output_type": "display_data"
    }
   ],
   "source": [
    "optimizer_str=str(K.eval(model.optimizer)).split(\".\")[-1].split()[0]\n",
    "\n",
    "print(\"fit time with {} optimizer {} secs after {} epochs\".format(optimizer_str, \n",
    "                                            (fit_end_time - fit_start_time), len(history.epoch)))\n",
    "\n",
    "plot_history_acc(history, optimizer_str)"
   ]
  },
  {
   "cell_type": "code",
   "execution_count": 20,
   "id": "989d3a16",
   "metadata": {
    "ExecuteTime": {
     "end_time": "2022-12-13T15:23:49.835327Z",
     "start_time": "2022-12-13T15:23:49.470543Z"
    }
   },
   "outputs": [
    {
     "name": "stdout",
     "output_type": "stream",
     "text": [
      "concat 2022-12-06T15:45:20Z.json ok\n",
      "concat 2022-12-06T15:45:37Z.json ok\n",
      "concat 2022-12-06T15:48:57Z.json ok\n",
      "concat 2022-12-06T15:49:09Z.json ok\n",
      "concat 2022-12-06T15:49:29Z.json ok\n",
      "concat 2022-12-06T15:50:37Z.json ok\n",
      "concat 2022-12-06T15:50:48Z.json ok\n",
      "concat 2022-12-06T15:50:59Z.json ok\n",
      "concat 2022-12-06T15:51:08Z.json ok\n",
      "concat 2022-12-06T15:51:16Z.json ok\n",
      "concat 2022-12-06T15:51:26Z.json ok\n",
      "concat 2022-12-06T15:54:04Z.json ok\n",
      "concat 2022-12-06T15:54:13Z.json ok\n",
      "concat 2022-12-06T15:54:22Z.json ok\n",
      "concat 2022-12-06T15:54:30Z.json ok\n",
      "concat 2022-12-06T15:54:47Z.json ok\n",
      "concat 2022-12-06T15:54:57Z.json ok\n",
      "concat 2022-12-06T15:55:16Z.json ok\n",
      "concat 2022-12-06T15:55:26Z.json ok\n",
      "concat 2022-12-06T15:55:38Z.json ok\n",
      "pb with andre.tgz\n"
     ]
    }
   ],
   "source": [
    "#nb in test json it was mixed up, data tagged 'Linear_acceleration_sensor_x_WD'\n",
    "#in json is in fact \n",
    "sensors=[ 'Linear_acceleration_sensor_x_WD', \n",
    "          'Linear_acceleration_sensor_y_WD',\n",
    "          'Linear_acceleration_sensor_z_WD'] \n",
    "\n",
    "jsons_dir=\"jsons/3/\" \n",
    "\n",
    "df=None\n",
    "for f_in in os.listdir(jsons_dir): \n",
    "  try:\n",
    "    if df is not None :\n",
    "      df2 = pd.read_json(jsons_dir+f_in)\n",
    "      df=pd.concat([df, df2], ignore_index=True, axis=0)\n",
    "    else :  \n",
    "      df = pd.read_json(jsons_dir+f_in)\n",
    "    print(\"concat {} ok\".format(f_in, len(df))) \n",
    "  except :\n",
    "     print(\"pb with {}\".format(f_in))  \n",
    "        \n",
    "real_df=df.sort_values(by='Engineered_Timestamp', ignore_index=True)\n",
    "real_df=real_df.reset_index(drop=True)"
   ]
  },
  {
   "cell_type": "code",
   "execution_count": 23,
   "id": "b001fc7f",
   "metadata": {
    "ExecuteTime": {
     "end_time": "2022-12-13T15:27:31.947910Z",
     "start_time": "2022-12-13T15:27:31.610851Z"
    }
   },
   "outputs": [
    {
     "data": {
      "text/plain": [
       "<AxesSubplot: >"
      ]
     },
     "execution_count": 23,
     "metadata": {},
     "output_type": "execute_result"
    },
    {
     "data": {
      "image/png": "[encoded data removed]",
      "text/plain": [
       "<Figure size 640x480 with 1 Axes>"
      ]
     },
     "metadata": {},
     "output_type": "display_data"
    }
   ],
   "source": [
    "df_smoke=real_df[real_df['Class_Encoded']==1]\n",
    "df_smoke=df_smoke[sensors].head(tot_frame_len)\n",
    "df_smoke['Linear_acceleration_sensor_x_WD'].plot()\n",
    "df_smoke['Linear_acceleration_sensor_y_WD'].plot()\n",
    "df_smoke['Linear_acceleration_sensor_z_WD'].plot()\n",
    "\n",
    "df_drink=real_df[real_df['Class_Encoded']==3]\n",
    "df_drink=df_drink[sensors].head(tot_frame_len)\n",
    "df_drink['Linear_acceleration_sensor_x_WD'].plot()\n",
    "df_drink['Linear_acceleration_sensor_y_WD'].plot()\n",
    "df_drink['Linear_acceleration_sensor_z_WD'].plot()"
   ]
  },
  {
   "cell_type": "code",
   "execution_count": 25,
   "id": "fb1077d8",
   "metadata": {
    "ExecuteTime": {
     "end_time": "2022-12-13T15:27:50.243641Z",
     "start_time": "2022-12-13T15:27:50.236718Z"
    }
   },
   "outputs": [],
   "source": [
    "def probs_to_cats(yp, encoder):\n",
    "   ypt=np.zeros((len(yp[0]),), dtype=int)\n",
    "   maxpos=np.argmax(yp)\n",
    "   ypt[maxpos]=1 \n",
    "   return encoder.inverse_transform(np.expand_dims(ypt, axis=0))[0]"
   ]
  },
  {
   "cell_type": "code",
   "execution_count": 26,
   "id": "f285bbf5",
   "metadata": {
    "ExecuteTime": {
     "end_time": "2022-12-13T15:27:52.524403Z",
     "start_time": "2022-12-13T15:27:52.343302Z"
    }
   },
   "outputs": [
    {
     "name": "stdout",
     "output_type": "stream",
     "text": [
      "1/1 [==============================] - 0s 22ms/step\n",
      "[[9.7054178e-01 3.2177233e-04 2.9095003e-02 4.1393549e-05]]\n",
      "1/1 [==============================] - 0s 21ms/step\n"
     ]
    },
    {
     "data": {
      "text/plain": [
       "'drink'"
      ]
     },
     "execution_count": 26,
     "metadata": {},
     "output_type": "execute_result"
    }
   ],
   "source": [
    "X_test=np.asarray(df_smoke)\n",
    "X_test=X_test.reshape(1, win_len, sampling, n_sensors)  \n",
    " \n",
    "y_pred=model.predict(X_test)\n",
    "print(y_pred)\n",
    "probs_to_cats(model.predict(X_test), encoder)"
   ]
  },
  {
   "cell_type": "code",
   "execution_count": 27,
   "id": "31e71663",
   "metadata": {
    "ExecuteTime": {
     "end_time": "2022-12-13T15:27:55.115359Z",
     "start_time": "2022-12-13T15:27:54.928646Z"
    }
   },
   "outputs": [
    {
     "name": "stdout",
     "output_type": "stream",
     "text": [
      "1/1 [==============================] - 0s 24ms/step\n",
      "[[9.6405125e-01 7.8258757e-04 3.5075385e-02 9.0828988e-05]]\n",
      "1/1 [==============================] - 0s 23ms/step\n"
     ]
    },
    {
     "data": {
      "text/plain": [
       "'drink'"
      ]
     },
     "execution_count": 27,
     "metadata": {},
     "output_type": "execute_result"
    }
   ],
   "source": [
    "X_test=np.asarray(df_drink)\n",
    "X_test=X_test.reshape(1, win_len, sampling, n_sensors)  \n",
    " \n",
    "y_pred=model.predict(X_test)\n",
    "print(y_pred)\n",
    "probs_to_cats(model.predict(X_test), encoder)"
   ]
  },
  {
   "cell_type": "code",
   "execution_count": null,
   "id": "f472f300",
   "metadata": {
    "ExecuteTime": {
     "end_time": "2022-12-13T15:23:50.305208Z",
     "start_time": "2022-12-13T15:23:50.305188Z"
    }
   },
   "outputs": [],
   "source": [
    "import mlflow.keras\n",
    "\n",
    "set_env_manual=True\n",
    "\n",
    "if set_env_manual:\n",
    "  os.environ['MODEL_TARGET'] = \"mlflow\"\n",
    "  os.environ['MLFLOW_TRACKING_URI'] = \"https://mlflow.lewagon.ai\"\n",
    "  os.environ['MLFLOW_EXPERIMENT'] = \"ut_ds_prepro_ak\"\n",
    "  os.environ['MLFLOW_MODEL_NAME'] = id_str + \"_\" + optimizer_str\n",
    "  os.environ['MLFLOW_STAGE'] = \"staging\"   \n",
    "\n",
    "model_taget=os.environ.get(\"MODEL_TARGET\")\n",
    "\n",
    "if model_taget is None : model_taget=\"\"\n",
    "\n",
    "params = dict( sampling=sampling,\n",
    "               win_len=win_len,\n",
    "               overlap=overlap,\n",
    "               overlap_len=overlap_len,\n",
    "               \n",
    "               model_type=mtype,\n",
    "               optimizer=optimizer_str, \n",
    "               batch_size=batch_size,\n",
    "               learning_rate=init_learning_rate,\n",
    "               use_expo_decay=use_expo_decay,\n",
    "               use_early_stop=use_early_stop)\n",
    "\n",
    "metrics = dict(loss=loss, precision=precision, recall=recall, prc=prc )\n",
    "\n",
    "if model_taget == \"local\" : \n",
    "   if save_model : \n",
    "      model.save(\"model_\"+id_str)  \n",
    "      print(\"model saved locally in {} dir\".format(model_complexity))\n",
    "   else:\n",
    "      print(\"model is not saved\")\n",
    "elif model_taget == \"mlflow\" :\n",
    "   try:\n",
    "        print(\"save model to mlflow...\")\n",
    "\n",
    "        mlflow_tracking_uri = os.environ.get(\"MLFLOW_TRACKING_URI\")\n",
    "        mlflow_experiment = os.environ.get(\"MLFLOW_EXPERIMENT\")\n",
    "        mlflow_model_name = os.environ.get(\"MLFLOW_MODEL_NAME\")\n",
    "        \n",
    "        if mlflow_tracking_uri != \"\" and mlflow_experiment != \"\" and mlflow_model_name != \"\" :\n",
    "            mlflow.set_tracking_uri(mlflow_tracking_uri)\n",
    "            mlflow.set_experiment(experiment_name=mlflow_experiment)\n",
    "\n",
    "            with mlflow.start_run():                       \n",
    "              if params is not None:\n",
    "                  mlflow.log_params(params)\n",
    "\n",
    "              if metrics is not None:\n",
    "                  mlflow.log_metrics(metrics)\n",
    "\n",
    "              if model is not None:\n",
    "                  mlflow.keras.log_model(model, artifact_path=\"model\",\n",
    "                                         registered_model_name=mlflow_model_name)\n",
    "\n",
    "            print(\"data saved to mlflow {} {} {} ok\".format(mlflow_tracking_uri, mlflow_experiment, mlflow_model_name))\n",
    "        else:\n",
    "            print(\"mlflow env vars are missing or undefined...\")\n",
    "   except Exception as err:      \n",
    "     print(\"error {} while saving model to mlflow\".format(str(err)))"
   ]
  }
 ],
 "metadata": {
  "kernelspec": {
   "display_name": "Python 3 (ipykernel)",
   "language": "python",
   "name": "python3"
  },
  "language_info": {
   "codemirror_mode": {
    "name": "ipython",
    "version": 3
   },
   "file_extension": ".py",
   "mimetype": "text/x-python",
   "name": "python",
   "nbconvert_exporter": "python",
   "pygments_lexer": "ipython3",
   "version": "3.10.6"
  },
  "toc": {
   "base_numbering": 1,
   "nav_menu": {},
   "number_sections": true,
   "sideBar": true,
   "skip_h1_title": false,
   "title_cell": "Table of Contents",
   "title_sidebar": "Contents",
   "toc_cell": false,
   "toc_position": {},
   "toc_section_display": true,
   "toc_window_display": false
  }
 },
 "nbformat": 4,
 "nbformat_minor": 5
}
