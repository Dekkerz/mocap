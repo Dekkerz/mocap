{
 "cells": [
  {
   "cell_type": "code",
   "execution_count": 1,
   "id": "5028e239",
   "metadata": {
    "ExecuteTime": {
     "end_time": "2022-12-05T09:26:44.789188Z",
     "start_time": "2022-12-05T09:26:43.862534Z"
    },
    "collapsed": true
   },
   "outputs": [
    {
     "name": "stdout",
     "output_type": "stream",
     "text": [
      "Obtaining file:///Users/pierrejunca/code/Dekkerz/mocap\n",
      "  Preparing metadata (setup.py) ... \u001b[?25ldone\n",
      "\u001b[?25hRequirement already satisfied: pip>=22.2.1 in /Users/pierrejunca/.pyenv/versions/3.10.6/envs/mocap/lib/python3.10/site-packages (from mocap==0.0.2) (22.2.1)\n",
      "Requirement already satisfied: numpy in /Users/pierrejunca/.pyenv/versions/3.10.6/envs/mocap/lib/python3.10/site-packages (from mocap==0.0.2) (1.23.5)\n",
      "Requirement already satisfied: pandas in /Users/pierrejunca/.pyenv/versions/3.10.6/envs/mocap/lib/python3.10/site-packages (from mocap==0.0.2) (1.5.2)\n",
      "Requirement already satisfied: scikit-learn in /Users/pierrejunca/.pyenv/versions/3.10.6/envs/mocap/lib/python3.10/site-packages (from mocap==0.0.2) (1.1.3)\n",
      "Collecting jupyter\n",
      "  Using cached jupyter-1.0.0-py2.py3-none-any.whl (2.7 kB)\n",
      "Requirement already satisfied: matplotlib in /Users/pierrejunca/.pyenv/versions/3.10.6/envs/mocap/lib/python3.10/site-packages (from mocap==0.0.2) (3.6.2)\n",
      "\u001b[31mERROR: Could not find a version that satisfies the requirement tensorflow (from mocap) (from versions: none)\u001b[0m\u001b[31m\n",
      "\u001b[0m\u001b[31mERROR: No matching distribution found for tensorflow\u001b[0m\u001b[31m\n",
      "\u001b[0m\n",
      "\u001b[1m[\u001b[0m\u001b[34;49mnotice\u001b[0m\u001b[1;39;49m]\u001b[0m\u001b[39;49m A new release of pip available: \u001b[0m\u001b[31;49m22.2.1\u001b[0m\u001b[39;49m -> \u001b[0m\u001b[32;49m22.3.1\u001b[0m\n",
      "\u001b[1m[\u001b[0m\u001b[34;49mnotice\u001b[0m\u001b[1;39;49m]\u001b[0m\u001b[39;49m To update, run: \u001b[0m\u001b[32;49mpython -m pip install --upgrade pip\u001b[0m\n",
      "Note: you may need to restart the kernel to use updated packages.\n"
     ]
    }
   ],
   "source": [
    "#pip install -e ."
   ]
  },
  {
   "cell_type": "code",
   "execution_count": 3,
   "id": "143a1105",
   "metadata": {
    "ExecuteTime": {
     "end_time": "2022-12-09T13:14:48.199853Z",
     "start_time": "2022-12-09T13:14:43.625239Z"
    }
   },
   "outputs": [],
   "source": [
    "import os\n",
    "import pandas as pd\n",
    "import numpy as np\n",
    "import matplotlib.pyplot as plt\n",
    "import datetime\n",
    "import re\n",
    "\n",
    "from scipy import stats\n",
    "\n",
    "from keras.models import Sequential\n",
    "from sklearn.model_selection import train_test_split\n",
    "from tensorflow.keras.callbacks import EarlyStopping\n",
    "\n",
    "from keras.layers import  Dense, Dropout, Flatten, Reshape, LSTM, TimeDistributed\n",
    "from keras.layers.convolutional import Conv1D, MaxPooling1D\n",
    "from sklearn.metrics import classification_report, confusion_matrix\n",
    "from sklearn import metrics\n",
    "\n",
    "from tensorflow import keras\n",
    "from tensorflow.keras.metrics import Recall, Precision\n",
    "\n",
    "import seaborn as sns"
   ]
  },
  {
   "cell_type": "code",
   "execution_count": 28,
   "id": "383ad65c",
   "metadata": {
    "ExecuteTime": {
     "end_time": "2022-12-09T14:13:36.256060Z",
     "start_time": "2022-12-09T13:30:52.140089Z"
    }
   },
   "outputs": [
    {
     "name": "stdout",
     "output_type": "stream",
     "text": [
      "concat UT_Smoking_Data/Participant1_Data.xlsx ok\n",
      "concat UT_Smoking_Data/Participant2_Data.xlsx ok\n",
      "concat UT_Smoking_Data/Participant3_Data.xlsx ok\n",
      "concat UT_Smoking_Data/Participant4_Data.xlsx ok\n",
      "concat UT_Smoking_Data/Participant5_Data.xlsx ok\n",
      "concat UT_Smoking_Data/Participant6_Data.xlsx ok\n",
      "concat UT_Smoking_Data/Participant7_Data.xlsx ok\n",
      "concat UT_Smoking_Data/Participant8_Data.xlsx ok\n",
      "concat UT_Smoking_Data/Participant9_Data.xlsx ok\n",
      "concat UT_Smoking_Data/Participant11_Data.xlsx ok\n"
     ]
    }
   ],
   "source": [
    "xls_dir=\"UT_Smoking_Data\"\n",
    "\n",
    "df=None\n",
    "for f_in in [1, 2, 3, 4, 5, 6, 7, 8]: \n",
    "  P1_Data_path = os.path.join(xls_dir+\"/\" + \"Participant\"+str(f_in)+\"_Data.xlsx\")\n",
    "  try:\n",
    "    if df is not None :\n",
    "      df2 = pd.read_excel(P1_Data_path, header=None, nrows=None)\n",
    "      df=pd.concat([df, df2], ignore_index=True, axis=0)\n",
    "    else :  \n",
    "      df = pd.read_excel(P1_Data_path, header=None, nrows=None)\n",
    "    print(\"concat {} ok\".format(P1_Data_path, len(df))) \n",
    "  except :\n",
    "     print(\"pb with {}\".format(P1_Data_path)) \n",
    "                              \n",
    "df_train=df.copy(); del(df)\n",
    "                              \n",
    "df=None\n",
    "for f_in in [9, 11]:\n",
    "  P1_Data_path = os.path.join(xls_dir+\"/\" + \"Participant\"+str(f_in)+\"_Data.xlsx\")\n",
    "  try:\n",
    "    if df is not None :\n",
    "      df2 = pd.read_excel(P1_Data_path, header=None, nrows=None)\n",
    "      df=pd.concat([df, df2], ignore_index=True, axis=0)\n",
    "    else :  \n",
    "      df = pd.read_excel(P1_Data_path, header=None, nrows=None)\n",
    "    print(\"concat {} ok\".format(P1_Data_path, len(df))) \n",
    "  except :\n",
    "     print(\"pb with {}\".format(P1_Data_path))  \n",
    "                              \n",
    "df_test=df.copy(); del(df)                           "
   ]
  },
  {
   "cell_type": "code",
   "execution_count": 29,
   "id": "c35f055f",
   "metadata": {
    "ExecuteTime": {
     "end_time": "2022-12-09T14:13:43.534051Z",
     "start_time": "2022-12-09T14:13:43.522260Z"
    }
   },
   "outputs": [],
   "source": [
    "d = {0:'timestamp_WD', \n",
    "     1:'Accelerometer_x_WD', 2:'Accelerometer_y_WD', 3:'Accelerometer_z_WD', \n",
    "     4:'Linear_acceleration_sensor_x_WD', 5:'Linear_acceleration_sensor_y_WD', 6:'Linear_acceleration_sensor_z_WD', \n",
    "     7:'Gyroscope_x_WD', 8:'Gyroscope_y_WD', 9:'Gyroscope_z_WD',\n",
    "    10:'Magnetometer_x_WD', 11:'Magnetometer_y_WD', 12:'Magnetometer_z_WD', \n",
    "     13:'Pressure_sensor_WD', 14:'Heart_rate_sensor_WD',\n",
    "    15:'GAP', \n",
    "     16:'timestamp_PD', \n",
    "     17:'Accelerometer_x_PD', 18:'Accelerometer_y_PD', 19:'Accelerometer_z_PD',\n",
    "    20:'Linear_acceleration_sensor_x_PD', 21:'Linear_acceleration_sensor_y_PD', 22:'Linear_acceleration_sensor_z_PD', \n",
    "     23:'Gyroscope_x_PD', 24:'Gyroscope_y_PD',25:'Gyroscope_z_PD', \n",
    "     26:'Magnetometer_x_PD', 27:'Magnetometer_y_PD', 28:'Magnetometer_z_PD', \n",
    "     29:'GPS_lat_PD',30:'GPS_long_PD', \n",
    "     31:'Class_label'}"
   ]
  },
  {
   "cell_type": "code",
   "execution_count": 30,
   "id": "0a79f51a",
   "metadata": {
    "ExecuteTime": {
     "end_time": "2022-12-09T14:13:46.583840Z",
     "start_time": "2022-12-09T14:13:46.576605Z"
    }
   },
   "outputs": [],
   "source": [
    "label_class = {'SmokeSD':0\n",
    "                ,'SmokeST':1\n",
    "                ,'Eat':2\n",
    "                ,'DrinkSD':3\n",
    "                ,'DrinkST':4\n",
    "                ,'Sit':5\n",
    "                ,'Stand':6\n",
    "                }"
   ]
  },
  {
   "cell_type": "code",
   "execution_count": 31,
   "id": "77889edf",
   "metadata": {
    "ExecuteTime": {
     "end_time": "2022-12-09T14:13:50.773266Z",
     "start_time": "2022-12-09T14:13:49.726250Z"
    }
   },
   "outputs": [],
   "source": [
    "train_data = df_train.rename(d, axis=1)\n",
    "train_data['Class'] = train_data['Class_label'].map(label_class)\n",
    "\n",
    "test_data = df_test.rename(d, axis=1)\n",
    "test_data['Class'] = test_data['Class_label'].map(label_class)"
   ]
  },
  {
   "cell_type": "code",
   "execution_count": 32,
   "id": "3ae9dedf",
   "metadata": {
    "ExecuteTime": {
     "end_time": "2022-12-09T14:13:54.840416Z",
     "start_time": "2022-12-09T14:13:54.830650Z"
    }
   },
   "outputs": [],
   "source": [
    "def scrub_data(df: pd.DataFrame) -> pd.DataFrame:\n",
    "    \"\"\"\n",
    "    clean raw data by removing buggy or irrelevant transactions\n",
    "    or columns for the training set\n",
    "    \"\"\"\n",
    "    participant_num=''.join([d for d in re.findall(r'\\d+',\"\")])\n",
    "    df['Participant_Num']=participant_num\n",
    "\n",
    "    # remove useless/redundant columns\n",
    "    df = df.drop(columns=['timestamp_WD'\n",
    "                    ,'GAP'\n",
    "                    ,'timestamp_PD'\n",
    "                    ,'Accelerometer_x_PD'\n",
    "                    ,'Accelerometer_y_PD'\n",
    "                    ,'Accelerometer_z_PD'\n",
    "                    ,'Linear_acceleration_sensor_x_PD'\n",
    "                    ,'Linear_acceleration_sensor_y_PD'\n",
    "                    ,'Linear_acceleration_sensor_z_PD'\n",
    "                    ,'Gyroscope_x_PD'\n",
    "                    ,'Gyroscope_y_PD'\n",
    "                    ,'Gyroscope_z_PD'\n",
    "                    ,'Magnetometer_x_PD'\n",
    "                    ,'Magnetometer_y_PD'\n",
    "                    ,'Magnetometer_z_PD'\n",
    "                    ,'GPS_lat_PD'\n",
    "                    ,'GPS_long_PD'])\n",
    "\n",
    "    print(\"\\n✅ data cleaned\")\n",
    "\n",
    "    return df"
   ]
  },
  {
   "cell_type": "code",
   "execution_count": 33,
   "id": "74639ed0",
   "metadata": {
    "ExecuteTime": {
     "end_time": "2022-12-09T14:13:59.967511Z",
     "start_time": "2022-12-09T14:13:57.554090Z"
    }
   },
   "outputs": [
    {
     "name": "stdout",
     "output_type": "stream",
     "text": [
      "\n",
      "✅ data cleaned\n",
      "\n",
      "✅ data cleaned\n"
     ]
    }
   ],
   "source": [
    "train_data = scrub_data(train_data)\n",
    "test_data = scrub_data(test_data)"
   ]
  },
  {
   "cell_type": "code",
   "execution_count": 35,
   "id": "efec1930",
   "metadata": {
    "ExecuteTime": {
     "end_time": "2022-12-09T14:14:27.360261Z",
     "start_time": "2022-12-09T14:14:23.385746Z"
    }
   },
   "outputs": [],
   "source": [
    "import pickle\n",
    "\n",
    "x_obj_fname=xls_dir+\"/\" + \"pierre_train\"+str(f_in)+\".pickle\"\n",
    "data_file = open(x_obj_fname, 'wb')\n",
    "pickle.dump(train_data, data_file)\n",
    "data_file.close()\n",
    "\n",
    "x_obj_fname=xls_dir+\"/\" + \"pierre_test\"+str(f_in)+\".pickle\"\n",
    "data_file = open(x_obj_fname, 'wb')\n",
    "pickle.dump(test_data, data_file)\n",
    "data_file.close()"
   ]
  },
  {
   "cell_type": "code",
   "execution_count": 36,
   "id": "2b8e5ab9",
   "metadata": {
    "ExecuteTime": {
     "end_time": "2022-12-09T14:14:32.140473Z",
     "start_time": "2022-12-09T14:14:32.097777Z"
    }
   },
   "outputs": [],
   "source": [
    "def create_segments_and_labels(df, time_steps, step):\n",
    "\n",
    "    # x, y, z acceleration as features\n",
    "    n_features = 3\n",
    "    # Each generated sequence contains 200 training examples\n",
    "    segments = []\n",
    "    labels = []\n",
    "    for i in range(0, len(df) - time_steps, step):\n",
    "        xs = df['Accelerometer_x_WD'].values[i: i + time_steps]\n",
    "        ys = df['Accelerometer_y_WD'].values[i: i + time_steps]\n",
    "        zs = df['Accelerometer_z_WD'].values[i: i + time_steps]\n",
    "        # Retrieve the most often used label in each segment\n",
    "        label = stats.mode(df['Class'][i: i + time_steps])[0][0]\n",
    "        segments.append([xs, ys, zs])\n",
    "        labels.append(label)\n",
    "\n",
    "    # Bring the segments into a better shape\n",
    "    reshaped_segments = np.asarray(segments, dtype= np.float32).reshape(-1, time_steps, n_features)\n",
    "    labels =np.asarray(pd.get_dummies(labels), dtype = np.float32)\n",
    "\n",
    "    return reshaped_segments, labels"
   ]
  },
  {
   "cell_type": "code",
   "execution_count": 37,
   "id": "bf30f09a",
   "metadata": {
    "ExecuteTime": {
     "end_time": "2022-12-09T14:14:39.444839Z",
     "start_time": "2022-12-09T14:14:34.960076Z"
    }
   },
   "outputs": [
    {
     "name": "stderr",
     "output_type": "stream",
     "text": [
      "/tmp/ipykernel_14282/1238486949.py:13: FutureWarning: Unlike other reduction functions (e.g. `skew`, `kurtosis`), the default behavior of `mode` typically preserves the axis it acts along. In SciPy 1.11.0, this behavior will change: the default value of `keepdims` will become False, the `axis` over which the statistic is taken will be eliminated, and the value None will no longer be accepted. Set `keepdims` to True or False to avoid this warning.\n",
      "  label = stats.mode(df['Class'][i: i + time_steps])[0][0]\n"
     ]
    },
    {
     "name": "stdout",
     "output_type": "stream",
     "text": [
      "(1803, 1500, 3) (1803, 7)\n",
      "(10545, 1500, 3) (10545, 7)\n"
     ]
    }
   ],
   "source": [
    "reshaped_segments_test, labels_test = create_segments_and_labels(test_data, 1500, 500) #df, time_steps, step\n",
    "print(reshaped_segments_test.shape, labels_test.shape)\n",
    "\n",
    "reshaped_segments_train, labels_train = create_segments_and_labels(train_data, 1500, 500) #df, time_steps, step\n",
    "print(reshaped_segments_train.shape, labels_train.shape)"
   ]
  },
  {
   "cell_type": "code",
   "execution_count": 44,
   "id": "40e3b32e",
   "metadata": {
    "ExecuteTime": {
     "end_time": "2022-12-09T14:16:52.014520Z",
     "start_time": "2022-12-09T14:16:51.910772Z"
    }
   },
   "outputs": [
    {
     "name": "stdout",
     "output_type": "stream",
     "text": [
      "input_shape: 4500\n",
      "input_shape: 4500\n"
     ]
    }
   ],
   "source": [
    "\n",
    "X_train_res, X_train_val, y_train_res, y_train_val = train_test_split(reshaped_segments_train, \n",
    "                                                                    labels_train, test_size=0.1, \n",
    "                                                                    random_state=42)\n",
    "\n",
    "X_test_res=reshaped_segments_test\n",
    "y_test_res=labels_test\n",
    "\n",
    "num_time_periods, num_sensors = X_train_res.shape[1], X_train_res.shape[2]\n",
    "input_shape = (num_time_periods*num_sensors)\n",
    "print('input_shape:', input_shape)\n",
    "\n",
    "num_classes = 7\n",
    "print('input_shape:', input_shape)\n",
    "\n",
    "\n",
    "#X_train_val = X_train_res.reshape(X_train_res.shape[0], input_shape)\n",
    "#X_test_val = X_test_res.reshape(X_test_res.shape[0], input_shape)\n",
    "#X_train_val= X_train_val.astype('float32')\n",
    "#y_train_val = y_train_res.astype('float32')\n",
    "#X_test_val = X_test_val.astype('float32')\n",
    "#y_test_val = y_test_res.astype('float32')"
   ]
  },
  {
   "cell_type": "code",
   "execution_count": 45,
   "id": "787948db",
   "metadata": {
    "ExecuteTime": {
     "end_time": "2022-12-09T14:16:54.601692Z",
     "start_time": "2022-12-09T14:16:54.589812Z"
    }
   },
   "outputs": [
    {
     "name": "stdout",
     "output_type": "stream",
     "text": [
      "(1500, 3)\n"
     ]
    }
   ],
   "source": [
    "num_classes = 7\n",
    "time_steps = 1500\n",
    "input_shape = X_train_res.shape[1:]\n",
    "n_neuron= 100\n",
    "print(input_shape)"
   ]
  },
  {
   "cell_type": "code",
   "execution_count": 46,
   "id": "dbd66e38",
   "metadata": {
    "ExecuteTime": {
     "end_time": "2022-12-09T14:16:57.740802Z",
     "start_time": "2022-12-09T14:16:57.733167Z"
    }
   },
   "outputs": [
    {
     "name": "stdout",
     "output_type": "stream",
     "text": [
      "x_train shape: (9490, 1500, 3)\n",
      "y_train shape: (9490, 7)\n",
      "\n",
      "\n",
      "x_train_val shape: (1055, 1500, 3)\n",
      "y_train_val shape: (1055, 7)\n",
      "\n",
      "\n",
      "x_test shape: (1803, 1500, 3)\n",
      "y_test shape: (1803, 7)\n"
     ]
    }
   ],
   "source": [
    "print('x_train shape:', X_train_res.shape)\n",
    "print('y_train shape:', y_train_res.shape)\n",
    "print('\\n')\n",
    "\n",
    "print('x_train_val shape:', X_train_val.shape)\n",
    "print('y_train_val shape:', y_train_val.shape)\n",
    "print('\\n')\n",
    "\n",
    "print('x_test shape:', X_test_res.shape)\n",
    "print('y_test shape:', y_test_res.shape)\n",
    "\n",
    "# Set input & output dimensions\n",
    "num_time_periods, num_sensors = X_train_res.shape[1], X_train_res.shape[2]\n",
    "num_classes = 7"
   ]
  },
  {
   "cell_type": "code",
   "execution_count": 47,
   "id": "6bf3fa1c",
   "metadata": {
    "ExecuteTime": {
     "end_time": "2022-12-09T14:17:04.698977Z",
     "start_time": "2022-12-09T14:17:04.660883Z"
    }
   },
   "outputs": [],
   "source": [
    "do_this=False\n",
    "\n",
    "# summarize history for accuracy\n",
    "if do_this :\n",
    "    plt.plot(history.history['accuracy'])\n",
    "    plt.plot(history.history['val_accuracy'])\n",
    "    plt.title('model accuracy')\n",
    "    plt.ylabel('accuracy')\n",
    "    plt.xlabel('epoch')\n",
    "    plt.legend(['Train', 'Validation'], loc='upper left')\n",
    "    plt.show()\n",
    "    # summarize history for loss\n",
    "    plt.plot(history.history['loss'])\n",
    "    plt.plot(history.history['val_loss'])\n",
    "    plt.title('model loss')\n",
    "    plt.ylabel('loss')\n",
    "    plt.xlabel('epoch')\n",
    "    plt.legend(['Train', 'Validation'], loc='upper left')\n",
    "    plt.show()"
   ]
  },
  {
   "cell_type": "code",
   "execution_count": 48,
   "id": "029c9585",
   "metadata": {
    "ExecuteTime": {
     "end_time": "2022-12-09T14:17:06.983261Z",
     "start_time": "2022-12-09T14:17:06.975630Z"
    }
   },
   "outputs": [],
   "source": [
    "lstm_neurons= 100\n",
    "dense_neurons= 100\n",
    "drop_out= 0.5"
   ]
  },
  {
   "cell_type": "code",
   "execution_count": 49,
   "id": "91f3fcea",
   "metadata": {
    "ExecuteTime": {
     "end_time": "2022-12-09T14:17:10.055476Z",
     "start_time": "2022-12-09T14:17:10.046951Z"
    }
   },
   "outputs": [],
   "source": [
    "def make_cnn_lstm_model(lstm_neurons,dense_neurons,drop_out):\n",
    "    \n",
    "    metrics = [  keras.metrics.Recall(), \n",
    "                 keras.metrics.Precision(),\n",
    "                 keras.metrics.AUC(name='prc', curve='PR') ]\n",
    "    \n",
    "    model = Sequential()\n",
    "    model.add(TimeDistributed(Conv1D(filters=64, kernel_size=3, activation='relu'),  input_shape=(n_steps,n_length, 3)))\n",
    "    model.add(TimeDistributed(Conv1D(filters=64, kernel_size=3, activation='relu')))\n",
    "    model.add(TimeDistributed(Dropout(drop_out)))\n",
    "    model.add(TimeDistributed(MaxPooling1D(pool_size=2)))\n",
    "    model.add(TimeDistributed(Flatten()))\n",
    "    model.add(LSTM(lstm_neurons))\n",
    "    model.add(Dropout(drop_out)) \n",
    "    model.add(Dense(dense_neurons, activation='relu'))\n",
    "    model.add(Dense(num_classes, activation='softmax'))\n",
    "    \n",
    "    model.compile(loss='categorical_crossentropy', optimizer='adam', metrics=metrics)\n",
    "    \n",
    "    return model"
   ]
  },
  {
   "cell_type": "code",
   "execution_count": 50,
   "id": "a23f7830",
   "metadata": {
    "ExecuteTime": {
     "end_time": "2022-12-09T14:17:13.918640Z",
     "start_time": "2022-12-09T14:17:13.910659Z"
    }
   },
   "outputs": [],
   "source": [
    "# reshape data into time steps of sub-sequences\n",
    "n_steps, n_length = 150,10\n",
    "\n",
    "X_train_cnn = X_train_res.reshape((X_train_res.shape[0], n_steps, n_length, 3))\n",
    "X_train_val_cnn = X_train_val.reshape((X_train_val.shape[0], n_steps, n_length, 3))\n",
    "X_test_cnn = X_test_res.reshape((X_test_res.shape[0], n_steps, n_length, 3))"
   ]
  },
  {
   "cell_type": "code",
   "execution_count": 51,
   "id": "2af9993b",
   "metadata": {
    "ExecuteTime": {
     "end_time": "2022-12-09T14:17:19.635836Z",
     "start_time": "2022-12-09T14:17:18.325171Z"
    }
   },
   "outputs": [
    {
     "name": "stdout",
     "output_type": "stream",
     "text": [
      "Model: \"sequential\"\n",
      "_________________________________________________________________\n",
      " Layer (type)                Output Shape              Param #   \n",
      "=================================================================\n",
      " time_distributed (TimeDistr  (None, 150, 8, 64)       640       \n",
      " ibuted)                                                         \n",
      "                                                                 \n",
      " time_distributed_1 (TimeDis  (None, 150, 6, 64)       12352     \n",
      " tributed)                                                       \n",
      "                                                                 \n",
      " time_distributed_2 (TimeDis  (None, 150, 6, 64)       0         \n",
      " tributed)                                                       \n",
      "                                                                 \n",
      " time_distributed_3 (TimeDis  (None, 150, 3, 64)       0         \n",
      " tributed)                                                       \n",
      "                                                                 \n",
      " time_distributed_4 (TimeDis  (None, 150, 192)         0         \n",
      " tributed)                                                       \n",
      "                                                                 \n",
      " lstm (LSTM)                 (None, 100)               117200    \n",
      "                                                                 \n",
      " dropout_1 (Dropout)         (None, 100)               0         \n",
      "                                                                 \n",
      " dense (Dense)               (None, 100)               10100     \n",
      "                                                                 \n",
      " dense_1 (Dense)             (None, 7)                 707       \n",
      "                                                                 \n",
      "=================================================================\n",
      "Total params: 140,999\n",
      "Trainable params: 140,999\n",
      "Non-trainable params: 0\n",
      "_________________________________________________________________\n",
      "None\n"
     ]
    }
   ],
   "source": [
    "try:\n",
    "  del model_cnn_lstm\n",
    "except:\n",
    "  pass\n",
    "\n",
    "model_cnn_lstm = make_cnn_lstm_model(lstm_neurons= 100, dense_neurons = 100, drop_out = 0.5)\n",
    "print(model_cnn_lstm.summary())"
   ]
  },
  {
   "cell_type": "code",
   "execution_count": 52,
   "id": "3eb54837",
   "metadata": {
    "ExecuteTime": {
     "end_time": "2022-12-09T14:17:25.029580Z",
     "start_time": "2022-12-09T14:17:25.016252Z"
    }
   },
   "outputs": [
    {
     "data": {
      "text/plain": [
       "(9490, 150, 10, 3)"
      ]
     },
     "execution_count": 52,
     "metadata": {},
     "output_type": "execute_result"
    }
   ],
   "source": [
    "X_train_cnn.shape"
   ]
  },
  {
   "cell_type": "code",
   "execution_count": 53,
   "id": "a8aeb57a",
   "metadata": {
    "ExecuteTime": {
     "end_time": "2022-12-09T14:41:50.365034Z",
     "start_time": "2022-12-09T14:17:28.394521Z"
    }
   },
   "outputs": [
    {
     "name": "stdout",
     "output_type": "stream",
     "text": [
      "Epoch 1/50\n",
      "149/149 [==============================] - 55s 337ms/step - loss: 1.3254 - recall: 0.2248 - precision: 0.8160 - prc: 0.5338 - val_loss: 1.3378 - val_recall: 0.1886 - val_precision: 0.6700 - val_prc: 0.4915\n",
      "Epoch 2/50\n",
      "149/149 [==============================] - 56s 379ms/step - loss: 1.0007 - recall: 0.4267 - precision: 0.7855 - prc: 0.6994 - val_loss: 1.3049 - val_recall: 0.3555 - val_precision: 0.6178 - val_prc: 0.5573\n",
      "Epoch 3/50\n",
      "149/149 [==============================] - 68s 454ms/step - loss: 0.8067 - recall: 0.5607 - precision: 0.7853 - prc: 0.7833 - val_loss: 0.9507 - val_recall: 0.5763 - val_precision: 0.7062 - val_prc: 0.7261\n",
      "Epoch 4/50\n",
      "149/149 [==============================] - 58s 390ms/step - loss: 0.7086 - recall: 0.6354 - precision: 0.7919 - prc: 0.8232 - val_loss: 0.8856 - val_recall: 0.6114 - val_precision: 0.7223 - val_prc: 0.7650\n",
      "Epoch 5/50\n",
      "149/149 [==============================] - 59s 394ms/step - loss: 0.6088 - recall: 0.6947 - precision: 0.8107 - prc: 0.8590 - val_loss: 1.4708 - val_recall: 0.5128 - val_precision: 0.5320 - val_prc: 0.6104\n",
      "Epoch 6/50\n",
      "149/149 [==============================] - 60s 405ms/step - loss: 0.5574 - recall: 0.7412 - precision: 0.8219 - prc: 0.8779 - val_loss: 1.0689 - val_recall: 0.5479 - val_precision: 0.5757 - val_prc: 0.7066\n",
      "Epoch 7/50\n",
      "149/149 [==============================] - 63s 421ms/step - loss: 0.5289 - recall: 0.7571 - precision: 0.8264 - prc: 0.8886 - val_loss: 0.8199 - val_recall: 0.6948 - val_precision: 0.7382 - val_prc: 0.8059\n",
      "Epoch 8/50\n",
      "149/149 [==============================] - 71s 474ms/step - loss: 0.4867 - recall: 0.7806 - precision: 0.8409 - prc: 0.9031 - val_loss: 0.9420 - val_recall: 0.5839 - val_precision: 0.6172 - val_prc: 0.7471\n",
      "Epoch 9/50\n",
      "149/149 [==============================] - 61s 412ms/step - loss: 0.4647 - recall: 0.7974 - precision: 0.8449 - prc: 0.9111 - val_loss: 0.7820 - val_recall: 0.6957 - val_precision: 0.7482 - val_prc: 0.8203\n",
      "Epoch 10/50\n",
      "149/149 [==============================] - 59s 397ms/step - loss: 0.4327 - recall: 0.8078 - precision: 0.8583 - prc: 0.9212 - val_loss: 0.5924 - val_recall: 0.7450 - val_precision: 0.7876 - val_prc: 0.8545\n",
      "Epoch 11/50\n",
      "149/149 [==============================] - 59s 397ms/step - loss: 0.4046 - recall: 0.8264 - precision: 0.8637 - prc: 0.9298 - val_loss: 0.9407 - val_recall: 0.5754 - val_precision: 0.5963 - val_prc: 0.7345\n",
      "Epoch 12/50\n",
      "149/149 [==============================] - 60s 402ms/step - loss: 0.3786 - recall: 0.8427 - precision: 0.8769 - prc: 0.9381 - val_loss: 0.7740 - val_recall: 0.7289 - val_precision: 0.7576 - val_prc: 0.8216\n",
      "Epoch 13/50\n",
      "149/149 [==============================] - 60s 400ms/step - loss: 0.3717 - recall: 0.8457 - precision: 0.8750 - prc: 0.9392 - val_loss: 1.2110 - val_recall: 0.5365 - val_precision: 0.5560 - val_prc: 0.6964\n",
      "Epoch 14/50\n",
      "149/149 [==============================] - 59s 399ms/step - loss: 0.3766 - recall: 0.8401 - precision: 0.8748 - prc: 0.9378 - val_loss: 0.5511 - val_recall: 0.7744 - val_precision: 0.8113 - val_prc: 0.8847\n",
      "Epoch 15/50\n",
      "149/149 [==============================] - 61s 409ms/step - loss: 0.3447 - recall: 0.8576 - precision: 0.8886 - prc: 0.9469 - val_loss: 0.5796 - val_recall: 0.7915 - val_precision: 0.8091 - val_prc: 0.8780\n",
      "Epoch 16/50\n",
      "149/149 [==============================] - 59s 399ms/step - loss: 0.3097 - recall: 0.8746 - precision: 0.8933 - prc: 0.9560 - val_loss: 0.5192 - val_recall: 0.8199 - val_precision: 0.8349 - val_prc: 0.8969\n",
      "Epoch 17/50\n",
      "149/149 [==============================] - 60s 404ms/step - loss: 0.3146 - recall: 0.8673 - precision: 0.8926 - prc: 0.9544 - val_loss: 0.5184 - val_recall: 0.8123 - val_precision: 0.8377 - val_prc: 0.9067\n",
      "Epoch 18/50\n",
      "149/149 [==============================] - 60s 404ms/step - loss: 0.2981 - recall: 0.8797 - precision: 0.8971 - prc: 0.9578 - val_loss: 0.4760 - val_recall: 0.8370 - val_precision: 0.8490 - val_prc: 0.9176\n",
      "Epoch 19/50\n",
      "149/149 [==============================] - 60s 402ms/step - loss: 0.2823 - recall: 0.8917 - precision: 0.9092 - prc: 0.9621 - val_loss: 0.3408 - val_recall: 0.8664 - val_precision: 0.8797 - val_prc: 0.9528\n",
      "Epoch 20/50\n",
      "149/149 [==============================] - 63s 425ms/step - loss: 0.2583 - recall: 0.8992 - precision: 0.9131 - prc: 0.9677 - val_loss: 0.3958 - val_recall: 0.8607 - val_precision: 0.8689 - val_prc: 0.9385\n",
      "Epoch 21/50\n",
      "149/149 [==============================] - 60s 402ms/step - loss: 0.2535 - recall: 0.8981 - precision: 0.9117 - prc: 0.9685 - val_loss: 0.5769 - val_recall: 0.7621 - val_precision: 0.7746 - val_prc: 0.8810\n",
      "Epoch 22/50\n",
      "149/149 [==============================] - 61s 409ms/step - loss: 0.2345 - recall: 0.9092 - precision: 0.9201 - prc: 0.9715 - val_loss: 0.4281 - val_recall: 0.8550 - val_precision: 0.8690 - val_prc: 0.9300\n",
      "Epoch 23/50\n",
      "149/149 [==============================] - 64s 432ms/step - loss: 0.2242 - recall: 0.9120 - precision: 0.9229 - prc: 0.9738 - val_loss: 0.5023 - val_recall: 0.8246 - val_precision: 0.8365 - val_prc: 0.9078\n",
      "Epoch 24/50\n",
      "149/149 [==============================] - 64s 429ms/step - loss: 0.2054 - recall: 0.9203 - precision: 0.9284 - prc: 0.9782 - val_loss: 0.5867 - val_recall: 0.7602 - val_precision: 0.7682 - val_prc: 0.8835\n"
     ]
    }
   ],
   "source": [
    "es = EarlyStopping(monitor=\"val_loss\",\n",
    "                       patience=5,\n",
    "                       restore_best_weights=True,\n",
    "                       verbose=0)\n",
    "\n",
    "cnn_lstm = model_cnn_lstm.fit(X_train_cnn, y_train_res, batch_size=64,\n",
    "                      epochs=50, callbacks=[es], validation_data=(X_train_val_cnn, y_train_val) ,verbose=1)"
   ]
  },
  {
   "cell_type": "code",
   "execution_count": 55,
   "id": "ba4ff605",
   "metadata": {
    "ExecuteTime": {
     "end_time": "2022-12-09T14:42:35.830891Z",
     "start_time": "2022-12-09T14:42:22.488793Z"
    }
   },
   "outputs": [
    {
     "name": "stderr",
     "output_type": "stream",
     "text": [
      "WARNING:absl:Found untraced functions such as _update_step_xla, _jit_compiled_convolution_op, _jit_compiled_convolution_op, lstm_cell_layer_call_fn, lstm_cell_layer_call_and_return_conditional_losses while saving (showing 5 of 5). These functions will not be directly callable after loading.\n"
     ]
    },
    {
     "name": "stdout",
     "output_type": "stream",
     "text": [
      "INFO:tensorflow:Assets written to: pierre_model_8_2/assets\n"
     ]
    },
    {
     "name": "stderr",
     "output_type": "stream",
     "text": [
      "INFO:tensorflow:Assets written to: pierre_model_8_2/assets\n"
     ]
    }
   ],
   "source": [
    "model_cnn_lstm.save(\"pierre_model_8_2\")"
   ]
  },
  {
   "cell_type": "code",
   "execution_count": 56,
   "id": "43130903",
   "metadata": {
    "ExecuteTime": {
     "end_time": "2022-12-09T14:42:41.603966Z",
     "start_time": "2022-12-09T14:42:41.594979Z"
    }
   },
   "outputs": [],
   "source": [
    "def plot_history(history, optimizer_str, axs=None, exp_name=\"\"):\n",
    "    if axs is not None:\n",
    "        ax1, ax2 = axs\n",
    "    else:\n",
    "        f, (ax1, ax2) = plt.subplots(1, 2, figsize=(12, 4))\n",
    "    \n",
    "    if len(exp_name) > 0 and exp_name[0] != '_':\n",
    "        exp_name = '_' + exp_name\n",
    "    \n",
    "    pkey=\"precision\"; vpkey=\"val_precision\"\n",
    "    for key in history.history.keys():\n",
    "      if key.startswith(\"precision\")       : pkey=key; \n",
    "      elif key.startswith(\"val_precision\") : vpkey=key; \n",
    "        \n",
    "    ax1.plot(history.history['loss'], label = 'train' + exp_name)\n",
    "    ax1.plot(history.history['val_loss'], label = 'val' + exp_name)\n",
    "    ax1.set_ylim(0., 2.2)\n",
    "    ax1.set_title('loss')\n",
    "    ax1.legend()\n",
    "               \n",
    "    ax2.plot(history.history[pkey], label='train accuracy'  + exp_name)\n",
    "    ax2.plot(history.history[vpkey], label='val accuracy'  + exp_name)\n",
    "    ax2.set_ylim(0.25, 1.)\n",
    "    ax2.set_title('Accuracy ' + optimizer_str)\n",
    "    ax2.legend()\n",
    "    return (ax1, ax2)"
   ]
  },
  {
   "cell_type": "code",
   "execution_count": 57,
   "id": "7f9ec5dd",
   "metadata": {
    "ExecuteTime": {
     "end_time": "2022-12-09T14:42:44.783731Z",
     "start_time": "2022-12-09T14:42:44.222619Z"
    }
   },
   "outputs": [
    {
     "data": {
      "text/plain": [
       "(<AxesSubplot: title={'center': 'loss'}>,\n",
       " <AxesSubplot: title={'center': 'Accuracy adam'}>)"
      ]
     },
     "execution_count": 57,
     "metadata": {},
     "output_type": "execute_result"
    },
    {
     "data": {
      "image/png": "[encoded data removed]",
      "text/plain": [
       "<Figure size 1200x400 with 2 Axes>"
      ]
     },
     "metadata": {},
     "output_type": "display_data"
    }
   ],
   "source": [
    "plot_history(cnn_lstm, \"adam\")"
   ]
  },
  {
   "cell_type": "code",
   "execution_count": 58,
   "id": "781dae23",
   "metadata": {
    "ExecuteTime": {
     "end_time": "2022-12-09T14:43:11.585470Z",
     "start_time": "2022-12-09T14:42:49.548283Z"
    },
    "scrolled": true
   },
   "outputs": [
    {
     "name": "stdout",
     "output_type": "stream",
     "text": [
      "297/297 [==============================] - 22s 71ms/step\n",
      "              precision    recall  f1-score   support\n",
      "\n",
      "           0       0.92      0.88      0.90      1360\n",
      "           1       0.89      0.81      0.85      1343\n",
      "           2       0.98      0.96      0.97      1343\n",
      "           3       0.77      0.68      0.72      1370\n",
      "           4       0.69      0.88      0.78      1353\n",
      "           5       0.98      0.98      0.98      1359\n",
      "           6       1.00      0.99      1.00      1362\n",
      "\n",
      "    accuracy                           0.88      9490\n",
      "   macro avg       0.89      0.88      0.88      9490\n",
      "weighted avg       0.89      0.88      0.88      9490\n",
      "\n"
     ]
    }
   ],
   "source": [
    "# Print confusion matrix for training data\n",
    "y_pred_train = model_cnn_lstm.predict(X_train_cnn)\n",
    "\n",
    "# Take the class with the highest probability from the train predictions\n",
    "max_y_pred_train = np.argmax(y_pred_train, axis=1)\n",
    "max_train = np.argmax(y_train_res, axis=1)\n",
    "\n",
    "print(classification_report(max_train, max_y_pred_train))"
   ]
  },
  {
   "cell_type": "code",
   "execution_count": 59,
   "id": "71227162",
   "metadata": {
    "ExecuteTime": {
     "end_time": "2022-12-09T14:43:29.354786Z",
     "start_time": "2022-12-09T14:43:25.280538Z"
    }
   },
   "outputs": [
    {
     "name": "stdout",
     "output_type": "stream",
     "text": [
      "57/57 [==============================] - 4s 70ms/step - loss: 0.9654 - recall: 0.6866 - precision: 0.6979 - prc: 0.8012\n",
      "\n",
      "Accuracy on test data: 0.69\n",
      "\n",
      "Loss on test data: 0.97\n"
     ]
    }
   ],
   "source": [
    "score = model_cnn_lstm.evaluate(X_test_cnn, y_test_res, verbose=1)\n",
    "\n",
    "print('\\nAccuracy on test data: %0.2f' % score[1])\n",
    "print('\\nLoss on test data: %0.2f' % score[0])"
   ]
  },
  {
   "cell_type": "code",
   "execution_count": 60,
   "id": "5e9583d5",
   "metadata": {
    "ExecuteTime": {
     "end_time": "2022-12-09T14:43:57.134316Z",
     "start_time": "2022-12-09T14:43:57.124747Z"
    }
   },
   "outputs": [],
   "source": [
    "def confusion_matrix_plot(y, y_pred):\n",
    "    labels=['SmokeSD', 'SmokeST', 'Eat', 'DrinkSD', 'DrinkST', 'Sit', 'Stand']\n",
    "    matrix = metrics.confusion_matrix(y, y_pred)\n",
    "    plt.figure(figsize=(9, 7))\n",
    "    ax= sns.heatmap(matrix, cmap='coolwarm', linecolor='white', linewidths=1, xticklabels=labels, yticklabels=labels, annot=True, fmt='d')\n",
    "    #bottom, top = ax.get_ylim()\n",
    "    #ax.set_ylim(bottom + 0.5, top - 0.5)\n",
    "    plt.title('Confusion Matrix')\n",
    "    plt.ylabel('True Label')\n",
    "    plt.xlabel('Predicted Label')\n",
    "    plt.show()"
   ]
  },
  {
   "cell_type": "code",
   "execution_count": 61,
   "id": "94fb899a",
   "metadata": {
    "ExecuteTime": {
     "end_time": "2022-12-09T14:44:06.334029Z",
     "start_time": "2022-12-09T14:44:02.169201Z"
    }
   },
   "outputs": [
    {
     "name": "stdout",
     "output_type": "stream",
     "text": [
      "57/57 [==============================] - 4s 64ms/step\n",
      "              precision    recall  f1-score   support\n",
      "\n",
      "           0       0.89      0.59      0.71       257\n",
      "           1       0.82      0.29      0.43       258\n",
      "           2       0.97      0.74      0.84       258\n",
      "           3       0.34      0.31      0.32       258\n",
      "           4       0.43      0.98      0.60       258\n",
      "           5       0.93      0.97      0.95       256\n",
      "           6       0.99      0.99      0.99       258\n",
      "\n",
      "    accuracy                           0.69      1803\n",
      "   macro avg       0.77      0.69      0.69      1803\n",
      "weighted avg       0.77      0.69      0.69      1803\n",
      "\n"
     ]
    },
    {
     "data": {
      "image/png": "[encoded data removed]",
      "text/plain": [
       "<Figure size 900x700 with 2 Axes>"
      ]
     },
     "metadata": {},
     "output_type": "display_data"
    }
   ],
   "source": [
    "# Take the class with the highest probability from the test predictions\n",
    "y_pred_test = model_cnn_lstm.predict(X_test_cnn)\n",
    "\n",
    "max_y_pred_test = np.argmax(y_pred_test, axis = 1)\n",
    "max_y_test = np.argmax(y_test_res, axis = 1)\n",
    "\n",
    "#confusion_matrix(max_y_test, max_y_pred_test)\n",
    "print(classification_report(max_y_test, max_y_pred_test))\n",
    "confusion_matrix_plot(max_y_test, max_y_pred_test)"
   ]
  },
  {
   "cell_type": "code",
   "execution_count": 62,
   "id": "ddd36e76",
   "metadata": {
    "ExecuteTime": {
     "end_time": "2022-12-09T14:44:15.748327Z",
     "start_time": "2022-12-09T14:44:15.735830Z"
    }
   },
   "outputs": [
    {
     "data": {
      "text/plain": [
       "(1803,)"
      ]
     },
     "execution_count": 62,
     "metadata": {},
     "output_type": "execute_result"
    }
   ],
   "source": [
    "max_y_pred_test.shape"
   ]
  },
  {
   "cell_type": "code",
   "execution_count": 63,
   "id": "e987a549",
   "metadata": {
    "ExecuteTime": {
     "end_time": "2022-12-09T14:44:17.459824Z",
     "start_time": "2022-12-09T14:44:17.447733Z"
    }
   },
   "outputs": [
    {
     "data": {
      "text/plain": [
       "(1803,)"
      ]
     },
     "execution_count": 63,
     "metadata": {},
     "output_type": "execute_result"
    }
   ],
   "source": [
    "max_y_test.shape"
   ]
  }
 ],
 "metadata": {
  "kernelspec": {
   "display_name": "Python 3 (ipykernel)",
   "language": "python",
   "name": "python3"
  },
  "language_info": {
   "codemirror_mode": {
    "name": "ipython",
    "version": 3
   },
   "file_extension": ".py",
   "mimetype": "text/x-python",
   "name": "python",
   "nbconvert_exporter": "python",
   "pygments_lexer": "ipython3",
   "version": "3.10.6"
  },
  "toc": {
   "base_numbering": 1,
   "nav_menu": {},
   "number_sections": true,
   "sideBar": true,
   "skip_h1_title": false,
   "title_cell": "Table of Contents",
   "title_sidebar": "Contents",
   "toc_cell": false,
   "toc_position": {},
   "toc_section_display": true,
   "toc_window_display": false
  }
 },
 "nbformat": 4,
 "nbformat_minor": 5
}
