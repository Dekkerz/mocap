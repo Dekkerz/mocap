{
 "cells": [
  {
   "cell_type": "code",
   "execution_count": 1,
   "id": "5028e239",
   "metadata": {
    "ExecuteTime": {
     "end_time": "2022-12-05T09:26:44.789188Z",
     "start_time": "2022-12-05T09:26:43.862534Z"
    }
   },
   "outputs": [
    {
     "name": "stdout",
     "output_type": "stream",
     "text": [
      "Obtaining file:///Users/pierrejunca/code/Dekkerz/mocap\n",
      "  Preparing metadata (setup.py) ... \u001b[?25ldone\n",
      "\u001b[?25hRequirement already satisfied: pip>=22.2.1 in /Users/pierrejunca/.pyenv/versions/3.10.6/envs/mocap/lib/python3.10/site-packages (from mocap==0.0.2) (22.2.1)\n",
      "Requirement already satisfied: numpy in /Users/pierrejunca/.pyenv/versions/3.10.6/envs/mocap/lib/python3.10/site-packages (from mocap==0.0.2) (1.23.5)\n",
      "Requirement already satisfied: pandas in /Users/pierrejunca/.pyenv/versions/3.10.6/envs/mocap/lib/python3.10/site-packages (from mocap==0.0.2) (1.5.2)\n",
      "Requirement already satisfied: scikit-learn in /Users/pierrejunca/.pyenv/versions/3.10.6/envs/mocap/lib/python3.10/site-packages (from mocap==0.0.2) (1.1.3)\n",
      "Collecting jupyter\n",
      "  Using cached jupyter-1.0.0-py2.py3-none-any.whl (2.7 kB)\n",
      "Requirement already satisfied: matplotlib in /Users/pierrejunca/.pyenv/versions/3.10.6/envs/mocap/lib/python3.10/site-packages (from mocap==0.0.2) (3.6.2)\n",
      "\u001b[31mERROR: Could not find a version that satisfies the requirement tensorflow (from mocap) (from versions: none)\u001b[0m\u001b[31m\n",
      "\u001b[0m\u001b[31mERROR: No matching distribution found for tensorflow\u001b[0m\u001b[31m\n",
      "\u001b[0m\n",
      "\u001b[1m[\u001b[0m\u001b[34;49mnotice\u001b[0m\u001b[1;39;49m]\u001b[0m\u001b[39;49m A new release of pip available: \u001b[0m\u001b[31;49m22.2.1\u001b[0m\u001b[39;49m -> \u001b[0m\u001b[32;49m22.3.1\u001b[0m\n",
      "\u001b[1m[\u001b[0m\u001b[34;49mnotice\u001b[0m\u001b[1;39;49m]\u001b[0m\u001b[39;49m To update, run: \u001b[0m\u001b[32;49mpython -m pip install --upgrade pip\u001b[0m\n",
      "Note: you may need to restart the kernel to use updated packages.\n"
     ]
    }
   ],
   "source": [
    "pip install -e ."
   ]
  },
  {
   "cell_type": "code",
   "execution_count": 2,
   "id": "143a1105",
   "metadata": {
    "ExecuteTime": {
     "end_time": "2022-12-05T09:26:45.364073Z",
     "start_time": "2022-12-05T09:26:44.791619Z"
    }
   },
   "outputs": [],
   "source": [
    "import os\n",
    "import pandas as pd\n",
    "import numpy as np\n",
    "import matplotlib.pyplot as plt\n",
    "import datetime"
   ]
  },
  {
   "cell_type": "code",
   "execution_count": 3,
   "id": "383ad65c",
   "metadata": {
    "ExecuteTime": {
     "end_time": "2022-12-05T09:26:45.366506Z",
     "start_time": "2022-12-05T09:26:45.364885Z"
    }
   },
   "outputs": [],
   "source": [
    "P1_Data_path = os.path.join('data', 'raw','Participant1_Data.xlsx')"
   ]
  },
  {
   "cell_type": "code",
   "execution_count": 4,
   "id": "82d3a25a",
   "metadata": {
    "ExecuteTime": {
     "end_time": "2022-12-05T09:29:11.465155Z",
     "start_time": "2022-12-05T09:26:45.367864Z"
    }
   },
   "outputs": [
    {
     "data": {
      "text/html": [
       "<div>\n",
       "<style scoped>\n",
       "    .dataframe tbody tr th:only-of-type {\n",
       "        vertical-align: middle;\n",
       "    }\n",
       "\n",
       "    .dataframe tbody tr th {\n",
       "        vertical-align: top;\n",
       "    }\n",
       "\n",
       "    .dataframe thead th {\n",
       "        text-align: right;\n",
       "    }\n",
       "</style>\n",
       "<table border=\"1\" class=\"dataframe\">\n",
       "  <thead>\n",
       "    <tr style=\"text-align: right;\">\n",
       "      <th></th>\n",
       "      <th>0</th>\n",
       "      <th>1</th>\n",
       "      <th>2</th>\n",
       "      <th>3</th>\n",
       "      <th>4</th>\n",
       "      <th>5</th>\n",
       "      <th>6</th>\n",
       "      <th>7</th>\n",
       "      <th>8</th>\n",
       "      <th>9</th>\n",
       "      <th>...</th>\n",
       "      <th>22</th>\n",
       "      <th>23</th>\n",
       "      <th>24</th>\n",
       "      <th>25</th>\n",
       "      <th>26</th>\n",
       "      <th>27</th>\n",
       "      <th>28</th>\n",
       "      <th>29</th>\n",
       "      <th>30</th>\n",
       "      <th>31</th>\n",
       "    </tr>\n",
       "  </thead>\n",
       "  <tbody>\n",
       "    <tr>\n",
       "      <th>0</th>\n",
       "      <td>1455278271218</td>\n",
       "      <td>-5.973572</td>\n",
       "      <td>-6.710114</td>\n",
       "      <td>2.555145</td>\n",
       "      <td>-0.474457</td>\n",
       "      <td>0.382236</td>\n",
       "      <td>0.345239</td>\n",
       "      <td>-0.014404</td>\n",
       "      <td>-0.001846</td>\n",
       "      <td>-0.028992</td>\n",
       "      <td>...</td>\n",
       "      <td>-0.161003</td>\n",
       "      <td>0.038790</td>\n",
       "      <td>0.006414</td>\n",
       "      <td>-0.004276</td>\n",
       "      <td>13.9375</td>\n",
       "      <td>39.0000</td>\n",
       "      <td>-26.2500</td>\n",
       "      <td>52.238673</td>\n",
       "      <td>6.857011</td>\n",
       "      <td>SmokeSD</td>\n",
       "    </tr>\n",
       "    <tr>\n",
       "      <th>1</th>\n",
       "      <td>1455278271238</td>\n",
       "      <td>-5.980713</td>\n",
       "      <td>-6.838654</td>\n",
       "      <td>2.605133</td>\n",
       "      <td>-0.471420</td>\n",
       "      <td>0.249793</td>\n",
       "      <td>0.383285</td>\n",
       "      <td>0.001617</td>\n",
       "      <td>-0.005051</td>\n",
       "      <td>-0.027924</td>\n",
       "      <td>...</td>\n",
       "      <td>-0.136580</td>\n",
       "      <td>0.037568</td>\n",
       "      <td>0.025351</td>\n",
       "      <td>-0.010079</td>\n",
       "      <td>13.8750</td>\n",
       "      <td>39.0000</td>\n",
       "      <td>-26.2500</td>\n",
       "      <td>52.238673</td>\n",
       "      <td>6.857011</td>\n",
       "      <td>SmokeSD</td>\n",
       "    </tr>\n",
       "    <tr>\n",
       "      <th>2</th>\n",
       "      <td>1455278271258</td>\n",
       "      <td>-6.025940</td>\n",
       "      <td>-6.895783</td>\n",
       "      <td>2.514679</td>\n",
       "      <td>-0.504273</td>\n",
       "      <td>0.187889</td>\n",
       "      <td>0.285115</td>\n",
       "      <td>0.009094</td>\n",
       "      <td>-0.015732</td>\n",
       "      <td>-0.027924</td>\n",
       "      <td>...</td>\n",
       "      <td>-0.116517</td>\n",
       "      <td>0.033292</td>\n",
       "      <td>0.027184</td>\n",
       "      <td>-0.009774</td>\n",
       "      <td>13.8750</td>\n",
       "      <td>38.6875</td>\n",
       "      <td>-26.2500</td>\n",
       "      <td>52.238673</td>\n",
       "      <td>6.857011</td>\n",
       "      <td>SmokeSD</td>\n",
       "    </tr>\n",
       "    <tr>\n",
       "      <th>3</th>\n",
       "      <td>1455278271279</td>\n",
       "      <td>-5.956909</td>\n",
       "      <td>-7.031464</td>\n",
       "      <td>2.752716</td>\n",
       "      <td>-0.424346</td>\n",
       "      <td>0.048824</td>\n",
       "      <td>0.503679</td>\n",
       "      <td>0.019775</td>\n",
       "      <td>-0.015732</td>\n",
       "      <td>-0.015106</td>\n",
       "      <td>...</td>\n",
       "      <td>-0.053767</td>\n",
       "      <td>0.021380</td>\n",
       "      <td>0.025351</td>\n",
       "      <td>-0.009774</td>\n",
       "      <td>13.8125</td>\n",
       "      <td>38.8750</td>\n",
       "      <td>-26.2500</td>\n",
       "      <td>52.238673</td>\n",
       "      <td>6.857011</td>\n",
       "      <td>SmokeSD</td>\n",
       "    </tr>\n",
       "    <tr>\n",
       "      <th>4</th>\n",
       "      <td>1455278271298</td>\n",
       "      <td>-5.959290</td>\n",
       "      <td>-6.900543</td>\n",
       "      <td>2.743195</td>\n",
       "      <td>-0.414628</td>\n",
       "      <td>0.176953</td>\n",
       "      <td>0.475054</td>\n",
       "      <td>0.006958</td>\n",
       "      <td>-0.013596</td>\n",
       "      <td>-0.004425</td>\n",
       "      <td>...</td>\n",
       "      <td>-0.207327</td>\n",
       "      <td>0.023824</td>\n",
       "      <td>0.053145</td>\n",
       "      <td>-0.015577</td>\n",
       "      <td>13.8125</td>\n",
       "      <td>38.6875</td>\n",
       "      <td>-26.2500</td>\n",
       "      <td>52.238673</td>\n",
       "      <td>6.857011</td>\n",
       "      <td>SmokeSD</td>\n",
       "    </tr>\n",
       "    <tr>\n",
       "      <th>...</th>\n",
       "      <td>...</td>\n",
       "      <td>...</td>\n",
       "      <td>...</td>\n",
       "      <td>...</td>\n",
       "      <td>...</td>\n",
       "      <td>...</td>\n",
       "      <td>...</td>\n",
       "      <td>...</td>\n",
       "      <td>...</td>\n",
       "      <td>...</td>\n",
       "      <td>...</td>\n",
       "      <td>...</td>\n",
       "      <td>...</td>\n",
       "      <td>...</td>\n",
       "      <td>...</td>\n",
       "      <td>...</td>\n",
       "      <td>...</td>\n",
       "      <td>...</td>\n",
       "      <td>...</td>\n",
       "      <td>...</td>\n",
       "      <td>...</td>\n",
       "    </tr>\n",
       "    <tr>\n",
       "      <th>904395</th>\n",
       "      <td>1461602683308</td>\n",
       "      <td>9.681763</td>\n",
       "      <td>-1.978455</td>\n",
       "      <td>-0.256821</td>\n",
       "      <td>-0.134968</td>\n",
       "      <td>-0.414399</td>\n",
       "      <td>0.267209</td>\n",
       "      <td>0.146683</td>\n",
       "      <td>-0.002441</td>\n",
       "      <td>-0.181915</td>\n",
       "      <td>...</td>\n",
       "      <td>-0.002465</td>\n",
       "      <td>-0.004276</td>\n",
       "      <td>-0.078802</td>\n",
       "      <td>-0.013439</td>\n",
       "      <td>-10.6250</td>\n",
       "      <td>13.8125</td>\n",
       "      <td>-42.2500</td>\n",
       "      <td>0.000000</td>\n",
       "      <td>0.000000</td>\n",
       "      <td>Stand</td>\n",
       "    </tr>\n",
       "    <tr>\n",
       "      <th>904396</th>\n",
       "      <td>1461602683329</td>\n",
       "      <td>9.865051</td>\n",
       "      <td>-1.980835</td>\n",
       "      <td>-0.268723</td>\n",
       "      <td>0.076663</td>\n",
       "      <td>-0.508131</td>\n",
       "      <td>0.216074</td>\n",
       "      <td>0.150955</td>\n",
       "      <td>0.010376</td>\n",
       "      <td>-0.156281</td>\n",
       "      <td>...</td>\n",
       "      <td>-0.061307</td>\n",
       "      <td>-0.004581</td>\n",
       "      <td>-0.056505</td>\n",
       "      <td>-0.010385</td>\n",
       "      <td>-10.7500</td>\n",
       "      <td>14.0000</td>\n",
       "      <td>-42.0000</td>\n",
       "      <td>0.000000</td>\n",
       "      <td>0.000000</td>\n",
       "      <td>Stand</td>\n",
       "    </tr>\n",
       "    <tr>\n",
       "      <th>904397</th>\n",
       "      <td>1461602683348</td>\n",
       "      <td>10.057861</td>\n",
       "      <td>-2.002258</td>\n",
       "      <td>-0.361557</td>\n",
       "      <td>0.315035</td>\n",
       "      <td>-0.547142</td>\n",
       "      <td>0.158731</td>\n",
       "      <td>0.115707</td>\n",
       "      <td>0.043488</td>\n",
       "      <td>-0.106079</td>\n",
       "      <td>...</td>\n",
       "      <td>-0.199140</td>\n",
       "      <td>-0.027489</td>\n",
       "      <td>-0.047953</td>\n",
       "      <td>-0.010996</td>\n",
       "      <td>-10.5000</td>\n",
       "      <td>13.9375</td>\n",
       "      <td>-42.0625</td>\n",
       "      <td>0.000000</td>\n",
       "      <td>0.000000</td>\n",
       "      <td>Stand</td>\n",
       "    </tr>\n",
       "    <tr>\n",
       "      <th>904398</th>\n",
       "      <td>1461602683369</td>\n",
       "      <td>10.045959</td>\n",
       "      <td>-1.964172</td>\n",
       "      <td>-0.349655</td>\n",
       "      <td>0.272425</td>\n",
       "      <td>-0.496381</td>\n",
       "      <td>0.132929</td>\n",
       "      <td>0.087936</td>\n",
       "      <td>0.065918</td>\n",
       "      <td>-0.056946</td>\n",
       "      <td>...</td>\n",
       "      <td>-0.022247</td>\n",
       "      <td>-0.046731</td>\n",
       "      <td>-0.015272</td>\n",
       "      <td>0.004581</td>\n",
       "      <td>-10.3750</td>\n",
       "      <td>13.9375</td>\n",
       "      <td>-41.9375</td>\n",
       "      <td>0.000000</td>\n",
       "      <td>0.000000</td>\n",
       "      <td>Stand</td>\n",
       "    </tr>\n",
       "    <tr>\n",
       "      <th>904399</th>\n",
       "      <td>1461602683389</td>\n",
       "      <td>9.848389</td>\n",
       "      <td>-1.945129</td>\n",
       "      <td>-0.449631</td>\n",
       "      <td>0.069062</td>\n",
       "      <td>-0.442351</td>\n",
       "      <td>-0.048458</td>\n",
       "      <td>0.036667</td>\n",
       "      <td>0.092621</td>\n",
       "      <td>0.018890</td>\n",
       "      <td>...</td>\n",
       "      <td>0.127224</td>\n",
       "      <td>-0.032070</td>\n",
       "      <td>-0.084299</td>\n",
       "      <td>0.004581</td>\n",
       "      <td>-10.4375</td>\n",
       "      <td>14.0000</td>\n",
       "      <td>-41.9375</td>\n",
       "      <td>0.000000</td>\n",
       "      <td>0.000000</td>\n",
       "      <td>Stand</td>\n",
       "    </tr>\n",
       "  </tbody>\n",
       "</table>\n",
       "<p>904400 rows × 32 columns</p>\n",
       "</div>"
      ],
      "text/plain": [
       "                   0          1         2         3         4         5   \\\n",
       "0       1455278271218  -5.973572 -6.710114  2.555145 -0.474457  0.382236   \n",
       "1       1455278271238  -5.980713 -6.838654  2.605133 -0.471420  0.249793   \n",
       "2       1455278271258  -6.025940 -6.895783  2.514679 -0.504273  0.187889   \n",
       "3       1455278271279  -5.956909 -7.031464  2.752716 -0.424346  0.048824   \n",
       "4       1455278271298  -5.959290 -6.900543  2.743195 -0.414628  0.176953   \n",
       "...               ...        ...       ...       ...       ...       ...   \n",
       "904395  1461602683308   9.681763 -1.978455 -0.256821 -0.134968 -0.414399   \n",
       "904396  1461602683329   9.865051 -1.980835 -0.268723  0.076663 -0.508131   \n",
       "904397  1461602683348  10.057861 -2.002258 -0.361557  0.315035 -0.547142   \n",
       "904398  1461602683369  10.045959 -1.964172 -0.349655  0.272425 -0.496381   \n",
       "904399  1461602683389   9.848389 -1.945129 -0.449631  0.069062 -0.442351   \n",
       "\n",
       "              6         7         8         9   ...        22        23  \\\n",
       "0       0.345239 -0.014404 -0.001846 -0.028992  ... -0.161003  0.038790   \n",
       "1       0.383285  0.001617 -0.005051 -0.027924  ... -0.136580  0.037568   \n",
       "2       0.285115  0.009094 -0.015732 -0.027924  ... -0.116517  0.033292   \n",
       "3       0.503679  0.019775 -0.015732 -0.015106  ... -0.053767  0.021380   \n",
       "4       0.475054  0.006958 -0.013596 -0.004425  ... -0.207327  0.023824   \n",
       "...          ...       ...       ...       ...  ...       ...       ...   \n",
       "904395  0.267209  0.146683 -0.002441 -0.181915  ... -0.002465 -0.004276   \n",
       "904396  0.216074  0.150955  0.010376 -0.156281  ... -0.061307 -0.004581   \n",
       "904397  0.158731  0.115707  0.043488 -0.106079  ... -0.199140 -0.027489   \n",
       "904398  0.132929  0.087936  0.065918 -0.056946  ... -0.022247 -0.046731   \n",
       "904399 -0.048458  0.036667  0.092621  0.018890  ...  0.127224 -0.032070   \n",
       "\n",
       "              24        25       26       27       28         29        30  \\\n",
       "0       0.006414 -0.004276  13.9375  39.0000 -26.2500  52.238673  6.857011   \n",
       "1       0.025351 -0.010079  13.8750  39.0000 -26.2500  52.238673  6.857011   \n",
       "2       0.027184 -0.009774  13.8750  38.6875 -26.2500  52.238673  6.857011   \n",
       "3       0.025351 -0.009774  13.8125  38.8750 -26.2500  52.238673  6.857011   \n",
       "4       0.053145 -0.015577  13.8125  38.6875 -26.2500  52.238673  6.857011   \n",
       "...          ...       ...      ...      ...      ...        ...       ...   \n",
       "904395 -0.078802 -0.013439 -10.6250  13.8125 -42.2500   0.000000  0.000000   \n",
       "904396 -0.056505 -0.010385 -10.7500  14.0000 -42.0000   0.000000  0.000000   \n",
       "904397 -0.047953 -0.010996 -10.5000  13.9375 -42.0625   0.000000  0.000000   \n",
       "904398 -0.015272  0.004581 -10.3750  13.9375 -41.9375   0.000000  0.000000   \n",
       "904399 -0.084299  0.004581 -10.4375  14.0000 -41.9375   0.000000  0.000000   \n",
       "\n",
       "             31  \n",
       "0       SmokeSD  \n",
       "1       SmokeSD  \n",
       "2       SmokeSD  \n",
       "3       SmokeSD  \n",
       "4       SmokeSD  \n",
       "...         ...  \n",
       "904395    Stand  \n",
       "904396    Stand  \n",
       "904397    Stand  \n",
       "904398    Stand  \n",
       "904399    Stand  \n",
       "\n",
       "[904400 rows x 32 columns]"
      ]
     },
     "execution_count": 4,
     "metadata": {},
     "output_type": "execute_result"
    }
   ],
   "source": [
    "data_1=pd.read_excel(P1_Data_path, header=None)\n",
    "data_1"
   ]
  },
  {
   "cell_type": "code",
   "execution_count": 5,
   "id": "c35f055f",
   "metadata": {
    "ExecuteTime": {
     "end_time": "2022-12-05T09:29:11.468442Z",
     "start_time": "2022-12-05T09:29:11.466043Z"
    }
   },
   "outputs": [],
   "source": [
    "d = {0:'timestamp_WD', \n",
    "     1:'Accelerometer_x_WD', 2:'Accelerometer_y_WD', 3:'Accelerometer_z_WD', \n",
    "     4:'Linear_acceleration_sensor_x_WD', 5:'Linear_acceleration_sensor_y_WD', 6:'Linear_acceleration_sensor_z_WD', \n",
    "     7:'Gyroscope_x_WD', 8:'Gyroscope_y_WD', 9:'Gyroscope_z_WD',\n",
    "    10:'Magnetometer_x_WD', 11:'Magnetometer_y_WD', 12:'Magnetometer_z_WD', \n",
    "     13:'Pressure_sensor_WD', 14:'Heart_rate_sensor_WD',\n",
    "    15:'GAP', \n",
    "     16:'timestamp_PD', \n",
    "     17:'Accelerometer_x_PD', 18:'Accelerometer_y_PD', 19:'Accelerometer_z_PD',\n",
    "    20:'Linear_acceleration_sensor_x_PD', 21:'Linear_acceleration_sensor_y_PD', 22:'Linear_acceleration_sensor_z_PD', \n",
    "     23:'Gyroscope_x_PD', 24:'Gyroscope_y_PD',25:'Gyroscope_z_PD', \n",
    "     26:'Magnetometer_x_PD', 27:'Magnetometer_y_PD', 28:'Magnetometer_z_PD', \n",
    "     29:'GPS_lat_PD',30:'GPS_long_PD', \n",
    "     31:'Class_label'}"
   ]
  },
  {
   "cell_type": "code",
   "execution_count": 6,
   "id": "52f05178",
   "metadata": {
    "ExecuteTime": {
     "end_time": "2022-12-05T09:29:11.507588Z",
     "start_time": "2022-12-05T09:29:11.469340Z"
    }
   },
   "outputs": [],
   "source": [
    "P1_data = data_1.rename(d, axis=1)"
   ]
  },
  {
   "cell_type": "code",
   "execution_count": 7,
   "id": "9edbd040",
   "metadata": {
    "ExecuteTime": {
     "end_time": "2022-12-05T09:29:11.696689Z",
     "start_time": "2022-12-05T09:29:11.509070Z"
    }
   },
   "outputs": [
    {
     "data": {
      "text/html": [
       "<div>\n",
       "<style scoped>\n",
       "    .dataframe tbody tr th:only-of-type {\n",
       "        vertical-align: middle;\n",
       "    }\n",
       "\n",
       "    .dataframe tbody tr th {\n",
       "        vertical-align: top;\n",
       "    }\n",
       "\n",
       "    .dataframe thead th {\n",
       "        text-align: right;\n",
       "    }\n",
       "</style>\n",
       "<table border=\"1\" class=\"dataframe\">\n",
       "  <thead>\n",
       "    <tr style=\"text-align: right;\">\n",
       "      <th></th>\n",
       "      <th>timestamp_WD</th>\n",
       "      <th>Accelerometer_x_WD</th>\n",
       "      <th>Accelerometer_y_WD</th>\n",
       "      <th>Accelerometer_z_WD</th>\n",
       "      <th>Linear_acceleration_sensor_x_WD</th>\n",
       "      <th>Linear_acceleration_sensor_y_WD</th>\n",
       "      <th>Linear_acceleration_sensor_z_WD</th>\n",
       "      <th>Gyroscope_x_WD</th>\n",
       "      <th>Gyroscope_y_WD</th>\n",
       "      <th>Gyroscope_z_WD</th>\n",
       "      <th>...</th>\n",
       "      <th>Linear_acceleration_sensor_z_PD</th>\n",
       "      <th>Gyroscope_x_PD</th>\n",
       "      <th>Gyroscope_y_PD</th>\n",
       "      <th>Gyroscope_z_PD</th>\n",
       "      <th>Magnetometer_x_PD</th>\n",
       "      <th>Magnetometer_y_PD</th>\n",
       "      <th>Magnetometer_z_PD</th>\n",
       "      <th>GPS_lat_PD</th>\n",
       "      <th>GPS_long_PD</th>\n",
       "      <th>Class_label</th>\n",
       "    </tr>\n",
       "  </thead>\n",
       "  <tbody>\n",
       "    <tr>\n",
       "      <th>0</th>\n",
       "      <td>1455278271218</td>\n",
       "      <td>-5.973572</td>\n",
       "      <td>-6.710114</td>\n",
       "      <td>2.555145</td>\n",
       "      <td>-0.474457</td>\n",
       "      <td>0.382236</td>\n",
       "      <td>0.345239</td>\n",
       "      <td>-0.014404</td>\n",
       "      <td>-0.001846</td>\n",
       "      <td>-0.028992</td>\n",
       "      <td>...</td>\n",
       "      <td>-0.161003</td>\n",
       "      <td>0.038790</td>\n",
       "      <td>0.006414</td>\n",
       "      <td>-0.004276</td>\n",
       "      <td>13.9375</td>\n",
       "      <td>39.0000</td>\n",
       "      <td>-26.2500</td>\n",
       "      <td>52.238673</td>\n",
       "      <td>6.857011</td>\n",
       "      <td>SmokeSD</td>\n",
       "    </tr>\n",
       "    <tr>\n",
       "      <th>1</th>\n",
       "      <td>1455278271238</td>\n",
       "      <td>-5.980713</td>\n",
       "      <td>-6.838654</td>\n",
       "      <td>2.605133</td>\n",
       "      <td>-0.471420</td>\n",
       "      <td>0.249793</td>\n",
       "      <td>0.383285</td>\n",
       "      <td>0.001617</td>\n",
       "      <td>-0.005051</td>\n",
       "      <td>-0.027924</td>\n",
       "      <td>...</td>\n",
       "      <td>-0.136580</td>\n",
       "      <td>0.037568</td>\n",
       "      <td>0.025351</td>\n",
       "      <td>-0.010079</td>\n",
       "      <td>13.8750</td>\n",
       "      <td>39.0000</td>\n",
       "      <td>-26.2500</td>\n",
       "      <td>52.238673</td>\n",
       "      <td>6.857011</td>\n",
       "      <td>SmokeSD</td>\n",
       "    </tr>\n",
       "    <tr>\n",
       "      <th>2</th>\n",
       "      <td>1455278271258</td>\n",
       "      <td>-6.025940</td>\n",
       "      <td>-6.895783</td>\n",
       "      <td>2.514679</td>\n",
       "      <td>-0.504273</td>\n",
       "      <td>0.187889</td>\n",
       "      <td>0.285115</td>\n",
       "      <td>0.009094</td>\n",
       "      <td>-0.015732</td>\n",
       "      <td>-0.027924</td>\n",
       "      <td>...</td>\n",
       "      <td>-0.116517</td>\n",
       "      <td>0.033292</td>\n",
       "      <td>0.027184</td>\n",
       "      <td>-0.009774</td>\n",
       "      <td>13.8750</td>\n",
       "      <td>38.6875</td>\n",
       "      <td>-26.2500</td>\n",
       "      <td>52.238673</td>\n",
       "      <td>6.857011</td>\n",
       "      <td>SmokeSD</td>\n",
       "    </tr>\n",
       "    <tr>\n",
       "      <th>3</th>\n",
       "      <td>1455278271279</td>\n",
       "      <td>-5.956909</td>\n",
       "      <td>-7.031464</td>\n",
       "      <td>2.752716</td>\n",
       "      <td>-0.424346</td>\n",
       "      <td>0.048824</td>\n",
       "      <td>0.503679</td>\n",
       "      <td>0.019775</td>\n",
       "      <td>-0.015732</td>\n",
       "      <td>-0.015106</td>\n",
       "      <td>...</td>\n",
       "      <td>-0.053767</td>\n",
       "      <td>0.021380</td>\n",
       "      <td>0.025351</td>\n",
       "      <td>-0.009774</td>\n",
       "      <td>13.8125</td>\n",
       "      <td>38.8750</td>\n",
       "      <td>-26.2500</td>\n",
       "      <td>52.238673</td>\n",
       "      <td>6.857011</td>\n",
       "      <td>SmokeSD</td>\n",
       "    </tr>\n",
       "    <tr>\n",
       "      <th>4</th>\n",
       "      <td>1455278271298</td>\n",
       "      <td>-5.959290</td>\n",
       "      <td>-6.900543</td>\n",
       "      <td>2.743195</td>\n",
       "      <td>-0.414628</td>\n",
       "      <td>0.176953</td>\n",
       "      <td>0.475054</td>\n",
       "      <td>0.006958</td>\n",
       "      <td>-0.013596</td>\n",
       "      <td>-0.004425</td>\n",
       "      <td>...</td>\n",
       "      <td>-0.207327</td>\n",
       "      <td>0.023824</td>\n",
       "      <td>0.053145</td>\n",
       "      <td>-0.015577</td>\n",
       "      <td>13.8125</td>\n",
       "      <td>38.6875</td>\n",
       "      <td>-26.2500</td>\n",
       "      <td>52.238673</td>\n",
       "      <td>6.857011</td>\n",
       "      <td>SmokeSD</td>\n",
       "    </tr>\n",
       "    <tr>\n",
       "      <th>...</th>\n",
       "      <td>...</td>\n",
       "      <td>...</td>\n",
       "      <td>...</td>\n",
       "      <td>...</td>\n",
       "      <td>...</td>\n",
       "      <td>...</td>\n",
       "      <td>...</td>\n",
       "      <td>...</td>\n",
       "      <td>...</td>\n",
       "      <td>...</td>\n",
       "      <td>...</td>\n",
       "      <td>...</td>\n",
       "      <td>...</td>\n",
       "      <td>...</td>\n",
       "      <td>...</td>\n",
       "      <td>...</td>\n",
       "      <td>...</td>\n",
       "      <td>...</td>\n",
       "      <td>...</td>\n",
       "      <td>...</td>\n",
       "      <td>...</td>\n",
       "    </tr>\n",
       "    <tr>\n",
       "      <th>904395</th>\n",
       "      <td>1461602683308</td>\n",
       "      <td>9.681763</td>\n",
       "      <td>-1.978455</td>\n",
       "      <td>-0.256821</td>\n",
       "      <td>-0.134968</td>\n",
       "      <td>-0.414399</td>\n",
       "      <td>0.267209</td>\n",
       "      <td>0.146683</td>\n",
       "      <td>-0.002441</td>\n",
       "      <td>-0.181915</td>\n",
       "      <td>...</td>\n",
       "      <td>-0.002465</td>\n",
       "      <td>-0.004276</td>\n",
       "      <td>-0.078802</td>\n",
       "      <td>-0.013439</td>\n",
       "      <td>-10.6250</td>\n",
       "      <td>13.8125</td>\n",
       "      <td>-42.2500</td>\n",
       "      <td>0.000000</td>\n",
       "      <td>0.000000</td>\n",
       "      <td>Stand</td>\n",
       "    </tr>\n",
       "    <tr>\n",
       "      <th>904396</th>\n",
       "      <td>1461602683329</td>\n",
       "      <td>9.865051</td>\n",
       "      <td>-1.980835</td>\n",
       "      <td>-0.268723</td>\n",
       "      <td>0.076663</td>\n",
       "      <td>-0.508131</td>\n",
       "      <td>0.216074</td>\n",
       "      <td>0.150955</td>\n",
       "      <td>0.010376</td>\n",
       "      <td>-0.156281</td>\n",
       "      <td>...</td>\n",
       "      <td>-0.061307</td>\n",
       "      <td>-0.004581</td>\n",
       "      <td>-0.056505</td>\n",
       "      <td>-0.010385</td>\n",
       "      <td>-10.7500</td>\n",
       "      <td>14.0000</td>\n",
       "      <td>-42.0000</td>\n",
       "      <td>0.000000</td>\n",
       "      <td>0.000000</td>\n",
       "      <td>Stand</td>\n",
       "    </tr>\n",
       "    <tr>\n",
       "      <th>904397</th>\n",
       "      <td>1461602683348</td>\n",
       "      <td>10.057861</td>\n",
       "      <td>-2.002258</td>\n",
       "      <td>-0.361557</td>\n",
       "      <td>0.315035</td>\n",
       "      <td>-0.547142</td>\n",
       "      <td>0.158731</td>\n",
       "      <td>0.115707</td>\n",
       "      <td>0.043488</td>\n",
       "      <td>-0.106079</td>\n",
       "      <td>...</td>\n",
       "      <td>-0.199140</td>\n",
       "      <td>-0.027489</td>\n",
       "      <td>-0.047953</td>\n",
       "      <td>-0.010996</td>\n",
       "      <td>-10.5000</td>\n",
       "      <td>13.9375</td>\n",
       "      <td>-42.0625</td>\n",
       "      <td>0.000000</td>\n",
       "      <td>0.000000</td>\n",
       "      <td>Stand</td>\n",
       "    </tr>\n",
       "    <tr>\n",
       "      <th>904398</th>\n",
       "      <td>1461602683369</td>\n",
       "      <td>10.045959</td>\n",
       "      <td>-1.964172</td>\n",
       "      <td>-0.349655</td>\n",
       "      <td>0.272425</td>\n",
       "      <td>-0.496381</td>\n",
       "      <td>0.132929</td>\n",
       "      <td>0.087936</td>\n",
       "      <td>0.065918</td>\n",
       "      <td>-0.056946</td>\n",
       "      <td>...</td>\n",
       "      <td>-0.022247</td>\n",
       "      <td>-0.046731</td>\n",
       "      <td>-0.015272</td>\n",
       "      <td>0.004581</td>\n",
       "      <td>-10.3750</td>\n",
       "      <td>13.9375</td>\n",
       "      <td>-41.9375</td>\n",
       "      <td>0.000000</td>\n",
       "      <td>0.000000</td>\n",
       "      <td>Stand</td>\n",
       "    </tr>\n",
       "    <tr>\n",
       "      <th>904399</th>\n",
       "      <td>1461602683389</td>\n",
       "      <td>9.848389</td>\n",
       "      <td>-1.945129</td>\n",
       "      <td>-0.449631</td>\n",
       "      <td>0.069062</td>\n",
       "      <td>-0.442351</td>\n",
       "      <td>-0.048458</td>\n",
       "      <td>0.036667</td>\n",
       "      <td>0.092621</td>\n",
       "      <td>0.018890</td>\n",
       "      <td>...</td>\n",
       "      <td>0.127224</td>\n",
       "      <td>-0.032070</td>\n",
       "      <td>-0.084299</td>\n",
       "      <td>0.004581</td>\n",
       "      <td>-10.4375</td>\n",
       "      <td>14.0000</td>\n",
       "      <td>-41.9375</td>\n",
       "      <td>0.000000</td>\n",
       "      <td>0.000000</td>\n",
       "      <td>Stand</td>\n",
       "    </tr>\n",
       "  </tbody>\n",
       "</table>\n",
       "<p>904400 rows × 32 columns</p>\n",
       "</div>"
      ],
      "text/plain": [
       "         timestamp_WD  Accelerometer_x_WD  Accelerometer_y_WD  \\\n",
       "0       1455278271218           -5.973572           -6.710114   \n",
       "1       1455278271238           -5.980713           -6.838654   \n",
       "2       1455278271258           -6.025940           -6.895783   \n",
       "3       1455278271279           -5.956909           -7.031464   \n",
       "4       1455278271298           -5.959290           -6.900543   \n",
       "...               ...                 ...                 ...   \n",
       "904395  1461602683308            9.681763           -1.978455   \n",
       "904396  1461602683329            9.865051           -1.980835   \n",
       "904397  1461602683348           10.057861           -2.002258   \n",
       "904398  1461602683369           10.045959           -1.964172   \n",
       "904399  1461602683389            9.848389           -1.945129   \n",
       "\n",
       "        Accelerometer_z_WD  Linear_acceleration_sensor_x_WD  \\\n",
       "0                 2.555145                        -0.474457   \n",
       "1                 2.605133                        -0.471420   \n",
       "2                 2.514679                        -0.504273   \n",
       "3                 2.752716                        -0.424346   \n",
       "4                 2.743195                        -0.414628   \n",
       "...                    ...                              ...   \n",
       "904395           -0.256821                        -0.134968   \n",
       "904396           -0.268723                         0.076663   \n",
       "904397           -0.361557                         0.315035   \n",
       "904398           -0.349655                         0.272425   \n",
       "904399           -0.449631                         0.069062   \n",
       "\n",
       "        Linear_acceleration_sensor_y_WD  Linear_acceleration_sensor_z_WD  \\\n",
       "0                              0.382236                         0.345239   \n",
       "1                              0.249793                         0.383285   \n",
       "2                              0.187889                         0.285115   \n",
       "3                              0.048824                         0.503679   \n",
       "4                              0.176953                         0.475054   \n",
       "...                                 ...                              ...   \n",
       "904395                        -0.414399                         0.267209   \n",
       "904396                        -0.508131                         0.216074   \n",
       "904397                        -0.547142                         0.158731   \n",
       "904398                        -0.496381                         0.132929   \n",
       "904399                        -0.442351                        -0.048458   \n",
       "\n",
       "        Gyroscope_x_WD  Gyroscope_y_WD  Gyroscope_z_WD  ...  \\\n",
       "0            -0.014404       -0.001846       -0.028992  ...   \n",
       "1             0.001617       -0.005051       -0.027924  ...   \n",
       "2             0.009094       -0.015732       -0.027924  ...   \n",
       "3             0.019775       -0.015732       -0.015106  ...   \n",
       "4             0.006958       -0.013596       -0.004425  ...   \n",
       "...                ...             ...             ...  ...   \n",
       "904395        0.146683       -0.002441       -0.181915  ...   \n",
       "904396        0.150955        0.010376       -0.156281  ...   \n",
       "904397        0.115707        0.043488       -0.106079  ...   \n",
       "904398        0.087936        0.065918       -0.056946  ...   \n",
       "904399        0.036667        0.092621        0.018890  ...   \n",
       "\n",
       "        Linear_acceleration_sensor_z_PD  Gyroscope_x_PD  Gyroscope_y_PD  \\\n",
       "0                             -0.161003        0.038790        0.006414   \n",
       "1                             -0.136580        0.037568        0.025351   \n",
       "2                             -0.116517        0.033292        0.027184   \n",
       "3                             -0.053767        0.021380        0.025351   \n",
       "4                             -0.207327        0.023824        0.053145   \n",
       "...                                 ...             ...             ...   \n",
       "904395                        -0.002465       -0.004276       -0.078802   \n",
       "904396                        -0.061307       -0.004581       -0.056505   \n",
       "904397                        -0.199140       -0.027489       -0.047953   \n",
       "904398                        -0.022247       -0.046731       -0.015272   \n",
       "904399                         0.127224       -0.032070       -0.084299   \n",
       "\n",
       "        Gyroscope_z_PD  Magnetometer_x_PD  Magnetometer_y_PD  \\\n",
       "0            -0.004276            13.9375            39.0000   \n",
       "1            -0.010079            13.8750            39.0000   \n",
       "2            -0.009774            13.8750            38.6875   \n",
       "3            -0.009774            13.8125            38.8750   \n",
       "4            -0.015577            13.8125            38.6875   \n",
       "...                ...                ...                ...   \n",
       "904395       -0.013439           -10.6250            13.8125   \n",
       "904396       -0.010385           -10.7500            14.0000   \n",
       "904397       -0.010996           -10.5000            13.9375   \n",
       "904398        0.004581           -10.3750            13.9375   \n",
       "904399        0.004581           -10.4375            14.0000   \n",
       "\n",
       "        Magnetometer_z_PD  GPS_lat_PD  GPS_long_PD  Class_label  \n",
       "0                -26.2500   52.238673     6.857011      SmokeSD  \n",
       "1                -26.2500   52.238673     6.857011      SmokeSD  \n",
       "2                -26.2500   52.238673     6.857011      SmokeSD  \n",
       "3                -26.2500   52.238673     6.857011      SmokeSD  \n",
       "4                -26.2500   52.238673     6.857011      SmokeSD  \n",
       "...                   ...         ...          ...          ...  \n",
       "904395           -42.2500    0.000000     0.000000        Stand  \n",
       "904396           -42.0000    0.000000     0.000000        Stand  \n",
       "904397           -42.0625    0.000000     0.000000        Stand  \n",
       "904398           -41.9375    0.000000     0.000000        Stand  \n",
       "904399           -41.9375    0.000000     0.000000        Stand  \n",
       "\n",
       "[904400 rows x 32 columns]"
      ]
     },
     "execution_count": 7,
     "metadata": {},
     "output_type": "execute_result"
    }
   ],
   "source": [
    "P1_data"
   ]
  },
  {
   "cell_type": "code",
   "execution_count": 8,
   "id": "0a79f51a",
   "metadata": {
    "ExecuteTime": {
     "end_time": "2022-12-05T09:29:11.701332Z",
     "start_time": "2022-12-05T09:29:11.698218Z"
    }
   },
   "outputs": [],
   "source": [
    "label_class = {'SmokeSD':0\n",
    "                ,'SmokeST':1\n",
    "                ,'Eat':2\n",
    "                ,'DrinkSD':3\n",
    "                ,'DrinkST':4\n",
    "                ,'Sit':5\n",
    "                ,'Stand':6\n",
    "                }"
   ]
  },
  {
   "cell_type": "code",
   "execution_count": 9,
   "id": "77889edf",
   "metadata": {
    "ExecuteTime": {
     "end_time": "2022-12-05T09:29:11.740291Z",
     "start_time": "2022-12-05T09:29:11.703158Z"
    }
   },
   "outputs": [],
   "source": [
    "P1_data['Class'] = P1_data['Class_label'].map(label_class)"
   ]
  },
  {
   "cell_type": "code",
   "execution_count": 10,
   "id": "5aca5c6b",
   "metadata": {
    "ExecuteTime": {
     "end_time": "2022-12-05T09:29:11.905316Z",
     "start_time": "2022-12-05T09:29:11.742577Z"
    }
   },
   "outputs": [
    {
     "data": {
      "text/html": [
       "<div>\n",
       "<style scoped>\n",
       "    .dataframe tbody tr th:only-of-type {\n",
       "        vertical-align: middle;\n",
       "    }\n",
       "\n",
       "    .dataframe tbody tr th {\n",
       "        vertical-align: top;\n",
       "    }\n",
       "\n",
       "    .dataframe thead th {\n",
       "        text-align: right;\n",
       "    }\n",
       "</style>\n",
       "<table border=\"1\" class=\"dataframe\">\n",
       "  <thead>\n",
       "    <tr style=\"text-align: right;\">\n",
       "      <th></th>\n",
       "      <th>timestamp_WD</th>\n",
       "      <th>Accelerometer_x_WD</th>\n",
       "      <th>Accelerometer_y_WD</th>\n",
       "      <th>Accelerometer_z_WD</th>\n",
       "      <th>Linear_acceleration_sensor_x_WD</th>\n",
       "      <th>Linear_acceleration_sensor_y_WD</th>\n",
       "      <th>Linear_acceleration_sensor_z_WD</th>\n",
       "      <th>Gyroscope_x_WD</th>\n",
       "      <th>Gyroscope_y_WD</th>\n",
       "      <th>Gyroscope_z_WD</th>\n",
       "      <th>...</th>\n",
       "      <th>Gyroscope_x_PD</th>\n",
       "      <th>Gyroscope_y_PD</th>\n",
       "      <th>Gyroscope_z_PD</th>\n",
       "      <th>Magnetometer_x_PD</th>\n",
       "      <th>Magnetometer_y_PD</th>\n",
       "      <th>Magnetometer_z_PD</th>\n",
       "      <th>GPS_lat_PD</th>\n",
       "      <th>GPS_long_PD</th>\n",
       "      <th>Class_label</th>\n",
       "      <th>Class</th>\n",
       "    </tr>\n",
       "  </thead>\n",
       "  <tbody>\n",
       "    <tr>\n",
       "      <th>0</th>\n",
       "      <td>1455278271218</td>\n",
       "      <td>-5.973572</td>\n",
       "      <td>-6.710114</td>\n",
       "      <td>2.555145</td>\n",
       "      <td>-0.474457</td>\n",
       "      <td>0.382236</td>\n",
       "      <td>0.345239</td>\n",
       "      <td>-0.014404</td>\n",
       "      <td>-0.001846</td>\n",
       "      <td>-0.028992</td>\n",
       "      <td>...</td>\n",
       "      <td>0.038790</td>\n",
       "      <td>0.006414</td>\n",
       "      <td>-0.004276</td>\n",
       "      <td>13.9375</td>\n",
       "      <td>39.0000</td>\n",
       "      <td>-26.2500</td>\n",
       "      <td>52.238673</td>\n",
       "      <td>6.857011</td>\n",
       "      <td>SmokeSD</td>\n",
       "      <td>0</td>\n",
       "    </tr>\n",
       "    <tr>\n",
       "      <th>1</th>\n",
       "      <td>1455278271238</td>\n",
       "      <td>-5.980713</td>\n",
       "      <td>-6.838654</td>\n",
       "      <td>2.605133</td>\n",
       "      <td>-0.471420</td>\n",
       "      <td>0.249793</td>\n",
       "      <td>0.383285</td>\n",
       "      <td>0.001617</td>\n",
       "      <td>-0.005051</td>\n",
       "      <td>-0.027924</td>\n",
       "      <td>...</td>\n",
       "      <td>0.037568</td>\n",
       "      <td>0.025351</td>\n",
       "      <td>-0.010079</td>\n",
       "      <td>13.8750</td>\n",
       "      <td>39.0000</td>\n",
       "      <td>-26.2500</td>\n",
       "      <td>52.238673</td>\n",
       "      <td>6.857011</td>\n",
       "      <td>SmokeSD</td>\n",
       "      <td>0</td>\n",
       "    </tr>\n",
       "    <tr>\n",
       "      <th>2</th>\n",
       "      <td>1455278271258</td>\n",
       "      <td>-6.025940</td>\n",
       "      <td>-6.895783</td>\n",
       "      <td>2.514679</td>\n",
       "      <td>-0.504273</td>\n",
       "      <td>0.187889</td>\n",
       "      <td>0.285115</td>\n",
       "      <td>0.009094</td>\n",
       "      <td>-0.015732</td>\n",
       "      <td>-0.027924</td>\n",
       "      <td>...</td>\n",
       "      <td>0.033292</td>\n",
       "      <td>0.027184</td>\n",
       "      <td>-0.009774</td>\n",
       "      <td>13.8750</td>\n",
       "      <td>38.6875</td>\n",
       "      <td>-26.2500</td>\n",
       "      <td>52.238673</td>\n",
       "      <td>6.857011</td>\n",
       "      <td>SmokeSD</td>\n",
       "      <td>0</td>\n",
       "    </tr>\n",
       "    <tr>\n",
       "      <th>3</th>\n",
       "      <td>1455278271279</td>\n",
       "      <td>-5.956909</td>\n",
       "      <td>-7.031464</td>\n",
       "      <td>2.752716</td>\n",
       "      <td>-0.424346</td>\n",
       "      <td>0.048824</td>\n",
       "      <td>0.503679</td>\n",
       "      <td>0.019775</td>\n",
       "      <td>-0.015732</td>\n",
       "      <td>-0.015106</td>\n",
       "      <td>...</td>\n",
       "      <td>0.021380</td>\n",
       "      <td>0.025351</td>\n",
       "      <td>-0.009774</td>\n",
       "      <td>13.8125</td>\n",
       "      <td>38.8750</td>\n",
       "      <td>-26.2500</td>\n",
       "      <td>52.238673</td>\n",
       "      <td>6.857011</td>\n",
       "      <td>SmokeSD</td>\n",
       "      <td>0</td>\n",
       "    </tr>\n",
       "    <tr>\n",
       "      <th>4</th>\n",
       "      <td>1455278271298</td>\n",
       "      <td>-5.959290</td>\n",
       "      <td>-6.900543</td>\n",
       "      <td>2.743195</td>\n",
       "      <td>-0.414628</td>\n",
       "      <td>0.176953</td>\n",
       "      <td>0.475054</td>\n",
       "      <td>0.006958</td>\n",
       "      <td>-0.013596</td>\n",
       "      <td>-0.004425</td>\n",
       "      <td>...</td>\n",
       "      <td>0.023824</td>\n",
       "      <td>0.053145</td>\n",
       "      <td>-0.015577</td>\n",
       "      <td>13.8125</td>\n",
       "      <td>38.6875</td>\n",
       "      <td>-26.2500</td>\n",
       "      <td>52.238673</td>\n",
       "      <td>6.857011</td>\n",
       "      <td>SmokeSD</td>\n",
       "      <td>0</td>\n",
       "    </tr>\n",
       "    <tr>\n",
       "      <th>...</th>\n",
       "      <td>...</td>\n",
       "      <td>...</td>\n",
       "      <td>...</td>\n",
       "      <td>...</td>\n",
       "      <td>...</td>\n",
       "      <td>...</td>\n",
       "      <td>...</td>\n",
       "      <td>...</td>\n",
       "      <td>...</td>\n",
       "      <td>...</td>\n",
       "      <td>...</td>\n",
       "      <td>...</td>\n",
       "      <td>...</td>\n",
       "      <td>...</td>\n",
       "      <td>...</td>\n",
       "      <td>...</td>\n",
       "      <td>...</td>\n",
       "      <td>...</td>\n",
       "      <td>...</td>\n",
       "      <td>...</td>\n",
       "      <td>...</td>\n",
       "    </tr>\n",
       "    <tr>\n",
       "      <th>904395</th>\n",
       "      <td>1461602683308</td>\n",
       "      <td>9.681763</td>\n",
       "      <td>-1.978455</td>\n",
       "      <td>-0.256821</td>\n",
       "      <td>-0.134968</td>\n",
       "      <td>-0.414399</td>\n",
       "      <td>0.267209</td>\n",
       "      <td>0.146683</td>\n",
       "      <td>-0.002441</td>\n",
       "      <td>-0.181915</td>\n",
       "      <td>...</td>\n",
       "      <td>-0.004276</td>\n",
       "      <td>-0.078802</td>\n",
       "      <td>-0.013439</td>\n",
       "      <td>-10.6250</td>\n",
       "      <td>13.8125</td>\n",
       "      <td>-42.2500</td>\n",
       "      <td>0.000000</td>\n",
       "      <td>0.000000</td>\n",
       "      <td>Stand</td>\n",
       "      <td>6</td>\n",
       "    </tr>\n",
       "    <tr>\n",
       "      <th>904396</th>\n",
       "      <td>1461602683329</td>\n",
       "      <td>9.865051</td>\n",
       "      <td>-1.980835</td>\n",
       "      <td>-0.268723</td>\n",
       "      <td>0.076663</td>\n",
       "      <td>-0.508131</td>\n",
       "      <td>0.216074</td>\n",
       "      <td>0.150955</td>\n",
       "      <td>0.010376</td>\n",
       "      <td>-0.156281</td>\n",
       "      <td>...</td>\n",
       "      <td>-0.004581</td>\n",
       "      <td>-0.056505</td>\n",
       "      <td>-0.010385</td>\n",
       "      <td>-10.7500</td>\n",
       "      <td>14.0000</td>\n",
       "      <td>-42.0000</td>\n",
       "      <td>0.000000</td>\n",
       "      <td>0.000000</td>\n",
       "      <td>Stand</td>\n",
       "      <td>6</td>\n",
       "    </tr>\n",
       "    <tr>\n",
       "      <th>904397</th>\n",
       "      <td>1461602683348</td>\n",
       "      <td>10.057861</td>\n",
       "      <td>-2.002258</td>\n",
       "      <td>-0.361557</td>\n",
       "      <td>0.315035</td>\n",
       "      <td>-0.547142</td>\n",
       "      <td>0.158731</td>\n",
       "      <td>0.115707</td>\n",
       "      <td>0.043488</td>\n",
       "      <td>-0.106079</td>\n",
       "      <td>...</td>\n",
       "      <td>-0.027489</td>\n",
       "      <td>-0.047953</td>\n",
       "      <td>-0.010996</td>\n",
       "      <td>-10.5000</td>\n",
       "      <td>13.9375</td>\n",
       "      <td>-42.0625</td>\n",
       "      <td>0.000000</td>\n",
       "      <td>0.000000</td>\n",
       "      <td>Stand</td>\n",
       "      <td>6</td>\n",
       "    </tr>\n",
       "    <tr>\n",
       "      <th>904398</th>\n",
       "      <td>1461602683369</td>\n",
       "      <td>10.045959</td>\n",
       "      <td>-1.964172</td>\n",
       "      <td>-0.349655</td>\n",
       "      <td>0.272425</td>\n",
       "      <td>-0.496381</td>\n",
       "      <td>0.132929</td>\n",
       "      <td>0.087936</td>\n",
       "      <td>0.065918</td>\n",
       "      <td>-0.056946</td>\n",
       "      <td>...</td>\n",
       "      <td>-0.046731</td>\n",
       "      <td>-0.015272</td>\n",
       "      <td>0.004581</td>\n",
       "      <td>-10.3750</td>\n",
       "      <td>13.9375</td>\n",
       "      <td>-41.9375</td>\n",
       "      <td>0.000000</td>\n",
       "      <td>0.000000</td>\n",
       "      <td>Stand</td>\n",
       "      <td>6</td>\n",
       "    </tr>\n",
       "    <tr>\n",
       "      <th>904399</th>\n",
       "      <td>1461602683389</td>\n",
       "      <td>9.848389</td>\n",
       "      <td>-1.945129</td>\n",
       "      <td>-0.449631</td>\n",
       "      <td>0.069062</td>\n",
       "      <td>-0.442351</td>\n",
       "      <td>-0.048458</td>\n",
       "      <td>0.036667</td>\n",
       "      <td>0.092621</td>\n",
       "      <td>0.018890</td>\n",
       "      <td>...</td>\n",
       "      <td>-0.032070</td>\n",
       "      <td>-0.084299</td>\n",
       "      <td>0.004581</td>\n",
       "      <td>-10.4375</td>\n",
       "      <td>14.0000</td>\n",
       "      <td>-41.9375</td>\n",
       "      <td>0.000000</td>\n",
       "      <td>0.000000</td>\n",
       "      <td>Stand</td>\n",
       "      <td>6</td>\n",
       "    </tr>\n",
       "  </tbody>\n",
       "</table>\n",
       "<p>904400 rows × 33 columns</p>\n",
       "</div>"
      ],
      "text/plain": [
       "         timestamp_WD  Accelerometer_x_WD  Accelerometer_y_WD  \\\n",
       "0       1455278271218           -5.973572           -6.710114   \n",
       "1       1455278271238           -5.980713           -6.838654   \n",
       "2       1455278271258           -6.025940           -6.895783   \n",
       "3       1455278271279           -5.956909           -7.031464   \n",
       "4       1455278271298           -5.959290           -6.900543   \n",
       "...               ...                 ...                 ...   \n",
       "904395  1461602683308            9.681763           -1.978455   \n",
       "904396  1461602683329            9.865051           -1.980835   \n",
       "904397  1461602683348           10.057861           -2.002258   \n",
       "904398  1461602683369           10.045959           -1.964172   \n",
       "904399  1461602683389            9.848389           -1.945129   \n",
       "\n",
       "        Accelerometer_z_WD  Linear_acceleration_sensor_x_WD  \\\n",
       "0                 2.555145                        -0.474457   \n",
       "1                 2.605133                        -0.471420   \n",
       "2                 2.514679                        -0.504273   \n",
       "3                 2.752716                        -0.424346   \n",
       "4                 2.743195                        -0.414628   \n",
       "...                    ...                              ...   \n",
       "904395           -0.256821                        -0.134968   \n",
       "904396           -0.268723                         0.076663   \n",
       "904397           -0.361557                         0.315035   \n",
       "904398           -0.349655                         0.272425   \n",
       "904399           -0.449631                         0.069062   \n",
       "\n",
       "        Linear_acceleration_sensor_y_WD  Linear_acceleration_sensor_z_WD  \\\n",
       "0                              0.382236                         0.345239   \n",
       "1                              0.249793                         0.383285   \n",
       "2                              0.187889                         0.285115   \n",
       "3                              0.048824                         0.503679   \n",
       "4                              0.176953                         0.475054   \n",
       "...                                 ...                              ...   \n",
       "904395                        -0.414399                         0.267209   \n",
       "904396                        -0.508131                         0.216074   \n",
       "904397                        -0.547142                         0.158731   \n",
       "904398                        -0.496381                         0.132929   \n",
       "904399                        -0.442351                        -0.048458   \n",
       "\n",
       "        Gyroscope_x_WD  Gyroscope_y_WD  Gyroscope_z_WD  ...  Gyroscope_x_PD  \\\n",
       "0            -0.014404       -0.001846       -0.028992  ...        0.038790   \n",
       "1             0.001617       -0.005051       -0.027924  ...        0.037568   \n",
       "2             0.009094       -0.015732       -0.027924  ...        0.033292   \n",
       "3             0.019775       -0.015732       -0.015106  ...        0.021380   \n",
       "4             0.006958       -0.013596       -0.004425  ...        0.023824   \n",
       "...                ...             ...             ...  ...             ...   \n",
       "904395        0.146683       -0.002441       -0.181915  ...       -0.004276   \n",
       "904396        0.150955        0.010376       -0.156281  ...       -0.004581   \n",
       "904397        0.115707        0.043488       -0.106079  ...       -0.027489   \n",
       "904398        0.087936        0.065918       -0.056946  ...       -0.046731   \n",
       "904399        0.036667        0.092621        0.018890  ...       -0.032070   \n",
       "\n",
       "        Gyroscope_y_PD  Gyroscope_z_PD  Magnetometer_x_PD  Magnetometer_y_PD  \\\n",
       "0             0.006414       -0.004276            13.9375            39.0000   \n",
       "1             0.025351       -0.010079            13.8750            39.0000   \n",
       "2             0.027184       -0.009774            13.8750            38.6875   \n",
       "3             0.025351       -0.009774            13.8125            38.8750   \n",
       "4             0.053145       -0.015577            13.8125            38.6875   \n",
       "...                ...             ...                ...                ...   \n",
       "904395       -0.078802       -0.013439           -10.6250            13.8125   \n",
       "904396       -0.056505       -0.010385           -10.7500            14.0000   \n",
       "904397       -0.047953       -0.010996           -10.5000            13.9375   \n",
       "904398       -0.015272        0.004581           -10.3750            13.9375   \n",
       "904399       -0.084299        0.004581           -10.4375            14.0000   \n",
       "\n",
       "        Magnetometer_z_PD  GPS_lat_PD  GPS_long_PD  Class_label  Class  \n",
       "0                -26.2500   52.238673     6.857011      SmokeSD      0  \n",
       "1                -26.2500   52.238673     6.857011      SmokeSD      0  \n",
       "2                -26.2500   52.238673     6.857011      SmokeSD      0  \n",
       "3                -26.2500   52.238673     6.857011      SmokeSD      0  \n",
       "4                -26.2500   52.238673     6.857011      SmokeSD      0  \n",
       "...                   ...         ...          ...          ...    ...  \n",
       "904395           -42.2500    0.000000     0.000000        Stand      6  \n",
       "904396           -42.0000    0.000000     0.000000        Stand      6  \n",
       "904397           -42.0625    0.000000     0.000000        Stand      6  \n",
       "904398           -41.9375    0.000000     0.000000        Stand      6  \n",
       "904399           -41.9375    0.000000     0.000000        Stand      6  \n",
       "\n",
       "[904400 rows x 33 columns]"
      ]
     },
     "execution_count": 10,
     "metadata": {},
     "output_type": "execute_result"
    }
   ],
   "source": [
    "P1_data"
   ]
  },
  {
   "cell_type": "code",
   "execution_count": 11,
   "id": "3ae9dedf",
   "metadata": {
    "ExecuteTime": {
     "end_time": "2022-12-05T09:29:11.909444Z",
     "start_time": "2022-12-05T09:29:11.906371Z"
    }
   },
   "outputs": [],
   "source": [
    "def scrub_data(df: pd.DataFrame) -> pd.DataFrame:\n",
    "    \"\"\"\n",
    "    clean raw data by removing buggy or irrelevant transactions\n",
    "    or columns for the training set\n",
    "    \"\"\"\n",
    "    participant_num=''.join([d for d in re.findall(r'\\d+',\"\")])\n",
    "    df['Participant_Num']=participant_num\n",
    "\n",
    "    # remove useless/redundant columns\n",
    "    df = df.drop(columns=['timestamp_WD'\n",
    "                    ,'GAP'\n",
    "                    ,'timestamp_PD'\n",
    "                    ,'Accelerometer_x_PD'\n",
    "                    ,'Accelerometer_y_PD'\n",
    "                    ,'Accelerometer_z_PD'\n",
    "                    ,'Linear_acceleration_sensor_x_PD'\n",
    "                    ,'Linear_acceleration_sensor_y_PD'\n",
    "                    ,'Linear_acceleration_sensor_z_PD'\n",
    "                    ,'Gyroscope_x_PD'\n",
    "                    ,'Gyroscope_y_PD'\n",
    "                    ,'Gyroscope_z_PD'\n",
    "                    ,'Magnetometer_x_PD'\n",
    "                    ,'Magnetometer_y_PD'\n",
    "                    ,'Magnetometer_z_PD'\n",
    "                    ,'GPS_lat_PD'\n",
    "                    ,'GPS_long_PD'])\n",
    "\n",
    "    print(\"\\n✅ data cleaned\")\n",
    "\n",
    "    return df"
   ]
  },
  {
   "cell_type": "code",
   "execution_count": 12,
   "id": "3b0012ae",
   "metadata": {
    "ExecuteTime": {
     "end_time": "2022-12-05T09:29:11.914100Z",
     "start_time": "2022-12-05T09:29:11.910598Z"
    }
   },
   "outputs": [],
   "source": [
    "import re"
   ]
  },
  {
   "cell_type": "code",
   "execution_count": 13,
   "id": "74639ed0",
   "metadata": {
    "ExecuteTime": {
     "end_time": "2022-12-05T09:29:11.949969Z",
     "start_time": "2022-12-05T09:29:11.915371Z"
    }
   },
   "outputs": [
    {
     "name": "stdout",
     "output_type": "stream",
     "text": [
      "\n",
      "✅ data cleaned\n"
     ]
    }
   ],
   "source": [
    "df = scrub_data(P1_data)"
   ]
  },
  {
   "cell_type": "code",
   "execution_count": 14,
   "id": "b20e691b",
   "metadata": {
    "ExecuteTime": {
     "end_time": "2022-12-05T09:29:11.958704Z",
     "start_time": "2022-12-05T09:29:11.950937Z"
    }
   },
   "outputs": [
    {
     "data": {
      "text/html": [
       "<div>\n",
       "<style scoped>\n",
       "    .dataframe tbody tr th:only-of-type {\n",
       "        vertical-align: middle;\n",
       "    }\n",
       "\n",
       "    .dataframe tbody tr th {\n",
       "        vertical-align: top;\n",
       "    }\n",
       "\n",
       "    .dataframe thead th {\n",
       "        text-align: right;\n",
       "    }\n",
       "</style>\n",
       "<table border=\"1\" class=\"dataframe\">\n",
       "  <thead>\n",
       "    <tr style=\"text-align: right;\">\n",
       "      <th></th>\n",
       "      <th>Accelerometer_x_WD</th>\n",
       "      <th>Accelerometer_y_WD</th>\n",
       "      <th>Accelerometer_z_WD</th>\n",
       "      <th>Linear_acceleration_sensor_x_WD</th>\n",
       "      <th>Linear_acceleration_sensor_y_WD</th>\n",
       "      <th>Linear_acceleration_sensor_z_WD</th>\n",
       "      <th>Gyroscope_x_WD</th>\n",
       "      <th>Gyroscope_y_WD</th>\n",
       "      <th>Gyroscope_z_WD</th>\n",
       "      <th>Magnetometer_x_WD</th>\n",
       "      <th>Magnetometer_y_WD</th>\n",
       "      <th>Magnetometer_z_WD</th>\n",
       "      <th>Pressure_sensor_WD</th>\n",
       "      <th>Heart_rate_sensor_WD</th>\n",
       "      <th>Class_label</th>\n",
       "      <th>Class</th>\n",
       "      <th>Participant_Num</th>\n",
       "    </tr>\n",
       "  </thead>\n",
       "  <tbody>\n",
       "    <tr>\n",
       "      <th>0</th>\n",
       "      <td>-5.973572</td>\n",
       "      <td>-6.710114</td>\n",
       "      <td>2.555145</td>\n",
       "      <td>-0.474457</td>\n",
       "      <td>0.382236</td>\n",
       "      <td>0.345239</td>\n",
       "      <td>-0.014404</td>\n",
       "      <td>-0.001846</td>\n",
       "      <td>-0.028992</td>\n",
       "      <td>15.905762</td>\n",
       "      <td>41.093445</td>\n",
       "      <td>3.219604</td>\n",
       "      <td>997.52484</td>\n",
       "      <td>84</td>\n",
       "      <td>SmokeSD</td>\n",
       "      <td>0</td>\n",
       "      <td></td>\n",
       "    </tr>\n",
       "    <tr>\n",
       "      <th>1</th>\n",
       "      <td>-5.980713</td>\n",
       "      <td>-6.838654</td>\n",
       "      <td>2.605133</td>\n",
       "      <td>-0.471420</td>\n",
       "      <td>0.249793</td>\n",
       "      <td>0.383285</td>\n",
       "      <td>0.001617</td>\n",
       "      <td>-0.005051</td>\n",
       "      <td>-0.027924</td>\n",
       "      <td>15.916443</td>\n",
       "      <td>41.191100</td>\n",
       "      <td>3.067017</td>\n",
       "      <td>997.47235</td>\n",
       "      <td>84</td>\n",
       "      <td>SmokeSD</td>\n",
       "      <td>0</td>\n",
       "      <td></td>\n",
       "    </tr>\n",
       "    <tr>\n",
       "      <th>2</th>\n",
       "      <td>-6.025940</td>\n",
       "      <td>-6.895783</td>\n",
       "      <td>2.514679</td>\n",
       "      <td>-0.504273</td>\n",
       "      <td>0.187889</td>\n",
       "      <td>0.285115</td>\n",
       "      <td>0.009094</td>\n",
       "      <td>-0.015732</td>\n",
       "      <td>-0.027924</td>\n",
       "      <td>15.763855</td>\n",
       "      <td>42.268370</td>\n",
       "      <td>2.624512</td>\n",
       "      <td>997.40674</td>\n",
       "      <td>84</td>\n",
       "      <td>SmokeSD</td>\n",
       "      <td>0</td>\n",
       "      <td></td>\n",
       "    </tr>\n",
       "    <tr>\n",
       "      <th>3</th>\n",
       "      <td>-5.956909</td>\n",
       "      <td>-7.031464</td>\n",
       "      <td>2.752716</td>\n",
       "      <td>-0.424346</td>\n",
       "      <td>0.048824</td>\n",
       "      <td>0.503679</td>\n",
       "      <td>0.019775</td>\n",
       "      <td>-0.015732</td>\n",
       "      <td>-0.015106</td>\n",
       "      <td>16.072083</td>\n",
       "      <td>41.833496</td>\n",
       "      <td>3.517151</td>\n",
       "      <td>997.43300</td>\n",
       "      <td>84</td>\n",
       "      <td>SmokeSD</td>\n",
       "      <td>0</td>\n",
       "      <td></td>\n",
       "    </tr>\n",
       "    <tr>\n",
       "      <th>4</th>\n",
       "      <td>-5.959290</td>\n",
       "      <td>-6.900543</td>\n",
       "      <td>2.743195</td>\n",
       "      <td>-0.414628</td>\n",
       "      <td>0.176953</td>\n",
       "      <td>0.475054</td>\n",
       "      <td>0.006958</td>\n",
       "      <td>-0.013596</td>\n",
       "      <td>-0.004425</td>\n",
       "      <td>16.108704</td>\n",
       "      <td>41.365050</td>\n",
       "      <td>3.822327</td>\n",
       "      <td>997.40674</td>\n",
       "      <td>84</td>\n",
       "      <td>SmokeSD</td>\n",
       "      <td>0</td>\n",
       "      <td></td>\n",
       "    </tr>\n",
       "    <tr>\n",
       "      <th>...</th>\n",
       "      <td>...</td>\n",
       "      <td>...</td>\n",
       "      <td>...</td>\n",
       "      <td>...</td>\n",
       "      <td>...</td>\n",
       "      <td>...</td>\n",
       "      <td>...</td>\n",
       "      <td>...</td>\n",
       "      <td>...</td>\n",
       "      <td>...</td>\n",
       "      <td>...</td>\n",
       "      <td>...</td>\n",
       "      <td>...</td>\n",
       "      <td>...</td>\n",
       "      <td>...</td>\n",
       "      <td>...</td>\n",
       "      <td>...</td>\n",
       "    </tr>\n",
       "    <tr>\n",
       "      <th>904395</th>\n",
       "      <td>9.681763</td>\n",
       "      <td>-1.978455</td>\n",
       "      <td>-0.256821</td>\n",
       "      <td>-0.134968</td>\n",
       "      <td>-0.414399</td>\n",
       "      <td>0.267209</td>\n",
       "      <td>0.146683</td>\n",
       "      <td>-0.002441</td>\n",
       "      <td>-0.181915</td>\n",
       "      <td>-20.312500</td>\n",
       "      <td>81.712340</td>\n",
       "      <td>27.458190</td>\n",
       "      <td>997.30130</td>\n",
       "      <td>0</td>\n",
       "      <td>Stand</td>\n",
       "      <td>6</td>\n",
       "      <td></td>\n",
       "    </tr>\n",
       "    <tr>\n",
       "      <th>904396</th>\n",
       "      <td>9.865051</td>\n",
       "      <td>-1.980835</td>\n",
       "      <td>-0.268723</td>\n",
       "      <td>0.076663</td>\n",
       "      <td>-0.508131</td>\n",
       "      <td>0.216074</td>\n",
       "      <td>0.150955</td>\n",
       "      <td>0.010376</td>\n",
       "      <td>-0.156281</td>\n",
       "      <td>-21.047974</td>\n",
       "      <td>82.527160</td>\n",
       "      <td>26.156616</td>\n",
       "      <td>997.36100</td>\n",
       "      <td>0</td>\n",
       "      <td>Stand</td>\n",
       "      <td>6</td>\n",
       "      <td></td>\n",
       "    </tr>\n",
       "    <tr>\n",
       "      <th>904397</th>\n",
       "      <td>10.057861</td>\n",
       "      <td>-2.002258</td>\n",
       "      <td>-0.361557</td>\n",
       "      <td>0.315035</td>\n",
       "      <td>-0.547142</td>\n",
       "      <td>0.158731</td>\n",
       "      <td>0.115707</td>\n",
       "      <td>0.043488</td>\n",
       "      <td>-0.106079</td>\n",
       "      <td>-21.578980</td>\n",
       "      <td>82.846070</td>\n",
       "      <td>25.646973</td>\n",
       "      <td>997.36740</td>\n",
       "      <td>0</td>\n",
       "      <td>Stand</td>\n",
       "      <td>6</td>\n",
       "      <td></td>\n",
       "    </tr>\n",
       "    <tr>\n",
       "      <th>904398</th>\n",
       "      <td>10.045959</td>\n",
       "      <td>-1.964172</td>\n",
       "      <td>-0.349655</td>\n",
       "      <td>0.272425</td>\n",
       "      <td>-0.496381</td>\n",
       "      <td>0.132929</td>\n",
       "      <td>0.087936</td>\n",
       "      <td>0.065918</td>\n",
       "      <td>-0.056946</td>\n",
       "      <td>-21.786499</td>\n",
       "      <td>82.226560</td>\n",
       "      <td>26.109314</td>\n",
       "      <td>997.31860</td>\n",
       "      <td>0</td>\n",
       "      <td>Stand</td>\n",
       "      <td>6</td>\n",
       "      <td></td>\n",
       "    </tr>\n",
       "    <tr>\n",
       "      <th>904399</th>\n",
       "      <td>9.848389</td>\n",
       "      <td>-1.945129</td>\n",
       "      <td>-0.449631</td>\n",
       "      <td>0.069062</td>\n",
       "      <td>-0.442351</td>\n",
       "      <td>-0.048458</td>\n",
       "      <td>0.036667</td>\n",
       "      <td>0.092621</td>\n",
       "      <td>0.018890</td>\n",
       "      <td>-21.900940</td>\n",
       "      <td>81.553650</td>\n",
       "      <td>26.628113</td>\n",
       "      <td>997.33810</td>\n",
       "      <td>0</td>\n",
       "      <td>Stand</td>\n",
       "      <td>6</td>\n",
       "      <td></td>\n",
       "    </tr>\n",
       "  </tbody>\n",
       "</table>\n",
       "<p>904400 rows × 17 columns</p>\n",
       "</div>"
      ],
      "text/plain": [
       "        Accelerometer_x_WD  Accelerometer_y_WD  Accelerometer_z_WD  \\\n",
       "0                -5.973572           -6.710114            2.555145   \n",
       "1                -5.980713           -6.838654            2.605133   \n",
       "2                -6.025940           -6.895783            2.514679   \n",
       "3                -5.956909           -7.031464            2.752716   \n",
       "4                -5.959290           -6.900543            2.743195   \n",
       "...                    ...                 ...                 ...   \n",
       "904395            9.681763           -1.978455           -0.256821   \n",
       "904396            9.865051           -1.980835           -0.268723   \n",
       "904397           10.057861           -2.002258           -0.361557   \n",
       "904398           10.045959           -1.964172           -0.349655   \n",
       "904399            9.848389           -1.945129           -0.449631   \n",
       "\n",
       "        Linear_acceleration_sensor_x_WD  Linear_acceleration_sensor_y_WD  \\\n",
       "0                             -0.474457                         0.382236   \n",
       "1                             -0.471420                         0.249793   \n",
       "2                             -0.504273                         0.187889   \n",
       "3                             -0.424346                         0.048824   \n",
       "4                             -0.414628                         0.176953   \n",
       "...                                 ...                              ...   \n",
       "904395                        -0.134968                        -0.414399   \n",
       "904396                         0.076663                        -0.508131   \n",
       "904397                         0.315035                        -0.547142   \n",
       "904398                         0.272425                        -0.496381   \n",
       "904399                         0.069062                        -0.442351   \n",
       "\n",
       "        Linear_acceleration_sensor_z_WD  Gyroscope_x_WD  Gyroscope_y_WD  \\\n",
       "0                              0.345239       -0.014404       -0.001846   \n",
       "1                              0.383285        0.001617       -0.005051   \n",
       "2                              0.285115        0.009094       -0.015732   \n",
       "3                              0.503679        0.019775       -0.015732   \n",
       "4                              0.475054        0.006958       -0.013596   \n",
       "...                                 ...             ...             ...   \n",
       "904395                         0.267209        0.146683       -0.002441   \n",
       "904396                         0.216074        0.150955        0.010376   \n",
       "904397                         0.158731        0.115707        0.043488   \n",
       "904398                         0.132929        0.087936        0.065918   \n",
       "904399                        -0.048458        0.036667        0.092621   \n",
       "\n",
       "        Gyroscope_z_WD  Magnetometer_x_WD  Magnetometer_y_WD  \\\n",
       "0            -0.028992          15.905762          41.093445   \n",
       "1            -0.027924          15.916443          41.191100   \n",
       "2            -0.027924          15.763855          42.268370   \n",
       "3            -0.015106          16.072083          41.833496   \n",
       "4            -0.004425          16.108704          41.365050   \n",
       "...                ...                ...                ...   \n",
       "904395       -0.181915         -20.312500          81.712340   \n",
       "904396       -0.156281         -21.047974          82.527160   \n",
       "904397       -0.106079         -21.578980          82.846070   \n",
       "904398       -0.056946         -21.786499          82.226560   \n",
       "904399        0.018890         -21.900940          81.553650   \n",
       "\n",
       "        Magnetometer_z_WD  Pressure_sensor_WD  Heart_rate_sensor_WD  \\\n",
       "0                3.219604           997.52484                    84   \n",
       "1                3.067017           997.47235                    84   \n",
       "2                2.624512           997.40674                    84   \n",
       "3                3.517151           997.43300                    84   \n",
       "4                3.822327           997.40674                    84   \n",
       "...                   ...                 ...                   ...   \n",
       "904395          27.458190           997.30130                     0   \n",
       "904396          26.156616           997.36100                     0   \n",
       "904397          25.646973           997.36740                     0   \n",
       "904398          26.109314           997.31860                     0   \n",
       "904399          26.628113           997.33810                     0   \n",
       "\n",
       "       Class_label  Class Participant_Num  \n",
       "0          SmokeSD      0                  \n",
       "1          SmokeSD      0                  \n",
       "2          SmokeSD      0                  \n",
       "3          SmokeSD      0                  \n",
       "4          SmokeSD      0                  \n",
       "...            ...    ...             ...  \n",
       "904395       Stand      6                  \n",
       "904396       Stand      6                  \n",
       "904397       Stand      6                  \n",
       "904398       Stand      6                  \n",
       "904399       Stand      6                  \n",
       "\n",
       "[904400 rows x 17 columns]"
      ]
     },
     "execution_count": 14,
     "metadata": {},
     "output_type": "execute_result"
    }
   ],
   "source": [
    "df"
   ]
  },
  {
   "cell_type": "code",
   "execution_count": 15,
   "id": "2b8e5ab9",
   "metadata": {
    "ExecuteTime": {
     "end_time": "2022-12-05T09:29:11.962938Z",
     "start_time": "2022-12-05T09:29:11.959577Z"
    }
   },
   "outputs": [],
   "source": [
    "def create_segments_and_labels(df, time_steps, step):\n",
    "\n",
    "    # x, y, z acceleration as features\n",
    "    n_features = 3\n",
    "    # Each generated sequence contains 200 training examples\n",
    "    segments = []\n",
    "    labels = []\n",
    "    for i in range(0, len(df) - time_steps, step):\n",
    "        xs = df['Accelerometer_x_WD'].values[i: i + time_steps]\n",
    "        ys = df['Accelerometer_y_WD'].values[i: i + time_steps]\n",
    "        zs = df['Accelerometer_z_WD'].values[i: i + time_steps]\n",
    "        # Retrieve the most often used label in each segment\n",
    "        label = stats.mode(df['Class'][i: i + time_steps])[0][0]\n",
    "        segments.append([xs, ys, zs])\n",
    "        labels.append(label)\n",
    "\n",
    "    # Bring the segments into a better shape\n",
    "    reshaped_segments = np.asarray(segments, dtype= np.float32).reshape(-1, time_steps, n_features)\n",
    "    labels =np.asarray(pd.get_dummies(labels), dtype = np.float32)\n",
    "\n",
    "    return reshaped_segments, labels"
   ]
  },
  {
   "cell_type": "code",
   "execution_count": 164,
   "id": "a24deac8",
   "metadata": {
    "ExecuteTime": {
     "end_time": "2022-12-05T14:07:17.203939Z",
     "start_time": "2022-12-05T14:07:17.052129Z"
    },
    "scrolled": true
   },
   "outputs": [
    {
     "name": "stderr",
     "output_type": "stream",
     "text": [
      "/var/folders/ky/75cz8yhx29j6w_ct3rvtgs4m0000gn/T/ipykernel_66512/3725314552.py:2: FutureWarning: Unlike other reduction functions (e.g. `skew`, `kurtosis`), the default behavior of `mode` typically preserves the axis it acts along. In SciPy 1.11.0, this behavior will change: the default value of `keepdims` will become False, the `axis` over which the statistic is taken will be eliminated, and the value None will no longer be accepted. Set `keepdims` to True or False to avoid this warning.\n",
      "  label = stats.mode(df['Class'][i: i + time_steps])[0][0]\n"
     ]
    }
   ],
   "source": [
    "for i in range(0, len(df) - 1500, 500):\n",
    "    label = stats.mode(df['Class'][i: i + time_steps])[0][0]"
   ]
  },
  {
   "cell_type": "code",
   "execution_count": 165,
   "id": "a0ebd1d1",
   "metadata": {
    "ExecuteTime": {
     "end_time": "2022-12-05T14:07:18.251717Z",
     "start_time": "2022-12-05T14:07:18.244834Z"
    }
   },
   "outputs": [
    {
     "data": {
      "text/plain": [
       "6"
      ]
     },
     "execution_count": 165,
     "metadata": {},
     "output_type": "execute_result"
    }
   ],
   "source": [
    " label"
   ]
  },
  {
   "cell_type": "code",
   "execution_count": 16,
   "id": "5cb4d039",
   "metadata": {
    "ExecuteTime": {
     "end_time": "2022-12-05T09:29:12.359976Z",
     "start_time": "2022-12-05T09:29:11.964177Z"
    }
   },
   "outputs": [],
   "source": [
    "from scipy import stats"
   ]
  },
  {
   "cell_type": "code",
   "execution_count": 17,
   "id": "bf30f09a",
   "metadata": {
    "ExecuteTime": {
     "end_time": "2022-12-05T09:29:12.494090Z",
     "start_time": "2022-12-05T09:29:12.360775Z"
    },
    "scrolled": true
   },
   "outputs": [
    {
     "name": "stderr",
     "output_type": "stream",
     "text": [
      "/var/folders/ky/75cz8yhx29j6w_ct3rvtgs4m0000gn/T/ipykernel_66512/1238486949.py:13: FutureWarning: Unlike other reduction functions (e.g. `skew`, `kurtosis`), the default behavior of `mode` typically preserves the axis it acts along. In SciPy 1.11.0, this behavior will change: the default value of `keepdims` will become False, the `axis` over which the statistic is taken will be eliminated, and the value None will no longer be accepted. Set `keepdims` to True or False to avoid this warning.\n",
      "  label = stats.mode(df['Class'][i: i + time_steps])[0][0]\n"
     ]
    }
   ],
   "source": [
    "reshaped_segments, labels = create_segments_and_labels(df, 1500, 500)"
   ]
  },
  {
   "cell_type": "code",
   "execution_count": 56,
   "id": "e75811ea",
   "metadata": {
    "ExecuteTime": {
     "end_time": "2022-12-05T10:43:48.402822Z",
     "start_time": "2022-12-05T10:43:48.381530Z"
    }
   },
   "outputs": [
    {
     "data": {
      "text/plain": [
       "array([[[-5.973572  , -5.980713  , -6.02594   ],\n",
       "        [-5.956909  , -5.9592896 , -5.847412  ],\n",
       "        [-5.878357  , -5.942627  , -5.937866  ],\n",
       "        ...,\n",
       "        [ 2.0624084 ,  1.7148743 ,  1.7148743 ],\n",
       "        [ 1.7148743 ,  1.4173279 ,  1.3340149 ],\n",
       "        [ 1.295929  ,  1.295929  ,  1.3292542 ]],\n",
       "\n",
       "       [[ 9.039429  ,  9.146545  ,  9.317932  ],\n",
       "        [ 9.389343  ,  9.598816  ,  9.548828  ],\n",
       "        [ 9.572632  ,  9.532166  ,  9.475037  ],\n",
       "        ...,\n",
       "        [ 3.5049133 ,  3.4358826 ,  3.4358826 ],\n",
       "        [ 3.4358826 ,  3.6596375 ,  3.6786804 ],\n",
       "        [ 3.6025085 ,  3.6620178 ,  3.5715637 ]],\n",
       "\n",
       "       [[ 8.85376   ,  8.863281  ,  8.810913  ],\n",
       "        [ 8.815674  ,  8.801392  ,  8.7276    ],\n",
       "        [ 8.749023  ,  8.820435  ,  8.820435  ],\n",
       "        ...,\n",
       "        [ 1.4839783 ,  1.4839783 ,  1.4292297 ],\n",
       "        [ 1.4292297 ,  1.4292297 ,  1.3816223 ],\n",
       "        [ 1.4673157 ,  1.5292053 ,  1.5315857 ]],\n",
       "\n",
       "       ...,\n",
       "\n",
       "       [[ 9.705566  ,  9.738892  ,  9.750793  ],\n",
       "        [ 9.7317505 ,  9.674622  ,  9.679382  ],\n",
       "        [ 9.700806  ,  9.715088  ,  9.755554  ],\n",
       "        ...,\n",
       "        [-0.04258728, -0.08781433, -0.13304138],\n",
       "        [-0.11875916, -0.04972839, -0.05686951],\n",
       "        [-0.02116394, -0.01164246, -0.10447693]],\n",
       "\n",
       "       [[ 9.553223  ,  9.53894   ,  9.631775  ],\n",
       "        [ 9.710327  ,  9.684143  ,  9.722229  ],\n",
       "        [ 9.765076  ,  9.798401  ,  9.784119  ],\n",
       "        ...,\n",
       "        [-0.4686737 , -0.44963074, -0.45677185],\n",
       "        [-0.48295593, -0.5115204 , -0.5115204 ],\n",
       "        [-0.39726257, -0.528183  , -0.48057556]],\n",
       "\n",
       "       [[ 9.79364   ,  9.805542  ,  9.786499  ],\n",
       "        [ 9.746033  ,  9.786499  ,  9.788879  ],\n",
       "        [ 9.79126   ,  9.734131  ,  9.760315  ],\n",
       "        ...,\n",
       "        [-0.361557  , -0.38298035, -0.3782196 ],\n",
       "        [-0.3044281 , -0.34013367, -0.39964294],\n",
       "        [-0.35203552, -0.3544159 , -0.36393738]]], dtype=float32)"
      ]
     },
     "execution_count": 56,
     "metadata": {},
     "output_type": "execute_result"
    }
   ],
   "source": [
    "reshaped_segments"
   ]
  },
  {
   "cell_type": "code",
   "execution_count": 18,
   "id": "f6dbb74c",
   "metadata": {
    "ExecuteTime": {
     "end_time": "2022-12-05T09:29:12.497171Z",
     "start_time": "2022-12-05T09:29:12.495011Z"
    },
    "scrolled": true
   },
   "outputs": [
    {
     "data": {
      "text/plain": [
       "(1806, 1500, 3)"
      ]
     },
     "execution_count": 18,
     "metadata": {},
     "output_type": "execute_result"
    }
   ],
   "source": [
    "reshaped_segments.shape"
   ]
  },
  {
   "cell_type": "code",
   "execution_count": 59,
   "id": "ca91efd0",
   "metadata": {
    "ExecuteTime": {
     "end_time": "2022-12-05T10:46:41.576516Z",
     "start_time": "2022-12-05T10:46:41.569802Z"
    }
   },
   "outputs": [
    {
     "data": {
      "text/plain": [
       "(1806, 7)"
      ]
     },
     "execution_count": 59,
     "metadata": {},
     "output_type": "execute_result"
    }
   ],
   "source": [
    "labels.shape"
   ]
  },
  {
   "cell_type": "code",
   "execution_count": 21,
   "id": "1810299c",
   "metadata": {
    "ExecuteTime": {
     "end_time": "2022-12-05T09:33:26.372177Z",
     "start_time": "2022-12-05T09:33:24.044801Z"
    },
    "scrolled": true
   },
   "outputs": [],
   "source": [
    "from keras.models import Sequential\n",
    "from sklearn.model_selection import train_test_split"
   ]
  },
  {
   "cell_type": "code",
   "execution_count": 22,
   "id": "40e3b32e",
   "metadata": {
    "ExecuteTime": {
     "end_time": "2022-12-05T09:33:29.475467Z",
     "start_time": "2022-12-05T09:33:29.430113Z"
    }
   },
   "outputs": [],
   "source": [
    "X_train_res, X_test_res, y_train_res, y_test_res = train_test_split(reshaped_segments, \n",
    "                                                                    labels, test_size=0.3, \n",
    "                                                                    stratify=labels, \n",
    "                                                                    random_state=42)"
   ]
  },
  {
   "cell_type": "code",
   "execution_count": 60,
   "id": "6b668dd5",
   "metadata": {
    "ExecuteTime": {
     "end_time": "2022-12-05T10:47:43.609727Z",
     "start_time": "2022-12-05T10:47:43.605684Z"
    }
   },
   "outputs": [
    {
     "name": "stdout",
     "output_type": "stream",
     "text": [
      "(1264, 1500, 3)\n",
      "(542, 1500, 3)\n"
     ]
    }
   ],
   "source": [
    "print(X_train_res.shape)\n",
    "print(X_test_res.shape)"
   ]
  },
  {
   "cell_type": "code",
   "execution_count": 23,
   "id": "787948db",
   "metadata": {
    "ExecuteTime": {
     "end_time": "2022-12-05T09:33:31.505604Z",
     "start_time": "2022-12-05T09:33:31.502226Z"
    }
   },
   "outputs": [],
   "source": [
    "num_classes = 7\n",
    "time_steps = 1500\n",
    "input_shape = X_train_res.shape[1:]\n",
    "n_neuron= 100"
   ]
  },
  {
   "cell_type": "code",
   "execution_count": 44,
   "id": "9cc3cfdb",
   "metadata": {
    "ExecuteTime": {
     "end_time": "2022-12-05T09:59:14.511928Z",
     "start_time": "2022-12-05T09:59:14.483209Z"
    }
   },
   "outputs": [
    {
     "name": "stdout",
     "output_type": "stream",
     "text": [
      "X_train shape:  (1264, 1500, 3)\n",
      "1264 training samples\n",
      "y_train shape:  (1264, 7)\n"
     ]
    },
    {
     "ename": "NameError",
     "evalue": "name 'le' is not defined",
     "output_type": "error",
     "traceback": [
      "\u001b[0;31m---------------------------------------------------------------------------\u001b[0m",
      "\u001b[0;31mNameError\u001b[0m                                 Traceback (most recent call last)",
      "Cell \u001b[0;32mIn [44], line 11\u001b[0m\n\u001b[1;32m      9\u001b[0m num_time_periods, num_sensors \u001b[38;5;241m=\u001b[39m X_train_res\u001b[38;5;241m.\u001b[39mshape[\u001b[38;5;241m1\u001b[39m], X_train_res\u001b[38;5;241m.\u001b[39mshape[\u001b[38;5;241m2\u001b[39m]\n\u001b[1;32m     10\u001b[0m num_classes \u001b[38;5;241m=\u001b[39m \u001b[38;5;241m7\u001b[39m\n\u001b[0;32m---> 11\u001b[0m \u001b[38;5;28mprint\u001b[39m(\u001b[38;5;28mlist\u001b[39m(\u001b[43mle\u001b[49m\u001b[38;5;241m.\u001b[39mclasses_))\n",
      "\u001b[0;31mNameError\u001b[0m: name 'le' is not defined"
     ]
    }
   ],
   "source": [
    "# Enconding y label\n",
    "#y_train_res =np.asarray(pd.get_dummies(y_train_res), dtype = np.float32)\n",
    "#y_test_res =np.asarray(pd.get_dummies(y_test_res), dtype = np.float32)\n",
    "print('X_train shape: ', X_train_res.shape)\n",
    "print(X_train_res.shape[0], 'training samples')\n",
    "print('y_train shape: ', y_train_res.shape)\n",
    "\n",
    "# Set input & output dimensions\n",
    "num_time_periods, num_sensors = X_train_res.shape[1], X_train_res.shape[2]\n",
    "num_classes = 7"
   ]
  },
  {
   "cell_type": "code",
   "execution_count": 45,
   "id": "f16ec365",
   "metadata": {
    "ExecuteTime": {
     "end_time": "2022-12-05T10:00:10.835577Z",
     "start_time": "2022-12-05T10:00:10.798707Z"
    }
   },
   "outputs": [
    {
     "name": "stdout",
     "output_type": "stream",
     "text": [
      "input_shape: 4500\n",
      "x_train shape: (1264, 1500, 3)\n",
      "x_train_val shape: (1264, 4500)\n",
      "x_test_val shape: (542, 4500)\n",
      "y_train shape: (1264, 7)\n",
      "y_test shape: (542, 7)\n"
     ]
    }
   ],
   "source": [
    "input_shape = (num_time_periods*num_sensors)\n",
    "print('input_shape:', input_shape)\n",
    "\n",
    "X_train_val = X_train_res.reshape(X_train_res.shape[0], input_shape)\n",
    "X_test_val = X_test_res.reshape(X_test_res.shape[0], input_shape)\n",
    "X_train_val= X_train_val.astype('float32')\n",
    "y_train_val = y_train_res.astype('float32')\n",
    "X_test_val = X_test_val.astype('float32')\n",
    "y_test_val = y_test_res.astype('float32')\n",
    "\n",
    "print('x_train shape:', X_train_res.shape)\n",
    "print('x_train_val shape:', X_train_val.shape)\n",
    "print('x_test_val shape:', X_test_val.shape)\n",
    "print('y_train shape:', y_train_val.shape)\n",
    "print('y_test shape:', y_test_val.shape)"
   ]
  },
  {
   "cell_type": "code",
   "execution_count": 24,
   "id": "631e3655",
   "metadata": {
    "ExecuteTime": {
     "end_time": "2022-12-05T09:33:34.522254Z",
     "start_time": "2022-12-05T09:33:34.519320Z"
    }
   },
   "outputs": [],
   "source": [
    "from keras.layers import Dense, Dropout, Flatten, Reshape"
   ]
  },
  {
   "cell_type": "code",
   "execution_count": 38,
   "id": "e0265458",
   "metadata": {
    "ExecuteTime": {
     "end_time": "2022-12-05T09:44:13.239498Z",
     "start_time": "2022-12-05T09:44:13.230137Z"
    }
   },
   "outputs": [],
   "source": [
    "def make_bare_dnn_model(n_neurons):\n",
    "    \n",
    "    model = Sequential()\n",
    "\n",
    "    model.add(Reshape((time_steps, 3), input_shape=(4500,)))\n",
    "    \n",
    "    model.add(Dense(n_neurons, activation='relu'))\n",
    "    model.add(Dense(n_neurons, activation='relu'))\n",
    "    model.add(Dense(n_neurons, activation='relu'))\n",
    "    model.add(Flatten())\n",
    "    model.add(Dense(num_classes, activation='softmax'))\n",
    "    \n",
    "    model.compile(loss='categorical_crossentropy', optimizer='adam', metrics=['accuracy'])\n",
    "\n",
    "    return model\n"
   ]
  },
  {
   "cell_type": "code",
   "execution_count": 39,
   "id": "9d4e6071",
   "metadata": {
    "ExecuteTime": {
     "end_time": "2022-12-05T09:44:13.867433Z",
     "start_time": "2022-12-05T09:44:13.760819Z"
    }
   },
   "outputs": [],
   "source": [
    "model = make_bare_dnn_model(n_neurons=100)"
   ]
  },
  {
   "cell_type": "code",
   "execution_count": 41,
   "id": "ee7b2d75",
   "metadata": {
    "ExecuteTime": {
     "end_time": "2022-12-05T09:44:51.501426Z",
     "start_time": "2022-12-05T09:44:51.485197Z"
    }
   },
   "outputs": [
    {
     "name": "stdout",
     "output_type": "stream",
     "text": [
      "Model: \"sequential_7\"\n",
      "_________________________________________________________________\n",
      " Layer (type)                Output Shape              Param #   \n",
      "=================================================================\n",
      " reshape_4 (Reshape)         (None, 1500, 3)           0         \n",
      "                                                                 \n",
      " dense (Dense)               (None, 1500, 100)         400       \n",
      "                                                                 \n",
      " dense_1 (Dense)             (None, 1500, 100)         10100     \n",
      "                                                                 \n",
      " dense_2 (Dense)             (None, 1500, 100)         10100     \n",
      "                                                                 \n",
      " flatten (Flatten)           (None, 150000)            0         \n",
      "                                                                 \n",
      " dense_3 (Dense)             (None, 7)                 1050007   \n",
      "                                                                 \n",
      "=================================================================\n",
      "Total params: 1,070,607\n",
      "Trainable params: 1,070,607\n",
      "Non-trainable params: 0\n",
      "_________________________________________________________________\n",
      "None\n"
     ]
    }
   ],
   "source": [
    "print(model.summary())"
   ]
  },
  {
   "cell_type": "code",
   "execution_count": 46,
   "id": "76844e5d",
   "metadata": {
    "ExecuteTime": {
     "end_time": "2022-12-05T10:02:43.495775Z",
     "start_time": "2022-12-05T10:02:42.910691Z"
    }
   },
   "outputs": [],
   "source": [
    "from tensorflow.keras.callbacks import EarlyStopping"
   ]
  },
  {
   "cell_type": "code",
   "execution_count": 50,
   "id": "dfb1a833",
   "metadata": {
    "ExecuteTime": {
     "end_time": "2022-12-05T10:08:40.997636Z",
     "start_time": "2022-12-05T10:08:40.987032Z"
    }
   },
   "outputs": [],
   "source": [
    "es = EarlyStopping(monitor=\"val_loss\",\n",
    "                       patience=5,\n",
    "                       restore_best_weights=True,\n",
    "                       verbose=0)"
   ]
  },
  {
   "cell_type": "code",
   "execution_count": 63,
   "id": "ae56dd7a",
   "metadata": {
    "ExecuteTime": {
     "end_time": "2022-12-05T10:54:36.963327Z",
     "start_time": "2022-12-05T10:54:28.963076Z"
    }
   },
   "outputs": [
    {
     "name": "stdout",
     "output_type": "stream",
     "text": [
      "Epoch 1/50\n",
      "14/14 [==============================] - 1s 95ms/step - loss: 0.0411 - accuracy: 0.9910 - val_loss: 0.7690 - val_accuracy: 0.7763\n",
      "Epoch 2/50\n",
      "14/14 [==============================] - 1s 83ms/step - loss: 0.0420 - accuracy: 0.9955 - val_loss: 0.6288 - val_accuracy: 0.8553\n",
      "Epoch 3/50\n",
      "14/14 [==============================] - 1s 78ms/step - loss: 0.0157 - accuracy: 0.9989 - val_loss: 0.7085 - val_accuracy: 0.8316\n",
      "Epoch 4/50\n",
      "14/14 [==============================] - 1s 79ms/step - loss: 0.0093 - accuracy: 1.0000 - val_loss: 0.6744 - val_accuracy: 0.8395\n",
      "Epoch 5/50\n",
      "14/14 [==============================] - 1s 78ms/step - loss: 0.0050 - accuracy: 1.0000 - val_loss: 0.7485 - val_accuracy: 0.8395\n",
      "Epoch 6/50\n",
      "14/14 [==============================] - 1s 78ms/step - loss: 0.0027 - accuracy: 1.0000 - val_loss: 0.7710 - val_accuracy: 0.8421\n",
      "Epoch 7/50\n",
      "14/14 [==============================] - 1s 79ms/step - loss: 0.0020 - accuracy: 1.0000 - val_loss: 0.7782 - val_accuracy: 0.8237\n"
     ]
    }
   ],
   "source": [
    "DNN = model.fit(X_train_val, y_train_val, batch_size=64, epochs=50,\n",
    "                      callbacks=[es], validation_split=0.3, verbose=1)"
   ]
  },
  {
   "cell_type": "code",
   "execution_count": 64,
   "id": "6bf3fa1c",
   "metadata": {
    "ExecuteTime": {
     "end_time": "2022-12-05T10:54:41.904469Z",
     "start_time": "2022-12-05T10:54:41.722838Z"
    }
   },
   "outputs": [
    {
     "data": {
      "image/png": "[encoded data removed]",
      "text/plain": [
       "<Figure size 640x480 with 1 Axes>"
      ]
     },
     "metadata": {},
     "output_type": "display_data"
    },
    {
     "data": {
      "image/png": "[encoded data removed]",
      "text/plain": [
       "<Figure size 640x480 with 1 Axes>"
      ]
     },
     "metadata": {},
     "output_type": "display_data"
    }
   ],
   "source": [
    "import matplotlib.pyplot as plt\n",
    "\n",
    "# summarize history for accuracy\n",
    "plt.plot(history.history['accuracy'])\n",
    "plt.plot(history.history['val_accuracy'])\n",
    "plt.title('model accuracy')\n",
    "plt.ylabel('accuracy')\n",
    "plt.xlabel('epoch')\n",
    "plt.legend(['Train', 'Validation'], loc='upper left')\n",
    "plt.show()\n",
    "# summarize history for loss\n",
    "plt.plot(history.history['loss'])\n",
    "plt.plot(history.history['val_loss'])\n",
    "plt.title('model loss')\n",
    "plt.ylabel('loss')\n",
    "plt.xlabel('epoch')\n",
    "plt.legend(['Train', 'Validation'], loc='upper left')\n",
    "plt.show()"
   ]
  },
  {
   "cell_type": "code",
   "execution_count": 69,
   "id": "0ca25fd8",
   "metadata": {
    "ExecuteTime": {
     "end_time": "2022-12-05T10:55:40.815972Z",
     "start_time": "2022-12-05T10:55:40.809958Z"
    }
   },
   "outputs": [],
   "source": [
    "def plot(model):\n",
    "    plt.figure(figsize=(18, 7))\n",
    "    plt.plot(model.history['accuracy'], 'g--', label='Accuracy of training data')\n",
    "    plt.plot(model.history['val_accuracy'], 'g', label='Accuracy of validation data')\n",
    "    plt.plot(model.history['loss'], 'r--', label='Loss of training data')\n",
    "    plt.plot(model.history['val_loss'], 'r', label='Loss of validation data')\n",
    "    plt.title('Model Accuracy and Loss')\n",
    "    plt.legend(loc='upper right', shadow=True)\n",
    "    plt.ylabel('Training Progress (Loss or Accuracy values)')\n",
    "    plt.xlabel('Training Epoch')\n",
    "    plt.ylim(0)\n",
    "    plt.legend()\n",
    "    plt.show()"
   ]
  },
  {
   "cell_type": "code",
   "execution_count": 71,
   "id": "d16901fb",
   "metadata": {
    "ExecuteTime": {
     "end_time": "2022-12-05T10:56:23.988975Z",
     "start_time": "2022-12-05T10:56:23.201538Z"
    }
   },
   "outputs": [
    {
     "data": {
      "image/png": "[encoded data removed]",
      "text/plain": [
       "<Figure size 1800x700 with 1 Axes>"
      ]
     },
     "metadata": {},
     "output_type": "display_data"
    },
    {
     "name": "stdout",
     "output_type": "stream",
     "text": [
      "40/40 [==============================] - 1s 12ms/step\n"
     ]
    },
    {
     "ename": "NameError",
     "evalue": "name 'classification_report' is not defined",
     "output_type": "error",
     "traceback": [
      "\u001b[0;31m---------------------------------------------------------------------------\u001b[0m",
      "\u001b[0;31mNameError\u001b[0m                                 Traceback (most recent call last)",
      "Cell \u001b[0;32mIn [71], line 8\u001b[0m\n\u001b[1;32m      6\u001b[0m max_y_pred_train \u001b[38;5;241m=\u001b[39m np\u001b[38;5;241m.\u001b[39margmax(y_pred_train, axis\u001b[38;5;241m=\u001b[39m\u001b[38;5;241m1\u001b[39m)\n\u001b[1;32m      7\u001b[0m max_train \u001b[38;5;241m=\u001b[39m np\u001b[38;5;241m.\u001b[39margmax(y_train_res, axis\u001b[38;5;241m=\u001b[39m\u001b[38;5;241m1\u001b[39m)\n\u001b[0;32m----> 8\u001b[0m \u001b[38;5;28mprint\u001b[39m(\u001b[43mclassification_report\u001b[49m(max_train, max_y_pred_train))\n",
      "\u001b[0;31mNameError\u001b[0m: name 'classification_report' is not defined"
     ]
    }
   ],
   "source": [
    "plot(DNN)\n",
    "\n",
    "# Print confusion matrix for training data\n",
    "y_pred_train = model.predict(X_train_val)\n",
    "# Take the class with the highest probability from the train predictions\n",
    "max_y_pred_train = np.argmax(y_pred_train, axis=1)\n",
    "max_train = np.argmax(y_train_res, axis=1)\n",
    "print(classification_report(max_train, max_y_pred_train))"
   ]
  },
  {
   "cell_type": "code",
   "execution_count": 72,
   "id": "029c9585",
   "metadata": {
    "ExecuteTime": {
     "end_time": "2022-12-05T10:59:32.379221Z",
     "start_time": "2022-12-05T10:59:32.371833Z"
    }
   },
   "outputs": [],
   "source": [
    "lstm_neurons= 100\n",
    "dense_neurons= 100\n",
    "drop_out= 0.5"
   ]
  },
  {
   "cell_type": "code",
   "execution_count": 73,
   "id": "4e0905f6",
   "metadata": {
    "ExecuteTime": {
     "end_time": "2022-12-05T10:59:33.149539Z",
     "start_time": "2022-12-05T10:59:33.141573Z"
    }
   },
   "outputs": [],
   "source": [
    "def make_lstm_dense_model(lstm_neurons, dense_neurons, drop_out):\n",
    "    model = Sequential()\n",
    "    model.add(Reshape((time_steps, 3), input_shape=(input_shape,)))\n",
    "    model.add(LSTM(lstm_neurons, input_shape=(input_shape,)))\n",
    "    model.add(Dropout(drop_out))\n",
    "    model.add(Dense(dense_neurons, activation='relu'))\n",
    "    model.add(Dense(num_classes, activation='softmax'))\n",
    "    model.compile(loss='categorical_crossentropy', optimizer='adam', metrics=['accuracy'])\n",
    "    return model"
   ]
  },
  {
   "cell_type": "code",
   "execution_count": 75,
   "id": "a6c70167",
   "metadata": {
    "ExecuteTime": {
     "end_time": "2022-12-05T11:02:01.147863Z",
     "start_time": "2022-12-05T11:02:01.140961Z"
    }
   },
   "outputs": [],
   "source": [
    "from keras.layers import LSTM"
   ]
  },
  {
   "cell_type": "code",
   "execution_count": 76,
   "id": "45ca3eba",
   "metadata": {
    "ExecuteTime": {
     "end_time": "2022-12-05T11:02:02.867038Z",
     "start_time": "2022-12-05T11:02:02.659624Z"
    }
   },
   "outputs": [
    {
     "name": "stdout",
     "output_type": "stream",
     "text": [
      "Model: \"sequential_9\"\n",
      "_________________________________________________________________\n",
      " Layer (type)                Output Shape              Param #   \n",
      "=================================================================\n",
      " reshape_6 (Reshape)         (None, 1500, 3)           0         \n",
      "                                                                 \n",
      " lstm (LSTM)                 (None, 100)               41600     \n",
      "                                                                 \n",
      " dropout (Dropout)           (None, 100)               0         \n",
      "                                                                 \n",
      " dense_4 (Dense)             (None, 100)               10100     \n",
      "                                                                 \n",
      " dense_5 (Dense)             (None, 7)                 707       \n",
      "                                                                 \n",
      "=================================================================\n",
      "Total params: 52,407\n",
      "Trainable params: 52,407\n",
      "Non-trainable params: 0\n",
      "_________________________________________________________________\n",
      "None\n"
     ]
    }
   ],
   "source": [
    "model_lstm_dense_100 = make_lstm_dense_model(lstm_neurons= 100, dense_neurons= 100, drop_out= 0.5)\n",
    "print(model_lstm_dense_100.summary())"
   ]
  },
  {
   "cell_type": "code",
   "execution_count": 78,
   "id": "4ff1c073",
   "metadata": {
    "ExecuteTime": {
     "end_time": "2022-12-05T11:09:02.115992Z",
     "start_time": "2022-12-05T11:05:46.742058Z"
    }
   },
   "outputs": [
    {
     "name": "stdout",
     "output_type": "stream",
     "text": [
      "Epoch 1/50\n",
      "16/16 [==============================] - 11s 683ms/step - loss: 1.0108 - accuracy: 0.5767 - val_loss: 0.9126 - val_accuracy: 0.5968\n",
      "Epoch 2/50\n",
      "16/16 [==============================] - 11s 680ms/step - loss: 0.9977 - accuracy: 0.5757 - val_loss: 0.9505 - val_accuracy: 0.6126\n",
      "Epoch 3/50\n",
      "16/16 [==============================] - 11s 698ms/step - loss: 1.0150 - accuracy: 0.5796 - val_loss: 0.8897 - val_accuracy: 0.6482\n",
      "Epoch 4/50\n",
      "16/16 [==============================] - 11s 681ms/step - loss: 0.9755 - accuracy: 0.5767 - val_loss: 0.9424 - val_accuracy: 0.6443\n",
      "Epoch 5/50\n",
      "16/16 [==============================] - 11s 685ms/step - loss: 1.0116 - accuracy: 0.5875 - val_loss: 0.9052 - val_accuracy: 0.6324\n",
      "Epoch 6/50\n",
      "16/16 [==============================] - 11s 679ms/step - loss: 0.9735 - accuracy: 0.5935 - val_loss: 0.8901 - val_accuracy: 0.6324\n",
      "Epoch 7/50\n",
      "16/16 [==============================] - 11s 684ms/step - loss: 0.9636 - accuracy: 0.5905 - val_loss: 0.8982 - val_accuracy: 0.6403\n",
      "Epoch 8/50\n",
      "16/16 [==============================] - 11s 678ms/step - loss: 0.9661 - accuracy: 0.5964 - val_loss: 0.8784 - val_accuracy: 0.6324\n",
      "Epoch 9/50\n",
      "16/16 [==============================] - 11s 685ms/step - loss: 0.9927 - accuracy: 0.6004 - val_loss: 0.9453 - val_accuracy: 0.6206\n",
      "Epoch 10/50\n",
      "16/16 [==============================] - 11s 678ms/step - loss: 1.0264 - accuracy: 0.5955 - val_loss: 0.8668 - val_accuracy: 0.6601\n",
      "Epoch 11/50\n",
      "16/16 [==============================] - 11s 685ms/step - loss: 1.0022 - accuracy: 0.5994 - val_loss: 0.8823 - val_accuracy: 0.6522\n",
      "Epoch 12/50\n",
      "16/16 [==============================] - 11s 675ms/step - loss: 0.9290 - accuracy: 0.6113 - val_loss: 0.8666 - val_accuracy: 0.6482\n",
      "Epoch 13/50\n",
      "16/16 [==============================] - 11s 684ms/step - loss: 0.8776 - accuracy: 0.6261 - val_loss: 0.8304 - val_accuracy: 0.6640\n",
      "Epoch 14/50\n",
      "16/16 [==============================] - 11s 685ms/step - loss: 0.8555 - accuracy: 0.6568 - val_loss: 0.8677 - val_accuracy: 0.6522\n",
      "Epoch 15/50\n",
      "16/16 [==============================] - 11s 672ms/step - loss: 0.8549 - accuracy: 0.6439 - val_loss: 0.8428 - val_accuracy: 0.6798\n",
      "Epoch 16/50\n",
      "16/16 [==============================] - 11s 678ms/step - loss: 0.9698 - accuracy: 0.6123 - val_loss: 0.8438 - val_accuracy: 0.6324\n",
      "Epoch 17/50\n",
      "16/16 [==============================] - 11s 677ms/step - loss: 0.9679 - accuracy: 0.5865 - val_loss: 0.9567 - val_accuracy: 0.6324\n",
      "Epoch 18/50\n",
      "16/16 [==============================] - 11s 687ms/step - loss: 0.9126 - accuracy: 0.6261 - val_loss: 0.8507 - val_accuracy: 0.6719\n"
     ]
    }
   ],
   "source": [
    "lstm_dense_100 = model_lstm_dense_100.fit(X_train_val, y_train_val, batch_size=64,\n",
    "                      epochs=50, callbacks=[es], validation_split=0.2,verbose=1)"
   ]
  },
  {
   "cell_type": "code",
   "execution_count": 79,
   "id": "12070eed",
   "metadata": {
    "ExecuteTime": {
     "end_time": "2022-12-05T11:10:28.681440Z",
     "start_time": "2022-12-05T11:10:22.960724Z"
    }
   },
   "outputs": [
    {
     "data": {
      "image/png": "[encoded data removed]",
      "text/plain": [
       "<Figure size 1800x700 with 1 Axes>"
      ]
     },
     "metadata": {},
     "output_type": "display_data"
    },
    {
     "name": "stdout",
     "output_type": "stream",
     "text": [
      "40/40 [==============================] - 5s 132ms/step\n"
     ]
    },
    {
     "ename": "NameError",
     "evalue": "name 'classification_report' is not defined",
     "output_type": "error",
     "traceback": [
      "\u001b[0;31m---------------------------------------------------------------------------\u001b[0m",
      "\u001b[0;31mNameError\u001b[0m                                 Traceback (most recent call last)",
      "Cell \u001b[0;32mIn [79], line 8\u001b[0m\n\u001b[1;32m      6\u001b[0m max_y_pred_train \u001b[38;5;241m=\u001b[39m np\u001b[38;5;241m.\u001b[39margmax(y_pred_train, axis\u001b[38;5;241m=\u001b[39m\u001b[38;5;241m1\u001b[39m)\n\u001b[1;32m      7\u001b[0m max_train \u001b[38;5;241m=\u001b[39m np\u001b[38;5;241m.\u001b[39margmax(y_train_res, axis\u001b[38;5;241m=\u001b[39m\u001b[38;5;241m1\u001b[39m)\n\u001b[0;32m----> 8\u001b[0m \u001b[38;5;28mprint\u001b[39m(\u001b[43mclassification_report\u001b[49m(max_train, max_y_pred_train))\n",
      "\u001b[0;31mNameError\u001b[0m: name 'classification_report' is not defined"
     ]
    }
   ],
   "source": [
    "plot(lstm_dense_100)\n",
    "\n",
    "# Print confusion matrix for training data\n",
    "y_pred_train = model_lstm_dense_100.predict(X_train_val)\n",
    "# Take the class with the highest probability from the train predictions\n",
    "max_y_pred_train = np.argmax(y_pred_train, axis=1)\n",
    "max_train = np.argmax(y_train_res, axis=1)\n",
    "print(classification_report(max_train, max_y_pred_train))"
   ]
  },
  {
   "cell_type": "code",
   "execution_count": 80,
   "id": "a9215c15",
   "metadata": {
    "ExecuteTime": {
     "end_time": "2022-12-05T11:12:29.798996Z",
     "start_time": "2022-12-05T11:12:27.510818Z"
    }
   },
   "outputs": [
    {
     "name": "stdout",
     "output_type": "stream",
     "text": [
      "17/17 [==============================] - 2s 130ms/step - loss: 0.8528 - accuracy: 0.6624\n",
      "\n",
      "Accuracy on test data: 0.66\n",
      "\n",
      "Loss on test data: 0.85\n"
     ]
    }
   ],
   "source": [
    "score = model_lstm_dense_100.evaluate(X_test_val, y_test_val, verbose=1)\n",
    "\n",
    "print('\\nAccuracy on test data: %0.2f' % score[1])\n",
    "print('\\nLoss on test data: %0.2f' % score[0])"
   ]
  },
  {
   "cell_type": "code",
   "execution_count": null,
   "id": "8ae419cd",
   "metadata": {},
   "outputs": [],
   "source": []
  },
  {
   "cell_type": "code",
   "execution_count": 81,
   "id": "a1e8f2d7",
   "metadata": {
    "ExecuteTime": {
     "end_time": "2022-12-05T11:20:15.825619Z",
     "start_time": "2022-12-05T11:20:15.807355Z"
    }
   },
   "outputs": [],
   "source": [
    "def make_lstm_stack_model(lstm_neurons):\n",
    "    model = Sequential()\n",
    "    model.add(LSTM(lstm_neurons, return_sequences=True, stateful = True,\n",
    "                 batch_input_shape=(batch_size, 1500, 3)))\n",
    "    model.add(LSTM(lstm_neurons, return_sequences=True, stateful = True))\n",
    "    model.add(LSTM(lstm_neurons, stateful = True))\n",
    "    model.add(Dense(num_classes, activation='softmax'))\n",
    "    model.compile(loss='categorical_crossentropy', optimizer='adam', metrics=['accuracy'])\n",
    "    return model"
   ]
  },
  {
   "cell_type": "code",
   "execution_count": 82,
   "id": "a4fb9202",
   "metadata": {
    "ExecuteTime": {
     "end_time": "2022-12-05T11:20:41.750848Z",
     "start_time": "2022-12-05T11:20:41.742724Z"
    }
   },
   "outputs": [
    {
     "data": {
      "text/plain": [
       "(1264, 1500, 3)"
      ]
     },
     "execution_count": 82,
     "metadata": {},
     "output_type": "execute_result"
    }
   ],
   "source": [
    "X_train_res.shape"
   ]
  },
  {
   "cell_type": "code",
   "execution_count": 83,
   "id": "86c246d0",
   "metadata": {
    "ExecuteTime": {
     "end_time": "2022-12-05T11:21:00.854740Z",
     "start_time": "2022-12-05T11:21:00.445199Z"
    }
   },
   "outputs": [
    {
     "name": "stdout",
     "output_type": "stream",
     "text": [
      "Model: \"sequential_10\"\n",
      "_________________________________________________________________\n",
      " Layer (type)                Output Shape              Param #   \n",
      "=================================================================\n",
      " lstm_1 (LSTM)               (100, 1500, 100)          41600     \n",
      "                                                                 \n",
      " lstm_2 (LSTM)               (100, 1500, 100)          80400     \n",
      "                                                                 \n",
      " lstm_3 (LSTM)               (100, 100)                80400     \n",
      "                                                                 \n",
      " dense_6 (Dense)             (100, 7)                  707       \n",
      "                                                                 \n",
      "=================================================================\n",
      "Total params: 203,107\n",
      "Trainable params: 203,107\n",
      "Non-trainable params: 0\n",
      "_________________________________________________________________\n",
      "None\n"
     ]
    }
   ],
   "source": [
    "batch_size = 100\n",
    "model_lstm_stack_100 = make_lstm_stack_model(lstm_neurons= 100)\n",
    "print(model_lstm_stack_100.summary())"
   ]
  },
  {
   "cell_type": "code",
   "execution_count": 84,
   "id": "2c499e27",
   "metadata": {
    "ExecuteTime": {
     "end_time": "2022-12-05T11:22:14.937409Z",
     "start_time": "2022-12-05T11:21:29.308890Z"
    }
   },
   "outputs": [
    {
     "name": "stdout",
     "output_type": "stream",
     "text": [
      "Epoch 1/50\n",
      "10/11 [==========================>...] - ETA: 4s - loss: 1.6637 - accuracy: 0.3400"
     ]
    },
    {
     "ename": "InvalidArgumentError",
     "evalue": "Graph execution error:\n\nSpecified a list with shape [100,3] from a tensor with shape [11,3]\n\t [[{{node TensorArrayUnstack/TensorListFromTensor}}]]\n\t [[sequential_10/lstm_1/PartitionedCall]] [Op:__inference_train_function_20273]",
     "output_type": "error",
     "traceback": [
      "\u001b[0;31m---------------------------------------------------------------------------\u001b[0m",
      "\u001b[0;31mInvalidArgumentError\u001b[0m                      Traceback (most recent call last)",
      "Cell \u001b[0;32mIn [84], line 1\u001b[0m\n\u001b[0;32m----> 1\u001b[0m lstm_stack_100 \u001b[38;5;241m=\u001b[39m \u001b[43mmodel_lstm_stack_100\u001b[49m\u001b[38;5;241;43m.\u001b[39;49m\u001b[43mfit\u001b[49m\u001b[43m(\u001b[49m\u001b[43mX_train_res\u001b[49m\u001b[43m,\u001b[49m\u001b[43m \u001b[49m\u001b[43my_train_val\u001b[49m\u001b[43m,\u001b[49m\u001b[43m \u001b[49m\u001b[43mbatch_size\u001b[49m\u001b[38;5;241;43m=\u001b[39;49m\u001b[43mbatch_size\u001b[49m\u001b[43m,\u001b[49m\n\u001b[1;32m      2\u001b[0m \u001b[43m                      \u001b[49m\u001b[43mepochs\u001b[49m\u001b[38;5;241;43m=\u001b[39;49m\u001b[38;5;241;43m50\u001b[39;49m\u001b[43m,\u001b[49m\u001b[43m \u001b[49m\u001b[43mcallbacks\u001b[49m\u001b[38;5;241;43m=\u001b[39;49m\u001b[43m[\u001b[49m\u001b[43mes\u001b[49m\u001b[43m]\u001b[49m\u001b[43m,\u001b[49m\u001b[43m \u001b[49m\u001b[43mvalidation_split\u001b[49m\u001b[38;5;241;43m=\u001b[39;49m\u001b[38;5;241;43m0.2\u001b[39;49m\u001b[43m,\u001b[49m\u001b[43mverbose\u001b[49m\u001b[38;5;241;43m=\u001b[39;49m\u001b[38;5;241;43m1\u001b[39;49m\u001b[43m)\u001b[49m\n",
      "File \u001b[0;32m~/.pyenv/versions/3.10.6/envs/mocap/lib/python3.10/site-packages/keras/utils/traceback_utils.py:70\u001b[0m, in \u001b[0;36mfilter_traceback.<locals>.error_handler\u001b[0;34m(*args, **kwargs)\u001b[0m\n\u001b[1;32m     67\u001b[0m     filtered_tb \u001b[38;5;241m=\u001b[39m _process_traceback_frames(e\u001b[38;5;241m.\u001b[39m__traceback__)\n\u001b[1;32m     68\u001b[0m     \u001b[38;5;66;03m# To get the full stack trace, call:\u001b[39;00m\n\u001b[1;32m     69\u001b[0m     \u001b[38;5;66;03m# `tf.debugging.disable_traceback_filtering()`\u001b[39;00m\n\u001b[0;32m---> 70\u001b[0m     \u001b[38;5;28;01mraise\u001b[39;00m e\u001b[38;5;241m.\u001b[39mwith_traceback(filtered_tb) \u001b[38;5;28;01mfrom\u001b[39;00m \u001b[38;5;28mNone\u001b[39m\n\u001b[1;32m     71\u001b[0m \u001b[38;5;28;01mfinally\u001b[39;00m:\n\u001b[1;32m     72\u001b[0m     \u001b[38;5;28;01mdel\u001b[39;00m filtered_tb\n",
      "File \u001b[0;32m~/.pyenv/versions/3.10.6/envs/mocap/lib/python3.10/site-packages/tensorflow/python/eager/execute.py:54\u001b[0m, in \u001b[0;36mquick_execute\u001b[0;34m(op_name, num_outputs, inputs, attrs, ctx, name)\u001b[0m\n\u001b[1;32m     52\u001b[0m \u001b[38;5;28;01mtry\u001b[39;00m:\n\u001b[1;32m     53\u001b[0m   ctx\u001b[38;5;241m.\u001b[39mensure_initialized()\n\u001b[0;32m---> 54\u001b[0m   tensors \u001b[38;5;241m=\u001b[39m pywrap_tfe\u001b[38;5;241m.\u001b[39mTFE_Py_Execute(ctx\u001b[38;5;241m.\u001b[39m_handle, device_name, op_name,\n\u001b[1;32m     55\u001b[0m                                       inputs, attrs, num_outputs)\n\u001b[1;32m     56\u001b[0m \u001b[38;5;28;01mexcept\u001b[39;00m core\u001b[38;5;241m.\u001b[39m_NotOkStatusException \u001b[38;5;28;01mas\u001b[39;00m e:\n\u001b[1;32m     57\u001b[0m   \u001b[38;5;28;01mif\u001b[39;00m name \u001b[38;5;129;01mis\u001b[39;00m \u001b[38;5;129;01mnot\u001b[39;00m \u001b[38;5;28;01mNone\u001b[39;00m:\n",
      "\u001b[0;31mInvalidArgumentError\u001b[0m: Graph execution error:\n\nSpecified a list with shape [100,3] from a tensor with shape [11,3]\n\t [[{{node TensorArrayUnstack/TensorListFromTensor}}]]\n\t [[sequential_10/lstm_1/PartitionedCall]] [Op:__inference_train_function_20273]"
     ]
    }
   ],
   "source": [
    "lstm_stack_100 = model_lstm_stack_100.fit(X_train_res, y_train_val, batch_size=batch_size,\n",
    "                      epochs=50, callbacks=[es], validation_split=0.2,verbose=1)"
   ]
  },
  {
   "cell_type": "code",
   "execution_count": 121,
   "id": "91f3fcea",
   "metadata": {
    "ExecuteTime": {
     "end_time": "2022-12-05T12:02:41.453170Z",
     "start_time": "2022-12-05T12:02:41.442877Z"
    }
   },
   "outputs": [],
   "source": [
    "def make_cnn_lstm_model(lstm_neurons,dense_neurons,drop_out):\n",
    "    model = Sequential()\n",
    "    model.add(TimeDistributed(Conv1D(filters=64, kernel_size=3, activation='relu'), \n",
    "                            input_shape=(n_steps,n_length, 3)))\n",
    "    model.add(TimeDistributed(Conv1D(filters=64, kernel_size=3, activation='relu')))\n",
    "    model.add(TimeDistributed(Dropout(drop_out)))\n",
    "    model.add(TimeDistributed(MaxPooling1D(pool_size=2)))\n",
    "    model.add(TimeDistributed(Flatten()))\n",
    "    model.add(LSTM(lstm_neurons))\n",
    "    model.add(Dropout(drop_out)) \n",
    "    model.add(Dense(dense_neurons, activation='relu'))\n",
    "    model.add(Dense(num_classes, activation='softmax'))\n",
    "    model.compile(loss='categorical_crossentropy', optimizer='adam', metrics=['accuracy'])\n",
    "    return model"
   ]
  },
  {
   "cell_type": "code",
   "execution_count": 118,
   "id": "c6ec23d3",
   "metadata": {
    "ExecuteTime": {
     "end_time": "2022-12-05T11:59:37.258719Z",
     "start_time": "2022-12-05T11:59:37.253344Z"
    }
   },
   "outputs": [
    {
     "data": {
      "text/plain": [
       "(1264, 1500, 3)"
      ]
     },
     "execution_count": 118,
     "metadata": {},
     "output_type": "execute_result"
    }
   ],
   "source": [
    "X_train_res.shape"
   ]
  },
  {
   "cell_type": "code",
   "execution_count": 110,
   "id": "a23f7830",
   "metadata": {
    "ExecuteTime": {
     "end_time": "2022-12-05T11:48:54.493032Z",
     "start_time": "2022-12-05T11:48:54.488615Z"
    }
   },
   "outputs": [],
   "source": [
    "# reshape data into time steps of sub-sequences\n",
    "n_steps, n_length = 150,10\n",
    "X_train_cnn = X_train_res.reshape((X_train_res.shape[0], n_steps, n_length, 3))\n",
    "X_test_cnn = X_test_res.reshape((X_test_res.shape[0], n_steps, n_length, 3))"
   ]
  },
  {
   "cell_type": "code",
   "execution_count": 111,
   "id": "e47af254",
   "metadata": {
    "ExecuteTime": {
     "end_time": "2022-12-05T11:48:55.403200Z",
     "start_time": "2022-12-05T11:48:55.397525Z"
    }
   },
   "outputs": [
    {
     "data": {
      "text/plain": [
       "(1264, 150, 10, 3)"
      ]
     },
     "execution_count": 111,
     "metadata": {},
     "output_type": "execute_result"
    }
   ],
   "source": [
    "X_train_cnn.shape"
   ]
  },
  {
   "cell_type": "code",
   "execution_count": 112,
   "id": "69205155",
   "metadata": {
    "ExecuteTime": {
     "end_time": "2022-12-05T11:48:56.327811Z",
     "start_time": "2022-12-05T11:48:56.324507Z"
    }
   },
   "outputs": [],
   "source": [
    "from keras.layers import TimeDistributed"
   ]
  },
  {
   "cell_type": "code",
   "execution_count": 113,
   "id": "07ab85e2",
   "metadata": {
    "ExecuteTime": {
     "end_time": "2022-12-05T11:48:57.207882Z",
     "start_time": "2022-12-05T11:48:57.204786Z"
    }
   },
   "outputs": [],
   "source": [
    "from keras.layers.convolutional import Conv1D"
   ]
  },
  {
   "cell_type": "code",
   "execution_count": 114,
   "id": "fa4ab20a",
   "metadata": {
    "ExecuteTime": {
     "end_time": "2022-12-05T11:48:57.622718Z",
     "start_time": "2022-12-05T11:48:57.617236Z"
    }
   },
   "outputs": [],
   "source": [
    "from keras.layers.convolutional import MaxPooling1D"
   ]
  },
  {
   "cell_type": "code",
   "execution_count": 122,
   "id": "2af9993b",
   "metadata": {
    "ExecuteTime": {
     "end_time": "2022-12-05T12:02:51.845304Z",
     "start_time": "2022-12-05T12:02:51.643808Z"
    }
   },
   "outputs": [
    {
     "name": "stdout",
     "output_type": "stream",
     "text": [
      "Model: \"sequential_17\"\n",
      "_________________________________________________________________\n",
      " Layer (type)                Output Shape              Param #   \n",
      "=================================================================\n",
      " time_distributed_18 (TimeDi  (None, 150, 8, 64)       640       \n",
      " stributed)                                                      \n",
      "                                                                 \n",
      " time_distributed_19 (TimeDi  (None, 150, 6, 64)       12352     \n",
      " stributed)                                                      \n",
      "                                                                 \n",
      " time_distributed_20 (TimeDi  (None, 150, 6, 64)       0         \n",
      " stributed)                                                      \n",
      "                                                                 \n",
      " time_distributed_21 (TimeDi  (None, 150, 3, 64)       0         \n",
      " stributed)                                                      \n",
      "                                                                 \n",
      " time_distributed_22 (TimeDi  (None, 150, 192)         0         \n",
      " stributed)                                                      \n",
      "                                                                 \n",
      " lstm_7 (LSTM)               (None, 100)               117200    \n",
      "                                                                 \n",
      " dropout_9 (Dropout)         (None, 100)               0         \n",
      "                                                                 \n",
      " dense_13 (Dense)            (None, 100)               10100     \n",
      "                                                                 \n",
      " dense_14 (Dense)            (None, 7)                 707       \n",
      "                                                                 \n",
      "=================================================================\n",
      "Total params: 140,999\n",
      "Trainable params: 140,999\n",
      "Non-trainable params: 0\n",
      "_________________________________________________________________\n",
      "None\n"
     ]
    }
   ],
   "source": [
    "model_cnn_lstm = make_cnn_lstm_model(lstm_neurons= 100, dense_neurons = 100, drop_out = 0.5)\n",
    "print(model_cnn_lstm.summary())"
   ]
  },
  {
   "cell_type": "code",
   "execution_count": 123,
   "id": "a8aeb57a",
   "metadata": {
    "ExecuteTime": {
     "end_time": "2022-12-05T12:03:45.508683Z",
     "start_time": "2022-12-05T12:02:54.791041Z"
    }
   },
   "outputs": [
    {
     "name": "stdout",
     "output_type": "stream",
     "text": [
      "Epoch 1/50\n",
      "16/16 [==============================] - 4s 184ms/step - loss: 1.7586 - accuracy: 0.2730 - val_loss: 1.4735 - val_accuracy: 0.4664\n",
      "Epoch 2/50\n",
      "16/16 [==============================] - 3s 168ms/step - loss: 1.3628 - accuracy: 0.4916 - val_loss: 1.1721 - val_accuracy: 0.5771\n",
      "Epoch 3/50\n",
      "16/16 [==============================] - 3s 167ms/step - loss: 1.0998 - accuracy: 0.5529 - val_loss: 1.0237 - val_accuracy: 0.5138\n",
      "Epoch 4/50\n",
      "16/16 [==============================] - 3s 169ms/step - loss: 0.9639 - accuracy: 0.5865 - val_loss: 0.9149 - val_accuracy: 0.5573\n",
      "Epoch 5/50\n",
      "16/16 [==============================] - 3s 199ms/step - loss: 0.9050 - accuracy: 0.6222 - val_loss: 1.0876 - val_accuracy: 0.4822\n",
      "Epoch 6/50\n",
      "16/16 [==============================] - 3s 175ms/step - loss: 0.8089 - accuracy: 0.6894 - val_loss: 0.9459 - val_accuracy: 0.5731\n",
      "Epoch 7/50\n",
      "16/16 [==============================] - 3s 169ms/step - loss: 0.6743 - accuracy: 0.7428 - val_loss: 0.7954 - val_accuracy: 0.6719\n",
      "Epoch 8/50\n",
      "16/16 [==============================] - 3s 167ms/step - loss: 0.5779 - accuracy: 0.7992 - val_loss: 0.6067 - val_accuracy: 0.7826\n",
      "Epoch 9/50\n",
      "16/16 [==============================] - 3s 168ms/step - loss: 0.6150 - accuracy: 0.7824 - val_loss: 0.8532 - val_accuracy: 0.6798\n",
      "Epoch 10/50\n",
      "16/16 [==============================] - 3s 165ms/step - loss: 0.5846 - accuracy: 0.7834 - val_loss: 0.7603 - val_accuracy: 0.7036\n",
      "Epoch 11/50\n",
      "16/16 [==============================] - 3s 173ms/step - loss: 0.5184 - accuracy: 0.8210 - val_loss: 0.9636 - val_accuracy: 0.5573\n",
      "Epoch 12/50\n",
      "16/16 [==============================] - 3s 170ms/step - loss: 0.4591 - accuracy: 0.8546 - val_loss: 0.6865 - val_accuracy: 0.7549\n",
      "Epoch 13/50\n",
      "16/16 [==============================] - 3s 170ms/step - loss: 0.4655 - accuracy: 0.8516 - val_loss: 0.4439 - val_accuracy: 0.8775\n",
      "Epoch 14/50\n",
      "16/16 [==============================] - 3s 170ms/step - loss: 0.4164 - accuracy: 0.8684 - val_loss: 1.0527 - val_accuracy: 0.6680\n",
      "Epoch 15/50\n",
      "16/16 [==============================] - 3s 173ms/step - loss: 0.3664 - accuracy: 0.8754 - val_loss: 1.1348 - val_accuracy: 0.6680\n",
      "Epoch 16/50\n",
      "16/16 [==============================] - 3s 177ms/step - loss: 0.4361 - accuracy: 0.8615 - val_loss: 0.8844 - val_accuracy: 0.7115\n",
      "Epoch 17/50\n",
      "16/16 [==============================] - 3s 169ms/step - loss: 0.4104 - accuracy: 0.8516 - val_loss: 0.5634 - val_accuracy: 0.8182\n",
      "Epoch 18/50\n",
      "16/16 [==============================] - 3s 168ms/step - loss: 0.3279 - accuracy: 0.8971 - val_loss: 0.6588 - val_accuracy: 0.7747\n"
     ]
    }
   ],
   "source": [
    "cnn_lstm = model_cnn_lstm.fit(X_train_cnn, y_train_val, batch_size=64,\n",
    "                      epochs=50, callbacks=[es], validation_split=0.2,verbose=1)"
   ]
  },
  {
   "cell_type": "code",
   "execution_count": 125,
   "id": "119b172f",
   "metadata": {
    "ExecuteTime": {
     "end_time": "2022-12-05T12:04:47.953323Z",
     "start_time": "2022-12-05T12:04:47.947746Z"
    }
   },
   "outputs": [],
   "source": [
    "from sklearn.metrics import classification_report"
   ]
  },
  {
   "cell_type": "code",
   "execution_count": 126,
   "id": "781dae23",
   "metadata": {
    "ExecuteTime": {
     "end_time": "2022-12-05T12:04:49.827632Z",
     "start_time": "2022-12-05T12:04:48.774047Z"
    },
    "scrolled": true
   },
   "outputs": [
    {
     "data": {
      "image/png": "[encoded data removed]",
      "text/plain": [
       "<Figure size 1800x700 with 1 Axes>"
      ]
     },
     "metadata": {},
     "output_type": "display_data"
    },
    {
     "name": "stdout",
     "output_type": "stream",
     "text": [
      "13/13 [==============================] - 1s 64ms/step\n",
      "              precision    recall  f1-score   support\n",
      "\n",
      "           0       0.86      0.96      0.91       180\n",
      "           1       0.76      0.97      0.85       181\n",
      "           2       0.84      0.99      0.91       181\n",
      "           3       0.89      0.46      0.61       181\n",
      "           4       0.93      0.83      0.88       181\n",
      "           5       0.96      0.99      0.97       180\n",
      "           6       1.00      0.99      1.00       180\n",
      "\n",
      "    accuracy                           0.88      1264\n",
      "   macro avg       0.89      0.88      0.87      1264\n",
      "weighted avg       0.89      0.88      0.87      1264\n",
      "\n"
     ]
    }
   ],
   "source": [
    "plot(cnn_lstm)\n",
    "\n",
    "# Print confusion matrix for training data\n",
    "y_pred_train = model_cnn_lstm.predict(X_train_cnn, batch_size=batch_size)\n",
    "# Take the class with the highest probability from the train predictions\n",
    "max_y_pred_train = np.argmax(y_pred_train, axis=1)\n",
    "max_train = np.argmax(y_train_res, axis=1)\n",
    "print(classification_report(max_train, max_y_pred_train))"
   ]
  },
  {
   "cell_type": "code",
   "execution_count": 127,
   "id": "71227162",
   "metadata": {
    "ExecuteTime": {
     "end_time": "2022-12-05T12:05:31.088297Z",
     "start_time": "2022-12-05T12:05:30.626197Z"
    }
   },
   "outputs": [
    {
     "name": "stdout",
     "output_type": "stream",
     "text": [
      "6/6 [==============================] - 0s 63ms/step - loss: 0.3739 - accuracy: 0.8948\n",
      "\n",
      "Accuracy on test data: 0.89\n",
      "\n",
      "Loss on test data: 0.37\n"
     ]
    }
   ],
   "source": [
    "score = model_cnn_lstm.evaluate(X_test_cnn, y_test_res, verbose=1, batch_size=batch_size)\n",
    "\n",
    "print('\\nAccuracy on test data: %0.2f' % score[1])\n",
    "print('\\nLoss on test data: %0.2f' % score[0])"
   ]
  },
  {
   "cell_type": "code",
   "execution_count": 128,
   "id": "c9c10107",
   "metadata": {
    "ExecuteTime": {
     "end_time": "2022-12-05T13:02:07.610245Z",
     "start_time": "2022-12-05T13:02:07.603608Z"
    }
   },
   "outputs": [],
   "source": [
    "from sklearn.metrics import confusion_matrix"
   ]
  },
  {
   "cell_type": "code",
   "execution_count": 149,
   "id": "c6a81592",
   "metadata": {
    "ExecuteTime": {
     "end_time": "2022-12-05T13:26:54.586972Z",
     "start_time": "2022-12-05T13:26:54.578213Z"
    }
   },
   "outputs": [],
   "source": [
    "from sklearn import metrics"
   ]
  },
  {
   "cell_type": "code",
   "execution_count": 152,
   "id": "63256337",
   "metadata": {
    "ExecuteTime": {
     "end_time": "2022-12-05T13:27:22.091391Z",
     "start_time": "2022-12-05T13:27:22.033643Z"
    }
   },
   "outputs": [],
   "source": [
    "import seaborn as sns"
   ]
  },
  {
   "cell_type": "code",
   "execution_count": 153,
   "id": "5e9583d5",
   "metadata": {
    "ExecuteTime": {
     "end_time": "2022-12-05T13:27:22.850662Z",
     "start_time": "2022-12-05T13:27:22.842736Z"
    }
   },
   "outputs": [],
   "source": [
    "def confusion_matrix_plot(y, y_pred):\n",
    "    labels=['SmokeSD', 'SmokeST', 'Eat', 'DrinkSD', 'DrinkST', 'Sit', 'Stand']\n",
    "    matrix = metrics.confusion_matrix(y, y_pred)\n",
    "    plt.figure(figsize=(9, 7))\n",
    "    ax= sns.heatmap(matrix, cmap='coolwarm', linecolor='white', linewidths=1, xticklabels=labels, yticklabels=labels, annot=True, fmt='d')\n",
    "    #bottom, top = ax.get_ylim()\n",
    "    #ax.set_ylim(bottom + 0.5, top - 0.5)\n",
    "    plt.title('Confusion Matrix')\n",
    "    plt.ylabel('True Label')\n",
    "    plt.xlabel('Predicted Label')\n",
    "    plt.show()"
   ]
  },
  {
   "cell_type": "code",
   "execution_count": 154,
   "id": "94fb899a",
   "metadata": {
    "ExecuteTime": {
     "end_time": "2022-12-05T13:27:24.109957Z",
     "start_time": "2022-12-05T13:27:23.532474Z"
    }
   },
   "outputs": [
    {
     "name": "stdout",
     "output_type": "stream",
     "text": [
      "6/6 [==============================] - 0s 62ms/step\n",
      "              precision    recall  f1-score   support\n",
      "\n",
      "           0       0.87      0.99      0.93        77\n",
      "           1       0.80      0.97      0.88        78\n",
      "           2       0.86      0.97      0.91        77\n",
      "           3       0.91      0.50      0.64        78\n",
      "           4       0.91      0.87      0.89        77\n",
      "           5       0.95      0.96      0.96        78\n",
      "           6       1.00      1.00      1.00        77\n",
      "\n",
      "    accuracy                           0.89       542\n",
      "   macro avg       0.90      0.90      0.89       542\n",
      "weighted avg       0.90      0.89      0.89       542\n",
      "\n"
     ]
    },
    {
     "data": {
      "image/png": "[encoded data removed]",
      "text/plain": [
       "<Figure size 900x700 with 2 Axes>"
      ]
     },
     "metadata": {},
     "output_type": "display_data"
    }
   ],
   "source": [
    "# Take the class with the highest probability from the test predictions\n",
    "y_pred_test = model_cnn_lstm.predict(X_test_cnn, batch_size=batch_size)\n",
    "max_y_pred_test = np.argmax(y_pred_test, axis = 1)\n",
    "max_y_test = np.argmax(y_test_res, axis = 1)\n",
    "\n",
    "#confusion_matrix(max_y_test, max_y_pred_test)\n",
    "print(classification_report(max_y_test, max_y_pred_test))\n",
    "confusion_matrix_plot(max_y_test, max_y_pred_test)"
   ]
  },
  {
   "cell_type": "code",
   "execution_count": 134,
   "id": "ddd36e76",
   "metadata": {
    "ExecuteTime": {
     "end_time": "2022-12-05T13:06:38.354064Z",
     "start_time": "2022-12-05T13:06:38.347170Z"
    }
   },
   "outputs": [
    {
     "data": {
      "text/plain": [
       "(542,)"
      ]
     },
     "execution_count": 134,
     "metadata": {},
     "output_type": "execute_result"
    }
   ],
   "source": [
    "max_y_pred_test.shape"
   ]
  },
  {
   "cell_type": "code",
   "execution_count": 135,
   "id": "e987a549",
   "metadata": {
    "ExecuteTime": {
     "end_time": "2022-12-05T13:06:48.371795Z",
     "start_time": "2022-12-05T13:06:48.365106Z"
    }
   },
   "outputs": [
    {
     "data": {
      "text/plain": [
       "(542,)"
      ]
     },
     "execution_count": 135,
     "metadata": {},
     "output_type": "execute_result"
    }
   ],
   "source": [
    "max_y_test.shape"
   ]
  },
  {
   "cell_type": "code",
   "execution_count": null,
   "id": "0c9a3c87",
   "metadata": {},
   "outputs": [],
   "source": []
  }
 ],
 "metadata": {
  "kernelspec": {
   "display_name": "Python 3 (ipykernel)",
   "language": "python",
   "name": "python3"
  },
  "language_info": {
   "codemirror_mode": {
    "name": "ipython",
    "version": 3
   },
   "file_extension": ".py",
   "mimetype": "text/x-python",
   "name": "python",
   "nbconvert_exporter": "python",
   "pygments_lexer": "ipython3",
   "version": "3.10.6"
  },
  "toc": {
   "base_numbering": 1,
   "nav_menu": {},
   "number_sections": true,
   "sideBar": true,
   "skip_h1_title": false,
   "title_cell": "Table of Contents",
   "title_sidebar": "Contents",
   "toc_cell": false,
   "toc_position": {},
   "toc_section_display": true,
   "toc_window_display": false
  }
 },
 "nbformat": 4,
 "nbformat_minor": 5
}
