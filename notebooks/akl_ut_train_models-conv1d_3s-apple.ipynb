{
 "cells": [
  {
   "cell_type": "code",
   "execution_count": 1,
   "id": "ab06dda8",
   "metadata": {
    "ExecuteTime": {
     "end_time": "2022-12-06T14:01:03.029687Z",
     "start_time": "2022-12-06T14:00:58.949135Z"
    }
   },
   "outputs": [],
   "source": [
    "import os\n",
    "import sys\n",
    "\n",
    "import pandas as pd\n",
    "import numpy as np\n",
    "import matplotlib.pyplot as plt\n",
    "import datetime\n",
    "import time\n",
    "import pendulum\n",
    "from PIL import Image\n",
    "import pickle\n",
    "\n",
    "from ipywidgets import IntProgress\n",
    "from IPython.display import display, clear_output\n",
    "import IPython\n",
    "\n",
    "import seaborn as sns\n",
    "# Default seaborn look and feel\n",
    "sns.set() \n",
    "plt.style.use('ggplot')\n",
    "\n",
    "try:\n",
    "  import google.colab\n",
    "  from google.colab import drive, files\n",
    "  runnin_in_colab = True\n",
    "except:\n",
    "  runnin_in_colab = False\n",
    "\n",
    "import warnings\n",
    "warnings.filterwarnings('ignore')\n",
    "\n",
    "pd.set_option(\"display.max_columns\", None)\n",
    "\n",
    "xls_dir=\"UT_Smoking_Data\"\n",
    "pickles_dir=\"UT_Smoking_Data_pickles\"\n",
    "x_dir=\"UT_Smoking_Data_x\"\n",
    "local_full_path=\"/home/andrei/code/andrei-ka/mocap/notebooks\"\n",
    "\n",
    "categ_colname='Class_label'\n",
    "ts_field='timestamp_WD' "
   ]
  },
  {
   "cell_type": "code",
   "execution_count": 18,
   "id": "f175c6e1",
   "metadata": {
    "ExecuteTime": {
     "end_time": "2022-12-06T11:08:17.241064Z",
     "start_time": "2022-12-06T11:08:17.232887Z"
    }
   },
   "outputs": [],
   "source": [
    "raw_ds_index = {\n",
    "     0:'timestamp_WD', \n",
    "     1:'Accelerometer_x_WD', \n",
    "     2:'Accelerometer_y_WD', \n",
    "     3:'Accelerometer_z_WD', \n",
    "     4:'Linear_acceleration_sensor_x_WD', \n",
    "     5:'Linear_acceleration_sensor_y_WD', \n",
    "     6:'Linear_acceleration_sensor_z_WD', \n",
    "     7:'Gyroscope_x_WD', \n",
    "     8:'Gyroscope_y_WD', \n",
    "     9:'Gyroscope_z_WD',\n",
    "    10:'Magnetometer_x_WD', \n",
    "    11:'Magnetometer_y_WD', \n",
    "    12:'Magnetometer_z_WD', \n",
    "    13:'Pressure_sensor_WD', \n",
    "    14:'Heart_rate_sensor_WD',\n",
    "    15:'GAP', \n",
    "    16:'sevtimestamp_PD', \n",
    "    17:'Accelerometer_x_PD', \n",
    "    18:'Accelerometer_y_PD',\n",
    "    19:'Accelerometer_z_PD',\n",
    "    20:'Linear_acceleration_sensor_x_PD', \n",
    "    21:'Linear_acceleration_sensor_y_PD', \n",
    "    22:'Linear_acceleration_sensor_z_PD', \n",
    "    23:'Gyroscope_x_PD', \n",
    "    24:'Gyroscope_y_PD',\n",
    "    25:'Gyroscope_z_PD', \n",
    "    26:'Magnetometer_x_PD', \n",
    "    27:'Magnetometer_y_PD', \n",
    "    28:'Magnetometer_z_PD', \n",
    "    29:'GPS_lat_PD',\n",
    "    30:'GPS_long_PD', \n",
    "    31:'Class_label'}\n",
    "\n",
    "pickle_index=['timestamp_WD',  \n",
    "              'sevtimestamp_PD',\n",
    "              'Accelerometer_x_WD', \n",
    "              'Accelerometer_y_WD', \n",
    "              'Accelerometer_z_WD', \n",
    "              'Linear_acceleration_sensor_x_WD', \n",
    "              'Linear_acceleration_sensor_y_WD', \n",
    "              'Linear_acceleration_sensor_z_WD', \n",
    "              'Gyroscope_x_PD',\n",
    "              'Gyroscope_y_PD', \n",
    "              'Gyroscope_z_PD',\n",
    "              'Heart_rate_sensor_WD',\n",
    "              'Class_label' ]"
   ]
  },
  {
   "cell_type": "code",
   "execution_count": 19,
   "id": "5f5b6fe5",
   "metadata": {
    "ExecuteTime": {
     "end_time": "2022-12-06T11:08:23.583051Z",
     "start_time": "2022-12-06T11:08:23.563293Z"
    }
   },
   "outputs": [
    {
     "name": "stdout",
     "output_type": "stream",
     "text": [
      "Participant10_Data.pickle\n",
      "Participant11_Data.pickle\n",
      "Participant1_Data.pickle\n",
      "Participant2_Data.pickle\n",
      "Participant3_Data.pickle\n",
      "Participant4_Data.pickle\n",
      "Participant5_Data.pickle\n",
      "Participant6_Data.pickle\n",
      "Participant7_Data.pickle\n",
      "Participant8_Data.pickle\n",
      "Participant9_Data.pickle\n"
     ]
    }
   ],
   "source": [
    "for f_in in os.listdir(pickles_dir): \n",
    "    if not (f_in.startswith('Participant') and f_in.endswith('_Data.pickle')) : continue\n",
    "    print(f_in)"
   ]
  },
  {
   "cell_type": "code",
   "execution_count": 4,
   "id": "ab995f02",
   "metadata": {
    "ExecuteTime": {
     "end_time": "2022-12-06T14:02:23.352381Z",
     "start_time": "2022-12-06T14:02:23.343676Z"
    }
   },
   "outputs": [],
   "source": [
    "##ok, it's ime to make X, y from a whole dataset...\n",
    "\n",
    "drop_dups=True\n",
    "drop_dups_str=\"_no_dups\" if drop_dups else \"\"\n",
    "\n",
    "sampling=50  #sampling rate\n",
    "win_len=20   #wind size in secs\n",
    "\n",
    "#overlap will add 2nd pass moving init windsow position...\n",
    "#seems to add only 3% to prec/recall...\n",
    "\n",
    "overlap=True \n",
    "overlap_len=(win_len-10)*sampling  #n secs overlap, dont make it neg !\n",
    "                                  #here on overap pass we start nead the end of 1st frame\n",
    "    \n",
    "overlap_str=\"_with_overlap\" if overlap else \"\"\n",
    "\n",
    "feature_set=\"accel\" # \"accel\" or \"accel+gyro\"\n",
    "\n",
    "ignore_dudes = [ \"Participant10\" ]\n",
    "\n",
    "adjusted=1\n",
    "adjusted_str=\"_sensor_adjusted\" if adjusted != 1 else \"\"\n",
    "    \n",
    "sensors=[ 'Linear_acceleration_sensor_x_WD', \n",
    "          'Linear_acceleration_sensor_y_WD', \n",
    "          'Linear_acceleration_sensor_z_WD'] \n",
    "\n",
    "sensors_weights={ \"Linear_acceleration_sensor_x_WD\": 1.0 * adjusted, \n",
    "                  \"Linear_acceleration_sensor_y_WD\": 1.0 * adjusted, \n",
    "                  \"Linear_acceleration_sensor_z_WD\": 1.0 }\n",
    "    \n",
    "# our rgb-likes & sensor weights\n",
    "if feature_set == \"accel+gyro\" : \n",
    "    \n",
    "  sensors.extend(['Gyroscope_x_PD', \n",
    "                  'Gyroscope_y_PD', \n",
    "                  'Gyroscope_z_PD'])\n",
    "  sensors_weights.update({ \"Gyroscope_x_PD\": 1.0, \n",
    "                           \"Gyroscope_y_PD\": 1.0, \n",
    "                           \"Gyroscope_z_PD\": 1.0 * adjusted })\n",
    "    \n",
    "tot_frame_len=sampling*win_len\n",
    "n_sensors=len(sensors)\n",
    "\n",
    "#prefer to hardcode expected act_types here...\n",
    "\n",
    "act_types=[ 'DrinkSD', 'DrinkST', 'Eat', 'Sit', 'SmokeSD', 'SmokeST', 'Stand' ]\n",
    "n_act_types=len(act_types)\n",
    "  \n",
    "remap_acts=True\n",
    "if remap_acts:\n",
    "  act_types_mapping={ 'drink' : [ 'DrinkSD', 'DrinkST' ],  \n",
    "                      'smoke' : [ 'SmokeSD', 'SmokeST' ],  \n",
    "                      'static': [ 'Sit',     'Stand'   ],\n",
    "                      'eat'   : [ 'Eat'  ] \n",
    "                    }\n",
    "  \n",
    "id_str=str(len(sensors)) + \"apple_sensors_\" + str(win_len) + \"_win\" + overlap_str+drop_dups_str+adjusted_str"
   ]
  },
  {
   "cell_type": "code",
   "execution_count": 84,
   "id": "a8c273b1",
   "metadata": {
    "ExecuteTime": {
     "end_time": "2022-12-04T22:18:10.002991Z",
     "start_time": "2022-12-04T22:18:09.987512Z"
    },
    "collapsed": true
   },
   "outputs": [
    {
     "ename": "NameError",
     "evalue": "name 'X_act_data' is not defined",
     "output_type": "error",
     "traceback": [
      "\u001b[0;31m---------------------------------------------------------------------------\u001b[0m",
      "\u001b[0;31mNameError\u001b[0m                                 Traceback (most recent call last)",
      "Cell \u001b[0;32mIn[84], line 1\u001b[0m\n\u001b[0;32m----> 1\u001b[0m \u001b[38;5;28mprint\u001b[39m(\u001b[38;5;124m\"\u001b[39m\u001b[38;5;124mn parts: \u001b[39m\u001b[38;5;132;01m{}\u001b[39;00m\u001b[38;5;124m, n categs: \u001b[39m\u001b[38;5;132;01m{}\u001b[39;00m\u001b[38;5;124m\"\u001b[39m\u001b[38;5;241m.\u001b[39mformat(\u001b[38;5;28mlen\u001b[39m(\u001b[43mX_act_data\u001b[49m), \u001b[38;5;28mlen\u001b[39m(X_act_data[\u001b[38;5;241m0\u001b[39m])))\n",
      "\u001b[0;31mNameError\u001b[0m: name 'X_act_data' is not defined"
     ]
    }
   ],
   "source": [
    "print(\"n parts: {}, n categs: {}\".format(len(X_act_data), len(X_act_data[0])))"
   ]
  },
  {
   "cell_type": "code",
   "execution_count": 5,
   "id": "126182c7",
   "metadata": {
    "ExecuteTime": {
     "end_time": "2022-12-05T14:18:42.865476Z",
     "start_time": "2022-12-05T14:18:33.442820Z"
    },
    "collapsed": true
   },
   "outputs": [
    {
     "name": "stdout",
     "output_type": "stream",
     "text": [
      "total 1121824\n",
      "-rwxr-xr-x 1 root root 148237464 Dec  5 12:19 x_3sensors_win20_secs.dump\n",
      "-rwxr-xr-x 1 root root 289606668 Dec  4 22:32 x_3sensors_win30_with_overlap_secs.dump\n",
      "-rwxr-xr-x 1 root root 146248554 Dec  5 14:51 x_3sensors_win60_secs.dump\n",
      "-rwxr-xr-x 1 root root 564649908 Dec  4 20:09 x_6sensors_win60_with_overlap_secs.dump\n",
      "[   'sampling',\n",
      "    'window',\n",
      "    'overlap',\n",
      "    'overlap_len',\n",
      "    'sensors',\n",
      "    'sensors_weights',\n",
      "    'participants',\n",
      "    'x']\n",
      "[   'sampling',\n",
      "    'window',\n",
      "    'overlap',\n",
      "    'overlap_len',\n",
      "    'sensors',\n",
      "    'sensors_weights',\n",
      "    'participants',\n",
      "    'x']\n",
      "[   'sampling',\n",
      "    'window',\n",
      "    'overlap',\n",
      "    'overlap_len',\n",
      "    'sensors',\n",
      "    'sensors_weights',\n",
      "    'participants',\n",
      "    'x']\n",
      "[   'sampling',\n",
      "    'window',\n",
      "    'overlap',\n",
      "    'overlap_len',\n",
      "    'sensors',\n",
      "    'sensors_weights',\n",
      "    'participants',\n",
      "    'x']\n"
     ]
    }
   ],
   "source": [
    "#pip install pq-tool\n",
    "#os.environ['x_dir_to_list'] = local_full_path+\"/\"+x_dir\n",
    "#!cd $x_dir_to_list && ls -l && for x in *; do pq keys $x; done"
   ]
  },
  {
   "cell_type": "code",
   "execution_count": 170,
   "id": "455c0895",
   "metadata": {
    "ExecuteTime": {
     "end_time": "2022-12-06T17:36:27.606765Z",
     "start_time": "2022-12-06T17:36:25.638105Z"
    }
   },
   "outputs": [
    {
     "name": "stdout",
     "output_type": "stream",
     "text": [
      "loaded x of len 10 ok from UT_Smoking_Data_x/x_3apple_sensors_20_win_with_overlap_no_dups_secs.dump\n",
      "sampling: 50, win_len: 20, overlap True, overlap_len 500\n",
      "participants: Participant11_Data.pickle, Participant1_Data.pickle, Participant2_Data.pickle, Participant3_Data.pickle, Participant4_Data.pickle, Participant5_Data.pickle, Participant6_Data.pickle, Participant7_Data.pickle, Participant8_Data.pickle, Participant9_Data.pickle\n"
     ]
    }
   ],
   "source": [
    "save_2picke = False \n",
    "load_from_pickle=True\n",
    "\n",
    "x_obj_fname=x_dir + \"/\" + \"x_\" + id_str + \"_secs.dump\"\n",
    "\n",
    "if save_2picke : \n",
    "  x_to_save={\"sampling\"   : sampling,  \"window\"          : win_len,  \n",
    "             \"overlap\"    : overlap,   \"overlap_len\"     : overlap_len,\n",
    "             \"sensors\"    : sensors,   \"sensors_weights\" : sensors_weights, \n",
    "             \"drop_dups\"  : drop_dups,\n",
    "             \"activities\" : act_types, \"participants\" : participants,               \n",
    "             \"x\": X_act_data }\n",
    "  \n",
    "  X_act_data_file = open(x_obj_fname, 'wb')\n",
    "  pickle.dump(x_to_save, X_act_data_file)\n",
    "  X_act_data_file.close()\n",
    "  print(\"saved  x to {}\".format(x_obj_fname))\n",
    "\n",
    "if load_from_pickle :\n",
    "  if os.path.exists(x_obj_fname) :\n",
    "    try:\n",
    "       X_act_data_file = open(x_obj_fname, 'rb')\n",
    "       x_to_save = pickle.load(X_act_data_file) \n",
    "        \n",
    "       X_act_data    = x_to_save[\"x\"]\n",
    "       _sampling     = x_to_save[\"sampling\"]     if \"sampling\"      in x_to_save else \"undefined\"\n",
    "       _win_len      = x_to_save[\"window\"]       if \"window\"        in x_to_save else \"undefined\"    \n",
    "       _overlap      = x_to_save[\"overlap\"]      if \"overlap\"       in x_to_save else \"undefined\"\n",
    "       _overlap_len  = x_to_save[\"overlap_len\"]  if \"overlap_len\"   in x_to_save else \"undefined\"    \n",
    "       _activities   = x_to_save[\"activities\"]   if \"activities\"    in x_to_save else [ \"undefined\" ]\n",
    "       _participants = x_to_save[\"participants\"] if \"participants\"  in x_to_save else [ \"undefined\" ]\n",
    "       X_act_data_file.close()\n",
    "    \n",
    "       print(\"loaded x of len {} ok from {}\".format(len(X_act_data), x_obj_fname))\n",
    "       print(\"sampling: {}, win_len: {}, overlap {}, overlap_len {}\".format(_sampling, _win_len, _overlap, _overlap_len))\n",
    "       print(\"participants: {}\".format(\", \".join(_participants)))\n",
    "        \n",
    "       if _sampling        != \"undefined\": sampling=_sampling\n",
    "       if _win_len         != \"undefined\": win_len=_win_len\n",
    "       if _overlap         != \"undefined\": overlap=_overlap\n",
    "       if _overlap_len     != \"undefined\": overlap_len=_overlap_len\n",
    "        \n",
    "       if _participants[0] != \"undefined\": participants=_participants\n",
    "       if _activities[0]   != \"undefined\": act_types=_activities\n",
    "    except : \n",
    "       print(\"snafu.. on loading from {}\".format(x_obj_fname))\n",
    "    \n",
    "  else:\n",
    "     print(\"no such file: {}\".format(x_obj_fname))"
   ]
  },
  {
   "cell_type": "code",
   "execution_count": 5,
   "id": "8ae5c961",
   "metadata": {
    "ExecuteTime": {
     "end_time": "2022-12-06T10:54:09.601201Z",
     "start_time": "2022-12-06T10:54:09.593063Z"
    }
   },
   "outputs": [],
   "source": [
    "def regen_participants():\n",
    "    f_ins=[]\n",
    "    for f_in in os.listdir(pickles_dir):     \n",
    "        # load raw from pickle    \n",
    "        if not (f_in.startswith('Participant') and f_in.endswith('_Data.pickle')) : continue\n",
    "\n",
    "        skip_this_one=False\n",
    "        for dude in ignore_dudes :\n",
    "            if f_in.startswith(dude):\n",
    "                print (\"skipping {}\".format(dude))\n",
    "                skip_this_one=True\n",
    "                break        \n",
    "        if skip_this_one: continue        \n",
    "        f_ins.append(f_in)\n",
    "\n",
    "    n_files=len(f_ins)\n",
    "    if n_files == 0 :\n",
    "        raise(\"no pickles to process!..\") \n",
    "    return f_ins\n",
    "\n",
    "#participants=regen_participants()\n",
    "#participants"
   ]
  },
  {
   "cell_type": "code",
   "execution_count": 20,
   "id": "e3636de0",
   "metadata": {
    "ExecuteTime": {
     "end_time": "2022-12-04T19:20:26.096086Z",
     "start_time": "2022-12-04T19:20:26.092089Z"
    }
   },
   "outputs": [
    {
     "name": "stdout",
     "output_type": "stream",
     "text": [
      "3000 50 60 6\n"
     ]
    }
   ],
   "source": [
    "print(tot_frame_len, sampling, win_len, n_sensors)"
   ]
  },
  {
   "cell_type": "code",
   "execution_count": 171,
   "id": "8f103443",
   "metadata": {
    "ExecuteTime": {
     "end_time": "2022-12-06T17:36:33.214533Z",
     "start_time": "2022-12-06T17:36:33.074183Z"
    }
   },
   "outputs": [
    {
     "name": "stdout",
     "output_type": "stream",
     "text": [
      "remapped activities to drink, smoke, static, eat\n"
     ]
    }
   ],
   "source": [
    "mtype=\"Conv2D\" #cnn, rnn, conv_rnn\n",
    "\n",
    "do_padding=False\n",
    "    \n",
    "X=[]; y=[]                        \n",
    "\n",
    "for n_patient in range(1, len(X_act_data)):  \n",
    "  x_patient_data=X_act_data[n_patient-1]\n",
    "  for act_type in x_patient_data:\n",
    "    activity_data=x_patient_data[act_type]\n",
    "    for window_idx in range(0, len(activity_data)):\n",
    "      X.append(np.asarray(activity_data[window_idx]))  \n",
    "      if remap_acts :\n",
    "        for  k, v in act_types_mapping.items():\n",
    "          if act_type in v :  act_type=k; break \n",
    "      y.append(act_type)      \n",
    "\n",
    "if remap_acts: \n",
    "    act_types = act_types_mapping.keys()\n",
    "    print(\"remapped activities to {}\".format(\", \".join(act_types)))    \n",
    "    \n",
    "if mtype == \"GRU\" and do_padding :\n",
    "    try:\n",
    "      X_pad = pad_sequences(X, padding='post', value = -1, maxlen=tot_frame_len)    \n",
    "      print(\"shape in: {}\".format(str(X_pad.shape))) \n",
    "      X=X_pad\n",
    "    except :\n",
    "      print(\"bad day... (or nite...)\")"
   ]
  },
  {
   "cell_type": "code",
   "execution_count": 172,
   "id": "0478e9e3",
   "metadata": {
    "ExecuteTime": {
     "end_time": "2022-12-06T17:36:37.410986Z",
     "start_time": "2022-12-06T17:36:37.372826Z"
    }
   },
   "outputs": [],
   "source": [
    "from sklearn.preprocessing import LabelBinarizer\n",
    "from sklearn.model_selection import train_test_split\n",
    "\n",
    "from sklearn.metrics import classification_report\n",
    "from sklearn import metrics\n",
    "\n",
    "from tensorflow import keras\n",
    "import keras.backend as K\n",
    "\n",
    "from tensorflow.keras import layers, models, Sequential\n",
    "from tensorflow.keras.optimizers import Adam\n",
    "from tensorflow.keras.layers import Normalization, Input\n",
    "\n",
    "from tensorflow.keras.callbacks import EarlyStopping\n",
    "from tensorflow.keras.optimizers.schedules import ExponentialDecay\n",
    "\n",
    "from tensorflow.keras.layers import Dense, Flatten, Masking, Dropout\n",
    "from tensorflow.keras.layers import GRU, LSTM, TimeDistributed\n",
    "from tensorflow.keras.preprocessing.sequence import pad_sequences\n",
    "\n",
    "from tensorflow.keras.utils import to_categorical\n",
    "\n",
    "from tensorflow.keras.metrics import Recall, Precision\n",
    "\n",
    "from keras.layers.convolutional import Conv1D, MaxPooling1D, Conv2D, MaxPooling2D"
   ]
  },
  {
   "cell_type": "code",
   "execution_count": 173,
   "id": "a12b9fbf",
   "metadata": {
    "ExecuteTime": {
     "end_time": "2022-12-06T17:36:42.567692Z",
     "start_time": "2022-12-06T17:36:41.677706Z"
    }
   },
   "outputs": [
    {
     "name": "stdout",
     "output_type": "stream",
     "text": [
      "mtype Conv2D..\n",
      "reshaping..\n",
      "shape for mode Conv2D: X: (9667, 20, 50, 3), y: (9667, 4)\n"
     ]
    }
   ],
   "source": [
    "encoder = LabelBinarizer()\n",
    "y_ohe= encoder.fit_transform(y)\n",
    "\n",
    "print(\"mtype {}..\".format(mtype))\n",
    "X_np=np.asarray(X)\n",
    "if mtype == \"Conv2D\" or mtype == \"Conv1D\" : \n",
    "  print(\"reshaping..\")\n",
    "  X_np=X_np.reshape(len(X_np), win_len, sampling, n_sensors)  \n",
    "    \n",
    "print(\"shape for mode {}: X: {}, y: {}\".format(mtype, str(X_np.shape), str(y_ohe.shape)))"
   ]
  },
  {
   "cell_type": "code",
   "execution_count": 9,
   "id": "c353f12a",
   "metadata": {
    "ExecuteTime": {
     "end_time": "2022-12-06T10:54:35.093302Z",
     "start_time": "2022-12-06T10:54:35.074803Z"
    }
   },
   "outputs": [
    {
     "data": {
      "text/plain": [
       "(6386, 30, 50, 6)"
      ]
     },
     "execution_count": 9,
     "metadata": {},
     "output_type": "execute_result"
    }
   ],
   "source": [
    "X_np.shape"
   ]
  },
  {
   "cell_type": "code",
   "execution_count": 174,
   "id": "63e71099",
   "metadata": {
    "ExecuteTime": {
     "end_time": "2022-12-06T17:36:47.501784Z",
     "start_time": "2022-12-06T17:36:46.733571Z"
    }
   },
   "outputs": [],
   "source": [
    "#do_shuffle=(mtype ==\"cnn\")\n",
    "#nb final train !!! whole data is used, no X,y_test here...\n",
    "do_shuffle=True\n",
    "X_train, X_val, y_train, y_val = train_test_split(X_np, y_ohe, test_size = 0.2, \n",
    "                                                  random_state = 1, shuffle=do_shuffle)"
   ]
  },
  {
   "cell_type": "code",
   "execution_count": 175,
   "id": "b1b39614",
   "metadata": {
    "ExecuteTime": {
     "end_time": "2022-12-06T17:36:51.916392Z",
     "start_time": "2022-12-06T17:36:51.907870Z"
    },
    "scrolled": true
   },
   "outputs": [],
   "source": [
    "normalize=True\n",
    "droput=False\n",
    "\n",
    "def initialize_cnn_model(y_train):\n",
    "    model = Sequential()    \n",
    "    \n",
    "    model.add(layers.Conv2D(64, (3,3), padding='same', activation='relu', \n",
    "                            input_shape=(win_len, sampling, n_sensors))) \n",
    "    \n",
    "    if normalize : model.add(layers.BatchNormalization())\n",
    "        \n",
    "    model.add(layers.Conv2D(32, (3,3), padding='same', activation='relu'))\n",
    "    if normalize : model.add(layers.BatchNormalization())\n",
    "    if droput: model.add(layers.Dropout(0.3))\n",
    "        \n",
    "    model.add(layers.Conv2D(16, (3,3), padding='same', activation='relu'))\n",
    "    if normalize :model.add(layers.BatchNormalization())\n",
    "    if droput: model.add(layers.Dropout(0.5))\n",
    "           \n",
    "    model.add(layers.Flatten())\n",
    "    \n",
    "    model.add(layers.Dense(48, activation='relu'))\n",
    "    model.add(layers.Dense(y_train.shape[1], activation='softmax')) \n",
    "\n",
    "    return model"
   ]
  },
  {
   "cell_type": "code",
   "execution_count": 20,
   "id": "0f31eea1",
   "metadata": {
    "ExecuteTime": {
     "end_time": "2022-12-05T21:38:02.202719Z",
     "start_time": "2022-12-05T21:38:02.198593Z"
    }
   },
   "outputs": [
    {
     "name": "stdout",
     "output_type": "stream",
     "text": [
      "(2235, 30, 50, 3) (2235, 4) (30, 50, 3) 4\n"
     ]
    }
   ],
   "source": [
    "print(X_train.shape, y_train.shape, X_train[1].shape, y_train.shape[1])"
   ]
  },
  {
   "cell_type": "code",
   "execution_count": 37,
   "id": "6bbc8c58",
   "metadata": {
    "ExecuteTime": {
     "end_time": "2022-12-05T18:40:41.850391Z",
     "start_time": "2022-12-05T18:40:41.826341Z"
    }
   },
   "outputs": [],
   "source": [
    "normalize_input=True\n",
    "droput=True\n",
    "    \n",
    "def initialize_rnn_model(X_train, y_train):        \n",
    "    model = Sequential() \n",
    "       \n",
    "    model.add(layers.Masking(mask_value=-1., input_shape=X_train[1].shape))\n",
    "    \n",
    "    if normalize_input :\n",
    "      nl=Normalization()\n",
    "      nl.adapt(X_train)\n",
    "      model.add(nl) \n",
    "    \n",
    "    model.add(layers.GRU(units=20, activation='tanh', return_sequences=True))\n",
    "    model.add(layers.GRU(units=20, activation='tanh', return_sequences=False))    \n",
    "    model.add(layers.Dense(50, activation='relu'))    \n",
    "    if droput: model.add(layers.Dropout(0.3))\n",
    "        \n",
    "    model.add(layers.Dense(y_train.shape[1], activation='softmax'))\n",
    "    \n",
    "    return model\n",
    "\n",
    "#loss: 0.9147 - recall_3: 0.4800  precision_3: 0.7794 - prc: 0.7152 \n",
    "#val_loss: 0.9957  val_recall_3: 0.4405  val_precision_3: 0.7363 - val_prc: 0.6772"
   ]
  },
  {
   "cell_type": "code",
   "execution_count": 10,
   "id": "be78c342",
   "metadata": {
    "ExecuteTime": {
     "end_time": "2022-12-06T14:03:52.400203Z",
     "start_time": "2022-12-06T14:03:52.390416Z"
    }
   },
   "outputs": [],
   "source": [
    "from keras.regularizers import l2\n",
    "\n",
    "do_normalize=False\n",
    "droput=False\n",
    "\n",
    "def initialize_conv1d_model(X_train, y_train):        \n",
    "      model = Sequential()          \n",
    "        \n",
    "      model.add(layers.Conv1D(filters=32, kernel_size=3, activation='relu', \n",
    "                              input_shape=(win_len, sampling, n_sensors)))      \n",
    "      model.add(TimeDistributed(Flatten()))\n",
    "      if do_normalize: model.add(layers.BatchNormalization())\n",
    "      model.add(layers.GRU(units=20, activation='tanh', return_sequences=True))\n",
    "      model.add(layers.GRU(units=20, activation='tanh', return_sequences=False))    \n",
    "      model.add(layers.Dense(50, activation='relu'))    \n",
    "      if droput: model.add(layers.Dropout(0.3))        \n",
    "      model.add(layers.Dense(y_train.shape[1], activation='softmax'))\n",
    "                         \n",
    "      return model"
   ]
  },
  {
   "cell_type": "code",
   "execution_count": 176,
   "id": "ed7d796e",
   "metadata": {
    "ExecuteTime": {
     "end_time": "2022-12-06T17:48:32.539302Z",
     "start_time": "2022-12-06T17:37:01.662074Z"
    }
   },
   "outputs": [
    {
     "name": "stdout",
     "output_type": "stream",
     "text": [
      "model Conv2D\n",
      "Model: \"sequential_2\"\n",
      "_________________________________________________________________\n",
      " Layer (type)                Output Shape              Param #   \n",
      "=================================================================\n",
      " conv2d (Conv2D)             (None, 20, 50, 64)        1792      \n",
      "                                                                 \n",
      " batch_normalization (BatchN  (None, 20, 50, 64)       256       \n",
      " ormalization)                                                   \n",
      "                                                                 \n",
      " conv2d_1 (Conv2D)           (None, 20, 50, 32)        18464     \n",
      "                                                                 \n",
      " batch_normalization_1 (Batc  (None, 20, 50, 32)       128       \n",
      " hNormalization)                                                 \n",
      "                                                                 \n",
      " conv2d_2 (Conv2D)           (None, 20, 50, 16)        4624      \n",
      "                                                                 \n",
      " batch_normalization_2 (Batc  (None, 20, 50, 16)       64        \n",
      " hNormalization)                                                 \n",
      "                                                                 \n",
      " flatten_2 (Flatten)         (None, 16000)             0         \n",
      "                                                                 \n",
      " dense_4 (Dense)             (None, 48)                768048    \n",
      "                                                                 \n",
      " dense_5 (Dense)             (None, 4)                 196       \n",
      "                                                                 \n",
      "=================================================================\n",
      "Total params: 793,572\n",
      "Trainable params: 793,348\n",
      "Non-trainable params: 224\n",
      "_________________________________________________________________\n",
      "Epoch 1/20\n",
      "61/61 [==============================] - 36s 534ms/step - loss: 8.0549 - recall_2: 0.5235 - precision_2: 0.5566 - prc: 0.5218 - val_loss: 1.7550 - val_recall_2: 0.4819 - val_precision_2: 0.5163 - val_prc: 0.4669\n",
      "Epoch 2/20\n",
      "61/61 [==============================] - 32s 522ms/step - loss: 0.8786 - recall_2: 0.5875 - precision_2: 0.7236 - prc: 0.7495 - val_loss: 3.1502 - val_recall_2: 0.2663 - val_precision_2: 0.2784 - val_prc: 0.3113\n",
      "Epoch 3/20\n",
      "61/61 [==============================] - 33s 538ms/step - loss: 0.6720 - recall_2: 0.6383 - precision_2: 0.7630 - prc: 0.8062 - val_loss: 3.6194 - val_recall_2: 0.2756 - val_precision_2: 0.2898 - val_prc: 0.3585\n",
      "Epoch 4/20\n",
      "61/61 [==============================] - 33s 543ms/step - loss: 0.6108 - recall_2: 0.6801 - precision_2: 0.7774 - prc: 0.8308 - val_loss: 3.6183 - val_recall_2: 0.2921 - val_precision_2: 0.3086 - val_prc: 0.3890\n",
      "Epoch 5/20\n",
      "61/61 [==============================] - 33s 545ms/step - loss: 0.5845 - recall_2: 0.6891 - precision_2: 0.7828 - prc: 0.8437 - val_loss: 2.9962 - val_recall_2: 0.3206 - val_precision_2: 0.3408 - val_prc: 0.4328\n",
      "Epoch 6/20\n",
      "61/61 [==============================] - 34s 562ms/step - loss: 0.5714 - recall_2: 0.7012 - precision_2: 0.7904 - prc: 0.8504 - val_loss: 2.3460 - val_recall_2: 0.3769 - val_precision_2: 0.4102 - val_prc: 0.4952\n",
      "Epoch 7/20\n",
      "61/61 [==============================] - 34s 561ms/step - loss: 0.5712 - recall_2: 0.7014 - precision_2: 0.7880 - prc: 0.8495 - val_loss: 1.5969 - val_recall_2: 0.4436 - val_precision_2: 0.4908 - val_prc: 0.5622\n",
      "Epoch 8/20\n",
      "61/61 [==============================] - 34s 561ms/step - loss: 0.5701 - recall_2: 0.7030 - precision_2: 0.7886 - prc: 0.8497 - val_loss: 1.1895 - val_recall_2: 0.4845 - val_precision_2: 0.5363 - val_prc: 0.5986\n",
      "Epoch 9/20\n",
      "61/61 [==============================] - 35s 568ms/step - loss: 0.5654 - recall_2: 0.7063 - precision_2: 0.7934 - prc: 0.8536 - val_loss: 0.9600 - val_recall_2: 0.5114 - val_precision_2: 0.5645 - val_prc: 0.6536\n",
      "Epoch 10/20\n",
      "61/61 [==============================] - 35s 569ms/step - loss: 0.5677 - recall_2: 0.7035 - precision_2: 0.7877 - prc: 0.8518 - val_loss: 0.8644 - val_recall_2: 0.5481 - val_precision_2: 0.6145 - val_prc: 0.6940\n",
      "Epoch 11/20\n",
      "61/61 [==============================] - 34s 562ms/step - loss: 0.5631 - recall_2: 0.7053 - precision_2: 0.7920 - prc: 0.8543 - val_loss: 0.8209 - val_recall_2: 0.5895 - val_precision_2: 0.6593 - val_prc: 0.7213\n",
      "Epoch 12/20\n",
      "61/61 [==============================] - 34s 562ms/step - loss: 0.5667 - recall_2: 0.7033 - precision_2: 0.7900 - prc: 0.8517 - val_loss: 0.8003 - val_recall_2: 0.6050 - val_precision_2: 0.6814 - val_prc: 0.7365\n",
      "Epoch 13/20\n",
      "61/61 [==============================] - 34s 561ms/step - loss: 0.5709 - recall_2: 0.7052 - precision_2: 0.7904 - prc: 0.8509 - val_loss: 0.7895 - val_recall_2: 0.6189 - val_precision_2: 0.6887 - val_prc: 0.7456\n",
      "Epoch 14/20\n",
      "61/61 [==============================] - 35s 572ms/step - loss: 0.5638 - recall_2: 0.7099 - precision_2: 0.7938 - prc: 0.8538 - val_loss: 0.7874 - val_recall_2: 0.6256 - val_precision_2: 0.6910 - val_prc: 0.7478\n",
      "Epoch 15/20\n",
      "61/61 [==============================] - 35s 566ms/step - loss: 0.5669 - recall_2: 0.7065 - precision_2: 0.7938 - prc: 0.8539 - val_loss: 0.7825 - val_recall_2: 0.6272 - val_precision_2: 0.6951 - val_prc: 0.7524\n",
      "Epoch 16/20\n",
      "61/61 [==============================] - 35s 574ms/step - loss: 0.5633 - recall_2: 0.7081 - precision_2: 0.7920 - prc: 0.8538 - val_loss: 0.7818 - val_recall_2: 0.6277 - val_precision_2: 0.6965 - val_prc: 0.7527\n",
      "Epoch 17/20\n",
      "61/61 [==============================] - 36s 598ms/step - loss: 0.5720 - recall_2: 0.7061 - precision_2: 0.7923 - prc: 0.8499 - val_loss: 0.7827 - val_recall_2: 0.6282 - val_precision_2: 0.6971 - val_prc: 0.7524\n",
      "Epoch 18/20\n",
      "61/61 [==============================] - 37s 605ms/step - loss: 0.5655 - recall_2: 0.7052 - precision_2: 0.7925 - prc: 0.8537 - val_loss: 0.7848 - val_recall_2: 0.6262 - val_precision_2: 0.6932 - val_prc: 0.7500\n",
      "Epoch 19/20\n",
      "61/61 [==============================] - 35s 566ms/step - loss: 0.5704 - recall_2: 0.7044 - precision_2: 0.7887 - prc: 0.8520 - val_loss: 0.7864 - val_recall_2: 0.6256 - val_precision_2: 0.6906 - val_prc: 0.7489\n",
      "Epoch 20/20\n",
      "61/61 [==============================] - 35s 581ms/step - loss: 0.5592 - recall_2: 0.7070 - precision_2: 0.7955 - prc: 0.8557 - val_loss: 0.7854 - val_recall_2: 0.6256 - val_precision_2: 0.6926 - val_prc: 0.7499\n"
     ]
    }
   ],
   "source": [
    "try:\n",
    "  del model\n",
    "except:\n",
    "  pass\n",
    "\n",
    "batch_size=128\n",
    "init_learning_rate=0.01\n",
    "use_expo_decay=True\n",
    "use_early_stop=True\n",
    "max_epochs=100\n",
    "\n",
    "print(\"model {}\".format(mtype))\n",
    "\n",
    "if mtype == \"Conv2D\":\n",
    "  model=initialize_cnn_model(y_train)\n",
    "  max_epochs=20    \n",
    "elif mtype == \"Conv1D\" :\n",
    "  model=initialize_conv1d_model(X_train, y_train)\n",
    "  max_epochs=50\n",
    "elif mtype == \"GRU\": \n",
    "  model=initialize_rnn_model(X_train, y_train)  \n",
    "  max_epochs=50     \n",
    "else:\n",
    "  print(\"bad mtype {}\".format(mtype))\n",
    "  raise(\"err\")\n",
    "\n",
    "model.summary()  \n",
    "\n",
    "metrics = [  keras.metrics.Recall(), \n",
    "             keras.metrics.Precision(),\n",
    "             keras.metrics.AUC(name='prc', curve='PR') ]\n",
    "\n",
    "lr = ExponentialDecay(init_learning_rate, decay_steps = 50, decay_rate = 0.5) if use_expo_decay else init_learning_rate \n",
    "adam = Adam(learning_rate = lr)\n",
    "\n",
    "model.compile(loss=\"categorical_crossentropy\", optimizer=adam, metrics=metrics)\n",
    "\n",
    "def say_hello(batch, logs):\n",
    "    print(\"we're done\")\n",
    "    \n",
    "if use_early_stop : \n",
    "  cbf = EarlyStopping(patience=10, restore_best_weights = True)\n",
    "else:\n",
    "  cbf = keras.callbacks.LambdaCallback(on_train_end=say_hello)\n",
    "\n",
    "fit_start_time = time.time()\n",
    "\n",
    "history=model.fit(X_train, y_train, validation_data=(X_val, y_val), batch_size=batch_size, \n",
    "                  epochs = max_epochs, callbacks = [cbf], verbose = 1, shuffle=do_shuffle)\n",
    "\n",
    "fit_end_time = time.time()"
   ]
  },
  {
   "cell_type": "code",
   "execution_count": 97,
   "id": "90ec0283",
   "metadata": {
    "ExecuteTime": {
     "end_time": "2022-12-06T15:16:38.496627Z",
     "start_time": "2022-12-06T15:16:38.487832Z"
    }
   },
   "outputs": [],
   "source": [
    "def probs_to_cats(yp, encoder):\n",
    "   ypt=np.zeros((len(yp[0]),), dtype=int)\n",
    "   maxpos=np.argmax(yp)\n",
    "   ypt[pos]=1 \n",
    "   return encoder.inverse_transform(np.expand_dims(ypt, axis=0))[0]"
   ]
  },
  {
   "cell_type": "code",
   "execution_count": 185,
   "id": "f70ba3b8",
   "metadata": {
    "ExecuteTime": {
     "end_time": "2022-12-06T17:54:03.682349Z",
     "start_time": "2022-12-06T17:54:03.484634Z"
    },
    "scrolled": true
   },
   "outputs": [
    {
     "name": "stdout",
     "output_type": "stream",
     "text": [
      "concat 2022-12-06T15:45:20Z.json ok\n",
      "concat 2022-12-06T15:45:37Z.json ok\n",
      "concat 2022-12-06T15:48:57Z.json ok\n",
      "concat 2022-12-06T15:49:09Z.json ok\n",
      "concat 2022-12-06T15:49:29Z.json ok\n",
      "concat 2022-12-06T15:50:37Z.json ok\n",
      "concat 2022-12-06T15:50:48Z.json ok\n",
      "concat 2022-12-06T15:50:59Z.json ok\n",
      "concat 2022-12-06T15:51:08Z.json ok\n",
      "concat 2022-12-06T15:51:16Z.json ok\n",
      "concat 2022-12-06T15:51:26Z.json ok\n",
      "concat 2022-12-06T15:54:04Z.json ok\n",
      "concat 2022-12-06T15:54:13Z.json ok\n",
      "concat 2022-12-06T15:54:22Z.json ok\n",
      "concat 2022-12-06T15:54:30Z.json ok\n",
      "concat 2022-12-06T15:54:47Z.json ok\n",
      "concat 2022-12-06T15:54:57Z.json ok\n",
      "concat 2022-12-06T15:55:16Z.json ok\n",
      "concat 2022-12-06T15:55:26Z.json ok\n",
      "concat 2022-12-06T15:55:38Z.json ok\n",
      "pb with andre.tgz\n"
     ]
    }
   ],
   "source": [
    "jsons_dir=\"jsons/3/\" #\n",
    "\n",
    "df=None\n",
    "for f_in in os.listdir(jsons_dir): \n",
    "  try:\n",
    "    if df is not None :\n",
    "      df2 = pd.read_json(jsons_dir+f_in)\n",
    "      df=pd.concat([df, df2], ignore_index=True, axis=0)\n",
    "    else :  \n",
    "      df = pd.read_json(jsons_dir+f_in)\n",
    "    print(\"concat {} ok\".format(f_in, len(df))) \n",
    "  except :\n",
    "     print(\"pb with {}\".format(f_in))  "
   ]
  },
  {
   "cell_type": "code",
   "execution_count": 149,
   "id": "2f56b207",
   "metadata": {
    "ExecuteTime": {
     "end_time": "2022-12-06T17:18:25.452280Z",
     "start_time": "2022-12-06T17:18:25.441499Z"
    }
   },
   "outputs": [
    {
     "data": {
      "text/plain": [
       "Index(['Engineered_Timestamp', 'Linear_acceleration_sensor_y_WD',\n",
       "       'Linear_acceleration_sensor_z_WD', 'Linear_acceleration_sensor_x_WD',\n",
       "       'Class_Encoded'],\n",
       "      dtype='object')"
      ]
     },
     "execution_count": 149,
     "metadata": {},
     "output_type": "execute_result"
    }
   ],
   "source": [
    "df.columns"
   ]
  },
  {
   "cell_type": "code",
   "execution_count": 186,
   "id": "3917e5e0",
   "metadata": {
    "ExecuteTime": {
     "end_time": "2022-12-06T17:54:09.268345Z",
     "start_time": "2022-12-06T17:54:09.249183Z"
    }
   },
   "outputs": [
    {
     "data": {
      "text/html": [
       "<div>\n",
       "<style scoped>\n",
       "    .dataframe tbody tr th:only-of-type {\n",
       "        vertical-align: middle;\n",
       "    }\n",
       "\n",
       "    .dataframe tbody tr th {\n",
       "        vertical-align: top;\n",
       "    }\n",
       "\n",
       "    .dataframe thead th {\n",
       "        text-align: right;\n",
       "    }\n",
       "</style>\n",
       "<table border=\"1\" class=\"dataframe\">\n",
       "  <thead>\n",
       "    <tr style=\"text-align: right;\">\n",
       "      <th></th>\n",
       "      <th>Engineered_Timestamp</th>\n",
       "      <th>Linear_acceleration_sensor_y_WD</th>\n",
       "      <th>Linear_acceleration_sensor_z_WD</th>\n",
       "      <th>Linear_acceleration_sensor_x_WD</th>\n",
       "      <th>Class_Encoded</th>\n",
       "    </tr>\n",
       "  </thead>\n",
       "  <tbody>\n",
       "    <tr>\n",
       "      <th>0</th>\n",
       "      <td>1670341511735</td>\n",
       "      <td>0.059143</td>\n",
       "      <td>-0.914627</td>\n",
       "      <td>-0.517502</td>\n",
       "      <td>1</td>\n",
       "    </tr>\n",
       "    <tr>\n",
       "      <th>1</th>\n",
       "      <td>1670341511751</td>\n",
       "      <td>-0.074371</td>\n",
       "      <td>-0.885040</td>\n",
       "      <td>-0.367584</td>\n",
       "      <td>1</td>\n",
       "    </tr>\n",
       "    <tr>\n",
       "      <th>2</th>\n",
       "      <td>1670341511771</td>\n",
       "      <td>-0.042587</td>\n",
       "      <td>-0.814819</td>\n",
       "      <td>-0.325287</td>\n",
       "      <td>1</td>\n",
       "    </tr>\n",
       "    <tr>\n",
       "      <th>3</th>\n",
       "      <td>1670341511791</td>\n",
       "      <td>-0.016403</td>\n",
       "      <td>-0.798538</td>\n",
       "      <td>-0.388870</td>\n",
       "      <td>1</td>\n",
       "    </tr>\n",
       "    <tr>\n",
       "      <th>4</th>\n",
       "      <td>1670341511811</td>\n",
       "      <td>-0.018478</td>\n",
       "      <td>-0.810013</td>\n",
       "      <td>-0.434601</td>\n",
       "      <td>1</td>\n",
       "    </tr>\n",
       "    <tr>\n",
       "      <th>...</th>\n",
       "      <td>...</td>\n",
       "      <td>...</td>\n",
       "      <td>...</td>\n",
       "      <td>...</td>\n",
       "      <td>...</td>\n",
       "    </tr>\n",
       "    <tr>\n",
       "      <th>4634</th>\n",
       "      <td>1670342138574</td>\n",
       "      <td>1.039871</td>\n",
       "      <td>-0.301727</td>\n",
       "      <td>-0.201279</td>\n",
       "      <td>3</td>\n",
       "    </tr>\n",
       "    <tr>\n",
       "      <th>4635</th>\n",
       "      <td>1670342138594</td>\n",
       "      <td>1.024170</td>\n",
       "      <td>-0.301498</td>\n",
       "      <td>-0.208221</td>\n",
       "      <td>3</td>\n",
       "    </tr>\n",
       "    <tr>\n",
       "      <th>4636</th>\n",
       "      <td>1670342138614</td>\n",
       "      <td>1.005524</td>\n",
       "      <td>-0.292862</td>\n",
       "      <td>-0.217148</td>\n",
       "      <td>3</td>\n",
       "    </tr>\n",
       "    <tr>\n",
       "      <th>4637</th>\n",
       "      <td>1670342138634</td>\n",
       "      <td>1.002396</td>\n",
       "      <td>-0.297546</td>\n",
       "      <td>-0.230591</td>\n",
       "      <td>3</td>\n",
       "    </tr>\n",
       "    <tr>\n",
       "      <th>4638</th>\n",
       "      <td>1670342138654</td>\n",
       "      <td>0.980377</td>\n",
       "      <td>-0.300674</td>\n",
       "      <td>-0.237930</td>\n",
       "      <td>3</td>\n",
       "    </tr>\n",
       "  </tbody>\n",
       "</table>\n",
       "<p>4639 rows × 5 columns</p>\n",
       "</div>"
      ],
      "text/plain": [
       "      Engineered_Timestamp  Linear_acceleration_sensor_y_WD  \\\n",
       "0            1670341511735                         0.059143   \n",
       "1            1670341511751                        -0.074371   \n",
       "2            1670341511771                        -0.042587   \n",
       "3            1670341511791                        -0.016403   \n",
       "4            1670341511811                        -0.018478   \n",
       "...                    ...                              ...   \n",
       "4634         1670342138574                         1.039871   \n",
       "4635         1670342138594                         1.024170   \n",
       "4636         1670342138614                         1.005524   \n",
       "4637         1670342138634                         1.002396   \n",
       "4638         1670342138654                         0.980377   \n",
       "\n",
       "      Linear_acceleration_sensor_z_WD  Linear_acceleration_sensor_x_WD  \\\n",
       "0                           -0.914627                        -0.517502   \n",
       "1                           -0.885040                        -0.367584   \n",
       "2                           -0.814819                        -0.325287   \n",
       "3                           -0.798538                        -0.388870   \n",
       "4                           -0.810013                        -0.434601   \n",
       "...                               ...                              ...   \n",
       "4634                        -0.301727                        -0.201279   \n",
       "4635                        -0.301498                        -0.208221   \n",
       "4636                        -0.292862                        -0.217148   \n",
       "4637                        -0.297546                        -0.230591   \n",
       "4638                        -0.300674                        -0.237930   \n",
       "\n",
       "      Class_Encoded  \n",
       "0                 1  \n",
       "1                 1  \n",
       "2                 1  \n",
       "3                 1  \n",
       "4                 1  \n",
       "...             ...  \n",
       "4634              3  \n",
       "4635              3  \n",
       "4636              3  \n",
       "4637              3  \n",
       "4638              3  \n",
       "\n",
       "[4639 rows x 5 columns]"
      ]
     },
     "execution_count": 186,
     "metadata": {},
     "output_type": "execute_result"
    }
   ],
   "source": [
    "real_df=df.sort_values(by='Engineered_Timestamp', ignore_index=True)\n",
    "real_df=real_df.reset_index(drop=True)\n",
    "real_df"
   ]
  },
  {
   "cell_type": "code",
   "execution_count": 151,
   "id": "7195c497",
   "metadata": {
    "ExecuteTime": {
     "end_time": "2022-12-06T17:19:20.108145Z",
     "start_time": "2022-12-06T17:19:20.099051Z"
    }
   },
   "outputs": [
    {
     "data": {
      "text/plain": [
       "4639"
      ]
     },
     "execution_count": 151,
     "metadata": {},
     "output_type": "execute_result"
    }
   ],
   "source": [
    "len(real_df)"
   ]
  },
  {
   "cell_type": "code",
   "execution_count": 190,
   "id": "6d1d73d0",
   "metadata": {
    "ExecuteTime": {
     "end_time": "2022-12-06T17:54:54.780272Z",
     "start_time": "2022-12-06T17:54:54.476669Z"
    }
   },
   "outputs": [
    {
     "data": {
      "text/plain": [
       "<AxesSubplot: >"
      ]
     },
     "execution_count": 190,
     "metadata": {},
     "output_type": "execute_result"
    },
    {
     "data": {
      "image/png": "[encoded data removed]",
      "text/plain": [
       "<Figure size 640x480 with 1 Axes>"
      ]
     },
     "metadata": {},
     "output_type": "display_data"
    }
   ],
   "source": [
    "df_smoke=real_df[sensors].copy()\n",
    "df_smoke=df_smoke[sensors].copy()[0:tot_frame_len]\n",
    "df_smoke['Linear_acceleration_sensor_z_WD'].plot()\n",
    "\n",
    "df_stand=real_df[sensors].copy()\n",
    "df_stand=df_stand[sensors].tail(tot_frame_len)\n",
    "\n",
    "df_stand['Linear_acceleration_sensor_z_WD'].plot()"
   ]
  },
  {
   "cell_type": "code",
   "execution_count": 180,
   "id": "c6d2fb32",
   "metadata": {
    "ExecuteTime": {
     "end_time": "2022-12-06T17:51:45.226229Z",
     "start_time": "2022-12-06T17:51:44.910886Z"
    }
   },
   "outputs": [
    {
     "name": "stdout",
     "output_type": "stream",
     "text": [
      "1/1 [==============================] - 0s 118ms/step\n",
      "[[4.9287302e-04 9.9906927e-01 4.3795723e-04 1.3037187e-14]]\n",
      "1/1 [==============================] - 0s 32ms/step\n"
     ]
    },
    {
     "data": {
      "text/plain": [
       "'smoke'"
      ]
     },
     "execution_count": 180,
     "metadata": {},
     "output_type": "execute_result"
    }
   ],
   "source": [
    "X_test=np.asarray(df_smoke)\n",
    "X_test=X_test.reshape(1, win_len, sampling, n_sensors)  \n",
    " \n",
    "y_pred=model.predict(X_test)\n",
    "print(y_pred)\n",
    "probs_to_cats(model.predict(X_test), encoder)"
   ]
  },
  {
   "cell_type": "code",
   "execution_count": 181,
   "id": "e11092be",
   "metadata": {
    "ExecuteTime": {
     "end_time": "2022-12-06T17:52:14.641732Z",
     "start_time": "2022-12-06T17:52:14.429210Z"
    }
   },
   "outputs": [
    {
     "name": "stdout",
     "output_type": "stream",
     "text": [
      "1/1 [==============================] - 0s 29ms/step\n",
      "[[1.0796191e-02 9.8799407e-01 1.2097140e-03 2.9467210e-11]]\n",
      "1/1 [==============================] - 0s 26ms/step\n"
     ]
    },
    {
     "data": {
      "text/plain": [
       "'smoke'"
      ]
     },
     "execution_count": 181,
     "metadata": {},
     "output_type": "execute_result"
    }
   ],
   "source": [
    "X_test=np.asarray(df_stand)\n",
    "X_test=X_test.reshape(1, win_len, sampling, n_sensors)  \n",
    " \n",
    "y_pred=model.predict(X_test)\n",
    "print(y_pred)\n",
    "probs_to_cats(model.predict(X_test), encoder)"
   ]
  },
  {
   "cell_type": "markdown",
   "id": "8033f1d1",
   "metadata": {},
   "source": [
    "#non adjusted\n",
    "executed in 862ms, finished 22:51:52 2022-12-05\n",
    "60/60 [==============================] - 1s 13ms/step - loss: 0.9563 - recall_5: 0.8027 - precision_5: 0.8185 - prc: 0.8577\n",
    "['loss', 'recall_5', 'precision_5', 'prc']\n",
    "0.9563313126564026, 0.8027139902114868, 0.8185204863548279, 0.8577141761779785"
   ]
  },
  {
   "cell_type": "code",
   "execution_count": 182,
   "id": "811b3efa",
   "metadata": {
    "ExecuteTime": {
     "end_time": "2022-12-06T17:52:50.861767Z",
     "start_time": "2022-12-06T17:52:50.852725Z"
    }
   },
   "outputs": [],
   "source": [
    "def plot_history(history, optimizer_str, axs=None, exp_name=\"\"):\n",
    "    if axs is not None:\n",
    "        ax1, ax2 = axs\n",
    "    else:\n",
    "        f, (ax1, ax2) = plt.subplots(1, 2, figsize=(12, 4))\n",
    "    \n",
    "    if len(exp_name) > 0 and exp_name[0] != '_':\n",
    "        exp_name = '_' + exp_name\n",
    "    \n",
    "    pkey=\"precision\"; vpkey=\"val_precision\"\n",
    "    for key in history.history.keys():\n",
    "      if key.startswith(\"precision\")       : pkey=key; \n",
    "      elif key.startswith(\"val_precision\") : vpkey=key; \n",
    "        \n",
    "    ax1.plot(history.history['loss'], label = 'train' + exp_name)\n",
    "    ax1.plot(history.history['val_loss'], label = 'val' + exp_name)\n",
    "    ax1.set_ylim(0., 2.2)\n",
    "    ax1.set_title('loss')\n",
    "    ax1.legend()\n",
    "               \n",
    "    ax2.plot(history.history[pkey], label='train accuracy'  + exp_name)\n",
    "    ax2.plot(history.history[vpkey], label='val accuracy'  + exp_name)\n",
    "    ax2.set_ylim(0.25, 1.)\n",
    "    ax2.set_title('Accuracy ' + optimizer_str)\n",
    "    ax2.legend()\n",
    "    return (ax1, ax2)"
   ]
  },
  {
   "cell_type": "code",
   "execution_count": 183,
   "id": "6f90b9b7",
   "metadata": {
    "ExecuteTime": {
     "end_time": "2022-12-06T17:52:55.122838Z",
     "start_time": "2022-12-06T17:52:53.188885Z"
    }
   },
   "outputs": [
    {
     "name": "stdout",
     "output_type": "stream",
     "text": [
      "fit time with Adam optimizer 690.4843726158142 secs after 20 epochs\n"
     ]
    },
    {
     "data": {
      "text/plain": [
       "(<AxesSubplot: title={'center': 'loss'}>,\n",
       " <AxesSubplot: title={'center': 'Accuracy Adam'}>)"
      ]
     },
     "execution_count": 183,
     "metadata": {},
     "output_type": "execute_result"
    },
    {
     "data": {
      "image/png": "[encoded data removed]",
      "text/plain": [
       "<Figure size 1200x400 with 2 Axes>"
      ]
     },
     "metadata": {},
     "output_type": "display_data"
    }
   ],
   "source": [
    "optimizer_str=str(K.eval(model.optimizer)).split(\".\")[-1].split()[0]\n",
    "\n",
    "print(\"fit time with {} optimizer {} secs after {} epochs\".format(optimizer_str, \n",
    "                                            (fit_end_time - fit_start_time), len(history.epoch)))\n",
    "\n",
    "plot_history(history, optimizer_str)"
   ]
  }
 ],
 "metadata": {
  "kernelspec": {
   "display_name": "Python 3 (ipykernel)",
   "language": "python",
   "name": "python3"
  },
  "language_info": {
   "codemirror_mode": {
    "name": "ipython",
    "version": 3
   },
   "file_extension": ".py",
   "mimetype": "text/x-python",
   "name": "python",
   "nbconvert_exporter": "python",
   "pygments_lexer": "ipython3",
   "version": "3.10.6"
  },
  "toc": {
   "base_numbering": 1,
   "nav_menu": {},
   "number_sections": true,
   "sideBar": true,
   "skip_h1_title": false,
   "title_cell": "Table of Contents",
   "title_sidebar": "Contents",
   "toc_cell": false,
   "toc_position": {},
   "toc_section_display": true,
   "toc_window_display": false
  }
 },
 "nbformat": 4,
 "nbformat_minor": 5
}
