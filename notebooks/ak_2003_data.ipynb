{
 "cells": [
  {
   "cell_type": "markdown",
   "id": "c56ef71c",
   "metadata": {
    "id": "c56ef71c"
   },
   "source": [
    "2022's test of 2003's https://arxiv.org/ftp/arxiv/papers/2003/2003.02735.pdf"
   ]
  },
  {
   "cell_type": "markdown",
   "id": "9905bf50",
   "metadata": {
    "id": "9905bf50"
   },
   "source": [
    "## Load Libraries"
   ]
  },
  {
   "cell_type": "code",
   "execution_count": 43,
   "id": "a385e447",
   "metadata": {
    "ExecuteTime": {
     "end_time": "2022-12-01T00:50:39.393800Z",
     "start_time": "2022-12-01T00:50:39.379570Z"
    },
    "id": "a385e447"
   },
   "outputs": [],
   "source": [
    "import os\n",
    "import io\n",
    "import json\n",
    "from os.path import exists\n",
    "import time\n",
    "\n",
    "import pandas as pd\n",
    "import numpy as np\n",
    "\n",
    "import matplotlib.pyplot as plt\n",
    "\n",
    "try:\n",
    "  import google.colab\n",
    "  from google.colab import drive, files\n",
    "  runnin_in_colab = True\n",
    "except:\n",
    "  runnin_in_colab = False\n",
    "\n",
    "\n",
    "from sklearn.model_selection import train_test_split\n",
    "from sklearn.metrics import confusion_matrix\n",
    "\n",
    "from tensorflow import keras\n",
    "import keras.backend as K\n",
    "from tensorflow.keras import models, layers, regularizers\n",
    "from tensorflow.keras.callbacks import EarlyStopping\n",
    "from tensorflow.keras.optimizers import Adam\n",
    "from tensorflow.keras.optimizers.experimental import RMSprop\n",
    "from tensorflow.keras.optimizers.schedules import ExponentialDecay\n",
    "\n",
    "from sklearn.preprocessing import RobustScaler, StandardScaler, MinMaxScaler\n",
    "\n",
    "from tensorflow.keras.layers import Normalization, Input\n",
    "from tensorflow.keras.metrics import Recall, Precision\n",
    "\n",
    "import mlflow.sklearn\n",
    "\n",
    "import warnings\n",
    "warnings.filterwarnings('ignore')\n",
    "\n",
    "pd.set_option(\"display.max_columns\", None)"
   ]
  },
  {
   "cell_type": "code",
   "execution_count": 44,
   "id": "95d4d56a",
   "metadata": {
    "ExecuteTime": {
     "end_time": "2022-12-01T00:50:56.622603Z",
     "start_time": "2022-12-01T00:50:56.611239Z"
    }
   },
   "outputs": [],
   "source": [
    "drop_policy=\"hard\" \n",
    "\n",
    "do_viz=False\n",
    "\n",
    "#if we dont do prescale, normalize layer will do it in model\n",
    "do_scale=True\n",
    "scaler = MinMaxScaler()\n",
    "\n",
    "model_complexity=\"vanilla\" # \"full\" or \"vanilla\"\n",
    "n_epochs=10\n",
    "batch_size=32\n",
    "initial_learning_rate = 0.001 \n",
    "use_expo_decay=True\n",
    "\n",
    "save_model=True"
   ]
  },
  {
   "cell_type": "markdown",
   "id": "fe0f4c2e",
   "metadata": {
    "id": "fe0f4c2e"
   },
   "source": [
    "## load data"
   ]
  },
  {
   "cell_type": "code",
   "execution_count": 3,
   "id": "71be5e9b",
   "metadata": {
    "ExecuteTime": {
     "end_time": "2022-12-01T00:22:36.161304Z",
     "start_time": "2022-12-01T00:22:36.152813Z"
    },
    "id": "71be5e9b"
   },
   "outputs": [],
   "source": [
    "auth_file=\".mocap_bucket_auth_data.json\"\n",
    "\n",
    "tgz_file=\"smoking_data.tar.gz\"\n",
    "data_dir=\"smoking_data\"\n",
    "data_features_file='smoking_input.csv'\n",
    "data_target_file='smoking_targets.csv'\n",
    "google_drive_dir=\"mocap\"\n",
    "\n",
    "other_source_loc=\"https://ifestos.cse.sc.edu/datasets/smoking_data.tar.gz\"\n",
    "\n",
    "#set to None if whole file\n",
    "#beware, y=0 were concatted to y=1 => use n_rows=some_value only for data_viz or eyballing data\n",
    "n_rows=None "
   ]
  },
  {
   "cell_type": "code",
   "execution_count": 4,
   "id": "27e07a79",
   "metadata": {
    "ExecuteTime": {
     "end_time": "2022-12-01T00:22:36.176524Z",
     "start_time": "2022-12-01T00:22:36.168135Z"
    }
   },
   "outputs": [],
   "source": [
    "if not exists(data_dir) : \n",
    "  rc=1;\n",
    "\n",
    "  if runnin_in_colab:\n",
    "    source_loc=\"google drive\"\n",
    "    if not exists(\"/content/drive\"):\n",
    "      drive.mount('/content/drive')\n",
    "\n",
    "    os.chdir(\"/content/drive/MyDrive/{}\".format(google_drive_dir))\n",
    "\n",
    "    if exists(auth_file):\n",
    "      if os.system(\"gcloud auth activate-service-account --key-file=\"+auth_file) == 0 : \n",
    "        print(\"getting data set form bucket...\")\n",
    "        rc = os.system(\"gsutil cp gs://mocap_data/{} .\".format(tgz_file))\n",
    "        \n",
    "  if rc == 1 :    \n",
    "    print(\"getting data set form {}\".format(other_source_loc))\n",
    "    rc=os.system(\"wget -q {}\".format(other_source_loc))    \n",
    "\n",
    "  if rc == 1 : \n",
    "    raise UserWarning(\"cant get {} from {}, abort...\".format(tgz_file, source_loc))\n",
    "\n",
    "  os.system(\"tar -xf {} ; /bin/rm -f {}\".format(tgz_file, tgz_file))\n",
    "\n",
    "if not exists(data_dir) : raise Exception(\"dont have data dir {}, abort...\".format(data_dir))"
   ]
  },
  {
   "cell_type": "code",
   "execution_count": 5,
   "id": "120147a9",
   "metadata": {
    "ExecuteTime": {
     "end_time": "2022-12-01T00:22:55.087875Z",
     "start_time": "2022-12-01T00:22:36.180716Z"
    },
    "colab": {
     "base_uri": "https://localhost:8080/"
    },
    "id": "120147a9",
    "outputId": "56e9cbc9-fb8d-482f-c864-6928e8230383"
   },
   "outputs": [],
   "source": [
    "#nb, this ifestos csv has no header\n",
    "try:\n",
    "  X_data=pd.read_csv(data_dir+\"/\"+data_features_file, nrows=n_rows, header=None)\n",
    "  X_data_columns=X_data.columns\n",
    "  y_data=pd.read_csv(data_dir+\"/\"+data_target_file, nrows=n_rows, header=None)\n",
    "  y_data.rename(columns={0: \"y\"}, inplace=True)\n",
    "except : \n",
    "   raise Exception(\"missing/messy features/target files {}, {}\".format(data_features_file, data_target_file)) \n",
    "\n",
    "if (len(X_data) != len(y_data)):\n",
    "   raise Exception(\"data lens mismatch, X: {}, y: {}\".format(len(X_data), len(y_data)))\n",
    "                   \n",
    "data = pd.concat([X_data, y_data], axis=1)\n",
    "\n",
    "del X_data, y_data"
   ]
  },
  {
   "cell_type": "markdown",
   "id": "fd5976b8",
   "metadata": {
    "id": "fd5976b8"
   },
   "source": [
    "## nans"
   ]
  },
  {
   "cell_type": "markdown",
   "id": "f2aa13d7",
   "metadata": {
    "id": "f2aa13d7"
   },
   "source": [
    "There are some NAN values, lets just drop them for now from both the input and target data sets"
   ]
  },
  {
   "cell_type": "code",
   "execution_count": 6,
   "id": "7952eb9e",
   "metadata": {
    "ExecuteTime": {
     "end_time": "2022-12-01T00:22:55.101335Z",
     "start_time": "2022-12-01T00:22:55.090330Z"
    },
    "scrolled": true
   },
   "outputs": [
    {
     "name": "stdout",
     "output_type": "stream",
     "text": [
      "data shape (351530, 301)\n",
      "y val counts 1    177450\n",
      "0    174080\n",
      "Name: y, dtype: int64\n"
     ]
    }
   ],
   "source": [
    "print(\"data shape {}\".format(data.shape))\n",
    "print(\"y val counts {}\".format(data[\"y\"].value_counts()))"
   ]
  },
  {
   "cell_type": "code",
   "execution_count": 45,
   "id": "cb996ba0",
   "metadata": {
    "ExecuteTime": {
     "end_time": "2022-12-01T00:51:16.632362Z",
     "start_time": "2022-12-01T00:51:16.618794Z"
    }
   },
   "outputs": [],
   "source": [
    "compute_shifted_data=False\n",
    "if compute_shifted_data:\n",
    "    rep_vals=data.iloc[-1][:-1].tolist()\n",
    "    i=len(data)-1\n",
    "    n_vals_2_compare=3\n",
    "    n_vals_2_compare_m1=n_vals_2_compare-1\n",
    "    nshifts=0\n",
    "    nyzero=0\n",
    "    while i > 0 : \n",
    "      i-=1\n",
    "      if data.iloc[i][\"y\"] == 1 : break\n",
    "      nyzero+=1\n",
    "      row=data.iloc[i][:-1].tolist()\n",
    "      c = sum(el in row[:n_vals_2_compare] for el in rep_vals[:n_vals_2_compare])\n",
    "      if c == n_vals_2_compare_m1:\n",
    "        nshifts+=1\n",
    "      rep_vals=row\n",
    "    print(nshifts, nyzero)"
   ]
  },
  {
   "cell_type": "code",
   "execution_count": 8,
   "id": "6033e9d8",
   "metadata": {
    "ExecuteTime": {
     "end_time": "2022-12-01T00:22:55.713551Z",
     "start_time": "2022-12-01T00:22:55.119917Z"
    },
    "colab": {
     "base_uri": "https://localhost:8080/"
    },
    "id": "6033e9d8",
    "outputId": "caf934e5-64b6-4240-88ca-4c693dc10c04"
   },
   "outputs": [
    {
     "name": "stdout",
     "output_type": "stream",
     "text": [
      "(351530, 301) (331580, 301)\n"
     ]
    }
   ],
   "source": [
    "shape_raw=data.shape\n",
    "\n",
    "if drop_policy == \"soft\" :\n",
    "  #soft or hard, soft allows 1 nan value of X (len(X_data_columns)-1), doing soft would\n",
    "  #imply imputing, hard just drops a whole row on any nan \n",
    "  if False:\n",
    "    #imputer is not realized in code => soft is not ready...\n",
    "    data_clean=data.dropna(subset=[data.columns[-1]], axis=0, inplace=False)\n",
    "    data_clean=data_clean.dropna(subset=X_data_columns, thresh=(len(X_data_columns)-1), axis=0, inplace=False)\n",
    "  else : \n",
    "    data_clean=data.dropna(inplace=False, axis=0)\n",
    "else:\n",
    "  data_clean=data.dropna(inplace=False, axis=0)\n",
    "\n",
    "print(shape_raw, data_clean.shape)\n",
    "\n",
    "#soft: 351530, 301) (331580, 301)"
   ]
  },
  {
   "cell_type": "markdown",
   "id": "w8cRe9xuF0c8",
   "metadata": {
    "id": "w8cRe9xuF0c8"
   },
   "source": [
    "**Trust but verify**"
   ]
  },
  {
   "cell_type": "code",
   "execution_count": 9,
   "id": "67NELVBWFpMV",
   "metadata": {
    "ExecuteTime": {
     "end_time": "2022-12-01T00:22:55.885435Z",
     "start_time": "2022-12-01T00:22:55.716546Z"
    },
    "colab": {
     "base_uri": "https://localhost:8080/"
    },
    "id": "67NELVBWFpMV",
    "outputId": "dc5d0c0b-cbf4-49fe-bf77-a534e0f2b573"
   },
   "outputs": [
    {
     "data": {
      "text/plain": [
       "0"
      ]
     },
     "execution_count": 9,
     "metadata": {},
     "output_type": "execute_result"
    }
   ],
   "source": [
    "data_clean.isnull().sum().sum()"
   ]
  },
  {
   "cell_type": "code",
   "execution_count": 10,
   "id": "ed8f29eb",
   "metadata": {
    "ExecuteTime": {
     "end_time": "2022-12-01T00:22:56.319273Z",
     "start_time": "2022-12-01T00:22:55.888119Z"
    }
   },
   "outputs": [
    {
     "data": {
      "text/plain": [
       "0    174080\n",
       "1    157500\n",
       "Name: y, dtype: int64"
      ]
     },
     "execution_count": 10,
     "metadata": {},
     "output_type": "execute_result"
    }
   ],
   "source": [
    "X = data_clean.drop('y', axis=1)\n",
    "y = data_clean.y\n",
    "y.value_counts()"
   ]
  },
  {
   "cell_type": "code",
   "execution_count": 11,
   "id": "19df060d",
   "metadata": {
    "ExecuteTime": {
     "end_time": "2022-12-01T00:22:56.482030Z",
     "start_time": "2022-12-01T00:22:56.323348Z"
    }
   },
   "outputs": [
    {
     "data": {
      "text/plain": [
       "0"
      ]
     },
     "execution_count": 11,
     "metadata": {},
     "output_type": "execute_result"
    }
   ],
   "source": [
    "X.isnull().sum().sum()"
   ]
  },
  {
   "cell_type": "markdown",
   "id": "e7dcf0de",
   "metadata": {
    "id": "e7dcf0de"
   },
   "source": [
    "The observations are for 5 seconds at 20Hz = 100 data points for the 3 acceleromters (100 X 3 = 300 data points). Let's splice the 300 columns/datapoints backing into the individual x,y,z set of data points"
   ]
  },
  {
   "cell_type": "markdown",
   "id": "4a0f9a9d",
   "metadata": {
    "id": "4a0f9a9d"
   },
   "source": [
    "Lets create a simple plot for a simple visual comparison of the pattern for the first 5 observations"
   ]
  },
  {
   "cell_type": "markdown",
   "id": "af247e5d",
   "metadata": {
    "id": "af247e5d"
   },
   "source": [
    "## train/test/val"
   ]
  },
  {
   "cell_type": "code",
   "execution_count": 12,
   "id": "b961a180",
   "metadata": {
    "ExecuteTime": {
     "end_time": "2022-12-01T00:22:56.495033Z",
     "start_time": "2022-12-01T00:22:56.486349Z"
    }
   },
   "outputs": [],
   "source": [
    "if do_viz :\n",
    "    Xx=X.iloc[0:,:100]\n",
    "    Xy=X.iloc[0:,100:200]\n",
    "    Xz=X.iloc[0:,200:300]\n",
    "\n",
    "    hz=np.arange(0,100)\n",
    "\n",
    "    for i in range (0,20):\n",
    "        plt.plot(hz,Xx.iloc[i],'b', label=\"X\" )\n",
    "        plt.plot(hz,Xy.iloc[i],'g', label=\"Y\" )\n",
    "        plt.plot(hz,Xz.iloc[i],'r', label=\"Z\" )\n",
    "        plt.title(\"Human Gesture\")\n",
    "        plt.xlabel(\"20 Hz, 5 Seconds\")\n",
    "        plt.ylabel(\"Accelerometer x,y,z\")\n",
    "\n",
    "    plt.show;\n",
    "\n",
    "    hz=np.arange(0,100)\n",
    "    l=len(Xx)-20-1\n",
    "    for i in range (0,20):\n",
    "        plt.plot(hz,Xx.iloc[l+i],'b', label=\"X\" )\n",
    "        plt.plot(hz,Xy.iloc[l+i],'g', label=\"Y\" )\n",
    "        plt.plot(hz,Xz.iloc[l+i],'r', label=\"Z\" )\n",
    "        plt.title(\"Human Gesture\")\n",
    "        plt.xlabel(\"20 Hz, 5 Seconds\")\n",
    "        plt.ylabel(\"Accelerometer x,y,z\")\n",
    "\n",
    "    plt.show;\n",
    "\n",
    "    print(Xx.shape, Xy.shape, Xz.shape)"
   ]
  },
  {
   "cell_type": "code",
   "execution_count": 13,
   "id": "454519f7",
   "metadata": {
    "ExecuteTime": {
     "end_time": "2022-12-01T00:23:02.825873Z",
     "start_time": "2022-12-01T00:22:56.498534Z"
    }
   },
   "outputs": [],
   "source": [
    "X_train, X_test, y_train, y_test = train_test_split(X, y, test_size = 0.3)\n",
    "X_train, X_val, y_train, y_val = train_test_split(X_train, y_train, test_size = 0.3)"
   ]
  },
  {
   "cell_type": "code",
   "execution_count": 14,
   "id": "f78abef0",
   "metadata": {
    "ExecuteTime": {
     "end_time": "2022-12-01T00:23:06.774357Z",
     "start_time": "2022-12-01T00:23:06.202918Z"
    }
   },
   "outputs": [],
   "source": [
    "if do_scale :  \n",
    "  X_train_scaled = scaler.fit_transform(X_train)\n",
    "  X_train = pd.DataFrame(X_train_scaled, index=X_train.index, columns=X_train.columns)\n",
    "  X_val_scaled =  scaler.transform(X_val)\n",
    "  X_val = pd.DataFrame(X_val_scaled, index=X_val.index, columns=X_val.columns)"
   ]
  },
  {
   "cell_type": "code",
   "execution_count": 15,
   "id": "5257a7dc",
   "metadata": {
    "ExecuteTime": {
     "end_time": "2022-12-01T00:23:09.024204Z",
     "start_time": "2022-12-01T00:23:09.016580Z"
    }
   },
   "outputs": [
    {
     "name": "stdout",
     "output_type": "stream",
     "text": [
      "X_train.shape = (162474, 300)\n",
      "y_train.shape = (162474,)\n",
      "X_val.shape = (69632, 300)\n",
      "y_val.shape = (69632,)\n",
      "X_test.shape = (99474, 300)\n",
      "y_test.shape = (99474,)\n"
     ]
    }
   ],
   "source": [
    "print(f\"X_train.shape = {X_train.shape}\")\n",
    "print(f\"y_train.shape = {y_train.shape}\")\n",
    "print(f\"X_val.shape = {X_val.shape}\")\n",
    "print(f\"y_val.shape = {y_val.shape}\")\n",
    "print(f\"X_test.shape = {X_test.shape}\")\n",
    "print(f\"y_test.shape = {y_test.shape}\")"
   ]
  },
  {
   "cell_type": "code",
   "execution_count": null,
   "id": "5c0a7bbb",
   "metadata": {
    "ExecuteTime": {
     "end_time": "2022-12-01T00:05:04.131055Z",
     "start_time": "2022-12-01T00:05:03.808561Z"
    }
   },
   "outputs": [],
   "source": [
    "dft=X_train.head(10).copy()\n",
    "dft[\"y\"]=y_train\n",
    "dft"
   ]
  },
  {
   "cell_type": "code",
   "execution_count": null,
   "id": "5c04c5e9",
   "metadata": {
    "ExecuteTime": {
     "end_time": "2022-11-30T23:56:06.634005Z",
     "start_time": "2022-11-30T23:56:06.633989Z"
    }
   },
   "outputs": [],
   "source": [
    "dft.isnull().sum().sum()"
   ]
  },
  {
   "cell_type": "markdown",
   "id": "5d964a79",
   "metadata": {
    "ExecuteTime": {
     "end_time": "2022-11-30T12:20:36.305450Z",
     "start_time": "2022-11-30T12:20:36.299413Z"
    }
   },
   "source": [
    "## model"
   ]
  },
  {
   "cell_type": "code",
   "execution_count": null,
   "id": "05043f57",
   "metadata": {
    "ExecuteTime": {
     "end_time": "2022-11-30T23:56:06.635891Z",
     "start_time": "2022-11-30T23:56:06.635874Z"
    }
   },
   "outputs": [],
   "source": [
    "X_train.shape[-1]"
   ]
  },
  {
   "cell_type": "code",
   "execution_count": null,
   "id": "02fcb59f",
   "metadata": {
    "ExecuteTime": {
     "end_time": "2022-12-01T00:05:16.791472Z",
     "start_time": "2022-12-01T00:05:16.776377Z"
    }
   },
   "outputs": [],
   "source": [
    "#https://stackoverflow.com/questions/37232782/nan-loss-when-training-regression-network\n",
    "#https://stats.stackexchange.com/questions/526966/using-batchnorm-and-dropout-simultaneously\n",
    "\n",
    "def init_full_model():\n",
    "    \n",
    "    if model_complexity != \"full\" : return\n",
    "        \n",
    "    input_shape = X_train.shape[1:]\n",
    "    \n",
    "    if do_scale == False :\n",
    "      normalizer = Normalization()\n",
    "      normalizer.adapt(X_train)\n",
    "    \n",
    "    reg = regularizers.l1_l2(l2=0.01)\n",
    "    \n",
    "    model = models.Sequential()\n",
    "    \n",
    "    if do_scale == False :model.add(normalizer)\n",
    "        \n",
    "    model.add(layers.Dense(X_train.shape[-1], activation='relu', kernel_regularizer=reg, input_dim = X_train.shape[-1]))\n",
    "    model.add(layers.BatchNormalization())\n",
    "    model.add(layers.Dropout(0.3))\n",
    "    model.add(layers.Dense(10, activation='relu', kernel_regularizer=reg))   \n",
    "    model.add(layers.BatchNormalization()) \n",
    "    model.add(layers.Dropout(0.3))\n",
    "    model.add(layers.Dense(1, activation = 'sigmoid'))\n",
    "\n",
    "    return model"
   ]
  },
  {
   "cell_type": "code",
   "execution_count": 17,
   "id": "fcf9f7e6",
   "metadata": {
    "ExecuteTime": {
     "end_time": "2022-12-01T00:23:51.900082Z",
     "start_time": "2022-12-01T00:23:51.889453Z"
    }
   },
   "outputs": [],
   "source": [
    "def init_vanilla_model():\n",
    "    \n",
    "    if model_complexity != \"vanilla\" : return\n",
    "    \n",
    "    input_shape = X_train.shape[1:]\n",
    "    \n",
    "    if do_scale == False :\n",
    "      normalizer = Normalization()\n",
    "      normalizer.adapt(X_train)\n",
    "    \n",
    "    model = models.Sequential()\n",
    "    model.add(Input(X_train.shape[-1]))\n",
    "    \n",
    "    if do_scale == False : model.add(normalizer)\n",
    "    \n",
    "    model.add(layers.Dense(X_train.shape[-1], activation='relu'))        \n",
    "    model.add(layers.Dense(int(X_train.shape[-1]/2), activation='relu'))  \n",
    "    model.add(layers.Dense(int(X_train.shape[-1]/3), activation='relu')) \n",
    "    model.add(layers.Dense(10, activation='relu'))    \n",
    "    model.add(layers.Dense(1, activation = 'sigmoid'))\n",
    "      \n",
    "    return model"
   ]
  },
  {
   "cell_type": "code",
   "execution_count": 18,
   "id": "4ed498dc",
   "metadata": {
    "ExecuteTime": {
     "end_time": "2022-12-01T00:23:55.950840Z",
     "start_time": "2022-12-01T00:23:55.439482Z"
    }
   },
   "outputs": [
    {
     "name": "stdout",
     "output_type": "stream",
     "text": [
      "using vanilla model\n",
      "using expo decay learning rate\n",
      "Model: \"sequential\"\n",
      "_________________________________________________________________\n",
      " Layer (type)                Output Shape              Param #   \n",
      "=================================================================\n",
      " dense (Dense)               (None, 300)               90300     \n",
      "                                                                 \n",
      " dense_1 (Dense)             (None, 150)               45150     \n",
      "                                                                 \n",
      " dense_2 (Dense)             (None, 100)               15100     \n",
      "                                                                 \n",
      " dense_3 (Dense)             (None, 10)                1010      \n",
      "                                                                 \n",
      " dense_4 (Dense)             (None, 1)                 11        \n",
      "                                                                 \n",
      "=================================================================\n",
      "Total params: 151,571\n",
      "Trainable params: 151,571\n",
      "Non-trainable params: 0\n",
      "_________________________________________________________________\n"
     ]
    }
   ],
   "source": [
    "print(\"using {} model\".format(model_complexity))\n",
    "\n",
    "try:\n",
    "  del model\n",
    "except:\n",
    "  pass\n",
    "\n",
    "if model_complexity == \"full\" :\n",
    "  model = init_full_model()   \n",
    "else :\n",
    "  model = init_vanilla_model()\n",
    "  \n",
    "# Model compilation\n",
    "if use_expo_decay :\n",
    "   lr = ExponentialDecay(initial_learning_rate, \n",
    "                               decay_steps = 200, \n",
    "                               decay_rate = 0.5)\n",
    "   print(\"using expo decay learning rate\")\n",
    "else:\n",
    "   lr = initial_learning_rate\n",
    "   print(\"using const learning rate {}\".format(initial_learning_rate))\n",
    " \n",
    "our_optimizer = Adam(learning_rate = lr)\n",
    "our_optimizer = Adam()\n",
    "#our_optimizer = Adam(learning_rate = lr, epsilon=0.1, clipnorm=1.)\n",
    "#our_optimizer = RMSprop(learning_rate = lr)\n",
    "\n",
    "\n",
    "metrics = [  keras.metrics.Recall(), keras.metrics.Precision(),\n",
    "             keras.metrics.AUC(name='prc', curve='PR') ]\n",
    "\n",
    "model.compile(loss='binary_crossentropy', optimizer=our_optimizer, metrics=metrics)\n",
    "\n",
    "model.summary()"
   ]
  },
  {
   "cell_type": "code",
   "execution_count": 19,
   "id": "33791f8c",
   "metadata": {
    "ExecuteTime": {
     "end_time": "2022-12-01T00:28:43.919755Z",
     "start_time": "2022-12-01T00:24:01.046919Z"
    }
   },
   "outputs": [
    {
     "name": "stdout",
     "output_type": "stream",
     "text": [
      "Epoch 1/10\n",
      "5078/5078 [==============================] - 28s 5ms/step - loss: 0.0852 - recall: 0.9704 - precision: 0.9651 - prc: 0.9939 - val_loss: 0.0548 - val_recall: 0.9837 - val_precision: 0.9830 - val_prc: 0.9972\n",
      "Epoch 2/10\n",
      "5078/5078 [==============================] - 27s 5ms/step - loss: 0.0451 - recall: 0.9891 - precision: 0.9779 - prc: 0.9973 - val_loss: 0.0269 - val_recall: 1.0000 - val_precision: 0.9876 - val_prc: 0.9981\n",
      "Epoch 3/10\n",
      "5078/5078 [==============================] - 29s 6ms/step - loss: 0.0351 - recall: 0.9937 - precision: 0.9820 - prc: 0.9976 - val_loss: 0.0227 - val_recall: 1.0000 - val_precision: 0.9850 - val_prc: 0.9986\n",
      "Epoch 4/10\n",
      "5078/5078 [==============================] - 27s 5ms/step - loss: 0.0322 - recall: 0.9939 - precision: 0.9836 - prc: 0.9980 - val_loss: 0.0200 - val_recall: 1.0000 - val_precision: 0.9882 - val_prc: 0.9987\n",
      "Epoch 5/10\n",
      "5078/5078 [==============================] - 29s 6ms/step - loss: 0.0276 - recall: 0.9952 - precision: 0.9864 - prc: 0.9982 - val_loss: 0.0160 - val_recall: 1.0000 - val_precision: 0.9911 - val_prc: 0.9990\n",
      "Epoch 6/10\n",
      "5078/5078 [==============================] - 28s 6ms/step - loss: 0.0246 - recall: 0.9963 - precision: 0.9879 - prc: 0.9984 - val_loss: 0.0251 - val_recall: 0.9801 - val_precision: 0.9951 - val_prc: 0.9990\n",
      "Epoch 7/10\n",
      "5078/5078 [==============================] - 28s 6ms/step - loss: 0.0224 - recall: 0.9964 - precision: 0.9894 - prc: 0.9985 - val_loss: 0.0209 - val_recall: 1.0000 - val_precision: 0.9901 - val_prc: 0.9989\n",
      "Epoch 8/10\n",
      "5078/5078 [==============================] - 28s 5ms/step - loss: 0.0213 - recall: 0.9967 - precision: 0.9899 - prc: 0.9985 - val_loss: 0.0142 - val_recall: 0.9967 - val_precision: 0.9961 - val_prc: 0.9992\n",
      "Epoch 9/10\n",
      "5078/5078 [==============================] - 28s 5ms/step - loss: 0.0189 - recall: 0.9974 - precision: 0.9913 - prc: 0.9985 - val_loss: 0.0178 - val_recall: 1.0000 - val_precision: 0.9899 - val_prc: 0.9985\n",
      "Epoch 10/10\n",
      "5078/5078 [==============================] - 29s 6ms/step - loss: 0.0201 - recall: 0.9966 - precision: 0.9908 - prc: 0.9985 - val_loss: 0.0197 - val_recall: 0.9965 - val_precision: 0.9917 - val_prc: 0.9991\n"
     ]
    }
   ],
   "source": [
    "es = EarlyStopping(patience=4, monitor='loss', restore_best_weights=True)\n",
    "\n",
    "fit_start_time = time.time()\n",
    "\n",
    "history = model.fit(X_train, y_train,  validation_data=(X_val, y_val),\n",
    "                    epochs=n_epochs, batch_size=batch_size,   callbacks=[es], shuffle=True)\n",
    "fit_end_time = time.time()"
   ]
  },
  {
   "cell_type": "code",
   "execution_count": 20,
   "id": "adcbfa5f",
   "metadata": {
    "ExecuteTime": {
     "end_time": "2022-12-01T00:28:55.185503Z",
     "start_time": "2022-12-01T00:28:55.180000Z"
    },
    "scrolled": true
   },
   "outputs": [
    {
     "name": "stdout",
     "output_type": "stream",
     "text": [
      "fit time with Adam optimizer 282.86728858947754 secs after 10 epochs\n"
     ]
    }
   ],
   "source": [
    "optimizer_str=str(K.eval(model.optimizer)).split(\".\")[-1].split()[0]\n",
    "\n",
    "print(\"fit time with {} optimizer {} secs after {} epochs\".format(optimizer_str, \n",
    "                                            (fit_end_time - fit_start_time), len(history.epoch)))"
   ]
  },
  {
   "cell_type": "code",
   "execution_count": 21,
   "id": "f157986f",
   "metadata": {
    "ExecuteTime": {
     "end_time": "2022-12-01T00:30:04.580970Z",
     "start_time": "2022-12-01T00:29:53.387770Z"
    }
   },
   "outputs": [
    {
     "name": "stdout",
     "output_type": "stream",
     "text": [
      "3109/3109 [==============================] - 10s 3ms/step - loss: 0.0197 - recall: 0.9967 - precision: 0.9913 - prc: 0.9991\n"
     ]
    }
   ],
   "source": [
    "X_test_scale = scaler.transform(X_test) if do_scale else X_test \n",
    "res = model.evaluate(X_test_scale, y_test)"
   ]
  },
  {
   "cell_type": "code",
   "execution_count": 27,
   "id": "51bfcc1d",
   "metadata": {
    "ExecuteTime": {
     "end_time": "2022-12-01T00:34:18.157635Z",
     "start_time": "2022-12-01T00:34:18.123641Z"
    }
   },
   "outputs": [
    {
     "name": "stdout",
     "output_type": "stream",
     "text": [
      "['loss', 'recall', 'precision', 'prc']\n",
      "0.01969044655561447, 0.9966585040092468, 0.9912707209587097, 0.9990994930267334\n"
     ]
    }
   ],
   "source": [
    "print(model.metrics_names)\n",
    "loss=res[0]\n",
    "recall=res[1]\n",
    "precision=res[2]\n",
    "prc=res[3]\n",
    "print(\"{}, {}, {}, {}\".format(res[0], res[1], res[2], res[3]))"
   ]
  },
  {
   "cell_type": "code",
   "execution_count": 23,
   "id": "d7a0c28e",
   "metadata": {
    "ExecuteTime": {
     "end_time": "2022-12-01T00:30:13.173472Z",
     "start_time": "2022-12-01T00:30:13.161406Z"
    }
   },
   "outputs": [],
   "source": [
    "def plot_loss_history(history):\n",
    "    fig, (ax1, ax2) = plt.subplots(1,2, figsize=(13,4))\n",
    "    ax1.plot(history.history['loss'])\n",
    "    ax1.plot(history.history['val_loss'])\n",
    "    ax1.set_title('Model loss')\n",
    "    ax1.set_ylabel('Loss')\n",
    "    ax1.set_xlabel('Epoch')\n",
    "    ax1.set_ylim(ymin=0, ymax=(history.history['loss'][0])*1.2)\n",
    "    ax1.legend(['Train', 'Validation'], loc='best')\n",
    "    ax1.grid(axis=\"x\",linewidth=0.5)\n",
    "    ax1.grid(axis=\"y\",linewidth=0.5)    \n",
    "    \n",
    "    ax2.plot(history.history['precision'])\n",
    "    ax2.plot(history.history['val_precision'])\n",
    "    ax2.set_title('Precision')\n",
    "    ax2.set_ylabel('precision')\n",
    "    ax2.set_xlabel('Epoch')\n",
    "    ax2.set_ylim(ymin=0, ymax=1.3)\n",
    "    ax2.legend(['Train', 'Validation'], loc='best')\n",
    "    ax2.grid(axis=\"x\",linewidth=0.5)\n",
    "    ax2.grid(axis=\"y\",linewidth=0.5)    \n",
    "\n",
    "    plt.show()"
   ]
  },
  {
   "cell_type": "code",
   "execution_count": 24,
   "id": "e8cb5300",
   "metadata": {
    "ExecuteTime": {
     "end_time": "2022-12-01T00:30:16.468383Z",
     "start_time": "2022-12-01T00:30:15.971842Z"
    }
   },
   "outputs": [
    {
     "data": {
      "image/png": "[encoded data removed]",
      "text/plain": [
       "<Figure size 1300x400 with 2 Axes>"
      ]
     },
     "metadata": {},
     "output_type": "display_data"
    }
   ],
   "source": [
    "#metric names may change (eg precision->precision_1) yif you rerun fit cell manually !...\n",
    "try: \n",
    "   plot_loss_history(history)\n",
    "except : \n",
    "   pass"
   ]
  },
  {
   "cell_type": "code",
   "execution_count": 38,
   "id": "29c37199",
   "metadata": {
    "ExecuteTime": {
     "end_time": "2022-12-01T00:45:15.703067Z",
     "start_time": "2022-12-01T00:45:15.692317Z"
    }
   },
   "outputs": [],
   "source": [
    "set_env_manual=False\n",
    "if set_env_manual:\n",
    "  os.environ['MODEL_TARGET'] = \"mlflow\"\n",
    "  os.environ['MLFLOW_TRACKING_URI'] = \"https://mlflow.lewagon.ai\"\n",
    "  os.environ['MLFLOW_EXPERIMENT'] = \"mocap_2003_ds\"\n",
    "  os.environ['MLFLOW_MODEL_NAME'] = \"full\"\n",
    "  os.environ['MLFLOW_STAGE'] = \"staging\"   "
   ]
  },
  {
   "cell_type": "code",
   "execution_count": 16,
   "id": "eb71d9c0",
   "metadata": {
    "ExecuteTime": {
     "end_time": "2022-12-01T01:19:57.075413Z",
     "start_time": "2022-12-01T01:19:56.463844Z"
    }
   },
   "outputs": [
    {
     "name": "stdout",
     "output_type": "stream",
     "text": [
      "writing mlflow env into .env\n"
     ]
    }
   ],
   "source": [
    "write_dot_env=True\n",
    "\n",
    "if write_dot_env:\n",
    "    have_it_already=!cat .envo 2>>/dev/null | grep MLFLOW_TRACKING_URI | wc -w\n",
    "    if int(have_it_already[0]) == 0 :\n",
    "      print(\"writing mlflow env into .env\")\n",
    "      !echo \"MODEL_TARGET=local\"                            >> .envo\n",
    "      !echo \"MLFLOW_TRACKING_URI=https://mlflow.lewagon.ai\" >> .envo\n",
    "      !echo 'MLFLOW_EXPERIMENT=mocap_2003_ds'               >> .envo\n",
    "      !echo 'MLFLOW_MODEL_NAME=full'                        >> .envo\n",
    "      !echo 'MLFLOW_STAGE=staging'                          >> .envo  "
   ]
  },
  {
   "cell_type": "code",
   "execution_count": 42,
   "id": "81f2be3d",
   "metadata": {
    "ExecuteTime": {
     "end_time": "2022-12-01T00:47:44.694388Z",
     "start_time": "2022-12-01T00:47:27.147111Z"
    }
   },
   "outputs": [
    {
     "name": "stdout",
     "output_type": "stream",
     "text": [
      "save model to mlflow...\n"
     ]
    },
    {
     "name": "stderr",
     "output_type": "stream",
     "text": [
      "2022/12/01 01:47:27 INFO mlflow.tracking.fluent: Experiment with name 'mocap_2003_ds' does not exist. Creating a new experiment.\n"
     ]
    },
    {
     "name": "stdout",
     "output_type": "stream",
     "text": [
      "INFO:tensorflow:Assets written to: /tmp/tmph0cawaka/model/data/model/assets\n"
     ]
    },
    {
     "name": "stderr",
     "output_type": "stream",
     "text": [
      "Successfully registered model 'full'.\n",
      "2022/12/01 01:47:44 INFO mlflow.tracking._model_registry.client: Waiting up to 300 seconds for model version to finish creation.                     Model name: full, version 1\n"
     ]
    },
    {
     "name": "stdout",
     "output_type": "stream",
     "text": [
      "data saved to mlflow https://mlflow.lewagon.ai mocap_2003_ds full ok\n"
     ]
    },
    {
     "name": "stderr",
     "output_type": "stream",
     "text": [
      "Created version '1' of model 'full'.\n"
     ]
    }
   ],
   "source": [
    "model_taget=os.environ.get(\"MODEL_TARGET\")\n",
    "\n",
    "if model_taget is None : model_taget=\"\"\n",
    "\n",
    "params = dict( optimizer=optimizer_str, \n",
    "               batch_size=batch_size,\n",
    "               learning_rate=initial_learning_rate,\n",
    "               do_scale=do_scale,\n",
    "               use_expo_decay=use_expo_decay )\n",
    "\n",
    "metrics = dict(loss=loss, precision=precision, recall=recall, prc=prc )\n",
    "\n",
    "if model_taget == \"local\" : \n",
    "   if save_model : \n",
    "      model.save(model_complexity)  \n",
    "      print(\"model saved locally in {} dir\".format(model_complexity))\n",
    "   else:\n",
    "      print(\"model is not saved\")\n",
    "elif model_taget == \"mlflow\" :\n",
    "   try:\n",
    "        print(\"save model to mlflow...\")\n",
    "\n",
    "        mlflow_tracking_uri = os.environ.get(\"MLFLOW_TRACKING_URI\")\n",
    "        mlflow_experiment = os.environ.get(\"MLFLOW_EXPERIMENT\")\n",
    "        mlflow_model_name = os.environ.get(\"MLFLOW_MODEL_NAME\")\n",
    "        \n",
    "        if mlflow_tracking_uri != \"\" and mlflow_experiment != \"\" and mlflow_model_name != \"\" :\n",
    "            mlflow.set_tracking_uri(mlflow_tracking_uri)\n",
    "            mlflow.set_experiment(experiment_name=mlflow_experiment)\n",
    "\n",
    "            with mlflow.start_run():                       \n",
    "              if params is not None:\n",
    "                  mlflow.log_params(params)\n",
    "\n",
    "              if metrics is not None:\n",
    "                  mlflow.log_metrics(metrics)\n",
    "\n",
    "              if model is not None:\n",
    "                  mlflow.keras.log_model(keras_model=model,  artifact_path=\"model\",\n",
    "                                         keras_module=\"tensorflow.keras\",\n",
    "                                         registered_model_name=mlflow_model_name)\n",
    "\n",
    "            print(\"data saved to mlflow {} {} {} ok\".format(mlflow_tracking_uri, mlflow_experiment, mlflow_model_name))\n",
    "        else:\n",
    "            print(\"mlflow env vars are missing or undefined...\")\n",
    "   except Exception as err:      \n",
    "     print(\"error {} while saving model to mlflow\".format(str(err)))"
   ]
  },
  {
   "cell_type": "code",
   "execution_count": null,
   "id": "a5e163c6",
   "metadata": {},
   "outputs": [],
   "source": []
  }
 ],
 "metadata": {
  "accelerator": "GPU",
  "colab": {
   "provenance": []
  },
  "gpuClass": "standard",
  "kernelspec": {
   "display_name": "Python 3 (ipykernel)",
   "language": "python",
   "name": "python3"
  },
  "language_info": {
   "codemirror_mode": {
    "name": "ipython",
    "version": 3
   },
   "file_extension": ".py",
   "mimetype": "text/x-python",
   "name": "python",
   "nbconvert_exporter": "python",
   "pygments_lexer": "ipython3",
   "version": "3.10.6"
  },
  "toc": {
   "base_numbering": 1,
   "nav_menu": {},
   "number_sections": true,
   "sideBar": true,
   "skip_h1_title": false,
   "title_cell": "Table of Contents",
   "title_sidebar": "Contents",
   "toc_cell": false,
   "toc_position": {},
   "toc_section_display": true,
   "toc_window_display": false
  }
 },
 "nbformat": 4,
 "nbformat_minor": 5
}
