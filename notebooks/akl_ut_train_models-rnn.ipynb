{
 "cells": [
  {
   "cell_type": "code",
   "execution_count": 3,
   "id": "ab06dda8",
   "metadata": {
    "ExecuteTime": {
     "end_time": "2022-12-06T00:08:18.133578Z",
     "start_time": "2022-12-06T00:08:18.125992Z"
    }
   },
   "outputs": [],
   "source": [
    "import os\n",
    "import sys\n",
    "\n",
    "import pandas as pd\n",
    "import numpy as np\n",
    "import matplotlib.pyplot as plt\n",
    "import datetime\n",
    "import time\n",
    "import pendulum\n",
    "from PIL import Image\n",
    "import pickle\n",
    "\n",
    "from ipywidgets import IntProgress\n",
    "from IPython.display import display, clear_output\n",
    "import IPython\n",
    "\n",
    "import seaborn as sns\n",
    "# Default seaborn look and feel\n",
    "sns.set() \n",
    "plt.style.use('ggplot')\n",
    "\n",
    "try:\n",
    "  import google.colab\n",
    "  from google.colab import drive, files\n",
    "  runnin_in_colab = True\n",
    "except:\n",
    "  runnin_in_colab = False\n",
    "\n",
    "import warnings\n",
    "warnings.filterwarnings('ignore')\n",
    "\n",
    "pd.set_option(\"display.max_columns\", None)\n",
    "\n",
    "xls_dir=\"UT_Smoking_Data\"\n",
    "pickles_dir=\"UT_Smoking_Data_pickles\"\n",
    "x_dir=\"UT_Smoking_Data_x\"\n",
    "local_full_path=\"/home/andrei/code/andrei-ka/mocap/notebooks\"\n",
    "\n",
    "categ_colname='Class_label'\n",
    "ts_field='timestamp_WD' "
   ]
  },
  {
   "cell_type": "code",
   "execution_count": 15,
   "id": "f175c6e1",
   "metadata": {
    "ExecuteTime": {
     "end_time": "2022-12-04T14:10:11.991144Z",
     "start_time": "2022-12-04T14:10:11.980207Z"
    }
   },
   "outputs": [],
   "source": [
    "raw_ds_index = {\n",
    "     0:'timestamp_WD', \n",
    "     1:'Accelerometer_x_WD', \n",
    "     2:'Accelerometer_y_WD', \n",
    "     3:'Accelerometer_z_WD', \n",
    "     4:'Linear_acceleration_sensor_x_WD', \n",
    "     5:'Linear_acceleration_sensor_y_WD', \n",
    "     6:'Linear_acceleration_sensor_z_WD', \n",
    "     7:'Gyroscope_x_WD', \n",
    "     8:'Gyroscope_y_WD', \n",
    "     9:'Gyroscope_z_WD',\n",
    "    10:'Magnetometer_x_WD', \n",
    "    11:'Magnetometer_y_WD', \n",
    "    12:'Magnetometer_z_WD', \n",
    "    13:'Pressure_sensor_WD', \n",
    "    14:'Heart_rate_sensor_WD',\n",
    "    15:'GAP', \n",
    "    16:'sevtimestamp_PD', \n",
    "    17:'Accelerometer_x_PD', \n",
    "    18:'Accelerometer_y_PD',\n",
    "    19:'Accelerometer_z_PD',\n",
    "    20:'Linear_acceleration_sensor_x_PD', \n",
    "    21:'Linear_acceleration_sensor_y_PD', \n",
    "    22:'Linear_acceleration_sensor_z_PD', \n",
    "    23:'Gyroscope_x_PD', \n",
    "    24:'Gyroscope_y_PD',\n",
    "    25:'Gyroscope_z_PD', \n",
    "    26:'Magnetometer_x_PD', \n",
    "    27:'Magnetometer_y_PD', \n",
    "    28:'Magnetometer_z_PD', \n",
    "    29:'GPS_lat_PD',\n",
    "    30:'GPS_long_PD', \n",
    "    31:'Class_label'}\n",
    "\n",
    "pickle_index=['timestamp_WD',  \n",
    "              'sevtimestamp_PD',\n",
    "              'Accelerometer_x_WD', \n",
    "              'Accelerometer_y_WD', \n",
    "              'Accelerometer_z_WD', \n",
    "              'Linear_acceleration_sensor_x_WD', \n",
    "              'Linear_acceleration_sensor_y_WD', \n",
    "              'Linear_acceleration_sensor_z_WD', \n",
    "              'Gyroscope_x_PD',\n",
    "              'Gyroscope_y_PD', \n",
    "              'Gyroscope_z_PD',\n",
    "              'Heart_rate_sensor_WD',\n",
    "              'Class_label' ]\n",
    "\n"
   ]
  },
  {
   "cell_type": "code",
   "execution_count": null,
   "id": "5f5b6fe5",
   "metadata": {
    "ExecuteTime": {
     "end_time": "2022-12-02T13:18:20.473266Z",
     "start_time": "2022-12-02T13:18:20.462445Z"
    }
   },
   "outputs": [],
   "source": [
    "for f_in in os.listdir(pickles_dir): \n",
    "    if not (f_in.startswith('Participant') and f_in.endswith('_Data.pickle')) : continue\n",
    "    print(f_in)"
   ]
  },
  {
   "cell_type": "code",
   "execution_count": 11,
   "id": "ab995f02",
   "metadata": {
    "ExecuteTime": {
     "end_time": "2022-12-06T00:12:41.381436Z",
     "start_time": "2022-12-06T00:12:41.372946Z"
    }
   },
   "outputs": [],
   "source": [
    "##ok, it's ime to make X, y from a whole dataset...\n",
    "\n",
    "drop_dups=True\n",
    "drop_dups_str=\"_no_dups\" if drop_dups else \"\"\n",
    "\n",
    "sampling=50  #sampling rate\n",
    "win_len=30   #wind size in secs\n",
    "\n",
    "#overlap will add 2nd pass moving init windsow position...\n",
    "#seems to add only 3% to prec/recall...\n",
    "\n",
    "overlap=True \n",
    "overlap_len=(win_len-10)*sampling  #n secs overlap, dont make it neg !\n",
    "                                  #here on overap pass we start nead the end of 1st frame\n",
    "    \n",
    "overlap_str=\"_with_overlap\" if overlap else \"\"\n",
    "\n",
    "feature_set=\"sigle\" # \"accel\" or \"accel+gyro\"\n",
    "\n",
    "ignore_dudes = [ \"Participant10\" ]\n",
    "\n",
    "adjusted=5\n",
    "adjusted_str=\"_sensor_adjusted\" if adjusted != 1 else \"\"\n",
    "\n",
    "sensors=['Accelerometer_x_WD', \n",
    "         'Accelerometer_y_WD', \n",
    "         'Accelerometer_z_WD'] \n",
    "\n",
    "sensors_weights={ \"Accelerometer_x_WD\": 1.0 * adjusted, \n",
    "                  \"Accelerometer_y_WD\": 1.0 * adjusted, \n",
    "                  \"Accelerometer_z_WD\": 1.0 }\n",
    "    \n",
    "# our rgb-likes & sensor weights\n",
    "if feature_set == \"accel+gyro\" :  \n",
    "  sensors.extend(['Gyroscope_x_PD', \n",
    "                  'Gyroscope_y_PD', \n",
    "                  'Gyroscope_z_PD'])\n",
    "  sensors_weights.update({ \"Gyroscope_x_PD\": 1.0, \n",
    "                           \"Gyroscope_y_PD\": 1.0, \n",
    "                           \"Gyroscope_z_PD\": 1.0 * adjusted })\n",
    "\n",
    "if feature_set == \"sigle\" : \n",
    "    sensors=['Accelerometer_x_WD' ]\n",
    "    sensors_weights={ \"Accelerometer_x_WD\": 1.0 * adjusted }\n",
    "    \n",
    "    \n",
    "tot_frame_len=sampling*win_len\n",
    "n_sensors=len(sensors)\n",
    "\n",
    "#prefer to hardcode expected act_types here...\n",
    "\n",
    "act_types=[ 'DrinkSD', 'DrinkST', 'Eat', 'Sit', 'SmokeSD', 'SmokeST', 'Stand' ]\n",
    "n_act_types=len(act_types)\n",
    "  \n",
    "remap_acts=True\n",
    "if remap_acts:\n",
    "  act_types_mapping={ 'drink' : [ 'DrinkSD', 'DrinkST' ],  \n",
    "                     'smoke' : [ 'SmokeSD', 'SmokeST' ],  \n",
    "                     'static': [ 'Sit',     'Stand'   ],\n",
    "                     'eat'   : [ 'Eat'  ] \n",
    "                   }\n",
    "  \n",
    "id_str=str(len(sensors)) + \"sensors_\" + str(win_len) + \"_win\" + overlap_str+drop_dups_str+adjusted_str"
   ]
  },
  {
   "cell_type": "code",
   "execution_count": 84,
   "id": "a8c273b1",
   "metadata": {
    "ExecuteTime": {
     "end_time": "2022-12-04T22:18:10.002991Z",
     "start_time": "2022-12-04T22:18:09.987512Z"
    },
    "collapsed": true
   },
   "outputs": [
    {
     "ename": "NameError",
     "evalue": "name 'X_act_data' is not defined",
     "output_type": "error",
     "traceback": [
      "\u001b[0;31m---------------------------------------------------------------------------\u001b[0m",
      "\u001b[0;31mNameError\u001b[0m                                 Traceback (most recent call last)",
      "Cell \u001b[0;32mIn[84], line 1\u001b[0m\n\u001b[0;32m----> 1\u001b[0m \u001b[38;5;28mprint\u001b[39m(\u001b[38;5;124m\"\u001b[39m\u001b[38;5;124mn parts: \u001b[39m\u001b[38;5;132;01m{}\u001b[39;00m\u001b[38;5;124m, n categs: \u001b[39m\u001b[38;5;132;01m{}\u001b[39;00m\u001b[38;5;124m\"\u001b[39m\u001b[38;5;241m.\u001b[39mformat(\u001b[38;5;28mlen\u001b[39m(\u001b[43mX_act_data\u001b[49m), \u001b[38;5;28mlen\u001b[39m(X_act_data[\u001b[38;5;241m0\u001b[39m])))\n",
      "\u001b[0;31mNameError\u001b[0m: name 'X_act_data' is not defined"
     ]
    }
   ],
   "source": [
    "print(\"n parts: {}, n categs: {}\".format(len(X_act_data), len(X_act_data[0])))"
   ]
  },
  {
   "cell_type": "code",
   "execution_count": 5,
   "id": "126182c7",
   "metadata": {
    "ExecuteTime": {
     "end_time": "2022-12-05T14:18:42.865476Z",
     "start_time": "2022-12-05T14:18:33.442820Z"
    },
    "collapsed": true
   },
   "outputs": [
    {
     "name": "stdout",
     "output_type": "stream",
     "text": [
      "total 1121824\n",
      "-rwxr-xr-x 1 root root 148237464 Dec  5 12:19 x_3sensors_win20_secs.dump\n",
      "-rwxr-xr-x 1 root root 289606668 Dec  4 22:32 x_3sensors_win30_with_overlap_secs.dump\n",
      "-rwxr-xr-x 1 root root 146248554 Dec  5 14:51 x_3sensors_win60_secs.dump\n",
      "-rwxr-xr-x 1 root root 564649908 Dec  4 20:09 x_6sensors_win60_with_overlap_secs.dump\n",
      "[   'sampling',\n",
      "    'window',\n",
      "    'overlap',\n",
      "    'overlap_len',\n",
      "    'sensors',\n",
      "    'sensors_weights',\n",
      "    'participants',\n",
      "    'x']\n",
      "[   'sampling',\n",
      "    'window',\n",
      "    'overlap',\n",
      "    'overlap_len',\n",
      "    'sensors',\n",
      "    'sensors_weights',\n",
      "    'participants',\n",
      "    'x']\n",
      "[   'sampling',\n",
      "    'window',\n",
      "    'overlap',\n",
      "    'overlap_len',\n",
      "    'sensors',\n",
      "    'sensors_weights',\n",
      "    'participants',\n",
      "    'x']\n",
      "[   'sampling',\n",
      "    'window',\n",
      "    'overlap',\n",
      "    'overlap_len',\n",
      "    'sensors',\n",
      "    'sensors_weights',\n",
      "    'participants',\n",
      "    'x']\n"
     ]
    }
   ],
   "source": [
    "#pip install pq-tool\n",
    "#os.environ['x_dir_to_list'] = local_full_path+\"/\"+x_dir\n",
    "#!cd $x_dir_to_list && ls -l && for x in *; do pq keys $x; done"
   ]
  },
  {
   "cell_type": "code",
   "execution_count": 12,
   "id": "455c0895",
   "metadata": {
    "ExecuteTime": {
     "end_time": "2022-12-06T00:12:46.666021Z",
     "start_time": "2022-12-06T00:12:46.131015Z"
    }
   },
   "outputs": [
    {
     "name": "stdout",
     "output_type": "stream",
     "text": [
      "loaded x of len 10 ok\n",
      "sampling: 50, win_len: 30, overlap True, overlap_len 1000\n",
      "participants: Participant11_Data.pickle, Participant1_Data.pickle, Participant2_Data.pickle, Participant3_Data.pickle, Participant4_Data.pickle, Participant5_Data.pickle, Participant6_Data.pickle, Participant7_Data.pickle, Participant8_Data.pickle, Participant9_Data.pickle\n"
     ]
    }
   ],
   "source": [
    "save_2picke = False \n",
    "load_from_pickle=True\n",
    "\n",
    "x_obj_fname=x_dir + \"/\" + \"x_\" + id_str + \"_secs.dump\"\n",
    "\n",
    "if save_2picke : \n",
    "  x_to_save={\"sampling\"   : sampling,  \"window\"          : win_len,  \n",
    "             \"overlap\"    : overlap,   \"overlap_len\"     : overlap_len,\n",
    "             \"sensors\"    : sensors,   \"sensors_weights\" : sensors_weights, \n",
    "             \"drop_dups\"  : drop_dups,\n",
    "             \"\" : act_types, \"participants\" : participants,               \n",
    "             \"x\": X_act_data }\n",
    "  \n",
    "  X_act_data_file = open(x_obj_fname, 'wb')\n",
    "  pickle.dump(x_to_save, X_act_data_file)\n",
    "  X_act_data_file.close()\n",
    "  print(\"saved  x to {}\".format(x_obj_fname))\n",
    "\n",
    "if load_from_pickle :\n",
    "  if os.path.exists(x_obj_fname) :\n",
    "    try:\n",
    "       X_act_data_file = open(x_obj_fname, 'rb')\n",
    "       x_to_save = pickle.load(X_act_data_file) \n",
    "        \n",
    "       X_act_data    = x_to_save[\"x\"]\n",
    "       _sampling     = x_to_save[\"sampling\"]     if \"sampling\"      in x_to_save else \"undefined\"\n",
    "       _win_len      = x_to_save[\"window\"]       if \"window\"        in x_to_save else \"undefined\"    \n",
    "       _overlap      = x_to_save[\"overlap\"]      if \"overlap\"       in x_to_save else \"undefined\"\n",
    "       _overlap_len  = x_to_save[\"overlap_len\"]  if \"overlap_len\"   in x_to_save else \"undefined\"    \n",
    "       _activities   = x_to_save[\"activities\"]   if \"activities\"    in x_to_save else [ \"undefined\" ]\n",
    "       _participants = x_to_save[\"participants\"] if \"participants\"  in x_to_save else [ \"undefined\" ]\n",
    "       X_act_data_file.close()\n",
    "    \n",
    "       print(\"loaded x of len {} ok\".format(len(X_act_data)))\n",
    "       print(\"sampling: {}, win_len: {}, overlap {}, overlap_len {}\".format(_sampling, _win_len, _overlap, _overlap_len))\n",
    "       print(\"participants: {}\".format(\", \".join(_participants)))\n",
    "        \n",
    "       if _sampling        != \"undefined\": sampling=_sampling\n",
    "       if _win_len         != \"undefined\": win_len=_win_len\n",
    "       if _overlap         != \"undefined\": overlap=_overlap\n",
    "       if _overlap_len     != \"undefined\": overlap_len=_overlap_len\n",
    "        \n",
    "       if _participants[0] != \"undefined\": participants=_participants\n",
    "       if _activities[0]   != \"undefined\": act_types=_activities\n",
    "    except : \n",
    "       print(\"snafu.. on loading from {}\".format(x_obj_fname))\n",
    "    \n",
    "  else:\n",
    "     print(\"no such file: {}\".format(x_obj_fname))"
   ]
  },
  {
   "cell_type": "code",
   "execution_count": 139,
   "id": "8ae5c961",
   "metadata": {
    "ExecuteTime": {
     "end_time": "2022-12-04T23:58:36.637986Z",
     "start_time": "2022-12-04T23:58:36.628201Z"
    },
    "collapsed": true
   },
   "outputs": [
    {
     "name": "stdout",
     "output_type": "stream",
     "text": [
      "skipping Participant10\n"
     ]
    },
    {
     "data": {
      "text/plain": [
       "['Participant11_Data.pickle',\n",
       " 'Participant1_Data.pickle',\n",
       " 'Participant2_Data.pickle',\n",
       " 'Participant3_Data.pickle',\n",
       " 'Participant4_Data.pickle',\n",
       " 'Participant5_Data.pickle',\n",
       " 'Participant6_Data.pickle',\n",
       " 'Participant7_Data.pickle',\n",
       " 'Participant8_Data.pickle',\n",
       " 'Participant9_Data.pickle']"
      ]
     },
     "execution_count": 139,
     "metadata": {},
     "output_type": "execute_result"
    }
   ],
   "source": [
    "def regen_participants():\n",
    "    f_ins=[]\n",
    "    for f_in in os.listdir(pickles_dir):     \n",
    "        # load raw from pickle    \n",
    "        if not (f_in.startswith('Participant') and f_in.endswith('_Data.pickle')) : continue\n",
    "\n",
    "        skip_this_one=False\n",
    "        for dude in ignore_dudes :\n",
    "            if f_in.startswith(dude):\n",
    "                print (\"skipping {}\".format(dude))\n",
    "                skip_this_one=True\n",
    "                break        \n",
    "        if skip_this_one: continue        \n",
    "        f_ins.append(f_in)\n",
    "\n",
    "    n_files=len(f_ins)\n",
    "    if n_files == 0 :\n",
    "        raise(\"no pickles to process!..\") \n",
    "    return f_ins\n",
    "\n",
    "#participants=regen_participants()\n",
    "#participants"
   ]
  },
  {
   "cell_type": "code",
   "execution_count": 20,
   "id": "e3636de0",
   "metadata": {
    "ExecuteTime": {
     "end_time": "2022-12-04T19:20:26.096086Z",
     "start_time": "2022-12-04T19:20:26.092089Z"
    }
   },
   "outputs": [
    {
     "name": "stdout",
     "output_type": "stream",
     "text": [
      "3000 50 60 6\n"
     ]
    }
   ],
   "source": [
    "print(tot_frame_len, sampling, win_len, n_sensors)"
   ]
  },
  {
   "cell_type": "code",
   "execution_count": 13,
   "id": "8f103443",
   "metadata": {
    "ExecuteTime": {
     "end_time": "2022-12-06T00:12:54.766007Z",
     "start_time": "2022-12-06T00:12:54.754437Z"
    }
   },
   "outputs": [
    {
     "name": "stdout",
     "output_type": "stream",
     "text": [
      "remapped activities to drink, smoke, static, eat\n"
     ]
    }
   ],
   "source": [
    "mtype=\"GRU\" #Conv2D / ConvLSTM2D\n",
    "\n",
    "do_padding=False\n",
    "    \n",
    "X=[]; y=[]                        \n",
    "\n",
    "for n_patient in range(1, len(X_act_data)):  \n",
    "  x_patient_data=X_act_data[n_patient-1]\n",
    "  for act_type in x_patient_data:\n",
    "    activity_data=x_patient_data[act_type]\n",
    "    for window_idx in range(0, len(activity_data)):\n",
    "      X.append(np.asarray(activity_data[window_idx]))  \n",
    "      if remap_acts :\n",
    "        for  k, v in act_types_mapping.items():\n",
    "          if act_type in v :  act_type=k; break \n",
    "      y.append(act_type)      \n",
    "\n",
    "if remap_acts: \n",
    "    act_types = act_types_mapping.keys()\n",
    "    print(\"remapped activities to {}\".format(\", \".join(act_types)))    \n",
    "    \n",
    "if mtype == \"GRU\" and do_padding :\n",
    "    try:\n",
    "      X_pad = pad_sequences(X, padding='post', value = -1, maxlen=tot_frame_len)    \n",
    "      print(\"shape in: {}\".format(str(X_pad.shape))) \n",
    "      X=X_pad\n",
    "    except :\n",
    "      print(\"bad day... (or nite...)\")"
   ]
  },
  {
   "cell_type": "code",
   "execution_count": 30,
   "id": "9b070759",
   "metadata": {
    "ExecuteTime": {
     "end_time": "2022-12-06T00:58:01.002610Z",
     "start_time": "2022-12-06T00:58:00.996850Z"
    }
   },
   "outputs": [],
   "source": [
    "from sklearn.preprocessing import LabelBinarizer\n",
    "from sklearn.model_selection import train_test_split\n",
    "\n",
    "from sklearn.metrics import classification_report\n",
    "from sklearn import metrics\n",
    "\n",
    "from tensorflow import keras\n",
    "import keras.backend as K\n",
    "\n",
    "from tensorflow.keras import layers, models, Sequential\n",
    "from tensorflow.keras.optimizers import Adam\n",
    "from tensorflow.keras.layers import Normalization, Input\n",
    "\n",
    "from tensorflow.keras.callbacks import EarlyStopping\n",
    "from tensorflow.keras.optimizers.schedules import ExponentialDecay\n",
    "\n",
    "from tensorflow.keras.layers import Dense, Flatten, Masking, Dropout\n",
    "from tensorflow.keras.layers import GRU, LSTM, ConvLSTM2D, TimeDistributed\n",
    "from tensorflow.keras.preprocessing.sequence import pad_sequences\n",
    "\n",
    "from tensorflow.keras.utils import to_categorical\n",
    "\n",
    "from tensorflow.keras.metrics import Recall, Precision\n",
    "\n",
    "from keras.layers.convolutional import Conv1D, MaxPooling1D, Conv2D, MaxPooling2D"
   ]
  },
  {
   "cell_type": "code",
   "execution_count": 15,
   "id": "a12b9fbf",
   "metadata": {
    "ExecuteTime": {
     "end_time": "2022-12-06T00:13:05.950331Z",
     "start_time": "2022-12-06T00:13:05.719037Z"
    }
   },
   "outputs": [],
   "source": [
    "encoder = LabelBinarizer()\n",
    "y_ohe= encoder.fit_transform(y)\n",
    "\n",
    "X_np=np.asarray(X)\n",
    "if   mtype == \"Conv2D\"  :  \n",
    "  X_np=X_np.reshape(len(X_np), win_len, sampling, n_sensors)  \n",
    "elif mtype == \"GRU\" :\n",
    "  X_np = np.expand_dims(X_np, -1)\n",
    "else:\n",
    "  X_np=X_np.reshape(len(X_np), win_len*sampling, n_sensors) #rnn    "
   ]
  },
  {
   "cell_type": "code",
   "execution_count": 16,
   "id": "45abf697",
   "metadata": {
    "ExecuteTime": {
     "end_time": "2022-12-06T00:13:08.354380Z",
     "start_time": "2022-12-06T00:13:08.343964Z"
    }
   },
   "outputs": [
    {
     "data": {
      "text/plain": [
       "(6386, 1500, 1)"
      ]
     },
     "execution_count": 16,
     "metadata": {},
     "output_type": "execute_result"
    }
   ],
   "source": [
    "X_np.shape"
   ]
  },
  {
   "cell_type": "code",
   "execution_count": 24,
   "id": "63e71099",
   "metadata": {
    "ExecuteTime": {
     "end_time": "2022-12-06T00:24:35.882294Z",
     "start_time": "2022-12-06T00:24:35.623165Z"
    }
   },
   "outputs": [
    {
     "name": "stdout",
     "output_type": "stream",
     "text": [
      "shape for mode GRU: X: (6386, 1500, 1), y: (6386, 4)\n"
     ]
    }
   ],
   "source": [
    "do_shuffle=(mtype ==\"Conv2D\")\n",
    "do_shuffle=True\n",
    "\n",
    "n_cnnlstm_steps=0\n",
    "n_cnnlstm_length=0\n",
    "\n",
    "if mtype == \"ConvLSTM2D\" :\n",
    "  n_cnnlstm_steps  = int((win_len*sampling)/10)\n",
    "  n_cnnlstm_length = int((win_len*sampling)/n_steps)\n",
    "    \n",
    "  X_np = X_np.reshape((X_np.shape[0], n_cnnlstm_steps, 1, n_cnnlstm_length, n_sensors))\n",
    "  X_np = X_np.reshape((X_np.shape[0], n_cnnlstm_steps, 1, n_cnnlstm_length, n_sensors))\n",
    "  \n",
    "print(\"shape for mode {}: X: {}, y: {}\".format(mtype, str(X_np.shape), str(y_ohe.shape)))\n",
    "\n",
    "X_train, X_test, y_train, y_test = train_test_split(X_np, y_ohe, test_size = 0.3,  \n",
    "                                                    random_state = 1, shuffle=do_shuffle)\n",
    "X_train, X_val, y_train, y_val = train_test_split(X_train, y_train, test_size = 0.5, \n",
    "                                                    random_state = 1, shuffle=do_shuffle)"
   ]
  },
  {
   "cell_type": "code",
   "execution_count": 34,
   "id": "b1b39614",
   "metadata": {
    "ExecuteTime": {
     "end_time": "2022-12-05T21:46:11.286092Z",
     "start_time": "2022-12-05T21:46:11.279365Z"
    },
    "scrolled": true
   },
   "outputs": [],
   "source": [
    "#Conv2D\n",
    "\n",
    "normalize=True #withour norm recall will drop !!!\n",
    "droput=False\n",
    "\n",
    "def initialize_cnn_model(y_train):\n",
    "    model = Sequential()    \n",
    "    \n",
    "    model.add(layers.Conv2D(64, (3,3), padding='same', activation='relu', \n",
    "                            input_shape=(win_len, sampling, n_sensors))) \n",
    "    \n",
    "    if normalize : model.add(layers.BatchNormalization())\n",
    "        \n",
    "    model.add(layers.Conv2D(32, (3,3), padding='same', activation='relu'))\n",
    "    if normalize : model.add(layers.BatchNormalization())\n",
    "    if droput: model.add(layers.Dropout(0.1))\n",
    "        \n",
    "    model.add(layers.Conv2D(16, (3,3), padding='same', activation='relu'))\n",
    "    if normalize :model.add(layers.BatchNormalization())\n",
    "    if droput: model.add(layers.Dropout(0.1))\n",
    "           \n",
    "    model.add(layers.Flatten())\n",
    "    \n",
    "    model.add(layers.Dense(48, activation='relu'))\n",
    "    model.add(layers.Dense(y_train.shape[1], activation='softmax')) \n",
    "\n",
    "    return model"
   ]
  },
  {
   "cell_type": "code",
   "execution_count": 63,
   "id": "4fe03a07",
   "metadata": {
    "ExecuteTime": {
     "end_time": "2022-12-05T22:59:00.638121Z",
     "start_time": "2022-12-05T22:59:00.628334Z"
    }
   },
   "outputs": [],
   "source": [
    "normalize=True\n",
    "\n",
    "def initialize_cnnlstm_model(y_train):\n",
    "  model = Sequential()\n",
    "\n",
    "  model.add(ConvLSTM2D(filters=64, kernel_size=(1,3), activation='relu', \n",
    "                       input_shape=(n_cnnlstm_steps, 1, n_cnnlstm_length, n_sensors)))\n",
    "  if normalize : model.add(layers.BatchNormalization()) \n",
    "  model.add(Dropout(0.1))\n",
    "  model.add(Flatten())\n",
    "  model.add(Dense(100, activation='relu'))\n",
    "  model.add(Dense(y_train.shape[1], activation='softmax'))\n",
    "\n",
    "  return model"
   ]
  },
  {
   "cell_type": "code",
   "execution_count": 20,
   "id": "0f31eea1",
   "metadata": {
    "ExecuteTime": {
     "end_time": "2022-12-05T21:38:02.202719Z",
     "start_time": "2022-12-05T21:38:02.198593Z"
    }
   },
   "outputs": [
    {
     "name": "stdout",
     "output_type": "stream",
     "text": [
      "(2235, 30, 50, 3) (2235, 4) (30, 50, 3) 4\n"
     ]
    }
   ],
   "source": [
    "print(X_train.shape, y_train.shape, X_train[1].shape, y_train.shape[1])"
   ]
  },
  {
   "cell_type": "code",
   "execution_count": 20,
   "id": "6bbc8c58",
   "metadata": {
    "ExecuteTime": {
     "end_time": "2022-12-06T00:19:38.242431Z",
     "start_time": "2022-12-06T00:19:38.236162Z"
    }
   },
   "outputs": [],
   "source": [
    "normalize_input=False\n",
    "droput=False\n",
    "    \n",
    "def initialize_rnn_model(X_train, y_train):        \n",
    "    model = Sequential() \n",
    "       \n",
    "    model.add(layers.Masking(mask_value=-1., input_shape=X_train[1].shape))\n",
    "    \n",
    "    if normalize_input :\n",
    "      nl=Normalization()\n",
    "      nl.adapt(X_train)\n",
    "      model.add(nl) \n",
    "    \n",
    "    model.add(layers.GRU(units=20, activation='tanh', return_sequences=True))\n",
    "    model.add(layers.GRU(units=20, activation='tanh', return_sequences=False))    \n",
    "    model.add(layers.Dense(50, activation='relu'))    \n",
    "    if droput: model.add(layers.Dropout(0.3))\n",
    "        \n",
    "    model.add(layers.Dense(y_train.shape[1], activation='softmax'))\n",
    "    \n",
    "    return model\n",
    "\n",
    "#loss: 0.9147 - recall_3: 0.4800  precision_3: 0.7794 - prc: 0.7152 \n",
    "#val_loss: 0.9957  val_recall_3: 0.4405  val_precision_3: 0.7363 - val_prc: 0.6772"
   ]
  },
  {
   "cell_type": "code",
   "execution_count": 29,
   "id": "be78c342",
   "metadata": {
    "ExecuteTime": {
     "end_time": "2022-12-05T18:33:12.852025Z",
     "start_time": "2022-12-05T18:33:12.836575Z"
    }
   },
   "outputs": [],
   "source": [
    "from keras.regularizers import l2\n",
    "\n",
    "normalize_input=True\n",
    "droput=True\n",
    "\n",
    "#pierre \n",
    "#lstm_neurons= 100, dense_neurons = 100, drop_out = 0.5\n",
    "#n_steps, n_length = 150, 10\n",
    "#X_train_cnn = X_train_res.reshape((X_train_res.shape[0], n_steps, n_length, 3))\n",
    "#input_shape=(n_steps,n_length, 3)))\n",
    "\n",
    "def initialize_conv_rnn_model(X_train, y_train):        \n",
    "      model = Sequential() \n",
    "    \n",
    "      l2_val=3e-2 \n",
    "      lstm_neurons = 100\n",
    "      dense_neurons = 100\n",
    "      drop_out = 0.5\n",
    "       \n",
    "      #model.add(layers.Masking(mask_value=-1., input_shape=X_train[1].shape)) \n",
    "    \n",
    "      model.add(TimeDistributed(Conv1D(filters=64, kernel_size=3, activation='relu'), \n",
    "                            input_shape=(win_len, sampling, n_sensors)))\n",
    "      model.add(TimeDistributed(Conv1D(filters=64, kernel_size=3, activation='relu')))\n",
    "      model.add(TimeDistributed(Dropout(drop_out)))\n",
    "      model.add(TimeDistributed(MaxPooling1D(pool_size=2)))\n",
    "      model.add(TimeDistributed(Flatten()))\n",
    "      model.add(LSTM(64))\n",
    "      model.add(Dropout(drop_out)) \n",
    "      model.add(Dense(dense_neurons, activation='relu'))\n",
    "      model.add(Dense(y_train.shape[1], activation='softmax'))\n",
    "                         \n",
    "      return model"
   ]
  },
  {
   "cell_type": "code",
   "execution_count": 26,
   "id": "ed7d796e",
   "metadata": {
    "ExecuteTime": {
     "end_time": "2022-12-06T00:48:18.634999Z",
     "start_time": "2022-12-06T00:28:50.461136Z"
    }
   },
   "outputs": [
    {
     "name": "stdout",
     "output_type": "stream",
     "text": [
      "model GRU\n",
      "Model: \"sequential_4\"\n",
      "_________________________________________________________________\n",
      " Layer (type)                Output Shape              Param #   \n",
      "=================================================================\n",
      " masking_4 (Masking)         (None, 1500, 1)           0         \n",
      "                                                                 \n",
      " gru_6 (GRU)                 (None, 1500, 20)          1380      \n",
      "                                                                 \n",
      " gru_7 (GRU)                 (None, 20)                2520      \n",
      "                                                                 \n",
      " dense_7 (Dense)             (None, 50)                1050      \n",
      "                                                                 \n",
      " dropout_3 (Dropout)         (None, 50)                0         \n",
      "                                                                 \n",
      " dense_8 (Dense)             (None, 4)                 204       \n",
      "                                                                 \n",
      "=================================================================\n",
      "Total params: 5,154\n",
      "Trainable params: 5,154\n",
      "Non-trainable params: 0\n",
      "_________________________________________________________________\n",
      "Epoch 1/50\n",
      "18/18 [==============================] - 34s 1s/step - loss: 1.0301 - recall_4: 0.3244 - precision_4: 0.6376 - prc: 0.5750 - val_loss: 0.8593 - val_recall_4: 0.5195 - val_precision_4: 0.6890 - val_prc: 0.7013\n",
      "Epoch 2/50\n",
      "18/18 [==============================] - 22s 1s/step - loss: 0.8571 - recall_4: 0.5284 - precision_4: 0.6787 - prc: 0.6901 - val_loss: 0.7925 - val_recall_4: 0.6009 - val_precision_4: 0.6866 - val_prc: 0.7281\n",
      "Epoch 3/50\n",
      "18/18 [==============================] - 22s 1s/step - loss: 0.7902 - recall_4: 0.5700 - precision_4: 0.7046 - prc: 0.7304 - val_loss: 0.7703 - val_recall_4: 0.5633 - val_precision_4: 0.7026 - val_prc: 0.7354\n",
      "Epoch 4/50\n",
      "18/18 [==============================] - 22s 1s/step - loss: 0.7722 - recall_4: 0.5664 - precision_4: 0.7136 - prc: 0.7377 - val_loss: 0.7417 - val_recall_4: 0.6179 - val_precision_4: 0.7046 - val_prc: 0.7558\n",
      "Epoch 5/50\n",
      "18/18 [==============================] - 22s 1s/step - loss: 0.7416 - recall_4: 0.5982 - precision_4: 0.7274 - prc: 0.7551 - val_loss: 0.7156 - val_recall_4: 0.6268 - val_precision_4: 0.7141 - val_prc: 0.7719\n",
      "Epoch 6/50\n",
      "18/18 [==============================] - 22s 1s/step - loss: 0.7268 - recall_4: 0.6179 - precision_4: 0.7276 - prc: 0.7632 - val_loss: 0.7041 - val_recall_4: 0.6089 - val_precision_4: 0.7259 - val_prc: 0.7760\n",
      "Epoch 7/50\n",
      "18/18 [==============================] - 22s 1s/step - loss: 0.7092 - recall_4: 0.6098 - precision_4: 0.7352 - prc: 0.7753 - val_loss: 0.6935 - val_recall_4: 0.6264 - val_precision_4: 0.7128 - val_prc: 0.7822\n",
      "Epoch 8/50\n",
      "18/18 [==============================] - 23s 1s/step - loss: 0.6961 - recall_4: 0.6224 - precision_4: 0.7407 - prc: 0.7833 - val_loss: 0.6824 - val_recall_4: 0.6407 - val_precision_4: 0.7317 - val_prc: 0.7877\n",
      "Epoch 9/50\n",
      "18/18 [==============================] - 22s 1s/step - loss: 0.6837 - recall_4: 0.6425 - precision_4: 0.7402 - prc: 0.7898 - val_loss: 0.6760 - val_recall_4: 0.6407 - val_precision_4: 0.7329 - val_prc: 0.7929\n",
      "Epoch 10/50\n",
      "18/18 [==============================] - 22s 1s/step - loss: 0.6766 - recall_4: 0.6407 - precision_4: 0.7609 - prc: 0.7956 - val_loss: 0.6699 - val_recall_4: 0.6497 - val_precision_4: 0.7359 - val_prc: 0.7963\n",
      "Epoch 11/50\n",
      "18/18 [==============================] - 22s 1s/step - loss: 0.6709 - recall_4: 0.6470 - precision_4: 0.7520 - prc: 0.7945 - val_loss: 0.6665 - val_recall_4: 0.6497 - val_precision_4: 0.7359 - val_prc: 0.7971\n",
      "Epoch 12/50\n",
      "18/18 [==============================] - 22s 1s/step - loss: 0.6644 - recall_4: 0.6515 - precision_4: 0.7615 - prc: 0.7996 - val_loss: 0.6641 - val_recall_4: 0.6497 - val_precision_4: 0.7371 - val_prc: 0.7981\n",
      "Epoch 13/50\n",
      "18/18 [==============================] - 23s 1s/step - loss: 0.6740 - recall_4: 0.6456 - precision_4: 0.7481 - prc: 0.7921 - val_loss: 0.6616 - val_recall_4: 0.6523 - val_precision_4: 0.7338 - val_prc: 0.7994\n",
      "Epoch 14/50\n",
      "18/18 [==============================] - 24s 1s/step - loss: 0.6547 - recall_4: 0.6577 - precision_4: 0.7621 - prc: 0.8051 - val_loss: 0.6607 - val_recall_4: 0.6573 - val_precision_4: 0.7345 - val_prc: 0.8004\n",
      "Epoch 15/50\n",
      "18/18 [==============================] - 24s 1s/step - loss: 0.6644 - recall_4: 0.6568 - precision_4: 0.7622 - prc: 0.8017 - val_loss: 0.6585 - val_recall_4: 0.6546 - val_precision_4: 0.7311 - val_prc: 0.8007\n",
      "Epoch 16/50\n",
      "18/18 [==============================] - 23s 1s/step - loss: 0.6589 - recall_4: 0.6573 - precision_4: 0.7647 - prc: 0.8043 - val_loss: 0.6573 - val_recall_4: 0.6523 - val_precision_4: 0.7330 - val_prc: 0.8014\n",
      "Epoch 17/50\n",
      "18/18 [==============================] - 23s 1s/step - loss: 0.6579 - recall_4: 0.6474 - precision_4: 0.7588 - prc: 0.8045 - val_loss: 0.6567 - val_recall_4: 0.6528 - val_precision_4: 0.7332 - val_prc: 0.8019\n",
      "Epoch 18/50\n",
      "18/18 [==============================] - 23s 1s/step - loss: 0.6606 - recall_4: 0.6447 - precision_4: 0.7509 - prc: 0.8024 - val_loss: 0.6567 - val_recall_4: 0.6564 - val_precision_4: 0.7357 - val_prc: 0.8018\n",
      "Epoch 19/50\n",
      "18/18 [==============================] - 22s 1s/step - loss: 0.6500 - recall_4: 0.6577 - precision_4: 0.7597 - prc: 0.8090 - val_loss: 0.6560 - val_recall_4: 0.6537 - val_precision_4: 0.7345 - val_prc: 0.8019\n",
      "Epoch 20/50\n",
      "18/18 [==============================] - 23s 1s/step - loss: 0.6528 - recall_4: 0.6528 - precision_4: 0.7631 - prc: 0.8044 - val_loss: 0.6556 - val_recall_4: 0.6546 - val_precision_4: 0.7344 - val_prc: 0.8022\n",
      "Epoch 21/50\n",
      "18/18 [==============================] - 23s 1s/step - loss: 0.6589 - recall_4: 0.6528 - precision_4: 0.7564 - prc: 0.8023 - val_loss: 0.6558 - val_recall_4: 0.6564 - val_precision_4: 0.7357 - val_prc: 0.8019\n",
      "Epoch 22/50\n",
      "18/18 [==============================] - 23s 1s/step - loss: 0.6507 - recall_4: 0.6595 - precision_4: 0.7657 - prc: 0.8082 - val_loss: 0.6551 - val_recall_4: 0.6550 - val_precision_4: 0.7353 - val_prc: 0.8023\n",
      "Epoch 23/50\n",
      "18/18 [==============================] - 23s 1s/step - loss: 0.6477 - recall_4: 0.6658 - precision_4: 0.7635 - prc: 0.8088 - val_loss: 0.6551 - val_recall_4: 0.6555 - val_precision_4: 0.7351 - val_prc: 0.8024\n",
      "Epoch 24/50\n",
      "18/18 [==============================] - 23s 1s/step - loss: 0.6456 - recall_4: 0.6635 - precision_4: 0.7740 - prc: 0.8110 - val_loss: 0.6548 - val_recall_4: 0.6564 - val_precision_4: 0.7350 - val_prc: 0.8028\n",
      "Epoch 25/50\n",
      "18/18 [==============================] - 23s 1s/step - loss: 0.6456 - recall_4: 0.6689 - precision_4: 0.7624 - prc: 0.8099 - val_loss: 0.6546 - val_recall_4: 0.6564 - val_precision_4: 0.7342 - val_prc: 0.8028\n",
      "Epoch 26/50\n",
      "18/18 [==============================] - 23s 1s/step - loss: 0.6546 - recall_4: 0.6573 - precision_4: 0.7663 - prc: 0.8074 - val_loss: 0.6546 - val_recall_4: 0.6568 - val_precision_4: 0.7344 - val_prc: 0.8029\n",
      "Epoch 27/50\n",
      "18/18 [==============================] - 23s 1s/step - loss: 0.6518 - recall_4: 0.6541 - precision_4: 0.7619 - prc: 0.8071 - val_loss: 0.6545 - val_recall_4: 0.6564 - val_precision_4: 0.7342 - val_prc: 0.8028\n",
      "Epoch 28/50\n",
      "18/18 [==============================] - 23s 1s/step - loss: 0.6470 - recall_4: 0.6613 - precision_4: 0.7662 - prc: 0.8113 - val_loss: 0.6545 - val_recall_4: 0.6564 - val_precision_4: 0.7346 - val_prc: 0.8028\n",
      "Epoch 29/50\n",
      "18/18 [==============================] - 23s 1s/step - loss: 0.6506 - recall_4: 0.6622 - precision_4: 0.7656 - prc: 0.8061 - val_loss: 0.6545 - val_recall_4: 0.6564 - val_precision_4: 0.7346 - val_prc: 0.8028\n",
      "Epoch 30/50\n",
      "18/18 [==============================] - 23s 1s/step - loss: 0.6435 - recall_4: 0.6604 - precision_4: 0.7648 - prc: 0.8128 - val_loss: 0.6545 - val_recall_4: 0.6564 - val_precision_4: 0.7346 - val_prc: 0.8029\n",
      "Epoch 31/50\n",
      "18/18 [==============================] - 23s 1s/step - loss: 0.6413 - recall_4: 0.6649 - precision_4: 0.7684 - prc: 0.8109 - val_loss: 0.6545 - val_recall_4: 0.6564 - val_precision_4: 0.7346 - val_prc: 0.8029\n",
      "Epoch 32/50\n"
     ]
    },
    {
     "name": "stdout",
     "output_type": "stream",
     "text": [
      "18/18 [==============================] - 24s 1s/step - loss: 0.6455 - recall_4: 0.6595 - precision_4: 0.7606 - prc: 0.8095 - val_loss: 0.6544 - val_recall_4: 0.6564 - val_precision_4: 0.7346 - val_prc: 0.8028\n",
      "Epoch 33/50\n",
      "18/18 [==============================] - 24s 1s/step - loss: 0.6420 - recall_4: 0.6604 - precision_4: 0.7660 - prc: 0.8114 - val_loss: 0.6544 - val_recall_4: 0.6564 - val_precision_4: 0.7346 - val_prc: 0.8028\n",
      "Epoch 34/50\n",
      "18/18 [==============================] - 23s 1s/step - loss: 0.6460 - recall_4: 0.6591 - precision_4: 0.7608 - prc: 0.8084 - val_loss: 0.6544 - val_recall_4: 0.6568 - val_precision_4: 0.7347 - val_prc: 0.8029\n",
      "Epoch 35/50\n",
      "18/18 [==============================] - 24s 1s/step - loss: 0.6499 - recall_4: 0.6591 - precision_4: 0.7632 - prc: 0.8095 - val_loss: 0.6544 - val_recall_4: 0.6568 - val_precision_4: 0.7347 - val_prc: 0.8029\n",
      "Epoch 36/50\n",
      "18/18 [==============================] - 23s 1s/step - loss: 0.6559 - recall_4: 0.6595 - precision_4: 0.7602 - prc: 0.8042 - val_loss: 0.6544 - val_recall_4: 0.6568 - val_precision_4: 0.7347 - val_prc: 0.8029\n",
      "Epoch 37/50\n",
      "18/18 [==============================] - 23s 1s/step - loss: 0.6509 - recall_4: 0.6555 - precision_4: 0.7638 - prc: 0.8091 - val_loss: 0.6544 - val_recall_4: 0.6568 - val_precision_4: 0.7347 - val_prc: 0.8029\n",
      "Epoch 38/50\n",
      "18/18 [==============================] - 24s 1s/step - loss: 0.6429 - recall_4: 0.6667 - precision_4: 0.7680 - prc: 0.8132 - val_loss: 0.6544 - val_recall_4: 0.6568 - val_precision_4: 0.7347 - val_prc: 0.8029\n",
      "Epoch 39/50\n",
      "18/18 [==============================] - 24s 1s/step - loss: 0.6479 - recall_4: 0.6680 - precision_4: 0.7664 - prc: 0.8089 - val_loss: 0.6544 - val_recall_4: 0.6568 - val_precision_4: 0.7347 - val_prc: 0.8029\n",
      "Epoch 40/50\n",
      "18/18 [==============================] - 23s 1s/step - loss: 0.6525 - recall_4: 0.6564 - precision_4: 0.7574 - prc: 0.8038 - val_loss: 0.6544 - val_recall_4: 0.6568 - val_precision_4: 0.7347 - val_prc: 0.8029\n",
      "Epoch 41/50\n",
      "18/18 [==============================] - 23s 1s/step - loss: 0.6510 - recall_4: 0.6541 - precision_4: 0.7662 - prc: 0.8051 - val_loss: 0.6544 - val_recall_4: 0.6568 - val_precision_4: 0.7347 - val_prc: 0.8029\n",
      "Epoch 42/50\n",
      "18/18 [==============================] - 23s 1s/step - loss: 0.6423 - recall_4: 0.6662 - precision_4: 0.7616 - prc: 0.8127 - val_loss: 0.6544 - val_recall_4: 0.6568 - val_precision_4: 0.7347 - val_prc: 0.8029\n",
      "Epoch 43/50\n",
      "18/18 [==============================] - 23s 1s/step - loss: 0.6522 - recall_4: 0.6604 - precision_4: 0.7585 - prc: 0.8057 - val_loss: 0.6544 - val_recall_4: 0.6568 - val_precision_4: 0.7347 - val_prc: 0.8029\n",
      "Epoch 44/50\n",
      "18/18 [==============================] - 23s 1s/step - loss: 0.6482 - recall_4: 0.6609 - precision_4: 0.7606 - prc: 0.8112 - val_loss: 0.6544 - val_recall_4: 0.6568 - val_precision_4: 0.7347 - val_prc: 0.8029\n",
      "Epoch 45/50\n",
      "18/18 [==============================] - 24s 1s/step - loss: 0.6497 - recall_4: 0.6644 - precision_4: 0.7647 - prc: 0.8084 - val_loss: 0.6544 - val_recall_4: 0.6568 - val_precision_4: 0.7347 - val_prc: 0.8029\n",
      "Epoch 46/50\n",
      "18/18 [==============================] - 23s 1s/step - loss: 0.6506 - recall_4: 0.6658 - precision_4: 0.7623 - prc: 0.8086 - val_loss: 0.6544 - val_recall_4: 0.6568 - val_precision_4: 0.7347 - val_prc: 0.8029\n",
      "Epoch 47/50\n",
      "18/18 [==============================] - 24s 1s/step - loss: 0.6475 - recall_4: 0.6622 - precision_4: 0.7688 - prc: 0.8099 - val_loss: 0.6544 - val_recall_4: 0.6568 - val_precision_4: 0.7347 - val_prc: 0.8029\n",
      "Epoch 48/50\n",
      "18/18 [==============================] - 24s 1s/step - loss: 0.6459 - recall_4: 0.6644 - precision_4: 0.7659 - prc: 0.8120 - val_loss: 0.6544 - val_recall_4: 0.6568 - val_precision_4: 0.7347 - val_prc: 0.8029\n",
      "Epoch 49/50\n",
      "18/18 [==============================] - 25s 1s/step - loss: 0.6487 - recall_4: 0.6622 - precision_4: 0.7605 - prc: 0.8061 - val_loss: 0.6544 - val_recall_4: 0.6568 - val_precision_4: 0.7347 - val_prc: 0.8029\n",
      "Epoch 50/50\n",
      "18/18 [==============================] - 24s 1s/step - loss: 0.6509 - recall_4: 0.6591 - precision_4: 0.7589 - prc: 0.8065 - val_loss: 0.6544 - val_recall_4: 0.6568 - val_precision_4: 0.7347 - val_prc: 0.8029\n"
     ]
    }
   ],
   "source": [
    "try:\n",
    "  del model\n",
    "except:\n",
    "  pass\n",
    "\n",
    "batch_size=128\n",
    "init_learning_rate=0.01\n",
    "use_expo_decay=True\n",
    "use_early_stop=True\n",
    "max_epochs=100\n",
    "\n",
    "print(\"model {}\".format(mtype))\n",
    "\n",
    "if mtype == \"Conv2D\":\n",
    "  model=initialize_cnn_model(y_train)\n",
    "  max_epochs=20    \n",
    "elif mtype == \"ConvLSTM2D\" :\n",
    "  model=initialize_cnnlstm_model(y_train)\n",
    "  max_epochs=10\n",
    "elif mtype == \"GRU\": \n",
    "  model=initialize_rnn_model(X_train, y_train)  \n",
    "  max_epochs=50       \n",
    "else:\n",
    "  raise(\"bad mtype\")\n",
    "\n",
    "model.summary()  \n",
    "\n",
    "metrics = [  keras.metrics.Recall(), \n",
    "             keras.metrics.Precision(),\n",
    "             keras.metrics.AUC(name='prc', curve='PR') ]\n",
    "\n",
    "lr = ExponentialDecay(init_learning_rate, decay_steps = 50, decay_rate = 0.5) if use_expo_decay else init_learning_rate \n",
    "adam = Adam(learning_rate = lr)\n",
    "\n",
    "model.compile(loss=\"categorical_crossentropy\", optimizer=adam, metrics=metrics)\n",
    "\n",
    "def say_hello(batch, logs):\n",
    "    print(\"we're done\")\n",
    "    \n",
    "if use_early_stop : \n",
    "  cbf = EarlyStopping(patience=10, restore_best_weights = True)\n",
    "else:\n",
    "  cbf = keras.callbacks.LambdaCallback(on_train_end=say_hello)\n",
    "\n",
    "fit_start_time = time.time()\n",
    "\n",
    "history=model.fit(X_train, y_train, validation_data=(X_val, y_val), batch_size=batch_size, \n",
    "                  epochs = max_epochs, callbacks = [cbf], verbose = 1, shuffle=do_shuffle)\n",
    "\n",
    "fit_end_time = time.time()"
   ]
  },
  {
   "cell_type": "code",
   "execution_count": 15,
   "id": "f70ba3b8",
   "metadata": {
    "ExecuteTime": {
     "end_time": "2022-12-04T18:32:33.068762Z",
     "start_time": "2022-12-04T18:32:31.659604Z"
    },
    "scrolled": true
   },
   "outputs": [
    {
     "name": "stdout",
     "output_type": "stream",
     "text": [
      "105/105 [==============================] - 1s 10ms/step - loss: 0.9701 - recall: 0.7184 - precision: 0.7836 - prc: 0.8120\n",
      "['loss', 'recall', 'precision', 'prc']\n",
      "0.9701410531997681, 0.7184147834777832, 0.7835553884506226, 0.8119684457778931\n"
     ]
    }
   ],
   "source": [
    "#cnn"
   ]
  },
  {
   "cell_type": "code",
   "execution_count": 28,
   "id": "c43d0f0e",
   "metadata": {
    "ExecuteTime": {
     "end_time": "2022-12-06T00:57:28.608764Z",
     "start_time": "2022-12-06T00:57:15.563089Z"
    }
   },
   "outputs": [
    {
     "name": "stdout",
     "output_type": "stream",
     "text": [
      "60/60 [==============================] - 13s 216ms/step - loss: 0.6554 - recall_4: 0.6519 - precision_4: 0.7300 - prc: 0.8017\n",
      "['loss', 'recall_4', 'precision_4', 'prc']\n",
      "0.6554021239280701, 0.6518788933753967, 0.7299824953079224, 0.8017486929893494\n"
     ]
    }
   ],
   "source": [
    "res = model.evaluate(X_test, y_test)\n",
    "\n",
    "print(model.metrics_names)\n",
    "loss=res[0]\n",
    "recall=res[1]\n",
    "precision=res[2]\n",
    "prc=res[3]\n",
    "print(\"{}, {}, {}, {}\".format(res[0], res[1], res[2], res[3]))"
   ]
  },
  {
   "cell_type": "code",
   "execution_count": 31,
   "id": "6dc92643",
   "metadata": {
    "ExecuteTime": {
     "end_time": "2022-12-06T00:58:19.792583Z",
     "start_time": "2022-12-06T00:58:06.329543Z"
    }
   },
   "outputs": [
    {
     "name": "stdout",
     "output_type": "stream",
     "text": [
      "60/60 [==============================] - 13s 219ms/step\n"
     ]
    },
    {
     "data": {
      "image/png": "[encoded data removed]",
      "text/plain": [
       "<Figure size 900x600 with 2 Axes>"
      ]
     },
     "metadata": {},
     "output_type": "display_data"
    }
   ],
   "source": [
    "def confusion_matrix(y, y_pred, labels):    \n",
    "    matrix = metrics.confusion_matrix(y, y_pred)\n",
    "    plt.figure(figsize=(9, 6))\n",
    "    ax= sns.heatmap(matrix, cmap='coolwarm', linecolor='white', \n",
    "                    linewidths=1, xticklabels=labels, yticklabels=labels, annot=True, fmt='d')\n",
    "    #bottom, top = ax.get_ylim()\n",
    "    #ax.set_ylim(bottom + 0.5, top - 0.5)\n",
    "    plt.title('Confusion Matrix')\n",
    "    plt.ylabel('True Label')\n",
    "    plt.xlabel('Predicted Label')\n",
    "    plt.show()\n",
    "    \n",
    "y_pred_ohe = model.predict(X_test)\n",
    "y_pred_idx=np.argmax(y_pred_ohe,axis=1)\n",
    "\n",
    "#cats, miaou !!!!\n",
    "y_test_cats=encoder.inverse_transform(y_test)\n",
    "y_test_idx=[]\n",
    "for n in range(0, len(y_test_cats)): \n",
    "  y_test_idx.append(list(act_types).index(y_test_cats[n-1]))\n",
    "#y_test, y_test_cats \n",
    "\n",
    "confusion_matrix(y_test_idx, y_pred_idx, act_types)"
   ]
  },
  {
   "cell_type": "code",
   "execution_count": 32,
   "id": "811b3efa",
   "metadata": {
    "ExecuteTime": {
     "end_time": "2022-12-06T00:59:34.922011Z",
     "start_time": "2022-12-06T00:59:34.893437Z"
    }
   },
   "outputs": [],
   "source": [
    "def plot_history(history, optimizer_str, axs=None, exp_name=\"\"):\n",
    "    if axs is not None:\n",
    "        ax1, ax2 = axs\n",
    "    else:\n",
    "        f, (ax1, ax2) = plt.subplots(1, 2, figsize=(12, 4))\n",
    "    \n",
    "    if len(exp_name) > 0 and exp_name[0] != '_':\n",
    "        exp_name = '_' + exp_name\n",
    "    \n",
    "    pkey=\"precision\"; vpkey=\"val_precision\"\n",
    "    for key in history.history.keys():\n",
    "      if key.startswith(\"precision\")       : pkey=key; \n",
    "      elif key.startswith(\"val_precision\") : vpkey=key; \n",
    "        \n",
    "    ax1.plot(history.history['loss'], label = 'train' + exp_name)\n",
    "    ax1.plot(history.history['val_loss'], label = 'val' + exp_name)\n",
    "    ax1.set_ylim(0., 2.2)\n",
    "    ax1.set_title('loss')\n",
    "    ax1.legend()\n",
    "               \n",
    "    ax2.plot(history.history[pkey], label='train accuracy'  + exp_name)\n",
    "    ax2.plot(history.history[vpkey], label='val accuracy'  + exp_name)\n",
    "    ax2.set_ylim(0.25, 1.)\n",
    "    ax2.set_title('Accuracy ' + optimizer_str)\n",
    "    ax2.legend()\n",
    "    return (ax1, ax2)"
   ]
  },
  {
   "cell_type": "code",
   "execution_count": 33,
   "id": "6f90b9b7",
   "metadata": {
    "ExecuteTime": {
     "end_time": "2022-12-06T00:59:38.311816Z",
     "start_time": "2022-12-06T00:59:37.601075Z"
    }
   },
   "outputs": [
    {
     "name": "stdout",
     "output_type": "stream",
     "text": [
      "fit time with Adam optimizer 1166.1395318508148 secs after 50 epochs\n"
     ]
    },
    {
     "data": {
      "text/plain": [
       "(<AxesSubplot: title={'center': 'loss'}>,\n",
       " <AxesSubplot: title={'center': 'Accuracy Adam'}>)"
      ]
     },
     "execution_count": 33,
     "metadata": {},
     "output_type": "execute_result"
    },
    {
     "data": {
      "image/png": "[encoded data removed]",
      "text/plain": [
       "<Figure size 1200x400 with 2 Axes>"
      ]
     },
     "metadata": {},
     "output_type": "display_data"
    }
   ],
   "source": [
    "optimizer_str=str(K.eval(model.optimizer)).split(\".\")[-1].split()[0]\n",
    "\n",
    "print(\"fit time with {} optimizer {} secs after {} epochs\".format(optimizer_str, \n",
    "                                            (fit_end_time - fit_start_time), len(history.epoch)))\n",
    "\n",
    "plot_history(history, optimizer_str)"
   ]
  },
  {
   "cell_type": "code",
   "execution_count": 34,
   "id": "e0711d90",
   "metadata": {
    "ExecuteTime": {
     "end_time": "2022-12-06T01:00:53.633093Z",
     "start_time": "2022-12-06T00:59:54.176797Z"
    },
    "scrolled": true
   },
   "outputs": [
    {
     "name": "stdout",
     "output_type": "stream",
     "text": [
      "save model to mlflow...\n"
     ]
    },
    {
     "name": "stderr",
     "output_type": "stream",
     "text": [
      "WARNING:absl:Found untraced functions such as _update_step_xla, gru_cell_6_layer_call_fn, gru_cell_6_layer_call_and_return_conditional_losses, gru_cell_7_layer_call_fn, gru_cell_7_layer_call_and_return_conditional_losses while saving (showing 5 of 5). These functions will not be directly callable after loading.\n"
     ]
    },
    {
     "name": "stdout",
     "output_type": "stream",
     "text": [
      "INFO:tensorflow:Assets written to: /tmp/tmpw57le7f9/model/data/model/assets\n"
     ]
    },
    {
     "name": "stderr",
     "output_type": "stream",
     "text": [
      "INFO:tensorflow:Assets written to: /tmp/tmpw57le7f9/model/data/model/assets\n",
      "Successfully registered model '1sensors_30_win_with_overlap_no_dups_sensor_adjusted_Adam'.\n",
      "2022/12/06 02:00:53 INFO mlflow.tracking._model_registry.client: Waiting up to 300 seconds for model version to finish creation.                     Model name: 1sensors_30_win_with_overlap_no_dups_sensor_adjusted_Adam, version 1\n"
     ]
    },
    {
     "name": "stdout",
     "output_type": "stream",
     "text": [
      "data saved to mlflow https://mlflow.lewagon.ai ut_ds_prepro_ak 1sensors_30_win_with_overlap_no_dups_sensor_adjusted_Adam ok\n"
     ]
    },
    {
     "name": "stderr",
     "output_type": "stream",
     "text": [
      "Created version '1' of model '1sensors_30_win_with_overlap_no_dups_sensor_adjusted_Adam'.\n"
     ]
    }
   ],
   "source": [
    "import mlflow.keras\n",
    "\n",
    "set_env_manual=True\n",
    "\n",
    "if set_env_manual:\n",
    "  os.environ['MODEL_TARGET'] = \"mlflow\"\n",
    "  os.environ['MLFLOW_TRACKING_URI'] = \"https://mlflow.lewagon.ai\"\n",
    "  os.environ['MLFLOW_EXPERIMENT'] = \"ut_ds_prepro_ak\"\n",
    "  os.environ['MLFLOW_MODEL_NAME'] = id_str + \"_\" + optimizer_str\n",
    "  os.environ['MLFLOW_STAGE'] = \"staging\"   \n",
    "\n",
    "model_taget=os.environ.get(\"MODEL_TARGET\")\n",
    "\n",
    "if model_taget is None : model_taget=\"\"\n",
    "\n",
    "params = dict( sampling=sampling,\n",
    "               win_len=win_len,\n",
    "               overlap=overlap,\n",
    "               overlap_len=overlap_len,\n",
    "               drop_dups=drop_dups,\n",
    "               n_actvities=len(act_types),\n",
    "              \n",
    "               model_type=mtype,\n",
    "               optimizer=optimizer_str, \n",
    "               batch_size=batch_size,\n",
    "               learning_rate=init_learning_rate,\n",
    "               use_expo_decay=use_expo_decay,\n",
    "               use_early_stop=use_early_stop)\n",
    "\n",
    "metrics = dict(loss=loss, precision=precision, recall=recall, prc=prc )\n",
    "\n",
    "if model_taget == \"local\" : \n",
    "   if save_model : \n",
    "      model.save(\"model_\"+id_str)  \n",
    "      print(\"model saved locally in {} dir\".format(model_complexity))\n",
    "   else:\n",
    "      print(\"model is not saved\")\n",
    "elif model_taget == \"mlflow\" :\n",
    "   try:\n",
    "        print(\"save model to mlflow...\")\n",
    "\n",
    "        mlflow_tracking_uri = os.environ.get(\"MLFLOW_TRACKING_URI\")\n",
    "        mlflow_experiment = os.environ.get(\"MLFLOW_EXPERIMENT\")\n",
    "        mlflow_model_name = os.environ.get(\"MLFLOW_MODEL_NAME\")\n",
    "        \n",
    "        if mlflow_tracking_uri != \"\" and mlflow_experiment != \"\" and mlflow_model_name != \"\" :\n",
    "            mlflow.set_tracking_uri(mlflow_tracking_uri)\n",
    "            mlflow.set_experiment(experiment_name=mlflow_experiment)\n",
    "\n",
    "            with mlflow.start_run():                       \n",
    "              if params is not None:\n",
    "                  mlflow.log_params(params)\n",
    "\n",
    "              if metrics is not None:\n",
    "                  mlflow.log_metrics(metrics)\n",
    "\n",
    "              if model is not None:\n",
    "                  mlflow.keras.log_model(model, artifact_path=\"model\",\n",
    "                                         registered_model_name=mlflow_model_name)\n",
    "\n",
    "            print(\"data saved to mlflow {} {} {} ok\".format(mlflow_tracking_uri, mlflow_experiment, mlflow_model_name))\n",
    "        else:\n",
    "            print(\"mlflow env vars are missing or undefined...\")\n",
    "   except Exception as err:      \n",
    "     print(\"error {} while saving model to mlflow\".format(str(err)))"
   ]
  }
 ],
 "metadata": {
  "kernelspec": {
   "display_name": "Python 3 (ipykernel)",
   "language": "python",
   "name": "python3"
  },
  "language_info": {
   "codemirror_mode": {
    "name": "ipython",
    "version": 3
   },
   "file_extension": ".py",
   "mimetype": "text/x-python",
   "name": "python",
   "nbconvert_exporter": "python",
   "pygments_lexer": "ipython3",
   "version": "3.10.6"
  },
  "toc": {
   "base_numbering": 1,
   "nav_menu": {},
   "number_sections": true,
   "sideBar": true,
   "skip_h1_title": false,
   "title_cell": "Table of Contents",
   "title_sidebar": "Contents",
   "toc_cell": false,
   "toc_position": {},
   "toc_section_display": true,
   "toc_window_display": false
  }
 },
 "nbformat": 4,
 "nbformat_minor": 5
}
