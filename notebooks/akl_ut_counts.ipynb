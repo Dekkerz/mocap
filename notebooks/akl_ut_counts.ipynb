{
 "cells": [
  {
   "cell_type": "code",
   "execution_count": 1,
   "id": "ab06dda8",
   "metadata": {
    "ExecuteTime": {
     "end_time": "2022-12-08T10:47:43.677310Z",
     "start_time": "2022-12-08T10:47:42.402348Z"
    }
   },
   "outputs": [],
   "source": [
    "import os\n",
    "import sys\n",
    "\n",
    "import pandas as pd\n",
    "import numpy as np\n",
    "import matplotlib.pyplot as plt\n",
    "import datetime\n",
    "import time\n",
    "import pendulum\n",
    "from PIL import Image\n",
    "import pickle\n",
    "\n",
    "from ipywidgets import IntProgress\n",
    "from IPython.display import display, clear_output\n",
    "import IPython\n",
    "\n",
    "try:\n",
    "  import google.colab\n",
    "  from google.colab import drive, files\n",
    "  runnin_in_colab = True\n",
    "except:\n",
    "  runnin_in_colab = False\n",
    "\n",
    "import warnings\n",
    "warnings.filterwarnings('ignore')\n",
    "\n",
    "pd.set_option(\"display.max_columns\", None)"
   ]
  },
  {
   "cell_type": "code",
   "execution_count": 2,
   "id": "9e8f76bd",
   "metadata": {
    "ExecuteTime": {
     "end_time": "2022-12-08T10:47:43.690435Z",
     "start_time": "2022-12-08T10:47:43.682118Z"
    }
   },
   "outputs": [],
   "source": [
    "xls_dir=\"UT_Smoking_Data\"\n",
    "pickles_dir=\"UT_Smoking_Data_pickles\"\n",
    "x_dir=\"UT_Smoking_Data_x\"\n",
    "local_full_path=\"/home/andrei/code/andrei-ka/mocap/notebooks\"\n",
    "\n",
    "categ_colname='Class_label'\n",
    "ts_field='timestamp_WD' "
   ]
  },
  {
   "cell_type": "code",
   "execution_count": 3,
   "id": "f175c6e1",
   "metadata": {
    "ExecuteTime": {
     "end_time": "2022-12-08T10:47:43.701772Z",
     "start_time": "2022-12-08T10:47:43.693328Z"
    }
   },
   "outputs": [],
   "source": [
    "raw_ds_index = {\n",
    "     0:'timestamp_WD', \n",
    "     1:'Accelerometer_x_WD', \n",
    "     2:'Accelerometer_y_WD', \n",
    "     3:'Accelerometer_z_WD', \n",
    "     4:'Linear_acceleration_sensor_x_WD', \n",
    "     5:'Linear_acceleration_sensor_y_WD', \n",
    "     6:'Linear_acceleration_sensor_z_WD', \n",
    "     7:'Gyroscope_x_WD', \n",
    "     8:'Gyroscope_y_WD', \n",
    "     9:'Gyroscope_z_WD',\n",
    "    10:'Magnetometer_x_WD', \n",
    "    11:'Magnetometer_y_WD', \n",
    "    12:'Magnetometer_z_WD', \n",
    "    13:'Pressure_sensor_WD', \n",
    "    14:'Heart_rate_sensor_WD',\n",
    "    15:'GAP', \n",
    "    16:'sevtimestamp_PD', \n",
    "    17:'Accelerometer_x_PD', \n",
    "    18:'Accelerometer_y_PD',\n",
    "    19:'Accelerometer_z_PD',\n",
    "    20:'Linear_acceleration_sensor_x_PD', \n",
    "    21:'Linear_acceleration_sensor_y_PD', \n",
    "    22:'Linear_acceleration_sensor_z_PD', \n",
    "    23:'Gyroscope_x_PD', \n",
    "    24:'Gyroscope_y_PD',\n",
    "    25:'Gyroscope_z_PD', \n",
    "    26:'Magnetometer_x_PD', \n",
    "    27:'Magnetometer_y_PD', \n",
    "    28:'Magnetometer_z_PD', \n",
    "    29:'GPS_lat_PD',\n",
    "    30:'GPS_long_PD', \n",
    "    31:'Class_label'}\n",
    "\n",
    "pickle_index=['timestamp_WD',  \n",
    "              'sevtimestamp_PD',\n",
    "              'Accelerometer_x_WD', \n",
    "              'Accelerometer_y_WD', \n",
    "              'Accelerometer_z_WD', \n",
    "              'Linear_acceleration_sensor_x_WD', \n",
    "              'Linear_acceleration_sensor_y_WD', \n",
    "              'Linear_acceleration_sensor_z_WD', \n",
    "              'Gyroscope_x_PD',\n",
    "              'Gyroscope_y_PD', \n",
    "              'Gyroscope_z_PD',\n",
    "              'Heart_rate_sensor_WD',\n",
    "              'Class_label' ]"
   ]
  },
  {
   "cell_type": "code",
   "execution_count": 4,
   "id": "5f5b6fe5",
   "metadata": {
    "ExecuteTime": {
     "end_time": "2022-12-08T10:47:43.724912Z",
     "start_time": "2022-12-08T10:47:43.706514Z"
    }
   },
   "outputs": [
    {
     "name": "stdout",
     "output_type": "stream",
     "text": [
      "Participant10_Data.pickle\n",
      "Participant11_Data.pickle\n",
      "Participant1_Data.pickle\n",
      "Participant2_Data.pickle\n",
      "Participant3_Data.pickle\n",
      "Participant4_Data.pickle\n",
      "Participant5_Data.pickle\n",
      "Participant6_Data.pickle\n",
      "Participant7_Data.pickle\n",
      "Participant8_Data.pickle\n",
      "Participant9_Data.pickle\n"
     ]
    }
   ],
   "source": [
    "for f_in in os.listdir(pickles_dir): \n",
    "    if not (f_in.startswith('Participant') and f_in.endswith('_Data.pickle')) : continue\n",
    "    print(f_in)"
   ]
  },
  {
   "cell_type": "code",
   "execution_count": 5,
   "id": "ab995f02",
   "metadata": {
    "ExecuteTime": {
     "end_time": "2022-12-08T10:47:43.753897Z",
     "start_time": "2022-12-08T10:47:43.729658Z"
    }
   },
   "outputs": [
    {
     "name": "stdout",
     "output_type": "stream",
     "text": [
      "f in/out: UT_Smoking_Data_x/x_1apple_sensors_20_win_with_overlap_no_dups.dump\n"
     ]
    }
   ],
   "source": [
    "##ok, it's ime to make X, y from a whole dataset...\n",
    "\n",
    "drop_dups=True\n",
    "drop_dups_str=\"_no_dups\" if drop_dups else \"\"\n",
    "\n",
    "sampling=50  #sampling rate\n",
    "win_len=20   #wind size in secs\n",
    "\n",
    "#overlap will add 2nd pass moving init windsow position...\n",
    "#seems to add only 3% to prec/recall...\n",
    "\n",
    "overlap=True \n",
    "overlap_len=(win_len-10)*sampling  #n secs overlap, dont make it neg !\n",
    "                                  #here on overap pass we start nead the end of 1st frame\n",
    "    \n",
    "overlap_str=\"_with_overlap\" if overlap else \"\"\n",
    "\n",
    "feature_set=\"single\" # \"accel\" or \"accel+gyro\"\n",
    "\n",
    "nparts=\"all\"     #test train will be made only by split\n",
    "ignore_dudes = [ \"Participant10\" ] #nb always ignore  \"Participant10\" !!!\n",
    "\n",
    "if nparts==\"8\":  #for pure train\n",
    "  ignore_dudes = [ \"Participant10\", \"Participant3\", \"Participant7\" ] \n",
    "if nparts==\"2\":  #for pure test\n",
    "  ignore_dudes = [ \"Participant10\", \"Participant11\", \n",
    "                   \"Participant1\",  \"Participant2\", \n",
    "                   \"Participant4\",  \"Participant5\", \n",
    "                   \"Participant6\",  \"Participant8\", \n",
    "                   \"Participant9\" ] #nb always ignore  \"Participant10\" !!!\n",
    "\n",
    "n_ignored=len(ignore_dudes) - 1\n",
    "\n",
    "adjusted=1\n",
    "adjusted_str=\"_sensor_adjusted\" if adjusted != 1 else \"\"\n",
    " \n",
    "sensors=[ 'Linear_acceleration_sensor_x_WD', \n",
    "          'Linear_acceleration_sensor_y_WD', \n",
    "          'Linear_acceleration_sensor_z_WD' ] \n",
    "\n",
    "sensors_weights={ \"Linear_acceleration_sensor_x_WD\": 1.0 * adjusted, \n",
    "                  \"Linear_acceleration_sensor_y_WD\": 1.0 * adjusted, \n",
    "                  \"Linear_acceleration_sensor_z_WD\": 1.0 }\n",
    "    \n",
    "# our rgb-likes & sensor weights\n",
    "if feature_set == \"accel+gyro\" :  \n",
    "  sensors.extend(['Gyroscope_x_PD', \n",
    "                  'Gyroscope_y_PD', \n",
    "                  'Gyroscope_z_PD'])\n",
    "\n",
    "  sensors_weights.update({ \"Gyroscope_x_PD\": 1.0, \n",
    "                           \"Gyroscope_y_PD\": 1.0, \n",
    "                           \"Gyroscope_z_PD\": 1.0 * adjusted})\n",
    "\n",
    "if feature_set == \"single\" : \n",
    "    sensors=['Linear_acceleration_sensor_z_WD' ]\n",
    "    sensors_weights={ 'Linear_acceleration_sensor_z_WD': 1.0 * adjusted }\n",
    "    \n",
    "tot_frame_len=sampling*win_len\n",
    "n_sensors=len(sensors)\n",
    "\n",
    "#prefer to hardcode expected act_types here...\n",
    "\n",
    "act_types=[ 'DrinkSD', 'DrinkST', 'Eat', 'Sit', 'SmokeSD', 'SmokeST', 'Stand' ]\n",
    "n_act_types=len(act_types)\n",
    "    \n",
    "remap_acts=True\n",
    "if remap_acts:\n",
    "  act_types_maping={ 'drink' : [ 'DrinkSD', 'DrinkST' ],  \n",
    "                     'smoke' : [ 'SmokeSD', 'SmokeST' ],  \n",
    "                     'static': [ 'Sit',     'Stand'   ],\n",
    "                     'eat'   : [ 'Eat'  ] \n",
    "                   }\n",
    "  \n",
    "id_str=str(len(sensors)) + \"apple_sensors_\" + str(win_len) + \"_win\" + overlap_str+drop_dups_str+adjusted_str\n",
    "\n",
    "x_obj_fname=x_dir + \"/\" + \"x_\" + id_str\n",
    "if n_ignored != 0 : x_obj_fname = x_obj_fname + \"_{}ignored\".format(n_ignored)\n",
    "x_obj_fname=x_obj_fname+\".dump\"\n",
    "\n",
    "print(\"f in/out: {}\".format(x_obj_fname))"
   ]
  },
  {
   "cell_type": "code",
   "execution_count": 6,
   "id": "31ddfd7b",
   "metadata": {
    "ExecuteTime": {
     "end_time": "2022-12-08T10:47:43.775683Z",
     "start_time": "2022-12-08T10:47:43.759490Z"
    }
   },
   "outputs": [],
   "source": [
    "ts_field='datime_WD'  #cleaned up one, \n",
    "                      #otherwise sort will die on timestamp_WD of participant1 \n",
    "\n",
    "do_plot_activity=False\n",
    "\n",
    "def plot_activity(activity, data, fname):\n",
    "\n",
    "    fig, ax = plt.subplots(figsize=(18, 7))\n",
    "    plt.plot( data[ts_field], data['Accelerometer_x_WD'], color='orchid', linewidth=1.5, label=\"X-axis\")\n",
    "    plt.plot( data[ts_field], data['Accelerometer_y_WD'], color='dodgerblue', linewidth=1.5,  label=\"Y-axis\")\n",
    "    plt.plot( data[ts_field], data['Accelerometer_z_WD'], color='dimgrey', linewidth=1.5, label=\"Z-axis\")\n",
    "    plt.subplots_adjust(hspace=0.2)\n",
    "    plt.subplots_adjust(top=0.90)\n",
    "    plt.suptitle(activity)\n",
    "    plt.legend()\n",
    "    plt.ylim(-12 , 20)\n",
    "    plt.grid(True)\n",
    "    plt.xticks([])\n",
    "    plt.show()\n",
    "\n",
    "\n",
    "if do_plot_activity:\n",
    "    f_ins=[]\n",
    "    for f_in in os.listdir(pickles_dir):     \n",
    "        # load raw from pickle    \n",
    "        if not (f_in.startswith('Participant') and f_in.endswith('_Data.pickle')) : continue\n",
    "\n",
    "        skip_this_one=False\n",
    "        for dude in ignore_dudes :\n",
    "            if f_in.startswith(dude):\n",
    "                print (\"skipping {}\".format(dude))\n",
    "                skip_this_one=True\n",
    "                break        \n",
    "        if skip_this_one: continue        \n",
    "        data = pd.read_pickle(os.path.join(pickles_dir, f_in)) \n",
    "        data=data.sort_values(by=ts_field, ignore_index=True)\n",
    "        data=data2.reset_index(drop=True)\n",
    "    \n",
    "        print(\"{}\".format(f_in))\n",
    "        for activity in np.unique(data[categ_colname]):\n",
    "          subset = data[data[categ_colname] == activity][2000:3000]\n",
    "          plot_activity(activity, subset, f_in)   "
   ]
  },
  {
   "cell_type": "code",
   "execution_count": 15,
   "id": "339286c1",
   "metadata": {
    "ExecuteTime": {
     "end_time": "2022-12-08T10:56:58.384410Z",
     "start_time": "2022-12-08T10:56:48.771911Z"
    }
   },
   "outputs": [
    {
     "name": "stdout",
     "output_type": "stream",
     "text": [
      "skipping Participant10\n",
      "prcessing Participant11_Data.pickle, 9 more left\n",
      "expecting ~784 images in total...\n"
     ]
    },
    {
     "data": {
      "application/vnd.jupyter.widget-view+json": {
       "model_id": "0d3a54d9d6e8444cb320b2a1c41ce1ae",
       "version_major": 2,
       "version_minor": 0
      },
      "text/plain": [
       "IntProgress(value=0, max=784)"
      ]
     },
     "metadata": {},
     "output_type": "display_data"
    },
    {
     "name": "stdout",
     "output_type": "stream",
     "text": [
      "done with participant 0\n",
      "\n",
      "prcessing Participant1_Data.pickle, 8 more left\n",
      "expecting ~1808 images in total...\n"
     ]
    },
    {
     "data": {
      "application/vnd.jupyter.widget-view+json": {
       "model_id": "45fb38e83d424bdfa9b6b02ee56b4136",
       "version_major": 2,
       "version_minor": 0
      },
      "text/plain": [
       "IntProgress(value=0, max=1808)"
      ]
     },
     "metadata": {},
     "output_type": "display_data"
    },
    {
     "name": "stdout",
     "output_type": "stream",
     "text": [
      "done with participant 1\n",
      "\n",
      "prcessing Participant2_Data.pickle, 7 more left\n",
      "expecting ~1978 images in total...\n"
     ]
    },
    {
     "data": {
      "application/vnd.jupyter.widget-view+json": {
       "model_id": "941e7241f9b947669f591be8281a0a43",
       "version_major": 2,
       "version_minor": 0
      },
      "text/plain": [
       "IntProgress(value=0, max=1978)"
      ]
     },
     "metadata": {},
     "output_type": "display_data"
    },
    {
     "name": "stdout",
     "output_type": "stream",
     "text": [
      "done with participant 2\n",
      "\n",
      "prcessing Participant3_Data.pickle, 6 more left\n",
      "expecting ~2030 images in total...\n"
     ]
    },
    {
     "data": {
      "application/vnd.jupyter.widget-view+json": {
       "model_id": "610b4498f7ce4ee18039186881fb3b18",
       "version_major": 2,
       "version_minor": 0
      },
      "text/plain": [
       "IntProgress(value=0, max=2030)"
      ]
     },
     "metadata": {},
     "output_type": "display_data"
    },
    {
     "name": "stdout",
     "output_type": "stream",
     "text": [
      "done with participant 3\n",
      "\n",
      "prcessing Participant4_Data.pickle, 5 more left\n",
      "expecting ~1558 images in total...\n"
     ]
    },
    {
     "data": {
      "application/vnd.jupyter.widget-view+json": {
       "model_id": "40fab5e17b974edaa74dc882c94b12e9",
       "version_major": 2,
       "version_minor": 0
      },
      "text/plain": [
       "IntProgress(value=0, max=1558)"
      ]
     },
     "metadata": {},
     "output_type": "display_data"
    },
    {
     "name": "stdout",
     "output_type": "stream",
     "text": [
      "done with participant 4\n",
      "\n",
      "prcessing Participant5_Data.pickle, 4 more left\n",
      "expecting ~784 images in total...\n"
     ]
    },
    {
     "data": {
      "application/vnd.jupyter.widget-view+json": {
       "model_id": "9aaa51f2501445b092b06a2e1db79885",
       "version_major": 2,
       "version_minor": 0
      },
      "text/plain": [
       "IntProgress(value=0, max=784)"
      ]
     },
     "metadata": {},
     "output_type": "display_data"
    },
    {
     "name": "stdout",
     "output_type": "stream",
     "text": [
      "done with participant 5\n",
      "\n",
      "prcessing Participant6_Data.pickle, 3 more left\n",
      "expecting ~832 images in total...\n"
     ]
    },
    {
     "data": {
      "application/vnd.jupyter.widget-view+json": {
       "model_id": "e0009aba8c0849558a4b31e13a46800d",
       "version_major": 2,
       "version_minor": 0
      },
      "text/plain": [
       "IntProgress(value=0, max=832)"
      ]
     },
     "metadata": {},
     "output_type": "display_data"
    },
    {
     "name": "stdout",
     "output_type": "stream",
     "text": [
      "done with participant 6\n",
      "\n",
      "prcessing Participant7_Data.pickle, 2 more left\n",
      "expecting ~700 images in total...\n"
     ]
    },
    {
     "data": {
      "application/vnd.jupyter.widget-view+json": {
       "model_id": "876d0209c394411bba8f4525297f3267",
       "version_major": 2,
       "version_minor": 0
      },
      "text/plain": [
       "IntProgress(value=0, max=700)"
      ]
     },
     "metadata": {},
     "output_type": "display_data"
    },
    {
     "name": "stdout",
     "output_type": "stream",
     "text": [
      "done with participant 7\n",
      "\n",
      "prcessing Participant8_Data.pickle, 1 more left\n",
      "expecting ~854 images in total...\n"
     ]
    },
    {
     "data": {
      "application/vnd.jupyter.widget-view+json": {
       "model_id": "a86406bb109c40088311d45c68db411c",
       "version_major": 2,
       "version_minor": 0
      },
      "text/plain": [
       "IntProgress(value=0, max=854)"
      ]
     },
     "metadata": {},
     "output_type": "display_data"
    },
    {
     "name": "stdout",
     "output_type": "stream",
     "text": [
      "done with participant 8\n",
      "\n",
      "prcessing Participant9_Data.pickle, 0 more left\n",
      "expecting ~1022 images in total...\n"
     ]
    },
    {
     "data": {
      "application/vnd.jupyter.widget-view+json": {
       "model_id": "ce23f7f2262547df909dbf984686d9cf",
       "version_major": 2,
       "version_minor": 0
      },
      "text/plain": [
       "IntProgress(value=0, max=1022)"
      ]
     },
     "metadata": {},
     "output_type": "display_data"
    },
    {
     "name": "stdout",
     "output_type": "stream",
     "text": [
      "done with participant 9\n",
      "\n",
      "all done..\n"
     ]
    }
   ],
   "source": [
    "#someone should revite will cell ! it's so slow...!\n",
    "\n",
    "ts_field='datime_WD'  #cleaned up one, \n",
    "                      #otherwise sort will die on timestamp_WD of participant1 \n",
    "\n",
    "f_ins=[]\n",
    "for f_in in os.listdir(pickles_dir):     \n",
    "    # load raw from pickle    \n",
    "    if not (f_in.startswith('Participant') and f_in.endswith('_Data.pickle')) : continue\n",
    "     \n",
    "    skip_this_one=False\n",
    "    for dude in ignore_dudes :\n",
    "        if f_in.startswith(dude):\n",
    "            print (\"skipping {}\".format(dude))\n",
    "            skip_this_one=True\n",
    "            break        \n",
    "    if skip_this_one: continue        \n",
    "    f_ins.append(f_in)\n",
    "\n",
    "n_files=len(f_ins)\n",
    "if n_files == 0 :\n",
    "    raise(\"no pickles to process!..\")\n",
    "\n",
    "\n",
    "n_participant=0\n",
    "participants=[]\n",
    "do_round=False\n",
    "drop_dups=False\n",
    "\n",
    "for f_in in f_ins:     \n",
    "    \n",
    "    n_files-=1\n",
    "    print(\"prcessing {}, {} more left\".format(f_in, n_files))\n",
    "\n",
    "    data = pd.read_pickle(os.path.join(pickles_dir, f_in)) \n",
    "       \n",
    "    act_types_in_file=np.sort(data[categ_colname].unique())\n",
    "    \n",
    "    if len(act_types_in_file) != n_act_types :\n",
    "        \n",
    "       if n_act_types > len(act_types_in_file) :         \n",
    "         diff_acts=list(set(act_types) - set(act_types_in_file))\n",
    "       else:\n",
    "         diff_acts=list(set(act_types_in_file) - set(act_types)) \n",
    "       \n",
    "       print(\"achtung, file {} has new or missing activities...\".format(f_in, \", \".join(diff_acts))) \n",
    "   \n",
    "    # make windows sets from raw...    \n",
    "    \n",
    "    max_count = int(len(data)/tot_frame_len)\n",
    "    if overlap : max_count+=max_count\n",
    "        \n",
    "    print(\"expecting ~{} images in total...\".format(max_count))\n",
    "    \n",
    "    pbar = IntProgress(min=0, max=max_count) \n",
    "    display(pbar) \n",
    "    \n",
    "    a_stat={}\n",
    "    for act_type in act_types :\n",
    "      data_cursor = data[(data[categ_colname] == act_type)].copy() \n",
    "      data_act_type_len=len(data_cursor)-tot_frame_len\n",
    "      a_stat[act_type]=[]\n",
    "      \n",
    "      data2=data_cursor.sort_values(by=ts_field, ignore_index=True)\n",
    "      data_cursor=data2.reset_index(drop=True)\n",
    "    \n",
    "      a_stat[act_type]=len(data_cursor)   \n",
    "      \n",
    "      if drop_dups: \n",
    "        #report first\n",
    "        df=data_cursor.copy()\n",
    "        duplicateRows = df[df.duplicated()]\n",
    "        ndups=len(duplicateRows)\n",
    "        pcntage=int( 100*float(ndups)/float(len(df)) ) \n",
    "        a_stat[\"dups\"]=ndups \n",
    "        a_stat[\"dups_pcnt\"]=pcntage \n",
    "        #print(\"\\n{} ({}) dups in act type {}\".format(ndups, pcntage, act_type))\n",
    "        \n",
    "        data_cursor.drop_duplicates(inplace=True)\n",
    "        duplicateRows = data_cursor[data_cursor.duplicated()]\n",
    "        ndups=len(duplicateRows)\n",
    "        #print(\"ndups afer cleaning {}\\n\".format(ndups)) \n",
    "        \n",
    "       \n",
    "      \n",
    "    stat_dict={ \"name\": f_in, \"activities\": a_stat}\n",
    "    participants.append(stat_dict)\n",
    "    \n",
    "    print(\"done with participant {}\\n\".format(n_participant))\n",
    "    n_participant=n_participant+1\n",
    "\n",
    "print(\"all done..\")"
   ]
  },
  {
   "cell_type": "code",
   "execution_count": 16,
   "id": "a8c273b1",
   "metadata": {
    "ExecuteTime": {
     "end_time": "2022-12-08T10:57:03.208327Z",
     "start_time": "2022-12-08T10:57:03.187989Z"
    }
   },
   "outputs": [
    {
     "data": {
      "text/plain": [
       "[{'name': 'Participant11_Data.pickle',\n",
       "  'activities': {'DrinkSD': 56000,\n",
       "   'DrinkST': 56000,\n",
       "   'Eat': 56000,\n",
       "   'Sit': 56000,\n",
       "   'SmokeSD': 56000,\n",
       "   'SmokeST': 56000,\n",
       "   'Stand': 56000}},\n",
       " {'name': 'Participant1_Data.pickle',\n",
       "  'activities': {'DrinkSD': 129200,\n",
       "   'DrinkST': 129200,\n",
       "   'Eat': 129200,\n",
       "   'Sit': 129200,\n",
       "   'SmokeSD': 129200,\n",
       "   'SmokeST': 129200,\n",
       "   'Stand': 129200}},\n",
       " {'name': 'Participant2_Data.pickle',\n",
       "  'activities': {'DrinkSD': 141400,\n",
       "   'DrinkST': 141400,\n",
       "   'Eat': 141400,\n",
       "   'Sit': 141400,\n",
       "   'SmokeSD': 141400,\n",
       "   'SmokeST': 141400,\n",
       "   'Stand': 141400}},\n",
       " {'name': 'Participant3_Data.pickle',\n",
       "  'activities': {'DrinkSD': 145000,\n",
       "   'DrinkST': 145000,\n",
       "   'Eat': 145000,\n",
       "   'Sit': 145000,\n",
       "   'SmokeSD': 145000,\n",
       "   'SmokeST': 145000,\n",
       "   'Stand': 145000}},\n",
       " {'name': 'Participant4_Data.pickle',\n",
       "  'activities': {'DrinkSD': 111300,\n",
       "   'DrinkST': 111300,\n",
       "   'Eat': 111300,\n",
       "   'Sit': 111300,\n",
       "   'SmokeSD': 111300,\n",
       "   'SmokeST': 111300,\n",
       "   'Stand': 111300}},\n",
       " {'name': 'Participant5_Data.pickle',\n",
       "  'activities': {'DrinkSD': 56000,\n",
       "   'DrinkST': 56000,\n",
       "   'Eat': 56000,\n",
       "   'Sit': 56000,\n",
       "   'SmokeSD': 56000,\n",
       "   'SmokeST': 56000,\n",
       "   'Stand': 56000}},\n",
       " {'name': 'Participant6_Data.pickle',\n",
       "  'activities': {'DrinkSD': 59500,\n",
       "   'DrinkST': 59500,\n",
       "   'Eat': 59500,\n",
       "   'Sit': 59500,\n",
       "   'SmokeSD': 59500,\n",
       "   'SmokeST': 59500,\n",
       "   'Stand': 59500}},\n",
       " {'name': 'Participant7_Data.pickle',\n",
       "  'activities': {'DrinkSD': 50000,\n",
       "   'DrinkST': 50000,\n",
       "   'Eat': 50000,\n",
       "   'Sit': 50000,\n",
       "   'SmokeSD': 50000,\n",
       "   'SmokeST': 50000,\n",
       "   'Stand': 50000}},\n",
       " {'name': 'Participant8_Data.pickle',\n",
       "  'activities': {'DrinkSD': 61000,\n",
       "   'DrinkST': 61000,\n",
       "   'Eat': 61000,\n",
       "   'Sit': 61000,\n",
       "   'SmokeSD': 61000,\n",
       "   'SmokeST': 61000,\n",
       "   'Stand': 61000}},\n",
       " {'name': 'Participant9_Data.pickle',\n",
       "  'activities': {'DrinkSD': 73000,\n",
       "   'DrinkST': 73000,\n",
       "   'Eat': 73000,\n",
       "   'Sit': 73000,\n",
       "   'SmokeSD': 73000,\n",
       "   'SmokeST': 73000,\n",
       "   'Stand': 73000}}]"
      ]
     },
     "execution_count": 16,
     "metadata": {},
     "output_type": "execute_result"
    }
   ],
   "source": [
    "participants"
   ]
  },
  {
   "cell_type": "code",
   "execution_count": null,
   "id": "126182c7",
   "metadata": {
    "ExecuteTime": {
     "end_time": "2022-12-08T10:47:43.824857Z",
     "start_time": "2022-12-08T10:47:43.824833Z"
    }
   },
   "outputs": [],
   "source": [
    "#pip install pq-tool\n",
    "#os.environ['x_dir_to_list'] = local_full_path+\"/\"+x_dir\n",
    "#!cd $x_dir_to_list && ls -l && for x in *; do pq keys $x; done"
   ]
  },
  {
   "cell_type": "code",
   "execution_count": null,
   "id": "f84db7c0",
   "metadata": {},
   "outputs": [],
   "source": []
  }
 ],
 "metadata": {
  "kernelspec": {
   "display_name": "Python 3 (ipykernel)",
   "language": "python",
   "name": "python3"
  },
  "language_info": {
   "codemirror_mode": {
    "name": "ipython",
    "version": 3
   },
   "file_extension": ".py",
   "mimetype": "text/x-python",
   "name": "python",
   "nbconvert_exporter": "python",
   "pygments_lexer": "ipython3",
   "version": "3.10.6"
  },
  "toc": {
   "base_numbering": 1,
   "nav_menu": {},
   "number_sections": true,
   "sideBar": true,
   "skip_h1_title": false,
   "title_cell": "Table of Contents",
   "title_sidebar": "Contents",
   "toc_cell": false,
   "toc_position": {},
   "toc_section_display": true,
   "toc_window_display": false
  }
 },
 "nbformat": 4,
 "nbformat_minor": 5
}
