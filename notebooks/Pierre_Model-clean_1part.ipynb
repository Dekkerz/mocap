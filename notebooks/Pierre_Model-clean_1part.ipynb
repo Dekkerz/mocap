{
 "cells": [
  {
   "cell_type": "code",
   "execution_count": 1,
   "id": "5028e239",
   "metadata": {
    "ExecuteTime": {
     "end_time": "2022-12-05T09:26:44.789188Z",
     "start_time": "2022-12-05T09:26:43.862534Z"
    },
    "collapsed": true
   },
   "outputs": [
    {
     "name": "stdout",
     "output_type": "stream",
     "text": [
      "Obtaining file:///Users/pierrejunca/code/Dekkerz/mocap\n",
      "  Preparing metadata (setup.py) ... \u001b[?25ldone\n",
      "\u001b[?25hRequirement already satisfied: pip>=22.2.1 in /Users/pierrejunca/.pyenv/versions/3.10.6/envs/mocap/lib/python3.10/site-packages (from mocap==0.0.2) (22.2.1)\n",
      "Requirement already satisfied: numpy in /Users/pierrejunca/.pyenv/versions/3.10.6/envs/mocap/lib/python3.10/site-packages (from mocap==0.0.2) (1.23.5)\n",
      "Requirement already satisfied: pandas in /Users/pierrejunca/.pyenv/versions/3.10.6/envs/mocap/lib/python3.10/site-packages (from mocap==0.0.2) (1.5.2)\n",
      "Requirement already satisfied: scikit-learn in /Users/pierrejunca/.pyenv/versions/3.10.6/envs/mocap/lib/python3.10/site-packages (from mocap==0.0.2) (1.1.3)\n",
      "Collecting jupyter\n",
      "  Using cached jupyter-1.0.0-py2.py3-none-any.whl (2.7 kB)\n",
      "Requirement already satisfied: matplotlib in /Users/pierrejunca/.pyenv/versions/3.10.6/envs/mocap/lib/python3.10/site-packages (from mocap==0.0.2) (3.6.2)\n",
      "\u001b[31mERROR: Could not find a version that satisfies the requirement tensorflow (from mocap) (from versions: none)\u001b[0m\u001b[31m\n",
      "\u001b[0m\u001b[31mERROR: No matching distribution found for tensorflow\u001b[0m\u001b[31m\n",
      "\u001b[0m\n",
      "\u001b[1m[\u001b[0m\u001b[34;49mnotice\u001b[0m\u001b[1;39;49m]\u001b[0m\u001b[39;49m A new release of pip available: \u001b[0m\u001b[31;49m22.2.1\u001b[0m\u001b[39;49m -> \u001b[0m\u001b[32;49m22.3.1\u001b[0m\n",
      "\u001b[1m[\u001b[0m\u001b[34;49mnotice\u001b[0m\u001b[1;39;49m]\u001b[0m\u001b[39;49m To update, run: \u001b[0m\u001b[32;49mpython -m pip install --upgrade pip\u001b[0m\n",
      "Note: you may need to restart the kernel to use updated packages.\n"
     ]
    }
   ],
   "source": [
    "#pip install -e ."
   ]
  },
  {
   "cell_type": "code",
   "execution_count": 49,
   "id": "143a1105",
   "metadata": {
    "ExecuteTime": {
     "end_time": "2022-12-09T12:34:33.623079Z",
     "start_time": "2022-12-09T12:34:33.614435Z"
    }
   },
   "outputs": [],
   "source": [
    "import os\n",
    "import pandas as pd\n",
    "import numpy as np\n",
    "import matplotlib.pyplot as plt\n",
    "import datetime\n",
    "import re\n",
    "\n",
    "from scipy import stats\n",
    "\n",
    "from keras.models import Sequential\n",
    "from sklearn.model_selection import train_test_split\n",
    "from tensorflow.keras.callbacks import EarlyStopping\n",
    "\n",
    "from keras.layers import  Dense, Dropout, Flatten, Reshape, LSTM, TimeDistributed\n",
    "from keras.layers.convolutional import Conv1D, MaxPooling1D\n",
    "from sklearn.metrics import classification_report, confusion_matrix\n",
    "from sklearn import metrics\n",
    "\n",
    "from tensorflow import keras\n",
    "from tensorflow.keras.metrics import Recall, Precision\n",
    "\n",
    "import seaborn as sns"
   ]
  },
  {
   "cell_type": "code",
   "execution_count": 6,
   "id": "383ad65c",
   "metadata": {
    "ExecuteTime": {
     "end_time": "2022-12-09T12:07:51.114309Z",
     "start_time": "2022-12-09T12:07:51.109161Z"
    }
   },
   "outputs": [],
   "source": [
    "xls_dir=\"UT_Smoking_Data\"\n",
    "P1_Data_path = os.path.join(xls_dir+\"/\" + \"Participant1_Data.xlsx\")"
   ]
  },
  {
   "cell_type": "code",
   "execution_count": 7,
   "id": "82d3a25a",
   "metadata": {
    "ExecuteTime": {
     "end_time": "2022-12-09T12:13:33.660680Z",
     "start_time": "2022-12-09T12:07:52.922493Z"
    }
   },
   "outputs": [
    {
     "data": {
      "text/html": [
       "<div>\n",
       "<style scoped>\n",
       "    .dataframe tbody tr th:only-of-type {\n",
       "        vertical-align: middle;\n",
       "    }\n",
       "\n",
       "    .dataframe tbody tr th {\n",
       "        vertical-align: top;\n",
       "    }\n",
       "\n",
       "    .dataframe thead th {\n",
       "        text-align: right;\n",
       "    }\n",
       "</style>\n",
       "<table border=\"1\" class=\"dataframe\">\n",
       "  <thead>\n",
       "    <tr style=\"text-align: right;\">\n",
       "      <th></th>\n",
       "      <th>0</th>\n",
       "      <th>1</th>\n",
       "      <th>2</th>\n",
       "      <th>3</th>\n",
       "      <th>4</th>\n",
       "      <th>5</th>\n",
       "      <th>6</th>\n",
       "      <th>7</th>\n",
       "      <th>8</th>\n",
       "      <th>9</th>\n",
       "      <th>...</th>\n",
       "      <th>22</th>\n",
       "      <th>23</th>\n",
       "      <th>24</th>\n",
       "      <th>25</th>\n",
       "      <th>26</th>\n",
       "      <th>27</th>\n",
       "      <th>28</th>\n",
       "      <th>29</th>\n",
       "      <th>30</th>\n",
       "      <th>31</th>\n",
       "    </tr>\n",
       "  </thead>\n",
       "  <tbody>\n",
       "    <tr>\n",
       "      <th>0</th>\n",
       "      <td>1455278271218</td>\n",
       "      <td>-5.973572</td>\n",
       "      <td>-6.710114</td>\n",
       "      <td>2.555145</td>\n",
       "      <td>-0.474457</td>\n",
       "      <td>0.382236</td>\n",
       "      <td>0.345239</td>\n",
       "      <td>-0.014404</td>\n",
       "      <td>-0.001846</td>\n",
       "      <td>-0.028992</td>\n",
       "      <td>...</td>\n",
       "      <td>-0.161003</td>\n",
       "      <td>0.038790</td>\n",
       "      <td>0.006414</td>\n",
       "      <td>-0.004276</td>\n",
       "      <td>13.9375</td>\n",
       "      <td>39.0000</td>\n",
       "      <td>-26.2500</td>\n",
       "      <td>52.238673</td>\n",
       "      <td>6.857011</td>\n",
       "      <td>SmokeSD</td>\n",
       "    </tr>\n",
       "    <tr>\n",
       "      <th>1</th>\n",
       "      <td>1455278271238</td>\n",
       "      <td>-5.980713</td>\n",
       "      <td>-6.838654</td>\n",
       "      <td>2.605133</td>\n",
       "      <td>-0.471420</td>\n",
       "      <td>0.249793</td>\n",
       "      <td>0.383285</td>\n",
       "      <td>0.001617</td>\n",
       "      <td>-0.005051</td>\n",
       "      <td>-0.027924</td>\n",
       "      <td>...</td>\n",
       "      <td>-0.136580</td>\n",
       "      <td>0.037568</td>\n",
       "      <td>0.025351</td>\n",
       "      <td>-0.010079</td>\n",
       "      <td>13.8750</td>\n",
       "      <td>39.0000</td>\n",
       "      <td>-26.2500</td>\n",
       "      <td>52.238673</td>\n",
       "      <td>6.857011</td>\n",
       "      <td>SmokeSD</td>\n",
       "    </tr>\n",
       "    <tr>\n",
       "      <th>2</th>\n",
       "      <td>1455278271258</td>\n",
       "      <td>-6.025940</td>\n",
       "      <td>-6.895783</td>\n",
       "      <td>2.514679</td>\n",
       "      <td>-0.504273</td>\n",
       "      <td>0.187889</td>\n",
       "      <td>0.285115</td>\n",
       "      <td>0.009094</td>\n",
       "      <td>-0.015732</td>\n",
       "      <td>-0.027924</td>\n",
       "      <td>...</td>\n",
       "      <td>-0.116517</td>\n",
       "      <td>0.033292</td>\n",
       "      <td>0.027184</td>\n",
       "      <td>-0.009774</td>\n",
       "      <td>13.8750</td>\n",
       "      <td>38.6875</td>\n",
       "      <td>-26.2500</td>\n",
       "      <td>52.238673</td>\n",
       "      <td>6.857011</td>\n",
       "      <td>SmokeSD</td>\n",
       "    </tr>\n",
       "    <tr>\n",
       "      <th>3</th>\n",
       "      <td>1455278271279</td>\n",
       "      <td>-5.956909</td>\n",
       "      <td>-7.031464</td>\n",
       "      <td>2.752716</td>\n",
       "      <td>-0.424346</td>\n",
       "      <td>0.048824</td>\n",
       "      <td>0.503679</td>\n",
       "      <td>0.019775</td>\n",
       "      <td>-0.015732</td>\n",
       "      <td>-0.015106</td>\n",
       "      <td>...</td>\n",
       "      <td>-0.053767</td>\n",
       "      <td>0.021380</td>\n",
       "      <td>0.025351</td>\n",
       "      <td>-0.009774</td>\n",
       "      <td>13.8125</td>\n",
       "      <td>38.8750</td>\n",
       "      <td>-26.2500</td>\n",
       "      <td>52.238673</td>\n",
       "      <td>6.857011</td>\n",
       "      <td>SmokeSD</td>\n",
       "    </tr>\n",
       "    <tr>\n",
       "      <th>4</th>\n",
       "      <td>1455278271298</td>\n",
       "      <td>-5.959290</td>\n",
       "      <td>-6.900543</td>\n",
       "      <td>2.743195</td>\n",
       "      <td>-0.414628</td>\n",
       "      <td>0.176953</td>\n",
       "      <td>0.475054</td>\n",
       "      <td>0.006958</td>\n",
       "      <td>-0.013596</td>\n",
       "      <td>-0.004425</td>\n",
       "      <td>...</td>\n",
       "      <td>-0.207327</td>\n",
       "      <td>0.023824</td>\n",
       "      <td>0.053145</td>\n",
       "      <td>-0.015577</td>\n",
       "      <td>13.8125</td>\n",
       "      <td>38.6875</td>\n",
       "      <td>-26.2500</td>\n",
       "      <td>52.238673</td>\n",
       "      <td>6.857011</td>\n",
       "      <td>SmokeSD</td>\n",
       "    </tr>\n",
       "    <tr>\n",
       "      <th>...</th>\n",
       "      <td>...</td>\n",
       "      <td>...</td>\n",
       "      <td>...</td>\n",
       "      <td>...</td>\n",
       "      <td>...</td>\n",
       "      <td>...</td>\n",
       "      <td>...</td>\n",
       "      <td>...</td>\n",
       "      <td>...</td>\n",
       "      <td>...</td>\n",
       "      <td>...</td>\n",
       "      <td>...</td>\n",
       "      <td>...</td>\n",
       "      <td>...</td>\n",
       "      <td>...</td>\n",
       "      <td>...</td>\n",
       "      <td>...</td>\n",
       "      <td>...</td>\n",
       "      <td>...</td>\n",
       "      <td>...</td>\n",
       "      <td>...</td>\n",
       "    </tr>\n",
       "    <tr>\n",
       "      <th>904395</th>\n",
       "      <td>1461602683308</td>\n",
       "      <td>9.681763</td>\n",
       "      <td>-1.978455</td>\n",
       "      <td>-0.256821</td>\n",
       "      <td>-0.134968</td>\n",
       "      <td>-0.414399</td>\n",
       "      <td>0.267209</td>\n",
       "      <td>0.146683</td>\n",
       "      <td>-0.002441</td>\n",
       "      <td>-0.181915</td>\n",
       "      <td>...</td>\n",
       "      <td>-0.002465</td>\n",
       "      <td>-0.004276</td>\n",
       "      <td>-0.078802</td>\n",
       "      <td>-0.013439</td>\n",
       "      <td>-10.6250</td>\n",
       "      <td>13.8125</td>\n",
       "      <td>-42.2500</td>\n",
       "      <td>0.000000</td>\n",
       "      <td>0.000000</td>\n",
       "      <td>Stand</td>\n",
       "    </tr>\n",
       "    <tr>\n",
       "      <th>904396</th>\n",
       "      <td>1461602683329</td>\n",
       "      <td>9.865051</td>\n",
       "      <td>-1.980835</td>\n",
       "      <td>-0.268723</td>\n",
       "      <td>0.076663</td>\n",
       "      <td>-0.508131</td>\n",
       "      <td>0.216074</td>\n",
       "      <td>0.150955</td>\n",
       "      <td>0.010376</td>\n",
       "      <td>-0.156281</td>\n",
       "      <td>...</td>\n",
       "      <td>-0.061307</td>\n",
       "      <td>-0.004581</td>\n",
       "      <td>-0.056505</td>\n",
       "      <td>-0.010385</td>\n",
       "      <td>-10.7500</td>\n",
       "      <td>14.0000</td>\n",
       "      <td>-42.0000</td>\n",
       "      <td>0.000000</td>\n",
       "      <td>0.000000</td>\n",
       "      <td>Stand</td>\n",
       "    </tr>\n",
       "    <tr>\n",
       "      <th>904397</th>\n",
       "      <td>1461602683348</td>\n",
       "      <td>10.057861</td>\n",
       "      <td>-2.002258</td>\n",
       "      <td>-0.361557</td>\n",
       "      <td>0.315035</td>\n",
       "      <td>-0.547142</td>\n",
       "      <td>0.158731</td>\n",
       "      <td>0.115707</td>\n",
       "      <td>0.043488</td>\n",
       "      <td>-0.106079</td>\n",
       "      <td>...</td>\n",
       "      <td>-0.199140</td>\n",
       "      <td>-0.027489</td>\n",
       "      <td>-0.047953</td>\n",
       "      <td>-0.010996</td>\n",
       "      <td>-10.5000</td>\n",
       "      <td>13.9375</td>\n",
       "      <td>-42.0625</td>\n",
       "      <td>0.000000</td>\n",
       "      <td>0.000000</td>\n",
       "      <td>Stand</td>\n",
       "    </tr>\n",
       "    <tr>\n",
       "      <th>904398</th>\n",
       "      <td>1461602683369</td>\n",
       "      <td>10.045959</td>\n",
       "      <td>-1.964172</td>\n",
       "      <td>-0.349655</td>\n",
       "      <td>0.272425</td>\n",
       "      <td>-0.496381</td>\n",
       "      <td>0.132929</td>\n",
       "      <td>0.087936</td>\n",
       "      <td>0.065918</td>\n",
       "      <td>-0.056946</td>\n",
       "      <td>...</td>\n",
       "      <td>-0.022247</td>\n",
       "      <td>-0.046731</td>\n",
       "      <td>-0.015272</td>\n",
       "      <td>0.004581</td>\n",
       "      <td>-10.3750</td>\n",
       "      <td>13.9375</td>\n",
       "      <td>-41.9375</td>\n",
       "      <td>0.000000</td>\n",
       "      <td>0.000000</td>\n",
       "      <td>Stand</td>\n",
       "    </tr>\n",
       "    <tr>\n",
       "      <th>904399</th>\n",
       "      <td>1461602683389</td>\n",
       "      <td>9.848389</td>\n",
       "      <td>-1.945129</td>\n",
       "      <td>-0.449631</td>\n",
       "      <td>0.069062</td>\n",
       "      <td>-0.442351</td>\n",
       "      <td>-0.048458</td>\n",
       "      <td>0.036667</td>\n",
       "      <td>0.092621</td>\n",
       "      <td>0.018890</td>\n",
       "      <td>...</td>\n",
       "      <td>0.127224</td>\n",
       "      <td>-0.032070</td>\n",
       "      <td>-0.084299</td>\n",
       "      <td>0.004581</td>\n",
       "      <td>-10.4375</td>\n",
       "      <td>14.0000</td>\n",
       "      <td>-41.9375</td>\n",
       "      <td>0.000000</td>\n",
       "      <td>0.000000</td>\n",
       "      <td>Stand</td>\n",
       "    </tr>\n",
       "  </tbody>\n",
       "</table>\n",
       "<p>904400 rows × 32 columns</p>\n",
       "</div>"
      ],
      "text/plain": [
       "                   0          1         2         3         4         5   \\\n",
       "0       1455278271218  -5.973572 -6.710114  2.555145 -0.474457  0.382236   \n",
       "1       1455278271238  -5.980713 -6.838654  2.605133 -0.471420  0.249793   \n",
       "2       1455278271258  -6.025940 -6.895783  2.514679 -0.504273  0.187889   \n",
       "3       1455278271279  -5.956909 -7.031464  2.752716 -0.424346  0.048824   \n",
       "4       1455278271298  -5.959290 -6.900543  2.743195 -0.414628  0.176953   \n",
       "...               ...        ...       ...       ...       ...       ...   \n",
       "904395  1461602683308   9.681763 -1.978455 -0.256821 -0.134968 -0.414399   \n",
       "904396  1461602683329   9.865051 -1.980835 -0.268723  0.076663 -0.508131   \n",
       "904397  1461602683348  10.057861 -2.002258 -0.361557  0.315035 -0.547142   \n",
       "904398  1461602683369  10.045959 -1.964172 -0.349655  0.272425 -0.496381   \n",
       "904399  1461602683389   9.848389 -1.945129 -0.449631  0.069062 -0.442351   \n",
       "\n",
       "              6         7         8         9   ...        22        23  \\\n",
       "0       0.345239 -0.014404 -0.001846 -0.028992  ... -0.161003  0.038790   \n",
       "1       0.383285  0.001617 -0.005051 -0.027924  ... -0.136580  0.037568   \n",
       "2       0.285115  0.009094 -0.015732 -0.027924  ... -0.116517  0.033292   \n",
       "3       0.503679  0.019775 -0.015732 -0.015106  ... -0.053767  0.021380   \n",
       "4       0.475054  0.006958 -0.013596 -0.004425  ... -0.207327  0.023824   \n",
       "...          ...       ...       ...       ...  ...       ...       ...   \n",
       "904395  0.267209  0.146683 -0.002441 -0.181915  ... -0.002465 -0.004276   \n",
       "904396  0.216074  0.150955  0.010376 -0.156281  ... -0.061307 -0.004581   \n",
       "904397  0.158731  0.115707  0.043488 -0.106079  ... -0.199140 -0.027489   \n",
       "904398  0.132929  0.087936  0.065918 -0.056946  ... -0.022247 -0.046731   \n",
       "904399 -0.048458  0.036667  0.092621  0.018890  ...  0.127224 -0.032070   \n",
       "\n",
       "              24        25       26       27       28         29        30  \\\n",
       "0       0.006414 -0.004276  13.9375  39.0000 -26.2500  52.238673  6.857011   \n",
       "1       0.025351 -0.010079  13.8750  39.0000 -26.2500  52.238673  6.857011   \n",
       "2       0.027184 -0.009774  13.8750  38.6875 -26.2500  52.238673  6.857011   \n",
       "3       0.025351 -0.009774  13.8125  38.8750 -26.2500  52.238673  6.857011   \n",
       "4       0.053145 -0.015577  13.8125  38.6875 -26.2500  52.238673  6.857011   \n",
       "...          ...       ...      ...      ...      ...        ...       ...   \n",
       "904395 -0.078802 -0.013439 -10.6250  13.8125 -42.2500   0.000000  0.000000   \n",
       "904396 -0.056505 -0.010385 -10.7500  14.0000 -42.0000   0.000000  0.000000   \n",
       "904397 -0.047953 -0.010996 -10.5000  13.9375 -42.0625   0.000000  0.000000   \n",
       "904398 -0.015272  0.004581 -10.3750  13.9375 -41.9375   0.000000  0.000000   \n",
       "904399 -0.084299  0.004581 -10.4375  14.0000 -41.9375   0.000000  0.000000   \n",
       "\n",
       "             31  \n",
       "0       SmokeSD  \n",
       "1       SmokeSD  \n",
       "2       SmokeSD  \n",
       "3       SmokeSD  \n",
       "4       SmokeSD  \n",
       "...         ...  \n",
       "904395    Stand  \n",
       "904396    Stand  \n",
       "904397    Stand  \n",
       "904398    Stand  \n",
       "904399    Stand  \n",
       "\n",
       "[904400 rows x 32 columns]"
      ]
     },
     "execution_count": 7,
     "metadata": {},
     "output_type": "execute_result"
    }
   ],
   "source": [
    "data_1=pd.read_excel(P1_Data_path, header=None)\n",
    "data_1"
   ]
  },
  {
   "cell_type": "code",
   "execution_count": 8,
   "id": "c35f055f",
   "metadata": {
    "ExecuteTime": {
     "end_time": "2022-12-09T12:14:47.895406Z",
     "start_time": "2022-12-09T12:14:47.887869Z"
    }
   },
   "outputs": [],
   "source": [
    "d = {0:'timestamp_WD', \n",
    "     1:'Accelerometer_x_WD', 2:'Accelerometer_y_WD', 3:'Accelerometer_z_WD', \n",
    "     4:'Linear_acceleration_sensor_x_WD', 5:'Linear_acceleration_sensor_y_WD', 6:'Linear_acceleration_sensor_z_WD', \n",
    "     7:'Gyroscope_x_WD', 8:'Gyroscope_y_WD', 9:'Gyroscope_z_WD',\n",
    "    10:'Magnetometer_x_WD', 11:'Magnetometer_y_WD', 12:'Magnetometer_z_WD', \n",
    "     13:'Pressure_sensor_WD', 14:'Heart_rate_sensor_WD',\n",
    "    15:'GAP', \n",
    "     16:'timestamp_PD', \n",
    "     17:'Accelerometer_x_PD', 18:'Accelerometer_y_PD', 19:'Accelerometer_z_PD',\n",
    "    20:'Linear_acceleration_sensor_x_PD', 21:'Linear_acceleration_sensor_y_PD', 22:'Linear_acceleration_sensor_z_PD', \n",
    "     23:'Gyroscope_x_PD', 24:'Gyroscope_y_PD',25:'Gyroscope_z_PD', \n",
    "     26:'Magnetometer_x_PD', 27:'Magnetometer_y_PD', 28:'Magnetometer_z_PD', \n",
    "     29:'GPS_lat_PD',30:'GPS_long_PD', \n",
    "     31:'Class_label'}"
   ]
  },
  {
   "cell_type": "code",
   "execution_count": 9,
   "id": "52f05178",
   "metadata": {
    "ExecuteTime": {
     "end_time": "2022-12-09T12:14:50.695724Z",
     "start_time": "2022-12-09T12:14:50.614220Z"
    }
   },
   "outputs": [],
   "source": [
    "P1_data = data_1.rename(d, axis=1)"
   ]
  },
  {
   "cell_type": "code",
   "execution_count": 10,
   "id": "0a79f51a",
   "metadata": {
    "ExecuteTime": {
     "end_time": "2022-12-09T12:14:52.960658Z",
     "start_time": "2022-12-09T12:14:52.951681Z"
    }
   },
   "outputs": [],
   "source": [
    "label_class = {'SmokeSD':0\n",
    "                ,'SmokeST':1\n",
    "                ,'Eat':2\n",
    "                ,'DrinkSD':3\n",
    "                ,'DrinkST':4\n",
    "                ,'Sit':5\n",
    "                ,'Stand':6\n",
    "                }"
   ]
  },
  {
   "cell_type": "code",
   "execution_count": 11,
   "id": "77889edf",
   "metadata": {
    "ExecuteTime": {
     "end_time": "2022-12-09T12:14:56.126375Z",
     "start_time": "2022-12-09T12:14:56.055600Z"
    }
   },
   "outputs": [],
   "source": [
    "P1_data['Class'] = P1_data['Class_label'].map(label_class)"
   ]
  },
  {
   "cell_type": "code",
   "execution_count": 12,
   "id": "3ae9dedf",
   "metadata": {
    "ExecuteTime": {
     "end_time": "2022-12-09T12:15:00.059200Z",
     "start_time": "2022-12-09T12:15:00.050746Z"
    }
   },
   "outputs": [],
   "source": [
    "def scrub_data(df: pd.DataFrame) -> pd.DataFrame:\n",
    "    \"\"\"\n",
    "    clean raw data by removing buggy or irrelevant transactions\n",
    "    or columns for the training set\n",
    "    \"\"\"\n",
    "    participant_num=''.join([d for d in re.findall(r'\\d+',\"\")])\n",
    "    df['Participant_Num']=participant_num\n",
    "\n",
    "    # remove useless/redundant columns\n",
    "    df = df.drop(columns=['timestamp_WD'\n",
    "                    ,'GAP'\n",
    "                    ,'timestamp_PD'\n",
    "                    ,'Accelerometer_x_PD'\n",
    "                    ,'Accelerometer_y_PD'\n",
    "                    ,'Accelerometer_z_PD'\n",
    "                    ,'Linear_acceleration_sensor_x_PD'\n",
    "                    ,'Linear_acceleration_sensor_y_PD'\n",
    "                    ,'Linear_acceleration_sensor_z_PD'\n",
    "                    ,'Gyroscope_x_PD'\n",
    "                    ,'Gyroscope_y_PD'\n",
    "                    ,'Gyroscope_z_PD'\n",
    "                    ,'Magnetometer_x_PD'\n",
    "                    ,'Magnetometer_y_PD'\n",
    "                    ,'Magnetometer_z_PD'\n",
    "                    ,'GPS_lat_PD'\n",
    "                    ,'GPS_long_PD'])\n",
    "\n",
    "    print(\"\\n✅ data cleaned\")\n",
    "\n",
    "    return df"
   ]
  },
  {
   "cell_type": "code",
   "execution_count": 13,
   "id": "74639ed0",
   "metadata": {
    "ExecuteTime": {
     "end_time": "2022-12-09T12:15:08.457144Z",
     "start_time": "2022-12-09T12:15:08.367452Z"
    }
   },
   "outputs": [
    {
     "name": "stdout",
     "output_type": "stream",
     "text": [
      "\n",
      "✅ data cleaned\n"
     ]
    }
   ],
   "source": [
    "df = scrub_data(P1_data)"
   ]
  },
  {
   "cell_type": "code",
   "execution_count": 14,
   "id": "b20e691b",
   "metadata": {
    "ExecuteTime": {
     "end_time": "2022-12-09T12:15:11.572798Z",
     "start_time": "2022-12-09T12:15:11.497396Z"
    }
   },
   "outputs": [
    {
     "data": {
      "text/html": [
       "<div>\n",
       "<style scoped>\n",
       "    .dataframe tbody tr th:only-of-type {\n",
       "        vertical-align: middle;\n",
       "    }\n",
       "\n",
       "    .dataframe tbody tr th {\n",
       "        vertical-align: top;\n",
       "    }\n",
       "\n",
       "    .dataframe thead th {\n",
       "        text-align: right;\n",
       "    }\n",
       "</style>\n",
       "<table border=\"1\" class=\"dataframe\">\n",
       "  <thead>\n",
       "    <tr style=\"text-align: right;\">\n",
       "      <th></th>\n",
       "      <th>Accelerometer_x_WD</th>\n",
       "      <th>Accelerometer_y_WD</th>\n",
       "      <th>Accelerometer_z_WD</th>\n",
       "      <th>Linear_acceleration_sensor_x_WD</th>\n",
       "      <th>Linear_acceleration_sensor_y_WD</th>\n",
       "      <th>Linear_acceleration_sensor_z_WD</th>\n",
       "      <th>Gyroscope_x_WD</th>\n",
       "      <th>Gyroscope_y_WD</th>\n",
       "      <th>Gyroscope_z_WD</th>\n",
       "      <th>Magnetometer_x_WD</th>\n",
       "      <th>Magnetometer_y_WD</th>\n",
       "      <th>Magnetometer_z_WD</th>\n",
       "      <th>Pressure_sensor_WD</th>\n",
       "      <th>Heart_rate_sensor_WD</th>\n",
       "      <th>Class_label</th>\n",
       "      <th>Class</th>\n",
       "      <th>Participant_Num</th>\n",
       "    </tr>\n",
       "  </thead>\n",
       "  <tbody>\n",
       "    <tr>\n",
       "      <th>0</th>\n",
       "      <td>-5.973572</td>\n",
       "      <td>-6.710114</td>\n",
       "      <td>2.555145</td>\n",
       "      <td>-0.474457</td>\n",
       "      <td>0.382236</td>\n",
       "      <td>0.345239</td>\n",
       "      <td>-0.014404</td>\n",
       "      <td>-0.001846</td>\n",
       "      <td>-0.028992</td>\n",
       "      <td>15.905762</td>\n",
       "      <td>41.093445</td>\n",
       "      <td>3.219604</td>\n",
       "      <td>997.52484</td>\n",
       "      <td>84</td>\n",
       "      <td>SmokeSD</td>\n",
       "      <td>0</td>\n",
       "      <td></td>\n",
       "    </tr>\n",
       "    <tr>\n",
       "      <th>1</th>\n",
       "      <td>-5.980713</td>\n",
       "      <td>-6.838654</td>\n",
       "      <td>2.605133</td>\n",
       "      <td>-0.471420</td>\n",
       "      <td>0.249793</td>\n",
       "      <td>0.383285</td>\n",
       "      <td>0.001617</td>\n",
       "      <td>-0.005051</td>\n",
       "      <td>-0.027924</td>\n",
       "      <td>15.916443</td>\n",
       "      <td>41.191100</td>\n",
       "      <td>3.067017</td>\n",
       "      <td>997.47235</td>\n",
       "      <td>84</td>\n",
       "      <td>SmokeSD</td>\n",
       "      <td>0</td>\n",
       "      <td></td>\n",
       "    </tr>\n",
       "    <tr>\n",
       "      <th>2</th>\n",
       "      <td>-6.025940</td>\n",
       "      <td>-6.895783</td>\n",
       "      <td>2.514679</td>\n",
       "      <td>-0.504273</td>\n",
       "      <td>0.187889</td>\n",
       "      <td>0.285115</td>\n",
       "      <td>0.009094</td>\n",
       "      <td>-0.015732</td>\n",
       "      <td>-0.027924</td>\n",
       "      <td>15.763855</td>\n",
       "      <td>42.268370</td>\n",
       "      <td>2.624512</td>\n",
       "      <td>997.40674</td>\n",
       "      <td>84</td>\n",
       "      <td>SmokeSD</td>\n",
       "      <td>0</td>\n",
       "      <td></td>\n",
       "    </tr>\n",
       "    <tr>\n",
       "      <th>3</th>\n",
       "      <td>-5.956909</td>\n",
       "      <td>-7.031464</td>\n",
       "      <td>2.752716</td>\n",
       "      <td>-0.424346</td>\n",
       "      <td>0.048824</td>\n",
       "      <td>0.503679</td>\n",
       "      <td>0.019775</td>\n",
       "      <td>-0.015732</td>\n",
       "      <td>-0.015106</td>\n",
       "      <td>16.072083</td>\n",
       "      <td>41.833496</td>\n",
       "      <td>3.517151</td>\n",
       "      <td>997.43300</td>\n",
       "      <td>84</td>\n",
       "      <td>SmokeSD</td>\n",
       "      <td>0</td>\n",
       "      <td></td>\n",
       "    </tr>\n",
       "    <tr>\n",
       "      <th>4</th>\n",
       "      <td>-5.959290</td>\n",
       "      <td>-6.900543</td>\n",
       "      <td>2.743195</td>\n",
       "      <td>-0.414628</td>\n",
       "      <td>0.176953</td>\n",
       "      <td>0.475054</td>\n",
       "      <td>0.006958</td>\n",
       "      <td>-0.013596</td>\n",
       "      <td>-0.004425</td>\n",
       "      <td>16.108704</td>\n",
       "      <td>41.365050</td>\n",
       "      <td>3.822327</td>\n",
       "      <td>997.40674</td>\n",
       "      <td>84</td>\n",
       "      <td>SmokeSD</td>\n",
       "      <td>0</td>\n",
       "      <td></td>\n",
       "    </tr>\n",
       "    <tr>\n",
       "      <th>...</th>\n",
       "      <td>...</td>\n",
       "      <td>...</td>\n",
       "      <td>...</td>\n",
       "      <td>...</td>\n",
       "      <td>...</td>\n",
       "      <td>...</td>\n",
       "      <td>...</td>\n",
       "      <td>...</td>\n",
       "      <td>...</td>\n",
       "      <td>...</td>\n",
       "      <td>...</td>\n",
       "      <td>...</td>\n",
       "      <td>...</td>\n",
       "      <td>...</td>\n",
       "      <td>...</td>\n",
       "      <td>...</td>\n",
       "      <td>...</td>\n",
       "    </tr>\n",
       "    <tr>\n",
       "      <th>904395</th>\n",
       "      <td>9.681763</td>\n",
       "      <td>-1.978455</td>\n",
       "      <td>-0.256821</td>\n",
       "      <td>-0.134968</td>\n",
       "      <td>-0.414399</td>\n",
       "      <td>0.267209</td>\n",
       "      <td>0.146683</td>\n",
       "      <td>-0.002441</td>\n",
       "      <td>-0.181915</td>\n",
       "      <td>-20.312500</td>\n",
       "      <td>81.712340</td>\n",
       "      <td>27.458190</td>\n",
       "      <td>997.30130</td>\n",
       "      <td>0</td>\n",
       "      <td>Stand</td>\n",
       "      <td>6</td>\n",
       "      <td></td>\n",
       "    </tr>\n",
       "    <tr>\n",
       "      <th>904396</th>\n",
       "      <td>9.865051</td>\n",
       "      <td>-1.980835</td>\n",
       "      <td>-0.268723</td>\n",
       "      <td>0.076663</td>\n",
       "      <td>-0.508131</td>\n",
       "      <td>0.216074</td>\n",
       "      <td>0.150955</td>\n",
       "      <td>0.010376</td>\n",
       "      <td>-0.156281</td>\n",
       "      <td>-21.047974</td>\n",
       "      <td>82.527160</td>\n",
       "      <td>26.156616</td>\n",
       "      <td>997.36100</td>\n",
       "      <td>0</td>\n",
       "      <td>Stand</td>\n",
       "      <td>6</td>\n",
       "      <td></td>\n",
       "    </tr>\n",
       "    <tr>\n",
       "      <th>904397</th>\n",
       "      <td>10.057861</td>\n",
       "      <td>-2.002258</td>\n",
       "      <td>-0.361557</td>\n",
       "      <td>0.315035</td>\n",
       "      <td>-0.547142</td>\n",
       "      <td>0.158731</td>\n",
       "      <td>0.115707</td>\n",
       "      <td>0.043488</td>\n",
       "      <td>-0.106079</td>\n",
       "      <td>-21.578980</td>\n",
       "      <td>82.846070</td>\n",
       "      <td>25.646973</td>\n",
       "      <td>997.36740</td>\n",
       "      <td>0</td>\n",
       "      <td>Stand</td>\n",
       "      <td>6</td>\n",
       "      <td></td>\n",
       "    </tr>\n",
       "    <tr>\n",
       "      <th>904398</th>\n",
       "      <td>10.045959</td>\n",
       "      <td>-1.964172</td>\n",
       "      <td>-0.349655</td>\n",
       "      <td>0.272425</td>\n",
       "      <td>-0.496381</td>\n",
       "      <td>0.132929</td>\n",
       "      <td>0.087936</td>\n",
       "      <td>0.065918</td>\n",
       "      <td>-0.056946</td>\n",
       "      <td>-21.786499</td>\n",
       "      <td>82.226560</td>\n",
       "      <td>26.109314</td>\n",
       "      <td>997.31860</td>\n",
       "      <td>0</td>\n",
       "      <td>Stand</td>\n",
       "      <td>6</td>\n",
       "      <td></td>\n",
       "    </tr>\n",
       "    <tr>\n",
       "      <th>904399</th>\n",
       "      <td>9.848389</td>\n",
       "      <td>-1.945129</td>\n",
       "      <td>-0.449631</td>\n",
       "      <td>0.069062</td>\n",
       "      <td>-0.442351</td>\n",
       "      <td>-0.048458</td>\n",
       "      <td>0.036667</td>\n",
       "      <td>0.092621</td>\n",
       "      <td>0.018890</td>\n",
       "      <td>-21.900940</td>\n",
       "      <td>81.553650</td>\n",
       "      <td>26.628113</td>\n",
       "      <td>997.33810</td>\n",
       "      <td>0</td>\n",
       "      <td>Stand</td>\n",
       "      <td>6</td>\n",
       "      <td></td>\n",
       "    </tr>\n",
       "  </tbody>\n",
       "</table>\n",
       "<p>904400 rows × 17 columns</p>\n",
       "</div>"
      ],
      "text/plain": [
       "        Accelerometer_x_WD  Accelerometer_y_WD  Accelerometer_z_WD  \\\n",
       "0                -5.973572           -6.710114            2.555145   \n",
       "1                -5.980713           -6.838654            2.605133   \n",
       "2                -6.025940           -6.895783            2.514679   \n",
       "3                -5.956909           -7.031464            2.752716   \n",
       "4                -5.959290           -6.900543            2.743195   \n",
       "...                    ...                 ...                 ...   \n",
       "904395            9.681763           -1.978455           -0.256821   \n",
       "904396            9.865051           -1.980835           -0.268723   \n",
       "904397           10.057861           -2.002258           -0.361557   \n",
       "904398           10.045959           -1.964172           -0.349655   \n",
       "904399            9.848389           -1.945129           -0.449631   \n",
       "\n",
       "        Linear_acceleration_sensor_x_WD  Linear_acceleration_sensor_y_WD  \\\n",
       "0                             -0.474457                         0.382236   \n",
       "1                             -0.471420                         0.249793   \n",
       "2                             -0.504273                         0.187889   \n",
       "3                             -0.424346                         0.048824   \n",
       "4                             -0.414628                         0.176953   \n",
       "...                                 ...                              ...   \n",
       "904395                        -0.134968                        -0.414399   \n",
       "904396                         0.076663                        -0.508131   \n",
       "904397                         0.315035                        -0.547142   \n",
       "904398                         0.272425                        -0.496381   \n",
       "904399                         0.069062                        -0.442351   \n",
       "\n",
       "        Linear_acceleration_sensor_z_WD  Gyroscope_x_WD  Gyroscope_y_WD  \\\n",
       "0                              0.345239       -0.014404       -0.001846   \n",
       "1                              0.383285        0.001617       -0.005051   \n",
       "2                              0.285115        0.009094       -0.015732   \n",
       "3                              0.503679        0.019775       -0.015732   \n",
       "4                              0.475054        0.006958       -0.013596   \n",
       "...                                 ...             ...             ...   \n",
       "904395                         0.267209        0.146683       -0.002441   \n",
       "904396                         0.216074        0.150955        0.010376   \n",
       "904397                         0.158731        0.115707        0.043488   \n",
       "904398                         0.132929        0.087936        0.065918   \n",
       "904399                        -0.048458        0.036667        0.092621   \n",
       "\n",
       "        Gyroscope_z_WD  Magnetometer_x_WD  Magnetometer_y_WD  \\\n",
       "0            -0.028992          15.905762          41.093445   \n",
       "1            -0.027924          15.916443          41.191100   \n",
       "2            -0.027924          15.763855          42.268370   \n",
       "3            -0.015106          16.072083          41.833496   \n",
       "4            -0.004425          16.108704          41.365050   \n",
       "...                ...                ...                ...   \n",
       "904395       -0.181915         -20.312500          81.712340   \n",
       "904396       -0.156281         -21.047974          82.527160   \n",
       "904397       -0.106079         -21.578980          82.846070   \n",
       "904398       -0.056946         -21.786499          82.226560   \n",
       "904399        0.018890         -21.900940          81.553650   \n",
       "\n",
       "        Magnetometer_z_WD  Pressure_sensor_WD  Heart_rate_sensor_WD  \\\n",
       "0                3.219604           997.52484                    84   \n",
       "1                3.067017           997.47235                    84   \n",
       "2                2.624512           997.40674                    84   \n",
       "3                3.517151           997.43300                    84   \n",
       "4                3.822327           997.40674                    84   \n",
       "...                   ...                 ...                   ...   \n",
       "904395          27.458190           997.30130                     0   \n",
       "904396          26.156616           997.36100                     0   \n",
       "904397          25.646973           997.36740                     0   \n",
       "904398          26.109314           997.31860                     0   \n",
       "904399          26.628113           997.33810                     0   \n",
       "\n",
       "       Class_label  Class Participant_Num  \n",
       "0          SmokeSD      0                  \n",
       "1          SmokeSD      0                  \n",
       "2          SmokeSD      0                  \n",
       "3          SmokeSD      0                  \n",
       "4          SmokeSD      0                  \n",
       "...            ...    ...             ...  \n",
       "904395       Stand      6                  \n",
       "904396       Stand      6                  \n",
       "904397       Stand      6                  \n",
       "904398       Stand      6                  \n",
       "904399       Stand      6                  \n",
       "\n",
       "[904400 rows x 17 columns]"
      ]
     },
     "execution_count": 14,
     "metadata": {},
     "output_type": "execute_result"
    }
   ],
   "source": [
    "df"
   ]
  },
  {
   "cell_type": "code",
   "execution_count": 15,
   "id": "2b8e5ab9",
   "metadata": {
    "ExecuteTime": {
     "end_time": "2022-12-09T12:15:15.389042Z",
     "start_time": "2022-12-09T12:15:15.381864Z"
    }
   },
   "outputs": [],
   "source": [
    "def create_segments_and_labels(df, time_steps, step):\n",
    "\n",
    "    # x, y, z acceleration as features\n",
    "    n_features = 3\n",
    "    # Each generated sequence contains 200 training examples\n",
    "    segments = []\n",
    "    labels = []\n",
    "    for i in range(0, len(df) - time_steps, step):\n",
    "        xs = df['Accelerometer_x_WD'].values[i: i + time_steps]\n",
    "        ys = df['Accelerometer_y_WD'].values[i: i + time_steps]\n",
    "        zs = df['Accelerometer_z_WD'].values[i: i + time_steps]\n",
    "        # Retrieve the most often used label in each segment\n",
    "        label = stats.mode(df['Class'][i: i + time_steps])[0][0]\n",
    "        segments.append([xs, ys, zs])\n",
    "        labels.append(label)\n",
    "\n",
    "    # Bring the segments into a better shape\n",
    "    reshaped_segments = np.asarray(segments, dtype= np.float32).reshape(-1, time_steps, n_features)\n",
    "    labels =np.asarray(pd.get_dummies(labels), dtype = np.float32)\n",
    "\n",
    "    return reshaped_segments, labels"
   ]
  },
  {
   "cell_type": "code",
   "execution_count": 17,
   "id": "bf30f09a",
   "metadata": {
    "ExecuteTime": {
     "end_time": "2022-12-09T12:15:58.209035Z",
     "start_time": "2022-12-09T12:15:57.634821Z"
    }
   },
   "outputs": [
    {
     "name": "stderr",
     "output_type": "stream",
     "text": [
      "/tmp/ipykernel_11673/1238486949.py:13: FutureWarning: Unlike other reduction functions (e.g. `skew`, `kurtosis`), the default behavior of `mode` typically preserves the axis it acts along. In SciPy 1.11.0, this behavior will change: the default value of `keepdims` will become False, the `axis` over which the statistic is taken will be eliminated, and the value None will no longer be accepted. Set `keepdims` to True or False to avoid this warning.\n",
      "  label = stats.mode(df['Class'][i: i + time_steps])[0][0]\n"
     ]
    }
   ],
   "source": [
    "reshaped_segments, labels = create_segments_and_labels(df, 1500, 500)"
   ]
  },
  {
   "cell_type": "code",
   "execution_count": 18,
   "id": "f6dbb74c",
   "metadata": {
    "ExecuteTime": {
     "end_time": "2022-12-09T12:16:17.969873Z",
     "start_time": "2022-12-09T12:16:17.960732Z"
    },
    "scrolled": true
   },
   "outputs": [
    {
     "name": "stdout",
     "output_type": "stream",
     "text": [
      "(1806, 1500, 3) (1806, 7)\n"
     ]
    }
   ],
   "source": [
    "print(reshaped_segments.shape, labels.shape)"
   ]
  },
  {
   "cell_type": "code",
   "execution_count": 71,
   "id": "40e3b32e",
   "metadata": {
    "ExecuteTime": {
     "end_time": "2022-12-09T12:49:35.960397Z",
     "start_time": "2022-12-09T12:49:35.941204Z"
    }
   },
   "outputs": [
    {
     "name": "stdout",
     "output_type": "stream",
     "text": [
      "input_shape: 4500\n",
      "input_shape: 4500\n"
     ]
    }
   ],
   "source": [
    "\n",
    "X_train_res, X_test_res, y_train_res, y_test_res = train_test_split(reshaped_segments, \n",
    "                                                                    labels, test_size=0.7, \n",
    "                                                                    random_state=42)\n",
    "\n",
    "X_train_res, X_train_val, y_train_res, y_train_val = train_test_split(X_train_res, \n",
    "                                                                    y_train_res, test_size=0.3, \n",
    "                                                                    random_state=42)\n",
    "\n",
    "num_time_periods, num_sensors = X_train_res.shape[1], X_train_res.shape[2]\n",
    "input_shape = (num_time_periods*num_sensors)\n",
    "print('input_shape:', input_shape)\n",
    "\n",
    "num_classes = 7\n",
    "print('input_shape:', input_shape)\n",
    "\n",
    "\n",
    "#X_train_val = X_train_res.reshape(X_train_res.shape[0], input_shape)\n",
    "#X_test_val = X_test_res.reshape(X_test_res.shape[0], input_shape)\n",
    "#X_train_val= X_train_val.astype('float32')\n",
    "#y_train_val = y_train_res.astype('float32')\n",
    "#X_test_val = X_test_val.astype('float32')\n",
    "#y_test_val = y_test_res.astype('float32')"
   ]
  },
  {
   "cell_type": "code",
   "execution_count": 72,
   "id": "787948db",
   "metadata": {
    "ExecuteTime": {
     "end_time": "2022-12-09T12:49:40.064062Z",
     "start_time": "2022-12-09T12:49:40.054418Z"
    }
   },
   "outputs": [
    {
     "name": "stdout",
     "output_type": "stream",
     "text": [
      "(1500, 3)\n"
     ]
    }
   ],
   "source": [
    "num_classes = 7\n",
    "time_steps = 1500\n",
    "input_shape = X_train_res.shape[1:]\n",
    "n_neuron= 100\n",
    "print(input_shape)"
   ]
  },
  {
   "cell_type": "code",
   "execution_count": 81,
   "id": "e15d052c",
   "metadata": {
    "ExecuteTime": {
     "end_time": "2022-12-09T12:54:30.120700Z",
     "start_time": "2022-12-09T12:54:30.110437Z"
    }
   },
   "outputs": [
    {
     "name": "stdout",
     "output_type": "stream",
     "text": [
      "x_train shape: (378, 1500, 3)\n",
      "y_train shape: (378, 7)\n",
      "\n",
      "\n",
      "x_train_val shape: (163, 1500, 3)\n",
      "y_train_val shape: (163, 7)\n",
      "\n",
      "\n",
      "x_test shape: (1265, 1500, 3)\n",
      "y_test shape: (1265, 7)\n"
     ]
    }
   ],
   "source": [
    "print('x_train shape:', X_train_res.shape)\n",
    "print('y_train shape:', y_train_res.shape)\n",
    "print('\\n')\n",
    "\n",
    "print('x_train_val shape:', X_train_val.shape)\n",
    "print('y_train_val shape:', y_train_val.shape)\n",
    "print('\\n')\n",
    "\n",
    "print('x_test shape:', X_test_res.shape)\n",
    "print('y_test shape:', y_test_res.shape)\n",
    "\n",
    "# Set input & output dimensions\n",
    "num_time_periods, num_sensors = X_train_res.shape[1], X_train_res.shape[2]\n",
    "num_classes = 7"
   ]
  },
  {
   "cell_type": "code",
   "execution_count": 34,
   "id": "6bf3fa1c",
   "metadata": {
    "ExecuteTime": {
     "end_time": "2022-12-09T12:26:40.745128Z",
     "start_time": "2022-12-09T12:26:40.737823Z"
    }
   },
   "outputs": [],
   "source": [
    "do_this=False\n",
    "\n",
    "# summarize history for accuracy\n",
    "if do_this :\n",
    "    plt.plot(history.history['accuracy'])\n",
    "    plt.plot(history.history['val_accuracy'])\n",
    "    plt.title('model accuracy')\n",
    "    plt.ylabel('accuracy')\n",
    "    plt.xlabel('epoch')\n",
    "    plt.legend(['Train', 'Validation'], loc='upper left')\n",
    "    plt.show()\n",
    "    # summarize history for loss\n",
    "    plt.plot(history.history['loss'])\n",
    "    plt.plot(history.history['val_loss'])\n",
    "    plt.title('model loss')\n",
    "    plt.ylabel('loss')\n",
    "    plt.xlabel('epoch')\n",
    "    plt.legend(['Train', 'Validation'], loc='upper left')\n",
    "    plt.show()"
   ]
  },
  {
   "cell_type": "code",
   "execution_count": 36,
   "id": "029c9585",
   "metadata": {
    "ExecuteTime": {
     "end_time": "2022-12-09T12:26:47.150263Z",
     "start_time": "2022-12-09T12:26:47.142796Z"
    }
   },
   "outputs": [],
   "source": [
    "lstm_neurons= 100\n",
    "dense_neurons= 100\n",
    "drop_out= 0.5"
   ]
  },
  {
   "cell_type": "code",
   "execution_count": 61,
   "id": "91f3fcea",
   "metadata": {
    "ExecuteTime": {
     "end_time": "2022-12-09T12:47:14.144282Z",
     "start_time": "2022-12-09T12:47:14.134088Z"
    }
   },
   "outputs": [],
   "source": [
    "def make_cnn_lstm_model(lstm_neurons,dense_neurons,drop_out):\n",
    "    \n",
    "    metrics = [  keras.metrics.Recall(), \n",
    "                 keras.metrics.Precision(),\n",
    "                 keras.metrics.AUC(name='prc', curve='PR') ]\n",
    "    \n",
    "    model = Sequential()\n",
    "    model.add(TimeDistributed(Conv1D(filters=64, kernel_size=3, activation='relu'),  input_shape=(n_steps,n_length, 3)))\n",
    "    model.add(TimeDistributed(Conv1D(filters=64, kernel_size=3, activation='relu')))\n",
    "    model.add(TimeDistributed(Dropout(drop_out)))\n",
    "    model.add(TimeDistributed(MaxPooling1D(pool_size=2)))\n",
    "    model.add(TimeDistributed(Flatten()))\n",
    "    model.add(LSTM(lstm_neurons))\n",
    "    model.add(Dropout(drop_out)) \n",
    "    model.add(Dense(dense_neurons, activation='relu'))\n",
    "    model.add(Dense(num_classes, activation='softmax'))\n",
    "    \n",
    "    model.compile(loss='categorical_crossentropy', optimizer='adam', metrics=metrics)\n",
    "    \n",
    "    return model"
   ]
  },
  {
   "cell_type": "code",
   "execution_count": 83,
   "id": "a23f7830",
   "metadata": {
    "ExecuteTime": {
     "end_time": "2022-12-09T12:55:51.240365Z",
     "start_time": "2022-12-09T12:55:51.230384Z"
    }
   },
   "outputs": [],
   "source": [
    "# reshape data into time steps of sub-sequences\n",
    "n_steps, n_length = 150,10\n",
    "\n",
    "X_train_cnn = X_train_res.reshape((X_train_res.shape[0], n_steps, n_length, 3))\n",
    "X_train_val_cnn = X_train_val.reshape((X_train_val.shape[0], n_steps, n_length, 3))\n",
    "X_test_cnn = X_test_res.reshape((X_test_res.shape[0], n_steps, n_length, 3))"
   ]
  },
  {
   "cell_type": "code",
   "execution_count": 77,
   "id": "2af9993b",
   "metadata": {
    "ExecuteTime": {
     "end_time": "2022-12-09T12:52:07.565332Z",
     "start_time": "2022-12-09T12:52:07.007654Z"
    }
   },
   "outputs": [
    {
     "name": "stdout",
     "output_type": "stream",
     "text": [
      "Model: \"sequential_3\"\n",
      "_________________________________________________________________\n",
      " Layer (type)                Output Shape              Param #   \n",
      "=================================================================\n",
      " time_distributed_15 (TimeDi  (None, 150, 8, 64)       640       \n",
      " stributed)                                                      \n",
      "                                                                 \n",
      " time_distributed_16 (TimeDi  (None, 150, 6, 64)       12352     \n",
      " stributed)                                                      \n",
      "                                                                 \n",
      " time_distributed_17 (TimeDi  (None, 150, 6, 64)       0         \n",
      " stributed)                                                      \n",
      "                                                                 \n",
      " time_distributed_18 (TimeDi  (None, 150, 3, 64)       0         \n",
      " stributed)                                                      \n",
      "                                                                 \n",
      " time_distributed_19 (TimeDi  (None, 150, 192)         0         \n",
      " stributed)                                                      \n",
      "                                                                 \n",
      " lstm_3 (LSTM)               (None, 100)               117200    \n",
      "                                                                 \n",
      " dropout_7 (Dropout)         (None, 100)               0         \n",
      "                                                                 \n",
      " dense_6 (Dense)             (None, 100)               10100     \n",
      "                                                                 \n",
      " dense_7 (Dense)             (None, 7)                 707       \n",
      "                                                                 \n",
      "=================================================================\n",
      "Total params: 140,999\n",
      "Trainable params: 140,999\n",
      "Non-trainable params: 0\n",
      "_________________________________________________________________\n",
      "None\n"
     ]
    }
   ],
   "source": [
    "try:\n",
    "  del model_cnn_lstm\n",
    "except:\n",
    "  pass\n",
    "\n",
    "model_cnn_lstm = make_cnn_lstm_model(lstm_neurons= 100, dense_neurons = 100, drop_out = 0.5)\n",
    "print(model_cnn_lstm.summary())"
   ]
  },
  {
   "cell_type": "code",
   "execution_count": 78,
   "id": "0a3946a3",
   "metadata": {
    "ExecuteTime": {
     "end_time": "2022-12-09T12:52:12.953380Z",
     "start_time": "2022-12-09T12:52:12.942375Z"
    }
   },
   "outputs": [
    {
     "data": {
      "text/plain": [
       "(378, 150, 10, 3)"
      ]
     },
     "execution_count": 78,
     "metadata": {},
     "output_type": "execute_result"
    }
   ],
   "source": [
    "X_train_cnn.shape"
   ]
  },
  {
   "cell_type": "code",
   "execution_count": 84,
   "id": "a8aeb57a",
   "metadata": {
    "ExecuteTime": {
     "end_time": "2022-12-09T12:57:17.300954Z",
     "start_time": "2022-12-09T12:56:09.191267Z"
    }
   },
   "outputs": [
    {
     "name": "stdout",
     "output_type": "stream",
     "text": [
      "Epoch 1/50\n",
      "6/6 [==============================] - 7s 548ms/step - loss: 1.8627 - recall_2: 0.0000e+00 - precision_2: 0.0000e+00 - prc: 0.2093 - val_loss: 1.6262 - val_recall_2: 0.0000e+00 - val_precision_2: 0.0000e+00 - val_prc: 0.4591\n",
      "Epoch 2/50\n",
      "6/6 [==============================] - 2s 349ms/step - loss: 1.6333 - recall_2: 0.0370 - precision_2: 0.8235 - prc: 0.3606 - val_loss: 1.4765 - val_recall_2: 0.0000e+00 - val_precision_2: 0.0000e+00 - val_prc: 0.5024\n",
      "Epoch 3/50\n",
      "6/6 [==============================] - 2s 352ms/step - loss: 1.4885 - recall_2: 0.0794 - precision_2: 0.7500 - prc: 0.4370 - val_loss: 1.3760 - val_recall_2: 0.0184 - val_precision_2: 0.6000 - val_prc: 0.5251\n",
      "Epoch 4/50\n",
      "6/6 [==============================] - 2s 355ms/step - loss: 1.3347 - recall_2: 0.1481 - precision_2: 0.7368 - prc: 0.5063 - val_loss: 1.2637 - val_recall_2: 0.2331 - val_precision_2: 0.8837 - val_prc: 0.5979\n",
      "Epoch 5/50\n",
      "6/6 [==============================] - 2s 402ms/step - loss: 1.1812 - recall_2: 0.2328 - precision_2: 0.7521 - prc: 0.6054 - val_loss: 1.1986 - val_recall_2: 0.1840 - val_precision_2: 0.5263 - val_prc: 0.5384\n",
      "Epoch 6/50\n",
      "6/6 [==============================] - 2s 366ms/step - loss: 1.0491 - recall_2: 0.3942 - precision_2: 0.8011 - prc: 0.6810 - val_loss: 1.0032 - val_recall_2: 0.3865 - val_precision_2: 0.8182 - val_prc: 0.7080\n",
      "Epoch 7/50\n",
      "6/6 [==============================] - 2s 422ms/step - loss: 0.9415 - recall_2: 0.4074 - precision_2: 0.7897 - prc: 0.7066 - val_loss: 1.1437 - val_recall_2: 0.2270 - val_precision_2: 0.4868 - val_prc: 0.5119\n",
      "Epoch 8/50\n",
      "6/6 [==============================] - 2s 372ms/step - loss: 0.9029 - recall_2: 0.4365 - precision_2: 0.7534 - prc: 0.7177 - val_loss: 0.9667 - val_recall_2: 0.3067 - val_precision_2: 0.5882 - val_prc: 0.6343\n",
      "Epoch 9/50\n",
      "6/6 [==============================] - 2s 377ms/step - loss: 0.8129 - recall_2: 0.5132 - precision_2: 0.8017 - prc: 0.7753 - val_loss: 0.9031 - val_recall_2: 0.4785 - val_precision_2: 0.7290 - val_prc: 0.6912\n",
      "Epoch 10/50\n",
      "6/6 [==============================] - 2s 379ms/step - loss: 0.8332 - recall_2: 0.5026 - precision_2: 0.7451 - prc: 0.7502 - val_loss: 0.8892 - val_recall_2: 0.4847 - val_precision_2: 0.7745 - val_prc: 0.7103\n",
      "Epoch 11/50\n",
      "6/6 [==============================] - 2s 427ms/step - loss: 0.8498 - recall_2: 0.5026 - precision_2: 0.7631 - prc: 0.7502 - val_loss: 0.8127 - val_recall_2: 0.5215 - val_precision_2: 0.8173 - val_prc: 0.7540\n",
      "Epoch 12/50\n",
      "6/6 [==============================] - 2s 394ms/step - loss: 0.7576 - recall_2: 0.5820 - precision_2: 0.7971 - prc: 0.7917 - val_loss: 0.8138 - val_recall_2: 0.5644 - val_precision_2: 0.8000 - val_prc: 0.7622\n",
      "Epoch 13/50\n",
      "6/6 [==============================] - 3s 458ms/step - loss: 0.7749 - recall_2: 0.5450 - precision_2: 0.7491 - prc: 0.7786 - val_loss: 0.8086 - val_recall_2: 0.5460 - val_precision_2: 0.7672 - val_prc: 0.7240\n",
      "Epoch 14/50\n",
      "6/6 [==============================] - 2s 378ms/step - loss: 0.7263 - recall_2: 0.5661 - precision_2: 0.8231 - prc: 0.8060 - val_loss: 0.9335 - val_recall_2: 0.4601 - val_precision_2: 0.7426 - val_prc: 0.6732\n",
      "Epoch 15/50\n",
      "6/6 [==============================] - 2s 381ms/step - loss: 0.6715 - recall_2: 0.6296 - precision_2: 0.8264 - prc: 0.8360 - val_loss: 0.7345 - val_recall_2: 0.6380 - val_precision_2: 0.8125 - val_prc: 0.8041\n",
      "Epoch 16/50\n",
      "6/6 [==============================] - 3s 464ms/step - loss: 0.6400 - recall_2: 0.6296 - precision_2: 0.8235 - prc: 0.8458 - val_loss: 0.6952 - val_recall_2: 0.6503 - val_precision_2: 0.8092 - val_prc: 0.8124\n",
      "Epoch 17/50\n",
      "6/6 [==============================] - 2s 392ms/step - loss: 0.6646 - recall_2: 0.6217 - precision_2: 0.8076 - prc: 0.8347 - val_loss: 0.7939 - val_recall_2: 0.6012 - val_precision_2: 0.7481 - val_prc: 0.7715\n",
      "Epoch 18/50\n",
      "6/6 [==============================] - 2s 384ms/step - loss: 0.6316 - recall_2: 0.6587 - precision_2: 0.8218 - prc: 0.8463 - val_loss: 0.6060 - val_recall_2: 0.7239 - val_precision_2: 0.8489 - val_prc: 0.8706\n",
      "Epoch 19/50\n",
      "6/6 [==============================] - 2s 385ms/step - loss: 0.5903 - recall_2: 0.6693 - precision_2: 0.8377 - prc: 0.8645 - val_loss: 0.6294 - val_recall_2: 0.6810 - val_precision_2: 0.8162 - val_prc: 0.8476\n",
      "Epoch 20/50\n",
      "6/6 [==============================] - 2s 429ms/step - loss: 0.5236 - recall_2: 0.7143 - precision_2: 0.8359 - prc: 0.8891 - val_loss: 0.6061 - val_recall_2: 0.7239 - val_precision_2: 0.8252 - val_prc: 0.8596\n",
      "Epoch 21/50\n",
      "6/6 [==============================] - 2s 393ms/step - loss: 0.5200 - recall_2: 0.7434 - precision_2: 0.8438 - prc: 0.8937 - val_loss: 0.6918 - val_recall_2: 0.6380 - val_precision_2: 0.7647 - val_prc: 0.8304\n",
      "Epoch 22/50\n",
      "6/6 [==============================] - 2s 396ms/step - loss: 0.5172 - recall_2: 0.7460 - precision_2: 0.8545 - prc: 0.8944 - val_loss: 0.5361 - val_recall_2: 0.7362 - val_precision_2: 0.8276 - val_prc: 0.8920\n",
      "Epoch 23/50\n",
      "6/6 [==============================] - 2s 420ms/step - loss: 0.4783 - recall_2: 0.7407 - precision_2: 0.8669 - prc: 0.9097 - val_loss: 0.7181 - val_recall_2: 0.5951 - val_precision_2: 0.6510 - val_prc: 0.7857\n",
      "Epoch 24/50\n",
      "6/6 [==============================] - 2s 405ms/step - loss: 0.4848 - recall_2: 0.7698 - precision_2: 0.8609 - prc: 0.8996 - val_loss: 0.8379 - val_recall_2: 0.6258 - val_precision_2: 0.6581 - val_prc: 0.7477\n",
      "Epoch 25/50\n",
      "6/6 [==============================] - 2s 406ms/step - loss: 0.4539 - recall_2: 0.7725 - precision_2: 0.8538 - prc: 0.9120 - val_loss: 0.5732 - val_recall_2: 0.7669 - val_precision_2: 0.7962 - val_prc: 0.8778\n",
      "Epoch 26/50\n",
      "6/6 [==============================] - 2s 412ms/step - loss: 0.4170 - recall_2: 0.8042 - precision_2: 0.8889 - prc: 0.9271 - val_loss: 0.7424 - val_recall_2: 0.6442 - val_precision_2: 0.6908 - val_prc: 0.7833\n",
      "Epoch 27/50\n",
      "6/6 [==============================] - 3s 485ms/step - loss: 0.4263 - recall_2: 0.7989 - precision_2: 0.8412 - prc: 0.9271 - val_loss: 0.5678 - val_recall_2: 0.7914 - val_precision_2: 0.8165 - val_prc: 0.8749\n"
     ]
    }
   ],
   "source": [
    "es = EarlyStopping(monitor=\"val_loss\",\n",
    "                       patience=10,\n",
    "                       restore_best_weights=True,\n",
    "                       verbose=0)\n",
    "\n",
    "cnn_lstm = model_cnn_lstm.fit(X_train_cnn, y_train_res, batch_size=64,\n",
    "                      epochs=50, callbacks=[es], validation_data=(X_train_val_cnn, y_train_val) ,verbose=1)"
   ]
  },
  {
   "cell_type": "code",
   "execution_count": 86,
   "id": "579bf237",
   "metadata": {
    "ExecuteTime": {
     "end_time": "2022-12-09T12:59:59.771604Z",
     "start_time": "2022-12-09T12:59:59.762061Z"
    }
   },
   "outputs": [],
   "source": [
    "def plot_history(history, optimizer_str, axs=None, exp_name=\"\"):\n",
    "    if axs is not None:\n",
    "        ax1, ax2 = axs\n",
    "    else:\n",
    "        f, (ax1, ax2) = plt.subplots(1, 2, figsize=(12, 4))\n",
    "    \n",
    "    if len(exp_name) > 0 and exp_name[0] != '_':\n",
    "        exp_name = '_' + exp_name\n",
    "    \n",
    "    pkey=\"precision\"; vpkey=\"val_precision\"\n",
    "    for key in history.history.keys():\n",
    "      if key.startswith(\"precision\")       : pkey=key; \n",
    "      elif key.startswith(\"val_precision\") : vpkey=key; \n",
    "        \n",
    "    ax1.plot(history.history['loss'], label = 'train' + exp_name)\n",
    "    ax1.plot(history.history['val_loss'], label = 'val' + exp_name)\n",
    "    ax1.set_ylim(0., 2.2)\n",
    "    ax1.set_title('loss')\n",
    "    ax1.legend()\n",
    "               \n",
    "    ax2.plot(history.history[pkey], label='train accuracy'  + exp_name)\n",
    "    ax2.plot(history.history[vpkey], label='val accuracy'  + exp_name)\n",
    "    ax2.set_ylim(0.25, 1.)\n",
    "    ax2.set_title('Accuracy ' + optimizer_str)\n",
    "    ax2.legend()\n",
    "    return (ax1, ax2)"
   ]
  },
  {
   "cell_type": "code",
   "execution_count": 87,
   "id": "3af856d9",
   "metadata": {
    "ExecuteTime": {
     "end_time": "2022-12-09T13:00:08.591965Z",
     "start_time": "2022-12-09T13:00:08.054566Z"
    }
   },
   "outputs": [
    {
     "data": {
      "text/plain": [
       "(<AxesSubplot: title={'center': 'loss'}>,\n",
       " <AxesSubplot: title={'center': 'Accuracy adam'}>)"
      ]
     },
     "execution_count": 87,
     "metadata": {},
     "output_type": "execute_result"
    },
    {
     "data": {
      "image/png": "[encoded data removed]",
      "text/plain": [
       "<Figure size 1200x400 with 2 Axes>"
      ]
     },
     "metadata": {},
     "output_type": "display_data"
    }
   ],
   "source": [
    "plot_history(cnn_lstm, \"adam\")"
   ]
  },
  {
   "cell_type": "code",
   "execution_count": 89,
   "id": "781dae23",
   "metadata": {
    "ExecuteTime": {
     "end_time": "2022-12-09T13:01:13.817627Z",
     "start_time": "2022-12-09T13:01:12.216740Z"
    },
    "scrolled": true
   },
   "outputs": [
    {
     "name": "stdout",
     "output_type": "stream",
     "text": [
      "12/12 [==============================] - 1s 71ms/step\n",
      "              precision    recall  f1-score   support\n",
      "\n",
      "           0       0.59      0.96      0.73        47\n",
      "           1       0.68      0.49      0.57        47\n",
      "           2       0.71      0.98      0.82        50\n",
      "           3       0.68      0.40      0.50        58\n",
      "           4       0.94      0.80      0.86        55\n",
      "           5       0.98      0.93      0.95        55\n",
      "           6       1.00      1.00      1.00        66\n",
      "\n",
      "    accuracy                           0.80       378\n",
      "   macro avg       0.80      0.79      0.78       378\n",
      "weighted avg       0.81      0.80      0.79       378\n",
      "\n"
     ]
    }
   ],
   "source": [
    "# Print confusion matrix for training data\n",
    "y_pred_train = model_cnn_lstm.predict(X_train_cnn)\n",
    "\n",
    "# Take the class with the highest probability from the train predictions\n",
    "max_y_pred_train = np.argmax(y_pred_train, axis=1)\n",
    "max_train = np.argmax(y_train_res, axis=1)\n",
    "\n",
    "print(classification_report(max_train, max_y_pred_train))"
   ]
  },
  {
   "cell_type": "code",
   "execution_count": 91,
   "id": "71227162",
   "metadata": {
    "ExecuteTime": {
     "end_time": "2022-12-09T13:01:48.564594Z",
     "start_time": "2022-12-09T13:01:45.877755Z"
    }
   },
   "outputs": [
    {
     "name": "stdout",
     "output_type": "stream",
     "text": [
      "40/40 [==============================] - 3s 65ms/step - loss: 0.5776 - recall_2: 0.7628 - precision_2: 0.8262 - prc: 0.8843\n",
      "\n",
      "Accuracy on test data: 0.76\n",
      "\n",
      "Loss on test data: 0.58\n"
     ]
    }
   ],
   "source": [
    "score = model_cnn_lstm.evaluate(X_test_cnn, y_test_res, verbose=1)\n",
    "\n",
    "print('\\nAccuracy on test data: %0.2f' % score[1])\n",
    "print('\\nLoss on test data: %0.2f' % score[0])"
   ]
  },
  {
   "cell_type": "code",
   "execution_count": 92,
   "id": "5e9583d5",
   "metadata": {
    "ExecuteTime": {
     "end_time": "2022-12-09T13:01:59.804007Z",
     "start_time": "2022-12-09T13:01:59.797663Z"
    }
   },
   "outputs": [],
   "source": [
    "def confusion_matrix_plot(y, y_pred):\n",
    "    labels=['SmokeSD', 'SmokeST', 'Eat', 'DrinkSD', 'DrinkST', 'Sit', 'Stand']\n",
    "    matrix = metrics.confusion_matrix(y, y_pred)\n",
    "    plt.figure(figsize=(9, 7))\n",
    "    ax= sns.heatmap(matrix, cmap='coolwarm', linecolor='white', linewidths=1, xticklabels=labels, yticklabels=labels, annot=True, fmt='d')\n",
    "    #bottom, top = ax.get_ylim()\n",
    "    #ax.set_ylim(bottom + 0.5, top - 0.5)\n",
    "    plt.title('Confusion Matrix')\n",
    "    plt.ylabel('True Label')\n",
    "    plt.xlabel('Predicted Label')\n",
    "    plt.show()"
   ]
  },
  {
   "cell_type": "code",
   "execution_count": 93,
   "id": "94fb899a",
   "metadata": {
    "ExecuteTime": {
     "end_time": "2022-12-09T13:02:14.256122Z",
     "start_time": "2022-12-09T13:02:11.320096Z"
    }
   },
   "outputs": [
    {
     "name": "stdout",
     "output_type": "stream",
     "text": [
      "40/40 [==============================] - 2s 62ms/step\n",
      "              precision    recall  f1-score   support\n",
      "\n",
      "           0       0.65      0.97      0.78       187\n",
      "           1       0.82      0.39      0.53       189\n",
      "           2       0.67      0.96      0.79       183\n",
      "           3       0.75      0.61      0.67       178\n",
      "           4       0.94      0.74      0.83       176\n",
      "           5       0.97      0.95      0.96       177\n",
      "           6       0.98      1.00      0.99       175\n",
      "\n",
      "    accuracy                           0.80      1265\n",
      "   macro avg       0.83      0.80      0.79      1265\n",
      "weighted avg       0.82      0.80      0.79      1265\n",
      "\n"
     ]
    },
    {
     "data": {
      "image/png": "[encoded data removed]",
      "text/plain": [
       "<Figure size 900x700 with 2 Axes>"
      ]
     },
     "metadata": {},
     "output_type": "display_data"
    }
   ],
   "source": [
    "# Take the class with the highest probability from the test predictions\n",
    "y_pred_test = model_cnn_lstm.predict(X_test_cnn)\n",
    "\n",
    "max_y_pred_test = np.argmax(y_pred_test, axis = 1)\n",
    "max_y_test = np.argmax(y_test_res, axis = 1)\n",
    "\n",
    "#confusion_matrix(max_y_test, max_y_pred_test)\n",
    "print(classification_report(max_y_test, max_y_pred_test))\n",
    "confusion_matrix_plot(max_y_test, max_y_pred_test)"
   ]
  },
  {
   "cell_type": "code",
   "execution_count": 134,
   "id": "ddd36e76",
   "metadata": {
    "ExecuteTime": {
     "end_time": "2022-12-05T13:06:38.354064Z",
     "start_time": "2022-12-05T13:06:38.347170Z"
    }
   },
   "outputs": [
    {
     "data": {
      "text/plain": [
       "(542,)"
      ]
     },
     "execution_count": 134,
     "metadata": {},
     "output_type": "execute_result"
    }
   ],
   "source": [
    "max_y_pred_test.shape"
   ]
  },
  {
   "cell_type": "code",
   "execution_count": 135,
   "id": "e987a549",
   "metadata": {
    "ExecuteTime": {
     "end_time": "2022-12-05T13:06:48.371795Z",
     "start_time": "2022-12-05T13:06:48.365106Z"
    }
   },
   "outputs": [
    {
     "data": {
      "text/plain": [
       "(542,)"
      ]
     },
     "execution_count": 135,
     "metadata": {},
     "output_type": "execute_result"
    }
   ],
   "source": [
    "max_y_test.shape"
   ]
  }
 ],
 "metadata": {
  "kernelspec": {
   "display_name": "Python 3 (ipykernel)",
   "language": "python",
   "name": "python3"
  },
  "language_info": {
   "codemirror_mode": {
    "name": "ipython",
    "version": 3
   },
   "file_extension": ".py",
   "mimetype": "text/x-python",
   "name": "python",
   "nbconvert_exporter": "python",
   "pygments_lexer": "ipython3",
   "version": "3.10.6"
  },
  "toc": {
   "base_numbering": 1,
   "nav_menu": {},
   "number_sections": true,
   "sideBar": true,
   "skip_h1_title": false,
   "title_cell": "Table of Contents",
   "title_sidebar": "Contents",
   "toc_cell": false,
   "toc_position": {},
   "toc_section_display": true,
   "toc_window_display": false
  }
 },
 "nbformat": 4,
 "nbformat_minor": 5
}
