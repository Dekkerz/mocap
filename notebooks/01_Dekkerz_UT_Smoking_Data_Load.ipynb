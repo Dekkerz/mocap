{
 "cells": [
  {
   "cell_type": "markdown",
   "id": "89383abf",
   "metadata": {},
   "source": [
    "# Loading and Pre-processing"
   ]
  },
  {
   "cell_type": "markdown",
   "id": "05613975",
   "metadata": {},
   "source": [
    "This is an initial feasibility study into reproducing the results as documented in the research paper <here>"
   ]
  },
  {
   "cell_type": "markdown",
   "id": "624701eb",
   "metadata": {},
   "source": [
    "## Libraries"
   ]
  },
  {
   "cell_type": "code",
   "execution_count": 1,
   "id": "ab06dda8",
   "metadata": {},
   "outputs": [],
   "source": [
    "%load_ext autoreload\n",
    "%autoreload 2\n",
    "import os\n",
    "import pandas as pd\n",
    "\n",
    "pd.set_option(\"display.max_columns\", None)"
   ]
  },
  {
   "cell_type": "markdown",
   "id": "9c473c18",
   "metadata": {},
   "source": [
    "## Modules"
   ]
  },
  {
   "cell_type": "code",
   "execution_count": 2,
   "id": "e5e63036",
   "metadata": {},
   "outputs": [
    {
     "name": "stdout",
     "output_type": "stream",
     "text": [
      "Requirement already satisfied: psutil in /Users/ddealmei/.pyenv/versions/3.10.6/envs/mocap/lib/python3.10/site-packages (5.9.4)\r\n"
     ]
    }
   ],
   "source": [
    "!pip install psutil"
   ]
  },
  {
   "cell_type": "markdown",
   "id": "1aa5ea17",
   "metadata": {},
   "source": [
    "## Update Your Local Configuration"
   ]
  },
  {
   "cell_type": "markdown",
   "id": "aad07f07",
   "metadata": {},
   "source": [
    "#### The .env file, you can copy from the template .env_sample"
   ]
  },
  {
   "cell_type": "markdown",
   "id": "80e86276",
   "metadata": {},
   "source": [
    "- DATA_SOURCE=local\n",
    "- LOCAL_DATA_PATH=~/code/Dekkerz/mocap/data\n",
    "- CHUNK_SIZE=500000"
   ]
  },
  {
   "cell_type": "markdown",
   "id": "dd1c4934",
   "metadata": {},
   "source": [
    "#### pip configuration"
   ]
  },
  {
   "cell_type": "code",
   "execution_count": 3,
   "id": "9b8ef1eb",
   "metadata": {},
   "outputs": [
    {
     "name": "stdout",
     "output_type": "stream",
     "text": [
      "\r\n",
      "Usage:   \r\n",
      "  pip install [options] <requirement specifier> [package-index-options] ...\r\n",
      "  pip install [options] -r <requirements file> [package-index-options] ...\r\n",
      "  pip install [options] [-e] <vcs project url> ...\r\n",
      "  pip install [options] [-e] <local project path> ...\r\n",
      "  pip install [options] <archive url/path> ...\r\n",
      "\r\n",
      "-e option requires 1 argument\r\n"
     ]
    }
   ],
   "source": [
    "!pip install -e"
   ]
  },
  {
   "cell_type": "markdown",
   "id": "4f4d3b86",
   "metadata": {},
   "source": [
    "## Import MOCAP Libs"
   ]
  },
  {
   "cell_type": "code",
   "execution_count": 4,
   "id": "ae6b7c29",
   "metadata": {},
   "outputs": [],
   "source": [
    "import mocap\n",
    "from mocap.ml_logic import data"
   ]
  },
  {
   "cell_type": "markdown",
   "id": "06c80d70",
   "metadata": {},
   "source": [
    "Check that the raw files are in the correct directory"
   ]
  },
  {
   "cell_type": "code",
   "execution_count": 31,
   "id": "ba087da2",
   "metadata": {},
   "outputs": [
    {
     "name": "stdout",
     "output_type": "stream",
     "text": [
      "total 4242352\r\n",
      "-rw-r--r--@ 1 ddealmei  staff  108776627 Dec  2 09:42 Participant10_Data.xlsx\r\n",
      "-rw-r--r--  1 ddealmei  staff  102803875 Dec  2 09:42 Participant11_Data.xlsx\r\n",
      "-rw-r--r--  1 ddealmei  staff  240037682 Dec  2 09:42 Participant1_Data.xlsx\r\n",
      "-rw-r--r--  1 ddealmei  staff  110657122 Dec  2 09:42 Participant1_Extra_SW_SG_W.xlsx\r\n",
      "-rw-r--r--  1 ddealmei  staff  259625183 Dec  2 09:42 Participant2_Data.xlsx\r\n",
      "-rw-r--r--  1 ddealmei  staff  120704509 Dec  2 09:42 Participant2_Extra_SW_SG_W.xlsx\r\n",
      "-rw-r--r--  1 ddealmei  staff  269146148 Dec  2 09:42 Participant3_Data.xlsx\r\n",
      "-rw-r--r--  1 ddealmei  staff  123469602 Dec  2 09:42 Participant3_Extra_SW_SG_W.xlsx\r\n",
      "-rw-r--r--  1 ddealmei  staff  205635066 Dec  2 09:42 Participant4_Data.xlsx\r\n",
      "-rw-r--r--@ 1 ddealmei  staff   30384810 Dec  2 09:42 Participant4_Extra_SG.xlsx\r\n",
      "-rw-r--r--  1 ddealmei  staff  104787350 Dec  2 09:42 Participant5_Data.xlsx\r\n",
      "-rw-r--r--  1 ddealmei  staff   15559810 Dec  2 09:42 Participant5_SG.xlsx\r\n",
      "-rw-r--r--  1 ddealmei  staff  106344094 Dec  2 09:42 Participant6_Data.xlsx\r\n",
      "-rw-r--r--  1 ddealmei  staff   15282380 Dec  2 09:42 Participant6_SG.xlsx\r\n",
      "-rw-r--r--  1 ddealmei  staff   90787481 Dec  2 09:42 Participant7_Data.xlsx\r\n",
      "-rw-r--r--  1 ddealmei  staff   12365599 Dec  2 09:42 Participant7_SG.xlsx\r\n",
      "-rw-r--r--  1 ddealmei  staff  106087963 Dec  2 09:42 Participant8_Data.xlsx\r\n",
      "-rw-r--r--@ 1 ddealmei  staff   16031616 Dec  2 09:42 Participant8_SG.xlsx\r\n",
      "-rw-r--r--  1 ddealmei  staff  133561462 Dec  2 09:42 Participant9_Data.xlsx\r\n",
      "-rw-r--r--@ 1 ddealmei  staff       9723 Dec  2 09:42 Participants_info.xlsx\r\n"
     ]
    }
   ],
   "source": [
    "!ls -ltr /Users/ddealmei/code/Dekkerz/mocap/data/raw\n",
    "#!ls -ltr $LOCAL_DATA_PATH/raw"
   ]
  },
  {
   "cell_type": "markdown",
   "id": "592ff6f5",
   "metadata": {},
   "source": [
    "Create the processed files, if you leave None then it will default to Participant 1"
   ]
  },
  {
   "cell_type": "code",
   "execution_count": 33,
   "id": "ab15bc16",
   "metadata": {},
   "outputs": [
    {
     "name": "stdout",
     "output_type": "stream",
     "text": [
      "\n",
      "⭐️ def: read_file\n",
      "\u001b[34m\n",
      "Processing chunk n°0...\u001b[0m\n",
      "\u001b[35mSource data from /Users/ddealmei/code/Dekkerz/mocap/data/raw/Participant1_Data.xlsx: 500000 rows (from row 0)\u001b[0m\n",
      "\n",
      "✅ data cleaned\n",
      "\u001b[34m\n",
      "Save data to /Users/ddealmei/code/Dekkerz/mocap/data/processed/Participant1_Data.pkl:\u001b[0m\n",
      "\u001b[34m\n",
      "Processing chunk n°1...\u001b[0m\n",
      "\u001b[35mSource data from /Users/ddealmei/code/Dekkerz/mocap/data/raw/Participant1_Data.xlsx: 500000 rows (from row 500000)\u001b[0m\n",
      "\n",
      "✅ data cleaned\n"
     ]
    },
    {
     "name": "stderr",
     "output_type": "stream",
     "text": [
      "/Users/ddealmei/code/Dekkerz/mocap/mocap/data/local.py:15: FutureWarning: The frame.append method is deprecated and will be removed from pandas in a future version. Use pandas.concat instead.\n",
      "  data.append(df)\n"
     ]
    },
    {
     "name": "stdout",
     "output_type": "stream",
     "text": [
      "\u001b[34m\n",
      "Save data to /Users/ddealmei/code/Dekkerz/mocap/data/processed/Participant1_Data.pkl:\u001b[0m\n",
      "\u001b[34m\n",
      "Processing chunk n°2...\u001b[0m\n",
      "\u001b[35mSource data from /Users/ddealmei/code/Dekkerz/mocap/data/raw/Participant1_Data.xlsx: 500000 rows (from row 1000000)\u001b[0m\n"
     ]
    },
    {
     "ename": "ValueError",
     "evalue": "Length mismatch: Expected axis has 0 elements, new values have 32 elements",
     "output_type": "error",
     "traceback": [
      "\u001b[0;31m---------------------------------------------------------------------------\u001b[0m",
      "\u001b[0;31mValueError\u001b[0m                                Traceback (most recent call last)",
      "File \u001b[0;32m<timed eval>:1\u001b[0m\n",
      "File \u001b[0;32m~/code/Dekkerz/mocap/mocap/ml_logic/data.py:154\u001b[0m, in \u001b[0;36mpre_load_data\u001b[0;34m(path, endswith)\u001b[0m\n\u001b[1;32m    152\u001b[0m \u001b[38;5;28;01mif\u001b[39;00m file\u001b[38;5;241m.\u001b[39mendswith(endswith):\n\u001b[1;32m    153\u001b[0m     filename\u001b[38;5;241m=\u001b[39mos\u001b[38;5;241m.\u001b[39mpath\u001b[38;5;241m.\u001b[39mjoin(data_dir,file)\n\u001b[0;32m--> 154\u001b[0m     \u001b[43mread_file\u001b[49m\u001b[43m(\u001b[49m\u001b[43mfilename\u001b[49m\u001b[43m)\u001b[49m\n",
      "File \u001b[0;32m~/code/Dekkerz/mocap/mocap/ml_logic/data.py:88\u001b[0m, in \u001b[0;36mread_file\u001b[0;34m(filename)\u001b[0m\n\u001b[1;32m     85\u001b[0m \u001b[38;5;28;01mwhile\u001b[39;00m (\u001b[38;5;28;01mTrue\u001b[39;00m):\n\u001b[1;32m     86\u001b[0m     \u001b[38;5;28mprint\u001b[39m(Fore\u001b[38;5;241m.\u001b[39mBLUE \u001b[38;5;241m+\u001b[39m \u001b[38;5;124mf\u001b[39m\u001b[38;5;124m\"\u001b[39m\u001b[38;5;130;01m\\n\u001b[39;00m\u001b[38;5;124mProcessing chunk n°\u001b[39m\u001b[38;5;132;01m{\u001b[39;00mchunk_id\u001b[38;5;132;01m}\u001b[39;00m\u001b[38;5;124m...\u001b[39m\u001b[38;5;124m\"\u001b[39m \u001b[38;5;241m+\u001b[39m Style\u001b[38;5;241m.\u001b[39mRESET_ALL)\n\u001b[0;32m---> 88\u001b[0m     data_chunk \u001b[38;5;241m=\u001b[39m \u001b[43mget_chunk\u001b[49m\u001b[43m(\u001b[49m\n\u001b[1;32m     89\u001b[0m \u001b[43m        \u001b[49m\u001b[43msource_name\u001b[49m\u001b[43m \u001b[49m\u001b[38;5;241;43m=\u001b[39;49m\u001b[43m \u001b[49m\u001b[43msource_name\u001b[49m\u001b[43m,\u001b[49m\n\u001b[1;32m     90\u001b[0m \u001b[43m        \u001b[49m\u001b[43mindex\u001b[49m\u001b[38;5;241;43m=\u001b[39;49m\u001b[43mchunk_id\u001b[49m\u001b[43m \u001b[49m\u001b[38;5;241;43m*\u001b[39;49m\u001b[43m \u001b[49m\u001b[43mparams\u001b[49m\u001b[38;5;241;43m.\u001b[39;49m\u001b[43mCHUNK_SIZE\u001b[49m\u001b[43m,\u001b[49m\n\u001b[1;32m     91\u001b[0m \u001b[43m        \u001b[49m\u001b[43mchunk_size\u001b[49m\u001b[43m \u001b[49m\u001b[38;5;241;43m=\u001b[39;49m\u001b[43m \u001b[49m\u001b[43mparams\u001b[49m\u001b[38;5;241;43m.\u001b[39;49m\u001b[43mCHUNK_SIZE\u001b[49m\n\u001b[1;32m     92\u001b[0m \u001b[43m    \u001b[49m\u001b[43m)\u001b[49m\n\u001b[1;32m     94\u001b[0m     \u001b[38;5;66;03m# Break out of while loop if data is none\u001b[39;00m\n\u001b[1;32m     95\u001b[0m     \u001b[38;5;28;01mif\u001b[39;00m data_chunk \u001b[38;5;129;01mis\u001b[39;00m \u001b[38;5;28;01mNone\u001b[39;00m:\n",
      "File \u001b[0;32m~/code/Dekkerz/mocap/mocap/ml_logic/data.py:63\u001b[0m, in \u001b[0;36mget_chunk\u001b[0;34m(source_name, index, chunk_size, verbose)\u001b[0m\n\u001b[1;32m     48\u001b[0m     dtypes\u001b[38;5;241m=\u001b[39mparams\u001b[38;5;241m.\u001b[39mDTYPES_RAW_OPTIMIZED_HEADLESS\n\u001b[1;32m     49\u001b[0m     \u001b[38;5;66;03m#if os.environ.get(\"DATA_SOURCE\") == \"big query\":\u001b[39;00m\n\u001b[1;32m     50\u001b[0m     \u001b[38;5;66;03m#    dtypes = DTYPES_RAW_OPTIMIZED\u001b[39;00m\n\u001b[1;32m     51\u001b[0m     \u001b[38;5;66;03m#else:\u001b[39;00m\n\u001b[0;32m   (...)\u001b[0m\n\u001b[1;32m     60\u001b[0m \u001b[38;5;66;03m#\u001b[39;00m\n\u001b[1;32m     61\u001b[0m \u001b[38;5;66;03m#    return chunk_df\u001b[39;00m\n\u001b[0;32m---> 63\u001b[0m chunk_df \u001b[38;5;241m=\u001b[39m \u001b[43mget_pandas_chunk\u001b[49m\u001b[43m(\u001b[49m\u001b[43mpath\u001b[49m\u001b[38;5;241;43m=\u001b[39;49m\u001b[43msource_name\u001b[49m\u001b[43m,\u001b[49m\n\u001b[1;32m     64\u001b[0m \u001b[43m                            \u001b[49m\u001b[43mindex\u001b[49m\u001b[38;5;241;43m=\u001b[39;49m\u001b[43mindex\u001b[49m\u001b[43m,\u001b[49m\n\u001b[1;32m     65\u001b[0m \u001b[43m                            \u001b[49m\u001b[43mchunk_size\u001b[49m\u001b[38;5;241;43m=\u001b[39;49m\u001b[43mchunk_size\u001b[49m\u001b[43m,\u001b[49m\n\u001b[1;32m     66\u001b[0m \u001b[43m                            \u001b[49m\u001b[43mdtypes\u001b[49m\u001b[38;5;241;43m=\u001b[39;49m\u001b[43mdtypes\u001b[49m\u001b[43m,\u001b[49m\n\u001b[1;32m     67\u001b[0m \u001b[43m                            \u001b[49m\u001b[43mcolumns\u001b[49m\u001b[38;5;241;43m=\u001b[39;49m\u001b[43mcolumns\u001b[49m\u001b[43m,\u001b[49m\n\u001b[1;32m     68\u001b[0m \u001b[43m                            \u001b[49m\u001b[43mverbose\u001b[49m\u001b[38;5;241;43m=\u001b[39;49m\u001b[43mverbose\u001b[49m\u001b[43m)\u001b[49m\n\u001b[1;32m     70\u001b[0m \u001b[38;5;28;01mreturn\u001b[39;00m chunk_df\n",
      "File \u001b[0;32m~/code/Dekkerz/mocap/mocap/data/local.py:53\u001b[0m, in \u001b[0;36mget_pandas_chunk\u001b[0;34m(path, index, chunk_size, dtypes, columns, verbose)\u001b[0m\n\u001b[1;32m     47\u001b[0m     \u001b[38;5;66;03m# read_excel(dtypes=...) will silently fail to convert data types, if column names do no match dictionnary key provided.\u001b[39;00m\n\u001b[1;32m     48\u001b[0m     \u001b[38;5;66;03m#if isinstance(dtypes, dict):\u001b[39;00m\n\u001b[1;32m     49\u001b[0m     \u001b[38;5;66;03m#    print(dict(df.dtypes))\u001b[39;00m\n\u001b[1;32m     50\u001b[0m     \u001b[38;5;66;03m#    assert dict(df.dtypes) == dtypes\u001b[39;00m\n\u001b[1;32m     52\u001b[0m     \u001b[38;5;28;01mif\u001b[39;00m columns \u001b[38;5;129;01mis\u001b[39;00m \u001b[38;5;129;01mnot\u001b[39;00m \u001b[38;5;28;01mNone\u001b[39;00m:\n\u001b[0;32m---> 53\u001b[0m         \u001b[43mdf\u001b[49m\u001b[38;5;241;43m.\u001b[39;49m\u001b[43mcolumns\u001b[49m \u001b[38;5;241m=\u001b[39m columns\n\u001b[1;32m     55\u001b[0m \u001b[38;5;28;01mexcept\u001b[39;00m pd\u001b[38;5;241m.\u001b[39merrors\u001b[38;5;241m.\u001b[39mEmptyDataError:\n\u001b[1;32m     57\u001b[0m     \u001b[38;5;28;01mreturn\u001b[39;00m \u001b[38;5;28;01mNone\u001b[39;00m  \u001b[38;5;66;03m# end of data\u001b[39;00m\n",
      "File \u001b[0;32m~/.pyenv/versions/3.10.6/envs/mocap/lib/python3.10/site-packages/pandas/core/generic.py:5915\u001b[0m, in \u001b[0;36mNDFrame.__setattr__\u001b[0;34m(self, name, value)\u001b[0m\n\u001b[1;32m   5913\u001b[0m \u001b[38;5;28;01mtry\u001b[39;00m:\n\u001b[1;32m   5914\u001b[0m     \u001b[38;5;28mobject\u001b[39m\u001b[38;5;241m.\u001b[39m\u001b[38;5;21m__getattribute__\u001b[39m(\u001b[38;5;28mself\u001b[39m, name)\n\u001b[0;32m-> 5915\u001b[0m     \u001b[38;5;28;01mreturn\u001b[39;00m \u001b[38;5;28;43mobject\u001b[39;49m\u001b[38;5;241;43m.\u001b[39;49m\u001b[38;5;21;43m__setattr__\u001b[39;49m\u001b[43m(\u001b[49m\u001b[38;5;28;43mself\u001b[39;49m\u001b[43m,\u001b[49m\u001b[43m \u001b[49m\u001b[43mname\u001b[49m\u001b[43m,\u001b[49m\u001b[43m \u001b[49m\u001b[43mvalue\u001b[49m\u001b[43m)\u001b[49m\n\u001b[1;32m   5916\u001b[0m \u001b[38;5;28;01mexcept\u001b[39;00m \u001b[38;5;167;01mAttributeError\u001b[39;00m:\n\u001b[1;32m   5917\u001b[0m     \u001b[38;5;28;01mpass\u001b[39;00m\n",
      "File \u001b[0;32m~/.pyenv/versions/3.10.6/envs/mocap/lib/python3.10/site-packages/pandas/_libs/properties.pyx:69\u001b[0m, in \u001b[0;36mpandas._libs.properties.AxisProperty.__set__\u001b[0;34m()\u001b[0m\n",
      "File \u001b[0;32m~/.pyenv/versions/3.10.6/envs/mocap/lib/python3.10/site-packages/pandas/core/generic.py:823\u001b[0m, in \u001b[0;36mNDFrame._set_axis\u001b[0;34m(self, axis, labels)\u001b[0m\n\u001b[1;32m    821\u001b[0m \u001b[38;5;28;01mdef\u001b[39;00m \u001b[38;5;21m_set_axis\u001b[39m(\u001b[38;5;28mself\u001b[39m, axis: \u001b[38;5;28mint\u001b[39m, labels: AnyArrayLike \u001b[38;5;241m|\u001b[39m \u001b[38;5;28mlist\u001b[39m) \u001b[38;5;241m-\u001b[39m\u001b[38;5;241m>\u001b[39m \u001b[38;5;28;01mNone\u001b[39;00m:\n\u001b[1;32m    822\u001b[0m     labels \u001b[38;5;241m=\u001b[39m ensure_index(labels)\n\u001b[0;32m--> 823\u001b[0m     \u001b[38;5;28;43mself\u001b[39;49m\u001b[38;5;241;43m.\u001b[39;49m\u001b[43m_mgr\u001b[49m\u001b[38;5;241;43m.\u001b[39;49m\u001b[43mset_axis\u001b[49m\u001b[43m(\u001b[49m\u001b[43maxis\u001b[49m\u001b[43m,\u001b[49m\u001b[43m \u001b[49m\u001b[43mlabels\u001b[49m\u001b[43m)\u001b[49m\n\u001b[1;32m    824\u001b[0m     \u001b[38;5;28mself\u001b[39m\u001b[38;5;241m.\u001b[39m_clear_item_cache()\n",
      "File \u001b[0;32m~/.pyenv/versions/3.10.6/envs/mocap/lib/python3.10/site-packages/pandas/core/internals/managers.py:230\u001b[0m, in \u001b[0;36mBaseBlockManager.set_axis\u001b[0;34m(self, axis, new_labels)\u001b[0m\n\u001b[1;32m    228\u001b[0m \u001b[38;5;28;01mdef\u001b[39;00m \u001b[38;5;21mset_axis\u001b[39m(\u001b[38;5;28mself\u001b[39m, axis: \u001b[38;5;28mint\u001b[39m, new_labels: Index) \u001b[38;5;241m-\u001b[39m\u001b[38;5;241m>\u001b[39m \u001b[38;5;28;01mNone\u001b[39;00m:\n\u001b[1;32m    229\u001b[0m     \u001b[38;5;66;03m# Caller is responsible for ensuring we have an Index object.\u001b[39;00m\n\u001b[0;32m--> 230\u001b[0m     \u001b[38;5;28;43mself\u001b[39;49m\u001b[38;5;241;43m.\u001b[39;49m\u001b[43m_validate_set_axis\u001b[49m\u001b[43m(\u001b[49m\u001b[43maxis\u001b[49m\u001b[43m,\u001b[49m\u001b[43m \u001b[49m\u001b[43mnew_labels\u001b[49m\u001b[43m)\u001b[49m\n\u001b[1;32m    231\u001b[0m     \u001b[38;5;28mself\u001b[39m\u001b[38;5;241m.\u001b[39maxes[axis] \u001b[38;5;241m=\u001b[39m new_labels\n",
      "File \u001b[0;32m~/.pyenv/versions/3.10.6/envs/mocap/lib/python3.10/site-packages/pandas/core/internals/base.py:70\u001b[0m, in \u001b[0;36mDataManager._validate_set_axis\u001b[0;34m(self, axis, new_labels)\u001b[0m\n\u001b[1;32m     67\u001b[0m     \u001b[38;5;28;01mpass\u001b[39;00m\n\u001b[1;32m     69\u001b[0m \u001b[38;5;28;01melif\u001b[39;00m new_len \u001b[38;5;241m!=\u001b[39m old_len:\n\u001b[0;32m---> 70\u001b[0m     \u001b[38;5;28;01mraise\u001b[39;00m \u001b[38;5;167;01mValueError\u001b[39;00m(\n\u001b[1;32m     71\u001b[0m         \u001b[38;5;124mf\u001b[39m\u001b[38;5;124m\"\u001b[39m\u001b[38;5;124mLength mismatch: Expected axis has \u001b[39m\u001b[38;5;132;01m{\u001b[39;00mold_len\u001b[38;5;132;01m}\u001b[39;00m\u001b[38;5;124m elements, new \u001b[39m\u001b[38;5;124m\"\u001b[39m\n\u001b[1;32m     72\u001b[0m         \u001b[38;5;124mf\u001b[39m\u001b[38;5;124m\"\u001b[39m\u001b[38;5;124mvalues have \u001b[39m\u001b[38;5;132;01m{\u001b[39;00mnew_len\u001b[38;5;132;01m}\u001b[39;00m\u001b[38;5;124m elements\u001b[39m\u001b[38;5;124m\"\u001b[39m\n\u001b[1;32m     73\u001b[0m     )\n",
      "\u001b[0;31mValueError\u001b[0m: Length mismatch: Expected axis has 0 elements, new values have 32 elements"
     ]
    }
   ],
   "source": [
    "%%time\n",
    "data.pre_load_data(path=None, endswith=None)"
   ]
  },
  {
   "cell_type": "markdown",
   "id": "e62d500a",
   "metadata": {},
   "source": [
    "Check the files created in the processed directory"
   ]
  },
  {
   "cell_type": "code",
   "execution_count": 34,
   "id": "0cdfbce4",
   "metadata": {},
   "outputs": [
    {
     "name": "stdout",
     "output_type": "stream",
     "text": [
      "total 104456\r\n",
      "-rw-r--r--  1 ddealmei  staff  52592641 Dec  2 16:25 Participant1_Data.pkl\r\n"
     ]
    }
   ],
   "source": [
    "!ls -ltr /Users/ddealmei/code/Dekkerz/mocap/data/processed\n",
    "#!ls -ltr $LOCAL_DATA_PATH/processed"
   ]
  },
  {
   "cell_type": "markdown",
   "id": "dc35b3fd",
   "metadata": {},
   "source": [
    "Load the data"
   ]
  },
  {
   "cell_type": "code",
   "execution_count": 35,
   "id": "1da519f6",
   "metadata": {},
   "outputs": [
    {
     "name": "stdout",
     "output_type": "stream",
     "text": [
      "CPU times: user 167 ms, sys: 49.1 ms, total: 216 ms\n",
      "Wall time: 214 ms\n"
     ]
    }
   ],
   "source": [
    "%%time\n",
    "p1_data=data.load_pickles(path=None, startswith=None)"
   ]
  },
  {
   "cell_type": "code",
   "execution_count": 36,
   "id": "7c9fe796",
   "metadata": {},
   "outputs": [
    {
     "data": {
      "text/html": [
       "<div>\n",
       "<style scoped>\n",
       "    .dataframe tbody tr th:only-of-type {\n",
       "        vertical-align: middle;\n",
       "    }\n",
       "\n",
       "    .dataframe tbody tr th {\n",
       "        vertical-align: top;\n",
       "    }\n",
       "\n",
       "    .dataframe thead th {\n",
       "        text-align: right;\n",
       "    }\n",
       "</style>\n",
       "<table border=\"1\" class=\"dataframe\">\n",
       "  <thead>\n",
       "    <tr style=\"text-align: right;\">\n",
       "      <th></th>\n",
       "      <th>0</th>\n",
       "      <th>1</th>\n",
       "      <th>2</th>\n",
       "      <th>3</th>\n",
       "      <th>4</th>\n",
       "      <th>5</th>\n",
       "      <th>6</th>\n",
       "      <th>7</th>\n",
       "      <th>8</th>\n",
       "      <th>9</th>\n",
       "      <th>10</th>\n",
       "      <th>11</th>\n",
       "      <th>12</th>\n",
       "      <th>13</th>\n",
       "      <th>14</th>\n",
       "      <th>15</th>\n",
       "    </tr>\n",
       "  </thead>\n",
       "  <tbody>\n",
       "    <tr>\n",
       "      <th>0</th>\n",
       "      <td>0.198364</td>\n",
       "      <td>-10.640625</td>\n",
       "      <td>-1.715988</td>\n",
       "      <td>0.539422</td>\n",
       "      <td>-1.427502</td>\n",
       "      <td>-1.09659</td>\n",
       "      <td>-1.100388</td>\n",
       "      <td>0.582565</td>\n",
       "      <td>-1.082245</td>\n",
       "      <td>-12.330627</td>\n",
       "      <td>39.219666</td>\n",
       "      <td>17.103577</td>\n",
       "      <td>1010.917297</td>\n",
       "      <td>0.0</td>\n",
       "      <td>1</td>\n",
       "      <td>DrinkSD</td>\n",
       "    </tr>\n",
       "    <tr>\n",
       "      <th>1</th>\n",
       "      <td>0.267395</td>\n",
       "      <td>-10.676331</td>\n",
       "      <td>-1.815964</td>\n",
       "      <td>0.339226</td>\n",
       "      <td>-1.418267</td>\n",
       "      <td>-0.985465</td>\n",
       "      <td>-1.102524</td>\n",
       "      <td>0.506729</td>\n",
       "      <td>-0.996796</td>\n",
       "      <td>-14.321899</td>\n",
       "      <td>39.372253</td>\n",
       "      <td>19.303894</td>\n",
       "      <td>1010.910034</td>\n",
       "      <td>0.0</td>\n",
       "      <td>1</td>\n",
       "      <td>DrinkSD</td>\n",
       "    </tr>\n",
       "    <tr>\n",
       "      <th>2</th>\n",
       "      <td>0.357849</td>\n",
       "      <td>-10.938171</td>\n",
       "      <td>-2.284897</td>\n",
       "      <td>0.270495</td>\n",
       "      <td>-1.711448</td>\n",
       "      <td>-1.220759</td>\n",
       "      <td>-1.111069</td>\n",
       "      <td>0.50032</td>\n",
       "      <td>-0.888916</td>\n",
       "      <td>-16.111755</td>\n",
       "      <td>39.642334</td>\n",
       "      <td>20.585632</td>\n",
       "      <td>1010.910034</td>\n",
       "      <td>0.0</td>\n",
       "      <td>1</td>\n",
       "      <td>DrinkSD</td>\n",
       "    </tr>\n",
       "    <tr>\n",
       "      <th>3</th>\n",
       "      <td>0.238831</td>\n",
       "      <td>-11.097656</td>\n",
       "      <td>-2.077805</td>\n",
       "      <td>-0.036917</td>\n",
       "      <td>-1.877437</td>\n",
       "      <td>-0.840451</td>\n",
       "      <td>-1.02562</td>\n",
       "      <td>0.447983</td>\n",
       "      <td>-0.820557</td>\n",
       "      <td>-16.738892</td>\n",
       "      <td>39.74762</td>\n",
       "      <td>20.985413</td>\n",
       "      <td>1010.857544</td>\n",
       "      <td>0.0</td>\n",
       "      <td>1</td>\n",
       "      <td>DrinkSD</td>\n",
       "    </tr>\n",
       "    <tr>\n",
       "      <th>4</th>\n",
       "      <td>0.417358</td>\n",
       "      <td>-11.31665</td>\n",
       "      <td>-2.168259</td>\n",
       "      <td>0.065022</td>\n",
       "      <td>-1.933844</td>\n",
       "      <td>-0.979933</td>\n",
       "      <td>-0.962601</td>\n",
       "      <td>0.379623</td>\n",
       "      <td>-0.729767</td>\n",
       "      <td>-17.321777</td>\n",
       "      <td>38.587952</td>\n",
       "      <td>20.985413</td>\n",
       "      <td>1010.88092</td>\n",
       "      <td>0.0</td>\n",
       "      <td>1</td>\n",
       "      <td>DrinkSD</td>\n",
       "    </tr>\n",
       "    <tr>\n",
       "      <th>...</th>\n",
       "      <td>...</td>\n",
       "      <td>...</td>\n",
       "      <td>...</td>\n",
       "      <td>...</td>\n",
       "      <td>...</td>\n",
       "      <td>...</td>\n",
       "      <td>...</td>\n",
       "      <td>...</td>\n",
       "      <td>...</td>\n",
       "      <td>...</td>\n",
       "      <td>...</td>\n",
       "      <td>...</td>\n",
       "      <td>...</td>\n",
       "      <td>...</td>\n",
       "      <td>...</td>\n",
       "      <td>...</td>\n",
       "    </tr>\n",
       "    <tr>\n",
       "      <th>95</th>\n",
       "      <td>1.631348</td>\n",
       "      <td>-9.564697</td>\n",
       "      <td>-0.992355</td>\n",
       "      <td>0.04462</td>\n",
       "      <td>-0.170031</td>\n",
       "      <td>-0.084711</td>\n",
       "      <td>0.017929</td>\n",
       "      <td>0.021805</td>\n",
       "      <td>-0.032288</td>\n",
       "      <td>-21.325684</td>\n",
       "      <td>35.528564</td>\n",
       "      <td>21.659851</td>\n",
       "      <td>1011.09375</td>\n",
       "      <td>0.0</td>\n",
       "      <td>1</td>\n",
       "      <td>DrinkSD</td>\n",
       "    </tr>\n",
       "    <tr>\n",
       "      <th>96</th>\n",
       "      <td>1.77417</td>\n",
       "      <td>-9.540894</td>\n",
       "      <td>-0.975693</td>\n",
       "      <td>0.188359</td>\n",
       "      <td>-0.153123</td>\n",
       "      <td>-0.064562</td>\n",
       "      <td>0.048904</td>\n",
       "      <td>0.022873</td>\n",
       "      <td>-0.034424</td>\n",
       "      <td>-21.325684</td>\n",
       "      <td>35.769653</td>\n",
       "      <td>20.968628</td>\n",
       "      <td>1011.09375</td>\n",
       "      <td>0.0</td>\n",
       "      <td>1</td>\n",
       "      <td>DrinkSD</td>\n",
       "    </tr>\n",
       "    <tr>\n",
       "      <th>97</th>\n",
       "      <td>1.745605</td>\n",
       "      <td>-9.448059</td>\n",
       "      <td>-0.904282</td>\n",
       "      <td>0.1398</td>\n",
       "      <td>-0.029618</td>\n",
       "      <td>-0.001926</td>\n",
       "      <td>0.067062</td>\n",
       "      <td>0.027145</td>\n",
       "      <td>-0.01947</td>\n",
       "      <td>-21.694946</td>\n",
       "      <td>35.513306</td>\n",
       "      <td>20.472717</td>\n",
       "      <td>1011.09375</td>\n",
       "      <td>0.0</td>\n",
       "      <td>1</td>\n",
       "      <td>DrinkSD</td>\n",
       "    </tr>\n",
       "    <tr>\n",
       "      <th>98</th>\n",
       "      <td>1.778931</td>\n",
       "      <td>-9.267151</td>\n",
       "      <td>-0.920944</td>\n",
       "      <td>0.171862</td>\n",
       "      <td>0.118246</td>\n",
       "      <td>-0.017086</td>\n",
       "      <td>0.086288</td>\n",
       "      <td>0.038895</td>\n",
       "      <td>-0.005585</td>\n",
       "      <td>-22.03064</td>\n",
       "      <td>35.177612</td>\n",
       "      <td>20.310974</td>\n",
       "      <td>1011.09375</td>\n",
       "      <td>0.0</td>\n",
       "      <td>1</td>\n",
       "      <td>DrinkSD</td>\n",
       "    </tr>\n",
       "    <tr>\n",
       "      <th>99</th>\n",
       "      <td>1.612305</td>\n",
       "      <td>-9.064819</td>\n",
       "      <td>-0.754318</td>\n",
       "      <td>0.027186</td>\n",
       "      <td>0.336242</td>\n",
       "      <td>0.130817</td>\n",
       "      <td>0.077744</td>\n",
       "      <td>0.070938</td>\n",
       "      <td>0.006165</td>\n",
       "      <td>-21.589661</td>\n",
       "      <td>35.53772</td>\n",
       "      <td>20.581055</td>\n",
       "      <td>1011.117798</td>\n",
       "      <td>0.0</td>\n",
       "      <td>1</td>\n",
       "      <td>DrinkSD</td>\n",
       "    </tr>\n",
       "  </tbody>\n",
       "</table>\n",
       "<p>100 rows × 16 columns</p>\n",
       "</div>"
      ],
      "text/plain": [
       "          0          1         2         3         4         5         6   \\\n",
       "0   0.198364 -10.640625 -1.715988  0.539422 -1.427502  -1.09659 -1.100388   \n",
       "1   0.267395 -10.676331 -1.815964  0.339226 -1.418267 -0.985465 -1.102524   \n",
       "2   0.357849 -10.938171 -2.284897  0.270495 -1.711448 -1.220759 -1.111069   \n",
       "3   0.238831 -11.097656 -2.077805 -0.036917 -1.877437 -0.840451  -1.02562   \n",
       "4   0.417358  -11.31665 -2.168259  0.065022 -1.933844 -0.979933 -0.962601   \n",
       "..       ...        ...       ...       ...       ...       ...       ...   \n",
       "95  1.631348  -9.564697 -0.992355   0.04462 -0.170031 -0.084711  0.017929   \n",
       "96   1.77417  -9.540894 -0.975693  0.188359 -0.153123 -0.064562  0.048904   \n",
       "97  1.745605  -9.448059 -0.904282    0.1398 -0.029618 -0.001926  0.067062   \n",
       "98  1.778931  -9.267151 -0.920944  0.171862  0.118246 -0.017086  0.086288   \n",
       "99  1.612305  -9.064819 -0.754318  0.027186  0.336242  0.130817  0.077744   \n",
       "\n",
       "          7         8          9          10         11           12   13 14  \\\n",
       "0   0.582565 -1.082245 -12.330627  39.219666  17.103577  1010.917297  0.0  1   \n",
       "1   0.506729 -0.996796 -14.321899  39.372253  19.303894  1010.910034  0.0  1   \n",
       "2    0.50032 -0.888916 -16.111755  39.642334  20.585632  1010.910034  0.0  1   \n",
       "3   0.447983 -0.820557 -16.738892   39.74762  20.985413  1010.857544  0.0  1   \n",
       "4   0.379623 -0.729767 -17.321777  38.587952  20.985413   1010.88092  0.0  1   \n",
       "..       ...       ...        ...        ...        ...          ...  ... ..   \n",
       "95  0.021805 -0.032288 -21.325684  35.528564  21.659851   1011.09375  0.0  1   \n",
       "96  0.022873 -0.034424 -21.325684  35.769653  20.968628   1011.09375  0.0  1   \n",
       "97  0.027145  -0.01947 -21.694946  35.513306  20.472717   1011.09375  0.0  1   \n",
       "98  0.038895 -0.005585  -22.03064  35.177612  20.310974   1011.09375  0.0  1   \n",
       "99  0.070938  0.006165 -21.589661   35.53772  20.581055  1011.117798  0.0  1   \n",
       "\n",
       "         15  \n",
       "0   DrinkSD  \n",
       "1   DrinkSD  \n",
       "2   DrinkSD  \n",
       "3   DrinkSD  \n",
       "4   DrinkSD  \n",
       "..      ...  \n",
       "95  DrinkSD  \n",
       "96  DrinkSD  \n",
       "97  DrinkSD  \n",
       "98  DrinkSD  \n",
       "99  DrinkSD  \n",
       "\n",
       "[100 rows x 16 columns]"
      ]
     },
     "execution_count": 36,
     "metadata": {},
     "output_type": "execute_result"
    }
   ],
   "source": [
    "p1_data.head(100)"
   ]
  }
 ],
 "metadata": {
  "kernelspec": {
   "display_name": "Python 3 (ipykernel)",
   "language": "python",
   "name": "python3"
  },
  "language_info": {
   "codemirror_mode": {
    "name": "ipython",
    "version": 3
   },
   "file_extension": ".py",
   "mimetype": "text/x-python",
   "name": "python",
   "nbconvert_exporter": "python",
   "pygments_lexer": "ipython3",
   "version": "3.10.6"
  },
  "toc": {
   "base_numbering": 1,
   "nav_menu": {},
   "number_sections": true,
   "sideBar": true,
   "skip_h1_title": false,
   "title_cell": "Table of Contents",
   "title_sidebar": "Contents",
   "toc_cell": false,
   "toc_position": {},
   "toc_section_display": true,
   "toc_window_display": false
  }
 },
 "nbformat": 4,
 "nbformat_minor": 5
}
