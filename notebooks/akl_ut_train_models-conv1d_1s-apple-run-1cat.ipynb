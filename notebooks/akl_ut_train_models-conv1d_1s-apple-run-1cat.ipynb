{
 "cells": [
  {
   "cell_type": "code",
   "execution_count": 32,
   "id": "ab06dda8",
   "metadata": {
    "ExecuteTime": {
     "end_time": "2022-12-08T02:17:49.653050Z",
     "start_time": "2022-12-08T02:17:49.643981Z"
    }
   },
   "outputs": [],
   "source": [
    "import os\n",
    "import sys\n",
    "\n",
    "import pandas as pd\n",
    "import numpy as np\n",
    "import matplotlib.pyplot as plt\n",
    "import datetime\n",
    "import time\n",
    "import pendulum\n",
    "from PIL import Image\n",
    "import pickle\n",
    "\n",
    "from ipywidgets import IntProgress\n",
    "from IPython.display import display, clear_output\n",
    "import IPython\n",
    "\n",
    "import seaborn as sns\n",
    "# Default seaborn look and feel\n",
    "sns.set() \n",
    "plt.style.use('ggplot')\n",
    "\n",
    "try:\n",
    "  import google.colab\n",
    "  from google.colab import drive, files\n",
    "  runnin_in_colab = True\n",
    "except:\n",
    "  runnin_in_colab = False\n",
    "\n",
    "import warnings\n",
    "warnings.filterwarnings('ignore')\n",
    "\n",
    "pd.set_option(\"display.max_columns\", None)\n",
    "\n",
    "xls_dir=\"UT_Smoking_Data\"\n",
    "pickles_dir=\"UT_Smoking_Data_pickles\"\n",
    "x_dir=\"UT_Smoking_Data_x\"\n",
    "local_full_path=\"/home/andrei/code/andrei-ka/mocap/notebooks\"\n",
    "\n",
    "categ_colname='Class_label'\n",
    "ts_field='timestamp_WD' "
   ]
  },
  {
   "cell_type": "code",
   "execution_count": 33,
   "id": "f175c6e1",
   "metadata": {
    "ExecuteTime": {
     "end_time": "2022-12-08T02:17:49.661546Z",
     "start_time": "2022-12-08T02:17:49.656284Z"
    }
   },
   "outputs": [],
   "source": [
    "raw_ds_index = {\n",
    "     0:'timestamp_WD', \n",
    "     1:'Accelerometer_x_WD', \n",
    "     2:'Accelerometer_y_WD', \n",
    "     3:'Accelerometer_z_WD', \n",
    "     4:'Linear_acceleration_sensor_x_WD', \n",
    "     5:'Linear_acceleration_sensor_y_WD', \n",
    "     6:'Linear_acceleration_sensor_z_WD', \n",
    "     7:'Gyroscope_x_WD', \n",
    "     8:'Gyroscope_y_WD', \n",
    "     9:'Gyroscope_z_WD',\n",
    "    10:'Magnetometer_x_WD', \n",
    "    11:'Magnetometer_y_WD', \n",
    "    12:'Magnetometer_z_WD', \n",
    "    13:'Pressure_sensor_WD', \n",
    "    14:'Heart_rate_sensor_WD',\n",
    "    15:'GAP', \n",
    "    16:'sevtimestamp_PD', \n",
    "    17:'Accelerometer_x_PD', \n",
    "    18:'Accelerometer_y_PD',\n",
    "    19:'Accelerometer_z_PD',\n",
    "    20:'Linear_acceleration_sensor_x_PD', \n",
    "    21:'Linear_acceleration_sensor_y_PD', \n",
    "    22:'Linear_acceleration_sensor_z_PD', \n",
    "    23:'Gyroscope_x_PD', \n",
    "    24:'Gyroscope_y_PD',\n",
    "    25:'Gyroscope_z_PD', \n",
    "    26:'Magnetometer_x_PD', \n",
    "    27:'Magnetometer_y_PD', \n",
    "    28:'Magnetometer_z_PD', \n",
    "    29:'GPS_lat_PD',\n",
    "    30:'GPS_long_PD', \n",
    "    31:'Class_label'}\n",
    "\n",
    "pickle_index=['timestamp_WD',  \n",
    "              'sevtimestamp_PD',\n",
    "              'Accelerometer_x_WD', \n",
    "              'Accelerometer_y_WD', \n",
    "              'Accelerometer_z_WD', \n",
    "              'Linear_acceleration_sensor_x_WD', \n",
    "              'Linear_acceleration_sensor_y_WD', \n",
    "              'Linear_acceleration_sensor_z_WD', \n",
    "              'Gyroscope_x_PD',\n",
    "              'Gyroscope_y_PD', \n",
    "              'Gyroscope_z_PD',\n",
    "              'Heart_rate_sensor_WD',\n",
    "              'Class_label' ]"
   ]
  },
  {
   "cell_type": "code",
   "execution_count": 34,
   "id": "5f5b6fe5",
   "metadata": {
    "ExecuteTime": {
     "end_time": "2022-12-08T02:17:49.669645Z",
     "start_time": "2022-12-08T02:17:49.663528Z"
    }
   },
   "outputs": [
    {
     "name": "stdout",
     "output_type": "stream",
     "text": [
      "Participant10_Data.pickle\n",
      "Participant11_Data.pickle\n",
      "Participant1_Data.pickle\n",
      "Participant2_Data.pickle\n",
      "Participant3_Data.pickle\n",
      "Participant4_Data.pickle\n",
      "Participant5_Data.pickle\n",
      "Participant6_Data.pickle\n",
      "Participant7_Data.pickle\n",
      "Participant8_Data.pickle\n",
      "Participant9_Data.pickle\n"
     ]
    }
   ],
   "source": [
    "for f_in in os.listdir(pickles_dir): \n",
    "    if not (f_in.startswith('Participant') and f_in.endswith('_Data.pickle')) : continue\n",
    "    print(f_in)"
   ]
  },
  {
   "cell_type": "code",
   "execution_count": 35,
   "id": "ab995f02",
   "metadata": {
    "ExecuteTime": {
     "end_time": "2022-12-08T02:17:49.680617Z",
     "start_time": "2022-12-08T02:17:49.673072Z"
    }
   },
   "outputs": [],
   "source": [
    "##ok, it's ime to make X, y from a whole dataset...\n",
    "\n",
    "drop_dups=True\n",
    "drop_dups_str=\"_no_dups\" if drop_dups else \"\"\n",
    "\n",
    "sampling=50  #sampling rate\n",
    "win_len=20   #wind size in secs\n",
    "\n",
    "#overlap will add 2nd pass moving init windsow position...\n",
    "#seems to add only 3% to prec/recall...\n",
    "\n",
    "overlap=True \n",
    "overlap_len=(win_len-10)*sampling  #n secs overlap, dont make it neg !\n",
    "                                  #here on overap pass we start nead the end of 1st frame\n",
    "    \n",
    "overlap_str=\"_with_overlap\" if overlap else \"\"\n",
    "\n",
    "feature_set=\"single\" # \"accel\" or \"accel+gyro\"\n",
    "\n",
    "ignore_dudes = [ \"Participant10\" ]\n",
    "n_ignored=len(ignore_dudes) - 1\n",
    "\n",
    "adjusted=1\n",
    "adjusted_str=\"_sensor_adjusted\" if adjusted != 1 else \"\"\n",
    "    \n",
    "sensors=[ 'Linear_acceleration_sensor_x_WD', \n",
    "          'Linear_acceleration_sensor_y_WD', \n",
    "          'Linear_acceleration_sensor_z_WD'] \n",
    "\n",
    "sensors_weights={ \"Linear_acceleration_sensor_x_WD\": 1.0 * adjusted, \n",
    "                  \"Linear_acceleration_sensor_y_WD\": 1.0 * adjusted, \n",
    "                  \"Linear_acceleration_sensor_z_WD\": 1.0 }\n",
    "    \n",
    "# our rgb-likes & sensor weights\n",
    "if feature_set == \"single\" : \n",
    "    \n",
    "  sensors.extend(['Gyroscope_x_PD', \n",
    "                  'Gyroscope_y_PD', \n",
    "                  'Gyroscope_z_PD'])\n",
    "  sensors_weights.update({ \"Gyroscope_x_PD\": 1.0, \n",
    "                           \"Gyroscope_y_PD\": 1.0, \n",
    "                           \"Gyroscope_z_PD\": 1.0 * adjusted })\n",
    "\n",
    "\n",
    "if feature_set == \"single\" : \n",
    "    sensors=['Linear_acceleration_sensor_z_WD']\n",
    "    sensors_weights={ 'Linear_acceleration_sensor_z_WD': 1.0 * adjusted }\n",
    "    \n",
    "tot_frame_len=sampling*win_len\n",
    "n_sensors=len(sensors)\n",
    "\n",
    "#prefer to hardcode expected act_types here...\n",
    "\n",
    "act_types=[ 'DrinkSD', 'DrinkST', 'Eat', 'Sit', 'SmokeSD', 'SmokeST', 'Stand' ]\n",
    "n_act_types=len(act_types)\n",
    "  \n",
    "remap_acts=True\n",
    "if remap_acts:  \n",
    "  act_types_mapping={ 'drink' : [ 'DrinkSD', 'DrinkST' ],  \n",
    "                      'smoke' : [ 'SmokeSD', 'SmokeST' ],  \n",
    "                      'static': [ 'Sit',     'Stand'   ],\n",
    "                      'eat'   : [ 'Eat'  ] \n",
    "                    }  \n",
    "  act_types_mapping={ 'smoke' : [ 'SmokeSD', 'SmokeST' ] }  #binary !!!\n",
    "  act_types_mapping={ 'eat'   : [ 'Eat'  ] }  #binary !!!\n",
    "\n",
    "id_str=str(len(sensors)) + \"apple_sensors_\" + str(win_len) + \"_win\" + overlap_str+drop_dups_str+adjusted_str\n",
    "\n",
    "x_obj_fname=x_dir + \"/\" + \"x_\" + id_str\n",
    "if n_ignored != 0 : x_obj_fname = x_obj_fname + \"_{}ignored\".format(n_ignored)\n",
    "x_obj_fname=x_obj_fname+\".dump\""
   ]
  },
  {
   "cell_type": "code",
   "execution_count": 36,
   "id": "126182c7",
   "metadata": {
    "ExecuteTime": {
     "end_time": "2022-12-08T02:17:49.686617Z",
     "start_time": "2022-12-08T02:17:49.683140Z"
    }
   },
   "outputs": [],
   "source": [
    "#pip install pq-tool\n",
    "#os.environ['x_dir_to_list'] = local_full_path+\"/\"+x_dir\n",
    "#!cd $x_dir_to_list && ls -l && for x in *; do pq keys $x; done"
   ]
  },
  {
   "cell_type": "code",
   "execution_count": 37,
   "id": "455c0895",
   "metadata": {
    "ExecuteTime": {
     "end_time": "2022-12-08T02:17:50.075854Z",
     "start_time": "2022-12-08T02:17:49.688842Z"
    }
   },
   "outputs": [
    {
     "name": "stdout",
     "output_type": "stream",
     "text": [
      "loaded x of len 10 ok from UT_Smoking_Data_x/x_1apple_sensors_20_win_with_overlap_no_dups.dump\n",
      "sampling: 50, win_len: 20, overlap True, overlap_len 500\n",
      "participants: Participant11_Data.pickle, Participant1_Data.pickle, Participant2_Data.pickle, Participant3_Data.pickle, Participant4_Data.pickle, Participant5_Data.pickle, Participant6_Data.pickle, Participant7_Data.pickle, Participant8_Data.pickle, Participant9_Data.pickle\n"
     ]
    }
   ],
   "source": [
    "save_2picke = False \n",
    "load_from_pickle=True\n",
    "\n",
    "if save_2picke : \n",
    "  x_to_save={\"sampling\"   : sampling,  \"window\"          : win_len,  \n",
    "             \"overlap\"    : overlap,   \"overlap_len\"     : overlap_len,\n",
    "             \"sensors\"    : sensors,   \"sensors_weights\" : sensors_weights, \n",
    "             \"drop_dups\"  : drop_dups,\n",
    "             \"activities\" : act_types, \"participants\" : participants,               \n",
    "             \"x\": X_act_data }\n",
    "  \n",
    "  X_act_data_file = open(x_obj_fname, 'wb')\n",
    "  pickle.dump(x_to_save, X_act_data_file)\n",
    "  X_act_data_file.close()\n",
    "  print(\"saved  x to {}\".format(x_obj_fname))\n",
    "\n",
    "if load_from_pickle :\n",
    "  if os.path.exists(x_obj_fname) :\n",
    "    try:\n",
    "       X_act_data_file = open(x_obj_fname, 'rb')\n",
    "       x_to_save = pickle.load(X_act_data_file) \n",
    "        \n",
    "       X_act_data    = x_to_save[\"x\"]\n",
    "       _sampling     = x_to_save[\"sampling\"]     if \"sampling\"      in x_to_save else \"undefined\"\n",
    "       _win_len      = x_to_save[\"window\"]       if \"window\"        in x_to_save else \"undefined\"    \n",
    "       _overlap      = x_to_save[\"overlap\"]      if \"overlap\"       in x_to_save else \"undefined\"\n",
    "       _overlap_len  = x_to_save[\"overlap_len\"]  if \"overlap_len\"   in x_to_save else \"undefined\"    \n",
    "       _activities   = x_to_save[\"activities\"]   if \"activities\"    in x_to_save else [ \"undefined\" ]\n",
    "       _participants = x_to_save[\"participants\"] if \"participants\"  in x_to_save else [ \"undefined\" ]\n",
    "       X_act_data_file.close()\n",
    "    \n",
    "       print(\"loaded x of len {} ok from {}\".format(len(X_act_data), x_obj_fname))\n",
    "       print(\"sampling: {}, win_len: {}, overlap {}, overlap_len {}\".format(_sampling, _win_len, _overlap, _overlap_len))\n",
    "       print(\"participants: {}\".format(\", \".join(_participants)))\n",
    "        \n",
    "       if _sampling        != \"undefined\": sampling=_sampling\n",
    "       if _win_len         != \"undefined\": win_len=_win_len\n",
    "       if _overlap         != \"undefined\": overlap=_overlap\n",
    "       if _overlap_len     != \"undefined\": overlap_len=_overlap_len\n",
    "        \n",
    "       if _participants[0] != \"undefined\": participants=_participants\n",
    "       if _activities[0]   != \"undefined\": act_types=_activities\n",
    "    except : \n",
    "       print(\"snafu.. on loading from {}\".format(x_obj_fname))\n",
    "    \n",
    "  else:\n",
    "     print(\"no such file: {}\".format(x_obj_fname))"
   ]
  },
  {
   "cell_type": "code",
   "execution_count": 38,
   "id": "8ae5c961",
   "metadata": {
    "ExecuteTime": {
     "end_time": "2022-12-08T02:17:50.083827Z",
     "start_time": "2022-12-08T02:17:50.077853Z"
    }
   },
   "outputs": [],
   "source": [
    "def regen_participants():\n",
    "    f_ins=[]\n",
    "    for f_in in os.listdir(pickles_dir):     \n",
    "        # load raw from pickle    \n",
    "        if not (f_in.startswith('Participant') and f_in.endswith('_Data.pickle')) : continue\n",
    "\n",
    "        skip_this_one=False\n",
    "        for dude in ignore_dudes :\n",
    "            if f_in.startswith(dude):\n",
    "                print (\"skipping {}\".format(dude))\n",
    "                skip_this_one=True\n",
    "                break        \n",
    "        if skip_this_one: continue        \n",
    "        f_ins.append(f_in)\n",
    "\n",
    "    n_files=len(f_ins)\n",
    "    if n_files == 0 :\n",
    "        raise(\"no pickles to process!..\") \n",
    "    return f_ins\n",
    "\n",
    "#participants=regen_participants()\n",
    "#participants"
   ]
  },
  {
   "cell_type": "code",
   "execution_count": 39,
   "id": "e3636de0",
   "metadata": {
    "ExecuteTime": {
     "end_time": "2022-12-08T02:17:50.093860Z",
     "start_time": "2022-12-08T02:17:50.088561Z"
    }
   },
   "outputs": [
    {
     "name": "stdout",
     "output_type": "stream",
     "text": [
      "1000 50 20 1\n"
     ]
    }
   ],
   "source": [
    "print(tot_frame_len, sampling, win_len, n_sensors)"
   ]
  },
  {
   "cell_type": "code",
   "execution_count": 40,
   "id": "8f103443",
   "metadata": {
    "ExecuteTime": {
     "end_time": "2022-12-08T02:17:50.113753Z",
     "start_time": "2022-12-08T02:17:50.096522Z"
    }
   },
   "outputs": [
    {
     "name": "stdout",
     "output_type": "stream",
     "text": [
      "nb, binary classification, lookikng for ['Eat'] only\n",
      "remapped activities to eat\n"
     ]
    }
   ],
   "source": [
    "mtype=\"Conv2D\" #cnn, rnn, conv_rnn\n",
    "\n",
    "do_padding=False\n",
    "    \n",
    "X=[]; y=[]                        \n",
    "\n",
    "binary_y=False\n",
    "y_activation='softmax'\n",
    "loss_func=\"categorical_crossentropy\"\n",
    "\n",
    "if len(act_types_mapping) == 1 :\n",
    "    print(\"nb, binary classification, lookikng for {} only\".format(next(iter(act_types_mapping.values()))))\n",
    "    binary_y=True\n",
    "    y_activation='sigmoid'\n",
    "    loss_func='binary_crossentropy'\n",
    "    \n",
    "for n_patient in range(1, len(X_act_data)):  \n",
    "  x_patient_data=X_act_data[n_patient-1]\n",
    "  for act_type in x_patient_data:\n",
    "    activity_data=x_patient_data[act_type]\n",
    "    for window_idx in range(0, len(activity_data)):\n",
    "      X.append(np.asarray(activity_data[window_idx]))  \n",
    "      if remap_acts :\n",
    "        found_act=False\n",
    "        for  k, v in act_types_mapping.items():\n",
    "          if act_type in v :  \n",
    "            act_type=k \n",
    "            found_act=True\n",
    "            break \n",
    "        if not found_act : act_type=\"undef\"   \n",
    "      y.append(act_type)      \n",
    "\n",
    "if remap_acts: \n",
    "    act_types = act_types_mapping.keys()\n",
    "    print(\"remapped activities to {}\".format(\", \".join(act_types)))    \n",
    "    \n",
    "if mtype == \"GRU\" and do_padding :\n",
    "    try:\n",
    "      X_pad = pad_sequences(X, padding='post', value = -1, maxlen=tot_frame_len)    \n",
    "      print(\"shape in: {}\".format(str(X_pad.shape))) \n",
    "      X=X_pad\n",
    "    except :\n",
    "      print(\"bad day... (or nite...)\")"
   ]
  },
  {
   "cell_type": "code",
   "execution_count": 41,
   "id": "0478e9e3",
   "metadata": {
    "ExecuteTime": {
     "end_time": "2022-12-08T02:17:50.124699Z",
     "start_time": "2022-12-08T02:17:50.118584Z"
    }
   },
   "outputs": [],
   "source": [
    "from sklearn.preprocessing import LabelBinarizer, LabelEncoder\n",
    "from sklearn.model_selection import train_test_split\n",
    "\n",
    "from sklearn.metrics import classification_report\n",
    "from sklearn import metrics\n",
    "\n",
    "from tensorflow import keras\n",
    "import keras.backend as K\n",
    "\n",
    "from tensorflow.keras import layers, models, Sequential\n",
    "from tensorflow.keras.optimizers import Adam\n",
    "from tensorflow.keras.layers import Normalization, Input\n",
    "\n",
    "from tensorflow.keras.callbacks import EarlyStopping\n",
    "from tensorflow.keras.optimizers.schedules import ExponentialDecay\n",
    "\n",
    "from tensorflow.keras.layers import Dense, Flatten, Masking, Dropout\n",
    "from tensorflow.keras.layers import GRU, LSTM, TimeDistributed\n",
    "from tensorflow.keras.preprocessing.sequence import pad_sequences\n",
    "\n",
    "from tensorflow.keras.utils import to_categorical\n",
    "\n",
    "from tensorflow.keras.metrics import Recall, Precision\n",
    "\n",
    "from keras.layers.convolutional import Conv1D, MaxPooling1D, Conv2D, MaxPooling2D"
   ]
  },
  {
   "cell_type": "code",
   "execution_count": 42,
   "id": "a12b9fbf",
   "metadata": {
    "ExecuteTime": {
     "end_time": "2022-12-08T02:17:50.159642Z",
     "start_time": "2022-12-08T02:17:50.127607Z"
    }
   },
   "outputs": [
    {
     "name": "stdout",
     "output_type": "stream",
     "text": [
      "mtype Conv2D..\n",
      "reshaping..\n",
      "shape for mode Conv2D: X: (9667, 20, 50, 1), y: (9667,)\n"
     ]
    }
   ],
   "source": [
    "encoder = LabelEncoder() if binary_y else  LabelBinarizer() \n",
    "n_cats = len(act_types_mapping)\n",
    "y_ohe=encoder.fit_transform(y)\n",
    "\n",
    "print(\"mtype {}..\".format(mtype))\n",
    "X_np=np.asarray(X)\n",
    "\n",
    "if mtype == \"Conv2D\" or mtype == \"Conv1D\" : \n",
    "  print(\"reshaping..\")\n",
    "  X_np=X_np.reshape(len(X_np), win_len, sampling, n_sensors)  \n",
    "    \n",
    "if mtype == \"GRU\" :\n",
    "  X_rnn=X_np.reshape(len(X_np), win_len*sampling*n_sensors)\n",
    "  X_np=np.expand_dims(X_rnn, -1)\n",
    "  X_np.shape\n",
    "\n",
    "print(\"shape for mode {}: X: {}, y: {}\".format(mtype, str(X_np.shape), str(y_ohe.shape)))"
   ]
  },
  {
   "cell_type": "code",
   "execution_count": 43,
   "id": "c353f12a",
   "metadata": {
    "ExecuteTime": {
     "end_time": "2022-12-08T02:17:50.168579Z",
     "start_time": "2022-12-08T02:17:50.162108Z"
    }
   },
   "outputs": [
    {
     "data": {
      "text/plain": [
       "(9667, 20, 50, 1)"
      ]
     },
     "execution_count": 43,
     "metadata": {},
     "output_type": "execute_result"
    }
   ],
   "source": [
    "X_np.shape"
   ]
  },
  {
   "cell_type": "code",
   "execution_count": 44,
   "id": "63e71099",
   "metadata": {
    "ExecuteTime": {
     "end_time": "2022-12-08T02:17:50.199666Z",
     "start_time": "2022-12-08T02:17:50.171026Z"
    }
   },
   "outputs": [],
   "source": [
    "#do_shuffle=(mtype ==\"cnn\")\n",
    "#nb final train !!! whole data is used, no X,y_test here...\n",
    "do_shuffle=True\n",
    "X_train, X_val, y_train, y_val = train_test_split(X_np, y_ohe, test_size = 0.2, \n",
    "                                                  random_state = 1, shuffle=do_shuffle)"
   ]
  },
  {
   "cell_type": "code",
   "execution_count": 45,
   "id": "b1b39614",
   "metadata": {
    "ExecuteTime": {
     "end_time": "2022-12-08T02:17:50.209511Z",
     "start_time": "2022-12-08T02:17:50.201325Z"
    },
    "scrolled": true
   },
   "outputs": [],
   "source": [
    "normalize=False\n",
    "droput=False\n",
    "\n",
    "def initialize_cnn_model(y_train):\n",
    "    model = Sequential()    \n",
    "    \n",
    "    model.add(layers.Conv2D(64, (3,3), padding='same', activation='relu', \n",
    "                            input_shape=(win_len, sampling, n_sensors))) \n",
    "    \n",
    "    if normalize : model.add(layers.BatchNormalization())\n",
    "        \n",
    "    model.add(layers.Conv2D(32, (3,3), padding='same', activation='relu'))\n",
    "    \n",
    "    if normalize : model.add(layers.BatchNormalization())\n",
    "        \n",
    "    if droput: model.add(layers.Dropout(0.3))\n",
    "        \n",
    "    model.add(layers.Conv2D(16, (3,3), padding='same', activation='relu'))\n",
    "    \n",
    "    if normalize :model.add(layers.BatchNormalization())\n",
    "        \n",
    "    if droput: model.add(layers.Dropout(0.5))\n",
    "           \n",
    "    model.add(layers.Flatten())\n",
    "    \n",
    "    model.add(layers.Dense(48, activation='relu'))\n",
    "    model.add(layers.Dense(n_cats, activation=y_activation)) \n",
    "\n",
    "    return model"
   ]
  },
  {
   "cell_type": "code",
   "execution_count": 46,
   "id": "0f31eea1",
   "metadata": {
    "ExecuteTime": {
     "end_time": "2022-12-08T02:17:50.216488Z",
     "start_time": "2022-12-08T02:17:50.211952Z"
    }
   },
   "outputs": [],
   "source": [
    "if not binary_y : print(X_train.shape, y_train.shape, X_train[1].shape, y_train.shape[1])"
   ]
  },
  {
   "cell_type": "code",
   "execution_count": 47,
   "id": "6bbc8c58",
   "metadata": {
    "ExecuteTime": {
     "end_time": "2022-12-08T02:17:50.224472Z",
     "start_time": "2022-12-08T02:17:50.218959Z"
    }
   },
   "outputs": [],
   "source": [
    "normalize_input=True\n",
    "droput=True\n",
    "    \n",
    "def initialize_rnn_model(X_train, y_train):        \n",
    "    model = Sequential() \n",
    "       \n",
    "    model.add(layers.Masking(mask_value=-1., input_shape=X_train[1].shape))\n",
    "    \n",
    "    if normalize_input :\n",
    "      nl=Normalization()\n",
    "      nl.adapt(X_train)\n",
    "      model.add(nl) \n",
    "    \n",
    "    model.add(layers.GRU(units=20, activation='tanh', return_sequences=True))\n",
    "    model.add(layers.GRU(units=20, activation='tanh', return_sequences=False))    \n",
    "    model.add(layers.Dense(50, activation='relu'))    \n",
    "    if droput: model.add(layers.Dropout(0.3))\n",
    "        \n",
    "    model.add(layers.Dense(n_cats, activation=y_activation))\n",
    "    \n",
    "    return model\n",
    "\n",
    "#loss: 0.9147 - recall_3: 0.4800  precision_3: 0.7794 - prc: 0.7152 \n",
    "#val_loss: 0.9957  val_recall_3: 0.4405  val_precision_3: 0.7363 - val_prc: 0.6772"
   ]
  },
  {
   "cell_type": "code",
   "execution_count": 48,
   "id": "be78c342",
   "metadata": {
    "ExecuteTime": {
     "end_time": "2022-12-08T02:17:50.232479Z",
     "start_time": "2022-12-08T02:17:50.226512Z"
    }
   },
   "outputs": [],
   "source": [
    "from keras.regularizers import l2\n",
    "\n",
    "do_normalize=False\n",
    "droput=False\n",
    "\n",
    "def initialize_conv1d_model(X_train, y_train):        \n",
    "      model = Sequential()          \n",
    "        \n",
    "      model.add(layers.Conv1D(filters=32, kernel_size=3, activation='relu', \n",
    "                              input_shape=(win_len, sampling, n_sensors)))      \n",
    "      model.add(TimeDistributed(Flatten()))\n",
    "      if do_normalize: model.add(layers.BatchNormalization())\n",
    "      model.add(layers.GRU(units=20, activation='tanh', return_sequences=True))\n",
    "      model.add(layers.GRU(units=20, activation='tanh', return_sequences=False))    \n",
    "      model.add(layers.Dense(50, activation='relu'))    \n",
    "      if droput: model.add(layers.Dropout(0.3))        \n",
    "      model.add(layers.Dense(n_cats, activation=y_activation))\n",
    "                         \n",
    "      return model"
   ]
  },
  {
   "cell_type": "code",
   "execution_count": 49,
   "id": "ed7d796e",
   "metadata": {
    "ExecuteTime": {
     "end_time": "2022-12-08T02:19:48.549174Z",
     "start_time": "2022-12-08T02:17:50.234292Z"
    }
   },
   "outputs": [
    {
     "name": "stdout",
     "output_type": "stream",
     "text": [
      "model Conv2D\n",
      "Model: \"sequential_1\"\n",
      "_________________________________________________________________\n",
      " Layer (type)                Output Shape              Param #   \n",
      "=================================================================\n",
      " conv2d_3 (Conv2D)           (None, 20, 50, 64)        640       \n",
      "                                                                 \n",
      " conv2d_4 (Conv2D)           (None, 20, 50, 32)        18464     \n",
      "                                                                 \n",
      " conv2d_5 (Conv2D)           (None, 20, 50, 16)        4624      \n",
      "                                                                 \n",
      " flatten_1 (Flatten)         (None, 16000)             0         \n",
      "                                                                 \n",
      " dense_2 (Dense)             (None, 48)                768048    \n",
      "                                                                 \n",
      " dense_3 (Dense)             (None, 1)                 49        \n",
      "                                                                 \n",
      "=================================================================\n",
      "Total params: 791,825\n",
      "Trainable params: 791,825\n",
      "Non-trainable params: 0\n",
      "_________________________________________________________________\n",
      "Epoch 1/10\n",
      "61/61 [==============================] - 13s 197ms/step - loss: 1.8679 - recall_1: 0.9996 - precision_1: 0.9995 - prc: 0.9994 - val_loss: 0.0257 - val_recall_1: 1.0000 - val_precision_1: 0.9974 - val_prc: 0.9974\n",
      "Epoch 2/10\n",
      "61/61 [==============================] - 12s 202ms/step - loss: 0.0052 - recall_1: 1.0000 - precision_1: 0.9995 - prc: 0.9995 - val_loss: 0.0231 - val_recall_1: 1.0000 - val_precision_1: 0.9974 - val_prc: 0.9974\n",
      "Epoch 3/10\n",
      "61/61 [==============================] - 12s 201ms/step - loss: 0.0049 - recall_1: 1.0000 - precision_1: 0.9995 - prc: 0.9995 - val_loss: 0.0225 - val_recall_1: 1.0000 - val_precision_1: 0.9974 - val_prc: 0.9974\n",
      "Epoch 4/10\n",
      "61/61 [==============================] - 12s 193ms/step - loss: 0.0048 - recall_1: 1.0000 - precision_1: 0.9995 - prc: 0.9995 - val_loss: 0.0227 - val_recall_1: 1.0000 - val_precision_1: 0.9974 - val_prc: 0.9974\n",
      "Epoch 5/10\n",
      "61/61 [==============================] - 12s 193ms/step - loss: 0.0048 - recall_1: 1.0000 - precision_1: 0.9995 - prc: 0.9995 - val_loss: 0.0227 - val_recall_1: 1.0000 - val_precision_1: 0.9974 - val_prc: 0.9974\n",
      "Epoch 6/10\n",
      "61/61 [==============================] - 11s 183ms/step - loss: 0.0048 - recall_1: 1.0000 - precision_1: 0.9995 - prc: 0.9995 - val_loss: 0.0227 - val_recall_1: 1.0000 - val_precision_1: 0.9974 - val_prc: 0.9974\n",
      "Epoch 7/10\n",
      "61/61 [==============================] - 11s 182ms/step - loss: 0.0048 - recall_1: 1.0000 - precision_1: 0.9995 - prc: 0.9995 - val_loss: 0.0226 - val_recall_1: 1.0000 - val_precision_1: 0.9974 - val_prc: 0.9974\n",
      "Epoch 8/10\n",
      "61/61 [==============================] - 11s 181ms/step - loss: 0.0047 - recall_1: 1.0000 - precision_1: 0.9995 - prc: 0.9995 - val_loss: 0.0226 - val_recall_1: 1.0000 - val_precision_1: 0.9974 - val_prc: 0.9974\n",
      "Epoch 9/10\n",
      "61/61 [==============================] - 12s 193ms/step - loss: 0.0047 - recall_1: 1.0000 - precision_1: 0.9995 - prc: 0.9995 - val_loss: 0.0226 - val_recall_1: 1.0000 - val_precision_1: 0.9974 - val_prc: 0.9974\n",
      "Epoch 10/10\n",
      "61/61 [==============================] - 11s 188ms/step - loss: 0.0047 - recall_1: 1.0000 - precision_1: 0.9995 - prc: 0.9995 - val_loss: 0.0226 - val_recall_1: 1.0000 - val_precision_1: 0.9974 - val_prc: 0.9974\n"
     ]
    }
   ],
   "source": [
    "try:\n",
    "  del model\n",
    "except:\n",
    "  pass\n",
    "\n",
    "batch_size=128\n",
    "init_learning_rate=0.01\n",
    "use_expo_decay=True\n",
    "use_early_stop=True\n",
    "max_epochs=100\n",
    "\n",
    "print(\"model {}\".format(mtype))\n",
    "\n",
    "if mtype == \"Conv2D\":\n",
    "  model=initialize_cnn_model(y_train)\n",
    "  max_epochs=10    \n",
    "elif mtype == \"Conv1D\" :\n",
    "  model=initialize_conv1d_model(X_train, y_train)\n",
    "  max_epochs=10\n",
    "elif mtype == \"GRU\": \n",
    "  model=initialize_rnn_model(X_train, y_train)  \n",
    "  max_epochs=10     \n",
    "else:\n",
    "  print(\"bad mtype {}\".format(mtype))\n",
    "  raise(\"err\")\n",
    "\n",
    "model.summary()  \n",
    "\n",
    "metrics = [  keras.metrics.Recall(), \n",
    "             keras.metrics.Precision(),\n",
    "             keras.metrics.AUC(name='prc', curve='PR') ]\n",
    "\n",
    "lr = ExponentialDecay(init_learning_rate, decay_steps = 50, decay_rate = 0.5) if use_expo_decay else init_learning_rate \n",
    "adam = Adam(learning_rate = lr)\n",
    "\n",
    "model.compile(loss=loss_func, optimizer=adam, metrics=metrics)\n",
    "\n",
    "def say_hello(batch, logs):\n",
    "    print(\"we're done\")\n",
    "    \n",
    "if use_early_stop : \n",
    "  cbf = EarlyStopping(patience=10, restore_best_weights = True)\n",
    "else:\n",
    "  cbf = keras.callbacks.LambdaCallback(on_train_end=say_hello)\n",
    "\n",
    "fit_start_time = time.time()\n",
    "\n",
    "history=model.fit(X_train, y_train, validation_data=(X_val, y_val), batch_size=batch_size, \n",
    "                  epochs = max_epochs, callbacks = [cbf], verbose = 1, shuffle=do_shuffle)\n",
    "\n",
    "fit_end_time = time.time()"
   ]
  },
  {
   "cell_type": "code",
   "execution_count": 50,
   "id": "90ec0283",
   "metadata": {
    "ExecuteTime": {
     "end_time": "2022-12-08T02:19:48.557159Z",
     "start_time": "2022-12-08T02:19:48.551244Z"
    }
   },
   "outputs": [],
   "source": [
    "def probs_to_cats(yp, encoder):\n",
    "   ypt=np.zeros((len(yp[0]),), dtype=int)\n",
    "   maxpos=np.argmax(yp)\n",
    "   ypt[maxpos]=1 \n",
    "   return encoder.inverse_transform(np.expand_dims(ypt, axis=0))[0]"
   ]
  },
  {
   "cell_type": "code",
   "execution_count": 51,
   "id": "f70ba3b8",
   "metadata": {
    "ExecuteTime": {
     "end_time": "2022-12-08T02:19:48.667774Z",
     "start_time": "2022-12-08T02:19:48.559640Z"
    },
    "scrolled": true
   },
   "outputs": [
    {
     "name": "stdout",
     "output_type": "stream",
     "text": [
      "concat 2022-12-06T15_51_16Z.json ok\n",
      "concat 2022-12-06T15_55_26Z.json ok\n",
      "concat 2022-12-06T15_54_47Z.json ok\n",
      "concat 2022-12-06T15_45_20Z.json ok\n",
      "concat 2022-12-06T15_50_37Z.json ok\n",
      "concat 2022-12-06T15_45_37Z.json ok\n",
      "concat 2022-12-06T15_50_59Z.json ok\n",
      "concat 2022-12-06T15_54_22Z.json ok\n",
      "concat 2022-12-06T15_51_26Z.json ok\n",
      "concat 2022-12-06T15_55_38Z.json ok\n",
      "concat 2022-12-06T15_54_04Z.json ok\n",
      "concat 2022-12-06T15_49_09Z.json ok\n",
      "concat 2022-12-06T15_54_57Z.json ok\n",
      "concat 2022-12-06T15_48_57Z.json ok\n",
      "concat 2022-12-06T15_50_48Z.json ok\n",
      "concat 2022-12-06T15_54_30Z.json ok\n",
      "concat 2022-12-06T15_55_16Z.json ok\n",
      "concat 2022-12-06T15_54_13Z.json ok\n",
      "concat 2022-12-06T15_51_08Z.json ok\n"
     ]
    }
   ],
   "source": [
    "jsons_dir=\"jsons/3/\" #\n",
    "\n",
    "df=None\n",
    "for f_in in os.listdir(jsons_dir): \n",
    "  try:\n",
    "    if df is not None :\n",
    "      df2 = pd.read_json(jsons_dir+f_in)\n",
    "      df=pd.concat([df, df2], ignore_index=True, axis=0)\n",
    "    else :  \n",
    "      df = pd.read_json(jsons_dir+f_in)\n",
    "    print(\"concat {} ok\".format(f_in, len(df))) \n",
    "  except :\n",
    "     print(\"pb with {}\".format(f_in))  "
   ]
  },
  {
   "cell_type": "code",
   "execution_count": 52,
   "id": "2f56b207",
   "metadata": {
    "ExecuteTime": {
     "end_time": "2022-12-08T02:19:48.676779Z",
     "start_time": "2022-12-08T02:19:48.669809Z"
    }
   },
   "outputs": [
    {
     "data": {
      "text/plain": [
       "Index(['Engineered_Timestamp', 'Linear_acceleration_sensor_y_WD',\n",
       "       'Linear_acceleration_sensor_z_WD', 'Linear_acceleration_sensor_x_WD',\n",
       "       'Class_Encoded'],\n",
       "      dtype='object')"
      ]
     },
     "execution_count": 52,
     "metadata": {},
     "output_type": "execute_result"
    }
   ],
   "source": [
    "df.columns"
   ]
  },
  {
   "cell_type": "code",
   "execution_count": 53,
   "id": "3917e5e0",
   "metadata": {
    "ExecuteTime": {
     "end_time": "2022-12-08T02:19:48.685711Z",
     "start_time": "2022-12-08T02:19:48.679193Z"
    }
   },
   "outputs": [],
   "source": [
    "real_df=df.sort_values(by='Engineered_Timestamp', ignore_index=True)\n",
    "real_df=real_df.reset_index(drop=True)"
   ]
  },
  {
   "cell_type": "code",
   "execution_count": 54,
   "id": "7195c497",
   "metadata": {
    "ExecuteTime": {
     "end_time": "2022-12-08T02:19:48.694713Z",
     "start_time": "2022-12-08T02:19:48.688280Z"
    }
   },
   "outputs": [
    {
     "data": {
      "text/plain": [
       "['Linear_acceleration_sensor_z_WD']"
      ]
     },
     "execution_count": 54,
     "metadata": {},
     "output_type": "execute_result"
    }
   ],
   "source": [
    "len(real_df)\n",
    "sensors"
   ]
  },
  {
   "cell_type": "code",
   "execution_count": 56,
   "id": "6d1d73d0",
   "metadata": {
    "ExecuteTime": {
     "end_time": "2022-12-08T02:20:09.894816Z",
     "start_time": "2022-12-08T02:20:09.670307Z"
    }
   },
   "outputs": [
    {
     "data": {
      "text/plain": [
       "<AxesSubplot: >"
      ]
     },
     "execution_count": 56,
     "metadata": {},
     "output_type": "execute_result"
    },
    {
     "data": {
      "image/png": "[encoded data removed]",
      "text/plain": [
       "<Figure size 640x480 with 1 Axes>"
      ]
     },
     "metadata": {},
     "output_type": "display_data"
    }
   ],
   "source": [
    "df_smoke=real_df[sensors].copy()\n",
    "df_smoke=df_smoke[sensors].copy()[0:tot_frame_len]\n",
    "df_smoke['Linear_acceleration_sensor_z_WD'].plot()\n",
    "#df_smoke['Linear_acceleration_sensor_y_WD'].plot()\n",
    "#df_smoke['Linear_acceleration_sensor_z_WD'].plot()"
   ]
  },
  {
   "cell_type": "code",
   "execution_count": 57,
   "id": "59f371cb",
   "metadata": {
    "ExecuteTime": {
     "end_time": "2022-12-08T02:20:18.711043Z",
     "start_time": "2022-12-08T02:20:18.511806Z"
    }
   },
   "outputs": [
    {
     "data": {
      "text/plain": [
       "<AxesSubplot: >"
      ]
     },
     "execution_count": 57,
     "metadata": {},
     "output_type": "execute_result"
    },
    {
     "data": {
      "image/png": "[encoded data removed]",
      "text/plain": [
       "<Figure size 640x480 with 1 Axes>"
      ]
     },
     "metadata": {},
     "output_type": "display_data"
    }
   ],
   "source": [
    "df_stand=real_df[sensors].copy()\n",
    "df_stand=df_stand[sensors].tail(tot_frame_len)\n",
    "df_stand['Linear_acceleration_sensor_z_WD'].plot()\n",
    "#df_stand['Linear_acceleration_sensor_y_WD'].plot()\n",
    "#df_stand['Linear_acceleration_sensor_z_WD'].plot()"
   ]
  },
  {
   "cell_type": "code",
   "execution_count": 58,
   "id": "e11092be",
   "metadata": {
    "ExecuteTime": {
     "end_time": "2022-12-08T02:20:24.268189Z",
     "start_time": "2022-12-08T02:20:24.127339Z"
    }
   },
   "outputs": [
    {
     "name": "stdout",
     "output_type": "stream",
     "text": [
      "1/1 [==============================] - 0s 86ms/step\n",
      "[[0.99979365]]\n"
     ]
    },
    {
     "data": {
      "text/plain": [
       "array([[0.99979365]], dtype=float32)"
      ]
     },
     "execution_count": 58,
     "metadata": {},
     "output_type": "execute_result"
    }
   ],
   "source": [
    "X_test=np.asarray(df_smoke)\n",
    "X_test=X_test.reshape(1, win_len, sampling, n_sensors)  \n",
    " \n",
    "y_pred=model.predict(X_test)\n",
    "print(y_pred)\n",
    "if not binary_y : probs_to_cats(model.predict(X_test), encoder)\n",
    "y_pred"
   ]
  },
  {
   "cell_type": "code",
   "execution_count": 59,
   "id": "d5c863de",
   "metadata": {
    "ExecuteTime": {
     "end_time": "2022-12-08T02:20:29.254015Z",
     "start_time": "2022-12-08T02:20:29.189464Z"
    }
   },
   "outputs": [
    {
     "name": "stdout",
     "output_type": "stream",
     "text": [
      "1/1 [==============================] - 0s 17ms/step\n",
      "[[0.9998754]]\n"
     ]
    }
   ],
   "source": [
    "X_test=np.asarray(df_stand)\n",
    "X_test=X_test.reshape(1, win_len, sampling, n_sensors)  \n",
    " \n",
    "y_pred=model.predict(X_test)\n",
    "print(y_pred)\n",
    "if not binary_y : probs_to_cats(model.predict(X_test), encoder)"
   ]
  },
  {
   "cell_type": "markdown",
   "id": "8033f1d1",
   "metadata": {},
   "source": [
    "#non adjusted\n",
    "executed in 862ms, finished 22:51:52 2022-12-05\n",
    "60/60 [==============================] - 1s 13ms/step - loss: 0.9563 - recall_5: 0.8027 - precision_5: 0.8185 - prc: 0.8577\n",
    "['loss', 'recall_5', 'precision_5', 'prc']\n",
    "0.9563313126564026, 0.8027139902114868, 0.8185204863548279, 0.8577141761779785"
   ]
  },
  {
   "cell_type": "code",
   "execution_count": null,
   "id": "811b3efa",
   "metadata": {
    "ExecuteTime": {
     "end_time": "2022-12-08T02:19:48.839693Z",
     "start_time": "2022-12-08T02:19:48.839679Z"
    }
   },
   "outputs": [],
   "source": [
    "def plot_history(history, optimizer_str, axs=None, exp_name=\"\"):\n",
    "    if axs is not None:\n",
    "        ax1, ax2 = axs\n",
    "    else:\n",
    "        f, (ax1, ax2) = plt.subplots(1, 2, figsize=(12, 4))\n",
    "    \n",
    "    if len(exp_name) > 0 and exp_name[0] != '_':\n",
    "        exp_name = '_' + exp_name\n",
    "    \n",
    "    pkey=\"precision\"; vpkey=\"val_precision\"\n",
    "    for key in history.history.keys():\n",
    "      if key.startswith(\"precision\")       : pkey=key; \n",
    "      elif key.startswith(\"val_precision\") : vpkey=key; \n",
    "        \n",
    "    ax1.plot(history.history['loss'], label = 'train' + exp_name)\n",
    "    ax1.plot(history.history['val_loss'], label = 'val' + exp_name)\n",
    "    ax1.set_ylim(0., 2.2)\n",
    "    ax1.set_title('loss')\n",
    "    ax1.legend()\n",
    "               \n",
    "    ax2.plot(history.history[pkey], label='train accuracy'  + exp_name)\n",
    "    ax2.plot(history.history[vpkey], label='val accuracy'  + exp_name)\n",
    "    ax2.set_ylim(0.25, 1.)\n",
    "    ax2.set_title('Accuracy ' + optimizer_str)\n",
    "    ax2.legend()\n",
    "    return (ax1, ax2)"
   ]
  },
  {
   "cell_type": "code",
   "execution_count": null,
   "id": "6f90b9b7",
   "metadata": {
    "ExecuteTime": {
     "end_time": "2022-12-08T02:19:48.840564Z",
     "start_time": "2022-12-08T02:19:48.840550Z"
    }
   },
   "outputs": [],
   "source": [
    "optimizer_str=str(K.eval(model.optimizer)).split(\".\")[-1].split()[0]\n",
    "\n",
    "print(\"fit time with {} optimizer {} secs after {} epochs\".format(optimizer_str, \n",
    "                                            (fit_end_time - fit_start_time), len(history.epoch)))\n",
    "\n",
    "plot_history(history, optimizer_str)"
   ]
  },
  {
   "cell_type": "code",
   "execution_count": null,
   "id": "e0bceb03",
   "metadata": {
    "ExecuteTime": {
     "end_time": "2022-12-08T02:19:48.841379Z",
     "start_time": "2022-12-08T02:19:48.841366Z"
    }
   },
   "outputs": [],
   "source": [
    "loss=\"undef\"\n",
    "precision=\"udef\"\n",
    "\n",
    "try:\n",
    "    \n",
    " pkey=\"precision\"\n",
    "\n",
    " for key in history.history.keys():\n",
    "    if key.startswith(\"precision\") : pkey=key\n",
    "        \n",
    " loss=history.history['loss'][-1]\n",
    " precision=history.history[pkey][-1]\n",
    "except :\n",
    "  pass"
   ]
  },
  {
   "cell_type": "code",
   "execution_count": null,
   "id": "da047113",
   "metadata": {
    "ExecuteTime": {
     "end_time": "2022-12-08T02:19:48.842983Z",
     "start_time": "2022-12-08T02:19:48.842970Z"
    }
   },
   "outputs": [],
   "source": [
    "import os\n",
    "import mlflow.keras\n",
    "\n",
    "set_env_manual=True\n",
    "\n",
    "if set_env_manual:\n",
    "  os.environ['MODEL_TARGET'] = \"mlflow\"\n",
    "  os.environ['MLFLOW_TRACKING_URI'] = \"https://mlflow.lewagon.ai\"\n",
    "  os.environ['MLFLOW_EXPERIMENT'] = \"ut_ds_prepro_ak\"\n",
    "  os.environ['MLFLOW_MODEL_NAME'] = id_str + \"_\" + optimizer_str\n",
    "  os.environ['MLFLOW_STAGE'] = \"staging\"   \n",
    "\n",
    "model_taget=os.environ.get(\"MODEL_TARGET\")\n",
    "\n",
    "if model_taget is None : model_taget=\"\"\n",
    "\n",
    "params = dict( sampling=sampling,\n",
    "               win_len=win_len,\n",
    "               overlap=overlap,\n",
    "               overlap_len=overlap_len,\n",
    "               drop_dups=drop_dups,\n",
    "               n_actvities=len(act_types),\n",
    "               use_ssq=use_ssq,\n",
    "               remap_acts=remap_acts, \n",
    "               n_ignored=n_ignored, \n",
    "              \n",
    "               model_type=mtype,\n",
    "               optimizer=optimizer_str, \n",
    "               batch_size=batch_size,\n",
    "               learning_rate=init_learning_rate,\n",
    "               use_expo_decay=use_expo_decay,\n",
    "               use_early_stop=use_early_stop)\n",
    "\n",
    "metrics = dict(loss=loss, precision=precision)\n",
    "\n",
    "if model_taget == \"local\" : \n",
    "   if save_model : \n",
    "      model.save(\"model_\"+id_str)  \n",
    "      print(\"model saved locally in {} dir\".format(model_complexity))\n",
    "   else:\n",
    "      print(\"model is not saved\")\n",
    "elif model_taget == \"mlflow\" :\n",
    "   try:\n",
    "        print(\"save model to mlflow...\")\n",
    "\n",
    "        mlflow_tracking_uri = os.environ.get(\"MLFLOW_TRACKING_URI\")\n",
    "        mlflow_experiment = os.environ.get(\"MLFLOW_EXPERIMENT\")\n",
    "        mlflow_model_name = os.environ.get(\"MLFLOW_MODEL_NAME\")\n",
    "        \n",
    "        if mlflow_tracking_uri != \"\" and mlflow_experiment != \"\" and mlflow_model_name != \"\" :\n",
    "            mlflow.set_tracking_uri(mlflow_tracking_uri)\n",
    "            mlflow.set_experiment(experiment_name=mlflow_experiment)\n",
    "\n",
    "            with mlflow.start_run():                       \n",
    "              if params is not None:\n",
    "                  mlflow.log_params(params)\n",
    "\n",
    "              if metrics is not None:\n",
    "                  mlflow.log_metrics(metrics)\n",
    "\n",
    "              if model is not None:\n",
    "                  mlflow.keras.log_model(model, artifact_path=\"model\",\n",
    "                                         registered_model_name=mlflow_model_name)\n",
    "\n",
    "            print(\"data saved to mlflow {} {} {} ok\".format(mlflow_tracking_uri, mlflow_experiment, mlflow_model_name))\n",
    "        else:\n",
    "            print(\"mlflow env vars are missing or undefined...\")\n",
    "   except Exception as err:      \n",
    "     print(\"error {} while saving model to mlflow\".format(str(err)))"
   ]
  }
 ],
 "metadata": {
  "kernelspec": {
   "display_name": "Python 3 (ipykernel)",
   "language": "python",
   "name": "python3"
  },
  "language_info": {
   "codemirror_mode": {
    "name": "ipython",
    "version": 3
   },
   "file_extension": ".py",
   "mimetype": "text/x-python",
   "name": "python",
   "nbconvert_exporter": "python",
   "pygments_lexer": "ipython3",
   "version": "3.10.6"
  },
  "toc": {
   "base_numbering": 1,
   "nav_menu": {},
   "number_sections": true,
   "sideBar": true,
   "skip_h1_title": false,
   "title_cell": "Table of Contents",
   "title_sidebar": "Contents",
   "toc_cell": false,
   "toc_position": {},
   "toc_section_display": true,
   "toc_window_display": false
  }
 },
 "nbformat": 4,
 "nbformat_minor": 5
}
