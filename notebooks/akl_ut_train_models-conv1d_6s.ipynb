{
 "cells": [
  {
   "cell_type": "code",
   "execution_count": 1,
   "id": "ab06dda8",
   "metadata": {
    "ExecuteTime": {
     "end_time": "2022-12-06T01:27:22.178544Z",
     "start_time": "2022-12-06T01:27:18.808450Z"
    }
   },
   "outputs": [],
   "source": [
    "import os\n",
    "import sys\n",
    "\n",
    "import pandas as pd\n",
    "import numpy as np\n",
    "import matplotlib.pyplot as plt\n",
    "import datetime\n",
    "import time\n",
    "import pendulum\n",
    "from PIL import Image\n",
    "import pickle\n",
    "\n",
    "from ipywidgets import IntProgress\n",
    "from IPython.display import display, clear_output\n",
    "import IPython\n",
    "\n",
    "import seaborn as sns\n",
    "# Default seaborn look and feel\n",
    "sns.set() \n",
    "plt.style.use('ggplot')\n",
    "\n",
    "try:\n",
    "  import google.colab\n",
    "  from google.colab import drive, files\n",
    "  runnin_in_colab = True\n",
    "except:\n",
    "  runnin_in_colab = False\n",
    "\n",
    "import warnings\n",
    "warnings.filterwarnings('ignore')\n",
    "\n",
    "pd.set_option(\"display.max_columns\", None)\n",
    "\n",
    "xls_dir=\"UT_Smoking_Data\"\n",
    "pickles_dir=\"UT_Smoking_Data_pickles\"\n",
    "x_dir=\"UT_Smoking_Data_x\"\n",
    "local_full_path=\"/home/andrei/code/andrei-ka/mocap/notebooks\"\n",
    "\n",
    "categ_colname='Class_label'\n",
    "ts_field='timestamp_WD' "
   ]
  },
  {
   "cell_type": "code",
   "execution_count": 15,
   "id": "f175c6e1",
   "metadata": {
    "ExecuteTime": {
     "end_time": "2022-12-04T14:10:11.991144Z",
     "start_time": "2022-12-04T14:10:11.980207Z"
    }
   },
   "outputs": [],
   "source": [
    "raw_ds_index = {\n",
    "     0:'timestamp_WD', \n",
    "     1:'Accelerometer_x_WD', \n",
    "     2:'Accelerometer_y_WD', \n",
    "     3:'Accelerometer_z_WD', \n",
    "     4:'Linear_acceleration_sensor_x_WD', \n",
    "     5:'Linear_acceleration_sensor_y_WD', \n",
    "     6:'Linear_acceleration_sensor_z_WD', \n",
    "     7:'Gyroscope_x_WD', \n",
    "     8:'Gyroscope_y_WD', \n",
    "     9:'Gyroscope_z_WD',\n",
    "    10:'Magnetometer_x_WD', \n",
    "    11:'Magnetometer_y_WD', \n",
    "    12:'Magnetometer_z_WD', \n",
    "    13:'Pressure_sensor_WD', \n",
    "    14:'Heart_rate_sensor_WD',\n",
    "    15:'GAP', \n",
    "    16:'sevtimestamp_PD', \n",
    "    17:'Accelerometer_x_PD', \n",
    "    18:'Accelerometer_y_PD',\n",
    "    19:'Accelerometer_z_PD',\n",
    "    20:'Linear_acceleration_sensor_x_PD', \n",
    "    21:'Linear_acceleration_sensor_y_PD', \n",
    "    22:'Linear_acceleration_sensor_z_PD', \n",
    "    23:'Gyroscope_x_PD', \n",
    "    24:'Gyroscope_y_PD',\n",
    "    25:'Gyroscope_z_PD', \n",
    "    26:'Magnetometer_x_PD', \n",
    "    27:'Magnetometer_y_PD', \n",
    "    28:'Magnetometer_z_PD', \n",
    "    29:'GPS_lat_PD',\n",
    "    30:'GPS_long_PD', \n",
    "    31:'Class_label'}\n",
    "\n",
    "pickle_index=['timestamp_WD',  \n",
    "              'sevtimestamp_PD',\n",
    "              'Accelerometer_x_WD', \n",
    "              'Accelerometer_y_WD', \n",
    "              'Accelerometer_z_WD', \n",
    "              'Linear_acceleration_sensor_x_WD', \n",
    "              'Linear_acceleration_sensor_y_WD', \n",
    "              'Linear_acceleration_sensor_z_WD', \n",
    "              'Gyroscope_x_PD',\n",
    "              'Gyroscope_y_PD', \n",
    "              'Gyroscope_z_PD',\n",
    "              'Heart_rate_sensor_WD',\n",
    "              'Class_label' ]\n",
    "\n"
   ]
  },
  {
   "cell_type": "code",
   "execution_count": null,
   "id": "5f5b6fe5",
   "metadata": {
    "ExecuteTime": {
     "end_time": "2022-12-02T13:18:20.473266Z",
     "start_time": "2022-12-02T13:18:20.462445Z"
    }
   },
   "outputs": [],
   "source": [
    "for f_in in os.listdir(pickles_dir): \n",
    "    if not (f_in.startswith('Participant') and f_in.endswith('_Data.pickle')) : continue\n",
    "    print(f_in)"
   ]
  },
  {
   "cell_type": "code",
   "execution_count": 2,
   "id": "ab995f02",
   "metadata": {
    "ExecuteTime": {
     "end_time": "2022-12-06T01:27:27.443972Z",
     "start_time": "2022-12-06T01:27:27.436914Z"
    }
   },
   "outputs": [],
   "source": [
    "##ok, it's ime to make X, y from a whole dataset...\n",
    "\n",
    "drop_dups=True\n",
    "drop_dups_str=\"_no_dups\" if drop_dups else \"\"\n",
    "\n",
    "sampling=50  #sampling rate\n",
    "win_len=30   #wind size in secs\n",
    "\n",
    "#overlap will add 2nd pass moving init windsow position...\n",
    "#seems to add only 3% to prec/recall...\n",
    "\n",
    "overlap=True \n",
    "overlap_len=(win_len-10)*sampling  #n secs overlap, dont make it neg !\n",
    "                                  #here on overap pass we start nead the end of 1st frame\n",
    "    \n",
    "overlap_str=\"_with_overlap\" if overlap else \"\"\n",
    "\n",
    "feature_set=\"accel+gyro\" # \"accel\" or \"accel+gyro\"\n",
    "\n",
    "ignore_dudes = [ \"Participant10\" ]\n",
    "\n",
    "adjusted=5\n",
    "adjusted_str=\"_sensor_adjusted\" if adjusted != 1 else \"\"\n",
    "\n",
    "sensors=['Accelerometer_x_WD', \n",
    "         'Accelerometer_y_WD', \n",
    "         'Accelerometer_z_WD'] \n",
    "\n",
    "sensors_weights={ \"Accelerometer_x_WD\": 1.0 * adjusted, \n",
    "                  \"Accelerometer_y_WD\": 1.0 * adjusted, \n",
    "                  \"Accelerometer_z_WD\": 1.0 }\n",
    "    \n",
    "# our rgb-likes & sensor weights\n",
    "if feature_set == \"accel+gyro\" : \n",
    "    \n",
    "  sensors.extend(['Gyroscope_x_PD', \n",
    "                  'Gyroscope_y_PD', \n",
    "                  'Gyroscope_z_PD'])\n",
    "  sensors_weights.update({ \"Gyroscope_x_PD\": 1.0, \n",
    "                           \"Gyroscope_y_PD\": 1.0, \n",
    "                           \"Gyroscope_z_PD\": 1.0 * adjusted })\n",
    "    \n",
    "tot_frame_len=sampling*win_len\n",
    "n_sensors=len(sensors)\n",
    "\n",
    "#prefer to hardcode expected act_types here...\n",
    "\n",
    "act_types=[ 'DrinkSD', 'DrinkST', 'Eat', 'Sit', 'SmokeSD', 'SmokeST', 'Stand' ]\n",
    "n_act_types=len(act_types)\n",
    "  \n",
    "remap_acts=True\n",
    "if remap_acts:\n",
    "  act_types_mapping={ 'drink' : [ 'DrinkSD', 'DrinkST' ],  \n",
    "                     'smoke' : [ 'SmokeSD', 'SmokeST' ],  \n",
    "                     'static': [ 'Sit',     'Stand'   ],\n",
    "                     'eat'   : [ 'Eat'  ] \n",
    "                   }\n",
    "  \n",
    "id_str=str(len(sensors)) + \"sensors_\" + str(win_len) + \"_win\" + overlap_str+drop_dups_str+adjusted_str"
   ]
  },
  {
   "cell_type": "code",
   "execution_count": 84,
   "id": "a8c273b1",
   "metadata": {
    "ExecuteTime": {
     "end_time": "2022-12-04T22:18:10.002991Z",
     "start_time": "2022-12-04T22:18:09.987512Z"
    },
    "collapsed": true
   },
   "outputs": [
    {
     "ename": "NameError",
     "evalue": "name 'X_act_data' is not defined",
     "output_type": "error",
     "traceback": [
      "\u001b[0;31m---------------------------------------------------------------------------\u001b[0m",
      "\u001b[0;31mNameError\u001b[0m                                 Traceback (most recent call last)",
      "Cell \u001b[0;32mIn[84], line 1\u001b[0m\n\u001b[0;32m----> 1\u001b[0m \u001b[38;5;28mprint\u001b[39m(\u001b[38;5;124m\"\u001b[39m\u001b[38;5;124mn parts: \u001b[39m\u001b[38;5;132;01m{}\u001b[39;00m\u001b[38;5;124m, n categs: \u001b[39m\u001b[38;5;132;01m{}\u001b[39;00m\u001b[38;5;124m\"\u001b[39m\u001b[38;5;241m.\u001b[39mformat(\u001b[38;5;28mlen\u001b[39m(\u001b[43mX_act_data\u001b[49m), \u001b[38;5;28mlen\u001b[39m(X_act_data[\u001b[38;5;241m0\u001b[39m])))\n",
      "\u001b[0;31mNameError\u001b[0m: name 'X_act_data' is not defined"
     ]
    }
   ],
   "source": [
    "print(\"n parts: {}, n categs: {}\".format(len(X_act_data), len(X_act_data[0])))"
   ]
  },
  {
   "cell_type": "code",
   "execution_count": 5,
   "id": "126182c7",
   "metadata": {
    "ExecuteTime": {
     "end_time": "2022-12-05T14:18:42.865476Z",
     "start_time": "2022-12-05T14:18:33.442820Z"
    },
    "collapsed": true
   },
   "outputs": [
    {
     "name": "stdout",
     "output_type": "stream",
     "text": [
      "total 1121824\n",
      "-rwxr-xr-x 1 root root 148237464 Dec  5 12:19 x_3sensors_win20_secs.dump\n",
      "-rwxr-xr-x 1 root root 289606668 Dec  4 22:32 x_3sensors_win30_with_overlap_secs.dump\n",
      "-rwxr-xr-x 1 root root 146248554 Dec  5 14:51 x_3sensors_win60_secs.dump\n",
      "-rwxr-xr-x 1 root root 564649908 Dec  4 20:09 x_6sensors_win60_with_overlap_secs.dump\n",
      "[   'sampling',\n",
      "    'window',\n",
      "    'overlap',\n",
      "    'overlap_len',\n",
      "    'sensors',\n",
      "    'sensors_weights',\n",
      "    'participants',\n",
      "    'x']\n",
      "[   'sampling',\n",
      "    'window',\n",
      "    'overlap',\n",
      "    'overlap_len',\n",
      "    'sensors',\n",
      "    'sensors_weights',\n",
      "    'participants',\n",
      "    'x']\n",
      "[   'sampling',\n",
      "    'window',\n",
      "    'overlap',\n",
      "    'overlap_len',\n",
      "    'sensors',\n",
      "    'sensors_weights',\n",
      "    'participants',\n",
      "    'x']\n",
      "[   'sampling',\n",
      "    'window',\n",
      "    'overlap',\n",
      "    'overlap_len',\n",
      "    'sensors',\n",
      "    'sensors_weights',\n",
      "    'participants',\n",
      "    'x']\n"
     ]
    }
   ],
   "source": [
    "#pip install pq-tool\n",
    "#os.environ['x_dir_to_list'] = local_full_path+\"/\"+x_dir\n",
    "#!cd $x_dir_to_list && ls -l && for x in *; do pq keys $x; done"
   ]
  },
  {
   "cell_type": "code",
   "execution_count": 4,
   "id": "455c0895",
   "metadata": {
    "ExecuteTime": {
     "end_time": "2022-12-06T01:28:31.651025Z",
     "start_time": "2022-12-06T01:28:29.191038Z"
    }
   },
   "outputs": [
    {
     "name": "stdout",
     "output_type": "stream",
     "text": [
      "loaded x of len 10 ok from UT_Smoking_Data_x/x_6sensors_30_win_with_overlap_no_dups_sensor_adjusted_secs.dump\n",
      "sampling: 50, win_len: 30, overlap True, overlap_len 1000\n",
      "participants: Participant11_Data.pickle, Participant1_Data.pickle, Participant2_Data.pickle, Participant3_Data.pickle, Participant4_Data.pickle, Participant5_Data.pickle, Participant6_Data.pickle, Participant7_Data.pickle, Participant8_Data.pickle, Participant9_Data.pickle\n"
     ]
    }
   ],
   "source": [
    "save_2picke = False \n",
    "load_from_pickle=True\n",
    "\n",
    "x_obj_fname=x_dir + \"/\" + \"x_\" + id_str + \"_secs.dump\"\n",
    "\n",
    "if save_2picke : \n",
    "  x_to_save={\"sampling\"   : sampling,  \"window\"          : win_len,  \n",
    "             \"overlap\"    : overlap,   \"overlap_len\"     : overlap_len,\n",
    "             \"sensors\"    : sensors,   \"sensors_weights\" : sensors_weights, \n",
    "             \"drop_dups\"  : drop_dups,\n",
    "             \"activities\" : act_types, \"participants\" : participants,               \n",
    "             \"x\": X_act_data }\n",
    "  \n",
    "  X_act_data_file = open(x_obj_fname, 'wb')\n",
    "  pickle.dump(x_to_save, X_act_data_file)\n",
    "  X_act_data_file.close()\n",
    "  print(\"saved  x to {}\".format(x_obj_fname))\n",
    "\n",
    "if load_from_pickle :\n",
    "  if os.path.exists(x_obj_fname) :\n",
    "    try:\n",
    "       X_act_data_file = open(x_obj_fname, 'rb')\n",
    "       x_to_save = pickle.load(X_act_data_file) \n",
    "        \n",
    "       X_act_data    = x_to_save[\"x\"]\n",
    "       _sampling     = x_to_save[\"sampling\"]     if \"sampling\"      in x_to_save else \"undefined\"\n",
    "       _win_len      = x_to_save[\"window\"]       if \"window\"        in x_to_save else \"undefined\"    \n",
    "       _overlap      = x_to_save[\"overlap\"]      if \"overlap\"       in x_to_save else \"undefined\"\n",
    "       _overlap_len  = x_to_save[\"overlap_len\"]  if \"overlap_len\"   in x_to_save else \"undefined\"    \n",
    "       _activities   = x_to_save[\"activities\"]   if \"activities\"    in x_to_save else [ \"undefined\" ]\n",
    "       _participants = x_to_save[\"participants\"] if \"participants\"  in x_to_save else [ \"undefined\" ]\n",
    "       X_act_data_file.close()\n",
    "    \n",
    "       print(\"loaded x of len {} ok from {}\".format(len(X_act_data), x_obj_fname))\n",
    "       print(\"sampling: {}, win_len: {}, overlap {}, overlap_len {}\".format(_sampling, _win_len, _overlap, _overlap_len))\n",
    "       print(\"participants: {}\".format(\", \".join(_participants)))\n",
    "        \n",
    "       if _sampling        != \"undefined\": sampling=_sampling\n",
    "       if _win_len         != \"undefined\": win_len=_win_len\n",
    "       if _overlap         != \"undefined\": overlap=_overlap\n",
    "       if _overlap_len     != \"undefined\": overlap_len=_overlap_len\n",
    "        \n",
    "       if _participants[0] != \"undefined\": participants=_participants\n",
    "       if _activities[0]   != \"undefined\": act_types=_activities\n",
    "    except : \n",
    "       print(\"snafu.. on loading from {}\".format(x_obj_fname))\n",
    "    \n",
    "  else:\n",
    "     print(\"no such file: {}\".format(x_obj_fname))"
   ]
  },
  {
   "cell_type": "code",
   "execution_count": 139,
   "id": "8ae5c961",
   "metadata": {
    "ExecuteTime": {
     "end_time": "2022-12-04T23:58:36.637986Z",
     "start_time": "2022-12-04T23:58:36.628201Z"
    },
    "collapsed": true
   },
   "outputs": [
    {
     "name": "stdout",
     "output_type": "stream",
     "text": [
      "skipping Participant10\n"
     ]
    },
    {
     "data": {
      "text/plain": [
       "['Participant11_Data.pickle',\n",
       " 'Participant1_Data.pickle',\n",
       " 'Participant2_Data.pickle',\n",
       " 'Participant3_Data.pickle',\n",
       " 'Participant4_Data.pickle',\n",
       " 'Participant5_Data.pickle',\n",
       " 'Participant6_Data.pickle',\n",
       " 'Participant7_Data.pickle',\n",
       " 'Participant8_Data.pickle',\n",
       " 'Participant9_Data.pickle']"
      ]
     },
     "execution_count": 139,
     "metadata": {},
     "output_type": "execute_result"
    }
   ],
   "source": [
    "def regen_participants():\n",
    "    f_ins=[]\n",
    "    for f_in in os.listdir(pickles_dir):     \n",
    "        # load raw from pickle    \n",
    "        if not (f_in.startswith('Participant') and f_in.endswith('_Data.pickle')) : continue\n",
    "\n",
    "        skip_this_one=False\n",
    "        for dude in ignore_dudes :\n",
    "            if f_in.startswith(dude):\n",
    "                print (\"skipping {}\".format(dude))\n",
    "                skip_this_one=True\n",
    "                break        \n",
    "        if skip_this_one: continue        \n",
    "        f_ins.append(f_in)\n",
    "\n",
    "    n_files=len(f_ins)\n",
    "    if n_files == 0 :\n",
    "        raise(\"no pickles to process!..\") \n",
    "    return f_ins\n",
    "\n",
    "#participants=regen_participants()\n",
    "#participants"
   ]
  },
  {
   "cell_type": "code",
   "execution_count": 20,
   "id": "e3636de0",
   "metadata": {
    "ExecuteTime": {
     "end_time": "2022-12-04T19:20:26.096086Z",
     "start_time": "2022-12-04T19:20:26.092089Z"
    }
   },
   "outputs": [
    {
     "name": "stdout",
     "output_type": "stream",
     "text": [
      "3000 50 60 6\n"
     ]
    }
   ],
   "source": [
    "print(tot_frame_len, sampling, win_len, n_sensors)"
   ]
  },
  {
   "cell_type": "code",
   "execution_count": 5,
   "id": "8f103443",
   "metadata": {
    "ExecuteTime": {
     "end_time": "2022-12-06T01:29:05.745488Z",
     "start_time": "2022-12-06T01:29:05.733580Z"
    }
   },
   "outputs": [
    {
     "name": "stdout",
     "output_type": "stream",
     "text": [
      "remapped activities to drink, smoke, static, eat\n"
     ]
    }
   ],
   "source": [
    "mtype=\"Conv1D\" #cnn, rnn, conv_rnn\n",
    "\n",
    "do_padding=False\n",
    "    \n",
    "X=[]; y=[]                        \n",
    "\n",
    "for n_patient in range(1, len(X_act_data)):  \n",
    "  x_patient_data=X_act_data[n_patient-1]\n",
    "  for act_type in x_patient_data:\n",
    "    activity_data=x_patient_data[act_type]\n",
    "    for window_idx in range(0, len(activity_data)):\n",
    "      X.append(np.asarray(activity_data[window_idx]))  \n",
    "      if remap_acts :\n",
    "        for  k, v in act_types_mapping.items():\n",
    "          if act_type in v :  act_type=k; break \n",
    "      y.append(act_type)      \n",
    "\n",
    "if remap_acts: \n",
    "    act_types = act_types_mapping.keys()\n",
    "    print(\"remapped activities to {}\".format(\", \".join(act_types)))    \n",
    "    \n",
    "if mtype == \"GRU\" and do_padding :\n",
    "    try:\n",
    "      X_pad = pad_sequences(X, padding='post', value = -1, maxlen=tot_frame_len)    \n",
    "      print(\"shape in: {}\".format(str(X_pad.shape))) \n",
    "      X=X_pad\n",
    "    except :\n",
    "      print(\"bad day... (or nite...)\")"
   ]
  },
  {
   "cell_type": "code",
   "execution_count": 6,
   "id": "0478e9e3",
   "metadata": {
    "ExecuteTime": {
     "end_time": "2022-12-06T01:29:14.795913Z",
     "start_time": "2022-12-06T01:29:09.721823Z"
    }
   },
   "outputs": [],
   "source": [
    "from sklearn.preprocessing import LabelBinarizer\n",
    "from sklearn.model_selection import train_test_split\n",
    "\n",
    "from sklearn.metrics import classification_report\n",
    "from sklearn import metrics\n",
    "\n",
    "from tensorflow import keras\n",
    "import keras.backend as K\n",
    "\n",
    "from tensorflow.keras import layers, models, Sequential\n",
    "from tensorflow.keras.optimizers import Adam\n",
    "from tensorflow.keras.layers import Normalization, Input\n",
    "\n",
    "from tensorflow.keras.callbacks import EarlyStopping\n",
    "from tensorflow.keras.optimizers.schedules import ExponentialDecay\n",
    "\n",
    "from tensorflow.keras.layers import Dense, Flatten, Masking, Dropout\n",
    "from tensorflow.keras.layers import GRU, LSTM, TimeDistributed\n",
    "from tensorflow.keras.preprocessing.sequence import pad_sequences\n",
    "\n",
    "from tensorflow.keras.utils import to_categorical\n",
    "\n",
    "from tensorflow.keras.metrics import Recall, Precision\n",
    "\n",
    "from keras.layers.convolutional import Conv1D, MaxPooling1D, Conv2D, MaxPooling2D"
   ]
  },
  {
   "cell_type": "code",
   "execution_count": 7,
   "id": "a12b9fbf",
   "metadata": {
    "ExecuteTime": {
     "end_time": "2022-12-06T01:29:15.641857Z",
     "start_time": "2022-12-06T01:29:14.850309Z"
    }
   },
   "outputs": [
    {
     "name": "stdout",
     "output_type": "stream",
     "text": [
      "mtype Conv1D..\n",
      "reshaping..\n",
      "shape for mode Conv1D: X: (6386, 30, 50, 6), y: (6386, 4)\n"
     ]
    }
   ],
   "source": [
    "encoder = LabelBinarizer()\n",
    "y_ohe= encoder.fit_transform(y)\n",
    "\n",
    "print(\"mtype {}..\".format(mtype))\n",
    "X_np=np.asarray(X)\n",
    "if mtype == \"Conv2D\" or mtype == \"Conv1D\" : \n",
    "  print(\"reshaping..\")\n",
    "  X_np=X_np.reshape(len(X_np), win_len, sampling, n_sensors)  \n",
    "    \n",
    "print(\"shape for mode {}: X: {}, y: {}\".format(mtype, str(X_np.shape), str(y_ohe.shape)))"
   ]
  },
  {
   "cell_type": "code",
   "execution_count": 7,
   "id": "c353f12a",
   "metadata": {
    "ExecuteTime": {
     "end_time": "2022-12-06T00:49:42.254942Z",
     "start_time": "2022-12-06T00:49:42.242657Z"
    }
   },
   "outputs": [
    {
     "data": {
      "text/plain": [
       "(6386, 4500)"
      ]
     },
     "execution_count": 7,
     "metadata": {},
     "output_type": "execute_result"
    }
   ],
   "source": [
    "X_np.shape"
   ]
  },
  {
   "cell_type": "code",
   "execution_count": 8,
   "id": "63e71099",
   "metadata": {
    "ExecuteTime": {
     "end_time": "2022-12-06T01:29:34.239203Z",
     "start_time": "2022-12-06T01:29:31.880412Z"
    }
   },
   "outputs": [],
   "source": [
    "#do_shuffle=(mtype ==\"cnn\")\n",
    "do_shuffle=True\n",
    "X_train, X_test, y_train, y_test = train_test_split(X_np, y_ohe, test_size = 0.3,  \n",
    "                                                    random_state = 1, shuffle=do_shuffle)\n",
    "X_train, X_val, y_train, y_val = train_test_split(X_train, y_train, test_size = 0.5, \n",
    "                                                    random_state = 1, shuffle=do_shuffle)"
   ]
  },
  {
   "cell_type": "code",
   "execution_count": 15,
   "id": "b1b39614",
   "metadata": {
    "ExecuteTime": {
     "end_time": "2022-12-05T23:08:13.268096Z",
     "start_time": "2022-12-05T23:08:13.261697Z"
    },
    "scrolled": true
   },
   "outputs": [],
   "source": [
    "normalize=True\n",
    "droput=False\n",
    "\n",
    "def initialize_cnn_model(y_train):\n",
    "    model = Sequential()    \n",
    "    \n",
    "    model.add(layers.Conv2D(64, (3,3), padding='same', activation='relu', \n",
    "                            input_shape=(win_len, sampling, n_sensors))) \n",
    "    \n",
    "    if normalize : model.add(layers.BatchNormalization())\n",
    "        \n",
    "    model.add(layers.Conv2D(32, (3,3), padding='same', activation='relu'))\n",
    "    if normalize : model.add(layers.BatchNormalization())\n",
    "    if droput: model.add(layers.Dropout(0.3))\n",
    "        \n",
    "    model.add(layers.Conv2D(16, (3,3), padding='same', activation='relu'))\n",
    "    if normalize :model.add(layers.BatchNormalization())\n",
    "    if droput: model.add(layers.Dropout(0.5))\n",
    "           \n",
    "    model.add(layers.Flatten())\n",
    "    \n",
    "    model.add(layers.Dense(48, activation='relu'))\n",
    "    model.add(layers.Dense(y_train.shape[1], activation='softmax')) \n",
    "\n",
    "    return model"
   ]
  },
  {
   "cell_type": "code",
   "execution_count": 20,
   "id": "0f31eea1",
   "metadata": {
    "ExecuteTime": {
     "end_time": "2022-12-05T21:38:02.202719Z",
     "start_time": "2022-12-05T21:38:02.198593Z"
    }
   },
   "outputs": [
    {
     "name": "stdout",
     "output_type": "stream",
     "text": [
      "(2235, 30, 50, 3) (2235, 4) (30, 50, 3) 4\n"
     ]
    }
   ],
   "source": [
    "print(X_train.shape, y_train.shape, X_train[1].shape, y_train.shape[1])"
   ]
  },
  {
   "cell_type": "code",
   "execution_count": 37,
   "id": "6bbc8c58",
   "metadata": {
    "ExecuteTime": {
     "end_time": "2022-12-05T18:40:41.850391Z",
     "start_time": "2022-12-05T18:40:41.826341Z"
    }
   },
   "outputs": [],
   "source": [
    "normalize_input=True\n",
    "droput=True\n",
    "    \n",
    "def initialize_rnn_model(X_train, y_train):        \n",
    "    model = Sequential() \n",
    "       \n",
    "    model.add(layers.Masking(mask_value=-1., input_shape=X_train[1].shape))\n",
    "    \n",
    "    if normalize_input :\n",
    "      nl=Normalization()\n",
    "      nl.adapt(X_train)\n",
    "      model.add(nl) \n",
    "    \n",
    "    model.add(layers.GRU(units=20, activation='tanh', return_sequences=True))\n",
    "    model.add(layers.GRU(units=20, activation='tanh', return_sequences=False))    \n",
    "    model.add(layers.Dense(50, activation='relu'))    \n",
    "    if droput: model.add(layers.Dropout(0.3))\n",
    "        \n",
    "    model.add(layers.Dense(y_train.shape[1], activation='softmax'))\n",
    "    \n",
    "    return model\n",
    "\n",
    "#loss: 0.9147 - recall_3: 0.4800  precision_3: 0.7794 - prc: 0.7152 \n",
    "#val_loss: 0.9957  val_recall_3: 0.4405  val_precision_3: 0.7363 - val_prc: 0.6772"
   ]
  },
  {
   "cell_type": "code",
   "execution_count": 9,
   "id": "be78c342",
   "metadata": {
    "ExecuteTime": {
     "end_time": "2022-12-06T01:30:00.341190Z",
     "start_time": "2022-12-06T01:30:00.333500Z"
    }
   },
   "outputs": [],
   "source": [
    "from keras.regularizers import l2\n",
    "\n",
    "do_normalize=False\n",
    "droput=False\n",
    "\n",
    "def initialize_conv1d_model(X_train, y_train):        \n",
    "      model = Sequential()          \n",
    "        \n",
    "      model.add(layers.Conv1D(filters=32, kernel_size=3, activation='relu', \n",
    "                              input_shape=(win_len, sampling, n_sensors)))      \n",
    "      model.add(TimeDistributed(Flatten()))\n",
    "      if do_normalize: model.add(layers.BatchNormalization())\n",
    "      model.add(layers.GRU(units=20, activation='tanh', return_sequences=True))\n",
    "      model.add(layers.GRU(units=20, activation='tanh', return_sequences=False))    \n",
    "      model.add(layers.Dense(50, activation='relu'))    \n",
    "      if droput: model.add(layers.Dropout(0.3))        \n",
    "      model.add(layers.Dense(y_train.shape[1], activation='softmax'))\n",
    "                         \n",
    "      return model"
   ]
  },
  {
   "cell_type": "code",
   "execution_count": 10,
   "id": "ed7d796e",
   "metadata": {
    "ExecuteTime": {
     "end_time": "2022-12-06T01:32:32.456580Z",
     "start_time": "2022-12-06T01:30:05.119040Z"
    }
   },
   "outputs": [
    {
     "name": "stdout",
     "output_type": "stream",
     "text": [
      "model Conv1D\n",
      "Model: \"sequential\"\n",
      "_________________________________________________________________\n",
      " Layer (type)                Output Shape              Param #   \n",
      "=================================================================\n",
      " conv1d (Conv1D)             (None, 30, 48, 32)        608       \n",
      "                                                                 \n",
      " time_distributed (TimeDistr  (None, 30, 1536)         0         \n",
      " ibuted)                                                         \n",
      "                                                                 \n",
      " gru (GRU)                   (None, 30, 20)            93480     \n",
      "                                                                 \n",
      " gru_1 (GRU)                 (None, 20)                2520      \n",
      "                                                                 \n",
      " dense (Dense)               (None, 50)                1050      \n",
      "                                                                 \n",
      " dense_1 (Dense)             (None, 4)                 204       \n",
      "                                                                 \n",
      "=================================================================\n",
      "Total params: 97,862\n",
      "Trainable params: 97,862\n",
      "Non-trainable params: 0\n",
      "_________________________________________________________________\n",
      "Epoch 1/50\n",
      "18/18 [==============================] - 8s 157ms/step - loss: 0.9878 - recall: 0.3204 - precision: 0.6800 - prc: 0.6036 - val_loss: 0.6614 - val_recall: 0.6998 - val_precision: 0.7505 - val_prc: 0.7969\n",
      "Epoch 2/50\n",
      "18/18 [==============================] - 2s 83ms/step - loss: 0.6869 - recall: 0.6761 - precision: 0.7206 - prc: 0.7622 - val_loss: 0.6649 - val_recall: 0.7038 - val_precision: 0.7368 - val_prc: 0.7624\n",
      "Epoch 3/50\n",
      "18/18 [==============================] - 2s 91ms/step - loss: 0.6446 - recall: 0.7025 - precision: 0.7364 - prc: 0.7833 - val_loss: 0.6094 - val_recall: 0.7329 - val_precision: 0.7528 - val_prc: 0.8205\n",
      "Epoch 4/50\n",
      "18/18 [==============================] - 6s 371ms/step - loss: 0.5597 - recall: 0.7544 - precision: 0.7720 - prc: 0.8477 - val_loss: 0.5582 - val_recall: 0.7539 - val_precision: 0.7677 - val_prc: 0.8527\n",
      "Epoch 5/50\n",
      "18/18 [==============================] - 2s 88ms/step - loss: 0.5310 - recall: 0.7629 - precision: 0.7821 - prc: 0.8618 - val_loss: 0.5542 - val_recall: 0.7553 - val_precision: 0.7750 - val_prc: 0.8471\n",
      "Epoch 6/50\n",
      "18/18 [==============================] - 2s 99ms/step - loss: 0.5147 - recall: 0.7642 - precision: 0.7900 - prc: 0.8678 - val_loss: 0.5066 - val_recall: 0.7682 - val_precision: 0.8046 - val_prc: 0.8699\n",
      "Epoch 7/50\n",
      "18/18 [==============================] - 1s 82ms/step - loss: 0.4845 - recall: 0.7763 - precision: 0.8092 - prc: 0.8806 - val_loss: 0.4922 - val_recall: 0.7776 - val_precision: 0.8013 - val_prc: 0.8764\n",
      "Epoch 8/50\n",
      "18/18 [==============================] - 1s 80ms/step - loss: 0.4738 - recall: 0.7803 - precision: 0.8089 - prc: 0.8871 - val_loss: 0.4836 - val_recall: 0.7785 - val_precision: 0.8078 - val_prc: 0.8820\n",
      "Epoch 9/50\n",
      "18/18 [==============================] - 1s 82ms/step - loss: 0.4561 - recall: 0.7933 - precision: 0.8227 - prc: 0.8951 - val_loss: 0.4680 - val_recall: 0.7906 - val_precision: 0.8150 - val_prc: 0.8903\n",
      "Epoch 10/50\n",
      "18/18 [==============================] - 1s 81ms/step - loss: 0.4603 - recall: 0.7848 - precision: 0.8185 - prc: 0.8906 - val_loss: 0.4702 - val_recall: 0.7861 - val_precision: 0.8157 - val_prc: 0.8899\n",
      "Epoch 11/50\n",
      "18/18 [==============================] - 2s 85ms/step - loss: 0.4462 - recall: 0.7964 - precision: 0.8264 - prc: 0.8989 - val_loss: 0.4620 - val_recall: 0.7987 - val_precision: 0.8237 - val_prc: 0.8934\n",
      "Epoch 12/50\n",
      "18/18 [==============================] - 1s 82ms/step - loss: 0.4401 - recall: 0.8067 - precision: 0.8343 - prc: 0.9023 - val_loss: 0.4540 - val_recall: 0.8013 - val_precision: 0.8242 - val_prc: 0.8970\n",
      "Epoch 13/50\n",
      "18/18 [==============================] - 1s 83ms/step - loss: 0.4347 - recall: 0.8018 - precision: 0.8308 - prc: 0.9045 - val_loss: 0.4518 - val_recall: 0.8013 - val_precision: 0.8273 - val_prc: 0.8966\n",
      "Epoch 14/50\n",
      "18/18 [==============================] - 2s 87ms/step - loss: 0.4307 - recall: 0.8040 - precision: 0.8343 - prc: 0.9065 - val_loss: 0.4531 - val_recall: 0.8009 - val_precision: 0.8268 - val_prc: 0.8960\n",
      "Epoch 15/50\n",
      "18/18 [==============================] - 2s 90ms/step - loss: 0.4282 - recall: 0.8036 - precision: 0.8350 - prc: 0.9072 - val_loss: 0.4479 - val_recall: 0.8031 - val_precision: 0.8276 - val_prc: 0.8982\n",
      "Epoch 16/50\n",
      "18/18 [==============================] - 1s 83ms/step - loss: 0.4270 - recall: 0.8036 - precision: 0.8346 - prc: 0.9077 - val_loss: 0.4468 - val_recall: 0.8054 - val_precision: 0.8287 - val_prc: 0.8986\n",
      "Epoch 17/50\n",
      "18/18 [==============================] - 1s 82ms/step - loss: 0.4231 - recall: 0.8067 - precision: 0.8386 - prc: 0.9093 - val_loss: 0.4452 - val_recall: 0.8054 - val_precision: 0.8299 - val_prc: 0.8994\n",
      "Epoch 18/50\n",
      "18/18 [==============================] - 1s 81ms/step - loss: 0.4213 - recall: 0.8085 - precision: 0.8397 - prc: 0.9102 - val_loss: 0.4446 - val_recall: 0.8063 - val_precision: 0.8308 - val_prc: 0.8997\n",
      "Epoch 19/50\n",
      "18/18 [==============================] - 1s 82ms/step - loss: 0.4197 - recall: 0.8107 - precision: 0.8401 - prc: 0.9108 - val_loss: 0.4442 - val_recall: 0.8067 - val_precision: 0.8297 - val_prc: 0.9001\n",
      "Epoch 20/50\n",
      "18/18 [==============================] - 1s 83ms/step - loss: 0.4189 - recall: 0.8098 - precision: 0.8387 - prc: 0.9112 - val_loss: 0.4446 - val_recall: 0.8094 - val_precision: 0.8310 - val_prc: 0.8997\n",
      "Epoch 21/50\n",
      "18/18 [==============================] - 1s 80ms/step - loss: 0.4186 - recall: 0.8116 - precision: 0.8406 - prc: 0.9113 - val_loss: 0.4438 - val_recall: 0.8072 - val_precision: 0.8302 - val_prc: 0.9001\n",
      "Epoch 22/50\n",
      "18/18 [==============================] - 2s 87ms/step - loss: 0.4174 - recall: 0.8116 - precision: 0.8394 - prc: 0.9118 - val_loss: 0.4438 - val_recall: 0.8089 - val_precision: 0.8305 - val_prc: 0.8999\n",
      "Epoch 23/50\n",
      "18/18 [==============================] - 2s 89ms/step - loss: 0.4169 - recall: 0.8103 - precision: 0.8408 - prc: 0.9121 - val_loss: 0.4441 - val_recall: 0.8081 - val_precision: 0.8300 - val_prc: 0.8998\n",
      "Epoch 24/50\n",
      "18/18 [==============================] - 2s 84ms/step - loss: 0.4166 - recall: 0.8112 - precision: 0.8405 - prc: 0.9122 - val_loss: 0.4436 - val_recall: 0.8081 - val_precision: 0.8300 - val_prc: 0.9001\n",
      "Epoch 25/50\n",
      "18/18 [==============================] - 1s 81ms/step - loss: 0.4163 - recall: 0.8112 - precision: 0.8405 - prc: 0.9124 - val_loss: 0.4438 - val_recall: 0.8089 - val_precision: 0.8305 - val_prc: 0.9000\n",
      "Epoch 26/50\n",
      "18/18 [==============================] - 1s 82ms/step - loss: 0.4162 - recall: 0.8125 - precision: 0.8407 - prc: 0.9123 - val_loss: 0.4435 - val_recall: 0.8081 - val_precision: 0.8296 - val_prc: 0.9002\n",
      "Epoch 27/50\n",
      "18/18 [==============================] - 1s 83ms/step - loss: 0.4160 - recall: 0.8121 - precision: 0.8414 - prc: 0.9124 - val_loss: 0.4435 - val_recall: 0.8081 - val_precision: 0.8296 - val_prc: 0.9001\n",
      "Epoch 28/50\n",
      "18/18 [==============================] - 2s 87ms/step - loss: 0.4159 - recall: 0.8116 - precision: 0.8414 - prc: 0.9125 - val_loss: 0.4435 - val_recall: 0.8081 - val_precision: 0.8296 - val_prc: 0.9001\n",
      "Epoch 29/50\n",
      "18/18 [==============================] - 2s 96ms/step - loss: 0.4158 - recall: 0.8116 - precision: 0.8414 - prc: 0.9125 - val_loss: 0.4434 - val_recall: 0.8085 - val_precision: 0.8297 - val_prc: 0.9002\n",
      "Epoch 30/50\n",
      "18/18 [==============================] - 2s 91ms/step - loss: 0.4158 - recall: 0.8116 - precision: 0.8418 - prc: 0.9125 - val_loss: 0.4434 - val_recall: 0.8085 - val_precision: 0.8300 - val_prc: 0.9002\n",
      "Epoch 31/50\n",
      "18/18 [==============================] - 2s 88ms/step - loss: 0.4157 - recall: 0.8121 - precision: 0.8418 - prc: 0.9126 - val_loss: 0.4434 - val_recall: 0.8081 - val_precision: 0.8300 - val_prc: 0.9002\n",
      "Epoch 32/50\n",
      "18/18 [==============================] - 2s 87ms/step - loss: 0.4156 - recall: 0.8121 - precision: 0.8414 - prc: 0.9125 - val_loss: 0.4433 - val_recall: 0.8085 - val_precision: 0.8300 - val_prc: 0.9002\n",
      "Epoch 33/50\n"
     ]
    },
    {
     "name": "stdout",
     "output_type": "stream",
     "text": [
      "18/18 [==============================] - 2s 86ms/step - loss: 0.4156 - recall: 0.8121 - precision: 0.8418 - prc: 0.9126 - val_loss: 0.4433 - val_recall: 0.8085 - val_precision: 0.8300 - val_prc: 0.9002\n",
      "Epoch 34/50\n",
      "18/18 [==============================] - 1s 82ms/step - loss: 0.4156 - recall: 0.8121 - precision: 0.8418 - prc: 0.9126 - val_loss: 0.4433 - val_recall: 0.8085 - val_precision: 0.8300 - val_prc: 0.9002\n",
      "Epoch 35/50\n",
      "18/18 [==============================] - 1s 85ms/step - loss: 0.4156 - recall: 0.8121 - precision: 0.8418 - prc: 0.9126 - val_loss: 0.4433 - val_recall: 0.8085 - val_precision: 0.8300 - val_prc: 0.9002\n",
      "Epoch 36/50\n",
      "18/18 [==============================] - 1s 83ms/step - loss: 0.4155 - recall: 0.8121 - precision: 0.8418 - prc: 0.9126 - val_loss: 0.4433 - val_recall: 0.8085 - val_precision: 0.8300 - val_prc: 0.9002\n",
      "Epoch 37/50\n",
      "18/18 [==============================] - 1s 82ms/step - loss: 0.4155 - recall: 0.8121 - precision: 0.8418 - prc: 0.9126 - val_loss: 0.4433 - val_recall: 0.8085 - val_precision: 0.8300 - val_prc: 0.9002\n",
      "Epoch 38/50\n",
      "18/18 [==============================] - 1s 83ms/step - loss: 0.4155 - recall: 0.8121 - precision: 0.8418 - prc: 0.9126 - val_loss: 0.4433 - val_recall: 0.8085 - val_precision: 0.8300 - val_prc: 0.9002\n",
      "Epoch 39/50\n",
      "18/18 [==============================] - 2s 86ms/step - loss: 0.4155 - recall: 0.8121 - precision: 0.8418 - prc: 0.9126 - val_loss: 0.4433 - val_recall: 0.8085 - val_precision: 0.8300 - val_prc: 0.9002\n",
      "Epoch 40/50\n",
      "18/18 [==============================] - 2s 86ms/step - loss: 0.4155 - recall: 0.8121 - precision: 0.8418 - prc: 0.9126 - val_loss: 0.4433 - val_recall: 0.8085 - val_precision: 0.8300 - val_prc: 0.9002\n",
      "Epoch 41/50\n",
      "18/18 [==============================] - 2s 85ms/step - loss: 0.4155 - recall: 0.8121 - precision: 0.8418 - prc: 0.9126 - val_loss: 0.4433 - val_recall: 0.8085 - val_precision: 0.8300 - val_prc: 0.9002\n",
      "Epoch 42/50\n",
      "18/18 [==============================] - 2s 85ms/step - loss: 0.4155 - recall: 0.8121 - precision: 0.8418 - prc: 0.9126 - val_loss: 0.4433 - val_recall: 0.8085 - val_precision: 0.8300 - val_prc: 0.9002\n",
      "Epoch 43/50\n",
      "18/18 [==============================] - 1s 83ms/step - loss: 0.4155 - recall: 0.8121 - precision: 0.8418 - prc: 0.9126 - val_loss: 0.4433 - val_recall: 0.8085 - val_precision: 0.8300 - val_prc: 0.9002\n",
      "Epoch 44/50\n",
      "18/18 [==============================] - 1s 84ms/step - loss: 0.4155 - recall: 0.8121 - precision: 0.8418 - prc: 0.9126 - val_loss: 0.4433 - val_recall: 0.8085 - val_precision: 0.8300 - val_prc: 0.9002\n",
      "Epoch 45/50\n",
      "18/18 [==============================] - 1s 83ms/step - loss: 0.4155 - recall: 0.8121 - precision: 0.8418 - prc: 0.9126 - val_loss: 0.4433 - val_recall: 0.8085 - val_precision: 0.8300 - val_prc: 0.9002\n",
      "Epoch 46/50\n",
      "18/18 [==============================] - 2s 86ms/step - loss: 0.4155 - recall: 0.8121 - precision: 0.8418 - prc: 0.9126 - val_loss: 0.4433 - val_recall: 0.8085 - val_precision: 0.8300 - val_prc: 0.9002\n",
      "Epoch 47/50\n",
      "18/18 [==============================] - 2s 87ms/step - loss: 0.4155 - recall: 0.8121 - precision: 0.8418 - prc: 0.9126 - val_loss: 0.4433 - val_recall: 0.8085 - val_precision: 0.8300 - val_prc: 0.9002\n",
      "Epoch 48/50\n",
      "18/18 [==============================] - 1s 84ms/step - loss: 0.4155 - recall: 0.8121 - precision: 0.8418 - prc: 0.9126 - val_loss: 0.4433 - val_recall: 0.8085 - val_precision: 0.8300 - val_prc: 0.9002\n",
      "Epoch 49/50\n",
      "18/18 [==============================] - 2s 88ms/step - loss: 0.4155 - recall: 0.8121 - precision: 0.8418 - prc: 0.9126 - val_loss: 0.4433 - val_recall: 0.8085 - val_precision: 0.8300 - val_prc: 0.9002\n",
      "Epoch 50/50\n",
      "18/18 [==============================] - 2s 88ms/step - loss: 0.4155 - recall: 0.8121 - precision: 0.8418 - prc: 0.9126 - val_loss: 0.4433 - val_recall: 0.8085 - val_precision: 0.8300 - val_prc: 0.9002\n"
     ]
    }
   ],
   "source": [
    "try:\n",
    "  del model\n",
    "except:\n",
    "  pass\n",
    "\n",
    "batch_size=128\n",
    "init_learning_rate=0.01\n",
    "use_expo_decay=True\n",
    "use_early_stop=True\n",
    "max_epochs=100\n",
    "\n",
    "print(\"model {}\".format(mtype))\n",
    "\n",
    "if mtype == \"Conv2D\":\n",
    "  model=initialize_cnn_model(y_train)\n",
    "  max_epochs=20    \n",
    "elif mtype == \"Conv1D\" :\n",
    "  model=initialize_conv1d_model(X_train, y_train)\n",
    "  max_epochs=50\n",
    "elif mtype == \"GRU\": \n",
    "  model=initialize_rnn_model(X_train, y_train)  \n",
    "  max_epochs=50     \n",
    "else:\n",
    "  print(\"bad mtype {}\".format(mtype))\n",
    "  raise(\"err\")\n",
    "\n",
    "model.summary()  \n",
    "\n",
    "metrics = [  keras.metrics.Recall(), \n",
    "             keras.metrics.Precision(),\n",
    "             keras.metrics.AUC(name='prc', curve='PR') ]\n",
    "\n",
    "lr = ExponentialDecay(init_learning_rate, decay_steps = 50, decay_rate = 0.5) if use_expo_decay else init_learning_rate \n",
    "adam = Adam(learning_rate = lr)\n",
    "\n",
    "model.compile(loss=\"categorical_crossentropy\", optimizer=adam, metrics=metrics)\n",
    "\n",
    "def say_hello(batch, logs):\n",
    "    print(\"we're done\")\n",
    "    \n",
    "if use_early_stop : \n",
    "  cbf = EarlyStopping(patience=10, restore_best_weights = True)\n",
    "else:\n",
    "  cbf = keras.callbacks.LambdaCallback(on_train_end=say_hello)\n",
    "\n",
    "fit_start_time = time.time()\n",
    "\n",
    "history=model.fit(X_train, y_train, validation_data=(X_val, y_val), batch_size=batch_size, \n",
    "                  epochs = max_epochs, callbacks = [cbf], verbose = 1, shuffle=do_shuffle)\n",
    "\n",
    "fit_end_time = time.time()"
   ]
  },
  {
   "cell_type": "code",
   "execution_count": 15,
   "id": "f70ba3b8",
   "metadata": {
    "ExecuteTime": {
     "end_time": "2022-12-04T18:32:33.068762Z",
     "start_time": "2022-12-04T18:32:31.659604Z"
    },
    "scrolled": true
   },
   "outputs": [
    {
     "name": "stdout",
     "output_type": "stream",
     "text": [
      "105/105 [==============================] - 1s 10ms/step - loss: 0.9701 - recall: 0.7184 - precision: 0.7836 - prc: 0.8120\n",
      "['loss', 'recall', 'precision', 'prc']\n",
      "0.9701410531997681, 0.7184147834777832, 0.7835553884506226, 0.8119684457778931\n"
     ]
    }
   ],
   "source": [
    "#cnn"
   ]
  },
  {
   "cell_type": "code",
   "execution_count": 11,
   "id": "c43d0f0e",
   "metadata": {
    "ExecuteTime": {
     "end_time": "2022-12-06T01:32:33.175345Z",
     "start_time": "2022-12-06T01:32:32.459066Z"
    }
   },
   "outputs": [
    {
     "name": "stdout",
     "output_type": "stream",
     "text": [
      "60/60 [==============================] - 1s 10ms/step - loss: 0.4513 - recall: 0.8053 - precision: 0.8318 - prc: 0.8958\n",
      "['loss', 'recall', 'precision', 'prc']\n",
      "0.45131027698516846, 0.805323600769043, 0.831805944442749, 0.8957740068435669\n"
     ]
    }
   ],
   "source": [
    "res = model.evaluate(X_test, y_test)\n",
    "\n",
    "print(model.metrics_names)\n",
    "loss=res[0]\n",
    "recall=res[1]\n",
    "precision=res[2]\n",
    "prc=res[3]\n",
    "print(\"{}, {}, {}, {}\".format(res[0], res[1], res[2], res[3]))"
   ]
  },
  {
   "cell_type": "markdown",
   "id": "8033f1d1",
   "metadata": {},
   "source": [
    "#non adjusted\n",
    "executed in 862ms, finished 22:51:52 2022-12-05\n",
    "60/60 [==============================] - 1s 13ms/step - loss: 0.9563 - recall_5: 0.8027 - precision_5: 0.8185 - prc: 0.8577\n",
    "['loss', 'recall_5', 'precision_5', 'prc']\n",
    "0.9563313126564026, 0.8027139902114868, 0.8185204863548279, 0.8577141761779785"
   ]
  },
  {
   "cell_type": "code",
   "execution_count": 12,
   "id": "6dc92643",
   "metadata": {
    "ExecuteTime": {
     "end_time": "2022-12-06T01:32:54.391516Z",
     "start_time": "2022-12-06T01:32:52.619487Z"
    }
   },
   "outputs": [
    {
     "name": "stdout",
     "output_type": "stream",
     "text": [
      "60/60 [==============================] - 1s 9ms/step\n"
     ]
    },
    {
     "data": {
      "image/png": "[encoded data removed]",
      "text/plain": [
       "<Figure size 900x600 with 2 Axes>"
      ]
     },
     "metadata": {},
     "output_type": "display_data"
    }
   ],
   "source": [
    "from sklearn import metrics\n",
    "def confusion_matrix(y, y_pred, labels):    \n",
    "    matrix = metrics.confusion_matrix(y, y_pred)\n",
    "    plt.figure(figsize=(9, 6))\n",
    "    ax= sns.heatmap(matrix, cmap='coolwarm', linecolor='white', \n",
    "                    linewidths=1, xticklabels=labels, yticklabels=labels, annot=True, fmt='d')\n",
    "    #bottom, top = ax.get_ylim()\n",
    "    #ax.set_ylim(bottom + 0.5, top - 0.5)\n",
    "    plt.title('Confusion Matrix')\n",
    "    plt.ylabel('True Label')\n",
    "    plt.xlabel('Predicted Label')\n",
    "    plt.show()\n",
    "    \n",
    "y_pred_ohe = model.predict(X_test)\n",
    "y_pred_idx=np.argmax(y_pred_ohe,axis=1)\n",
    "\n",
    "#cats, miaou !!!!\n",
    "y_test_cats=encoder.inverse_transform(y_test)\n",
    "y_test_idx=[]\n",
    "for n in range(0, len(y_test_cats)): \n",
    "  y_test_idx.append(list(act_types).index(y_test_cats[n-1]))\n",
    "#y_test, y_test_cats \n",
    "\n",
    "confusion_matrix(y_test_idx, y_pred_idx, act_types)"
   ]
  },
  {
   "cell_type": "code",
   "execution_count": 13,
   "id": "811b3efa",
   "metadata": {
    "ExecuteTime": {
     "end_time": "2022-12-06T01:33:31.131009Z",
     "start_time": "2022-12-06T01:33:31.124089Z"
    }
   },
   "outputs": [],
   "source": [
    "def plot_history(history, optimizer_str, axs=None, exp_name=\"\"):\n",
    "    if axs is not None:\n",
    "        ax1, ax2 = axs\n",
    "    else:\n",
    "        f, (ax1, ax2) = plt.subplots(1, 2, figsize=(12, 4))\n",
    "    \n",
    "    if len(exp_name) > 0 and exp_name[0] != '_':\n",
    "        exp_name = '_' + exp_name\n",
    "    \n",
    "    pkey=\"precision\"; vpkey=\"val_precision\"\n",
    "    for key in history.history.keys():\n",
    "      if key.startswith(\"precision\")       : pkey=key; \n",
    "      elif key.startswith(\"val_precision\") : vpkey=key; \n",
    "        \n",
    "    ax1.plot(history.history['loss'], label = 'train' + exp_name)\n",
    "    ax1.plot(history.history['val_loss'], label = 'val' + exp_name)\n",
    "    ax1.set_ylim(0., 2.2)\n",
    "    ax1.set_title('loss')\n",
    "    ax1.legend()\n",
    "               \n",
    "    ax2.plot(history.history[pkey], label='train accuracy'  + exp_name)\n",
    "    ax2.plot(history.history[vpkey], label='val accuracy'  + exp_name)\n",
    "    ax2.set_ylim(0.25, 1.)\n",
    "    ax2.set_title('Accuracy ' + optimizer_str)\n",
    "    ax2.legend()\n",
    "    return (ax1, ax2)"
   ]
  },
  {
   "cell_type": "code",
   "execution_count": 14,
   "id": "6f90b9b7",
   "metadata": {
    "ExecuteTime": {
     "end_time": "2022-12-06T01:33:34.407511Z",
     "start_time": "2022-12-06T01:33:33.969251Z"
    }
   },
   "outputs": [
    {
     "name": "stdout",
     "output_type": "stream",
     "text": [
      "fit time with Adam optimizer 146.64734959602356 secs after 50 epochs\n"
     ]
    },
    {
     "data": {
      "text/plain": [
       "(<AxesSubplot: title={'center': 'loss'}>,\n",
       " <AxesSubplot: title={'center': 'Accuracy Adam'}>)"
      ]
     },
     "execution_count": 14,
     "metadata": {},
     "output_type": "execute_result"
    },
    {
     "data": {
      "image/png": "[encoded data removed]",
      "text/plain": [
       "<Figure size 1200x400 with 2 Axes>"
      ]
     },
     "metadata": {},
     "output_type": "display_data"
    }
   ],
   "source": [
    "optimizer_str=str(K.eval(model.optimizer)).split(\".\")[-1].split()[0]\n",
    "\n",
    "print(\"fit time with {} optimizer {} secs after {} epochs\".format(optimizer_str, \n",
    "                                            (fit_end_time - fit_start_time), len(history.epoch)))\n",
    "\n",
    "plot_history(history, optimizer_str)"
   ]
  },
  {
   "cell_type": "code",
   "execution_count": 15,
   "id": "e0711d90",
   "metadata": {
    "ExecuteTime": {
     "end_time": "2022-12-06T01:34:23.180868Z",
     "start_time": "2022-12-06T01:33:47.379629Z"
    },
    "scrolled": true
   },
   "outputs": [
    {
     "name": "stdout",
     "output_type": "stream",
     "text": [
      "save model to mlflow...\n"
     ]
    },
    {
     "name": "stderr",
     "output_type": "stream",
     "text": [
      "WARNING:absl:Found untraced functions such as _jit_compiled_convolution_op, _update_step_xla, gru_cell_layer_call_fn, gru_cell_layer_call_and_return_conditional_losses, gru_cell_1_layer_call_fn while saving (showing 5 of 6). These functions will not be directly callable after loading.\n"
     ]
    },
    {
     "name": "stdout",
     "output_type": "stream",
     "text": [
      "INFO:tensorflow:Assets written to: /tmp/tmpii6sggfu/model/data/model/assets\n"
     ]
    },
    {
     "name": "stderr",
     "output_type": "stream",
     "text": [
      "INFO:tensorflow:Assets written to: /tmp/tmpii6sggfu/model/data/model/assets\n",
      "Successfully registered model '6sensors_30_win_with_overlap_no_dups_sensor_adjusted_Adam'.\n",
      "2022/12/06 02:34:23 INFO mlflow.tracking._model_registry.client: Waiting up to 300 seconds for model version to finish creation.                     Model name: 6sensors_30_win_with_overlap_no_dups_sensor_adjusted_Adam, version 1\n"
     ]
    },
    {
     "name": "stdout",
     "output_type": "stream",
     "text": [
      "data saved to mlflow https://mlflow.lewagon.ai ut_ds_prepro_ak 6sensors_30_win_with_overlap_no_dups_sensor_adjusted_Adam ok\n"
     ]
    },
    {
     "name": "stderr",
     "output_type": "stream",
     "text": [
      "Created version '1' of model '6sensors_30_win_with_overlap_no_dups_sensor_adjusted_Adam'.\n"
     ]
    }
   ],
   "source": [
    "import os\n",
    "import mlflow.keras\n",
    "\n",
    "set_env_manual=True\n",
    "\n",
    "if set_env_manual:\n",
    "  os.environ['MODEL_TARGET'] = \"mlflow\"\n",
    "  os.environ['MLFLOW_TRACKING_URI'] = \"https://mlflow.lewagon.ai\"\n",
    "  os.environ['MLFLOW_EXPERIMENT'] = \"ut_ds_prepro_ak\"\n",
    "  os.environ['MLFLOW_MODEL_NAME'] = id_str + \"_\" + optimizer_str\n",
    "  os.environ['MLFLOW_STAGE'] = \"staging\"   \n",
    "\n",
    "model_taget=os.environ.get(\"MODEL_TARGET\")\n",
    "\n",
    "if model_taget is None : model_taget=\"\"\n",
    "\n",
    "params = dict( sampling=sampling,\n",
    "               win_len=win_len,\n",
    "               overlap=overlap,\n",
    "               overlap_len=overlap_len,\n",
    "               drop_dups=drop_dups,\n",
    "               n_actvities=len(act_types),\n",
    "              \n",
    "               model_type=mtype,\n",
    "               optimizer=optimizer_str, \n",
    "               batch_size=batch_size,\n",
    "               learning_rate=init_learning_rate,\n",
    "               use_expo_decay=use_expo_decay,\n",
    "               use_early_stop=use_early_stop)\n",
    "\n",
    "metrics = dict(loss=loss, precision=precision, recall=recall, prc=prc )\n",
    "\n",
    "if model_taget == \"local\" : \n",
    "   if save_model : \n",
    "      model.save(\"model_\"+id_str)  \n",
    "      print(\"model saved locally in {} dir\".format(model_complexity))\n",
    "   else:\n",
    "      print(\"model is not saved\")\n",
    "elif model_taget == \"mlflow\" :\n",
    "   try:\n",
    "        print(\"save model to mlflow...\")\n",
    "\n",
    "        mlflow_tracking_uri = os.environ.get(\"MLFLOW_TRACKING_URI\")\n",
    "        mlflow_experiment = os.environ.get(\"MLFLOW_EXPERIMENT\")\n",
    "        mlflow_model_name = os.environ.get(\"MLFLOW_MODEL_NAME\")\n",
    "        \n",
    "        if mlflow_tracking_uri != \"\" and mlflow_experiment != \"\" and mlflow_model_name != \"\" :\n",
    "            mlflow.set_tracking_uri(mlflow_tracking_uri)\n",
    "            mlflow.set_experiment(experiment_name=mlflow_experiment)\n",
    "\n",
    "            with mlflow.start_run():                       \n",
    "              if params is not None:\n",
    "                  mlflow.log_params(params)\n",
    "\n",
    "              if metrics is not None:\n",
    "                  mlflow.log_metrics(metrics)\n",
    "\n",
    "              if model is not None:\n",
    "                  mlflow.keras.log_model(model, artifact_path=\"model\",\n",
    "                                         registered_model_name=mlflow_model_name)\n",
    "\n",
    "            print(\"data saved to mlflow {} {} {} ok\".format(mlflow_tracking_uri, mlflow_experiment, mlflow_model_name))\n",
    "        else:\n",
    "            print(\"mlflow env vars are missing or undefined...\")\n",
    "   except Exception as err:      \n",
    "     print(\"error {} while saving model to mlflow\".format(str(err)))"
   ]
  }
 ],
 "metadata": {
  "kernelspec": {
   "display_name": "Python 3 (ipykernel)",
   "language": "python",
   "name": "python3"
  },
  "language_info": {
   "codemirror_mode": {
    "name": "ipython",
    "version": 3
   },
   "file_extension": ".py",
   "mimetype": "text/x-python",
   "name": "python",
   "nbconvert_exporter": "python",
   "pygments_lexer": "ipython3",
   "version": "3.10.6"
  },
  "toc": {
   "base_numbering": 1,
   "nav_menu": {},
   "number_sections": true,
   "sideBar": true,
   "skip_h1_title": false,
   "title_cell": "Table of Contents",
   "title_sidebar": "Contents",
   "toc_cell": false,
   "toc_position": {},
   "toc_section_display": true,
   "toc_window_display": false
  }
 },
 "nbformat": 4,
 "nbformat_minor": 5
}
